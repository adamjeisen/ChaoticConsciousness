{
 "cells": [
  {
   "cell_type": "code",
   "execution_count": 1,
   "id": "d3791d56-dd52-4a1d-ad0b-6ef68c0f9d00",
   "metadata": {},
   "outputs": [],
   "source": [
    "%load_ext autoreload"
   ]
  },
  {
   "cell_type": "code",
   "execution_count": 48,
   "id": "c3b1c9af-d103-4a81-b3f7-315b21991620",
   "metadata": {},
   "outputs": [],
   "source": [
    "%autoreload 2\n",
    "\n",
    "from copy import deepcopy\n",
    "import logging\n",
    "from matplotlib import font_manager\n",
    "from matplotlib.cm import get_cmap, ScalarMappable\n",
    "from matplotlib.colors import Normalize\n",
    "import matplotlib.pyplot as plt\n",
    "import pandas as pd\n",
    "import scipy\n",
    "from sklearn.metrics import r2_score\n",
    "from spynal.spikes import density\n",
    "import sys\n",
    "\n",
    "sys.path.append('..')\n",
    "from data_utils import *\n",
    "\n",
    "sys.path.append('/om2/user/eisenaj/code/DeLASE')\n",
    "from delase import *\n",
    "\n",
    "plt.style.use('../sci_style.py')\n",
    "font_path = \"/om2/user/eisenaj/miniforge3/envs/communication-transformer/fonts/arial.ttf\"\n",
    "font_manager.fontManager.addfont(font_path)\n",
    "prop = font_manager.FontProperties(fname=font_path)"
   ]
  },
  {
   "cell_type": "code",
   "execution_count": 3,
   "id": "358f81e6-46d4-475c-8d3e-3a8b78e9e228",
   "metadata": {},
   "outputs": [],
   "source": [
    "img_save_dir = \"/scratch2/weka/millerlab/eisenaj/ChaoticConsciousness/images\"\n",
    "data_save_dir = \"/scratch2/weka/millerlab/eisenaj/ChaoticConsciousness/figure_data\""
   ]
  },
  {
   "cell_type": "markdown",
   "id": "95f1f269-c701-4db7-b9a2-788594d2e5a3",
   "metadata": {},
   "source": [
    "# Load Data"
   ]
  },
  {
   "cell_type": "code",
   "execution_count": 4,
   "id": "51cb392f-fb32-44f8-b4cd-cab0f1b4284e",
   "metadata": {},
   "outputs": [],
   "source": [
    "# # session = 'Mary-Anesthesia-20160912-02'\n",
    "# session = 'MrJones-Anesthesia-20160109-01'\n",
    "# # session = 'Mary-Anesthesia-20160826-02'\n",
    "# # session = 'MrJones-Anesthesia-20160107-01'\n",
    "# # session = 'Mary-Anesthesia-20160822-02'\n",
    "# # session = 'MrJones-Anesthesia-20160113-01'\n",
    "# # session = 'Mary-Anesthesia-20160809-01'\n",
    "# # session = 'MrJones-Anesthesia-20160121-01'\n",
    "# # session = 'Mary-Anesthesia-20160831-02'\n",
    "# # session = 'MrJones-Anesthesia-20160105-01'\n",
    "\n",
    "# # session_list = ['Mary-Anesthesia-20160912-02',\n",
    "# # 'MrJones-Anesthesia-20160109-01',\n",
    "# # 'Mary-Anesthesia-20160826-02',\n",
    "# # 'MrJones-Anesthesia-20160107-01']\n",
    "\n",
    "# max_freq = 500\n",
    "# max_unstable_freq = 125\n",
    "norm = False\n",
    "\n",
    "results_dir = '/scratch2/weka/millerlab/eisenaj/ChaoticConsciousness/session_results'"
   ]
  },
  {
   "cell_type": "code",
   "execution_count": 5,
   "id": "2959bec8-91b4-4077-ad85-857f4cba934b",
   "metadata": {},
   "outputs": [],
   "source": [
    "session = 'MrJones-Anesthesia-20160109-01'\n",
    "# session = 'Mary-Anesthesia-20160912-02'\n",
    "results_dir = '/scratch2/weka/millerlab/eisenaj/ChaoticConsciousness/session_results'"
   ]
  },
  {
   "cell_type": "code",
   "execution_count": 6,
   "id": "17b5659a-24b4-4b33-9da6-8b6213a620ab",
   "metadata": {},
   "outputs": [],
   "source": [
    "all_data_dir = '/scratch2/weka/millerlab/eisenaj/datasets/anesthesia/mat'\n",
    "data_class = get_data_class(session, all_data_dir)\n",
    "\n",
    "os.environ[\"HDF5_USE_FILE_LOCKING\"] = \"FALSE\"\n",
    "# variables = ['electrodeInfo', 'lfpSchema', 'sessionInfo', 'trialInfo', 'unitInfo']\n",
    "# session_vars, T, N, dt = load_session_data(session, all_data_dir, variables, data_class=data_class, verbose=False)\n",
    "# electrode_info, lfp_schema, session_info, trial_info, unit_info = session_vars['electrodeInfo'], session_vars['lfpSchema'], session_vars['sessionInfo'], session_vars['trialInfo'], session_vars['unitInfo']\n",
    "\n",
    "variables = ['electrodeInfo', 'lfpSchema', 'sessionInfo', 'spikeTimes', 'trialInfo', 'unitInfo']\n",
    "session_vars, T, N, dt = load_session_data(session, all_data_dir, variables, data_class=data_class, verbose=False)\n",
    "electrode_info, lfp_schema, session_info, spike_times, trial_info, unit_info = session_vars['electrodeInfo'], session_vars['lfpSchema'], session_vars['sessionInfo'], session_vars['spikeTimes'], session_vars['trialInfo'], session_vars['unitInfo']"
   ]
  },
  {
   "cell_type": "code",
   "execution_count": 7,
   "id": "ab5cb475-0fc2-45ca-b4b5-fa85e4a376b5",
   "metadata": {},
   "outputs": [],
   "source": [
    "eyes_open = session_info['eyesOpen'][-1] if isinstance(session_info['eyesOpen'], np.ndarray) else session_info['eyesOpen']\n",
    "eyes_close = session_info['eyesClose'][-1] if isinstance(session_info['eyesClose'], np.ndarray) else session_info['eyesClose']"
   ]
  },
  {
   "cell_type": "code",
   "execution_count": 8,
   "id": "22e5c8c7-bc6e-4326-a91c-6ba570538320",
   "metadata": {},
   "outputs": [],
   "source": [
    "section_times = dict( \n",
    "        wake=(0, session_info['drugStart'][0]),\n",
    "        induction=(session_info['drugStart'][0], eyes_close),\n",
    "        anesthesia=(eyes_close, session_info['drugEnd'][1]),\n",
    "        recovery=(session_info['drugEnd'][1], T*dt)\n",
    ")\n",
    "sections = list(section_times.keys())"
   ]
  },
  {
   "cell_type": "code",
   "execution_count": 9,
   "id": "648c4cfc-2442-4820-8428-6e4ba0a33d51",
   "metadata": {},
   "outputs": [
    {
     "data": {
      "text/plain": [
       "{'wake': (0, 3548.040266666667),\n",
       " 'induction': (3548.040266666667, 4441.511966666667),\n",
       " 'anesthesia': (4441.511966666667, 7148.040266666667),\n",
       " 'recovery': (7148.040266666667, 12191.767)}"
      ]
     },
     "execution_count": 9,
     "metadata": {},
     "output_type": "execute_result"
    }
   ],
   "source": [
    "section_times"
   ]
  },
  {
   "cell_type": "code",
   "execution_count": 10,
   "id": "e956e429-6e41-406a-9244-0c8063d9f7ff",
   "metadata": {},
   "outputs": [],
   "source": [
    "tone_on = trial_info['cpt_toneOn'][~np.isnan(trial_info['cpt_toneOn'])]\n",
    "tone_off = trial_info['cpt_toneOff'][~np.isnan(trial_info['cpt_toneOff'])]"
   ]
  },
  {
   "cell_type": "markdown",
   "id": "823b1ad8-6336-4e82-be81-fed324075e85",
   "metadata": {},
   "source": [
    "# Sample Times"
   ]
  },
  {
   "cell_type": "code",
   "execution_count": 11,
   "id": "9052a8c9-fb0b-44f1-abb2-aae0e1d6a347",
   "metadata": {},
   "outputs": [],
   "source": [
    "wake_bounds = section_times['wake']\n",
    "anesthesia_bounds = (session_info['drugStart'][0] + 15*60, session_info['drugEnd'][1] - 15*60)"
   ]
  },
  {
   "cell_type": "code",
   "execution_count": 12,
   "id": "52dd5c42-2561-4a21-a04a-208425760e0d",
   "metadata": {},
   "outputs": [],
   "source": [
    "num_samples = 10"
   ]
  },
  {
   "cell_type": "code",
   "execution_count": 13,
   "id": "5d6fd4a1-ad50-4ce0-ad73-7150beffa9f8",
   "metadata": {},
   "outputs": [],
   "source": [
    "wake_times = np.sort(np.random.uniform(wake_bounds[0], wake_bounds[1], size=(num_samples,)))\n",
    "anesthesia_times = np.sort(np.random.uniform(anesthesia_bounds[0], anesthesia_bounds[1], size=(num_samples,)))"
   ]
  },
  {
   "cell_type": "code",
   "execution_count": 14,
   "id": "c0deb51c-4699-4240-a8cf-8fcf9c999f7e",
   "metadata": {},
   "outputs": [
    {
     "data": {
      "text/plain": [
       "array([ 345.797,  453.569,  599.868,  768.357, 1128.869, 1164.338,\n",
       "       1757.345, 1933.507, 3002.665, 3325.113, 4623.271, 4633.451,\n",
       "       4733.598, 4764.55 , 4912.15 , 5154.946, 5195.816, 5205.157,\n",
       "       5558.773, 5577.738])"
      ]
     },
     "execution_count": 14,
     "metadata": {},
     "output_type": "execute_result"
    }
   ],
   "source": [
    "np.array([float(f\"{t:.3f}\") for t in np.hstack([wake_times, anesthesia_times])])"
   ]
  },
  {
   "cell_type": "markdown",
   "id": "f072e030-dd3b-4730-bb71-6c36f5ed3dfe",
   "metadata": {},
   "source": [
    "# Test"
   ]
  },
  {
   "cell_type": "code",
   "execution_count": 58,
   "id": "cd3e9797-108d-42cf-b98c-4663c5b5763c",
   "metadata": {},
   "outputs": [],
   "source": [
    "grid_search_results_dir = \"/scratch2/weka/millerlab/eisenaj/ChaoticConsciousness/grid_search_results\""
   ]
  },
  {
   "cell_type": "code",
   "execution_count": 61,
   "id": "4b261669-c754-4723-a5cf-d532af2c498c",
   "metadata": {},
   "outputs": [],
   "source": [
    "grid_results = compile_grid_results(session, grid_search_results_dir, areas=['all'])"
   ]
  },
  {
   "cell_type": "code",
   "execution_count": 65,
   "id": "110bd352-8667-4af6-8a8b-c3b6d1166a02",
   "metadata": {},
   "outputs": [],
   "source": [
    "window, matrix_size, rank, _ = combine_grid_results(grid_results)"
   ]
  },
  {
   "cell_type": "code",
   "execution_count": 28,
   "id": "6262f9d8-c1e5-4c77-a97b-7966decebf08",
   "metadata": {},
   "outputs": [],
   "source": [
    "directory = pd.read_pickle(os.path.join(all_data_dir, data_class, f\"{session}_lfp_chunked_20s\", \"directory\"))"
   ]
  },
  {
   "cell_type": "code",
   "execution_count": 37,
   "id": "8e966120-54ef-477d-b0d2-707d2609562b",
   "metadata": {},
   "outputs": [],
   "source": [
    "wake_t = wake_times[-3]\n",
    "anesthesia_t = anesthesia_times[-3]"
   ]
  },
  {
   "cell_type": "code",
   "execution_count": 51,
   "id": "17daff8a-299a-40db-b386-60e00597a0b1",
   "metadata": {},
   "outputs": [],
   "source": [
    "lfp_wake = load_window_from_chunks(wake_t, wake_t + 15, directory)\n",
    "lfp_wake_rr = lfp_wake - np.expand_dims(lfp_wake.mean(axis=-1), -1)\n",
    "lfp_anesthesia = load_window_from_chunks(anesthesia_t, anesthesia_t + 15, directory)\n",
    "lfp_anesthesia_rr = lfp_anesthesia - np.expand_dims(lfp_anesthesia.mean(axis=-1), -1)"
   ]
  },
  {
   "cell_type": "code",
   "execution_count": 68,
   "id": "5aa0761f-d586-4dfa-ab16-82d551a7be84",
   "metadata": {},
   "outputs": [
    {
     "data": {
      "application/vnd.jupyter.widget-view+json": {
       "model_id": "2ad4fc75ee7c41598d1afc0a3ab41112",
       "version_major": 2,
       "version_minor": 0
      },
      "text/plain": [
       "  0%|          | 0/4 [00:00<?, ?it/s]"
      ]
     },
     "metadata": {},
     "output_type": "display_data"
    },
    {
     "name": "stdout",
     "output_type": "stream",
     "text": [
      "Computing Hankel matrix ...\n",
      "Hankel matrix computed!\n",
      "Computing SVD on Hankel matrix ...\n",
      "SVD complete!\n",
      "Computing least squares fits to HAVOK DMD ...\n",
      "Least squares complete! \n",
      "\n",
      "Computing jacobians...\n",
      "Computing DDE characteristic roots...\n",
      "Characteristic root computation complete!\n",
      "Filtering characteristic roots...\n",
      "None None\n",
      "Stability analysis complete\n",
      "Computing Hankel matrix ...\n",
      "Hankel matrix computed!\n",
      "Computing SVD on Hankel matrix ...\n",
      "SVD complete!\n",
      "Computing least squares fits to HAVOK DMD ...\n",
      "Least squares complete! \n",
      "\n",
      "Computing jacobians...\n",
      "Computing DDE characteristic roots...\n",
      "Characteristic root computation complete!\n",
      "Filtering characteristic roots...\n",
      "None None\n",
      "Stability analysis complete\n",
      "Computing Hankel matrix ...\n",
      "Hankel matrix computed!\n",
      "Computing SVD on Hankel matrix ...\n",
      "SVD complete!\n",
      "Computing least squares fits to HAVOK DMD ...\n",
      "Least squares complete! \n",
      "\n",
      "Computing jacobians...\n",
      "Computing DDE characteristic roots...\n",
      "Characteristic root computation complete!\n",
      "Filtering characteristic roots...\n",
      "None None\n",
      "Stability analysis complete\n",
      "Computing Hankel matrix ...\n",
      "Hankel matrix computed!\n",
      "Computing SVD on Hankel matrix ...\n",
      "SVD complete!\n",
      "Computing least squares fits to HAVOK DMD ...\n",
      "Least squares complete! \n",
      "\n",
      "Computing jacobians...\n",
      "Computing DDE characteristic roots...\n",
      "Characteristic root computation complete!\n",
      "Filtering characteristic roots...\n",
      "None None\n",
      "Stability analysis complete\n"
     ]
    }
   ],
   "source": [
    "device = 'cuda' if torch.cuda.is_available() else 'cpu'\n",
    "\n",
    "# --------------------\n",
    "# FIT DELASE\n",
    "# --------------------\n",
    "stability_params = []\n",
    "for sig in tqdm([lfp_wake, lfp_wake_rr, lfp_anesthesia, lfp_anesthesia_rr]):\n",
    "\n",
    "    delase = DeLASE(sig, \n",
    "        matrix_size=matrix_size,\n",
    "        rank=rank,\n",
    "        dt=dt,\n",
    "        max_freq=500,\n",
    "        max_unstable_freq=125,\n",
    "        device=device,\n",
    "        verbose=True\n",
    "        )\n",
    "    delase.fit()\n",
    "    \n",
    "    stability_params.append(delase.stability_params.cpu().numpy())"
   ]
  },
  {
   "cell_type": "code",
   "execution_count": 71,
   "id": "10b486b5-ebad-4b97-8c00-652c9df91d9c",
   "metadata": {},
   "outputs": [
    {
     "data": {
      "image/png": "[encoded data removed]",
      "text/plain": [
       "<Figure size 900x600 with 1 Axes>"
      ]
     },
     "metadata": {},
     "output_type": "display_data"
    }
   ],
   "source": [
    "for stability_param in stability_params:\n",
    "    \n",
    "    plt.plot(stability_param[:int(len(stability_param)*0.1)])"
   ]
  },
  {
   "cell_type": "code",
   "execution_count": null,
   "id": "ecbe0bf8-bc08-47f2-a5c9-2c8fb4d85668",
   "metadata": {},
   "outputs": [],
   "source": []
  }
 ],
 "metadata": {
  "kernelspec": {
   "display_name": "Python 3 (ipykernel)",
   "language": "python",
   "name": "python3"
  },
  "language_info": {
   "codemirror_mode": {
    "name": "ipython",
    "version": 3
   },
   "file_extension": ".py",
   "mimetype": "text/x-python",
   "name": "python",
   "nbconvert_exporter": "python",
   "pygments_lexer": "ipython3",
   "version": "3.11.6"
  }
 },
 "nbformat": 4,
 "nbformat_minor": 5
}
