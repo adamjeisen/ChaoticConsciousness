{
 "cells": [
  {
   "cell_type": "code",
   "execution_count": 1,
   "id": "1a4ca07d-32e5-4ddc-a786-0f21553c62ad",
   "metadata": {},
   "outputs": [],
   "source": [
    "%load_ext autoreload"
   ]
  },
  {
   "cell_type": "code",
   "execution_count": 2,
   "id": "2959a475-3726-4c92-ba38-7a7fb0cb8258",
   "metadata": {},
   "outputs": [],
   "source": [
    "%autoreload 2\n",
    "\n",
    "from copy import deepcopy\n",
    "import logging\n",
    "from matplotlib.cm import get_cmap, ScalarMappable \n",
    "from matplotlib.colors import Normalize, to_rgba\n",
    "import matplotlib.pyplot as plt\n",
    "import pandas as pd\n",
    "import scipy\n",
    "from scipy.integrate import solve_ivp\n",
    "import socket\n",
    "from sklearn.metrics import r2_score\n",
    "import sys\n",
    "\n",
    "sys.path.append('..')\n",
    "from data_utils import *\n",
    "from plot_utils import barplot_annotate_brackets\n",
    "\n",
    "plt.style.use('../sci_style.py')"
   ]
  },
  {
   "cell_type": "code",
   "execution_count": 3,
   "id": "80362ad1-fa85-49d0-b948-a09a78f8a739",
   "metadata": {},
   "outputs": [],
   "source": [
    "if socket.gethostname() == 'millerlab-endeavourOS':\n",
    "    img_save_dir = \"/home/adameisen/Documents/data/ChaoticConsciousness/images\"\n",
    "    data_save_dir = \"/home/adameisen/Documents/data/ChaoticConsciousness/figure_data\"\n",
    "else:\n",
    "    img_save_dir = \"/scratch2/weka/millerlab/eisenaj/ChaoticConsciousness/images\"\n",
    "    data_save_dir = \"/scratch2/weka/millerlab/eisenaj/ChaoticConsciousness/figure_data\""
   ]
  },
  {
   "cell_type": "markdown",
   "id": "28941366-4fe0-49bf-be95-8a8341ea822a",
   "metadata": {},
   "source": [
    "# Load Data"
   ]
  },
  {
   "cell_type": "code",
   "execution_count": 4,
   "id": "99545189-765e-42ba-9d42-c366286ab335",
   "metadata": {},
   "outputs": [],
   "source": [
    "# # session = 'Mary-Anesthesia-20160912-02'\n",
    "# # session = 'MrJones-Anesthesia-20160109-01'\n",
    "# # session = 'Mary-Anesthesia-20160826-02'\n",
    "# # session = 'MrJones-Anesthesia-20160107-01'\n",
    "# # session = 'Mary-Anesthesia-20160822-02'\n",
    "# # session = 'MrJones-Anesthesia-20160113-01'\n",
    "# # session = 'Mary-Anesthesia-20160809-01'\n",
    "# # session = 'MrJones-Anesthesia-20160121-01'\n",
    "# # session = 'Mary-Anesthesia-20160831-02'\n",
    "# session = 'MrJones-Anesthesia-20160105-01'\n",
    "\n",
    "# session_list = ['Mary-Anesthesia-20160912-02',\n",
    "# 'MrJones-Anesthesia-20160109-01',\n",
    "# 'Mary-Anesthesia-20160826-02',\n",
    "# 'MrJones-Anesthesia-20160107-01']\n",
    "\n",
    "# max_freq = 500\n",
    "# max_unstable_freq = 125\n",
    "norm = False\n",
    "subsample = 1\n",
    "\n",
    "if socket.gethostname() == 'millerlab-endeavourOS':\n",
    "    results_dir = \"/home/adameisen/Documents/data/ChaoticConsciousness/stability_results_redone/stability_results\"\n",
    "else:\n",
    "    results_dir = '/scratch2/weka/millerlab/eisenaj/ChaoticConsciousness/stability_results_redone/stability_results'\n",
    "\n",
    "session_list = os.listdir(results_dir)"
   ]
  },
  {
   "cell_type": "code",
   "execution_count": 5,
   "id": "b325ba1f-d2c5-47d3-8561-b481a1dc80bd",
   "metadata": {},
   "outputs": [
    {
     "data": {
      "application/vnd.jupyter.widget-view+json": {
       "model_id": "ed090548472646a89ec0e5ba7e64ab26",
       "version_major": 2,
       "version_minor": 0
      },
      "text/plain": [
       "  0%|          | 0/21 [00:00<?, ?it/s]"
      ]
     },
     "metadata": {},
     "output_type": "display_data"
    },
    {
     "name": "stdout",
     "output_type": "stream",
     "text": [
      "------------------------------\n",
      "SESSION = MrJones-Anesthesia-20160105-01\n",
      "------------------------------\n",
      "loading data...\n",
      "data loaded!\n",
      "loading results...\n"
     ]
    },
    {
     "data": {
      "application/vnd.jupyter.widget-view+json": {
       "model_id": "e80e59c41cc94b70b20ea7bf0a3cb1ad",
       "version_major": 2,
       "version_minor": 0
      },
      "text/plain": [
       "  0%|          | 0/4150 [00:00<?, ?it/s]"
      ]
     },
     "metadata": {},
     "output_type": "display_data"
    },
    {
     "name": "stdout",
     "output_type": "stream",
     "text": [
      "results loaded!\n",
      "------------------------------\n",
      "SESSION = Mary-Anesthesia-20160818-02\n",
      "------------------------------\n",
      "loading data...\n",
      "data loaded!\n",
      "loading results...\n"
     ]
    },
    {
     "data": {
      "application/vnd.jupyter.widget-view+json": {
       "model_id": "beb25a5bd9e9486894b73cf6664b81e1",
       "version_major": 2,
       "version_minor": 0
      },
      "text/plain": [
       "  0%|          | 0/1880 [00:00<?, ?it/s]"
      ]
     },
     "metadata": {},
     "output_type": "display_data"
    },
    {
     "name": "stdout",
     "output_type": "stream",
     "text": [
      "results loaded!\n",
      "------------------------------\n",
      "SESSION = Mary-Anesthesia-20160908-02\n",
      "------------------------------\n",
      "loading data...\n",
      "data loaded!\n",
      "loading results...\n"
     ]
    },
    {
     "data": {
      "application/vnd.jupyter.widget-view+json": {
       "model_id": "fab09f1ea10143c6805f1f2c7a427a40",
       "version_major": 2,
       "version_minor": 0
      },
      "text/plain": [
       "  0%|          | 0/2205 [00:00<?, ?it/s]"
      ]
     },
     "metadata": {},
     "output_type": "display_data"
    },
    {
     "name": "stdout",
     "output_type": "stream",
     "text": [
      "results loaded!\n",
      "------------------------------\n",
      "SESSION = Mary-Anesthesia-20160902-02\n",
      "------------------------------\n",
      "loading data...\n",
      "data loaded!\n",
      "loading results...\n"
     ]
    },
    {
     "data": {
      "application/vnd.jupyter.widget-view+json": {
       "model_id": "c40eb5924cc54a018bff58e9a84021fe",
       "version_major": 2,
       "version_minor": 0
      },
      "text/plain": [
       "  0%|          | 0/2295 [00:00<?, ?it/s]"
      ]
     },
     "metadata": {},
     "output_type": "display_data"
    },
    {
     "name": "stdout",
     "output_type": "stream",
     "text": [
      "results loaded!\n",
      "------------------------------\n",
      "SESSION = MrJones-Anesthesia-20160210-01\n",
      "------------------------------\n",
      "loading data...\n",
      "data loaded!\n",
      "loading results...\n"
     ]
    },
    {
     "data": {
      "application/vnd.jupyter.widget-view+json": {
       "model_id": "27ce52b02e15473491906cba3edf3a16",
       "version_major": 2,
       "version_minor": 0
      },
      "text/plain": [
       "  0%|          | 0/3245 [00:00<?, ?it/s]"
      ]
     },
     "metadata": {},
     "output_type": "display_data"
    },
    {
     "name": "stdout",
     "output_type": "stream",
     "text": [
      "results loaded!\n",
      "------------------------------\n",
      "SESSION = MrJones-Anesthesia-20160107-01\n",
      "------------------------------\n",
      "loading data...\n",
      "data loaded!\n",
      "loading results...\n"
     ]
    },
    {
     "data": {
      "application/vnd.jupyter.widget-view+json": {
       "model_id": "3196d70294c642f3b2e8b2308799c372",
       "version_major": 2,
       "version_minor": 0
      },
      "text/plain": [
       "  0%|          | 0/4355 [00:00<?, ?it/s]"
      ]
     },
     "metadata": {},
     "output_type": "display_data"
    },
    {
     "name": "stdout",
     "output_type": "stream",
     "text": [
      "results loaded!\n",
      "------------------------------\n",
      "SESSION = MrJones-Anesthesia-20160206-01\n",
      "------------------------------\n",
      "loading data...\n",
      "data loaded!\n",
      "loading results...\n"
     ]
    },
    {
     "data": {
      "application/vnd.jupyter.widget-view+json": {
       "model_id": "4d77b9d393fc4a799680a9128411ab27",
       "version_major": 2,
       "version_minor": 0
      },
      "text/plain": [
       "  0%|          | 0/3550 [00:00<?, ?it/s]"
      ]
     },
     "metadata": {},
     "output_type": "display_data"
    },
    {
     "name": "stdout",
     "output_type": "stream",
     "text": [
      "results loaded!\n",
      "------------------------------\n",
      "SESSION = MrJones-Anesthesia-20160109-01\n",
      "------------------------------\n",
      "loading data...\n",
      "data loaded!\n",
      "loading results...\n"
     ]
    },
    {
     "data": {
      "application/vnd.jupyter.widget-view+json": {
       "model_id": "0bc5feb8b0614031a43a8341ccb4bd10",
       "version_major": 2,
       "version_minor": 0
      },
      "text/plain": [
       "  0%|          | 0/4055 [00:00<?, ?it/s]"
      ]
     },
     "metadata": {},
     "output_type": "display_data"
    },
    {
     "name": "stdout",
     "output_type": "stream",
     "text": [
      "results loaded!\n",
      "------------------------------\n",
      "SESSION = Mary-Anesthesia-20160916-02\n",
      "------------------------------\n",
      "loading data...\n",
      "data loaded!\n",
      "loading results...\n"
     ]
    },
    {
     "data": {
      "application/vnd.jupyter.widget-view+json": {
       "model_id": "9ff1a908310d4ce09c9772d3ff00cbf0",
       "version_major": 2,
       "version_minor": 0
      },
      "text/plain": [
       "  0%|          | 0/2150 [00:00<?, ?it/s]"
      ]
     },
     "metadata": {},
     "output_type": "display_data"
    },
    {
     "name": "stdout",
     "output_type": "stream",
     "text": [
      "results loaded!\n",
      "------------------------------\n",
      "SESSION = Mary-Anesthesia-20160912-02\n",
      "------------------------------\n",
      "loading data...\n",
      "data loaded!\n",
      "loading results...\n"
     ]
    },
    {
     "data": {
      "application/vnd.jupyter.widget-view+json": {
       "model_id": "3a63e75a249444319d49bc0800625b17",
       "version_major": 2,
       "version_minor": 0
      },
      "text/plain": [
       "  0%|          | 0/2160 [00:00<?, ?it/s]"
      ]
     },
     "metadata": {},
     "output_type": "display_data"
    },
    {
     "name": "stdout",
     "output_type": "stream",
     "text": [
      "results loaded!\n",
      "------------------------------\n",
      "SESSION = Mary-Anesthesia-20160809-01\n",
      "------------------------------\n",
      "loading data...\n",
      "data loaded!\n",
      "loading results...\n"
     ]
    },
    {
     "data": {
      "application/vnd.jupyter.widget-view+json": {
       "model_id": "8d993ebcb7b948ce86e19cf55dd4f7e0",
       "version_major": 2,
       "version_minor": 0
      },
      "text/plain": [
       "  0%|          | 0/2355 [00:00<?, ?it/s]"
      ]
     },
     "metadata": {},
     "output_type": "display_data"
    },
    {
     "name": "stdout",
     "output_type": "stream",
     "text": [
      "results loaded!\n",
      "------------------------------\n",
      "SESSION = Mary-Anesthesia-20160826-02\n",
      "------------------------------\n",
      "loading data...\n",
      "data loaded!\n",
      "loading results...\n"
     ]
    },
    {
     "data": {
      "application/vnd.jupyter.widget-view+json": {
       "model_id": "9cc7a6dc33e34ae99db461de871e8199",
       "version_major": 2,
       "version_minor": 0
      },
      "text/plain": [
       "  0%|          | 0/2245 [00:00<?, ?it/s]"
      ]
     },
     "metadata": {},
     "output_type": "display_data"
    },
    {
     "name": "stdout",
     "output_type": "stream",
     "text": [
      "results loaded!\n",
      "------------------------------\n",
      "SESSION = MrJones-Anesthesia-20160113-01\n",
      "------------------------------\n",
      "loading data...\n",
      "data loaded!\n",
      "loading results...\n"
     ]
    },
    {
     "data": {
      "application/vnd.jupyter.widget-view+json": {
       "model_id": "8ebd186beb624e88865312785da6342f",
       "version_major": 2,
       "version_minor": 0
      },
      "text/plain": [
       "  0%|          | 0/3485 [00:00<?, ?it/s]"
      ]
     },
     "metadata": {},
     "output_type": "display_data"
    },
    {
     "name": "stdout",
     "output_type": "stream",
     "text": [
      "results loaded!\n",
      "------------------------------\n",
      "SESSION = MrJones-Anesthesia-20160123-01\n",
      "------------------------------\n",
      "loading data...\n",
      "data loaded!\n",
      "loading results...\n"
     ]
    },
    {
     "data": {
      "application/vnd.jupyter.widget-view+json": {
       "model_id": "d28dbff86641478ab21974df907870ab",
       "version_major": 2,
       "version_minor": 0
      },
      "text/plain": [
       "  0%|          | 0/3880 [00:00<?, ?it/s]"
      ]
     },
     "metadata": {},
     "output_type": "display_data"
    },
    {
     "name": "stdout",
     "output_type": "stream",
     "text": [
      "results loaded!\n",
      "------------------------------\n",
      "SESSION = Mary-Anesthesia-20160822-02\n",
      "------------------------------\n",
      "loading data...\n",
      "data loaded!\n",
      "loading results...\n"
     ]
    },
    {
     "data": {
      "application/vnd.jupyter.widget-view+json": {
       "model_id": "112a7687adb44386b58db99e66afd692",
       "version_major": 2,
       "version_minor": 0
      },
      "text/plain": [
       "  0%|          | 0/2010 [00:00<?, ?it/s]"
      ]
     },
     "metadata": {},
     "output_type": "display_data"
    },
    {
     "name": "stdout",
     "output_type": "stream",
     "text": [
      "results loaded!\n",
      "------------------------------\n",
      "SESSION = Mary-Anesthesia-20160914-02\n",
      "------------------------------\n",
      "loading data...\n",
      "data loaded!\n",
      "loading results...\n"
     ]
    },
    {
     "data": {
      "application/vnd.jupyter.widget-view+json": {
       "model_id": "fcb34d0022f747e89f1617a40e920a88",
       "version_major": 2,
       "version_minor": 0
      },
      "text/plain": [
       "  0%|          | 0/2060 [00:00<?, ?it/s]"
      ]
     },
     "metadata": {},
     "output_type": "display_data"
    },
    {
     "name": "stdout",
     "output_type": "stream",
     "text": [
      "results loaded!\n",
      "------------------------------\n",
      "SESSION = Mary-Anesthesia-20160831-02\n",
      "------------------------------\n",
      "loading data...\n",
      "data loaded!\n",
      "loading results...\n"
     ]
    },
    {
     "data": {
      "application/vnd.jupyter.widget-view+json": {
       "model_id": "5657bd99d04a4262a727f552c27574f6",
       "version_major": 2,
       "version_minor": 0
      },
      "text/plain": [
       "  0%|          | 0/2060 [00:00<?, ?it/s]"
      ]
     },
     "metadata": {},
     "output_type": "display_data"
    },
    {
     "name": "stdout",
     "output_type": "stream",
     "text": [
      "results loaded!\n",
      "------------------------------\n",
      "SESSION = MrJones-Anesthesia-20160301-01\n",
      "------------------------------\n",
      "loading data...\n",
      "data loaded!\n",
      "loading results...\n"
     ]
    },
    {
     "data": {
      "application/vnd.jupyter.widget-view+json": {
       "model_id": "cf3584c0d18244a58252fc4e130bb95f",
       "version_major": 2,
       "version_minor": 0
      },
      "text/plain": [
       "  0%|          | 0/3295 [00:00<?, ?it/s]"
      ]
     },
     "metadata": {},
     "output_type": "display_data"
    },
    {
     "name": "stdout",
     "output_type": "stream",
     "text": [
      "results loaded!\n",
      "------------------------------\n",
      "SESSION = MrJones-Anesthesia-20160201-01\n",
      "------------------------------\n",
      "loading data...\n",
      "data loaded!\n",
      "loading results...\n"
     ]
    },
    {
     "data": {
      "application/vnd.jupyter.widget-view+json": {
       "model_id": "59ff2b69df4b4065ab09ae92c0b6d44b",
       "version_major": 2,
       "version_minor": 0
      },
      "text/plain": [
       "  0%|          | 0/3385 [00:00<?, ?it/s]"
      ]
     },
     "metadata": {},
     "output_type": "display_data"
    },
    {
     "name": "stdout",
     "output_type": "stream",
     "text": [
      "results loaded!\n",
      "------------------------------\n",
      "SESSION = MrJones-Anesthesia-20160125-01\n",
      "------------------------------\n",
      "loading data...\n",
      "data loaded!\n",
      "loading results...\n"
     ]
    },
    {
     "data": {
      "application/vnd.jupyter.widget-view+json": {
       "model_id": "f167037677bd4de4b9d5461e2747e99c",
       "version_major": 2,
       "version_minor": 0
      },
      "text/plain": [
       "  0%|          | 0/3355 [00:00<?, ?it/s]"
      ]
     },
     "metadata": {},
     "output_type": "display_data"
    },
    {
     "name": "stdout",
     "output_type": "stream",
     "text": [
      "results loaded!\n",
      "------------------------------\n",
      "SESSION = MrJones-Anesthesia-20160121-01\n",
      "------------------------------\n",
      "loading data...\n",
      "data loaded!\n",
      "loading results...\n"
     ]
    },
    {
     "data": {
      "application/vnd.jupyter.widget-view+json": {
       "model_id": "6486b4f3ac034f6eaf5495eeaaacd8d2",
       "version_major": 2,
       "version_minor": 0
      },
      "text/plain": [
       "  0%|          | 0/3365 [00:00<?, ?it/s]"
      ]
     },
     "metadata": {},
     "output_type": "display_data"
    },
    {
     "name": "stdout",
     "output_type": "stream",
     "text": [
      "results loaded!\n"
     ]
    }
   ],
   "source": [
    "session_rets = {}\n",
    "for session in tqdm(session_list):\n",
    "    print(\"-\"*30)\n",
    "    print(f'SESSION = {session}')\n",
    "    print(\"-\"*30)\n",
    "    session_rets[session] = {}\n",
    "    # ---------------------------------\n",
    "    # LOAD DATA\n",
    "    # --------------------------------\n",
    "    print(\"loading data...\")\n",
    "    if socket.gethostname() == 'millerlab-endeavourOS':\n",
    "        all_data_dir = \"/home/adameisen/millerdata/data/common/datasets/anesthesia/mat\"\n",
    "    else:\n",
    "        all_data_dir = '/scratch2/weka/millerlab/eisenaj/datasets/anesthesia/mat'\n",
    "    data_class = get_data_class(session, all_data_dir)\n",
    "\n",
    "    os.environ[\"HDF5_USE_FILE_LOCKING\"] = \"FALSE\"\n",
    "    # variables = ['electrodeInfo', 'lfp', 'lfpSchema', 'sessionInfo', 'trialInfo', 'unitInfo']\n",
    "    # session_vars, T, N, dt = load_session_data(session, all_data_dir, variables, data_class=data_class, verbose=False)\n",
    "    # electrode_info, lfp, lfp_schema, session_info, trial_info, unit_info = session_vars['electrodeInfo'], session_vars['lfp'], session_vars['lfpSchema'], session_vars['sessionInfo'], session_vars['trialInfo'], session_vars['unitInfo']\n",
    "\n",
    "    variables = ['electrodeInfo', 'lfpSchema', 'sessionInfo', 'trialInfo', 'unitInfo']\n",
    "    session_vars, T, N, dt = load_session_data(session, all_data_dir, variables, data_class=data_class, verbose=False)\n",
    "    electrode_info, lfp_schema, session_info, trial_info, unit_info = session_vars['electrodeInfo'], session_vars['lfpSchema'], session_vars['sessionInfo'], session_vars['trialInfo'], session_vars['unitInfo']\n",
    "\n",
    "    eyes_open = session_info['eyesOpen'][-1] if isinstance(session_info['eyesOpen'], np.ndarray) else session_info['eyesOpen']\n",
    "    eyes_close = session_info['eyesClose'][-1] if isinstance(session_info['eyesClose'], np.ndarray) else session_info['eyesClose']\n",
    "\n",
    "    section_times = dict( \n",
    "            wake=(0, session_info['drugStart'][0]),\n",
    "            induction=(session_info['drugStart'][0], eyes_close),\n",
    "            anesthesia=(eyes_close, session_info['drugEnd'][1]),\n",
    "            recovery=(session_info['drugEnd'][1], T*dt)\n",
    "    )\n",
    "    sections = list(section_times.keys())\n",
    "    \n",
    "    session_rets[session]['electrode_info'] = electrode_info\n",
    "    session_rets[session]['session_info'] = session_info\n",
    "    session_rets[session]['eyes_open'] = eyes_open\n",
    "    session_rets[session]['eyes_close'] = eyes_close\n",
    "    session_rets[session]['section_times'] = section_times\n",
    "    session_rets[session]['sections'] = sections\n",
    "    \n",
    "    print(\"data loaded!\")\n",
    "    print(\"loading results...\")\n",
    "    norm_dir = \"NORMED\" if norm else \"NOT_NORMED\"\n",
    "    subsample_dir = f\"SUBSAMPLE_{subsample}\" if \"redone\" in results_dir else \"\"\n",
    "    total = 0\n",
    "    for area in os.listdir(os.path.join(results_dir, session, norm_dir, subsample_dir)):\n",
    "        total += len(os.listdir(os.path.join(results_dir, session, norm_dir, subsample_dir, area)))\n",
    "    \n",
    "    results_dict = {}\n",
    "    iterator = tqdm(total=total)\n",
    "    for area in os.listdir(os.path.join(results_dir, session, norm_dir, subsample_dir)):\n",
    "        results_dict[area] = None\n",
    "        for f in os.listdir(os.path.join(results_dir, session, norm_dir, subsample_dir, area)):\n",
    "            if 'redone' in results_dir:\n",
    "                df = pd.read_pickle(os.path.join(results_dir, session, norm_dir, subsample_dir, area, f))\n",
    "                df['area'] = area\n",
    "                df['start_time'] = df['window_start']\n",
    "                df['end_time'] = df['window_end']\n",
    "                df['start_ind'] = int(df['window_start']/dt)\n",
    "                df['end_ind'] = int(df['window_end']/dt)\n",
    "                df = pd.DataFrame([df])\n",
    "\n",
    "                if results_dict[area] is None:\n",
    "                    results_dict[area] = df\n",
    "                else:\n",
    "                    results_dict[area] = pd.concat([results_dict[area], df])\n",
    "            \n",
    "            else:\n",
    "                t = float(f.split('_')[0])\n",
    "                df = pd.DataFrame(pd.read_pickle(os.path.join(results_dir, session, norm_dir, subsample_dir, area, f)))\n",
    "                if len(df) > 0:\n",
    "                    df['area'] = area\n",
    "                    df['start_time'] = t\n",
    "                    df['end_time'] = t + df.window*dt\n",
    "                    df['start_ind'] = int(t/dt)\n",
    "                    df['end_ind'] = int(t/dt) + df.window\n",
    "    \n",
    "                    if results_dict[area] is None:\n",
    "                        results_dict[area] = df\n",
    "                    else:\n",
    "                        results_dict[area] = pd.concat([results_dict[area], df])\n",
    "                else:\n",
    "                    print(f\"{area}/{f} is empty\")\n",
    "            iterator.update()\n",
    "        results_dict[area] = results_dict[area].sort_values('start_time')\n",
    "    \n",
    "    session_rets[session]['results_dict'] = results_dict\n",
    "    \n",
    "    print(\"results loaded!\")\n",
    "    iterator.close()"
   ]
  },
  {
   "cell_type": "markdown",
   "id": "3fd9653f-d51f-4bcb-a620-b34c07862f31",
   "metadata": {},
   "source": [
    "# Figure 3"
   ]
  },
  {
   "cell_type": "markdown",
   "id": "7b8584f4-6be6-4063-9d31-d38ab09dabff",
   "metadata": {},
   "source": [
    "## Prediction quality: monkeys split by monkey"
   ]
  },
  {
   "cell_type": "code",
   "execution_count": 6,
   "id": "dfd7e5c9-80f4-4d08-b7a0-29d8b0c9f755",
   "metadata": {},
   "outputs": [],
   "source": [
    "figure3_data = {}"
   ]
  },
  {
   "cell_type": "code",
   "execution_count": 7,
   "id": "4cfb8fe5-632b-45e1-80ba-22ae00c07000",
   "metadata": {},
   "outputs": [],
   "source": [
    "split_by_monkey = True\n",
    "if split_by_monkey:\n",
    "    monkeys = ['Mary', 'MrJones']\n",
    "    monkey_sessions = {monkey: [session for session in session_list if monkey in session] for monkey in monkeys}\n",
    "    session_dicts = {monkey: {session: session_rets[session] for session in monkey_sessions[monkey]} for monkey in monkeys}\n",
    "    num_sessions = {key: len(value) for key, value in monkey_sessions.items()}\n",
    "else:\n",
    "    monkeys = ['Combined']\n",
    "    monkey_sessions = {'Combined': session_list}\n",
    "    session_dicts = {'Combined': session_rets}\n",
    "    num_sessions = {key: len(value) for key, value in monkey_sessions.items()}\n",
    "\n",
    "# areas = ['all', 'vlPFC', 'FEF', '7b', 'CPB']\n",
    "areas = ['all']"
   ]
  },
  {
   "cell_type": "code",
   "execution_count": 8,
   "id": "d12947cb-4204-4175-9b88-2ec133616b85",
   "metadata": {},
   "outputs": [
    {
     "data": {
      "application/vnd.jupyter.widget-view+json": {
       "model_id": "75d4491373494ad8870624c928de6dcc",
       "version_major": 2,
       "version_minor": 0
      },
      "text/plain": [
       "  0%|          | 0/21 [00:00<?, ?it/s]"
      ]
     },
     "metadata": {},
     "output_type": "display_data"
    }
   ],
   "source": [
    "aic_vals = {}\n",
    "aic_vals_pb = {}\n",
    "aic_vals_VAR = {}\n",
    "aic_vals_VAR_small = {}\n",
    "\n",
    "mse_vals = {}\n",
    "mse_vals_pb = {}\n",
    "mse_vals_VAR = {}\n",
    "mse_vals_VAR_small = {}\n",
    "\n",
    "iterator = tqdm(total=len(session_list)*len(areas))\n",
    "\n",
    "for monkey in monkeys:\n",
    "    aic_vals[monkey] = {}\n",
    "    aic_vals_pb[monkey] = {}\n",
    "    aic_vals_VAR[monkey] = {}\n",
    "    aic_vals_VAR_small[monkey] = {}\n",
    "\n",
    "    mse_vals[monkey] = {}\n",
    "    mse_vals_pb[monkey] = {}\n",
    "    mse_vals_VAR[monkey] = {}\n",
    "    mse_vals_VAR_small[monkey] = {}\n",
    "    for area in areas:\n",
    "        aic_vals[monkey][area] = np.zeros(num_sessions[monkey])\n",
    "        aic_vals_pb[monkey][area] = np.zeros(num_sessions[monkey])\n",
    "        aic_vals_VAR[monkey][area] = np.zeros(num_sessions[monkey])\n",
    "        aic_vals_VAR_small[monkey][area] = np.zeros(num_sessions[monkey])\n",
    "\n",
    "        mse_vals[monkey][area] = np.zeros(num_sessions[monkey])\n",
    "        mse_vals_pb[monkey][area] = np.zeros(num_sessions[monkey])\n",
    "        mse_vals_VAR[monkey][area] = np.zeros(num_sessions[monkey])\n",
    "        mse_vals_VAR_small[monkey][area] = np.zeros(num_sessions[monkey])\n",
    "        for session_ind, (session, session_dict) in enumerate(session_dicts[monkey].items()):\n",
    "        \n",
    "            aic_vals[monkey][area][session_ind] = session_dicts[monkey][session]['results_dict'][area].aic_val.mean()\n",
    "            aic_vals_pb[monkey][area][session_ind] = session_dicts[monkey][session]['results_dict'][area].aic_val_pb.mean()\n",
    "            aic_vals_VAR[monkey][area][session_ind] = session_dicts[monkey][session]['results_dict'][area].aic_val_VAR.mean()\n",
    "            aic_vals_VAR_small[monkey][area][session_ind] = session_dicts[monkey][session]['results_dict'][area].aic_val_VAR_small.mean()\n",
    "\n",
    "            mse_vals[monkey][area][session_ind] = session_dicts[monkey][session]['results_dict'][area].mse_val.mean()\n",
    "            mse_vals_pb[monkey][area][session_ind] = session_dicts[monkey][session]['results_dict'][area].mse_val_pb.mean()\n",
    "            mse_vals_VAR[monkey][area][session_ind] = session_dicts[monkey][session]['results_dict'][area].mse_val_VAR.mean()\n",
    "            mse_vals_VAR_small[monkey][area][session_ind] = session_dicts[monkey][session]['results_dict'][area].mse_val_VAR_small.mean()\n",
    "\n",
    "            iterator.update()\n",
    "iterator.close()\n",
    "\n",
    "figure3_data['split_by_monkey'] = dict(\n",
    "    aic_vals=aic_vals,\n",
    "    aic_vals_pb=aic_vals_pb,\n",
    "    aic_vals_VAR=aic_vals_VAR,\n",
    "    aic_vals_VAR_small=aic_vals_VAR_small,\n",
    "    mse_vals=mse_vals,\n",
    "    mse_vals_pb=mse_vals_pb,\n",
    "    mse_vals_VAR=mse_vals_VAR,\n",
    "    mse_vals_VAR_small=mse_vals_VAR_small\n",
    ")"
   ]
  },
  {
   "cell_type": "code",
   "execution_count": 9,
   "id": "21bda93e-e7d4-459d-baf1-5feef6004b66",
   "metadata": {},
   "outputs": [],
   "source": [
    "statistical_test = scipy.stats.wilcoxon\n",
    "# statistical_test = scipy.stats.ttest_ind"
   ]
  },
  {
   "cell_type": "code",
   "execution_count": 10,
   "id": "3d24e489-5c1b-4481-bc59-f0705b4417c0",
   "metadata": {},
   "outputs": [],
   "source": [
    "model_colors = ['#BBBBBB', 'teal', 'darkturquoise', 'coral']"
   ]
  },
  {
   "cell_type": "code",
   "execution_count": 11,
   "id": "50133abf-dcef-4923-87c9-08bc2bf344c9",
   "metadata": {},
   "outputs": [
    {
     "data": {
      "image/png": "[encoded data removed]",
      "text/plain": [
       "<Figure size 1200x500 with 2 Axes>"
      ]
     },
     "metadata": {},
     "output_type": "display_data"
    }
   ],
   "source": [
    "tick_fontsize = 15\n",
    "title_fontsize = 18\n",
    "ylabel_fontsize = 15\n",
    "p_fontsize=14\n",
    "\n",
    "fig, axs = plt.subplots(1, 2, figsize=(12, 5), sharey=True)\n",
    "for i, monkey in enumerate(monkeys):\n",
    "    for j, area in enumerate(['all']):\n",
    "        ax = axs[i]   \n",
    "        # bar_labels = ['persistence\\nbaseline', 'VAR-small', 'VAR-large', 'HAVOK']\n",
    "        bars = [0, 1, 2, 3]\n",
    "        # heights = np.array(mean_vals)\n",
    "        bar_labels = [\"persistence\\nbaseline\", \"VAR-small\", \"VAR-large\", \"HAVOK\"]\n",
    "        heights = [aic_vals_pb[monkey][area].mean(),  aic_vals_VAR_small[monkey][area].mean(), aic_vals_VAR[monkey][area].mean(), aic_vals[monkey][area].mean()]\n",
    "        se_vals = [aic_vals_pb[monkey][area].std()/np.sqrt(num_sessions[monkey]),  aic_vals_VAR_small[monkey][area].std()/np.sqrt(num_sessions[monkey]), aic_vals_VAR[monkey][area].std()/np.sqrt(num_sessions[monkey]), aic_vals[monkey][area].std()/np.sqrt(num_sessions[monkey])]\n",
    "        ax.bar(bars, heights, color=model_colors, yerr=se_vals)\n",
    "        # data = np.vstack((aic_vals_pb[monkey][area],  aic_vals_VAR_small[monkey][area], aic_vals_VAR[monkey][area], aic_vals[monkey][area]))\n",
    "        # bplot = ax.boxplot(data.T, patch_artist=True)\n",
    "        # for patch, color in zip(bplot['boxes'], model_colors):\n",
    "        #     patch.set_facecolor(color)\n",
    "        ax.set_xticks(bars)\n",
    "        ax.set_xticklabels(bar_labels)\n",
    "        # ax.set_yscale('log')\n",
    "        \n",
    "        ax.spines[['right', 'top']].set_visible(False)\n",
    "        ax.xaxis.set_ticks_position('bottom')\n",
    "        ax.yaxis.set_ticks_position('left')\n",
    "        \n",
    "        if j == 0:\n",
    "            ax.set_title(f\"NHP {i + 1}\", fontsize=title_fontsize)\n",
    "            \n",
    "        if i == 0:\n",
    "            ax.set_ylabel(f\"AIC (Test Data)\", fontsize=ylabel_fontsize)\n",
    "        ax.tick_params(labelsize=tick_fontsize)\n",
    "    \n",
    "        dh = 0.05\n",
    "        gap = 0.1\n",
    "        barh = 0.02\n",
    "        p = statistical_test(aic_vals_pb[monkey][area], aic_vals_VAR_small[monkey][area], alternative='less').pvalue\n",
    "        barplot_annotate_brackets(0, 1, p, bars, heights, yerr=se_vals, scale_by_height=False, ax=ax, it=0, dh=dh, barh=barh, gap=gap, fs=p_fontsize, below=True)\n",
    "        p = statistical_test(aic_vals_pb[monkey][area], aic_vals_VAR[monkey][area], alternative='less').pvalue\n",
    "        barplot_annotate_brackets(0, 2, p, bars, heights, yerr=se_vals, scale_by_height=False, ax=ax, it=1, dh=dh, barh=barh, gap=gap, fs=p_fontsize, below=True)\n",
    "        p = statistical_test(aic_vals_pb[monkey][area], aic_vals[monkey][area], alternative='greater').pvalue\n",
    "        barplot_annotate_brackets(0, 3, p, bars, heights, yerr=se_vals, scale_by_height=False, ax=ax, it=1, dh=dh, barh=barh, gap=gap, fs=p_fontsize, below=True)\n",
    "        \n",
    "        ax.axhline(aic_vals_pb[monkey][area].mean(), linestyle='--', c='k', linewidth=3, alpha=0.4)\n",
    "        \n",
    "plt.tight_layout()\n",
    "plt.savefig(os.path.join(img_save_dir, \"SI\", \"aic-prediction-avg.pdf\"), bbox_inches='tight', transparent=True)\n",
    "plt.show()"
   ]
  },
  {
   "cell_type": "code",
   "execution_count": 12,
   "id": "1b9358a5-5613-4274-9aff-e05919cac837",
   "metadata": {},
   "outputs": [
    {
     "data": {
      "image/png": "[encoded data removed]",
      "text/plain": [
       "<Figure size 1200x500 with 2 Axes>"
      ]
     },
     "metadata": {},
     "output_type": "display_data"
    }
   ],
   "source": [
    "tick_fontsize = 15\n",
    "title_fontsize = 18\n",
    "ylabel_fontsize = 15\n",
    "p_fontsize=14\n",
    "\n",
    "fig, axs = plt.subplots(1, 2, figsize=(12, 5), sharey=True)\n",
    "for i, monkey in enumerate(monkeys):\n",
    "    for j, area in enumerate(['all']):\n",
    "        ax = axs[i]   \n",
    "        # bar_labels = ['persistence\\nbaseline', 'VAR-small', 'VAR-large', 'HAVOK']\n",
    "        bars = [0, 1, 2, 3]\n",
    "        # heights = np.array(mean_vals)\n",
    "        bar_labels = [\"persistence\\nbaseline\", \"VAR-small\", \"VAR-large\", \"HAVOK\"]\n",
    "        heights = [mse_vals_pb[monkey][area].mean(),  mse_vals_VAR_small[monkey][area].mean(), mse_vals_VAR[monkey][area].mean(), mse_vals[monkey][area].mean()]\n",
    "        se_vals = [mse_vals_pb[monkey][area].std()/np.sqrt(num_sessions[monkey]),  mse_vals_VAR_small[monkey][area].std()/np.sqrt(num_sessions[monkey]), mse_vals_VAR[monkey][area].std()/np.sqrt(num_sessions[monkey]), mse_vals[monkey][area].std()/np.sqrt(num_sessions[monkey])]\n",
    "        ax.bar(bars, heights, color=model_colors, yerr=se_vals)\n",
    "        # data = np.vstack((aic_vals_pb[monkey][area],  aic_vals_VAR_small[monkey][area], aic_vals_VAR[monkey][area], aic_vals[monkey][area]))\n",
    "        # bplot = ax.boxplot(data.T, patch_artist=True)\n",
    "        # for patch, color in zip(bplot['boxes'], model_colors):\n",
    "        #     patch.set_facecolor(color)\n",
    "        ax.set_xticks(bars)\n",
    "        ax.set_xticklabels(bar_labels)\n",
    "        ax.set_yscale('log')\n",
    "        \n",
    "        ax.spines[['right', 'top']].set_visible(False)\n",
    "        ax.xaxis.set_ticks_position('bottom')\n",
    "        ax.yaxis.set_ticks_position('left')\n",
    "        \n",
    "        if j == 0:\n",
    "            ax.set_title(f\"NHP {i + 1}\", fontsize=title_fontsize)\n",
    "            \n",
    "        if i == 0:\n",
    "            ax.set_ylabel(f\"MSE on 1-step Prediction\\n(Test Data)\", fontsize=ylabel_fontsize)\n",
    "        ax.tick_params(labelsize=tick_fontsize)\n",
    "    \n",
    "        dh = 0.1\n",
    "        gap = 1\n",
    "        barh = 0.1\n",
    "        p = statistical_test(mse_vals_pb[monkey][area], mse_vals_VAR_small[monkey][area], alternative='less').pvalue\n",
    "        barplot_annotate_brackets(0, 1, p, bars, heights, yerr=se_vals, scale_by_height=True, ax=ax, it=0, dh=dh, barh=barh, gap=gap, fs=p_fontsize, below=False)\n",
    "        p = statistical_test(mse_vals_pb[monkey][area], mse_vals_VAR[monkey][area], alternative='less').pvalue\n",
    "        barplot_annotate_brackets(0, 2, p, bars, heights, yerr=se_vals, scale_by_height=True, ax=ax, it=1.1, dh=dh, barh=barh, gap=gap, fs=p_fontsize, below=False)\n",
    "        p = statistical_test(mse_vals_pb[monkey][area], mse_vals[monkey][area], alternative='greater').pvalue\n",
    "        barplot_annotate_brackets(0, 3, p, bars, heights, yerr=se_vals, scale_by_height=True, ax=ax, it=2, dh=dh, barh=barh, gap=gap, fs=p_fontsize, below=False)\n",
    "        \n",
    "        ax.axhline(mse_vals_pb[monkey][area].mean(), linestyle='--', c='k', linewidth=3, alpha=0.4)\n",
    "        \n",
    "plt.tight_layout()\n",
    "plt.savefig(os.path.join(img_save_dir, \"SI\", \"mse-prediction-avg.pdf\"), bbox_inches='tight', transparent=True)\n",
    "# plt.savefig(os.path.join(img_save_dir, \"SI\", \"mse-prediction.pdf\"), bbox_inches='tight', transparent=True)\n",
    "plt.show()"
   ]
  },
  {
   "cell_type": "markdown",
   "id": "a66e040d-7405-49e5-9b0b-14c878c9de7c",
   "metadata": {},
   "source": [
    "## Prediction quality: combined monkeys"
   ]
  },
  {
   "cell_type": "code",
   "execution_count": 13,
   "id": "cb1b5d9e-bef3-4cb0-8598-d5f89b8c89be",
   "metadata": {},
   "outputs": [],
   "source": [
    "split_by_monkey = False\n",
    "if split_by_monkey:\n",
    "    monkeys = ['Mary', 'MrJones']\n",
    "    monkey_sessions = {monkey: [session for session in session_list if monkey in session] for monkey in monkeys}\n",
    "    session_dicts = {monkey: {session: session_rets[session] for session in monkey_sessions[monkey]} for monkey in monkeys}\n",
    "    num_sessions = {key: len(value) for key, value in monkey_sessions.items()}\n",
    "else:\n",
    "    monkeys = ['Combined']\n",
    "    monkey_sessions = {'Combined': session_list}\n",
    "    session_dicts = {'Combined': session_rets}\n",
    "    num_sessions = {key: len(value) for key, value in monkey_sessions.items()}\n",
    "\n",
    "# areas = ['all', 'vlPFC', 'FEF', '7b', 'CPB']\n",
    "areas = ['all']"
   ]
  },
  {
   "cell_type": "code",
   "execution_count": 14,
   "id": "16a3d8d7-19d8-4bde-a368-f80abae839cc",
   "metadata": {},
   "outputs": [
    {
     "data": {
      "application/vnd.jupyter.widget-view+json": {
       "model_id": "4549a81bb8774add92095cc2d7cd8610",
       "version_major": 2,
       "version_minor": 0
      },
      "text/plain": [
       "  0%|          | 0/21 [00:00<?, ?it/s]"
      ]
     },
     "metadata": {},
     "output_type": "display_data"
    }
   ],
   "source": [
    "aic_vals = {}\n",
    "aic_vals_pb = {}\n",
    "aic_vals_VAR = {}\n",
    "aic_vals_VAR_small = {}\n",
    "\n",
    "mse_vals = {}\n",
    "mse_vals_pb = {}\n",
    "mse_vals_VAR = {}\n",
    "mse_vals_VAR_small = {}\n",
    "\n",
    "iterator = tqdm(total=len(session_list)*len(areas))\n",
    "\n",
    "for monkey in monkeys:\n",
    "    aic_vals[monkey] = {}\n",
    "    aic_vals_pb[monkey] = {}\n",
    "    aic_vals_VAR[monkey] = {}\n",
    "    aic_vals_VAR_small[monkey] = {}\n",
    "\n",
    "    mse_vals[monkey] = {}\n",
    "    mse_vals_pb[monkey] = {}\n",
    "    mse_vals_VAR[monkey] = {}\n",
    "    mse_vals_VAR_small[monkey] = {}\n",
    "    for area in areas:\n",
    "        aic_vals[monkey][area] = np.zeros(num_sessions[monkey])\n",
    "        aic_vals_pb[monkey][area] = np.zeros(num_sessions[monkey])\n",
    "        aic_vals_VAR[monkey][area] = np.zeros(num_sessions[monkey])\n",
    "        aic_vals_VAR_small[monkey][area] = np.zeros(num_sessions[monkey])\n",
    "\n",
    "        mse_vals[monkey][area] = np.zeros(num_sessions[monkey])\n",
    "        mse_vals_pb[monkey][area] = np.zeros(num_sessions[monkey])\n",
    "        mse_vals_VAR[monkey][area] = np.zeros(num_sessions[monkey])\n",
    "        mse_vals_VAR_small[monkey][area] = np.zeros(num_sessions[monkey])\n",
    "        for session_ind, (session, session_dict) in enumerate(session_dicts[monkey].items()):\n",
    "        \n",
    "            aic_vals[monkey][area][session_ind] = session_dicts[monkey][session]['results_dict'][area].aic_val.mean()\n",
    "            aic_vals_pb[monkey][area][session_ind] = session_dicts[monkey][session]['results_dict'][area].aic_val_pb.mean()\n",
    "            aic_vals_VAR[monkey][area][session_ind] = session_dicts[monkey][session]['results_dict'][area].aic_val_VAR.mean()\n",
    "            aic_vals_VAR_small[monkey][area][session_ind] = session_dicts[monkey][session]['results_dict'][area].aic_val_VAR_small.mean()\n",
    "\n",
    "            mse_vals[monkey][area][session_ind] = session_dicts[monkey][session]['results_dict'][area].mse_val.mean()\n",
    "            mse_vals_pb[monkey][area][session_ind] = session_dicts[monkey][session]['results_dict'][area].mse_val_pb.mean()\n",
    "            mse_vals_VAR[monkey][area][session_ind] = session_dicts[monkey][session]['results_dict'][area].mse_val_VAR.mean()\n",
    "            mse_vals_VAR_small[monkey][area][session_ind] = session_dicts[monkey][session]['results_dict'][area].mse_val_VAR_small.mean()\n",
    "\n",
    "            iterator.update()\n",
    "iterator.close()\n",
    "\n",
    "figure3_data['combined_monkeys'] = dict(\n",
    "    aic_vals=aic_vals,\n",
    "    aic_vals_pb=aic_vals_pb,\n",
    "    aic_vals_VAR=aic_vals_VAR,\n",
    "    aic_vals_VAR_small=aic_vals_VAR_small,\n",
    "    mse_vals=mse_vals,\n",
    "    mse_vals_pb=mse_vals_pb,\n",
    "    mse_vals_VAR=mse_vals_VAR,\n",
    "    mse_vals_VAR_small=mse_vals_VAR_small\n",
    ")"
   ]
  },
  {
   "cell_type": "code",
   "execution_count": 15,
   "id": "c88136aa-386e-4639-9ae2-87f9ddd76a83",
   "metadata": {},
   "outputs": [],
   "source": [
    "statistical_test = scipy.stats.wilcoxon\n",
    "# statistical_test = scipy.stats.ttest_ind"
   ]
  },
  {
   "cell_type": "code",
   "execution_count": 16,
   "id": "90ebd063-6320-4df4-b95d-dce305e4f30b",
   "metadata": {},
   "outputs": [],
   "source": [
    "model_colors = ['#BBBBBB', 'teal', 'darkturquoise', 'coral']"
   ]
  },
  {
   "cell_type": "code",
   "execution_count": 17,
   "id": "19e08d49-a129-476e-97f0-570ee600e5d2",
   "metadata": {},
   "outputs": [
    {
     "data": {
      "image/png": "[encoded data removed]",
      "text/plain": [
       "<Figure size 800x500 with 1 Axes>"
      ]
     },
     "metadata": {},
     "output_type": "display_data"
    }
   ],
   "source": [
    "tick_fontsize = 15\n",
    "title_fontsize = 18\n",
    "ylabel_fontsize = 15\n",
    "p_fontsize=14\n",
    "\n",
    "fig, ax = plt.subplots(1, 1, figsize=(8, 5), sharey=True)\n",
    "for i, monkey in enumerate(monkeys):\n",
    "    for j, area in enumerate(['all']):\n",
    "        # ax = axs[i]   \n",
    "        # bar_labels = ['persistence\\nbaseline', 'VAR-small', 'VAR-large', 'HAVOK']\n",
    "        bars = [0, 1, 2, 3]\n",
    "        # heights = np.array(mean_vals)\n",
    "        bar_labels = [\"persistence\\nbaseline\", \"VAR-small\", \"VAR-large\", \"HAVOK\"]\n",
    "        heights = [aic_vals_pb[monkey][area].mean(),  aic_vals_VAR_small[monkey][area].mean(), aic_vals_VAR[monkey][area].mean(), aic_vals[monkey][area].mean()]\n",
    "        se_vals = [aic_vals_pb[monkey][area].std()/np.sqrt(num_sessions[monkey]),  aic_vals_VAR_small[monkey][area].std()/np.sqrt(num_sessions[monkey]), aic_vals_VAR[monkey][area].std()/np.sqrt(num_sessions[monkey]), aic_vals[monkey][area].std()/np.sqrt(num_sessions[monkey])]\n",
    "        ax.bar(bars, heights, color=model_colors, yerr=se_vals)\n",
    "        # data = np.vstack((aic_vals_pb[monkey][area],  aic_vals_VAR_small[monkey][area], aic_vals_VAR[monkey][area], aic_vals[monkey][area]))\n",
    "        # bplot = ax.boxplot(data.T, patch_artist=True)\n",
    "        # for patch, color in zip(bplot['boxes'], model_colors):\n",
    "        #     patch.set_facecolor(color)\n",
    "        ax.set_xticks(bars)\n",
    "        ax.set_xticklabels(bar_labels)\n",
    "        # ax.set_yscale('log')\n",
    "        \n",
    "        ax.spines[['right', 'top']].set_visible(False)\n",
    "        ax.xaxis.set_ticks_position('bottom')\n",
    "        ax.yaxis.set_ticks_position('left')\n",
    "        \n",
    "        if j == 0:\n",
    "            ax.set_title(f\"NHP {i + 1}\", fontsize=title_fontsize)\n",
    "            \n",
    "        if i == 0:\n",
    "            ax.set_ylabel(f\"AIC (Test Data)\", fontsize=ylabel_fontsize)\n",
    "        ax.tick_params(labelsize=tick_fontsize)\n",
    "    \n",
    "        dh = 0.05\n",
    "        gap = 0.1\n",
    "        barh = 0.02\n",
    "        p = statistical_test(aic_vals_pb[monkey][area], aic_vals_VAR_small[monkey][area], alternative='less').pvalue\n",
    "        barplot_annotate_brackets(0, 1, p, bars, heights, yerr=se_vals, scale_by_height=False, ax=ax, it=0, dh=dh, barh=barh, gap=gap, fs=p_fontsize, below=True)\n",
    "        p = statistical_test(aic_vals_pb[monkey][area], aic_vals_VAR[monkey][area], alternative='less').pvalue\n",
    "        barplot_annotate_brackets(0, 2, p, bars, heights, yerr=se_vals, scale_by_height=False, ax=ax, it=1, dh=dh, barh=barh, gap=gap, fs=p_fontsize, below=True)\n",
    "        p = statistical_test(aic_vals_pb[monkey][area], aic_vals[monkey][area], alternative='greater').pvalue\n",
    "        barplot_annotate_brackets(0, 3, p, bars, heights, yerr=se_vals, scale_by_height=False, ax=ax, it=1, dh=dh, barh=barh, gap=gap, fs=p_fontsize, below=True)\n",
    "        \n",
    "        ax.axhline(aic_vals_pb[monkey][area].mean(), linestyle='--', c='k', linewidth=3, alpha=0.4)\n",
    "        \n",
    "plt.tight_layout()\n",
    "plt.savefig(os.path.join(img_save_dir, \"main\", \"aic-prediction.pdf\"), bbox_inches='tight', transparent=True)\n",
    "plt.show()"
   ]
  },
  {
   "cell_type": "code",
   "execution_count": 18,
   "id": "ec80b312-64c6-4e09-b7b1-a2d6bec6d526",
   "metadata": {},
   "outputs": [
    {
     "data": {
      "image/png": "[encoded data removed]",
      "text/plain": [
       "<Figure size 800x500 with 1 Axes>"
      ]
     },
     "metadata": {},
     "output_type": "display_data"
    }
   ],
   "source": [
    "tick_fontsize = 15\n",
    "title_fontsize = 18\n",
    "ylabel_fontsize = 15\n",
    "p_fontsize=14\n",
    "\n",
    "fig, ax = plt.subplots(1, 1, figsize=(8, 5), sharey=True)\n",
    "for i, monkey in enumerate(monkeys):\n",
    "    for j, area in enumerate(['all']):\n",
    "        # ax = axs[i]   \n",
    "        # bar_labels = ['persistence\\nbaseline', 'VAR-small', 'VAR-large', 'HAVOK']\n",
    "        bars = [0, 1, 2, 3]\n",
    "        # heights = np.array(mean_vals)\n",
    "        bar_labels = [\"persistence\\nbaseline\", \"VAR-small\", \"VAR-large\", \"HAVOK\"]\n",
    "        heights = [mse_vals_pb[monkey][area].mean(),  mse_vals_VAR_small[monkey][area].mean(), mse_vals_VAR[monkey][area].mean(), mse_vals[monkey][area].mean()]\n",
    "        se_vals = [mse_vals_pb[monkey][area].std()/np.sqrt(num_sessions[monkey]),  mse_vals_VAR_small[monkey][area].std()/np.sqrt(num_sessions[monkey]), mse_vals_VAR[monkey][area].std()/np.sqrt(num_sessions[monkey]), mse_vals[monkey][area].std()/np.sqrt(num_sessions[monkey])]\n",
    "        ax.bar(bars, heights, color=model_colors, yerr=se_vals)\n",
    "        # data = np.vstack((aic_vals_pb[monkey][area],  aic_vals_VAR_small[monkey][area], aic_vals_VAR[monkey][area], aic_vals[monkey][area]))\n",
    "        # bplot = ax.boxplot(data.T, patch_artist=True)\n",
    "        # for patch, color in zip(bplot['boxes'], model_colors):\n",
    "        #     patch.set_facecolor(color)\n",
    "        ax.set_xticks(bars)\n",
    "        ax.set_xticklabels(bar_labels)\n",
    "        ax.set_yscale('log')\n",
    "        \n",
    "        ax.spines[['right', 'top']].set_visible(False)\n",
    "        ax.xaxis.set_ticks_position('bottom')\n",
    "        ax.yaxis.set_ticks_position('left')\n",
    "        \n",
    "        if j == 0:\n",
    "            ax.set_title(f\"NHP {i + 1}\", fontsize=title_fontsize)\n",
    "            \n",
    "        if i == 0:\n",
    "            ax.set_ylabel(f\"MSE on 1-step Prediction\\n(Test Data)\", fontsize=ylabel_fontsize)\n",
    "        ax.tick_params(labelsize=tick_fontsize)\n",
    "    \n",
    "        dh = 0.1\n",
    "        gap = 1\n",
    "        barh = 0.1\n",
    "        p = statistical_test(mse_vals_pb[monkey][area], mse_vals_VAR_small[monkey][area], alternative='less').pvalue\n",
    "        barplot_annotate_brackets(0, 1, p, bars, heights, yerr=se_vals, scale_by_height=True, ax=ax, it=0, dh=dh, barh=barh, gap=gap, fs=p_fontsize, below=False)\n",
    "        p = statistical_test(mse_vals_pb[monkey][area], mse_vals_VAR[monkey][area], alternative='less').pvalue\n",
    "        barplot_annotate_brackets(0, 2, p, bars, heights, yerr=se_vals, scale_by_height=True, ax=ax, it=1.1, dh=dh, barh=barh, gap=gap, fs=p_fontsize, below=False)\n",
    "        p = statistical_test(mse_vals_pb[monkey][area], mse_vals[monkey][area], alternative='greater').pvalue\n",
    "        barplot_annotate_brackets(0, 3, p, bars, heights, yerr=se_vals, scale_by_height=True, ax=ax, it=2, dh=dh, barh=barh, gap=gap, fs=p_fontsize, below=False)\n",
    "        \n",
    "        ax.axhline(mse_vals_pb[monkey][area].mean(), linestyle='--', c='k', linewidth=3, alpha=0.4)\n",
    "        \n",
    "plt.tight_layout()\n",
    "plt.savefig(os.path.join(img_save_dir, \"main\", \"mse-prediction.pdf\"), bbox_inches='tight', transparent=True)\n",
    "plt.show()"
   ]
  },
  {
   "cell_type": "markdown",
   "id": "4b51d665-5e07-4dc0-b158-5b3b6d670daa",
   "metadata": {},
   "source": [
    "## SAVE DATA"
   ]
  },
  {
   "cell_type": "code",
   "execution_count": 19,
   "id": "e18e7d7a-2c62-4ba5-bb00-af6600f8c934",
   "metadata": {},
   "outputs": [],
   "source": [
    "import pickle\n",
    "\n",
    "with open(os.path.join(data_save_dir, 'figure3_prediction_quality.pkl'), 'wb') as handle:\n",
    "    pickle.dump(figure3_data, handle, protocol=pickle.HIGHEST_PROTOCOL)"
   ]
  }
 ],
 "metadata": {
  "kernelspec": {
   "display_name": "Python 3 (ipykernel)",
   "language": "python",
   "name": "python3"
  },
  "language_info": {
   "codemirror_mode": {
    "name": "ipython",
    "version": 3
   },
   "file_extension": ".py",
   "mimetype": "text/x-python",
   "name": "python",
   "nbconvert_exporter": "python",
   "pygments_lexer": "ipython3",
   "version": "3.11.6"
  }
 },
 "nbformat": 4,
 "nbformat_minor": 5
}
