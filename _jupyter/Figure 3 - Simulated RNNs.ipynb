{
 "cells": [
  {
   "cell_type": "code",
   "execution_count": 1,
   "id": "8a49507d",
   "metadata": {},
   "outputs": [],
   "source": [
    "%load_ext autoreload"
   ]
  },
  {
   "cell_type": "code",
   "execution_count": 2,
   "id": "3e2872e2",
   "metadata": {},
   "outputs": [],
   "source": [
    "%autoreload 2\n",
    "\n",
    "import argparse\n",
    "from copy import deepcopy\n",
    "import logging\n",
    "from matplotlib.cm import get_cmap, ScalarMappable\n",
    "from matplotlib.colors import Normalize\n",
    "import matplotlib.pyplot as plt\n",
    "import pandas as pd\n",
    "import scipy\n",
    "from scipy.integrate import solve_ivp\n",
    "from sklearn.metrics import r2_score\n",
    "import sys\n",
    "import torch\n",
    "\n",
    "sys.path.append('..')\n",
    "from data_utils import *\n",
    "\n",
    "sys.path.append('/om2/user/eisenaj/code/DeLASE')\n",
    "from delase import *\n",
    "from parameter_choosing import *\n",
    "from performance_metrics import *\n",
    "from plot import *"
   ]
  },
  {
   "cell_type": "code",
   "execution_count": 3,
   "id": "015d742a",
   "metadata": {},
   "outputs": [
    {
     "name": "stdout",
     "output_type": "stream",
     "text": [
      "node084\n",
      "0\n"
     ]
    }
   ],
   "source": [
    "print(os.system('hostname'))"
   ]
  },
  {
   "cell_type": "code",
   "execution_count": 4,
   "id": "7e1705f7-0876-4cfe-805b-dc3d52795b1f",
   "metadata": {},
   "outputs": [
    {
     "data": {
      "text/plain": [
       "'2.1.2'"
      ]
     },
     "execution_count": 4,
     "metadata": {},
     "output_type": "execute_result"
    }
   ],
   "source": [
    "pd.__version__"
   ]
  },
  {
   "cell_type": "markdown",
   "id": "7e4ee509-936a-4e0a-8650-9981157cc5a6",
   "metadata": {
    "tags": []
   },
   "source": [
    "# Functions"
   ]
  },
  {
   "cell_type": "code",
   "execution_count": 5,
   "id": "2a5fafa6",
   "metadata": {},
   "outputs": [],
   "source": [
    "def rnn(t, x, W, tau, g):\n",
    "    return (1/tau)*(-x + g*W @ np.tanh(x))\n",
    "\n",
    "def rnn_jacobian(x, W, g, tau, dt, use_torch=False, device='cpu', dtype='torch.DoubleTensor'):\n",
    "    x = numpy_torch_conversion(x, use_torch, device, dtype)\n",
    "    W = numpy_torch_conversion(W, use_torch, device, dtype)\n",
    "    if use_torch:\n",
    "        I = torch.eye(x.shape[1]).type(dtype).to(device)\n",
    "        if len(x.shape) == 1:\n",
    "            return I + (dt/tau)*(-I + (g*W @ torch.diag(1 - torch.tanh(x)**2)))\n",
    "        else:\n",
    "            return I.unsqueeze(0) + (dt/tau)*(-I.unsqueeze(0) + (g*W*((1 - torch.tanh(x)**2).unsqueeze(1))))\n",
    "    else:\n",
    "        if len(x.shape) == 1:\n",
    "            return np.eye(N) + (dt/tau)*(-np.eye(N) + (g*W @ np.diag(1 - np.tanh(x)**2)))\n",
    "        else:\n",
    "            print((1 - np.tanh(x)**2)[:, np.newaxis].shape)\n",
    "            return np.eye(N)[np.newaxis] + (dt/tau)*(-np.eye(N)[np.newaxis] + (g*W*(1 - np.tanh(x)**2)[:, np.newaxis]))\n",
    "\n",
    "def compute_lyaps(Js, dt=1, k=None, worker_num=None, message_queue=None, verbose=False):\n",
    "    T, n = Js.shape[0], Js.shape[1]\n",
    "    old_Q = np.eye(n)\n",
    "    if k is None:\n",
    "        k = n\n",
    "    old_Q = old_Q[:, :k]\n",
    "    lexp = np.zeros(k)\n",
    "    lexp_counts = np.zeros(k)\n",
    "    for t in tqdm(range(T), disable=not verbose):\n",
    "        # QR-decomposition of Js[t] * old_Q\n",
    "        mat_Q, mat_R = np.linalg.qr(np.dot(Js[t], old_Q))\n",
    "        # force diagonal of R to be positive\n",
    "        # (if QR = A then also QLL'R = A with L' = L^-1)\n",
    "        sign_diag = np.sign(np.diag(mat_R))\n",
    "        sign_diag[np.where(sign_diag == 0)] = 1\n",
    "        sign_diag = np.diag(sign_diag)\n",
    "#         print(sign_diag)\n",
    "        mat_Q = np.dot(mat_Q, sign_diag)\n",
    "        mat_R = np.dot(sign_diag, mat_R)\n",
    "        old_Q = mat_Q\n",
    "        # successively build sum for Lyapunov exponents\n",
    "        diag_R = np.diag(mat_R)\n",
    "\n",
    "#         print(diag_R)\n",
    "        # filter zeros in mat_R (would lead to -infs)\n",
    "        idx = np.where(diag_R > 0)\n",
    "        lexp_i = np.zeros(diag_R.shape, dtype=\"float32\")\n",
    "        lexp_i[idx] = np.log(diag_R[idx])\n",
    "#         lexp_i[np.where(diag_R == 0)] = np.inf\n",
    "        lexp[idx] += lexp_i[idx]\n",
    "        lexp_counts[idx] += 1\n",
    "\n",
    "        # it may happen that all R-matrices contained zeros => exponent really has\n",
    "        # to be -inf\n",
    "\n",
    "        # normalize exponents over number of individual mat_Rs\n",
    "#         idx = np.where(lexp_counts > 0)\n",
    "        #lexp[idx] /= lexp_counts[idx]\n",
    "#         lexp[np.where(lexp_counts == 0)] = np.inf\n",
    "\n",
    "        if message_queue is not None:\n",
    "            message_queue.put((worker_num, \"task complete\", \"DEBUG\"))\n",
    "    \n",
    "    return np.divide(lexp, lexp_counts)*(1/dt)\n",
    "\n",
    "def compute_lyaps_and_jacobians(x, W, g, tau, dt, k=None, use_torch=False, device='cpu', dtype='torch.DoubleTensor', worker_num=None, message_queue=None, verbose=False):\n",
    "    T, n = x.shape[0], x.shape[1]\n",
    "    old_Q = np.eye(n)\n",
    "    if k is None:\n",
    "        k = n\n",
    "    old_Q = old_Q[:, :k]\n",
    "    lexp = np.zeros(k)\n",
    "    lexp_counts = np.zeros(k)\n",
    "    for t in tqdm(range(T), disable=not verbose):\n",
    "        J = rnn_jacobian(x[t], W, g, tau, dt, use_torch, device, dtype)\n",
    "        # QR-decomposition of Js[t] * old_Q\n",
    "        mat_Q, mat_R = np.linalg.qr(np.dot(J, old_Q))\n",
    "        # force diagonal of R to be positive\n",
    "        # (if QR = A then also QLL'R = A with L' = L^-1)\n",
    "        sign_diag = np.sign(np.diag(mat_R))\n",
    "        sign_diag[np.where(sign_diag == 0)] = 1\n",
    "        sign_diag = np.diag(sign_diag)\n",
    "#         print(sign_diag)\n",
    "        mat_Q = np.dot(mat_Q, sign_diag)\n",
    "        mat_R = np.dot(sign_diag, mat_R)\n",
    "        old_Q = mat_Q\n",
    "        # successively build sum for Lyapunov exponents\n",
    "        diag_R = np.diag(mat_R)\n",
    "\n",
    "#         print(diag_R)\n",
    "        # filter zeros in mat_R (would lead to -infs)\n",
    "        idx = np.where(diag_R > 0)\n",
    "        lexp_i = np.zeros(diag_R.shape, dtype=\"float32\")\n",
    "        lexp_i[idx] = np.log(diag_R[idx])\n",
    "#         lexp_i[np.where(diag_R == 0)] = np.inf\n",
    "        lexp[idx] += lexp_i[idx]\n",
    "        lexp_counts[idx] += 1\n",
    "\n",
    "        # it may happen that all R-matrices contained zeros => exponent really has\n",
    "        # to be -inf\n",
    "\n",
    "        # normalize exponents over number of individual mat_Rs\n",
    "#         idx = np.where(lexp_counts > 0)\n",
    "        #lexp[idx] /= lexp_counts[idx]\n",
    "#         lexp[np.where(lexp_counts == 0)] = np.inf\n",
    "\n",
    "        if message_queue is not None:\n",
    "            message_queue.put((worker_num, \"task complete\", \"DEBUG\"))\n",
    "    \n",
    "    return np.divide(lexp, lexp_counts)*(1/dt)"
   ]
  },
  {
   "cell_type": "markdown",
   "id": "52b649ba-d947-4412-afed-d0e25d5ad8cb",
   "metadata": {
    "tags": []
   },
   "source": [
    "# Data Storage"
   ]
  },
  {
   "cell_type": "code",
   "execution_count": 6,
   "id": "feb3a005",
   "metadata": {},
   "outputs": [],
   "source": [
    "chaotic_net_folder = '/scratch2/weka/millerlab/eisenaj/ChaoticConsciousness/chaotic_nets/chaotic_nets_multirun_stochastic_1024'"
   ]
  },
  {
   "cell_type": "code",
   "execution_count": 7,
   "id": "450a50cf",
   "metadata": {},
   "outputs": [],
   "source": [
    "os.makedirs(chaotic_net_folder, exist_ok=True)"
   ]
  },
  {
   "cell_type": "markdown",
   "id": "51ab86e2",
   "metadata": {
    "tags": []
   },
   "source": [
    "# Initial"
   ]
  },
  {
   "cell_type": "code",
   "execution_count": 8,
   "id": "b5acbbd3",
   "metadata": {},
   "outputs": [],
   "source": [
    "chaotic_net_path = \"/scratch2/weka/millerlab/eisenaj/DynamicalTrajectories/chaotic_net_data\"\n",
    "\n",
    "W = pd.read_pickle(os.path.join(chaotic_net_path, \"W.pkl\"))\n",
    "lyaps = pd.read_pickle(os.path.join(chaotic_net_path, \"lyaps_long.pkl\"))\n",
    "full_signals = pd.read_pickle(os.path.join(chaotic_net_path, \"chaotic_net_signals_long.pkl\"))"
   ]
  },
  {
   "cell_type": "code",
   "execution_count": 9,
   "id": "da6d8973",
   "metadata": {},
   "outputs": [],
   "source": [
    "# N = list(full_signals.values())[0].shape[2]\n",
    "N = 1024\n",
    "T = list(full_signals.values())[0].shape[1]\n",
    "dt = 0.01\n",
    "tau = 0.1\n",
    "\n",
    "batch_size = 500\n",
    "num_batches = int(T/batch_size)\n",
    "\n",
    "device = 'cuda'\n",
    "use_torch = True"
   ]
  },
  {
   "cell_type": "code",
   "execution_count": 10,
   "id": "e199ecbe",
   "metadata": {},
   "outputs": [],
   "source": [
    "# signals = {key: signal[0] for key, signal in full_signals.items()}\n",
    "# ret = dict(\n",
    "#     W=W,\n",
    "#     lyaps=lyaps,\n",
    "#     signals=signals,\n",
    "#     dt=dt,\n",
    "#     tau=tau,\n",
    "#     N=N,\n",
    "#     T=T\n",
    "# )\n",
    "# pd.to_pickle(ret, os.path.join(chaotic_net_folder, \"RUN_ORIG\"))"
   ]
  },
  {
   "cell_type": "markdown",
   "id": "b3434d24",
   "metadata": {
    "tags": []
   },
   "source": [
    "# Run"
   ]
  },
  {
   "cell_type": "code",
   "execution_count": 11,
   "id": "916ae2fe-6931-43ef-8a24-70d6310beddb",
   "metadata": {},
   "outputs": [],
   "source": [
    "N = 1024\n",
    "T = 20000\n",
    "dt = 0.001\n",
    "tau = 0.01"
   ]
  },
  {
   "cell_type": "code",
   "execution_count": 12,
   "id": "5233ae73",
   "metadata": {},
   "outputs": [],
   "source": [
    "g_vals = [0.75, 0.8, 0.85, 0.9, 0.925, 0.95, 0.975, 1, 1.025, 1.05, 1.075, 1.1, 1.125, 1.15, 1.175, 1.2, 1.25, 1.3, 1.35, 1.4, 1.5, 1.6, 1.7, 1.8]"
   ]
  },
  {
   "cell_type": "code",
   "execution_count": 13,
   "id": "f54f2010",
   "metadata": {},
   "outputs": [],
   "source": [
    "NUM_RUNS = 10"
   ]
  },
  {
   "cell_type": "code",
   "execution_count": 14,
   "id": "211c0ce7",
   "metadata": {},
   "outputs": [],
   "source": [
    "t_span = [0, 200]\n",
    "t_eval = np.arange(t_span[0], t_span[1], dt)"
   ]
  },
  {
   "cell_type": "code",
   "execution_count": 15,
   "id": "d3281a18",
   "metadata": {},
   "outputs": [
    {
     "data": {
      "application/vnd.jupyter.widget-view+json": {
       "model_id": "20f2fcb7d52b44498e8c06e6eacdf528",
       "version_major": 2,
       "version_minor": 0
      },
      "text/plain": [
       "  0%|          | 0/10 [00:00<?, ?it/s]"
      ]
     },
     "metadata": {},
     "output_type": "display_data"
    }
   ],
   "source": [
    "def g_dW(x):\n",
    "    return 0.05\n",
    "\n",
    "for run_num in tqdm(range(NUM_RUNS)):\n",
    "    if not os.path.exists(os.path.join(chaotic_net_folder, f\"RUN_{run_num}\")):\n",
    "        print(\"=\"*40)\n",
    "        print(f\"RUN_NUM = {run_num}\")\n",
    "        print(\"=\"*40)\n",
    "\n",
    "        signals = {}\n",
    "        lyaps = {}\n",
    "\n",
    "        np.random.seed(42 + run_num)\n",
    "\n",
    "        print(\"Simulating signals...\")\n",
    "        W = np.random.randn(N, N)/np.sqrt(N)\n",
    "        for g in tqdm(g_vals):\n",
    "            dW = np.sqrt(dt) * np.random.randn(T,N)\n",
    "            x0 = np.random.randn(N)\n",
    "             # Define the function g(x)\n",
    "            \n",
    "\n",
    "            # Initialize the x array\n",
    "            x = np.zeros((T, N))\n",
    "            x[0] = np.random.randn(N)\n",
    "\n",
    "            # Simulate the stochastic differential equation\n",
    "            for i in range(1, T):\n",
    "                x[i] = x[i-1] + rnn((i - 1)*dt, x[i-1], W, tau, g) * dt + g_dW(x[i-1]) * dW[i]\n",
    "                \n",
    "            signals[g] = x\n",
    "        print(\"Signals simulated!\")\n",
    "\n",
    "        print(\"MAIN ANALYSIS:\")\n",
    "        for key in tqdm(g_vals):\n",
    "            print(\"-\"*20)\n",
    "            print(f\"g = {key}\")\n",
    "            print(\"-\"*20)\n",
    "            signal = signals[g]\n",
    "            g = key\n",
    "\n",
    "            # Js = np.zeros((signal.shape[0], N, N))\n",
    "            # print(\"Computing Jacobians..\")\n",
    "            # for batch_num in tqdm(range(num_batches)):\n",
    "            #     start_ind = batch_num*batch_size\n",
    "            #     end_ind = np.min([(batch_num + 1)*batch_size, signal.shape[0]])\n",
    "            #     batch_Js = rnn_jacobian(signal[start_ind:end_ind], W, g, tau, dt, N, use_torch=use_torch, device=device)\n",
    "            #     if device == 'cuda':\n",
    "            #         batch_Js = batch_Js.cpu()\n",
    "            #     Js[start_ind:end_ind] = batch_Js\n",
    "\n",
    "            # print(\"Computing Lyaps...\")\n",
    "            # lyaps[key] = compute_lyaps(Js, dt=dt, k=3, verbose=True)\n",
    "            \n",
    "            lyaps[key] = compute_lyaps_and_jacobians(signal, W, g, tau, dt, k=3, use_torch=False, device='cpu', verbose=True)\n",
    "\n",
    "        ret = dict(\n",
    "            W=W,\n",
    "            lyaps=lyaps,\n",
    "            signals=signals,\n",
    "            dt=dt,\n",
    "            tau=tau,\n",
    "            N=N,\n",
    "            T=T\n",
    "        )\n",
    "        pd.to_pickle(ret, os.path.join(chaotic_net_folder, f\"RUN_{run_num}\"))"
   ]
  },
  {
   "cell_type": "markdown",
   "id": "2bee80bd",
   "metadata": {
    "tags": []
   },
   "source": [
    "# Test an Example"
   ]
  },
  {
   "cell_type": "code",
   "execution_count": 16,
   "id": "62cd7a76",
   "metadata": {},
   "outputs": [
    {
     "ename": "NameError",
     "evalue": "name 'ret' is not defined",
     "output_type": "error",
     "traceback": [
      "\u001b[0;31m---------------------------------------------------------------------------\u001b[0m",
      "\u001b[0;31mNameError\u001b[0m                                 Traceback (most recent call last)",
      "Input \u001b[0;32mIn [16]\u001b[0m, in \u001b[0;36m<cell line: 1>\u001b[0;34m()\u001b[0m\n\u001b[0;32m----> 1\u001b[0m run_ret \u001b[38;5;241m=\u001b[39m \u001b[43mret\u001b[49m\n",
      "\u001b[0;31mNameError\u001b[0m: name 'ret' is not defined"
     ]
    }
   ],
   "source": [
    "run_ret = ret"
   ]
  },
  {
   "cell_type": "code",
   "execution_count": 17,
   "id": "c78420b1",
   "metadata": {},
   "outputs": [],
   "source": [
    "num_indices = 50\n",
    "test_keys = g_vals"
   ]
  },
  {
   "cell_type": "code",
   "execution_count": 18,
   "id": "13270fcd",
   "metadata": {},
   "outputs": [],
   "source": [
    "parameter_grid = ParameterGrid(\n",
    "    window_vals=np.array([10000]),\n",
    "    matrix_size_vals=np.array([2, 5, 10, 20, 30, 40, 50, 100, 150, 200, 250, 300, 350, 400]),\n",
    "    r_vals = np.array([2, 3, 5, 10, 30, 40, 50, 75, 100, 125, 150, 175, 200, 225, 250, 275, 300, 325, 350, 375, 400])\n",
    ")\n",
    "\n",
    "parameter_grid_orig = parameter_grid\n",
    "parameter_grid.matrix_size_vals = parameter_grid_orig.matrix_size_vals[parameter_grid_orig.matrix_size_vals >= num_indices]\n",
    "parameter_grid.matrix_size_vals = parameter_grid.matrix_size_vals[parameter_grid.matrix_size_vals <= 50*num_indices]\n",
    "        \n",
    "noise_sd = 0"
   ]
  },
  {
   "cell_type": "code",
   "execution_count": 19,
   "id": "60185c48",
   "metadata": {},
   "outputs": [
    {
     "ename": "NameError",
     "evalue": "name 'run_ret' is not defined",
     "output_type": "error",
     "traceback": [
      "\u001b[0;31m---------------------------------------------------------------------------\u001b[0m",
      "\u001b[0;31mNameError\u001b[0m                                 Traceback (most recent call last)",
      "Input \u001b[0;32mIn [19]\u001b[0m, in \u001b[0;36m<cell line: 3>\u001b[0;34m()\u001b[0m\n\u001b[1;32m      1\u001b[0m indices \u001b[38;5;241m=\u001b[39m np\u001b[38;5;241m.\u001b[39mrandom\u001b[38;5;241m.\u001b[39mchoice(np\u001b[38;5;241m.\u001b[39marange(N), size\u001b[38;5;241m=\u001b[39m(num_indices, ), replace\u001b[38;5;241m=\u001b[39m\u001b[38;5;28;01mFalse\u001b[39;00m)\n\u001b[0;32m----> 3\u001b[0m full_signals \u001b[38;5;241m=\u001b[39m \u001b[43mrun_ret\u001b[49m[\u001b[38;5;124m'\u001b[39m\u001b[38;5;124msignals\u001b[39m\u001b[38;5;124m'\u001b[39m]\n\u001b[1;32m      4\u001b[0m signals \u001b[38;5;241m=\u001b[39m {key: full_signal[:, indices] \u001b[38;5;28;01mfor\u001b[39;00m key, full_signal \u001b[38;5;129;01min\u001b[39;00m full_signals\u001b[38;5;241m.\u001b[39mitems()}\n\u001b[1;32m      6\u001b[0m \u001b[38;5;28;01mfor\u001b[39;00m key \u001b[38;5;129;01min\u001b[39;00m signals\u001b[38;5;241m.\u001b[39mkeys():\n",
      "\u001b[0;31mNameError\u001b[0m: name 'run_ret' is not defined"
     ]
    }
   ],
   "source": [
    "indices = np.random.choice(np.arange(N), size=(num_indices, ), replace=False)\n",
    "\n",
    "full_signals = run_ret['signals']\n",
    "signals = {key: full_signal[:, indices] for key, full_signal in full_signals.items()}\n",
    "        \n",
    "for key in signals.keys():\n",
    "    signals[key] += np.random.randn(T, len(indices))*noise_sd\n",
    "\n",
    "results = []\n",
    "iterator = tqdm(total=len(parameter_grid.window_vals)*len(parameter_grid.matrix_size_vals)*len(parameter_grid.r_vals))\n",
    "for window in parameter_grid.window_vals:\n",
    "    for matrix_size in parameter_grid.matrix_size_vals:\n",
    "        delases = {}\n",
    "        exp_variances = {}\n",
    "#         train_signals = []\n",
    "        test_signals = {}\n",
    "        for key, signal in signals.items():\n",
    "            if key in test_keys:\n",
    "                train_signal = signal[transient:transient + window]\n",
    "                test_signal = signal[transient + window:transient + window + prediction_time]\n",
    "                delase = DeLASE(train_signal, matrix_size=matrix_size, dt=dt, use_torch=use_torch, device=device, dtype='torch.DoubleTensor')\n",
    "                delase.to('cpu')\n",
    "                if use_torch:\n",
    "                    exp_variances[key] = delase.cumulative_explained_variance.cpu().double()\n",
    "                else:\n",
    "                    exp_variances[key] = delase.cumulative_explained_variance\n",
    "                delases[key] = delase\n",
    "    #             train_signals.append(train_signal)\n",
    "                test_signals[key] = test_signal\n",
    "        for r in parameter_grid.r_vals:\n",
    "            if r <= np.min([delase.n*delase.p for delase in delases.values()]):\n",
    "                stab_curves = {}\n",
    "                AICs = {}\n",
    "                for key, delase in delases.items():\n",
    "                    delase.to(device)\n",
    "                    delase.compute_havok_dmd(r=r)\n",
    "                    delase.get_stability(max_freq=500, max_unstable_freq=125)\n",
    "\n",
    "                    AICs[key] = compute_AIC(delase, test_signals[key], norm=True)\n",
    "                    if use_torch:\n",
    "                        stab_curves[key] = delase.stability_params.cpu()\n",
    "                    else:\n",
    "                        stab_curves[key] = delase.stability_params\n",
    "\n",
    "                if use_torch:\n",
    "                    exp_variances = np.array([delase.cumulative_explained_variance[r-1].cpu().numpy() for delase in delases.values()])\n",
    "                else:\n",
    "                    exp_variances = np.array([delase.cumulative_explained_variance[r-1] for delase in delases.values()])\n",
    "\n",
    "                results.append(dict(\n",
    "                    window=window,\n",
    "                    matrix_size=matrix_size,\n",
    "                    r=r,\n",
    "                    exp_variances=exp_variances,\n",
    "                    AICs=AICs,\n",
    "                    stab_curves=stab_curves,\n",
    "                ))\n",
    "            iterator.update()\n",
    "iterator.close()\n",
    "results = pd.DataFrame(results)\n",
    "results_dict = {}\n",
    "# for key in signals.keys():\n",
    "for key in test_keys:\n",
    "    ret_temp = results.copy()\n",
    "    ret_temp = ret_temp.drop('AICs', axis=1)\n",
    "    ret_temp = ret_temp.drop('stab_curves', axis=1)\n",
    "    ret_temp = ret_temp.drop('exp_variances', axis=1)\n",
    "    ret_temp['AIC'] = results.AICs.apply(lambda x: x[key])\n",
    "    ret_temp['stab_curves'] = results.stab_curves.apply(lambda x: x[key])\n",
    "    ret_temp = ret_temp.set_index((['window', 'matrix_size', 'r']))\n",
    "    results_dict[key] = ret_temp"
   ]
  },
  {
   "cell_type": "code",
   "execution_count": 20,
   "id": "faa38e09",
   "metadata": {},
   "outputs": [
    {
     "ename": "NameError",
     "evalue": "name 'results_dict' is not defined",
     "output_type": "error",
     "traceback": [
      "\u001b[0;31m---------------------------------------------------------------------------\u001b[0m",
      "\u001b[0;31mNameError\u001b[0m                                 Traceback (most recent call last)",
      "Input \u001b[0;32mIn [20]\u001b[0m, in \u001b[0;36m<cell line: 1>\u001b[0;34m()\u001b[0m\n\u001b[0;32m----> 1\u001b[0m plot_AIC(\u001b[43mresults_dict\u001b[49m)\n",
      "\u001b[0;31mNameError\u001b[0m: name 'results_dict' is not defined"
     ]
    }
   ],
   "source": [
    "plot_AIC(results_dict)"
   ]
  },
  {
   "cell_type": "markdown",
   "id": "c421fb7e",
   "metadata": {
    "tags": []
   },
   "source": [
    "# Compute Dynamical Models"
   ]
  },
  {
   "cell_type": "code",
   "execution_count": 16,
   "id": "8ece4173",
   "metadata": {},
   "outputs": [],
   "source": [
    "# parameter_grid = ParameterGrid(\n",
    "#     window_vals=np.array([10000]),\n",
    "#     matrix_size_vals=np.array([50, 100, 150, 200, 300, 400, 500, 750, 1000, 1500, 2000]),\n",
    "#     r_vals = np.array([3, 5, 10, 25, 50, 75, 100, 125, 150, 200, 250, 300, 350, 400, 450, 500, 550, 600, 650, 700, 750, 800, 900, 1000, 1200, 1400, 1600, 1800])\n",
    "# )\n",
    "\n",
    "prediction_time = 4000\n",
    "transient = 2000\n",
    "window = 10000\n",
    "\n",
    "mean_stab_curve = True\n",
    "# keys = np.array(list(signals.keys()))\n",
    "# key_inds = [i for i in range(len(keys)) if keys[i] >= 1.1]\n",
    "\n",
    "num_indices_list = [2, 10, 20, 30, 40, 50]\n",
    "\n",
    "parameter_grid = ParameterGrid(\n",
    "    window_vals=np.array([10000]),\n",
    "    matrix_size_vals=np.array([2, 5, 10, 20, 30, 40, 50, 100, 150, 200, 250, 300, 350, 400]),\n",
    "    r_vals = np.array([2, 3, 5, 10, 30, 40, 50, 75, 100, 125, 150, 175, 200, 225, 250, 275, 300, 325, 350, 375, 400])\n",
    ")\n",
    "device='cuda'\n",
    "\n",
    "noise_sd = 0"
   ]
  },
  {
   "cell_type": "code",
   "execution_count": 17,
   "id": "51e91e66",
   "metadata": {},
   "outputs": [],
   "source": [
    "files = [f for f in os.listdir(chaotic_net_folder) if 'VAR' not in f and 'DeLASE' not in f and 'dynamics' not in f]\n",
    "files.sort(key=lambda x: int(x.split('_')[1]) if x.split('_')[1] != 'ORIG' else -1)"
   ]
  },
  {
   "cell_type": "code",
   "execution_count": 18,
   "id": "dcc7fae9",
   "metadata": {},
   "outputs": [],
   "source": [
    "for f in files:\n",
    "    if not os.path.exists(os.path.join(chaotic_net_folder, f\"{f}_dynamics\")):\n",
    "        print(\"=\"*40)\n",
    "        print(f\"{f}\")\n",
    "        print(\"=\"*40)\n",
    "\n",
    "        if f == \"RUN_ORIG\":\n",
    "            np.random.seed(41)\n",
    "        else:\n",
    "            np.random.seed(42 + int(f.split('_')[1]))\n",
    "\n",
    "        run_ret = pd.read_pickle(os.path.join(chaotic_net_folder, f))\n",
    "        \n",
    "        all_index_rets = {}\n",
    "        parameter_grid_orig = deepcopy(parameter_grid)\n",
    "        for num_indices in num_indices_list:\n",
    "            print(f\"num_indices = {num_indices}\")\n",
    "            parameter_grid.matrix_size_vals = parameter_grid_orig.matrix_size_vals[parameter_grid_orig.matrix_size_vals >= num_indices]\n",
    "            if num_indices < 10:\n",
    "                parameter_grid.matrix_size_vals = parameter_grid.matrix_size_vals[parameter_grid.matrix_size_vals <= 50*num_indices]\n",
    "            indices = np.random.choice(np.arange(N), size=(num_indices, ), replace=False)\n",
    "\n",
    "            full_signals = run_ret['signals']\n",
    "            signals = {key: full_signal[:, indices] for key, full_signal in full_signals.items()}\n",
    "            keys = list(signals.keys())\n",
    "            for key in signals.keys():\n",
    "                signals[key] += np.random.randn(T, len(indices))*noise_sd\n",
    "\n",
    "            # VAR\n",
    "            A_mats = {}\n",
    "            criticality_inds = {}\n",
    "            AIC_VAR_normed = {}\n",
    "            pb_AIC = {}\n",
    "            for key, signal in tqdm(signals.items(), total=len(signals)):\n",
    "                train_signal = signal[transient:transient + window]\n",
    "                test_signal = signal[transient + window:transient + window + prediction_time]\n",
    "\n",
    "                A_VAR = np.linalg.lstsq(train_signal[:-1], train_signal[1:], rcond=1e-20)[0].T\n",
    "                A_mats[key] = A_VAR\n",
    "                criticality_inds[key] = np.sort(np.abs(np.linalg.eigvals(A_VAR)))[::-1]\n",
    "                n_pts = test_signal.shape[0] - 1\n",
    "                preds = (A_VAR@test_signal[:-1].T).T\n",
    "                AIC_VAR_normed[key] = float(n_pts*np.log(((preds - test_signal[1:])**2).sum()/n_pts) + 2*(A_VAR.shape[0]*A_VAR.shape[1] + 1))/n_pts\n",
    "                pb_AIC[key] = float(n_pts*np.log(((test_signal[:-1] - test_signal[1:])**2).sum()/n_pts))/n_pts\n",
    "            print(\"Computing DeLASE...\")\n",
    "            results = []\n",
    "            iterator = tqdm(total=len(parameter_grid.window_vals)*len(parameter_grid.matrix_size_vals)*len(parameter_grid.r_vals))\n",
    "            for window in parameter_grid.window_vals:\n",
    "                for matrix_size in parameter_grid.matrix_size_vals:\n",
    "                    delases = {}\n",
    "                    exp_variances = {}\n",
    "            #         train_signals = []\n",
    "                    test_signals = {}\n",
    "                    for key, signal in signals.items():\n",
    "                        train_signal = signal[transient:transient + window]\n",
    "                        test_signal = signal[transient + window:transient + window + prediction_time]\n",
    "                        delase = DeLASE(train_signal, matrix_size=matrix_size, dt=dt, device=device)\n",
    "                        delase.DMD.compute_hankel()\n",
    "                        delase.DMD.compute_svd()\n",
    "                        delase.to('cpu')\n",
    "                        # exp_variances[key] = delase.DMD.cumulative_explained_variance.cpu().double()\n",
    "                        delases[key] = delase\n",
    "            #             train_signals.append(train_signal)\n",
    "                        test_signals[key] = test_signal\n",
    "                    for r in parameter_grid.r_vals:\n",
    "                        if r <= np.min([delase.n*delase.n_delays for delase in delases.values()]):\n",
    "                            stab_curves = {}\n",
    "                            AICs = {}\n",
    "                            for key, delase in delases.items():\n",
    "                                delase.to(device)\n",
    "                                delase.DMD.compute_havok_dmd(rank=r)\n",
    "                                delase.get_stability(max_freq=500, max_unstable_freq=125)\n",
    "\n",
    "                                AICs[key] = compute_AIC(delase, test_signals[key], norm=True)\n",
    "                                if use_torch:\n",
    "                                    stab_curves[key] = delase.stability_params.cpu()\n",
    "                                else:\n",
    "                                    stab_curves[key] = delase.stability_params\n",
    "\n",
    "                            exp_variances = np.array([delase.DMD.cumulative_explained_variance[r-1].cpu().numpy() for delase in delases.values()])\n",
    "            \n",
    "                            results.append(dict(\n",
    "                                window=window,\n",
    "                                matrix_size=matrix_size,\n",
    "                                r=r,\n",
    "                                exp_variances=exp_variances,\n",
    "                                AICs=AICs,\n",
    "                                stab_curves=stab_curves,\n",
    "                            ))\n",
    "\n",
    "                        iterator.update()\n",
    "            iterator.close()\n",
    "\n",
    "            results = pd.DataFrame(results)\n",
    "            results_dict = {}\n",
    "            for key in signals.keys():\n",
    "                ret_temp = results.copy()\n",
    "                ret_temp = ret_temp.drop('AICs', axis=1)\n",
    "                ret_temp = ret_temp.drop('stab_curves', axis=1)\n",
    "                ret_temp = ret_temp.drop('exp_variances', axis=1)\n",
    "                ret_temp['AIC'] = results.AICs.apply(lambda x: x[key])\n",
    "                ret_temp['stab_curves'] = results.stab_curves.apply(lambda x: x[key])\n",
    "                ret_temp = ret_temp.set_index((['window', 'matrix_size', 'r']))\n",
    "                results_dict[key] = ret_temp\n",
    "\n",
    "\n",
    "            all_index_rets[num_indices] = dict(\n",
    "                delase=results_dict,\n",
    "                VAR=dict(\n",
    "                    A_mats=A_mats,\n",
    "                    criticality_inds=criticality_inds,\n",
    "                    AIC_VAR_normed=AIC_VAR_normed\n",
    "                ),\n",
    "                pb=dict(\n",
    "                    AIC=pb_AIC\n",
    "                )\n",
    "            )\n",
    "            \n",
    "        pd.to_pickle(all_index_rets, os.path.join(chaotic_net_folder, f\"{f}_dynamics\"))"
   ]
  },
  {
   "cell_type": "code",
   "execution_count": 19,
   "id": "07f8cc0f-906e-4db2-9daa-1aa18564afdf",
   "metadata": {},
   "outputs": [],
   "source": [
    "run0_orig = pd.read_pickle(os.path.join(chaotic_net_folder, \"RUN_0_dynamics\"))"
   ]
  },
  {
   "cell_type": "markdown",
   "id": "9721f104",
   "metadata": {
    "tags": []
   },
   "source": [
    "# Test an Example Again"
   ]
  },
  {
   "cell_type": "code",
   "execution_count": null,
   "id": "506e7d2d",
   "metadata": {},
   "outputs": [],
   "source": [
    "g_vals = list(signals.keys())"
   ]
  },
  {
   "cell_type": "code",
   "execution_count": null,
   "id": "1b913fb8",
   "metadata": {},
   "outputs": [],
   "source": [
    "g_min = 0.75\n",
    "g_max = 1.4"
   ]
  },
  {
   "cell_type": "code",
   "execution_count": null,
   "id": "ed0af65c",
   "metadata": {},
   "outputs": [],
   "source": [
    "clipped_g_vals = [g for g in g_vals if g >= g_min and g <= g_max]"
   ]
  },
  {
   "cell_type": "code",
   "execution_count": null,
   "id": "f49e9309",
   "metadata": {},
   "outputs": [],
   "source": [
    "window, matrix_size, r, all_results = combine_grid_results({key: ret_dict['delase'][key] for key in clipped_g_vals})"
   ]
  },
  {
   "cell_type": "code",
   "execution_count": null,
   "id": "da6cad4e",
   "metadata": {},
   "outputs": [],
   "source": [
    "plot_AIC({key: ret_dict['delase'][key] for key in clipped_g_vals})"
   ]
  },
  {
   "cell_type": "code",
   "execution_count": null,
   "id": "d568f1cf",
   "metadata": {},
   "outputs": [],
   "source": [
    "plt.plot(clipped_g_vals, [ret_dict['VAR']['AIC_VAR_normed'][key] for key in clipped_g_vals])\n",
    "plt.plot(clipped_g_vals, [ret_dict['delase'][key].loc[(window, matrix_size, r)].AIC for key in clipped_g_vals])\n",
    "plt.plot(clipped_g_vals, [ret_dict['delase'][key].loc[(window, 100, 100)].AIC for key in clipped_g_vals])"
   ]
  },
  {
   "cell_type": "code",
   "execution_count": null,
   "id": "7027a255",
   "metadata": {},
   "outputs": [],
   "source": [
    "top_percent = 0.1\n",
    "top_percent_VAR = 0.1"
   ]
  },
  {
   "cell_type": "code",
   "execution_count": null,
   "id": "d1f68a3a",
   "metadata": {},
   "outputs": [],
   "source": [
    "len(clipped_g_vals), len(g_vals)"
   ]
  },
  {
   "cell_type": "code",
   "execution_count": null,
   "id": "fe46080f",
   "metadata": {},
   "outputs": [],
   "source": [
    "VAR_stab = [ret_dict['VAR']['criticality_inds'][key][:int(top_percent_VAR*len(ret_dict['VAR']['criticality_inds'][key]))].mean() for key in clipped_g_vals]\n",
    "plt.plot(clipped_g_vals, VAR_stab, c='k', linestyle='--')\n",
    "ax2 = plt.gca().twinx()\n",
    "ax2.plot(clipped_g_vals, [run_ret['lyaps'][key][0] for key in clipped_g_vals])\n",
    "plt.title(fr\"VAR: $\\rho = ${scipy.stats.spearmanr(VAR_stab, [run_ret['lyaps'][key][0] for key in clipped_g_vals])[0]:.5f}\")\n",
    "plt.show()"
   ]
  },
  {
   "cell_type": "code",
   "execution_count": null,
   "id": "9066ccab",
   "metadata": {},
   "outputs": [],
   "source": [
    "delase_stab = [ret_dict['delase'][key].loc[(window, matrix_size, r)].stab_curves[:int(top_percent*len(ret_dict['delase'][key].loc[(window, matrix_size, r)].stab_curves))].mean() for key in clipped_g_vals]\n",
    "plt.plot(clipped_g_vals, delase_stab, c='k', linestyle='--')\n",
    "ax2 = plt.gca().twinx()\n",
    "ax2.plot(clipped_g_vals, [run_ret['lyaps'][key][0] for key in clipped_g_vals])\n",
    "plt.title(fr\"DeLASE: $\\rho = ${scipy.stats.spearmanr(delase_stab, [run_ret['lyaps'][key][0] for key in clipped_g_vals])[0]:.5f}\")\n",
    "plt.show()"
   ]
  },
  {
   "cell_type": "code",
   "execution_count": null,
   "id": "5f074494",
   "metadata": {},
   "outputs": [],
   "source": [
    "VAR_max = [(ret_dict['VAR']['criticality_inds'][key][0] - 1)/dt for key in clipped_g_vals]\n",
    "delase_max = [ret_dict['delase'][key].loc[(window, matrix_size, r)].stab_curves[0] for key in clipped_g_vals]\n",
    "\n",
    "plt.plot(clipped_g_vals, VAR_max)\n",
    "plt.plot(clipped_g_vals, delase_max)\n",
    "plt.axhline(0, linestyle='--', c='k')\n",
    "ax2 = plt.gca().twinx()\n",
    "ax2.plot(clipped_g_vals, [run_ret['lyaps'][key][0] for key in clipped_g_vals], c='purple')\n",
    "ax2.axhline(0, linestyle='--', c='k')\n",
    "plt.show()"
   ]
  },
  {
   "cell_type": "markdown",
   "id": "140c0d45",
   "metadata": {},
   "source": [
    "# Analyze Results"
   ]
  },
  {
   "cell_type": "code",
   "execution_count": 20,
   "id": "137b925b-4e96-49ca-a8f0-e89ac2f0a7f2",
   "metadata": {},
   "outputs": [],
   "source": [
    "num_indices_list = [2, 10, 20, 30, 40, 50]\n",
    "dt = 0.001"
   ]
  },
  {
   "cell_type": "code",
   "execution_count": 21,
   "id": "0e68b749",
   "metadata": {},
   "outputs": [],
   "source": [
    "def compute_nonnormality(A, normalized=False, return_eigvals=False):\n",
    "    fro_norm = np.linalg.norm(A)**2\n",
    "    eigvals = np.linalg.eigvals(A)\n",
    "    eigval_sum = (np.abs(eigvals)**2).sum()\n",
    "    if normalized:\n",
    "        scale = 1/np.sqrt(A.shape[0])\n",
    "    else:\n",
    "        scale = 1\n",
    "    nonnormality = np.sqrt(fro_norm - eigval_sum)*scale\n",
    "    if return_eigvals:\n",
    "        return nonnormality, eigvals\n",
    "    else:\n",
    "        return nonnormality"
   ]
  },
  {
   "cell_type": "code",
   "execution_count": 22,
   "id": "1b27ede5",
   "metadata": {},
   "outputs": [],
   "source": [
    "ret_files = [f for f in os.listdir(chaotic_net_folder) if 'DeLASE' not in f and 'VAR' not in f and 'dynamics' not in f]\n",
    "ret_files.sort()"
   ]
  },
  {
   "cell_type": "code",
   "execution_count": 23,
   "id": "37e33eca",
   "metadata": {},
   "outputs": [],
   "source": [
    "g_min = 0.8\n",
    "g_max = 1.4"
   ]
  },
  {
   "cell_type": "code",
   "execution_count": 24,
   "id": "795d4e34",
   "metadata": {},
   "outputs": [],
   "source": [
    "window = 10000\n",
    "transient = 2000"
   ]
  },
  {
   "cell_type": "code",
   "execution_count": 25,
   "id": "8155d2c2",
   "metadata": {},
   "outputs": [],
   "source": [
    "# g_vals = np.array(list(all_rets[0]['lyaps'].keys()))"
   ]
  },
  {
   "cell_type": "code",
   "execution_count": 26,
   "id": "2f057469",
   "metadata": {},
   "outputs": [],
   "source": [
    "# pd.read_pickle(os.path.join(chaotic_net_folder, ret_file + '_dynamics')).keys()\n",
    "# dict_keys([2, 10, 20, 30, 40, 50])"
   ]
  },
  {
   "cell_type": "code",
   "execution_count": 27,
   "id": "722003c2",
   "metadata": {},
   "outputs": [
    {
     "data": {
      "application/vnd.jupyter.widget-view+json": {
       "model_id": "d1a69d46ef5c4101ba35ffc2d006fd08",
       "version_major": 2,
       "version_minor": 0
      },
      "text/plain": [
       "  0%|          | 0/60 [00:00<?, ?it/s]"
      ]
     },
     "metadata": {},
     "output_type": "display_data"
    },
    {
     "name": "stdout",
     "output_type": "stream",
     "text": [
      "30 30\n",
      "30 30\n",
      "10 10\n",
      "50 40\n",
      "50 40\n",
      "50 40\n",
      "50 40\n",
      "50 40\n",
      "50 40\n",
      "50 40\n"
     ]
    }
   ],
   "source": [
    "all_rets = {}\n",
    "all_rets_VAR = {}\n",
    "iterator = tqdm(total=len(num_indices_list)*len(ret_files))\n",
    "# for num_indices in num_indices_list:\n",
    "for num_indices in [10]:\n",
    "    all_rets[num_indices] = []\n",
    "    all_rets_VAR[num_indices] = []\n",
    "    for ret_file in ret_files:\n",
    "        if os.path.exists(os.path.join(chaotic_net_folder, ret_file + '_dynamics')):\n",
    "            signal_rets = pd.read_pickle(os.path.join(chaotic_net_folder, ret_file))\n",
    "            all_rets[num_indices].append({'lyaps': {key: signal_rets['lyaps'][key][0] for key in signal_rets['lyaps'].keys() if key >= g_min and key <= g_max}})\n",
    "            all_rets_VAR[num_indices].append({'lyaps': {key: signal_rets['lyaps'][key][0] for key in signal_rets['lyaps'].keys() if key >= g_min and key <= g_max}})\n",
    "\n",
    "            # all_rets[num_indices].append({'lyaps': {key: signal_rets['lyaps'][key][:3].mean() for key in signal_rets['lyaps'].keys() if key >= g_min and key <= g_max}})\n",
    "            # all_rets_VAR[num_indices].append({'lyaps': {key: signal_rets['lyaps'][key][:3].mean() for key in signal_rets['lyaps'].keys() if key >= g_min and key <= g_max}})\n",
    "\n",
    "            dynamic_rets = pd.read_pickle(os.path.join(chaotic_net_folder, ret_file + '_dynamics'))[num_indices]\n",
    "            window, matrix_size, r, all_results = combine_grid_results({key: dynamic_rets['delase'][key] for key in dynamic_rets['delase'].keys() if key >= g_min and key <= g_max})\n",
    "            if num_indices == 10:\n",
    "                print(matrix_size, r)\n",
    "    #         matrix_size = 100\n",
    "    #         r = 100 \n",
    "            all_rets[num_indices][-1]['stab_curves'] = {key: dynamic_rets['delase'][key].loc[(window, matrix_size, r)].stab_curves for key in dynamic_rets['delase'].keys() if key >= g_min and key <= g_max}\n",
    "            all_rets_VAR[num_indices][-1]['stab_curves'] = {key: dynamic_rets['VAR']['criticality_inds'][key] for key in dynamic_rets['VAR']['criticality_inds'].keys() if key >= g_min and key <= g_max}\n",
    "    \n",
    "        iterator.update()\n",
    "iterator.close()"
   ]
  },
  {
   "cell_type": "code",
   "execution_count": 28,
   "id": "bd453872",
   "metadata": {},
   "outputs": [],
   "source": [
    "g_vals = np.array(list(all_rets[10][0]['lyaps'].keys()))"
   ]
  },
  {
   "cell_type": "code",
   "execution_count": 29,
   "id": "c19498e1",
   "metadata": {},
   "outputs": [
    {
     "data": {
      "text/plain": [
       "[2, 10, 20, 30, 40, 50]"
      ]
     },
     "execution_count": 29,
     "metadata": {},
     "output_type": "execute_result"
    }
   ],
   "source": [
    "num_indices_list"
   ]
  },
  {
   "cell_type": "code",
   "execution_count": 30,
   "id": "1837a66f",
   "metadata": {},
   "outputs": [
    {
     "name": "stdout",
     "output_type": "stream",
     "text": [
      "[-19.778336191549897, -14.685489924438299, -9.5299452918116, -7.026718952064402, -4.425476759346202, -1.9925763749987093, 0.6011122726601418, 2.2520126306876533, 2.2796300758555583, 2.0858903413567496, 2.255653674444564, 2.114008061594359, 2.1351419598637293, 1.8019691708031047, 2.1968923332579364, 5.051559825634036, 4.8170840304091325, 5.183042296477285, 5.385274212826404]\n"
     ]
    },
    {
     "ename": "ValueError",
     "evalue": "",
     "output_type": "error",
     "traceback": [
      "\u001b[0;31m---------------------------------------------------------------------------\u001b[0m",
      "\u001b[0;31mValueError\u001b[0m                                Traceback (most recent call last)",
      "Cell \u001b[0;32mIn[30], line 23\u001b[0m\n\u001b[1;32m     21\u001b[0m \u001b[38;5;28;01mfor\u001b[39;00m ret \u001b[38;5;129;01min\u001b[39;00m all_rets[num_indices]:\n\u001b[1;32m     22\u001b[0m     \u001b[38;5;28mprint\u001b[39m([ret[\u001b[38;5;124m'\u001b[39m\u001b[38;5;124mlyaps\u001b[39m\u001b[38;5;124m'\u001b[39m][key] \u001b[38;5;28;01mfor\u001b[39;00m key \u001b[38;5;129;01min\u001b[39;00m g_vals])\n\u001b[0;32m---> 23\u001b[0m     \u001b[38;5;28;01mraise\u001b[39;00m \u001b[38;5;167;01mValueError\u001b[39;00m\n\u001b[1;32m     24\u001b[0m     mean_lyaps \u001b[38;5;241m+\u001b[39m\u001b[38;5;241m=\u001b[39m np\u001b[38;5;241m.\u001b[39marray([ret[\u001b[38;5;124m'\u001b[39m\u001b[38;5;124mlyaps\u001b[39m\u001b[38;5;124m'\u001b[39m][key] \u001b[38;5;28;01mfor\u001b[39;00m key \u001b[38;5;129;01min\u001b[39;00m g_vals])\n\u001b[1;32m     25\u001b[0m     counts_lyaps \u001b[38;5;241m+\u001b[39m\u001b[38;5;241m=\u001b[39m \u001b[38;5;241m1\u001b[39m\n",
      "\u001b[0;31mValueError\u001b[0m: "
     ]
    }
   ],
   "source": [
    "\n",
    "\n",
    "num_indices = 10\n",
    "\n",
    "top_percent = 0.1\n",
    "top_percent_VAR = 0.1\n",
    "if num_indices < 10:\n",
    "    top_percent_VAR = 1/num_indices\n",
    "\n",
    "########\n",
    "\n",
    "k = len(all_rets[num_indices][0]['lyaps'].keys())\n",
    "mean_lyaps = np.zeros(k)\n",
    "mean_stab = np.zeros(k)\n",
    "mean_stab_VAR = np.zeros(k)\n",
    "# mean_nonnorm = np.zeros(k)\n",
    "\n",
    "counts_lyaps = np.zeros(k)\n",
    "counts_stab = np.zeros(k)\n",
    "counts_stab_VAR = np.zeros(k)\n",
    "# counts_nonnorm = np.zeros(k)\n",
    "\n",
    "for ret in all_rets[num_indices]:\n",
    "    mean_lyaps += np.array([ret['lyaps'][key] for key in g_vals])\n",
    "    counts_lyaps += 1\n",
    "    \n",
    "    mean_stab += np.array([ret['stab_curves'][key][:int(top_percent*len(ret['stab_curves'][key]))].sum() for key in g_vals])\n",
    "    counts_stab += np.array([int(top_percent*len(ret['stab_curves'][key])) for key in g_vals])\n",
    "\n",
    "for ret in all_rets_VAR[num_indices]:\n",
    "    mean_stab_VAR += np.array([(np.log(ret['stab_curves'][key][:int(top_percent_VAR*len(ret['stab_curves'][key]))])/dt).sum() for key in g_vals])\n",
    "    counts_stab_VAR += np.array([int(top_percent_VAR*len(ret['stab_curves'][key])) for key in g_vals])\n",
    "    \n",
    "#     mean_nonnorm += np.array([ret['nonnormalities'][key] for key in g_vals])\n",
    "#     counts_nonnorm += 1\n",
    "    \n",
    "mean_lyaps /= counts_lyaps\n",
    "mean_stab /= counts_stab\n",
    "mean_stab_VAR /= counts_stab_VAR\n",
    "# mean_nonnorm /= counts_nonnorm\n",
    "\n",
    "k = len(all_rets[num_indices][0]['lyaps'].keys())\n",
    "se_lyaps = np.zeros(k)\n",
    "se_stab = np.zeros(k)\n",
    "se_stab_VAR = np.zeros(k)\n",
    "# se_nonnorm = np.zeros(k)\n",
    "\n",
    "for ret in all_rets[num_indices]:\n",
    "    se_lyaps += (np.array([ret['lyaps'][key] for key in g_vals]) - mean_lyaps)**2\n",
    "    \n",
    "    se_stab +=  np.array([((ret['stab_curves'][key][:int(top_percent*len(ret['stab_curves'][key]))] - mean_stab[np.where(g_vals == key)[0]])**2).sum() for key in g_vals])\n",
    "    \n",
    "for ret in all_rets_VAR[num_indices]:\n",
    "    se_stab_VAR +=  np.array([((np.log(ret['stab_curves'][key][:int(top_percent_VAR*len(ret['stab_curves'][key]))])/dt - mean_stab[np.where(g_vals == key)[0]])**2).sum() for key in g_vals])\n",
    "    \n",
    "#     se_nonnorm += (np.array([ret['nonnormalities'][key] for key in g_vals]) - mean_nonnorm)**2\n",
    "\n",
    "se_lyaps /= counts_lyaps\n",
    "se_lyaps = np.sqrt(se_lyaps)\n",
    "se_lyaps /= np.sqrt(counts_lyaps)\n",
    "\n",
    "se_stab /= counts_stab\n",
    "se_stab = np.sqrt(se_stab)\n",
    "se_stab /= np.sqrt(counts_stab)\n",
    "\n",
    "se_stab_VAR /= counts_stab_VAR\n",
    "se_stab_VAR = np.sqrt(se_stab_VAR)\n",
    "se_stab_VAR /= np.sqrt(counts_stab_VAR)\n",
    "\n",
    "# se_nonnorm /= counts_nonnorm\n",
    "# se_nonnorm = np.sqrt(se_nonnorm)\n",
    "# se_nonnorm /= np.sqrt(counts_nonnorm)"
   ]
  },
  {
   "cell_type": "code",
   "execution_count": 72,
   "id": "72377c61-3290-4586-a580-31935cba3ad5",
   "metadata": {},
   "outputs": [],
   "source": [
    "img_save_dir = '/scratch2/weka/millerlab/eisenaj/ChaoticConsciousness/plots'\n",
    "data_save_dir = '/scratch2/weka/millerlab/eisenaj/ChaoticConsciousness/figure_data'\n",
    "figure3_rnn = {}"
   ]
  },
  {
   "cell_type": "code",
   "execution_count": 73,
   "id": "e8e776b7",
   "metadata": {},
   "outputs": [
    {
     "data": {
      "image/png": "[encoded data removed]",
      "text/plain": [
       "<Figure size 700x500 with 2 Axes>"
      ]
     },
     "metadata": {},
     "output_type": "display_data"
    }
   ],
   "source": [
    "tick_fontsize = 13\n",
    "ylabel_fontsize = 15\n",
    "xlabel_fontsize = 15\n",
    "title_fontsize = 16\n",
    "\n",
    "start_pos = 0\n",
    "end_pos = len(g_vals)\n",
    "\n",
    "fig, axs = plt.subplots(1, 1, figsize=(7, 5))\n",
    "\n",
    "color = 'navy'\n",
    "\n",
    "figure3_rnn = {\n",
    "    'g': g_vals[start_pos:end_pos],\n",
    "    'predicted_mean_delase': mean_stab[start_pos:end_pos],\n",
    "    'predicted_se_delase': se_stab[start_pos:end_pos],\n",
    "    'lyaps_mean': mean_lyaps[start_pos:end_pos],\n",
    "    'lyaps_se': se_lyaps[start_pos:end_pos]\n",
    "}\n",
    "\n",
    "ax = axs\n",
    "lns = []\n",
    "lns += ax.plot(g_vals[start_pos:end_pos], mean_stab[start_pos:end_pos], marker='o', linestyle='--', c='k', markersize=4, label='predicted stability')\n",
    "ylim = ax.get_ylim()\n",
    "# ax.fill_between(g_vals, mean_stab - se_stab, mean_stab + se_stab, alpha=0.4)\n",
    "ax.errorbar(g_vals[start_pos:end_pos], mean_stab[start_pos:end_pos], marker='o', yerr=se_stab[start_pos:end_pos], linestyle='--', c='k', markersize=4)\n",
    "ax.set_ylim(ylim)\n",
    "ax2 = ax.twinx()\n",
    "lns += ax2.plot(g_vals[start_pos:end_pos], mean_lyaps[start_pos:end_pos], color=color, marker='o', markersize=4, label='ground truth stability')\n",
    "ylim = ax2.get_ylim()\n",
    "ax2.errorbar(g_vals[start_pos:end_pos], mean_lyaps[start_pos:end_pos], color=color, yerr=se_lyaps[start_pos:end_pos], marker='o', markersize=4)\n",
    "# ax2.fill_between(g_vals, mean_lyaps - se_lyaps, mean_lyaps + se_lyaps, color='k', alpha = 0.1)\n",
    "ax2.set_ylim(ylim)\n",
    "\n",
    "ax.tick_params(labelsize=tick_fontsize)\n",
    "# ax.set_ylabel('Instability\\n(Mean of Top 10%, $s^{-1}$)', fontsize=ylabel_fontsize)\n",
    "ax.set_ylabel('Instability ($s^{-1}$)', fontsize=ylabel_fontsize)\n",
    "ax.set_xlabel('RNN Synaptic Gain $g$', fontsize=xlabel_fontsize)\n",
    "\n",
    "# ax.text(1.2, -38, f\"DeLASE\\nMeasuring Ground Truth\\nStability in RNN Models\\n{num_indices*100/N:.1f}% partial observation\\n\" + fr\"$\\rho = ${scipy.stats.spearmanr(mean_stab[start_pos:end_pos], mean_lyaps[start_pos:end_pos])[0]:.3f}\", ha='center', fontsize=title_fontsize)\n",
    "ax.text(1.2, -20, fr\"$\\rho = ${scipy.stats.spearmanr(mean_stab[start_pos:end_pos], mean_lyaps[start_pos:end_pos])[0]:.3f}\", ha='center', fontsize=title_fontsize + 4)\n",
    "\n",
    "ax2.tick_params(labelsize=tick_fontsize)\n",
    "ax2.set_ylabel('Maximum Lyapunov Exponent ($s^{-1}$)', fontsize=ylabel_fontsize, color=color)\n",
    "\n",
    "ax.spines[['top']].set_visible(False)\n",
    "ax.xaxis.set_ticks_position('bottom')\n",
    "ax.yaxis.set_ticks_position('left')\n",
    "ax2.spines[['top']].set_visible(False)\n",
    "ax2.xaxis.set_ticks_position('bottom')\n",
    "ax2.yaxis.set_ticks_position('right')\n",
    "ax2.tick_params(axis='y', color=color)\n",
    "\n",
    "#  bbox_to_anchor=(1.2, 1)\n",
    "plt.legend(lns, [ln.get_label() for ln in lns], loc='lower right', fontsize=15)\n",
    "\n",
    "plt.tight_layout()\n",
    "\n",
    "# plt.savefig(os.path.join(img_save_dir, 'chaotic-delase.pdf'), bbox_inches='tight', transparent=True)\n",
    "\n",
    "plt.show()"
   ]
  },
  {
   "cell_type": "code",
   "execution_count": 75,
   "id": "cf769ba0",
   "metadata": {},
   "outputs": [
    {
     "data": {
      "image/png": "[encoded data removed]",
      "text/plain": [
       "<Figure size 500x500 with 2 Axes>"
      ]
     },
     "metadata": {},
     "output_type": "display_data"
    }
   ],
   "source": [
    "\n",
    "\n",
    "tick_fontsize = 13\n",
    "ylabel_fontsize = 15\n",
    "xlabel_fontsize = 15\n",
    "title_fontsize = 16\n",
    "\n",
    "fig, axs = plt.subplots(1, 1, figsize=(5, 5))\n",
    "\n",
    "ax = axs\n",
    "lns = []\n",
    "lns += ax.plot(g_vals[start_pos:end_pos], mean_stab_VAR[start_pos:end_pos], marker='o', linestyle='--', c='gray', markersize=4, label='predicted stability (VAR)')\n",
    "ylim = ax.get_ylim()\n",
    "# ax.fill_between(g_vals, mean_stab - se_stab, mean_stab + se_stab, alpha=0.4)\n",
    "ax.errorbar(g_vals[start_pos:end_pos], mean_stab_VAR[start_pos:end_pos], marker='o', yerr=se_stab_VAR[start_pos:end_pos], linestyle='--', c='gray', markersize=4)\n",
    "\n",
    "figure3_rnn['predicted_means_VAR'] = mean_stab_VAR[start_pos:end_pos]\n",
    "figure3_rnn['predicted_se_VAR'] = se_stab_VAR[start_pos:end_pos]\n",
    "\n",
    "ax.set_ylim(ylim)\n",
    "ax2 = ax.twinx()\n",
    "lns += ax2.plot(g_vals[start_pos:end_pos], mean_lyaps[start_pos:end_pos], marker='o', markersize=4, c=color, label='ground truth stability')\n",
    "ylim = ax2.get_ylim()\n",
    "ax2.errorbar(g_vals[start_pos:end_pos], mean_lyaps[start_pos:end_pos], yerr=se_lyaps[start_pos:end_pos], c=color, marker='o', markersize=4)\n",
    "# ax2.fill_between(g_vals, mean_lyaps - se_lyaps, mean_lyaps + se_lyaps, color='k', alpha = 0.1)\n",
    "ax2.set_ylim(ylim)\n",
    "\n",
    "ax.tick_params(labelsize=tick_fontsize)\n",
    "# ax.set_ylabel('Instability\\n(Mean of Top 10%, $s^{-1}$)', fontsize=ylabel_fontsize)\n",
    "ax.set_ylabel('Instability ($s^{-1}$)', fontsize=ylabel_fontsize, color='gray')\n",
    "ax.tick_params(axis='y', color='gray')\n",
    "ax.set_xlabel('RNN Synaptic Gain $g$', fontsize=xlabel_fontsize)\n",
    "\n",
    "# ax.text(1.2, -30, f\"VAR\\n{num_indices*100/N:.1f}% partial observation\\n\" + fr\"$\\rho = ${scipy.stats.spearmanr(mean_stab_VAR[start_pos:end_pos], mean_lyaps[start_pos:end_pos])[0]:.3f}\", ha='center', fontsize=title_fontsize)\n",
    "ax.text(1.2, -15, fr\"$\\rho = ${scipy.stats.spearmanr(mean_stab_VAR[start_pos:end_pos], mean_lyaps[start_pos:end_pos])[0]:.3f}\", ha='center', fontsize=title_fontsize + 4)\n",
    "\n",
    "ax2.tick_params(labelsize=tick_fontsize)\n",
    "ax2.set_ylabel('Maximum Lyapunov Exponent ($s^{-1}$)', fontsize=ylabel_fontsize, color=color)\n",
    "\n",
    "ax.spines[['top']].set_visible(False)\n",
    "ax.xaxis.set_ticks_position('bottom')\n",
    "ax.yaxis.set_ticks_position('left')\n",
    "ax2.spines[['top']].set_visible(False)\n",
    "ax2.xaxis.set_ticks_position('bottom')\n",
    "ax2.yaxis.set_ticks_position('right')\n",
    "ax2.tick_params(axis='y', color=color)\n",
    "\n",
    "# ylim2 = [(mean_stab_VAR[start_pos:end_pos] - se_stab_VAR[start_pos:end_pos]).min(), (mean_stab_VAR[start_pos:end_pos] + se_stab_VAR[start_pos:end_pos]).max()]\n",
    "# ax.set_ylim(ylim2)\n",
    "\n",
    "#  bbox_to_anchor=(1.2, 1)\n",
    "plt.legend(lns, [ln.get_label() for ln in lns], loc='lower right', fontsize=15)\n",
    "# plt.savefig(os.path.join(img_save_dir, 'chaotic-VAR.pdf'), bbox_inches='tight', transparent=True)\n",
    "plt.show()"
   ]
  },
  {
   "cell_type": "code",
   "execution_count": 77,
   "id": "56c0c709-f676-4ccf-b130-57e045c83c7b",
   "metadata": {},
   "outputs": [],
   "source": [
    "scipy.io.savemat(os.path.join(data_save_dir, 'figure3_rnn.mat'), figure3_rnn)"
   ]
  },
  {
   "cell_type": "code",
   "execution_count": null,
   "id": "e87a74c0-67c6-4126-b322-6115f953c397",
   "metadata": {},
   "outputs": [],
   "source": []
  }
 ],
 "metadata": {
  "kernelspec": {
   "display_name": "Python 3 (ipykernel)",
   "language": "python",
   "name": "python3"
  },
  "language_info": {
   "codemirror_mode": {
    "name": "ipython",
    "version": 3
   },
   "file_extension": ".py",
   "mimetype": "text/x-python",
   "name": "python",
   "nbconvert_exporter": "python",
   "pygments_lexer": "ipython3",
   "version": "3.11.6"
  }
 },
 "nbformat": 4,
 "nbformat_minor": 5
}
