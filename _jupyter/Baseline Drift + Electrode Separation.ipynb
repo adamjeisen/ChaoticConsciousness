{
 "cells": [
  {
   "cell_type": "code",
   "execution_count": 1,
   "id": "8e5aa37c-b98c-4223-936e-47366a7f890e",
   "metadata": {},
   "outputs": [],
   "source": [
    "%load_ext autoreload"
   ]
  },
  {
   "cell_type": "code",
   "execution_count": 2,
   "id": "706698fb-ec96-4967-9bd2-370f2416d167",
   "metadata": {},
   "outputs": [],
   "source": [
    "%autoreload 2\n",
    "\n",
    "from copy import deepcopy\n",
    "import logging\n",
    "from matplotlib.cm import get_cmap, ScalarMappable \n",
    "from matplotlib.colors import Normalize, to_rgba\n",
    "import matplotlib.pyplot as plt\n",
    "import pandas as pd\n",
    "import scipy\n",
    "from scipy.integrate import solve_ivp\n",
    "import socket\n",
    "from sklearn.metrics import r2_score\n",
    "import sys\n",
    "\n",
    "sys.path.append('..')\n",
    "from data_utils import *\n",
    "from plot_utils import barplot_annotate_brackets\n",
    "\n",
    "plt.style.use('../sci_style.py')"
   ]
  },
  {
   "cell_type": "code",
   "execution_count": 3,
   "id": "b01ffcd7-2ebf-4159-b940-f9ff93f57627",
   "metadata": {},
   "outputs": [],
   "source": [
    "if socket.gethostname() == 'millerlab-endeavourOS':\n",
    "    img_save_dir = \"/home/adameisen/Documents/data/ChaoticConsciousness/images\"\n",
    "    data_save_dir = \"/home/adameisen/Documents/data/ChaoticConsciousness/figure_data\"\n",
    "else:\n",
    "    img_save_dir = \"/scratch2/weka/millerlab/eisenaj/ChaoticConsciousness/images\"\n",
    "    data_save_dir = \"/scratch2/weka/millerlab/eisenaj/ChaoticConsciousness/figure_data\""
   ]
  },
  {
   "cell_type": "markdown",
   "id": "0bb8fbeb-d58e-4647-9499-f5c23a9735e2",
   "metadata": {},
   "source": [
    "# Load Data"
   ]
  },
  {
   "cell_type": "code",
   "execution_count": 4,
   "id": "c5f2e9eb-9b82-43c3-9645-cdff47caef89",
   "metadata": {},
   "outputs": [],
   "source": [
    "# # session = 'Mary-Anesthesia-20160912-02'\n",
    "# # session = 'MrJones-Anesthesia-20160109-01'\n",
    "# # session = 'Mary-Anesthesia-20160826-02'\n",
    "# # session = 'MrJones-Anesthesia-20160107-01'\n",
    "# # session = 'Mary-Anesthesia-20160822-02'\n",
    "# # session = 'MrJones-Anesthesia-20160113-01'\n",
    "# # session = 'Mary-Anesthesia-20160809-01'\n",
    "# # session = 'MrJones-Anesthesia-20160121-01'\n",
    "# # session = 'Mary-Anesthesia-20160831-02'\n",
    "# session = 'MrJones-Anesthesia-20160105-01'\n",
    "\n",
    "# session_list = ['Mary-Anesthesia-20160912-02',\n",
    "# 'MrJones-Anesthesia-20160109-01',\n",
    "# 'Mary-Anesthesia-20160826-02',\n",
    "# 'MrJones-Anesthesia-20160107-01']\n",
    "\n",
    "# max_freq = 500\n",
    "# max_unstable_freq = 125\n",
    "norm = False\n",
    "subsample = 1\n",
    "\n",
    "if socket.gethostname() == 'millerlab-endeavourOS':\n",
    "    results_dir = \"/home/adameisen/Documents/data/ChaoticConsciousness/stability_results_redone/stability_results\"\n",
    "else:\n",
    "    results_dir = '/scratch2/weka/millerlab/eisenaj/ChaoticConsciousness/stability_results_redone/stability_results'\n",
    "\n",
    "session_list = os.listdir(results_dir)"
   ]
  },
  {
   "cell_type": "code",
   "execution_count": 5,
   "id": "71a949a2-03c5-4965-a4e9-1257f7335c40",
   "metadata": {},
   "outputs": [
    {
     "data": {
      "application/vnd.jupyter.widget-view+json": {
       "model_id": "8ec52507e5e04c269de6e972868175ed",
       "version_major": 2,
       "version_minor": 0
      },
      "text/plain": [
       "  0%|          | 0/21 [00:00<?, ?it/s]"
      ]
     },
     "metadata": {},
     "output_type": "display_data"
    },
    {
     "name": "stdout",
     "output_type": "stream",
     "text": [
      "------------------------------\n",
      "SESSION = MrJones-Anesthesia-20160105-01\n",
      "------------------------------\n",
      "loading data...\n",
      "Loading data: ['electrodeInfo', 'lfp', 'lfpSchema', 'sessionInfo', 'trialInfo', 'unitInfo']...\n",
      "electrodeInfo : dict with keys[NSP,Properties,area,array,channel,chnlID,electrode,file,gridLoc,hasLFP,hemisphere,numUnits,session,]\n",
      "\n",
      "lfp : numpy.array(12474902,227,) of type float64\n",
      "\n",
      "lfpSchema : dict with keys[dataDim,dataUnits,description,dims,history,index,indexUnits,mask,smpInterval,smpRate,timeUnits,userData,]\n",
      "\n",
      "sessionInfo : dict with keys[NSPs,Properties,areas,arrays,drug,drugDose,drugDuration,drugEnd,drugStart,drugTask,eyesClose,eyesOpen,hasDrug,hasWakeUpTest,numCorrect,numTrials,pctBadTrials,pctCorrect,session,subject,tasks,]\n",
      "\n",
      "trialInfo : dict with keys[Properties,badTimingTrials,badTrials,cpt_puffOff,cpt_puffOn,cpt_refTime,cpt_toneOff,cpt_toneOn,cpt_trialType,drugPhase,drugPhaseTime,refTime,sac_correct,sac_delayEnd,sac_delayLength,sac_fixationTime,sac_fixptOn,sac_outcome,sac_sampleLoc,sac_sampleOff,sac_sampleOn,session,task,trial,trialStart,]\n",
      "\n",
      "unitInfo : dict with keys[NSP,Properties,area,array,channel,chnlID,electrode,file,gridLoc,hemisphere,numSpikes,session,unit,unitID,]\n",
      "\n",
      "Data loaded (took 194.39 seconds)\n",
      "data loaded!\n",
      "loading results...\n"
     ]
    },
    {
     "data": {
      "application/vnd.jupyter.widget-view+json": {
       "model_id": "d932ea2d9866488d8b2b75fedf1e9249",
       "version_major": 2,
       "version_minor": 0
      },
      "text/plain": [
       "  0%|          | 0/4150 [00:00<?, ?it/s]"
      ]
     },
     "metadata": {},
     "output_type": "display_data"
    },
    {
     "ename": "ValueError",
     "evalue": "",
     "output_type": "error",
     "traceback": [
      "\u001b[0;31m---------------------------------------------------------------------------\u001b[0m",
      "\u001b[0;31mValueError\u001b[0m                                Traceback (most recent call last)",
      "Cell \u001b[0;32mIn[5], line 94\u001b[0m\n\u001b[1;32m     90\u001b[0m     results_dict[area] \u001b[38;5;241m=\u001b[39m results_dict[area]\u001b[38;5;241m.\u001b[39msort_values(\u001b[38;5;124m'\u001b[39m\u001b[38;5;124mstart_time\u001b[39m\u001b[38;5;124m'\u001b[39m)\n\u001b[1;32m     92\u001b[0m session_rets[session][\u001b[38;5;124m'\u001b[39m\u001b[38;5;124mresults_dict\u001b[39m\u001b[38;5;124m'\u001b[39m] \u001b[38;5;241m=\u001b[39m results_dict\n\u001b[0;32m---> 94\u001b[0m \u001b[38;5;28;01mraise\u001b[39;00m \u001b[38;5;167;01mValueError\u001b[39;00m\n\u001b[1;32m     96\u001b[0m \u001b[38;5;28mprint\u001b[39m(\u001b[38;5;124m\"\u001b[39m\u001b[38;5;124mresults loaded!\u001b[39m\u001b[38;5;124m\"\u001b[39m)\n\u001b[1;32m     97\u001b[0m iterator\u001b[38;5;241m.\u001b[39mclose()\n",
      "\u001b[0;31mValueError\u001b[0m: "
     ]
    }
   ],
   "source": [
    "session_rets = {}\n",
    "for session in tqdm(session_list):\n",
    "    print(\"-\"*30)\n",
    "    print(f'SESSION = {session}')\n",
    "    print(\"-\"*30)\n",
    "    session_rets[session] = {}\n",
    "    # ---------------------------------\n",
    "    # LOAD DATA\n",
    "    # --------------------------------\n",
    "    print(\"loading data...\")\n",
    "    if socket.gethostname() == 'millerlab-endeavourOS':\n",
    "        all_data_dir = \"/home/adameisen/millerdata/data/common/datasets/anesthesia/mat\"\n",
    "    else:\n",
    "        all_data_dir = '/scratch2/weka/millerlab/eisenaj/datasets/anesthesia/mat'\n",
    "    data_class = get_data_class(session, all_data_dir)\n",
    "\n",
    "    os.environ[\"HDF5_USE_FILE_LOCKING\"] = \"FALSE\"\n",
    "    # variables = ['electrodeInfo', 'lfp', 'lfpSchema', 'sessionInfo', 'trialInfo', 'unitInfo']\n",
    "    # session_vars, T, N, dt = load_session_data(session, all_data_dir, variables, data_class=data_class, verbose=False)\n",
    "    # electrode_info, lfp, lfp_schema, session_info, trial_info, unit_info = session_vars['electrodeInfo'], session_vars['lfp'], session_vars['lfpSchema'], session_vars['sessionInfo'], session_vars['trialInfo'], session_vars['unitInfo']\n",
    "\n",
    "    variables = ['electrodeInfo', 'lfp', 'lfpSchema', 'sessionInfo', 'trialInfo', 'unitInfo']\n",
    "    session_vars, T, N, dt = load_session_data(session, all_data_dir, variables, data_class=data_class, verbose=True)\n",
    "    electrode_info, lfp, lfp_schema, session_info, trial_info, unit_info = session_vars['electrodeInfo'], session_vars['lfp'], session_vars['lfpSchema'], session_vars['sessionInfo'], session_vars['trialInfo'], session_vars['unitInfo']\n",
    "\n",
    "    eyes_open = session_info['eyesOpen'][-1] if isinstance(session_info['eyesOpen'], np.ndarray) else session_info['eyesOpen']\n",
    "    eyes_close = session_info['eyesClose'][-1] if isinstance(session_info['eyesClose'], np.ndarray) else session_info['eyesClose']\n",
    "\n",
    "    section_times = dict( \n",
    "            wake=(0, session_info['drugStart'][0]),\n",
    "            induction=(session_info['drugStart'][0], eyes_close),\n",
    "            anesthesia=(eyes_close, session_info['drugEnd'][1]),\n",
    "            recovery=(session_info['drugEnd'][1], T*dt)\n",
    "    )\n",
    "    sections = list(section_times.keys())\n",
    "    \n",
    "    session_rets[session]['electrode_info'] = electrode_info\n",
    "    session_rets[session]['unit_info'] = unit_info\n",
    "    session_rets[session]['lfp'] = lfp\n",
    "    session_rets[session]['session_info'] = session_info\n",
    "    session_rets[session]['eyes_open'] = eyes_open\n",
    "    session_rets[session]['eyes_close'] = eyes_close\n",
    "    session_rets[session]['section_times'] = section_times\n",
    "    session_rets[session]['sections'] = sections\n",
    "    \n",
    "    print(\"data loaded!\")\n",
    "    print(\"loading results...\")\n",
    "    norm_dir = \"NORMED\" if norm else \"NOT_NORMED\"\n",
    "    subsample_dir = f\"SUBSAMPLE_{subsample}\" if \"redone\" in results_dir else \"\"\n",
    "    total = 0\n",
    "    for area in os.listdir(os.path.join(results_dir, session, norm_dir, subsample_dir)):\n",
    "        total += len(os.listdir(os.path.join(results_dir, session, norm_dir, subsample_dir, area)))\n",
    "    \n",
    "    results_dict = {}\n",
    "    iterator = tqdm(total=total)\n",
    "    for area in os.listdir(os.path.join(results_dir, session, norm_dir, subsample_dir)):\n",
    "        results_dict[area] = None\n",
    "        for f in os.listdir(os.path.join(results_dir, session, norm_dir, subsample_dir, area)):\n",
    "            if 'redone' in results_dir:\n",
    "                df = pd.read_pickle(os.path.join(results_dir, session, norm_dir, subsample_dir, area, f))\n",
    "                df['area'] = area\n",
    "                df['start_time'] = df['window_start']\n",
    "                df['end_time'] = df['window_end']\n",
    "                df['start_ind'] = int(df['window_start']/dt)\n",
    "                df['end_ind'] = int(df['window_end']/dt)\n",
    "                df = pd.DataFrame([df])\n",
    "\n",
    "                if results_dict[area] is None:\n",
    "                    results_dict[area] = df\n",
    "                else:\n",
    "                    results_dict[area] = pd.concat([results_dict[area], df])\n",
    "            \n",
    "            else:\n",
    "                t = float(f.split('_')[0])\n",
    "                df = pd.DataFrame(pd.read_pickle(os.path.join(results_dir, session, norm_dir, subsample_dir, area, f)))\n",
    "                if len(df) > 0:\n",
    "                    df['area'] = area\n",
    "                    df['start_time'] = t\n",
    "                    df['end_time'] = t + df.window*dt\n",
    "                    df['start_ind'] = int(t/dt)\n",
    "                    df['end_ind'] = int(t/dt) + df.window\n",
    "    \n",
    "                    if results_dict[area] is None:\n",
    "                        results_dict[area] = df\n",
    "                    else:\n",
    "                        results_dict[area] = pd.concat([results_dict[area], df])\n",
    "                else:\n",
    "                    print(f\"{area}/{f} is empty\")\n",
    "            iterator.update()\n",
    "        results_dict[area] = results_dict[area].sort_values('start_time')\n",
    "    \n",
    "    session_rets[session]['results_dict'] = results_dict\n",
    "\n",
    "    raise ValueError\n",
    "    \n",
    "    print(\"results loaded!\")\n",
    "    iterator.close()"
   ]
  },
  {
   "cell_type": "code",
   "execution_count": 11,
   "id": "891c0894-2d87-4a8c-82bb-0b353a418ab3",
   "metadata": {},
   "outputs": [
    {
     "data": {
      "text/plain": [
       "408"
      ]
     },
     "execution_count": 11,
     "metadata": {},
     "output_type": "execute_result"
    }
   ],
   "source": [
    "len(unit_info['chnlID'])"
   ]
  },
  {
   "cell_type": "code",
   "execution_count": 15,
   "id": "720b9ee3-e18e-4aff-9533-37322e1c8e01",
   "metadata": {},
   "outputs": [
    {
     "data": {
      "text/plain": [
       "181"
      ]
     },
     "execution_count": 15,
     "metadata": {},
     "output_type": "execute_result"
    }
   ],
   "source": [
    "len(np.unique(unit_info['chnlID']))"
   ]
  },
  {
   "cell_type": "code",
   "execution_count": null,
   "id": "5edda03f-a76a-48aa-97ca-2d1c100deff0",
   "metadata": {},
   "outputs": [],
   "source": [
    "unit_info['ch"
   ]
  },
  {
   "cell_type": "code",
   "execution_count": 13,
   "id": "0b0cad34-b267-47a9-b51e-2687181c1df4",
   "metadata": {},
   "outputs": [
    {
     "data": {
      "text/plain": [
       "408"
      ]
     },
     "execution_count": 13,
     "metadata": {},
     "output_type": "execute_result"
    }
   ],
   "source": [
    "len(unit_info['area'])"
   ]
  },
  {
   "cell_type": "markdown",
   "id": "1a00ea7a-38ca-43fe-950f-91eb7bd1cc3b",
   "metadata": {},
   "source": [
    "# Electrode Separation"
   ]
  },
  {
   "cell_type": "code",
   "execution_count": null,
   "id": "e580c98a-9fe9-46c6-9ea3-9fef74a20558",
   "metadata": {},
   "outputs": [],
   "source": [
    "for session, session_dict in session_rets.items():\n",
    "    break"
   ]
  },
  {
   "cell_type": "code",
   "execution_count": null,
   "id": "57f69f71-251c-4b30-89aa-4b6f61439e0e",
   "metadata": {},
   "outputs": [],
   "source": [
    "session_dict.keys()"
   ]
  },
  {
   "cell_type": "code",
   "execution_count": 73,
   "id": "5d5b3564-092b-4434-93b2-ba5092ae9969",
   "metadata": {},
   "outputs": [
    {
     "data": {
      "application/vnd.jupyter.widget-view+json": {
       "model_id": "4c83b910e94f4e229cb711c819d8d977",
       "version_major": 2,
       "version_minor": 0
      },
      "text/plain": [
       "  0%|          | 0/69 [00:00<?, ?it/s]"
      ]
     },
     "metadata": {},
     "output_type": "display_data"
    }
   ],
   "source": [
    "window_length = 180 # s\n",
    "start_times = np.arange(int(lfp.shape[0]*dt/window_length))*window_length\n",
    "lfp_means_over_time = np.zeros((len(start_times), lfp.shape[-1]))\n",
    "lfp_stds_over_time = np.zeros((len(start_times), lfp.shape[-1]))\n",
    "for i, start_time in tqdm(enumerate(start_times), total=len(start_times)):\n",
    "    lfp_means_over_time[i] = lfp[int(start_time/dt):int((start_time + window_length)/dt)].mean(axis=0)\n",
    "    lfp_stds_over_time[i] = lfp[int(start_time/dt):int((start_time + window_length)/dt)].std(axis=0)"
   ]
  },
  {
   "cell_type": "code",
   "execution_count": 74,
   "id": "7d7b3076-76a7-4b79-8a0f-ee6c62e51074",
   "metadata": {},
   "outputs": [
    {
     "data": {
      "text/plain": [
       "10.22298844856514"
      ]
     },
     "execution_count": 74,
     "metadata": {},
     "output_type": "execute_result"
    }
   ],
   "source": [
    "start = -15\n",
    "end = 85\n",
    "time_vals = (start_times - session_info['drugStart'][0])/60\n",
    "time_inds = (time_vals >= start) & (time_vals <= end)\n",
    "np.max(lfp_means_over_time[time_inds].max(axis=0)*100/lfp_stds_over_time[time_inds].min(axis=0))"
   ]
  },
  {
   "cell_type": "code",
   "execution_count": 63,
   "id": "a091f87c-1cc7-4a9f-9dcf-98decf2b30f8",
   "metadata": {},
   "outputs": [
    {
     "data": {
      "text/plain": [
       "[<matplotlib.lines.Line2D at 0x2afeaa291890>]"
      ]
     },
     "execution_count": 63,
     "metadata": {},
     "output_type": "execute_result"
    },
    {
     "data": {
      "image/png": "[encoded data removed]",
      "text/plain": [
       "<Figure size 1000x500 with 1 Axes>"
      ]
     },
     "metadata": {},
     "output_type": "display_data"
    }
   ],
   "source": [
    "\n",
    "\n",
    "plt.plot(time_vals[time_inds], lfp_means_over_time[time_inds, 0]*100/lfp_stds_over_time[time_inds, 0])\n",
    "# plt.plot(time_vals[time_inds], np.diff(lfp_means_over_time, axis=0)[time_inds[1:], 0]*100/lfp_stds_over_time[time_inds, 0])\n",
    "# plt.plot(time_vals[time_inds], lfp_means_over_time[time_inds, 0]*100/lfp_stds_over_time[time_inds, 0])\n",
    "# plt.plot(time_vals[time_inds], np.diff(lfp_means_over_time, axis=0)[time_inds[1:], 0])"
   ]
  },
  {
   "cell_type": "code",
   "execution_count": null,
   "id": "0df616b2-6e20-436f-98a1-c60274b10504",
   "metadata": {},
   "outputs": [],
   "source": []
  }
 ],
 "metadata": {
  "kernelspec": {
   "display_name": "Python 3 (ipykernel)",
   "language": "python",
   "name": "python3"
  },
  "language_info": {
   "codemirror_mode": {
    "name": "ipython",
    "version": 3
   },
   "file_extension": ".py",
   "mimetype": "text/x-python",
   "name": "python",
   "nbconvert_exporter": "python",
   "pygments_lexer": "ipython3",
   "version": "3.11.6"
  }
 },
 "nbformat": 4,
 "nbformat_minor": 5
}
