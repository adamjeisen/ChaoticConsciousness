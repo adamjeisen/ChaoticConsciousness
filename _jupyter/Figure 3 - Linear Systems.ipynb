{
 "cells": [
  {
   "cell_type": "code",
   "execution_count": 1,
   "id": "8a49507d",
   "metadata": {},
   "outputs": [],
   "source": [
    "%load_ext autoreload"
   ]
  },
  {
   "cell_type": "code",
   "execution_count": 3,
   "id": "3e2872e2",
   "metadata": {},
   "outputs": [],
   "source": [
    "%autoreload 2\n",
    "\n",
    "import argparse\n",
    "from copy import deepcopy\n",
    "import logging\n",
    "from matplotlib.cm import get_cmap, ScalarMappable\n",
    "from matplotlib.colors import Normalize\n",
    "import matplotlib.pyplot as plt\n",
    "import pandas as pd\n",
    "import scipy\n",
    "from sklearn.metrics import r2_score\n",
    "import sys\n",
    "import torch\n",
    "\n",
    "sys.path.append('..')\n",
    "from data_utils import *\n",
    "\n",
    "sys.path.append('/om2/user/eisenaj/code/DeLASE')\n",
    "from delase import *\n",
    "from parameter_choosing import *\n",
    "from performance_metrics import *\n",
    "from plot import *"
   ]
  },
  {
   "cell_type": "markdown",
   "id": "a760f350",
   "metadata": {},
   "source": [
    "# Load Data"
   ]
  },
  {
   "cell_type": "code",
   "execution_count": null,
   "id": "b5acbbd3",
   "metadata": {},
   "outputs": [],
   "source": [
    "chaotic_net_path = \"/scratch2/weka/millerlab/eisenaj/DynamicalTrajectories/chaotic_net_data\"\n",
    "\n",
    "W = pd.read_pickle(os.path.join(chaotic_net_path, \"W.pkl\"))\n",
    "lyaps = pd.read_pickle(os.path.join(chaotic_net_path, \"lyaps_long.pkl\"))\n",
    "full_signals = pd.read_pickle(os.path.join(chaotic_net_path, \"chaotic_net_signals_long.pkl\"))"
   ]
  },
  {
   "cell_type": "code",
   "execution_count": 4,
   "id": "da6d8973",
   "metadata": {},
   "outputs": [],
   "source": [
    "N = list(full_signals.values())[0].shape[2]\n",
    "T = list(full_signals.values())[0].shape[1]\n",
    "dt = 0.01\n",
    "tau = 0.1"
   ]
  },
  {
   "cell_type": "code",
   "execution_count": 5,
   "id": "c72a4781",
   "metadata": {},
   "outputs": [],
   "source": [
    "save_dir = '/scratch2/weka/millerlab/eisenaj/ChaoticConsciousness/chaotic_nets_multirun'"
   ]
  },
  {
   "cell_type": "code",
   "execution_count": 6,
   "id": "c54a0cba",
   "metadata": {},
   "outputs": [],
   "source": [
    "# num_runs = 10\n",
    "\n",
    "# g_vals = list(full_signals.keys())\n",
    "# W_vals = np.zeros((num_runs, N, N))\n",
    "\n",
    "# # for g in g_vals:\n",
    "\n",
    "# t_span = [0, T*dt]\n",
    "# t_eval = np.arange(t_span[0], t_span[1], dt)\n",
    "\n",
    "# run_rets = []\n",
    "\n",
    "# for i in range(num_runs):\n",
    "#     print(\"=\"*40)\n",
    "#     print(f\"RUN {i}\")\n",
    "#     print(\"=\"*40)\n",
    "#     W = np.random.randn(N, N)/np.sqrt(N)\n",
    "#     W_vals[i] = W\n",
    "#     signals = {}\n",
    "#     print(\"Simulating signals...\")\n",
    "#     for g in tqdm(g_vals):\n",
    "#         x0 = np.random.randn(N)\n",
    "#         sol = scipy.integrate.solve_ivp(lambda t, x: rnn(t, x, W=W, tau=tau, g=g), t_span=t_span, t_eval=t_eval, y0=x0)\n",
    "#         signals[g] = sol.y.T\n",
    "    \n",
    "#     print(\"Signals are simulated!\")\n",
    "    \n",
    "#     lyaps = {}\n",
    "#     for key, signal in signals.items():\n",
    "#         print(\"-\"*20)\n",
    "#         print(f\"g = {key}\")\n",
    "#         print(\"-\"*20)\n",
    "#         Js = np.zeros((signal.shape[0], N, N))\n",
    "#         batch_size = 500\n",
    "#         num_batches = int(np.ceil(signal.shape[0]/batch_size))\n",
    "#         print(\"Computing Jacobians..\")\n",
    "#         for batch_num in tqdm(range(num_batches)):\n",
    "#             start_ind = batch_num*batch_size\n",
    "#             end_ind = np.min([(batch_num + 1)*batch_size, signal.shape[0]])\n",
    "#             Js[start_ind:end_ind] = rnn_jacobian(signal[start_ind:end_ind], W, tau, dt, N, use_torch=True, device='cuda').cpu().numpy()\n",
    "#         print(\"Computing Lyaps...\")\n",
    "#         lyaps[key] = compute_lyaps(Js, dt, verbose=True)\n",
    "#     ret = dict(\n",
    "#         W=W,\n",
    "#         dt=dt,\n",
    "#         tau=tau,\n",
    "#         signals=signals,\n",
    "#         lyaps=lyaps\n",
    "#     )\n",
    "#     pd.to_pickle(ret, os.path.join(save_dir, f\"RUN_{i}\"))"
   ]
  },
  {
   "cell_type": "code",
   "execution_count": 7,
   "id": "576a6b45",
   "metadata": {},
   "outputs": [],
   "source": [
    "# mp_args = dict(\n",
    "#     # ----------------------\n",
    "#     # MULTIPROCESSING ARGUMENTS\n",
    "#     # ----------------------\n",
    "#     USE_TORCH=False,\n",
    "#     USE_CUDA=False,\n",
    "#     DTYPE='torch.DoubleTensor',\n",
    "#     NUM_WORKERS=3,\n",
    "# #     NUM_WORKERS=4,\n",
    "#     USE_LOGGING=True,\n",
    "#     LOG_DIR=\"/om2/user/eisenaj/code/shell_scripts/chaotic\",\n",
    "#     LOG_NAME='mp_chaotic',\n",
    "#     LOG_LEVEL=logging.DEBUG,\n",
    "#     RESULTS_DIR='/scratch2/weka/millerlab/eisenaj/ChaoticConsciousness/chaotic_nets_multirun',\n",
    "    \n",
    "#     # ==========================\n",
    "#     # CHAOTIC NET ARGUMENTS\n",
    "#     # ==========================\n",
    "#     dt=dt,\n",
    "#     tau=tau,\n",
    "#     N=N,\n",
    "#     T=T,\n",
    "#     batch_size=500,\n",
    "#     num_batches=int(np.ceil(T/batch_size)),\n",
    "#     g_vals=g_vals,\n",
    "#     num_runs=18,\n",
    "# )\n",
    "# data_processing_args_dir = \"/scratch2/weka/millerlab/eisenaj/ChaoticConsciousness/data_processing_args\"\n",
    "# data_processing_path = os.path.join(data_processing_args_dir, \"chaotic_multirun_args\")\n",
    "# pd.to_pickle(mp_args, data_processing_path)\n",
    "# mp_args = argparse.Namespace(**mp_args)"
   ]
  },
  {
   "cell_type": "code",
   "execution_count": 8,
   "id": "f1beef5e",
   "metadata": {},
   "outputs": [
    {
     "ename": "NameError",
     "evalue": "name 'mp_args' is not defined",
     "output_type": "error",
     "traceback": [
      "\u001b[0;31m---------------------------------------------------------------------------\u001b[0m",
      "\u001b[0;31mNameError\u001b[0m                                 Traceback (most recent call last)",
      "Input \u001b[0;32mIn [8]\u001b[0m, in \u001b[0;36m<cell line: 1>\u001b[0;34m()\u001b[0m\n\u001b[0;32m----> 1\u001b[0m \u001b[38;5;28;01mif\u001b[39;00m \u001b[38;5;129;01mnot\u001b[39;00m \u001b[43mmp_args\u001b[49m\u001b[38;5;241m.\u001b[39mUSE_CUDA:\n\u001b[1;32m      2\u001b[0m     os\u001b[38;5;241m.\u001b[39msystem(\u001b[38;5;124mf\u001b[39m\u001b[38;5;124m\"\u001b[39m\u001b[38;5;124msbatch --gres=gpu:0 --ntasks=1 --cpus-per-task=\u001b[39m\u001b[38;5;132;01m{\u001b[39;00m\u001b[38;5;28mint\u001b[39m(mp_args\u001b[38;5;241m.\u001b[39mNUM_WORKERS) \u001b[38;5;241m+\u001b[39m \u001b[38;5;241m2\u001b[39m\u001b[38;5;132;01m}\u001b[39;00m\u001b[38;5;124m --mem=\u001b[39m\u001b[38;5;132;01m{\u001b[39;00m\u001b[38;5;28mint\u001b[39m(mp_args\u001b[38;5;241m.\u001b[39mNUM_WORKERS\u001b[38;5;241m*\u001b[39m\u001b[38;5;241m100\u001b[39m) \u001b[38;5;241m+\u001b[39m \u001b[38;5;241m10\u001b[39m\u001b[38;5;132;01m}\u001b[39;00m\u001b[38;5;124mGB /om2/user/eisenaj/code/shell_scripts/chaotic/mp_chaotic.sh \u001b[39m\u001b[38;5;132;01m{\u001b[39;00mdata_processing_path\u001b[38;5;132;01m}\u001b[39;00m\u001b[38;5;124m\"\u001b[39m)\n\u001b[1;32m      3\u001b[0m \u001b[38;5;28;01melse\u001b[39;00m:\n",
      "\u001b[0;31mNameError\u001b[0m: name 'mp_args' is not defined"
     ]
    }
   ],
   "source": [
    "if not mp_args.USE_CUDA:\n",
    "    os.system(f\"sbatch --gres=gpu:0 --ntasks=1 --cpus-per-task={int(mp_args.NUM_WORKERS) + 2} --mem={int(mp_args.NUM_WORKERS*100) + 10}GB /om2/user/eisenaj/code/shell_scripts/chaotic/mp_chaotic.sh {data_processing_path}\")\n",
    "else:\n",
    "    os.system(f\"sbatch --gres=gpu:{mp_args.NUM_WORKERS} /om2/user/eisenaj/code/shell_scripts/DeLASE/mp_delase.sh {data_processing_path}\")"
   ]
  },
  {
   "cell_type": "code",
   "execution_count": null,
   "id": "914f53cf",
   "metadata": {},
   "outputs": [],
   "source": [
    "os.system(\"squeue -u eisenaj\")"
   ]
  },
  {
   "cell_type": "code",
   "execution_count": null,
   "id": "c0b4c753",
   "metadata": {},
   "outputs": [],
   "source": [
    "os.system(\"scancel 30533918\")"
   ]
  },
  {
   "cell_type": "markdown",
   "id": "075aae92",
   "metadata": {},
   "source": [
    "# Linear Systems"
   ]
  },
  {
   "cell_type": "code",
   "execution_count": 6,
   "id": "acb2f8b7",
   "metadata": {},
   "outputs": [],
   "source": [
    "def set_smallest_eigenvalue_real_part(A,lam):\n",
    "\n",
    "    #lam is the desired maximum eigenvalue\n",
    "    assert lam < 0, print('Eigenvalue must be negative')\n",
    "\n",
    "    #get current eigenvalues\n",
    "    e,v = np.linalg.eig(A)\n",
    "    largest_eig = np.max(np.real(e))\n",
    "    I = np.eye(len(e))\n",
    "  \n",
    "    #return scaled \n",
    "    return A - largest_eig*I + lam*I\n",
    "\n",
    "def do_one_sde_run(n, lam_awake, lam_anesthesia, awake = 1, random_seed=42):\n",
    "\n",
    "    np.random.seed(random_seed)\n",
    "\n",
    "    A = np.random.normal(0,1/np.sqrt(n),(n,n))\n",
    "\n",
    "    if awake == 1:\n",
    "        #pick the stability parameter\n",
    "        lam = lam_awake\n",
    "\n",
    "        # Define the Weiner process    \n",
    "        dW = np.sqrt(dt) * np.random.randn(N,n)\n",
    "\n",
    "        #define systems matrix\n",
    "        A_awake = set_smallest_eigenvalue_real_part(A,lam)\n",
    "\n",
    "    else:\n",
    "\n",
    "        lam = lam_anesthesia\n",
    "\n",
    "        dW = np.sqrt(dt) * np.random.randn(N,n)\n",
    "\n",
    "        A_anesthesia = set_smallest_eigenvalue_real_part(A,lam)\n",
    "\n",
    "\n",
    "    # Define the function f(x)\n",
    "    def f(x,lam):\n",
    "        if awake == 1:\n",
    "            return A_awake @ x\n",
    "        else:\n",
    "            return A_anesthesia @ x\n",
    "\n",
    "\n",
    "    # Define the function g(x)\n",
    "    def g(x):\n",
    "        return 1\n",
    "\n",
    "    # Initialize the x array\n",
    "    x = np.zeros((N,n))\n",
    "    x[0] = np.zeros(n)\n",
    "\n",
    "    # Simulate the stochastic differential equation\n",
    "    for i in range(1, N):\n",
    "        x[i] = x[i-1] + f(x[i-1],lam) * dt + g(x[i-1]) * dW[i]\n",
    "\n",
    "    return x"
   ]
  },
  {
   "cell_type": "code",
   "execution_count": 7,
   "id": "dd50c4bc",
   "metadata": {},
   "outputs": [],
   "source": [
    "use_torch=True\n",
    "device = 'cuda'"
   ]
  },
  {
   "cell_type": "code",
   "execution_count": 8,
   "id": "014b9cac",
   "metadata": {},
   "outputs": [],
   "source": [
    "NUM_RUNS = 20\n",
    "save_dir = '/scratch2/weka/millerlab/eisenaj/ChaoticConsciousness/linear_noise_multirun'"
   ]
  },
  {
   "cell_type": "code",
   "execution_count": 9,
   "id": "c4e180f1",
   "metadata": {},
   "outputs": [],
   "source": [
    "# Define the parameters\n",
    "# N = int(1e5)\n",
    "N = 20000\n",
    "n = 100\n",
    "T = 40.0\n",
    "dt = T / N\n",
    "x0 = 0.0\n",
    "\n",
    "lams = [-1, -0.9, -0.8, -0.7, -0.6, -0.5, -0.4, -0.3, -0.2, -0.1]\n",
    "\n",
    "parameter_grid = ParameterGrid(\n",
    "    window_vals=np.array([10000]),\n",
    "    matrix_size_vals=np.array([10, 20, 50, 100, 200, 300, 500, 750, 1000]),\n",
    "    r_vals=np.array([3, 5, 10, 25, 50, 75, 100, 125, 150, 200, 250, 300, 350, 400, 450, 500, 550, 600, 650, 700, 750, 800, 900, 1000])\n",
    ")\n",
    "\n",
    "\n",
    "prediction_time = 5000\n",
    "transient = 2000\n",
    "\n",
    "num_samples = 10\n",
    "\n",
    "for i in range(NUM_RUNS):\n",
    "    if not os.path.exists(os.path.join(save_dir, f\"RUN_{i}\")):\n",
    "        print(\"=\"*40)\n",
    "        print(f\"RUN {i}\")\n",
    "        print(\"=\"*40)\n",
    "\n",
    "        print(\"Simulating...\")\n",
    "        trajs = {}\n",
    "        for lam in lams:\n",
    "            x_1 = do_one_sde_run(n, lam_awake = lam, lam_anesthesia = 0, awake = 1, random_seed=42 + i)\n",
    "            trajs[lam] = x_1\n",
    "        #         plt.plot(np.linspace(0, T, N), x_1[:,0], label = f'$\\lambda_1(A) = {lam}$')\n",
    "        #     plt.legend()\n",
    "        #     plt.show()\n",
    "        indices = np.random.choice(np.arange(n), num_samples, replace=False)\n",
    "        for key in trajs.keys():\n",
    "            trajs[key] = trajs[key][:, indices]\n",
    "        print(\"Simulated!\")\n",
    "\n",
    "        signals = trajs\n",
    "\n",
    "        mean_stab_curve = True\n",
    "        true_vals = lams\n",
    "        keys = np.array(lams)\n",
    "        key_inds = np.arange(len(lams))\n",
    "\n",
    "        print(\"Computing DeLASE...\")\n",
    "        results = []\n",
    "        iterator = tqdm(total=len(parameter_grid.window_vals)*len(parameter_grid.matrix_size_vals)*len(parameter_grid.r_vals))\n",
    "        for window in parameter_grid.window_vals:\n",
    "            for matrix_size in parameter_grid.matrix_size_vals:\n",
    "                delases = {}\n",
    "                exp_variances = {}\n",
    "        #         train_signals = []\n",
    "                test_signals = {}\n",
    "                for key, signal in signals.items():\n",
    "                    train_signal = signal[transient:transient + window]\n",
    "                    test_signal = signal[transient + window:transient + window + prediction_time]\n",
    "                    delase = DeLASE(train_signal, matrix_size=matrix_size, dt=dt, use_torch=use_torch, device=device, dtype='torch.DoubleTensor')\n",
    "                    delase.to('cpu')\n",
    "                    if use_torch:\n",
    "                        exp_variances[key] = delase.cumulative_explained_variance.cpu().double()\n",
    "                    else:\n",
    "                        exp_variances[key] = delase.cumulative_explained_variance\n",
    "                    delases[key] = delase\n",
    "        #             train_signals.append(train_signal)\n",
    "                    test_signals[key] = test_signal\n",
    "                for r in parameter_grid.r_vals:\n",
    "                    if r <= np.min([delase.n*delase.p for delase in delases.values()]):\n",
    "                        stab_curves = {}\n",
    "                        AICs = {}\n",
    "                        for key, delase in delases.items():\n",
    "                            delase.to('cuda')\n",
    "                            delase.compute_havok_dmd(r=r)\n",
    "                            delase.get_stability(max_freq=500, max_unstable_freq=125)\n",
    "\n",
    "                            AICs[key] = compute_AIC(delase, test_signals[key])\n",
    "                            if use_torch:\n",
    "                                stab_curves[key] = delase.stability_params.cpu()\n",
    "                            else:\n",
    "                                stab_curves[key] = delase.stability_params\n",
    "\n",
    "                        if use_torch:\n",
    "                            exp_variances = np.array([delase.cumulative_explained_variance[r-1].cpu().numpy() for delase in delases.values()])\n",
    "                        else:\n",
    "                            exp_variances = np.array([delase.cumulative_explained_variance[r-1] for delase in delases.values()])\n",
    "\n",
    "                        results.append(dict(\n",
    "                            window=window,\n",
    "                            matrix_size=matrix_size,\n",
    "                            r=r,\n",
    "                            exp_variances=exp_variances,\n",
    "                            AICs=AICs,\n",
    "                            stab_curves=stab_curves,\n",
    "                        ))\n",
    "\n",
    "                    iterator.update()\n",
    "        iterator.close()\n",
    "\n",
    "        results = pd.DataFrame(results)\n",
    "        results_dict = {}\n",
    "        for key in lams:\n",
    "            ret_temp = results.copy()\n",
    "            ret_temp = ret_temp.drop('AICs', axis=1)\n",
    "            ret_temp = ret_temp.drop('stab_curves', axis=1)\n",
    "            ret_temp = ret_temp.drop('exp_variances', axis=1)\n",
    "            ret_temp['AIC'] = results.AICs.apply(lambda x: x[key])\n",
    "            ret_temp['stab_curves'] = results.stab_curves.apply(lambda x: x[key])\n",
    "            ret_temp = ret_temp.set_index((['window', 'matrix_size', 'r']))\n",
    "            results_dict[key] = ret_temp\n",
    "\n",
    "\n",
    "        pd.to_pickle(results_dict, os.path.join(save_dir, f\"RUN_{i}\"))"
   ]
  },
  {
   "cell_type": "markdown",
   "id": "944a8e6d",
   "metadata": {},
   "source": [
    "# Load Linear Systems Data"
   ]
  },
  {
   "cell_type": "code",
   "execution_count": 4,
   "id": "5716324f",
   "metadata": {},
   "outputs": [],
   "source": [
    "top_percent = 0.1"
   ]
  },
  {
   "cell_type": "code",
   "execution_count": 5,
   "id": "dd7bda50",
   "metadata": {},
   "outputs": [],
   "source": [
    "save_dir = '/scratch2/weka/millerlab/eisenaj/ChaoticConsciousness/linear_noise_multirun'"
   ]
  },
  {
   "cell_type": "code",
   "execution_count": 6,
   "id": "39d56d51",
   "metadata": {},
   "outputs": [],
   "source": [
    "lams = [-1, -0.9, -0.8, -0.7, -0.6, -0.5, -0.4, -0.3, -0.2, -0.1]"
   ]
  },
  {
   "cell_type": "code",
   "execution_count": 7,
   "id": "b662b634",
   "metadata": {},
   "outputs": [
    {
     "data": {
      "application/vnd.jupyter.widget-view+json": {
       "model_id": "0ced977122e141ddb3198931aaeb2473",
       "version_major": 2,
       "version_minor": 0
      },
      "text/plain": [
       "  0%|          | 0/20 [00:00<?, ?it/s]"
      ]
     },
     "metadata": {},
     "output_type": "display_data"
    }
   ],
   "source": [
    "rets = []\n",
    "for f in tqdm(os.listdir(save_dir)):\n",
    "    rets.append(pd.read_pickle(os.path.join(save_dir, f)))"
   ]
  },
  {
   "cell_type": "code",
   "execution_count": 8,
   "id": "7d6fd8ab",
   "metadata": {},
   "outputs": [
    {
     "data": {
      "application/vnd.jupyter.widget-view+json": {
       "model_id": "1569104e439a4d3f846239e76a7ee62d",
       "version_major": 2,
       "version_minor": 0
      },
      "text/plain": [
       "  0%|          | 0/20 [00:00<?, ?it/s]"
      ]
     },
     "metadata": {},
     "output_type": "display_data"
    },
    {
     "name": "stdout",
     "output_type": "stream",
     "text": [
      "10 10\n",
      "10 10\n",
      "10 10\n",
      "10 10\n",
      "10 10\n",
      "10 10\n",
      "10 10\n",
      "10 10\n",
      "10 10\n",
      "10 10\n",
      "10 10\n",
      "10 10\n",
      "10 10\n",
      "10 10\n",
      "10 10\n",
      "10 10\n",
      "10 10\n",
      "10 10\n",
      "10 10\n",
      "10 10\n"
     ]
    }
   ],
   "source": [
    "ret_means = np.zeros(len(lams))\n",
    "ret_mean_counts = np.zeros(len(lams))\n",
    "for ret in tqdm(rets):\n",
    "    window, matrix_size, r, all_results = combine_grid_results(ret)\n",
    "    \n",
    "    print(matrix_size, r)\n",
    "    \n",
    "    for i, key in enumerate(lams):\n",
    "        stab_curve = ret[key].loc[(window, matrix_size, r)].stab_curves\n",
    "        \n",
    "        ret_means[i] += stab_curve[:int(top_percent*len(stab_curve))].sum()\n",
    "        ret_mean_counts[i] += int(top_percent*len(stab_curve))\n",
    "        \n",
    "ret_means = ret_means/ret_mean_counts"
   ]
  },
  {
   "cell_type": "code",
   "execution_count": 9,
   "id": "d8e323c1",
   "metadata": {},
   "outputs": [
    {
     "data": {
      "application/vnd.jupyter.widget-view+json": {
       "model_id": "c5038a4e1c674d0cb181672a527bfbfd",
       "version_major": 2,
       "version_minor": 0
      },
      "text/plain": [
       "  0%|          | 0/20 [00:00<?, ?it/s]"
      ]
     },
     "metadata": {},
     "output_type": "display_data"
    }
   ],
   "source": [
    "ret_means_se = np.zeros(len(lams))\n",
    "ret_mean_se_counts = np.zeros(len(lams))\n",
    "for ret in tqdm(rets):\n",
    "    window, matrix_size, r, all_results = combine_grid_results(ret)\n",
    "    \n",
    "    for i, key in enumerate(lams):\n",
    "        stab_curve = ret[key].loc[(window, matrix_size, r)].stab_curves\n",
    "        \n",
    "        ret_means_se[i] += ((stab_curve[:int(top_percent*len(stab_curve))] - ret_means[i])**2).sum()\n",
    "        ret_mean_se_counts[i] += int(top_percent*len(stab_curve))\n",
    "ret_means_se = np.sqrt(ret_means_se/ret_mean_se_counts)/np.sqrt(ret_mean_se_counts)"
   ]
  },
  {
   "cell_type": "code",
   "execution_count": 10,
   "id": "b4ecceb8",
   "metadata": {},
   "outputs": [
    {
     "data": {
      "text/plain": [
       "[-1, -0.9, -0.8, -0.7, -0.6, -0.5, -0.4, -0.3, -0.2, -0.1]"
      ]
     },
     "execution_count": 10,
     "metadata": {},
     "output_type": "execute_result"
    }
   ],
   "source": [
    "lams"
   ]
  },
  {
   "cell_type": "code",
   "execution_count": 19,
   "id": "b3d442ce-2b84-4d76-a804-70f56631cc42",
   "metadata": {},
   "outputs": [],
   "source": [
    "img_save_dir = '/scratch2/weka/millerlab/eisenaj/ChaoticConsciousness/plots'\n",
    "data_save_dir = \"/scratch2/weka/millerlab/eisenaj/ChaoticConsciousness/figure_data\""
   ]
  },
  {
   "cell_type": "code",
   "execution_count": 20,
   "id": "6e127b94",
   "metadata": {},
   "outputs": [
    {
     "data": {
      "image/png": "[encoded data removed]",
      "text/plain": [
       "<Figure size 640x480 with 2 Axes>"
      ]
     },
     "metadata": {},
     "output_type": "display_data"
    }
   ],
   "source": [
    "tick_fontsize = 13\n",
    "ylabel_fontsize = 15\n",
    "xlabel_fontsize = 15\n",
    "title_fontsize = 16\n",
    "pred_color = 'orange'\n",
    "\n",
    "lns = []\n",
    "lns += plt.plot(lams, ret_means, label='predicted stability', c='k', linestyle='--', marker='o', markersize=4)\n",
    "\n",
    "ax = plt.gca()\n",
    "ax2 = ax.twinx()\n",
    "\n",
    "color = 'darkorange'\n",
    "\n",
    "lns += ax2.plot(lams, lams, c=color, marker='o', markersize=4, label='ground truth stability')\n",
    "ylim = ax.get_ylim()\n",
    "# ax.fill_between(lams, ret_means - ret_means_se, ret_means + ret_means_se, color='k', alpha=0.4)\n",
    "ax.errorbar(lams, ret_means, yerr=ret_means_se, c='k', linestyle='--', marker='o', markersize=6, )\n",
    "figure3_data = {'eigenvalues': lams, 'mean_predicted': ret_means, 'se_predicted': ret_means_se}\n",
    "ax.set_ylim(ylim)\n",
    "\n",
    "ax.tick_params(labelsize=tick_fontsize)\n",
    "# ax.set_ylabel('Instability\\n(Mean of Top 10%, $s^{-1}$)', fontsize=ylabel_fontsize)\n",
    "ax.set_ylabel('Instability ($s^{-1}$)', fontsize=ylabel_fontsize)\n",
    "ax.set_xlabel('Maximum Eigenvalue Real Part ($s^{-1}$)', fontsize=xlabel_fontsize)\n",
    "\n",
    "# ax.text(-0.65, -0.5, f\"Measuring Ground Truth Stability\\nin Stochastic Linear Systems\\n{num_samples*100/n:.1f}% partial observation\\n\" + fr\"$\\rho = ${scipy.stats.pearsonr(ret_means, lams)[0]:.3f}\", ha='center', fontsize=title_fontsize)\n",
    "ax.text(-0.65, -0.65, fr\"$\\rho = ${scipy.stats.pearsonr(ret_means, lams)[0]:.3f}\", ha='center', fontsize=title_fontsize + 4)\n",
    "\n",
    "ax2.tick_params(labelsize=tick_fontsize)\n",
    "ax2.set_ylabel('Maximum Eigenvalue Real Part ($s^{-1}$)', fontsize=ylabel_fontsize, color=color)\n",
    "\n",
    "ax.spines[['top']].set_visible(False)\n",
    "ax.xaxis.set_ticks_position('bottom')\n",
    "ax.yaxis.set_ticks_position('left')\n",
    "ax2.spines[['top']].set_visible(False)\n",
    "ax2.xaxis.set_ticks_position('bottom')\n",
    "ax2.yaxis.set_ticks_position('right')\n",
    "ax2.tick_params(axis='y', colors=color)\n",
    "\n",
    "plt.legend(lns, [ln.get_label() for ln in lns], loc='lower right', fontsize=15)\n",
    "# plt.savefig(os.path.join(img_save_dir, 'linear.pdf'), bbox_inches='tight', transparent=True)\n",
    "plt.show()"
   ]
  },
  {
   "cell_type": "code",
   "execution_count": 21,
   "id": "f05ffd4d-b254-4995-91af-3c59eb7c8134",
   "metadata": {},
   "outputs": [],
   "source": [
    "scipy.io.savemat(os.path.join(data_save_dir, 'figure3_linear'), figure3_data)"
   ]
  },
  {
   "cell_type": "code",
   "execution_count": null,
   "id": "bee5e625-741e-4fb9-84b8-c6f6f5273a13",
   "metadata": {},
   "outputs": [],
   "source": []
  }
 ],
 "metadata": {
  "kernelspec": {
   "display_name": "Python 3 (ipykernel)",
   "language": "python",
   "name": "python3"
  },
  "language_info": {
   "codemirror_mode": {
    "name": "ipython",
    "version": 3
   },
   "file_extension": ".py",
   "mimetype": "text/x-python",
   "name": "python",
   "nbconvert_exporter": "python",
   "pygments_lexer": "ipython3",
   "version": "3.11.6"
  }
 },
 "nbformat": 4,
 "nbformat_minor": 5
}
