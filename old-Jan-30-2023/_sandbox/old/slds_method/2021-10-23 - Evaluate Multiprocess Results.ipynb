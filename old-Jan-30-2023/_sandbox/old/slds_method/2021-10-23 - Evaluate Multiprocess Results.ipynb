{
 "cells": [
  {
   "cell_type": "code",
   "execution_count": 1,
   "id": "5d03a172",
   "metadata": {},
   "outputs": [],
   "source": [
    "import h5py\n",
    "from matplotlib import colors\n",
    "import matplotlib.pyplot as plt\n",
    "from neural_analysis.matIO import loadmat\n",
    "from neural_analysis import spectra\n",
    "import numpy as np\n",
    "import os\n",
    "import pandas as pd\n",
    "import ssm\n",
    "from ssm.util import find_permutation\n",
    "import sys\n",
    "from tqdm.auto import tqdm\n",
    "\n",
    "sys.path.append('../..')\n",
    "from nld_utils import simulate_lorenz\n",
    "from up_down import get_up_down\n",
    "from utils import get_sample_interval, load, save"
   ]
  },
  {
   "cell_type": "markdown",
   "id": "021a0560",
   "metadata": {},
   "source": [
    "# Neural Data"
   ]
  },
  {
   "cell_type": "markdown",
   "id": "05864c9f",
   "metadata": {},
   "source": [
    "## Load Data"
   ]
  },
  {
   "cell_type": "code",
   "execution_count": 15,
   "id": "8a889a62",
   "metadata": {},
   "outputs": [
    {
     "name": "stdout",
     "output_type": "stream",
     "text": [
      "CPU times: user 1min 13s, sys: 3.84 s, total: 1min 17s\n",
      "Wall time: 1min 17s\n"
     ]
    }
   ],
   "source": [
    "%%time\n",
    "filename = r'/home/adameisen/millerdata/common/datasets/anesthesia/mat/propofolPuffTone/Mary-Anesthesia-20160809-01.mat'\n",
    "# filename = r'/home/adameisen/common/datasets/anesthesia/mat/propofolWakeUp/Mary-Anesthesia-20170203-02.mat'\n",
    "electrode_info, lfp, lfp_schema, session_info, spike_times, unit_info = loadmat(filename, variables=['electrodeInfo', 'lfp', 'lfpSchema', 'sessionInfo', 'spikeTimes', 'unitInfo'], verbose=False)\n",
    "spike_times = spike_times[0]\n",
    "dt = lfp_schema['smpInterval'][0]\n",
    "T = lfp.shape[0]"
   ]
  },
  {
   "cell_type": "markdown",
   "id": "0a4ffe40",
   "metadata": {},
   "source": [
    "# Load and Combine Results"
   ]
  },
  {
   "cell_type": "code",
   "execution_count": 16,
   "id": "30401f7e",
   "metadata": {},
   "outputs": [
    {
     "ename": "FileNotFoundError",
     "evalue": "[Errno 2] No such file or directory: '../../__data__/slds/slds_big_run_full_brain_Oct-22-2021_1651/run_params'",
     "output_type": "error",
     "traceback": [
      "\u001b[0;31m---------------------------------------------------------------------------\u001b[0m",
      "\u001b[0;31mFileNotFoundError\u001b[0m                         Traceback (most recent call last)",
      "\u001b[0;32m<timed exec>\u001b[0m in \u001b[0;36m<module>\u001b[0;34m\u001b[0m\n",
      "\u001b[0;32m~/Documents/MIT/code/ChaoticConsciousness/utils.py\u001b[0m in \u001b[0;36mload\u001b[0;34m(filepath)\u001b[0m\n\u001b[1;32m    208\u001b[0m \u001b[0;34m\u001b[0m\u001b[0m\n\u001b[1;32m    209\u001b[0m \u001b[0;32mdef\u001b[0m \u001b[0mload\u001b[0m\u001b[0;34m(\u001b[0m\u001b[0mfilepath\u001b[0m\u001b[0;34m)\u001b[0m\u001b[0;34m:\u001b[0m\u001b[0;34m\u001b[0m\u001b[0;34m\u001b[0m\u001b[0m\n\u001b[0;32m--> 210\u001b[0;31m     \u001b[0;32mwith\u001b[0m \u001b[0mopen\u001b[0m\u001b[0;34m(\u001b[0m\u001b[0mfilepath\u001b[0m\u001b[0;34m,\u001b[0m \u001b[0;34m'rb'\u001b[0m\u001b[0;34m)\u001b[0m \u001b[0;32mas\u001b[0m \u001b[0mhandle\u001b[0m\u001b[0;34m:\u001b[0m\u001b[0;34m\u001b[0m\u001b[0;34m\u001b[0m\u001b[0m\n\u001b[0m\u001b[1;32m    211\u001b[0m         \u001b[0mobj\u001b[0m \u001b[0;34m=\u001b[0m \u001b[0mpickle\u001b[0m\u001b[0;34m.\u001b[0m\u001b[0mload\u001b[0m\u001b[0;34m(\u001b[0m\u001b[0mhandle\u001b[0m\u001b[0;34m)\u001b[0m\u001b[0;34m\u001b[0m\u001b[0;34m\u001b[0m\u001b[0m\n\u001b[1;32m    212\u001b[0m \u001b[0;34m\u001b[0m\u001b[0m\n",
      "\u001b[0;31mFileNotFoundError\u001b[0m: [Errno 2] No such file or directory: '../../__data__/slds/slds_big_run_full_brain_Oct-22-2021_1651/run_params'"
     ]
    }
   ],
   "source": [
    "%%time\n",
    "data_dir = \"../../__data__/slds/slds_big_run_full_brain_Oct-22-2021_1651\"\n",
    "run_params = load(os.path.join(data_dir, \"run_params\"))\n",
    "results_files = [f for f in os.listdir(data_dir) if f.startswith('start_time')]\n",
    "results = []\n",
    "for file in results_files:\n",
    "    results.append(load(os.path.join(data_dir, file)))\n",
    "results = sorted(results, key=lambda d: d['start_time'])\n",
    "results = pd.DataFrame(results)"
   ]
  },
  {
   "cell_type": "markdown",
   "id": "5b1fb6c0",
   "metadata": {},
   "source": [
    "# Analyze"
   ]
  },
  {
   "cell_type": "code",
   "execution_count": 17,
   "id": "93fcc59c",
   "metadata": {},
   "outputs": [
    {
     "ename": "NameError",
     "evalue": "name 'run_params' is not defined",
     "output_type": "error",
     "traceback": [
      "\u001b[0;31m---------------------------------------------------------------------------\u001b[0m",
      "\u001b[0;31mNameError\u001b[0m                                 Traceback (most recent call last)",
      "\u001b[0;32m<ipython-input-17-66b234121d4d>\u001b[0m in \u001b[0;36m<module>\u001b[0;34m\u001b[0m\n\u001b[0;32m----> 1\u001b[0;31m \u001b[0mduration\u001b[0m \u001b[0;34m=\u001b[0m  \u001b[0mrun_params\u001b[0m\u001b[0;34m[\u001b[0m\u001b[0;34m'duration'\u001b[0m\u001b[0;34m]\u001b[0m\u001b[0;34m\u001b[0m\u001b[0;34m\u001b[0m\u001b[0m\n\u001b[0m\u001b[1;32m      2\u001b[0m \u001b[0mstride\u001b[0m \u001b[0;34m=\u001b[0m \u001b[0mduration\u001b[0m\u001b[0;34m\u001b[0m\u001b[0;34m\u001b[0m\u001b[0m\n\u001b[1;32m      3\u001b[0m \u001b[0mlength\u001b[0m \u001b[0;34m=\u001b[0m  \u001b[0mrun_params\u001b[0m\u001b[0;34m[\u001b[0m\u001b[0;34m'length'\u001b[0m\u001b[0;34m]\u001b[0m\u001b[0;34m\u001b[0m\u001b[0;34m\u001b[0m\u001b[0m\n\u001b[1;32m      4\u001b[0m \u001b[0mvar_names\u001b[0m \u001b[0;34m=\u001b[0m  \u001b[0mrun_params\u001b[0m\u001b[0;34m[\u001b[0m\u001b[0;34m'var_names'\u001b[0m\u001b[0;34m]\u001b[0m\u001b[0;34m\u001b[0m\u001b[0;34m\u001b[0m\u001b[0m\n\u001b[1;32m      5\u001b[0m \u001b[0memissions_dim\u001b[0m \u001b[0;34m=\u001b[0m \u001b[0mrun_params\u001b[0m\u001b[0;34m[\u001b[0m\u001b[0;34m'emissions_dim'\u001b[0m\u001b[0;34m]\u001b[0m\u001b[0;34m\u001b[0m\u001b[0;34m\u001b[0m\u001b[0m\n",
      "\u001b[0;31mNameError\u001b[0m: name 'run_params' is not defined"
     ]
    }
   ],
   "source": [
    "duration =  run_params['duration']\n",
    "stride = duration\n",
    "length =  run_params['length']\n",
    "var_names =  run_params['var_names']\n",
    "emissions_dim = run_params['emissions_dim']\n",
    "n_disc_states = run_params['n_disc_states']\n",
    "latent_dim = run_params['latent_dim']"
   ]
  },
  {
   "cell_type": "code",
   "execution_count": null,
   "id": "c2b19ca0",
   "metadata": {},
   "outputs": [],
   "source": [
    "fig, axs = plt.subplots(1, 2, sharey=True, figsize=(12, 4))\n",
    "\n",
    "ax = axs[0]\n",
    "start_times = results.start_time\n",
    "mean_eigs = np.array([mat.mean() for mat in results.criticality_inds])\n",
    "ax.plot(start_times, mean_eigs)\n",
    "ax.set_xlabel('Time (s)')\n",
    "ax.set_ylabel('Mean Eigenvalue')\n",
    "ax.set_title(\"Mean Eigenvalues Sampled from Session\")\n",
    "\n",
    "\n",
    "ax = axs[1]\n",
    "mean_eigs = np.array([mat.mean(axis=1) for mat in results.criticality_inds])\n",
    "for i in range(n_disc_states):\n",
    "    ax.plot(start_times, mean_eigs[:, i], label=f'eigs for state {i}')\n",
    "ax.set_xlabel('Time (s)')\n",
    "# ax.set_ylabel('Mean Eigenvalue')\n",
    "ax.set_title(\"Mean Eigenvalues Sampled from Session (Split Across Discrete States)\")\n",
    "ax.fill_between(np.arange(session_info['drugStart'][0], session_info['drugEnd'][0], dt), \n",
    "                            mean_eigs.min(), mean_eigs.max(), color='C6', alpha=0.2, label='drug infusion 1')\n",
    "ax.fill_between(np.arange(session_info['drugStart'][1], session_info['drugEnd'][1], dt), \n",
    "                            mean_eigs.min(), mean_eigs.max(), color='C7', alpha=0.2, label='drug infusion 2')\n",
    "ax.legend()\n",
    "ax.yaxis.set_tick_params(labelbottom=True)\n",
    "\n",
    "# make coloured portions the same size\n",
    "ax = axs[0]\n",
    "ax.fill_between(np.arange(session_info['drugStart'][0], session_info['drugEnd'][0], dt), \n",
    "                            mean_eigs.min(), mean_eigs.max(), color='C6', alpha=0.2, label='drug infusion 1')\n",
    "ax.fill_between(np.arange(session_info['drugStart'][1], session_info['drugEnd'][1], dt), \n",
    "                            mean_eigs.min(), mean_eigs.max(), color='C7', alpha=0.2, label='drug infusion 2')\n",
    "ax.legend()\n",
    "\n",
    "plt.suptitle(f\"Latent Dim = {latent_dim}, Duration = {duration} s, Stride = {stride} s\", fontsize=14)\n",
    "\n",
    "plt.show()"
   ]
  },
  {
   "cell_type": "code",
   "execution_count": null,
   "id": "22cc4ef3",
   "metadata": {},
   "outputs": [],
   "source": [
    "fig = plt.figure()\n",
    "ax = plt.gca()\n",
    "mean_eigs = np.array([mat.mean() for mat in results.criticality_inds])\n",
    "ax.plot(start_times, mean_eigs)\n",
    "ax.set_xlabel('Time (s)')\n",
    "ax.set_ylabel('Mean Eigenvalue')\n",
    "ax.set_title(\"Mean Eigenvalues Sampled from Session\")\n",
    "ax.fill_between(np.arange(session_info['drugStart'][0], session_info['drugEnd'][0], dt), \n",
    "                            mean_eigs.min(), mean_eigs.max(), color='C6', alpha=0.2, label='drug infusion 1')\n",
    "ax.fill_between(np.arange(session_info['drugStart'][1], session_info['drugEnd'][1], dt), \n",
    "                            mean_eigs.min(), mean_eigs.max(), color='C7', alpha=0.2, label='drug infusion 2')\n",
    "ax.legend()\n",
    "plt.suptitle(f\"Latent Dim = {latent_dim}, Duration = {duration} s, Stride = {stride} s\", fontsize=14)\n",
    "plt.show()"
   ]
  },
  {
   "cell_type": "code",
   "execution_count": null,
   "id": "f3851a3e",
   "metadata": {},
   "outputs": [],
   "source": [
    "plt.figure(figsize=(14, 5))\n",
    "\n",
    "plt.subplot(1, 2, 1)\n",
    "num_switches = np.array([np.sum(np.diff(arr != 0)) for arr in results.disc_states])\n",
    "plt.plot(start_times, num_switches)\n",
    "plt.title(f\"Number of Discrete State Switches in a {duration} Second Segment\")\n",
    "plt.xlabel('Time (s)')\n",
    "plt.ylabel('Number of Switches')\n",
    "\n",
    "plt.subplot(1, 2, 2)\n",
    "thresh = 1000\n",
    "num_switches[num_switches > thresh] = num_switches[num_switches <= thresh].mean()\n",
    "plt.plot(start_times, num_switches)\n",
    "plt.title(f\"Number of Discrete State Switches in a {duration} Second Segment\\nOutliers Removed (Threshold {thresh} Switches)\")\n",
    "plt.xlabel('Time (s)')\n",
    "plt.ylabel('Number of Switches')\n",
    "\n",
    "plt.show()"
   ]
  },
  {
   "cell_type": "code",
   "execution_count": null,
   "id": "061b1f33",
   "metadata": {},
   "outputs": [],
   "source": []
  }
 ],
 "metadata": {
  "kernelspec": {
   "display_name": "Python 3",
   "language": "python",
   "name": "python3"
  },
  "language_info": {
   "codemirror_mode": {
    "name": "ipython",
    "version": 3
   },
   "file_extension": ".py",
   "mimetype": "text/x-python",
   "name": "python",
   "nbconvert_exporter": "python",
   "pygments_lexer": "ipython3",
   "version": "3.8.8"
  }
 },
 "nbformat": 4,
 "nbformat_minor": 5
}
