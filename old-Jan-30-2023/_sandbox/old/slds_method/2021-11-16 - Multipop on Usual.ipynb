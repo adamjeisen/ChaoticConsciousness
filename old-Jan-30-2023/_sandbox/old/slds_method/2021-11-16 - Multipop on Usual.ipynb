{
 "cells": [
  {
   "cell_type": "code",
   "execution_count": 1,
   "id": "69a3f1a5",
   "metadata": {},
   "outputs": [],
   "source": [
    "%load_ext autoreload"
   ]
  },
  {
   "cell_type": "code",
   "execution_count": 6,
   "id": "c255a591",
   "metadata": {},
   "outputs": [],
   "source": [
    "%autoreload 2\n",
    "import h5py\n",
    "from matplotlib import colors\n",
    "import matplotlib.pyplot as plt\n",
    "import multiprocessing\n",
    "from neural_analysis.matIO import loadmat\n",
    "import numpy as np\n",
    "import os\n",
    "import pandas as pd\n",
    "import ssm\n",
    "from ssm.util import find_permutation\n",
    "#Load from extensions\n",
    "from ssm.extensions.mp_srslds.emissions_ext import GaussianOrthogonalCompoundEmissions\n",
    "from ssm.extensions.mp_srslds.transitions_ext import StickyRecurrentOnlyTransitions\n",
    "import sys\n",
    "import time\n",
    "from tqdm.auto import tqdm\n",
    "\n",
    "sys.path.append('../..')\n",
    "from multi_process import slds_eigs_worker\n",
    "from nld_utils import simulate_lorenz\n",
    "from up_down import get_up_down\n",
    "from utils import get_binary_stimuli, get_sample_interval, load, save"
   ]
  },
  {
   "cell_type": "markdown",
   "id": "46091d60",
   "metadata": {},
   "source": [
    "## Load Neural Data"
   ]
  },
  {
   "cell_type": "code",
   "execution_count": 4,
   "id": "3cc3760f",
   "metadata": {},
   "outputs": [
    {
     "name": "stdout",
     "output_type": "stream",
     "text": [
      "Loading data ...\n",
      "Data loaded (took 78.52 seconds)\n"
     ]
    }
   ],
   "source": [
    "# filename = '../../__data__/Mary-Anesthesia-20160809-01.mat'\n",
    "filename = r'/home/adameisen/millerdata/common/datasets/anesthesia/mat/propofolPuffTone/Mary-Anesthesia-20160809-01.mat'\n",
    "# filename = r'/home/adameisen/common/datasets/anesthesia/mat/propofolWakeUp/Mary-Anesthesia-20170203-02.mat'\n",
    "print(\"Loading data ...\")\n",
    "start = time.process_time()\n",
    "electrode_info, lfp, lfp_schema, session_info, spike_times, unit_info = loadmat(filename, variables=['electrodeInfo', 'lfp', 'lfpSchema', 'sessionInfo', 'spikeTimes', 'unitInfo'], verbose=False)\n",
    "# electrode_info, lfp_schema, session_info, unit_info = loadmat(filename, variables=['electrodeInfo', 'lfpSchema', 'sessionInfo', 'unitInfo'], verbose=False)\n",
    "dt = lfp_schema['smpInterval'][0]\n",
    "\n",
    "f = h5py.File(filename, 'r')\n",
    "airPuff_binary, audio_binary = get_binary_stimuli(f)\n",
    "\n",
    "print(f\"Data loaded (took {time.process_time() - start:.2f} seconds)\")"
   ]
  },
  {
   "cell_type": "markdown",
   "id": "4417db7b",
   "metadata": {},
   "source": [
    "# Run"
   ]
  },
  {
   "cell_type": "code",
   "execution_count": 5,
   "id": "5eb3cda6",
   "metadata": {},
   "outputs": [],
   "source": [
    "# --------\n",
    "# User-guided SLDS parameters\n",
    "# --------\n",
    "latent_dim = 2 # number of latent dimensions\n",
    "# transitions = \"standard\" # transition class\n",
    "transitions = \"standard\"\n",
    "stride = 10*60 # s\n",
    "duration = 10*60 # s\n",
    "\n",
    "length = int(duration/dt)\n",
    "# start_times = np.arange(0, lfp.shape[0]*dt - duration + 0.1, stride).astype(int)\n",
    "start_times = np.arange(0, lfp.shape[0]*dt - duration - 0.1, stride).astype(int)\n",
    "start_times = np.hstack([start_times, lfp.shape[0]*dt - duration - 5])\n",
    "\n",
    "# areas = ['vlPFC', 'FEF', 'CPB', '7b']\n",
    "areas = np.unique(electrode_info['area'])\n",
    "# areas = ['vlPFC']\n",
    "unit_indices = np.arange(lfp.shape[1])[pd.Series(electrode_info['area']).isin(areas)]\n",
    "var_names = [f\"unit_{unit_num} {electrode_info['area'][unit_num]}\" for unit_num in unit_indices]\n",
    "\n",
    "# --------\n",
    "# Set the parameters of the SLDS\n",
    "# --------\n",
    "emissions_dim = len(unit_indices)     # number of observed dimensions\n",
    "\n",
    "data_dir = \"../../__data__/slds/\"\n",
    "t = time.localtime()\n",
    "timestamp = time.strftime('%b-%d-%Y_%H%M', t)\n",
    "data_dir = os.path.join(data_dir, f\"slds_big_run_latent_{latent_dim}_duration_{duration}_stride_{stride}_{timestamp}\")\n",
    "os.makedirs(data_dir, exist_ok=True)"
   ]
  },
  {
   "cell_type": "code",
   "execution_count": null,
   "id": "62a52ecc",
   "metadata": {},
   "outputs": [],
   "source": []
  }
 ],
 "metadata": {
  "kernelspec": {
   "display_name": "Python 3",
   "language": "python",
   "name": "python3"
  },
  "language_info": {
   "codemirror_mode": {
    "name": "ipython",
    "version": 3
   },
   "file_extension": ".py",
   "mimetype": "text/x-python",
   "name": "python",
   "nbconvert_exporter": "python",
   "pygments_lexer": "ipython3",
   "version": "3.8.8"
  }
 },
 "nbformat": 4,
 "nbformat_minor": 5
}
