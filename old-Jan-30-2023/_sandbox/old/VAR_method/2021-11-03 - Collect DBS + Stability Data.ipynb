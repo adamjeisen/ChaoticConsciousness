{
 "cells": [
  {
   "cell_type": "code",
   "execution_count": 1,
   "id": "ddabe21e",
   "metadata": {},
   "outputs": [],
   "source": [
    "%load_ext autoreload"
   ]
  },
  {
   "cell_type": "code",
   "execution_count": 2,
   "id": "1b1ac697",
   "metadata": {},
   "outputs": [],
   "source": [
    "%autoreload 2\n",
    "from collections import defaultdict\n",
    "from datetime import datetime\n",
    "import h5py\n",
    "import matplotlib.pyplot as plt\n",
    "from neural_analysis.matIO import loadmat\n",
    "import numpy as np\n",
    "import os\n",
    "import pandas as pd\n",
    "from scipy.signal import butter, filtfilt, freqz\n",
    "import sys\n",
    "import time\n",
    "from tqdm.auto import tqdm\n",
    "\n",
    "sys.path.append('../..')\n",
    "from ld_utils import compute_eigs, get_data_sigma_norms\n",
    "from up_down import get_up_down\n",
    "from utils import get_binary_stimuli, get_sample_interval, load, save, to_string"
   ]
  },
  {
   "cell_type": "markdown",
   "id": "46091d60",
   "metadata": {},
   "source": [
    "## Load Neural Data"
   ]
  },
  {
   "cell_type": "code",
   "execution_count": 3,
   "id": "b1e8aada",
   "metadata": {},
   "outputs": [],
   "source": [
    "wakeup_dir = r'/home/adameisen/millerdata/common/datasets/anesthesia/mat/propofolWakeup'\n",
    "wakeup_sessions = os.listdir(wakeup_dir)\n",
    "\n",
    "data_path = \"../../__data__/VAR/Wakeup_all\"\n",
    "os.makedirs(data_path, exist_ok=True)\n"
   ]
  },
  {
   "cell_type": "code",
   "execution_count": null,
   "id": "18b18104",
   "metadata": {},
   "outputs": [
    {
     "data": {
      "application/vnd.jupyter.widget-view+json": {
       "model_id": "50eb4c33af0e4e54a61a75ce699282ed",
       "version_major": 2,
       "version_minor": 0
      },
      "text/plain": [
       "  0%|          | 0/21 [00:00<?, ?it/s]"
      ]
     },
     "metadata": {},
     "output_type": "display_data"
    }
   ],
   "source": [
    "iterator = tqdm(total = len(wakeup_sessions))\n",
    "for index in range(len(wakeup_sessions)):\n",
    "    savepath = os.path.join(data_path, f\"results_{wakeup_sessions[index][:-4]}\")\n",
    "    if not os.path.exists(savepath):\n",
    "        filename = os.path.join(wakeup_dir, wakeup_sessions[index])\n",
    "\n",
    "        electrode_info, lfp, lfp_schema, session_info, trial_info, unit_info = loadmat(filename, variables=['electrodeInfo', 'lfp', 'lfpSchema', 'sessionInfo', 'trialInfo', 'unitInfo'], verbose=False)\n",
    "        dt = lfp_schema['smpInterval'][0]\n",
    "        T = lfp.shape[0]\n",
    "        window = 2.5\n",
    "        stride = window\n",
    "\n",
    "        PCA_dim = -1\n",
    "        end_step = T - int(30/dt) # take off 30 seconds\n",
    "    #     end_step = 5000\n",
    "\n",
    "        results = {'params': {}}\n",
    "        results['params']['PCA_dim'] = PCA_dim\n",
    "        results['params']['window'] = window\n",
    "        results['params']['stride'] = stride\n",
    "        results['params']['filename'] = filename\n",
    "\n",
    "        for area in np.unique(electrode_info['area']):\n",
    "            areas = [area]\n",
    "            unit_indices = np.arange(lfp.shape[1])[pd.Series(electrode_info['area']).isin(areas)]\n",
    "            data = lfp[:end_step, unit_indices]\n",
    "            results[area] = compute_eigs(data, dt, window, stride, return_sigma_norms=True, PCA_dim=PCA_dim)\n",
    "            results[area]['end_step'] = end_step\n",
    "            results[area]['data_sigma_norms'] = get_data_sigma_norms(data, dt, window, stride)\n",
    "            del data\n",
    "\n",
    "            save(results, os.path.join(data_path, f\"results_{wakeup_sessions[index][:-4]}\"))\n",
    "    else:\n",
    "        time.sleep(0.5)\n",
    "    iterator.update()\n",
    "iterator.close()"
   ]
  },
  {
   "cell_type": "code",
   "execution_count": null,
   "id": "8a51c410",
   "metadata": {},
   "outputs": [],
   "source": []
  }
 ],
 "metadata": {
  "kernelspec": {
   "display_name": "Python 3",
   "language": "python",
   "name": "python3"
  },
  "language_info": {
   "codemirror_mode": {
    "name": "ipython",
    "version": 3
   },
   "file_extension": ".py",
   "mimetype": "text/x-python",
   "name": "python",
   "nbconvert_exporter": "python",
   "pygments_lexer": "ipython3",
   "version": "3.8.8"
  }
 },
 "nbformat": 4,
 "nbformat_minor": 5
}
