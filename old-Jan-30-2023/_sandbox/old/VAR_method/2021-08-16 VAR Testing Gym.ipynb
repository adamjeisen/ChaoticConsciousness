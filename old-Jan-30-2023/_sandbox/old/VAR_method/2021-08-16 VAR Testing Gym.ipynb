{
 "cells": [
  {
   "cell_type": "code",
   "execution_count": 2,
   "metadata": {},
   "outputs": [],
   "source": [
    "%load_ext autoreload"
   ]
  },
  {
   "cell_type": "code",
   "execution_count": 3,
   "metadata": {},
   "outputs": [],
   "source": [
    "%autoreload 2\n",
    "from collections import defaultdict\n",
    "from datetime import datetime\n",
    "import h5py\n",
    "import matplotlib.pyplot as plt\n",
    "from neural_analysis.matIO import loadmat\n",
    "import numpy as np\n",
    "import os\n",
    "from scipy.signal import butter, filtfilt, freqz\n",
    "import sys\n",
    "from tqdm.auto import tqdm\n",
    "\n",
    "sys.path.append('../..')\n",
    "from ld_utils import compute_eigs, get_data_sigma_norms\n",
    "from reservoir_computing import ReservoirDS\n",
    "from up_down import get_up_down\n",
    "from utils import get_binary_stimuli, get_sample_interval, load, save, to_string"
   ]
  },
  {
   "cell_type": "markdown",
   "metadata": {},
   "source": [
    "# Load Data"
   ]
  },
  {
   "cell_type": "code",
   "execution_count": 4,
   "metadata": {},
   "outputs": [],
   "source": [
    "filename = '../../__data__/Mary-Anesthesia-20160809-01.mat'\n",
    "# filename = r'/Volumes/common/datasets/anesthesia/mat/propofolPuffTone/Mary-Anesthesia-20160809-01.mat'\n",
    "# filename = r'/Volumes/common/datasets/anesthesia/mat/propofolWakeUp/Mary-Anesthesia-20170203-02.mat'\n",
    "f = h5py.File(filename, 'r')\n",
    "electrode_info, session_info, spike_times, unit_info = loadmat(filename, variables=['electrodeInfo', 'sessionInfo', 'spikeTimes', 'unitInfo'], verbose=False)\n",
    "spike_times = spike_times[0]\n",
    "dt = get_sample_interval(f, units='s')\n",
    "lfp = f['lfp']\n",
    "T = lfp.shape[1]"
   ]
  },
  {
   "cell_type": "markdown",
   "metadata": {},
   "source": [
    "# Compute Eigenvalues Using VAR"
   ]
  },
  {
   "cell_type": "code",
   "execution_count": 72,
   "metadata": {},
   "outputs": [],
   "source": [
    "# window = 5 # s\n",
    "# stride = 5 # s\n",
    "# PCA_dim = -1\n",
    "# end_step = 7085000"
   ]
  },
  {
   "cell_type": "code",
   "execution_count": 71,
   "metadata": {},
   "outputs": [],
   "source": [
    "# results = {}\n",
    "# results['end_step'] = end_step\n",
    "# # for area in session_info['areas']:\n",
    "# for area in ['vlPFC']:\n",
    "#     print(area)\n",
    "#     electrode_inds = np.where(electrode_info['area'] == area)[0]\n",
    "#     lfp_pts = lfp[electrode_inds, :end_step].T\n",
    "#     results[area] = compute_eigs(lfp_pts, dt, window, stride, return_sigma_norms=True, PCA_dim=PCA_dim)\n",
    "#     results[area]['data_sigma_norms'] = get_data_sigma_norms(lfp_pts, dt, window, stride)\n",
    "#     del lfp_pts"
   ]
  },
  {
   "cell_type": "code",
   "execution_count": 73,
   "metadata": {},
   "outputs": [],
   "source": [
    "# data_path = \"../../__data__/VAR\"\n",
    "# os.makedirs(data_path, exist_ok=True)\n",
    "# save(results, os.path.join(data_path, f\"results_window_{window}_stride_{stride}_PC_dim_{PCA_dim}\"))"
   ]
  },
  {
   "cell_type": "markdown",
   "metadata": {},
   "source": [
    "## Big Run"
   ]
  },
  {
   "cell_type": "code",
   "execution_count": 5,
   "metadata": {},
   "outputs": [
    {
     "name": "stdout",
     "output_type": "stream",
     "text": [
      "vlPFC\n"
     ]
    },
    {
     "data": {
      "application/vnd.jupyter.widget-view+json": {
       "model_id": "025dcad32fda444482a3bff3ae173c94",
       "version_major": 2,
       "version_minor": 0
      },
      "text/plain": [
       "HBox(children=(FloatProgress(value=0.0, max=708426.0), HTML(value='')))"
      ]
     },
     "metadata": {},
     "output_type": "display_data"
    },
    {
     "name": "stdout",
     "output_type": "stream",
     "text": [
      "\n"
     ]
    },
    {
     "data": {
      "application/vnd.jupyter.widget-view+json": {
       "model_id": "aab125022b68473fa3c52dd7f3142ab5",
       "version_major": 2,
       "version_minor": 0
      },
      "text/plain": [
       "HBox(children=(FloatProgress(value=0.0, max=708426.0), HTML(value='')))"
      ]
     },
     "metadata": {},
     "output_type": "display_data"
    },
    {
     "name": "stdout",
     "output_type": "stream",
     "text": [
      "\n"
     ]
    }
   ],
   "source": [
    "data_path = \"../../__data__/VAR\"\n",
    "os.makedirs(data_path, exist_ok=True)\n",
    "stride = 0.01\n",
    "PCA_dim = -1\n",
    "end_step = 7085000\n",
    "# for window in [0.15, 0.25, 0.5, 1, 2.5]:\n",
    "for window in [0.75]:\n",
    "    results = {}\n",
    "    results['end_step'] = end_step\n",
    "    # for area in session_info['areas']:\n",
    "    for area in ['vlPFC']:\n",
    "        print(area)\n",
    "        electrode_inds = np.where(electrode_info['area'] == area)[0]\n",
    "        lfp_pts = lfp[electrode_inds, :end_step].T\n",
    "        results[area] = compute_eigs(lfp_pts, dt, window, stride, return_sigma_norms=True, PCA_dim=PCA_dim)\n",
    "        results[area]['data_sigma_norms'] = get_data_sigma_norms(lfp_pts, dt, window, stride)\n",
    "        del lfp_pts\n",
    "    \n",
    "    save(results, os.path.join(data_path, f\"results_window_{window}_stride_{stride}_PCA_dim_{PCA_dim}\"))"
   ]
  },
  {
   "cell_type": "code",
   "execution_count": null,
   "metadata": {},
   "outputs": [],
   "source": []
  }
 ],
 "metadata": {
  "kernelspec": {
   "display_name": "Python 3",
   "language": "python",
   "name": "python3"
  },
  "language_info": {
   "codemirror_mode": {
    "name": "ipython",
    "version": 3
   },
   "file_extension": ".py",
   "mimetype": "text/x-python",
   "name": "python",
   "nbconvert_exporter": "python",
   "pygments_lexer": "ipython3",
   "version": "3.8.8"
  }
 },
 "nbformat": 4,
 "nbformat_minor": 4
}
