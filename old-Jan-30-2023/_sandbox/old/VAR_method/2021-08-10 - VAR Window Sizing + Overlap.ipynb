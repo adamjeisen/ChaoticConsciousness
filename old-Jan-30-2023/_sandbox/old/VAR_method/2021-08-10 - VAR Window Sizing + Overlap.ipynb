{
 "cells": [
  {
   "cell_type": "code",
   "execution_count": 1,
   "metadata": {},
   "outputs": [],
   "source": [
    "%load_ext autoreload"
   ]
  },
  {
   "cell_type": "code",
   "execution_count": 2,
   "metadata": {},
   "outputs": [],
   "source": [
    "%autoreload 2\n",
    "from collections import defaultdict\n",
    "from datetime import datetime\n",
    "import h5py\n",
    "from itertools import groupby\n",
    "import matplotlib.pyplot as plt\n",
    "from neural_analysis.matIO import loadmat\n",
    "import numpy as np\n",
    "from scipy.linalg import svdvals\n",
    "from scipy.signal import butter, filtfilt, freqz\n",
    "from statsmodels.tsa.api import VAR\n",
    "import sys\n",
    "from tqdm.auto import tqdm\n",
    "\n",
    "sys.path.append('../..')\n",
    "from nld_utils import simulate_lorenz\n",
    "from reservoir_computing import ReservoirDS\n",
    "from up_down import get_up_down\n",
    "from utils import get_binary_stimuli, get_sample_interval, load, save, to_string"
   ]
  },
  {
   "cell_type": "markdown",
   "metadata": {},
   "source": [
    "# Load Data"
   ]
  },
  {
   "cell_type": "code",
   "execution_count": 3,
   "metadata": {},
   "outputs": [],
   "source": [
    "filename = '../../__data__/Mary-Anesthesia-20160809-01.mat'\n",
    "# filename = r'/Volumes/common/datasets/anesthesia/mat/propofolPuffTone/Mary-Anesthesia-20160809-01.mat'\n",
    "# filename = r'/Volumes/common/datasets/anesthesia/mat/propofolWakeUp/Mary-Anesthesia-20170203-02.mat'\n",
    "f = h5py.File(filename, 'r')\n",
    "electrode_info, session_info, spike_times, unit_info = loadmat(filename, variables=['electrodeInfo', 'sessionInfo', 'spikeTimes', 'unitInfo'], verbose=False)\n",
    "spike_times = spike_times[0]\n",
    "dt = get_sample_interval(f, units='s')\n",
    "lfp = f['lfp']\n",
    "T = lfp.shape[1]"
   ]
  },
  {
   "cell_type": "markdown",
   "metadata": {},
   "source": [
    "## Get Spikes"
   ]
  },
  {
   "cell_type": "code",
   "execution_count": 4,
   "metadata": {},
   "outputs": [
    {
     "name": "stdout",
     "output_type": "stream",
     "text": [
      "vlPFC\n"
     ]
    },
    {
     "data": {
      "application/vnd.jupyter.widget-view+json": {
       "model_id": "5edb83897bff4b0db81c8e84ff5f3456",
       "version_major": 2,
       "version_minor": 0
      },
      "text/plain": [
       "HBox(children=(FloatProgress(value=0.0, max=148.0), HTML(value='')))"
      ]
     },
     "metadata": {},
     "output_type": "display_data"
    },
    {
     "name": "stdout",
     "output_type": "stream",
     "text": [
      "\n",
      "FEF\n"
     ]
    },
    {
     "data": {
      "application/vnd.jupyter.widget-view+json": {
       "model_id": "f81e80ef983c42e3a5074fb8cc36fbdf",
       "version_major": 2,
       "version_minor": 0
      },
      "text/plain": [
       "HBox(children=(FloatProgress(value=0.0, max=52.0), HTML(value='')))"
      ]
     },
     "metadata": {},
     "output_type": "display_data"
    },
    {
     "name": "stdout",
     "output_type": "stream",
     "text": [
      "\n",
      "CPB\n"
     ]
    },
    {
     "data": {
      "application/vnd.jupyter.widget-view+json": {
       "model_id": "540e7ca51ee54627808b2a6c2bd1ae84",
       "version_major": 2,
       "version_minor": 0
      },
      "text/plain": [
       "HBox(children=(FloatProgress(value=0.0, max=10.0), HTML(value='')))"
      ]
     },
     "metadata": {},
     "output_type": "display_data"
    },
    {
     "name": "stdout",
     "output_type": "stream",
     "text": [
      "\n",
      "7b\n"
     ]
    },
    {
     "data": {
      "application/vnd.jupyter.widget-view+json": {
       "model_id": "19285e50d9e34fdea09bdb0cb53c0ad5",
       "version_major": 2,
       "version_minor": 0
      },
      "text/plain": [
       "HBox(children=(FloatProgress(value=0.0, max=38.0), HTML(value='')))"
      ]
     },
     "metadata": {},
     "output_type": "display_data"
    },
    {
     "name": "stdout",
     "output_type": "stream",
     "text": [
      "\n"
     ]
    }
   ],
   "source": [
    "area_spike_dict = {}\n",
    "for area in session_info['areas']:\n",
    "    print(area)\n",
    "    unit_inds = np.where(unit_info['area'] == area)[0]\n",
    "    area_spike_dict[area] = np.zeros((len(unit_inds), T))\n",
    "    for i, ind in enumerate(tqdm(unit_inds)):\n",
    "        unit_spike_times = spike_times[ind][0, :]\n",
    "        for t in unit_spike_times:\n",
    "            area_spike_dict[area][i, int(t/dt)] = 1"
   ]
  },
  {
   "cell_type": "markdown",
   "metadata": {},
   "source": [
    "# Compute Eigs"
   ]
  },
  {
   "cell_type": "code",
   "execution_count": 5,
   "metadata": {},
   "outputs": [],
   "source": [
    "# dt, window, overlap are in seconds\n",
    "# pts has shape (num_time_steps, num_dims)\n",
    "def compute_eigs(pts, dt, window=1, stride=None, return_sigmas=False):\n",
    "    n = pts.shape[0]\n",
    "    k = int(window/dt) # window size in time steps\n",
    "    # default to window stride\n",
    "    if stride is None:\n",
    "        r = 0 # overlap size in time steps\n",
    "    else:\n",
    "        r = int((window - stride)/dt) # overlap size in time steps\n",
    "    \n",
    "    num_win = int(np.floor((n - k)/(k - r) + 1))\n",
    "    eigs = np.zeros((num_win, pts.shape[1]))\n",
    "    \n",
    "    if return_sigmas:\n",
    "        sigmas = np.zeros((num_win, pts.shape[1], pts.shape[1]))\n",
    "    \n",
    "    for i in tqdm(range(num_win)):\n",
    "        chunk = pts[i*(k - r):i*(k - r) + k]\n",
    "        model = VAR(chunk)\n",
    "#         from IPython.core.debugger import Pdb; Pdb().set_trace()\n",
    "        results = model.fit(1)\n",
    "        e,_ = np.linalg.eig(results.coefs[0])      \n",
    "        eigs[i] = np.abs(np.real(e))\n",
    "        \n",
    "        if return_sigmas:\n",
    "            sigmas[i] = results.sigma_u\n",
    "    \n",
    "    if return_sigmas:\n",
    "        return eigs, sigmas\n",
    "    else:\n",
    "        return eigs"
   ]
  },
  {
   "cell_type": "code",
   "execution_count": 6,
   "metadata": {},
   "outputs": [
    {
     "name": "stdout",
     "output_type": "stream",
     "text": [
      "vlPFC\n"
     ]
    },
    {
     "data": {
      "application/vnd.jupyter.widget-view+json": {
       "model_id": "e685e419024b42a8bb44f45d38dfa794",
       "version_major": 2,
       "version_minor": 0
      },
      "text/plain": [
       "HBox(children=(FloatProgress(value=0.0, max=708493.0), HTML(value='')))"
      ]
     },
     "metadata": {},
     "output_type": "display_data"
    },
    {
     "name": "stdout",
     "output_type": "stream",
     "text": [
      "\n"
     ]
    }
   ],
   "source": [
    "window = 0.08 # s\n",
    "stride = 0.01 # s\n",
    "\n",
    "eigs = {}\n",
    "sigmas = {}\n",
    "# for area in session_info['areas']:\n",
    "for area in ['vlPFC']:\n",
    "    print(area)\n",
    "    electrode_inds = np.where(electrode_info['area'] == area)[0]\n",
    "    eigs[area], sigmas[area] = compute_eigs(lfp[electrode_inds, :7085000].T, dt, window, stride, return_sigmas=True)"
   ]
  },
  {
   "cell_type": "code",
   "execution_count": 7,
   "metadata": {},
   "outputs": [],
   "source": [
    "save(eigs, f\"../../__data__/eigs_vlPFC_window_{window}_stride_{stride}\")"
   ]
  },
  {
   "cell_type": "code",
   "execution_count": 8,
   "metadata": {},
   "outputs": [
    {
     "data": {
      "application/vnd.jupyter.widget-view+json": {
       "model_id": "599f96fe0d7d4ee69bcace3398941688",
       "version_major": 2,
       "version_minor": 0
      },
      "text/plain": [
       "HBox(children=(FloatProgress(value=0.0, max=708493.0), HTML(value='')))"
      ]
     },
     "metadata": {},
     "output_type": "display_data"
    },
    {
     "name": "stdout",
     "output_type": "stream",
     "text": [
      "\n"
     ]
    }
   ],
   "source": [
    "sigma_norms = {}\n",
    "for area in ['vlPFC']:\n",
    "    sigma_norms[area] = np.zeros(sigmas[area].shape[0])\n",
    "    for i, sigma in enumerate(tqdm(sigmas[area])):\n",
    "        sigma_norms[area][i] = svdvals(sigma)[0]"
   ]
  },
  {
   "cell_type": "code",
   "execution_count": 9,
   "metadata": {},
   "outputs": [],
   "source": [
    "save(sigma_norms, f\"../../__data__/sigma_norms_vlPFC_window_{window}_stride_{stride}\")"
   ]
  },
  {
   "cell_type": "code",
   "execution_count": 10,
   "metadata": {},
   "outputs": [],
   "source": [
    "def get_data_sigma(pts, dt, window=1, stride=None):\n",
    "    n = pts.shape[0]\n",
    "    k = int(window/dt) # window size in time steps\n",
    "    # default to window stride\n",
    "    if stride is None:\n",
    "        r = 0 # overlap size in time steps\n",
    "    else:\n",
    "        r = int((window - stride)/dt) # overlap size in time steps\n",
    "    \n",
    "    num_win = int(np.floor((n - k)/(k - r) + 1))\n",
    "    \n",
    "    sigmas = np.zeros((num_win, pts.shape[1], pts.shape[1]))\n",
    "    for i in tqdm(range(num_win)):\n",
    "        chunk = pts[i*(k - r):i*(k - r) + k]\n",
    "        sigmas[i] = np.cov(chunk.T)\n",
    "    \n",
    "    return sigmas"
   ]
  },
  {
   "cell_type": "code",
   "execution_count": 11,
   "metadata": {},
   "outputs": [
    {
     "name": "stdout",
     "output_type": "stream",
     "text": [
      "vlPFC\n"
     ]
    },
    {
     "data": {
      "application/vnd.jupyter.widget-view+json": {
       "model_id": "b25349d5c908429fa791b7cc18f137bf",
       "version_major": 2,
       "version_minor": 0
      },
      "text/plain": [
       "HBox(children=(FloatProgress(value=0.0, max=708493.0), HTML(value='')))"
      ]
     },
     "metadata": {},
     "output_type": "display_data"
    },
    {
     "name": "stdout",
     "output_type": "stream",
     "text": [
      "\n"
     ]
    }
   ],
   "source": [
    "data_sigmas = {}\n",
    "# for area in session_info['areas']:\n",
    "for area in ['vlPFC']:\n",
    "    print(area)\n",
    "    electrode_inds = np.where(electrode_info['area'] == area)[0]\n",
    "    data_sigmas[area] = get_data_sigma(lfp[electrode_inds, :7085000].T, dt, window, stride)"
   ]
  },
  {
   "cell_type": "code",
   "execution_count": 12,
   "metadata": {},
   "outputs": [
    {
     "data": {
      "application/vnd.jupyter.widget-view+json": {
       "model_id": "4d5111ccbfab4263addec3462c5f1d9b",
       "version_major": 2,
       "version_minor": 0
      },
      "text/plain": [
       "HBox(children=(FloatProgress(value=0.0, max=708493.0), HTML(value='')))"
      ]
     },
     "metadata": {},
     "output_type": "display_data"
    },
    {
     "name": "stdout",
     "output_type": "stream",
     "text": [
      "\n"
     ]
    }
   ],
   "source": [
    "data_sigma_norms = {}\n",
    "for area in ['vlPFC']:\n",
    "    data_sigma_norms[area] = np.zeros(data_sigmas[area].shape[0])\n",
    "    for i, sigma in enumerate(tqdm(data_sigmas[area])):\n",
    "#         data_sigma_norms[area] = np.linalg.svd(sigma)[1][0]\n",
    "        data_sigma_norms[area][i] = svdvals(sigma)[0]"
   ]
  },
  {
   "cell_type": "code",
   "execution_count": 13,
   "metadata": {},
   "outputs": [],
   "source": [
    "save(data_sigma_norms, f\"../../__data__/data_sigma_norms_vlPFC_window_{window}_stride_{stride}\")"
   ]
  },
  {
   "cell_type": "code",
   "execution_count": 14,
   "metadata": {},
   "outputs": [
    {
     "data": {
      "text/plain": [
       "array([[2.87225727e-10, 2.59820887e-10, 1.22865804e-10, ...,\n",
       "        8.77596730e-11, 8.50138312e-11, 9.63361126e-11],\n",
       "       [2.59820887e-10, 2.72021854e-10, 9.47498970e-11, ...,\n",
       "        5.41877172e-11, 4.66556731e-11, 7.48306841e-11],\n",
       "       [1.22865804e-10, 9.47498970e-11, 6.27615427e-11, ...,\n",
       "        5.21898044e-11, 4.82103525e-11, 4.87733151e-11],\n",
       "       ...,\n",
       "       [8.77596730e-11, 5.41877172e-11, 5.21898044e-11, ...,\n",
       "        4.95164586e-11, 4.59200467e-11, 4.15153972e-11],\n",
       "       [8.50138312e-11, 4.66556731e-11, 4.82103525e-11, ...,\n",
       "        4.59200467e-11, 5.36373359e-11, 3.91966451e-11],\n",
       "       [9.63361126e-11, 7.48306841e-11, 4.87733151e-11, ...,\n",
       "        4.15153972e-11, 3.91966451e-11, 3.92491581e-11]])"
      ]
     },
     "execution_count": 14,
     "metadata": {},
     "output_type": "execute_result"
    }
   ],
   "source": [
    "sigmas['vlPFC'][200]"
   ]
  },
  {
   "cell_type": "markdown",
   "metadata": {},
   "source": [
    "## Compute Goodness Of Fit"
   ]
  },
  {
   "cell_type": "code",
   "execution_count": 15,
   "metadata": {},
   "outputs": [
    {
     "name": "stdout",
     "output_type": "stream",
     "text": [
      "4.525189385495085e-07\n"
     ]
    }
   ],
   "source": [
    "goodness_of_fit = 0\n",
    "area = 'vlPFC'\n",
    "for i in range(len(sigma_norms[area])):\n",
    "    goodness_of_fit += sigma_norms[area][i]/data_sigma_norms[area][i]\n",
    "goodness_of_fit /= len(sigma_norms[area])\n",
    "print(goodness_of_fit)"
   ]
  },
  {
   "cell_type": "code",
   "execution_count": 24,
   "metadata": {},
   "outputs": [
    {
     "data": {
      "text/plain": [
       "array([3.72979847e-25, 2.02318998e-30, 6.85361792e-29, ...,\n",
       "       6.12237969e-29, 3.85298927e-29, 1.11114044e-29])"
      ]
     },
     "execution_count": 24,
     "metadata": {},
     "output_type": "execute_result"
    }
   ],
   "source": [
    "sigma_norms[area]"
   ]
  },
  {
   "cell_type": "markdown",
   "metadata": {},
   "source": [
    "## Plot"
   ]
  },
  {
   "cell_type": "code",
   "execution_count": 16,
   "metadata": {},
   "outputs": [
    {
     "data": {
      "image/png": "[encoded data removed]",
      "text/plain": [
       "<Figure size 648x288 with 1 Axes>"
      ]
     },
     "metadata": {
      "needs_background": "light"
     },
     "output_type": "display_data"
    }
   ],
   "source": [
    "plt.figure(figsize=(9, 4))\n",
    "start = 4000 # s\n",
    "end = 4010 # s\n",
    "\n",
    "start = int(start/stride)\n",
    "end = int(end/stride)\n",
    "\n",
    "for area in eigs.keys():\n",
    "    plt.plot((np.arange(eigs[area].shape[0])*stride)[start:end], eigs[area].mean(1)[start:end], label=area)\n",
    "plt.title(f\"Mean Eigenvalue from VAR Using {window}s Windows, {stride}s Stride\")\n",
    "plt.xlabel(\"Time (s)\")\n",
    "plt.legend()\n",
    "plt.show()"
   ]
  },
  {
   "cell_type": "code",
   "execution_count": 36,
   "metadata": {},
   "outputs": [
    {
     "data": {
      "image/png": "[encoded data removed]",
      "text/plain": [
       "<Figure size 864x432 with 1 Axes>"
      ]
     },
     "metadata": {
      "needs_background": "light"
     },
     "output_type": "display_data"
    }
   ],
   "source": [
    "start = 20\n",
    "end = -30\n",
    "plt.figure(figsize=(12, 6))\n",
    "for i, area in enumerate(eigs.keys()):\n",
    "    plt.subplot(2, 2, i+1)\n",
    "    plt.plot((np.arange(eigs[area].shape[0])*stride)[start:end], eigs[area].mean(1)[start:end], label=area, c=f\"C{i}\")\n",
    "    plt.xlabel(\"Time (s)\")\n",
    "    plt.title(area)\n",
    "plt.suptitle(f\"Mean Eigenvalue from VAR Using {window}s Windows, {stride}s Stride\")\n",
    "# plt.legend()\n",
    "plt.tight_layout()\n",
    "plt.show()"
   ]
  },
  {
   "cell_type": "markdown",
   "metadata": {},
   "source": [
    "# Load and Compare to Up States and Down States"
   ]
  },
  {
   "cell_type": "code",
   "execution_count": 35,
   "metadata": {},
   "outputs": [],
   "source": [
    "window = 5 # s\n",
    "stride = 0.01 # s \n",
    "eigs = load(f\"../../__data__/eigs_vlPFC_window_{window}_stride_{stride}\")"
   ]
  },
  {
   "cell_type": "code",
   "execution_count": 24,
   "metadata": {},
   "outputs": [],
   "source": [
    "up_down_dict = get_up_down(area_spike_dict)"
   ]
  },
  {
   "cell_type": "code",
   "execution_count": 26,
   "metadata": {},
   "outputs": [],
   "source": [
    "area = 'vlPFC'"
   ]
  },
  {
   "cell_type": "code",
   "execution_count": 25,
   "metadata": {},
   "outputs": [
    {
     "data": {
      "image/png": "[encoded data removed]",
      "text/plain": [
       "<Figure size 432x288 with 1 Axes>"
      ]
     },
     "metadata": {
      "needs_background": "light"
     },
     "output_type": "display_data"
    }
   ],
   "source": [
    "plt.xlim([4000000, 4010000])\n",
    "plt.show()"
   ]
  },
  {
   "cell_type": "code",
   "execution_count": 37,
   "metadata": {},
   "outputs": [
    {
     "data": {
      "image/png": "[encoded data removed]",
      "text/plain": [
       "<Figure size 648x288 with 1 Axes>"
      ]
     },
     "metadata": {
      "needs_background": "light"
     },
     "output_type": "display_data"
    }
   ],
   "source": [
    "plt.figure(figsize=(9, 4))\n",
    "def correct_ylim(ax, x, y):   \n",
    "    # ax: axes object handle\n",
    "    #  x: data for entire x-axes\n",
    "    #  y: data for entire y-axes\n",
    "    # assumption: you have already set the x-limit as desired\n",
    "    lims = ax.get_xlim()\n",
    "    i = np.where( (x > lims[0]) &  (x < lims[1]) )[0]\n",
    "    ax.set_ylim( y[i].min(), y[i].max() ) \n",
    "\n",
    "start = 4020 # s\n",
    "end = 4050 # s\n",
    "\n",
    "ax = plt.gca()\n",
    "for area in eigs.keys():\n",
    "    x = np.arange(eigs[area].shape[0])*stride\n",
    "    y = eigs[area].mean(1)\n",
    "    ax.plot(x, y, label=area)\n",
    "    ax.fill_between(np.arange(len(up_down_dict[area]))*dt, 0, 1, where=up_down_dict[area], color='C1', alpha=0.6, label='up states')\n",
    "    ax.set_xlim([start, end])\n",
    "    correct_ylim(ax, x, y)\n",
    "ax.autoscale_view()\n",
    "plt.title(f\"Mean Eigenvalue from VAR Using {window}s Windows, {stride}s Stride\")\n",
    "plt.xlabel(\"Time (s)\")\n",
    "plt.legend()\n",
    "plt.show()"
   ]
  },
  {
   "cell_type": "code",
   "execution_count": 209,
   "metadata": {},
   "outputs": [],
   "source": [
    "area = 'vlPFC'\n",
    "deep_drug_start, deep_drug_end = session_info['drugStart'][1], session_info['drugEnd'][1]\n",
    "eigs_time_vals = np.arange(eigs[area].shape[0])*stride\n",
    "deep_drug_eig_bool = np.logical_and(eigs_time_vals > deep_drug_start, eigs_time_vals < deep_drug_end)\n",
    "deep_drug_eigs = eigs[area][deep_drug_eig_bool]\n",
    "deep_drug_eigs_time_vals = eigs_time_vals[deep_drug_eig_bool]"
   ]
  },
  {
   "cell_type": "code",
   "execution_count": 210,
   "metadata": {},
   "outputs": [],
   "source": [
    "def contiguous_segments(array):\n",
    "    idx = 0\n",
    "    res = defaultdict(list)\n",
    "\n",
    "    # grouping Consecutives\n",
    "    for key, sub in groupby(array):\n",
    "        ele = len(list(sub))\n",
    "\n",
    "        # append strt index, and till index\n",
    "        res[key].append((idx, idx + ele - 1))\n",
    "        idx += ele\n",
    "\n",
    "    return dict(res)"
   ]
  },
  {
   "cell_type": "code",
   "execution_count": 230,
   "metadata": {},
   "outputs": [
    {
     "name": "stdout",
     "output_type": "stream",
     "text": [
      "Average up state eigenvalue (deep drug phase): 0.85 +/- 0.10\n",
      "Average down state eigenvalue (deep drug phase): 0.84 +/- 0.10\n"
     ]
    }
   ],
   "source": [
    "up_down_dict[area]\n",
    "up_down_time_vals = np.arange(len(up_down_dict[area]))*dt\n",
    "deep_drug_up_down_bool = np.logical_and(up_down_time_vals > deep_drug_start, up_down_time_vals < deep_drug_end)\n",
    "deep_drug_up_down = up_down_dict[area][deep_drug_up_down_bool]\n",
    "deep_drug_up_down_time_vals = up_down_time_vals[deep_drug_up_down_bool]\n",
    "\n",
    "up_down_state_segments = contiguous_segments(deep_drug_up_down)\n",
    "up_state_eig_bool = [False]*len(deep_drug_eigs_time_vals)\n",
    "up_state_segments = np.array(up_down_state_segments[1])*dt + deep_drug_start\n",
    "for segment in up_state_segments:\n",
    "    segment_eig_bool = np.logical_and(deep_drug_eigs_time_vals > segment[0], deep_drug_eigs_time_vals < segment[1])\n",
    "    up_state_eig_bool = np.logical_or(up_state_eig_bool, segment_eig_bool)\n",
    "\n",
    "up_state_eigs = deep_drug_eigs[up_state_eig_bool]\n",
    "down_state_eigs = deep_drug_eigs[~up_state_eig_bool]\n",
    "\n",
    "print(f\"Average up state eigenvalue (deep drug phase): {up_state_eigs.mean():.2f} +/- {up_state_eigs.std():.2f}\")\n",
    "print(f\"Average down state eigenvalue (deep drug phase): {down_state_eigs.mean():.2f} +/- {down_state_eigs.std():.2f}\")"
   ]
  },
  {
   "cell_type": "code",
   "execution_count": 123,
   "metadata": {},
   "outputs": [
    {
     "data": {
      "text/plain": [
       "[<matplotlib.lines.Line2D at 0x7fa963049ca0>]"
      ]
     },
     "execution_count": 123,
     "metadata": {},
     "output_type": "execute_result"
    },
    {
     "data": {
      "image/png": "[encoded data removed]",
      "text/plain": [
       "<Figure size 432x288 with 1 Axes>"
      ]
     },
     "metadata": {
      "needs_background": "light"
     },
     "output_type": "display_data"
    }
   ],
   "source": [
    "plt.plot(deep_anesthesia_eigs_time_vals, deep_anesthesia_eigs.mean(1))"
   ]
  },
  {
   "cell_type": "code",
   "execution_count": null,
   "metadata": {},
   "outputs": [],
   "source": []
  }
 ],
 "metadata": {
  "kernelspec": {
   "display_name": "Python 3",
   "language": "python",
   "name": "python3"
  },
  "language_info": {
   "codemirror_mode": {
    "name": "ipython",
    "version": 3
   },
   "file_extension": ".py",
   "mimetype": "text/x-python",
   "name": "python",
   "nbconvert_exporter": "python",
   "pygments_lexer": "ipython3",
   "version": "3.8.3"
  }
 },
 "nbformat": 4,
 "nbformat_minor": 4
}
