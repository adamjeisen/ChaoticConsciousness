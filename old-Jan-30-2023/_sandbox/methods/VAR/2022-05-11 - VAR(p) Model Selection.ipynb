{
 "cells": [
  {
   "cell_type": "code",
   "execution_count": 1,
   "id": "ddabe21e",
   "metadata": {},
   "outputs": [],
   "source": [
    "%load_ext autoreload"
   ]
  },
  {
   "cell_type": "code",
   "execution_count": 2,
   "id": "1b1ac697",
   "metadata": {},
   "outputs": [],
   "source": [
    "%autoreload 2\n",
    "from datetime import datetime\n",
    "from matplotlib import colors\n",
    "import matplotlib.pyplot as plt\n",
    "from mpl_toolkits.axes_grid1 import make_axes_locatable\n",
    "from neural_analysis.matIO import loadmat\n",
    "from neural_analysis import spectra\n",
    "import numpy as np\n",
    "import os\n",
    "import pandas as pd\n",
    "import re\n",
    "import scipy\n",
    "from statsmodels.tsa.api import VAR\n",
    "import sys\n",
    "import time\n",
    "from tqdm.auto import tqdm\n",
    "import traceback as tb\n",
    "\n",
    "sys.path.append('../../..')\n",
    "from multiproc import compute_VAR\n",
    "from plot import plot_individual_areas, plot_multipopulation\n",
    "from up_down import get_up_down\n",
    "from utils import compute_summary_statistics, get_data_class, get_result_path, load, load_session_data, run_window_selection, save"
   ]
  },
  {
   "cell_type": "markdown",
   "id": "40da2f2c",
   "metadata": {},
   "source": [
    "# Load Neural Data "
   ]
  },
  {
   "cell_type": "code",
   "execution_count": 335,
   "id": "e352146b",
   "metadata": {},
   "outputs": [],
   "source": [
    "session = 'Mary-Anesthesia-20160809-01'\n",
    "all_data_dir = '/om/user/eisenaj/datasets/anesthesia/mat'\n",
    "data_class = get_data_class(session, all_data_dir)\n",
    "variables = ['electrodeInfo', 'lfpSchema', 'sessionInfo', 'spikeTimes', 'unitInfo']\n",
    "session_vars, T, N, dt = load_session_data(session, all_data_dir, variables, data_class=data_class, verbose=False)\n",
    "electrode_info, lfp_schema, session_info, spike_times, unit_info = session_vars['electrodeInfo'], session_vars['lfpSchema'], session_vars['sessionInfo'], session_vars['spikeTimes'], session_vars['unitInfo']"
   ]
  },
  {
   "cell_type": "code",
   "execution_count": 336,
   "id": "24fbb826",
   "metadata": {},
   "outputs": [
    {
     "data": {
      "text/plain": [
       "1875.3599666666667"
      ]
     },
     "execution_count": 336,
     "metadata": {},
     "output_type": "execute_result"
    }
   ],
   "source": [
    "session_info['drugStart'][0]"
   ]
  },
  {
   "cell_type": "code",
   "execution_count": 3,
   "id": "5cb7c554",
   "metadata": {},
   "outputs": [],
   "source": [
    "session = 'Mary-Anesthesia-20160912-02'"
   ]
  },
  {
   "cell_type": "code",
   "execution_count": 4,
   "id": "6f4e9176",
   "metadata": {},
   "outputs": [],
   "source": [
    "all_data_dir = '/om/user/eisenaj/datasets/anesthesia/mat'\n",
    "data_class = get_data_class(session, all_data_dir)"
   ]
  },
  {
   "cell_type": "code",
   "execution_count": 5,
   "id": "367790f3",
   "metadata": {},
   "outputs": [],
   "source": [
    "variables = ['electrodeInfo', 'lfp', 'lfpSchema', 'sessionInfo', 'spikeTimes', 'unitInfo']\n",
    "session_vars, T, N, dt = load_session_data(session, all_data_dir, variables, data_class=data_class, verbose=False)\n",
    "electrode_info, lfp, lfp_schema, session_info, spike_times, unit_info = session_vars['electrodeInfo'], session_vars['lfp'], session_vars['lfpSchema'], session_vars['sessionInfo'], session_vars['spikeTimes'], session_vars['unitInfo']"
   ]
  },
  {
   "cell_type": "code",
   "execution_count": 6,
   "id": "c15d2543",
   "metadata": {},
   "outputs": [],
   "source": [
    "spike_times = spike_times[0]"
   ]
  },
  {
   "cell_type": "markdown",
   "id": "ca53028d",
   "metadata": {},
   "source": [
    "# Compute VAR(p)"
   ]
  },
  {
   "cell_type": "code",
   "execution_count": 127,
   "id": "b4506efd",
   "metadata": {},
   "outputs": [],
   "source": [
    "def compute_VAR_p(window_data, p=1, unit_indices=None, PCA_dim=-1):\n",
    "    if unit_indices is None:\n",
    "        chunk = window_data\n",
    "    else:\n",
    "        chunk = window_data[:, unit_indices]\n",
    "\n",
    "    results = {}\n",
    "    results['explained_variance'] = None\n",
    "    if PCA_dim > 0:\n",
    "        if PCA_dim < 2:\n",
    "            raise ValueError(f\"PCA dimension must be greater than 1; provided value was {PCA_dim}\")\n",
    "        pca = PCA(n_components=PCA_dim)\n",
    "        chunk = pca.fit_transform(chunk)\n",
    "        results['explained_variance'] = pca.explained_variance_ratio_\n",
    "    \n",
    "    model = VAR(chunk)\n",
    "    VAR_results = model.fit(p)\n",
    "\n",
    "    results['coefs'] = VAR_results.coefs\n",
    "    results['intercept'] = VAR_results.intercept\n",
    "\n",
    "    N = chunk.shape[1]\n",
    "    A_mat = np.zeros((N*p, N*p))\n",
    "    for i in range(p):\n",
    "        A_mat[0:N][:, i*N:(i+1)*N] = VAR_results.coefs[i]\n",
    "\n",
    "    for i in range(p - 1):\n",
    "        A_mat[(i + 1)*N:(i + 2)*N][:, i*N:(i + 1)*N] = np.eye(N)\n",
    "    e = np.linalg.eigvals(A_mat)   \n",
    "    results['eigs'] = e  \n",
    "    results['criticality_inds'] = np.abs(e)\n",
    "\n",
    "    try:\n",
    "        results['info_criteria'] = VAR_results.info_criteria\n",
    "    except:\n",
    "        results['info_criteria'] = None\n",
    "\n",
    "    return results\n",
    "\n",
    "def predict_VAR_p(data, coefs, intercept, unit_indices=None):\n",
    "    if unit_indices is None:\n",
    "        chunk = data\n",
    "    else:\n",
    "        chunk = data[:, unit_indices]\n",
    "    \n",
    "    # BUILD PARAMS FOR PREDICTION\n",
    "    p = coefs.shape[0]\n",
    "    n = chunk.shape[1]\n",
    "    \n",
    "    params = np.zeros((1 + n*p, n))\n",
    "    params[0] = intercept\n",
    "    for i in range(p):\n",
    "        params[1 + i*n:1 + (i + 1)*n] = coefs[i].T\n",
    "\n",
    "    # LAG DATA\n",
    "    lagged_data = np.zeros((chunk.shape[0] - p, chunk.shape[1]*p + 1))\n",
    "    lagged_data[:, 0] = np.ones(lagged_data.shape[0])\n",
    "    for i in range(p):\n",
    "        lagged_data[:, i*chunk.shape[1] + 1:(i + 1)*chunk.shape[1] + 1] = chunk[p - 1 - i:chunk.shape[0] - 1 - i]\n",
    "    \n",
    "    # PREDICT\n",
    "    prediction = lagged_data @ params\n",
    "    true_vals = chunk[p:]\n",
    "    \n",
    "    return prediction, true_vals"
   ]
  },
  {
   "cell_type": "code",
   "execution_count": 153,
   "id": "f807b5d3",
   "metadata": {},
   "outputs": [],
   "source": [
    "# TODO: add access to lfpl, electrode_info\n",
    "def windowed_VAR_p(window, window_ind, area, p=1, T_pred=25, stride=None):\n",
    "    if stride is None:\n",
    "        stride = window\n",
    "        \n",
    "    start_ind = window_ind*int(stride/dt)\n",
    "    end_ind = window_ind*int(stride/dt) + int(window/dt)\n",
    "    start_time = window_ind*stride\n",
    "    end_time = window_ind*stride + window\n",
    "\n",
    "    if area == 'all':\n",
    "        unit_indices = np.arange(len(electrode_info['area']))\n",
    "    else:\n",
    "        unit_indices = np.where(electrode_info['area'] == area)[0]\n",
    "\n",
    "    # COMPUTE VAR(p)\n",
    "    window_data = lfp[start_ind:end_ind]\n",
    "    results = compute_VAR_p(window_data, p, unit_indices)\n",
    "\n",
    "    # PREDICT\n",
    "    train_prediction, train_true_vals = predict_VAR_p(window_data, results['coefs'], results['intercept'], unit_indices)\n",
    "    train_mse = ((train_prediction - train_true_vals)**2).mean()\n",
    "    test_prediction, test_true_vals = predict_VAR_p(lfp[end_ind - p:end_ind + T_pred], results['coefs'], results['intercept'], unit_indices)\n",
    "    test_mse = ((test_prediction - test_true_vals)**2).mean()\n",
    "    persistence_baseline = ((lfp[end_ind:end_ind + T_pred] - lfp[end_ind - 1:end_ind + T_pred - 1])**2).mean()\n",
    "\n",
    "    # ADD TO DICTIONARY\n",
    "    results['train_mse'] = train_mse\n",
    "    results['test_mse'] = test_mse\n",
    "    results['persistence_baseline'] = persistence_baseline\n",
    "\n",
    "    # ADD TIMESTAMPS\n",
    "    results['start_ind'] = start_ind\n",
    "    results['end_ind'] = end_ind\n",
    "    results['start_time'] = start_time\n",
    "    results['end_time'] = end_time\n",
    "\n",
    "    # ADD PARAMETERS\n",
    "    results['window'] = window\n",
    "    results['stride'] = stride\n",
    "    results['p'] = p\n",
    "    results['T_pred'] = T_pred\n",
    "    results['area'] = area\n",
    "    \n",
    "    return results"
   ]
  },
  {
   "cell_type": "code",
   "execution_count": 154,
   "id": "7b6650ca",
   "metadata": {},
   "outputs": [],
   "source": [
    "window = 10 # s\n",
    "window_ind = 0\n",
    "p = 10\n",
    "T_pred = 25\n",
    "area = 'vlPFC'"
   ]
  },
  {
   "cell_type": "code",
   "execution_count": 155,
   "id": "402b1f72",
   "metadata": {},
   "outputs": [],
   "source": [
    "results = windowed_VAR_p(window, window_ind, area, p, T_pred)"
   ]
  },
  {
   "cell_type": "code",
   "execution_count": 330,
   "id": "1706ee18",
   "metadata": {},
   "outputs": [],
   "source": [
    "data = load(\"/om/user/eisenaj/ChaoticConsciousness/results/propofolPuffTone/VAR_p/grid_search/Mary-Anesthesia-20160809-01_May-12-2022_1504/all/pre/window_start_1781.0_end_1781.5\")"
   ]
  },
  {
   "cell_type": "code",
   "execution_count": 334,
   "id": "33190e7a",
   "metadata": {},
   "outputs": [
    {
     "data": {
      "text/html": [
       "<div>\n",
       "<style scoped>\n",
       "    .dataframe tbody tr th:only-of-type {\n",
       "        vertical-align: middle;\n",
       "    }\n",
       "\n",
       "    .dataframe tbody tr th {\n",
       "        vertical-align: top;\n",
       "    }\n",
       "\n",
       "    .dataframe thead th {\n",
       "        text-align: right;\n",
       "    }\n",
       "</style>\n",
       "<table border=\"1\" class=\"dataframe\">\n",
       "  <thead>\n",
       "    <tr style=\"text-align: right;\">\n",
       "      <th></th>\n",
       "      <th>explained_variance</th>\n",
       "      <th>coefs</th>\n",
       "      <th>intercept</th>\n",
       "      <th>eigs</th>\n",
       "      <th>criticality_inds</th>\n",
       "      <th>info_criteria</th>\n",
       "      <th>train_mse</th>\n",
       "      <th>test_mse</th>\n",
       "      <th>persistence_baseline</th>\n",
       "      <th>start_ind</th>\n",
       "      <th>end_ind</th>\n",
       "      <th>start_time</th>\n",
       "      <th>end_time</th>\n",
       "      <th>window</th>\n",
       "      <th>stride</th>\n",
       "      <th>p</th>\n",
       "      <th>T_pred</th>\n",
       "      <th>area</th>\n",
       "    </tr>\n",
       "  </thead>\n",
       "  <tbody>\n",
       "    <tr>\n",
       "      <th>0</th>\n",
       "      <td>None</td>\n",
       "      <td>[[[0.5113868623495944, -0.14781588892151415, -...</td>\n",
       "      <td>[-0.110485386194906, -0.02405434112004965, 0.0...</td>\n",
       "      <td>[(-0.008653585056965257+0.9105269242055947j), ...</td>\n",
       "      <td>[0.9105680448146853, 0.9105680448146853, 0.755...</td>\n",
       "      <td>None</td>\n",
       "      <td>0.000002</td>\n",
       "      <td>0.001133</td>\n",
       "      <td>0.000043</td>\n",
       "      <td>1781000</td>\n",
       "      <td>1781500</td>\n",
       "      <td>1781.0</td>\n",
       "      <td>1781.5</td>\n",
       "      <td>0.5</td>\n",
       "      <td>0.5</td>\n",
       "      <td>1</td>\n",
       "      <td>25</td>\n",
       "      <td>all</td>\n",
       "    </tr>\n",
       "  </tbody>\n",
       "</table>\n",
       "</div>"
      ],
      "text/plain": [
       "  explained_variance                                              coefs  \\\n",
       "0               None  [[[0.5113868623495944, -0.14781588892151415, -...   \n",
       "\n",
       "                                           intercept  \\\n",
       "0  [-0.110485386194906, -0.02405434112004965, 0.0...   \n",
       "\n",
       "                                                eigs  \\\n",
       "0  [(-0.008653585056965257+0.9105269242055947j), ...   \n",
       "\n",
       "                                    criticality_inds info_criteria  train_mse  \\\n",
       "0  [0.9105680448146853, 0.9105680448146853, 0.755...          None   0.000002   \n",
       "\n",
       "   test_mse  persistence_baseline  start_ind  end_ind  start_time  end_time  \\\n",
       "0  0.001133              0.000043    1781000  1781500      1781.0    1781.5   \n",
       "\n",
       "   window  stride  p  T_pred area  \n",
       "0     0.5     0.5  1      25  all  "
      ]
     },
     "execution_count": 334,
     "metadata": {},
     "output_type": "execute_result"
    }
   ],
   "source": [
    "pd.DataFrame([data])"
   ]
  },
  {
   "cell_type": "markdown",
   "id": "c2afd4a0",
   "metadata": {},
   "source": [
    "# Test VAR on Random Windows From Each Section"
   ]
  },
  {
   "cell_type": "code",
   "execution_count": 167,
   "id": "33ed7d1a",
   "metadata": {},
   "outputs": [],
   "source": [
    "eyes_close = session_info['eyesClose'][-1] if isinstance(session_info['eyesClose'], np.ndarray) else session_info['eyesClose'] \n",
    "section_times = dict( \n",
    "    pre=(0, session_info['drugStart'][0]),\n",
    "    induction=(session_info['drugStart'][0], eyes_close),\n",
    "    during=(eyes_close, session_info['drugEnd'][1]),\n",
    "    post=(session_info['drugEnd'][1], T)\n",
    ")"
   ]
  },
  {
   "cell_type": "code",
   "execution_count": 307,
   "id": "be29df68",
   "metadata": {},
   "outputs": [],
   "source": [
    "section = 'pre'\n",
    "area = 'vlPFC'\n",
    "num_window_samples = 3\n",
    "cutoff_percentile = 90\n",
    "windows = [int(w) if w % 1 == 0 else w for w in np.arange(0.5, 10.1, 0.5)]\n",
    "max_lag = 10"
   ]
  },
  {
   "cell_type": "code",
   "execution_count": 308,
   "id": "236edae6",
   "metadata": {},
   "outputs": [
    {
     "data": {
      "application/vnd.jupyter.widget-view+json": {
       "model_id": "eecb76beac2345e6a90954af87a30ec1",
       "version_major": 2,
       "version_minor": 0
      },
      "text/plain": [
       "  0%|          | 0/600 [00:00<?, ?it/s]"
      ]
     },
     "metadata": {},
     "output_type": "display_data"
    }
   ],
   "source": [
    "grid_search_df = []\n",
    "lags = np.arange(1, max_lag + 1)\n",
    "iterator = tqdm(total = len(windows)*len(lags)*num_window_samples)\n",
    "for window in windows:\n",
    "    for p in lags:\n",
    "        # choose window inds to sample\n",
    "        min_ind = int(section_times[section][0]/window)\n",
    "        max_ind = int(section_times[section][1]/window)\n",
    "        possible_inds = np.arange(min_ind, max_ind + 1)\n",
    "        window_inds = np.random.choice(possible_inds, size=(np.min([num_window_samples, len(possible_inds)])), replace=False)\n",
    "\n",
    "        for window_ind in window_inds:\n",
    "            results = windowed_VAR_p(window, window_ind, area, p, T_pred)\n",
    "            grid_search_df.append(results)\n",
    "        \n",
    "            iterator.update()\n",
    "iterator.close()\n",
    "grid_search_df = pd.DataFrame(grid_search_df)"
   ]
  },
  {
   "cell_type": "code",
   "execution_count": 309,
   "id": "06225bf9",
   "metadata": {},
   "outputs": [],
   "source": [
    "test_mse_mat = np.zeros((len(windows), len(lags)))\n",
    "for i, window in enumerate(windows):\n",
    "    for j, p in enumerate(lags):\n",
    "        test_mse_mat[i, j] = grid_search_df[np.logical_and(grid_search_df.window == window, grid_search_df.p == p)].test_mse.mean()"
   ]
  },
  {
   "cell_type": "code",
   "execution_count": 310,
   "id": "a565fc37",
   "metadata": {},
   "outputs": [
    {
     "data": {
      "image/png": "[encoded data removed]",
      "text/plain": [
       "<Figure size 648x432 with 2 Axes>"
      ]
     },
     "metadata": {
      "needs_background": "light"
     },
     "output_type": "display_data"
    }
   ],
   "source": [
    "plt.style.use('../../sci_style.py')\n",
    "plt.figure(figsize=(9, 6))\n",
    "norm = colors.TwoSlopeNorm(vmin=test_mse_mat.min(), vcenter=test_mse_mat.mean(), vmax=test_mse_mat.max())\n",
    "plt.pcolormesh(test_mse_mat, norm=norm)\n",
    "plt.xticks(np.arange(0, max_lag) + 0.5, [lags[i] for i in np.arange(0, max_lag)])\n",
    "plt.yticks(np.arange(0, len(windows)) + 0.5, [windows[i] for i in np.arange(0, len(windows))])\n",
    "plt.xlabel('Lags')\n",
    "plt.ylabel('Window Length (s)')\n",
    "cbar = plt.colorbar()\n",
    "cbar_ticks = [norm.vmin + t*(norm.vcenter-norm.vmin) for t in np.arange(0, 1.1, 0.2)]\n",
    "cbar_ticks += [norm.vcenter + t*(norm.vmax-norm.vcenter) for t in np.arange(0, 1.1, 0.2)]\n",
    "cbar.set_ticks(cbar_ticks)\n",
    "w_ind, p_ind = np.unravel_index(test_mse_mat.argmin(), test_mse_mat.shape)\n",
    "plt.scatter([p_ind + 0.5], [w_ind + 0.5], color='red', s=40, label='min')\n",
    "plt.tight_layout()\n",
    "plt.title(f\"Prediction MSE Grid Search\\nOptimum @ {windows[w_ind]}s Window, {lags[p_ind]} Lags\")\n",
    "plt.show()"
   ]
  },
  {
   "cell_type": "code",
   "execution_count": 311,
   "id": "2a91573d",
   "metadata": {},
   "outputs": [
    {
     "data": {
      "text/plain": [
       "(1.1499038099259673e-06, 1.2124676603491517e-06, 2.9145399621878106e-05)"
      ]
     },
     "execution_count": 311,
     "metadata": {},
     "output_type": "execute_result"
    }
   ],
   "source": [
    "rows = grid_search_df[np.logical_and(grid_search_df.window == windows[w_ind], grid_search_df.p == lags[p_ind])]\n",
    "rows.train_mse.mean(), rows.test_mse.mean(), rows.persistence_baseline.mean()"
   ]
  },
  {
   "cell_type": "code",
   "execution_count": 312,
   "id": "71430d0b",
   "metadata": {},
   "outputs": [
    {
     "data": {
      "text/plain": [
       "array([0.95860989, 0.95793424, 0.95794702])"
      ]
     },
     "execution_count": 312,
     "metadata": {},
     "output_type": "execute_result"
    }
   ],
   "source": [
    "# rows.criticality_inds.apply(lambda x: x.mean()).to_numpy()\n",
    "rows.criticality_inds.apply(lambda x: x[x >= np.percentile(x, cutoff_percentile)].mean()).to_numpy()"
   ]
  },
  {
   "cell_type": "code",
   "execution_count": 313,
   "id": "e78e1e83",
   "metadata": {},
   "outputs": [
    {
     "data": {
      "text/plain": [
       "0.9581637161935483"
      ]
     },
     "execution_count": 313,
     "metadata": {},
     "output_type": "execute_result"
    }
   ],
   "source": [
    "rows.criticality_inds.apply(lambda x: x[x >= np.percentile(x, cutoff_percentile)].mean()).to_numpy().mean()"
   ]
  },
  {
   "cell_type": "code",
   "execution_count": 314,
   "id": "e7085894",
   "metadata": {},
   "outputs": [
    {
     "data": {
      "image/png": "[encoded data removed]",
      "text/plain": [
       "<Figure size 720x360 with 1 Axes>"
      ]
     },
     "metadata": {
      "needs_background": "light"
     },
     "output_type": "display_data"
    }
   ],
   "source": [
    "plt.hist(np.hstack(rows.criticality_inds.apply(lambda x: x[x >= np.percentile(x, cutoff_percentile)]).to_numpy()))\n",
    "plt.show()"
   ]
  },
  {
   "cell_type": "code",
   "execution_count": 315,
   "id": "819f0da9",
   "metadata": {},
   "outputs": [
    {
     "data": {
      "text/plain": [
       "array([0.91879713, 0.91883977, 0.91866748])"
      ]
     },
     "execution_count": 315,
     "metadata": {},
     "output_type": "execute_result"
    }
   ],
   "source": [
    "rows.criticality_inds.apply(lambda x: x.mean()).to_numpy()"
   ]
  },
  {
   "cell_type": "code",
   "execution_count": 316,
   "id": "2d5b7879",
   "metadata": {},
   "outputs": [
    {
     "data": {
      "image/png": "[encoded data removed]",
      "text/plain": [
       "<Figure size 720x360 with 1 Axes>"
      ]
     },
     "metadata": {
      "needs_background": "light"
     },
     "output_type": "display_data"
    }
   ],
   "source": [
    "plt.hist(np.hstack(rows.criticality_inds.to_numpy()))\n",
    "plt.show()"
   ]
  },
  {
   "cell_type": "code",
   "execution_count": 269,
   "id": "8dd260bb",
   "metadata": {},
   "outputs": [],
   "source": [
    "# X = np.tile(windows, (test_mse_mat.shape[1], 1)).T\n",
    "# Y = np.tile(np.arange(1, max_lag+1), (test_mse_mat.shape[0], 1))\n",
    "# Z = test_mse_mat\n",
    "# fig = plt.figure(figsize=(10, 5))\n",
    "# ax = fig.add_subplot(111, projection='3d')\n",
    "# ax.plot_surface(X[5:], Y[5:], Z[5:])\n",
    "# ax.set_xlabel(\"Window Length (s)\")\n",
    "# ax.set_ylabel(\"Lags\")\n",
    "# # ax.set_zlabel(\"Prediction MSE\")\n",
    "# plt.show()"
   ]
  },
  {
   "cell_type": "code",
   "execution_count": null,
   "id": "cfd25527",
   "metadata": {},
   "outputs": [],
   "source": []
  }
 ],
 "metadata": {
  "kernelspec": {
   "display_name": "Python 3 (ipykernel)",
   "language": "python",
   "name": "python3"
  },
  "language_info": {
   "codemirror_mode": {
    "name": "ipython",
    "version": 3
   },
   "file_extension": ".py",
   "mimetype": "text/x-python",
   "name": "python",
   "nbconvert_exporter": "python",
   "pygments_lexer": "ipython3",
   "version": "3.9.1"
  }
 },
 "nbformat": 4,
 "nbformat_minor": 5
}
