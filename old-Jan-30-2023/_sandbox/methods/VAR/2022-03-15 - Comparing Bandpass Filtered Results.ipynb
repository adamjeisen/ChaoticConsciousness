{
 "cells": [
  {
   "cell_type": "code",
   "execution_count": 1,
   "id": "ddabe21e",
   "metadata": {},
   "outputs": [],
   "source": [
    "%load_ext autoreload"
   ]
  },
  {
   "cell_type": "code",
   "execution_count": 12,
   "id": "1b1ac697",
   "metadata": {},
   "outputs": [],
   "source": [
    "%autoreload 2\n",
    "from collections import defaultdict\n",
    "from datetime import datetime\n",
    "import h5py\n",
    "from kneed import KneeLocator\n",
    "import matplotlib.pyplot as plt\n",
    "from neural_analysis.matIO import loadmat\n",
    "import numpy as np\n",
    "import os\n",
    "import pandas as pd\n",
    "import re\n",
    "from scipy.signal import butter, lfilter\n",
    "import sys\n",
    "import time\n",
    "from tqdm.auto import tqdm\n",
    "\n",
    "sys.path.append('../../..')\n",
    "from multiproc import compute_VAR\n",
    "from up_down import get_up_down\n",
    "from utils import compile_folder, get_data_class, get_result_path, load, save, to_string"
   ]
  },
  {
   "cell_type": "code",
   "execution_count": 3,
   "id": "9e9b3443",
   "metadata": {},
   "outputs": [],
   "source": [
    "## propofolPuffTone\n",
    "session = 'Mary-Anesthesia-20160809-01'\n",
    "# session = 'MrJones-Anesthesia-20160105-01'\n",
    "# session = 'Mary-Anesthesia-20160916-02'\n",
    "# session = 'MrJones-Anesthesia-20160301-01'\n",
    "# session = 'MrJones-Anesthesia-20160113-01'\n",
    "\n",
    "## propofolWakeup\n",
    "# session = 'Mary-Anesthesia-20170203-02'"
   ]
  },
  {
   "cell_type": "markdown",
   "id": "46091d60",
   "metadata": {},
   "source": [
    "## Load Neural Data"
   ]
  },
  {
   "cell_type": "code",
   "execution_count": 4,
   "id": "b7380542",
   "metadata": {},
   "outputs": [],
   "source": [
    "all_data_dir = f\"/om/user/eisenaj/datasets/anesthesia/mat\"\n",
    "data_class = get_data_class(session, all_data_dir)"
   ]
  },
  {
   "cell_type": "code",
   "execution_count": 5,
   "id": "3cc3760f",
   "metadata": {},
   "outputs": [
    {
     "name": "stdout",
     "output_type": "stream",
     "text": [
      "Loading data ...\n",
      "Data loaded (took 132.35 seconds)\n"
     ]
    }
   ],
   "source": [
    "filename = os.path.join(all_data_dir, data_class, f'{session}.mat')\n",
    "print(\"Loading data ...\")\n",
    "start = time.process_time()\n",
    "electrode_info, lfp, lfp_schema, session_info, spike_times, unit_info = loadmat(filename, variables=['electrodeInfo', 'lfp', 'lfpSchema', 'sessionInfo', 'spikeTimes', 'unitInfo'], verbose=False)\n",
    "spike_times = spike_times[0]\n",
    "dt = lfp_schema['smpInterval'][0]\n",
    "T = lfp.shape[0]\n",
    "\n",
    "print(f\"Data loaded (took {time.process_time() - start:.2f} seconds)\")"
   ]
  },
  {
   "cell_type": "markdown",
   "id": "e2f5400b",
   "metadata": {},
   "source": [
    "# Bandpass Filter"
   ]
  },
  {
   "cell_type": "code",
   "execution_count": 6,
   "id": "68c9e1c3",
   "metadata": {},
   "outputs": [],
   "source": [
    "def butter_bandpass(lowcut, highcut, fs, order=5):\n",
    "    return butter(order, [lowcut, highcut], fs=fs, btype='band')\n",
    "\n",
    "def butter_bandpass_filter(data, lowcut, highcut, fs, order=5):\n",
    "    b, a = butter_bandpass(lowcut, highcut, fs, order=order)\n",
    "    y = lfilter(b, a, data)\n",
    "    return y"
   ]
  },
  {
   "cell_type": "code",
   "execution_count": 7,
   "id": "43eca263",
   "metadata": {},
   "outputs": [],
   "source": [
    "lfp_filtered = np.zeros(lfp.shape)"
   ]
  },
  {
   "cell_type": "code",
   "execution_count": 11,
   "id": "bdd65d33",
   "metadata": {},
   "outputs": [
    {
     "data": {
      "application/vnd.jupyter.widget-view+json": {
       "model_id": "cdb630abdcde4994863a4f5d4624e7bb",
       "version_major": 2,
       "version_minor": 0
      },
      "text/plain": [
       "  0%|          | 0/253 [00:00<?, ?it/s]"
      ]
     },
     "metadata": {},
     "output_type": "display_data"
    }
   ],
   "source": [
    "for unit_num in tqdm(range(lfp.shape[1])):\n",
    "    lfp_filtered[:, unit_num] = butter_bandpass_filter(lfp[:, unit_num], 0.5, 100, 1/dt)"
   ]
  },
  {
   "cell_type": "code",
   "execution_count": 14,
   "id": "8de01cc2",
   "metadata": {},
   "outputs": [
    {
     "data": {
      "image/png": "[encoded data removed]",
      "text/plain": [
       "<Figure size 432x288 with 1 Axes>"
      ]
     },
     "metadata": {
      "needs_background": "light"
     },
     "output_type": "display_data"
    }
   ],
   "source": [
    "plt.plot(lfp[:, 0])\n",
    "plt.plot(lfp_filtered[:, 0])\n",
    "plt.show()"
   ]
  },
  {
   "cell_type": "markdown",
   "id": "a0df827e",
   "metadata": {},
   "source": [
    "# Compute VAR"
   ]
  },
  {
   "cell_type": "code",
   "execution_count": 16,
   "id": "a693f59e",
   "metadata": {},
   "outputs": [],
   "source": [
    "area = 'vlPFC'\n",
    "window = 10\n",
    "stride = 10"
   ]
  },
  {
   "cell_type": "code",
   "execution_count": 21,
   "id": "72eb2e63",
   "metadata": {},
   "outputs": [
    {
     "data": {
      "application/vnd.jupyter.widget-view+json": {
       "model_id": "bb079aa9e7584afb9322d04ae23eba5f",
       "version_major": 2,
       "version_minor": 0
      },
      "text/plain": [
       "  0%|          | 0/708 [00:00<?, ?it/s]"
      ]
     },
     "metadata": {},
     "output_type": "display_data"
    }
   ],
   "source": [
    "unit_indices = np.where(electrode_info['area'] == area)[0]\n",
    "num_windows = int(np.floor((T-int(window/dt))/int(stride/dt))+1)\n",
    "VAR_results = []\n",
    "for i in tqdm(range(num_windows)):\n",
    "    window_data = lfp_filtered[int(stride/dt)*i:int(stride/dt)*i + int(window/dt), unit_indices]\n",
    "    results_dict = compute_VAR(window_data, unit_indices)\n",
    "    results_dict['start_time'] = i*stride\n",
    "    results_dict['end_time'] = i*stride + window\n",
    "    results_dict['start_ind'] = i*int(stride/dt)\n",
    "    results_dict['end_ind'] = i*int(stride/dt) + int(window/dt)\n",
    "    \n",
    "    VAR_results.append(results_dict)\n",
    "VAR_results = pd.DataFrame(VAR_results)"
   ]
  },
  {
   "cell_type": "code",
   "execution_count": 29,
   "id": "00e24181",
   "metadata": {},
   "outputs": [],
   "source": [
    "result_path = get_result_path(\"/om/user/eisenaj/ChaoticConsciousness/results/propofolPuffTone/VAR\", session, window)\n",
    "VAR_results_2 = load(os.path.join(result_path, 'vlPFC'))"
   ]
  },
  {
   "cell_type": "code",
   "execution_count": 32,
   "id": "751295e1",
   "metadata": {},
   "outputs": [
    {
     "data": {
      "application/vnd.jupyter.widget-view+json": {
       "model_id": "162adfa39679435ea527c898b6c50caa",
       "version_major": 2,
       "version_minor": 0
      },
      "text/plain": [
       "  0%|          | 0/708 [00:00<?, ?it/s]"
      ]
     },
     "metadata": {},
     "output_type": "display_data"
    }
   ],
   "source": [
    "unit_indices = np.where(electrode_info['area'] == area)[0]\n",
    "num_windows = int(np.floor((T-int(window/dt))/int(stride/dt))+1)\n",
    "VAR_results_3 = []\n",
    "for i in tqdm(range(num_windows)):\n",
    "    window_data = butter_bandpass_filter(lfp[int(stride/dt)*i:int(stride/dt)*i + int(window/dt), unit_indices], 0.5, 100, 1/dt)\n",
    "    results_dict = compute_VAR(window_data, unit_indices)\n",
    "    results_dict['start_time'] = i*stride\n",
    "    results_dict['end_time'] = i*stride + window\n",
    "    results_dict['start_ind'] = i*int(stride/dt)\n",
    "    results_dict['end_ind'] = i*int(stride/dt) + int(window/dt)\n",
    "    \n",
    "    VAR_results_3.append(results_dict)\n",
    "VAR_results_3 = pd.DataFrame(VAR_results)"
   ]
  },
  {
   "cell_type": "code",
   "execution_count": 39,
   "id": "9a1d1685",
   "metadata": {},
   "outputs": [
    {
     "data": {
      "application/vnd.jupyter.widget-view+json": {
       "model_id": "4c6bca8bdd9b47179aca3cc0a3ced3e7",
       "version_major": 2,
       "version_minor": 0
      },
      "text/plain": [
       "  0%|          | 0/708 [00:00<?, ?it/s]"
      ]
     },
     "metadata": {},
     "output_type": "display_data"
    },
    {
     "ename": "ValueError",
     "evalue": "Digital filter critical frequencies must be 0 < Wn < fs/2 (fs=1000.0 -> fs/2=500.0)",
     "output_type": "error",
     "traceback": [
      "\u001b[0;31m---------------------------------------------------------------------------\u001b[0m",
      "\u001b[0;31mValueError\u001b[0m                                Traceback (most recent call last)",
      "\u001b[0;32m/tmp/ipykernel_164767/2176986831.py\u001b[0m in \u001b[0;36m<module>\u001b[0;34m\u001b[0m\n\u001b[1;32m      3\u001b[0m \u001b[0mVAR_results_4\u001b[0m \u001b[0;34m=\u001b[0m \u001b[0;34m[\u001b[0m\u001b[0;34m]\u001b[0m\u001b[0;34m\u001b[0m\u001b[0;34m\u001b[0m\u001b[0m\n\u001b[1;32m      4\u001b[0m \u001b[0;32mfor\u001b[0m \u001b[0mi\u001b[0m \u001b[0;32min\u001b[0m \u001b[0mtqdm\u001b[0m\u001b[0;34m(\u001b[0m\u001b[0mrange\u001b[0m\u001b[0;34m(\u001b[0m\u001b[0mnum_windows\u001b[0m\u001b[0;34m)\u001b[0m\u001b[0;34m)\u001b[0m\u001b[0;34m:\u001b[0m\u001b[0;34m\u001b[0m\u001b[0;34m\u001b[0m\u001b[0m\n\u001b[0;32m----> 5\u001b[0;31m     \u001b[0mwindow_data\u001b[0m \u001b[0;34m=\u001b[0m \u001b[0mbutter_bandpass_filter\u001b[0m\u001b[0;34m(\u001b[0m\u001b[0mlfp\u001b[0m\u001b[0;34m[\u001b[0m\u001b[0mint\u001b[0m\u001b[0;34m(\u001b[0m\u001b[0mstride\u001b[0m\u001b[0;34m/\u001b[0m\u001b[0mdt\u001b[0m\u001b[0;34m)\u001b[0m\u001b[0;34m*\u001b[0m\u001b[0mi\u001b[0m\u001b[0;34m:\u001b[0m\u001b[0mint\u001b[0m\u001b[0;34m(\u001b[0m\u001b[0mstride\u001b[0m\u001b[0;34m/\u001b[0m\u001b[0mdt\u001b[0m\u001b[0;34m)\u001b[0m\u001b[0;34m*\u001b[0m\u001b[0mi\u001b[0m \u001b[0;34m+\u001b[0m \u001b[0mint\u001b[0m\u001b[0;34m(\u001b[0m\u001b[0mwindow\u001b[0m\u001b[0;34m/\u001b[0m\u001b[0mdt\u001b[0m\u001b[0;34m)\u001b[0m\u001b[0;34m,\u001b[0m \u001b[0munit_indices\u001b[0m\u001b[0;34m]\u001b[0m\u001b[0;34m,\u001b[0m \u001b[0;36m0\u001b[0m\u001b[0;34m,\u001b[0m \u001b[0;36m250\u001b[0m\u001b[0;34m,\u001b[0m \u001b[0;36m1\u001b[0m\u001b[0;34m/\u001b[0m\u001b[0mdt\u001b[0m\u001b[0;34m)\u001b[0m\u001b[0;34m\u001b[0m\u001b[0;34m\u001b[0m\u001b[0m\n\u001b[0m\u001b[1;32m      6\u001b[0m     \u001b[0mresults_dict\u001b[0m \u001b[0;34m=\u001b[0m \u001b[0mcompute_VAR\u001b[0m\u001b[0;34m(\u001b[0m\u001b[0mwindow_data\u001b[0m\u001b[0;34m,\u001b[0m \u001b[0munit_indices\u001b[0m\u001b[0;34m)\u001b[0m\u001b[0;34m\u001b[0m\u001b[0;34m\u001b[0m\u001b[0m\n\u001b[1;32m      7\u001b[0m     \u001b[0mresults_dict\u001b[0m\u001b[0;34m[\u001b[0m\u001b[0;34m'start_time'\u001b[0m\u001b[0;34m]\u001b[0m \u001b[0;34m=\u001b[0m \u001b[0mi\u001b[0m\u001b[0;34m*\u001b[0m\u001b[0mstride\u001b[0m\u001b[0;34m\u001b[0m\u001b[0;34m\u001b[0m\u001b[0m\n",
      "\u001b[0;32m/tmp/ipykernel_164767/1644807349.py\u001b[0m in \u001b[0;36mbutter_bandpass_filter\u001b[0;34m(data, lowcut, highcut, fs, order)\u001b[0m\n\u001b[1;32m      3\u001b[0m \u001b[0;34m\u001b[0m\u001b[0m\n\u001b[1;32m      4\u001b[0m \u001b[0;32mdef\u001b[0m \u001b[0mbutter_bandpass_filter\u001b[0m\u001b[0;34m(\u001b[0m\u001b[0mdata\u001b[0m\u001b[0;34m,\u001b[0m \u001b[0mlowcut\u001b[0m\u001b[0;34m,\u001b[0m \u001b[0mhighcut\u001b[0m\u001b[0;34m,\u001b[0m \u001b[0mfs\u001b[0m\u001b[0;34m,\u001b[0m \u001b[0morder\u001b[0m\u001b[0;34m=\u001b[0m\u001b[0;36m5\u001b[0m\u001b[0;34m)\u001b[0m\u001b[0;34m:\u001b[0m\u001b[0;34m\u001b[0m\u001b[0;34m\u001b[0m\u001b[0m\n\u001b[0;32m----> 5\u001b[0;31m     \u001b[0mb\u001b[0m\u001b[0;34m,\u001b[0m \u001b[0ma\u001b[0m \u001b[0;34m=\u001b[0m \u001b[0mbutter_bandpass\u001b[0m\u001b[0;34m(\u001b[0m\u001b[0mlowcut\u001b[0m\u001b[0;34m,\u001b[0m \u001b[0mhighcut\u001b[0m\u001b[0;34m,\u001b[0m \u001b[0mfs\u001b[0m\u001b[0;34m,\u001b[0m \u001b[0morder\u001b[0m\u001b[0;34m=\u001b[0m\u001b[0morder\u001b[0m\u001b[0;34m)\u001b[0m\u001b[0;34m\u001b[0m\u001b[0;34m\u001b[0m\u001b[0m\n\u001b[0m\u001b[1;32m      6\u001b[0m     \u001b[0my\u001b[0m \u001b[0;34m=\u001b[0m \u001b[0mlfilter\u001b[0m\u001b[0;34m(\u001b[0m\u001b[0mb\u001b[0m\u001b[0;34m,\u001b[0m \u001b[0ma\u001b[0m\u001b[0;34m,\u001b[0m \u001b[0mdata\u001b[0m\u001b[0;34m)\u001b[0m\u001b[0;34m\u001b[0m\u001b[0;34m\u001b[0m\u001b[0m\n\u001b[1;32m      7\u001b[0m     \u001b[0;32mreturn\u001b[0m \u001b[0my\u001b[0m\u001b[0;34m\u001b[0m\u001b[0;34m\u001b[0m\u001b[0m\n",
      "\u001b[0;32m/tmp/ipykernel_164767/1644807349.py\u001b[0m in \u001b[0;36mbutter_bandpass\u001b[0;34m(lowcut, highcut, fs, order)\u001b[0m\n\u001b[1;32m      1\u001b[0m \u001b[0;32mdef\u001b[0m \u001b[0mbutter_bandpass\u001b[0m\u001b[0;34m(\u001b[0m\u001b[0mlowcut\u001b[0m\u001b[0;34m,\u001b[0m \u001b[0mhighcut\u001b[0m\u001b[0;34m,\u001b[0m \u001b[0mfs\u001b[0m\u001b[0;34m,\u001b[0m \u001b[0morder\u001b[0m\u001b[0;34m=\u001b[0m\u001b[0;36m5\u001b[0m\u001b[0;34m)\u001b[0m\u001b[0;34m:\u001b[0m\u001b[0;34m\u001b[0m\u001b[0;34m\u001b[0m\u001b[0m\n\u001b[0;32m----> 2\u001b[0;31m     \u001b[0;32mreturn\u001b[0m \u001b[0mbutter\u001b[0m\u001b[0;34m(\u001b[0m\u001b[0morder\u001b[0m\u001b[0;34m,\u001b[0m \u001b[0;34m[\u001b[0m\u001b[0mlowcut\u001b[0m\u001b[0;34m,\u001b[0m \u001b[0mhighcut\u001b[0m\u001b[0;34m]\u001b[0m\u001b[0;34m,\u001b[0m \u001b[0mfs\u001b[0m\u001b[0;34m=\u001b[0m\u001b[0mfs\u001b[0m\u001b[0;34m,\u001b[0m \u001b[0mbtype\u001b[0m\u001b[0;34m=\u001b[0m\u001b[0;34m'band'\u001b[0m\u001b[0;34m)\u001b[0m\u001b[0;34m\u001b[0m\u001b[0;34m\u001b[0m\u001b[0m\n\u001b[0m\u001b[1;32m      3\u001b[0m \u001b[0;34m\u001b[0m\u001b[0m\n\u001b[1;32m      4\u001b[0m \u001b[0;32mdef\u001b[0m \u001b[0mbutter_bandpass_filter\u001b[0m\u001b[0;34m(\u001b[0m\u001b[0mdata\u001b[0m\u001b[0;34m,\u001b[0m \u001b[0mlowcut\u001b[0m\u001b[0;34m,\u001b[0m \u001b[0mhighcut\u001b[0m\u001b[0;34m,\u001b[0m \u001b[0mfs\u001b[0m\u001b[0;34m,\u001b[0m \u001b[0morder\u001b[0m\u001b[0;34m=\u001b[0m\u001b[0;36m5\u001b[0m\u001b[0;34m)\u001b[0m\u001b[0;34m:\u001b[0m\u001b[0;34m\u001b[0m\u001b[0;34m\u001b[0m\u001b[0m\n\u001b[1;32m      5\u001b[0m     \u001b[0mb\u001b[0m\u001b[0;34m,\u001b[0m \u001b[0ma\u001b[0m \u001b[0;34m=\u001b[0m \u001b[0mbutter_bandpass\u001b[0m\u001b[0;34m(\u001b[0m\u001b[0mlowcut\u001b[0m\u001b[0;34m,\u001b[0m \u001b[0mhighcut\u001b[0m\u001b[0;34m,\u001b[0m \u001b[0mfs\u001b[0m\u001b[0;34m,\u001b[0m \u001b[0morder\u001b[0m\u001b[0;34m=\u001b[0m\u001b[0morder\u001b[0m\u001b[0;34m)\u001b[0m\u001b[0;34m\u001b[0m\u001b[0;34m\u001b[0m\u001b[0m\n",
      "\u001b[0;32m/om2/user/eisenaj/anaconda/envs/chaotic-consciousness/lib/python3.9/site-packages/scipy/signal/filter_design.py\u001b[0m in \u001b[0;36mbutter\u001b[0;34m(N, Wn, btype, analog, output, fs)\u001b[0m\n\u001b[1;32m   2954\u001b[0m     \u001b[0;34m>>\u001b[0m\u001b[0;34m>\u001b[0m \u001b[0mplt\u001b[0m\u001b[0;34m.\u001b[0m\u001b[0mshow\u001b[0m\u001b[0;34m(\u001b[0m\u001b[0;34m)\u001b[0m\u001b[0;34m\u001b[0m\u001b[0;34m\u001b[0m\u001b[0m\n\u001b[1;32m   2955\u001b[0m     \"\"\"\n\u001b[0;32m-> 2956\u001b[0;31m     return iirfilter(N, Wn, btype=btype, analog=analog,\n\u001b[0m\u001b[1;32m   2957\u001b[0m                      output=output, ftype='butter', fs=fs)\n\u001b[1;32m   2958\u001b[0m \u001b[0;34m\u001b[0m\u001b[0m\n",
      "\u001b[0;32m/om2/user/eisenaj/anaconda/envs/chaotic-consciousness/lib/python3.9/site-packages/scipy/signal/filter_design.py\u001b[0m in \u001b[0;36miirfilter\u001b[0;34m(N, Wn, rp, rs, btype, analog, ftype, output, fs)\u001b[0m\n\u001b[1;32m   2420\u001b[0m         \u001b[0;32mif\u001b[0m \u001b[0mnumpy\u001b[0m\u001b[0;34m.\u001b[0m\u001b[0many\u001b[0m\u001b[0;34m(\u001b[0m\u001b[0mWn\u001b[0m \u001b[0;34m<=\u001b[0m \u001b[0;36m0\u001b[0m\u001b[0;34m)\u001b[0m \u001b[0;32mor\u001b[0m \u001b[0mnumpy\u001b[0m\u001b[0;34m.\u001b[0m\u001b[0many\u001b[0m\u001b[0;34m(\u001b[0m\u001b[0mWn\u001b[0m \u001b[0;34m>=\u001b[0m \u001b[0;36m1\u001b[0m\u001b[0;34m)\u001b[0m\u001b[0;34m:\u001b[0m\u001b[0;34m\u001b[0m\u001b[0;34m\u001b[0m\u001b[0m\n\u001b[1;32m   2421\u001b[0m             \u001b[0;32mif\u001b[0m \u001b[0mfs\u001b[0m \u001b[0;32mis\u001b[0m \u001b[0;32mnot\u001b[0m \u001b[0;32mNone\u001b[0m\u001b[0;34m:\u001b[0m\u001b[0;34m\u001b[0m\u001b[0;34m\u001b[0m\u001b[0m\n\u001b[0;32m-> 2422\u001b[0;31m                 raise ValueError(\"Digital filter critical frequencies \"\n\u001b[0m\u001b[1;32m   2423\u001b[0m                                  \"must be 0 < Wn < fs/2 (fs={} -> fs/2={})\".format(fs, fs/2))\n\u001b[1;32m   2424\u001b[0m             raise ValueError(\"Digital filter critical frequencies \"\n",
      "\u001b[0;31mValueError\u001b[0m: Digital filter critical frequencies must be 0 < Wn < fs/2 (fs=1000.0 -> fs/2=500.0)"
     ]
    }
   ],
   "source": [
    "unit_indices = np.where(electrode_info['area'] == area)[0]\n",
    "num_windows = int(np.floor((T-int(window/dt))/int(stride/dt))+1)\n",
    "VAR_results_4 = []\n",
    "for i in tqdm(range(num_windows)):\n",
    "    window_data = butter_bandpass_filter(lfp[int(stride/dt)*i:int(stride/dt)*i + int(window/dt), unit_indices], 0, 250, 1/dt)\n",
    "    results_dict = compute_VAR(window_data, unit_indices)\n",
    "    results_dict['start_time'] = i*stride\n",
    "    results_dict['end_time'] = i*stride + window\n",
    "    results_dict['start_ind'] = i*int(stride/dt)\n",
    "    results_dict['end_ind'] = i*int(stride/dt) + int(window/dt)\n",
    "    \n",
    "    VAR_results_4.append(results_dict)\n",
    "VAR_results_4 = pd.DataFrame(VAR_results)"
   ]
  },
  {
   "cell_type": "code",
   "execution_count": 33,
   "id": "cc5ab2c9",
   "metadata": {},
   "outputs": [
    {
     "data": {
      "image/png": "[encoded data removed]",
      "text/plain": [
       "<Figure size 432x288 with 1 Axes>"
      ]
     },
     "metadata": {
      "needs_background": "light"
     },
     "output_type": "display_data"
    }
   ],
   "source": [
    "plt.plot(VAR_results.criticality_inds.apply(lambda x: x.mean()), )\n",
    "plt.plot(VAR_results_2.criticality_inds.apply(lambda x: x.mean()))\n",
    "plt.plot(VAR_results_3.criticality_inds.apply(lambda x: x.mean()))\n",
    "plt.show()"
   ]
  },
  {
   "cell_type": "code",
   "execution_count": null,
   "id": "c7f91d8a",
   "metadata": {},
   "outputs": [],
   "source": []
  }
 ],
 "metadata": {
  "kernelspec": {
   "display_name": "Python 3 (ipykernel)",
   "language": "python",
   "name": "python3"
  },
  "language_info": {
   "codemirror_mode": {
    "name": "ipython",
    "version": 3
   },
   "file_extension": ".py",
   "mimetype": "text/x-python",
   "name": "python",
   "nbconvert_exporter": "python",
   "pygments_lexer": "ipython3",
   "version": "3.9.1"
  }
 },
 "nbformat": 4,
 "nbformat_minor": 5
}
