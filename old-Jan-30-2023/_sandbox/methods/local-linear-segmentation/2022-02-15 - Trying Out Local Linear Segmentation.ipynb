{
 "cells": [
  {
   "cell_type": "code",
   "execution_count": 1,
   "id": "ddabe21e",
   "metadata": {},
   "outputs": [],
   "source": [
    "%load_ext autoreload"
   ]
  },
  {
   "cell_type": "code",
   "execution_count": 2,
   "id": "1b1ac697",
   "metadata": {},
   "outputs": [],
   "source": [
    "%autoreload 2\n",
    "from datetime import datetime\n",
    "from kneed import KneeLocator\n",
    "import matplotlib.pyplot as plt\n",
    "from neural_analysis.matIO import loadmat\n",
    "import numpy as np\n",
    "import os\n",
    "import pandas as pd\n",
    "from statsmodels.tsa.api import VAR\n",
    "import sys\n",
    "import time\n",
    "from tqdm.auto import tqdm\n",
    "\n",
    "sys.path.append('/om2/user/eisenaj/code/repos/local-linear-segmentation/segmentation_code')\n",
    "import LLSA as lvar\n",
    "import LLSA_calculations as lvarc\n",
    "\n",
    "sys.path.append('../../..')\n",
    "from utils import get_data_class, load, save"
   ]
  },
  {
   "cell_type": "code",
   "execution_count": 3,
   "id": "9e9b3443",
   "metadata": {},
   "outputs": [],
   "source": [
    "## propofolPuffTone\n",
    "session = 'Mary-Anesthesia-20160809-01'\n",
    "# session = 'MrJones-Anesthesia-20160105-01'\n",
    "# session = 'MrJones-Anesthesia-20160113-01'\n",
    "# session = 'Mary-Anesthesia-20160818-02'\n",
    "# session = 'MrJones-Anesthesia-20160121-01'\n",
    "\n",
    "## propofolWakeup\n",
    "# session = 'Mary-Anesthesia-20170203-02'\n",
    "\n",
    "## ketamine\n",
    "# session = 'Mary-Anesthesia-20170315-01'\n",
    "# session = 'MrJones-Anesthesia-20160805-01'\n",
    "# session = 'MrJones-Anesthesia-20160808-01'\n",
    "# session = 'Mary-Anesthesia-20170315-01'"
   ]
  },
  {
   "cell_type": "markdown",
   "id": "46091d60",
   "metadata": {},
   "source": [
    "## Load Neural Data"
   ]
  },
  {
   "cell_type": "code",
   "execution_count": 4,
   "id": "b7380542",
   "metadata": {},
   "outputs": [],
   "source": [
    "all_data_dir = f\"/om/user/eisenaj/datasets/anesthesia/mat\"\n",
    "data_class = get_data_class(session, all_data_dir)"
   ]
  },
  {
   "cell_type": "code",
   "execution_count": 5,
   "id": "3cc3760f",
   "metadata": {},
   "outputs": [
    {
     "name": "stdout",
     "output_type": "stream",
     "text": [
      "Loading data ...\n",
      "Data loaded (took 151.50 seconds)\n"
     ]
    }
   ],
   "source": [
    "filename = os.path.join(all_data_dir, data_class, f'{session}.mat')\n",
    "print(\"Loading data ...\")\n",
    "start = time.process_time()\n",
    "electrode_info, lfp, lfp_schema, session_info, spike_times, trial_info, unit_info = loadmat(filename, variables=['electrodeInfo', 'lfp', 'lfpSchema', 'sessionInfo', 'spikeTimes', 'trialInfo', 'unitInfo'], verbose=False)\n",
    "spike_times = spike_times[0]\n",
    "dt = lfp_schema['smpInterval'][0]\n",
    "# T = lfp.shape[0]\n",
    "\n",
    "print(f\"Data loaded (took {time.process_time() - start:.2f} seconds)\")"
   ]
  },
  {
   "cell_type": "markdown",
   "id": "e9744a04",
   "metadata": {},
   "source": [
    "# Try and Find the Minimum Window Size"
   ]
  },
  {
   "cell_type": "code",
   "execution_count": 6,
   "id": "6e1b007b",
   "metadata": {},
   "outputs": [],
   "source": [
    "area = 'vlPFC'\n",
    "if area == 'all':\n",
    "    unit_indices = np.arange(lfp.shape[1])\n",
    "else:\n",
    "    unit_indices = np.where(electrode_info['area'] == area)[0]"
   ]
  },
  {
   "cell_type": "code",
   "execution_count": 7,
   "id": "4e77c2b3",
   "metadata": {},
   "outputs": [
    {
     "data": {
      "application/vnd.jupyter.widget-view+json": {
       "model_id": "dc176ed39cfc45209acdd2c3d4d98899",
       "version_major": 2,
       "version_minor": 0
      },
      "text/plain": [
       "  0%|          | 0/1800 [00:00<?, ?it/s]"
      ]
     },
     "metadata": {},
     "output_type": "display_data"
    }
   ],
   "source": [
    "# minimum_window_options = [0.5, 0.75, 1]\n",
    "n_test_windows = 100\n",
    "\n",
    "minimum_window_options = np.arange(0.5, 2, 0.1)\n",
    "minimum_window_options = np.arange(0.1, 1, 0.05)\n",
    "# n_test_windows = 1200\n",
    "\n",
    "conds_w = np.zeros((len(minimum_window_options), n_test_windows))\n",
    "conds_cov_w = np.zeros(conds_w.shape)\n",
    "\n",
    "iterator = tqdm(total=np.prod(conds_w.shape))\n",
    "for i, window_seconds in enumerate(minimum_window_options):\n",
    "    window = int(window_seconds/dt)\n",
    "    for j in range(n_test_windows):\n",
    "        start_t = np.random.randint(0, lfp.shape[0] - window)\n",
    "        window_data = lfp[start_t:start_t + window, unit_indices]\n",
    "        conds_w[i, j] = np.linalg.cond(np.cov(window_data.T))\n",
    "        \n",
    "#         # statsmodels.tsa.api\n",
    "#         model = VAR(window_data)\n",
    "#         VAR_results = model.fit(1)\n",
    "#         inter, coef, cov = VAR_results.intercept, VAR_results.coefs[0], VAR_results.sigma_u\n",
    "        \n",
    "        # cython implementation\n",
    "        theta,eps=lvarc.get_theta(window_data,1)\n",
    "        inter,coef,cov=lvarc.decomposed_theta(theta)\n",
    "        coef = coef.T\n",
    "        \n",
    "        conds_cov_w[i, j] = np.linalg.cond(cov)\n",
    "        \n",
    "        iterator.update()\n",
    "iterator.close()"
   ]
  },
  {
   "cell_type": "code",
   "execution_count": 8,
   "id": "6b38d797",
   "metadata": {},
   "outputs": [],
   "source": [
    "def bootstrap(l,n_times,n_samples=1000,confidence_interval=95):\n",
    "    if n_samples>len(l):\n",
    "        n_samples=len(l)*2\n",
    "    per=(100-confidence_interval)/2\n",
    "    new_means=[]\n",
    "    for i in range(n_times):\n",
    "        indices=np.random.choice(range(0,len(l)),n_samples)#len(l))\n",
    "        new_list=[l[idx] for idx in indices]\n",
    "        new_means.append(np.median(new_list,axis=0))\n",
    "    new_means=np.vstack(new_means)\n",
    "    cil=np.zeros(new_means.shape[1])\n",
    "    ciu=np.zeros(new_means.shape[1])\n",
    "    for i in range(new_means.shape[1]):\n",
    "        cil[i]=np.percentile(new_means[:,i],per)\n",
    "        ciu[i]=np.percentile(new_means[:,i],100-per)\n",
    "    return np.median(l,axis=0),cil,ciu"
   ]
  },
  {
   "cell_type": "code",
   "execution_count": 9,
   "id": "dafd9723",
   "metadata": {},
   "outputs": [
    {
     "data": {
      "application/vnd.jupyter.widget-view+json": {
       "model_id": "0d36cc8ed9da4ba0af2b65be3c8d4a78",
       "version_major": 2,
       "version_minor": 0
      },
      "text/plain": [
       "  0%|          | 0/18 [00:00<?, ?it/s]"
      ]
     },
     "metadata": {},
     "output_type": "display_data"
    }
   ],
   "source": [
    "median_w=[]\n",
    "median_cil_w=[]\n",
    "median_ciu_w=[]\n",
    "median_cov_w=[]\n",
    "median_cil_cov_w=[]\n",
    "median_ciu_cov_w=[]\n",
    "for k in tqdm(range(len(conds_w))):\n",
    "    median,cil,ciu=bootstrap(conds_w[k], n_test_windows)\n",
    "    median_w.append(median)\n",
    "    median_cil_w.append(cil)\n",
    "    median_ciu_w.append(ciu)\n",
    "    median,cil,ciu=bootstrap(conds_cov_w[k], n_test_windows)\n",
    "    median_cov_w.append(median)\n",
    "    median_cil_cov_w.append(cil)\n",
    "    median_ciu_cov_w.append(ciu)"
   ]
  },
  {
   "cell_type": "code",
   "execution_count": 10,
   "id": "20855876",
   "metadata": {},
   "outputs": [
    {
     "data": {
      "image/png": "[encoded data removed]",
      "text/plain": [
       "<Figure size 432x288 with 1 Axes>"
      ]
     },
     "metadata": {
      "needs_background": "light"
     },
     "output_type": "display_data"
    }
   ],
   "source": [
    "plt.plot(minimum_window_options,np.hstack(median_cov_w),marker='o',label='$k(\\eta^T\\eta)$')\n",
    "plt.fill_between(minimum_window_options,np.hstack(median_cil_cov_w),np.hstack(median_ciu_cov_w),alpha=.7)\n",
    "plt.plot(minimum_window_options,np.hstack(median_w),marker='o',label='$k(X^TX)$')\n",
    "plt.fill_between(minimum_window_options,np.hstack(median_cil_w),np.hstack(median_ciu_w),alpha=.7)\n",
    "# kneedle = KneeLocator(minimum_window_options, median_cov_w, S=2, curve='convex', direction='decreasing')\n",
    "# plt.scatter(kneedle.elbow, kneedle.elbow_y, c='red', marker='o', label='elbow', s=150)\n",
    "kneedle = KneeLocator(minimum_window_options, np.log10(median_cov_w), S=2, curve='convex', direction='decreasing')\n",
    "plt.scatter(kneedle.elbow, np.power(10, kneedle.elbow_y), c='red', marker='o', label='elbow', s=150)\n",
    "plt.ylabel('Condition number',fontsize=15)\n",
    "plt.xlabel('Minimum window Size (s)',fontsize=15)\n",
    "plt.yscale('log')\n",
    "plt.xticks(fontsize=12)\n",
    "plt.yticks(fontsize=12)\n",
    "# plt.xlim(guess_dims,20)\n",
    "plt.legend(fontsize=15)\n",
    "plt.show()"
   ]
  },
  {
   "cell_type": "code",
   "execution_count": 11,
   "id": "e1744056",
   "metadata": {},
   "outputs": [
    {
     "name": "stdout",
     "output_type": "stream",
     "text": [
      "window_options = [0.25, 0.312, 0.391, 0.488, 0.61, 0.763, 0.954, 1.192, 1.49, 1.863, 2.328, 2.91, 3.638, 4.547]\n"
     ]
    }
   ],
   "source": [
    "# the value of w0 should be guided by the previous plot\n",
    "# stop when you get to more than 10 times as big as w0\n",
    "w0=0.25\n",
    "step_fraction=.25\n",
    "i=w0\n",
    "window_options=[]\n",
    "while i < np.inf:\n",
    "    window_options.append(i)\n",
    "    step=i*step_fraction\n",
    "    if int(i*step_fraction)>w0:\n",
    "        break\n",
    "    i+=step\n",
    "print(f\"window_options = {[float(f'{w:.3f}') for w in window_options]}\")"
   ]
  },
  {
   "cell_type": "markdown",
   "id": "968f2699",
   "metadata": {},
   "source": [
    "# Adaptive segmentation"
   ]
  },
  {
   "cell_type": "markdown",
   "id": "21a14e2b",
   "metadata": {},
   "source": [
    "As discussed in the SegmentingHO.ipynb notebook, there are plenty of places along our pipeline where we can get a significant speed up by parallelizing the calculations. In this toy example, we haven't explicitly done any parallel calculation, as the nature of the parallelization will be specific to the data and the purpose of the analysis. A few examples of parallelizable parts include:\n",
    "\n",
    "1) Likelihood ratio distribution: we need to do the exact same calculation N times\n",
    "\n",
    "2) Parallelize over different time series, or pre-split the time series into chunks and parallelize over them\n",
    "\n",
    "3) In the calculation of the distance matrix we can both parallelize one of the loops and also only compute the upper triangular or lower triangular matrix since, by construction, the matrix will be symmetric"
   ]
  },
  {
   "cell_type": "code",
   "execution_count": null,
   "id": "ce833806",
   "metadata": {},
   "outputs": [],
   "source": [
    "N=20\n",
    "per=97.5\n",
    "cond_thresh = np.power(10, np.ceil(kneedle.elbow_y))\n",
    "sample_tseries=lfp[:45*60*1000, ]\n",
    "window_options_ms = [int(w/dt) for w in window_options]\n",
    "#apply segmentation algorithm\n",
    "breaks_segments=lvar.change_point(window_options_ms,N,per,np.ma.array(sample_tseries),20,cond_thresh=cond_thresh, verbose=True) \n",
    "#cond_thresh is chosen in accordance to the condition number plot"
   ]
  },
  {
   "cell_type": "code",
   "execution_count": null,
   "id": "38118ede",
   "metadata": {},
   "outputs": [],
   "source": [
    "save(break_segments, '/om/user/eisenaj/break_segments')"
   ]
  },
  {
   "cell_type": "code",
   "execution_count": null,
   "id": "04102e40",
   "metadata": {},
   "outputs": [],
   "source": [
    "N"
   ]
  },
  {
   "cell_type": "code",
   "execution_count": null,
   "id": "e4d95a04",
   "metadata": {},
   "outputs": [],
   "source": [
    "windows_segment,segments=breaks_segments\n",
    "#compute thetas in the obtained windows_segment\n",
    "thetas_final=[]\n",
    "for idx,seg in enumerate(segments):\n",
    "    segment_windows=np.copy(windows_segment[idx])\n",
    "    segments_windows=list(segment_windows)\n",
    "    thetas=[]\n",
    "    for seg_w in segment_windows:\n",
    "        i_0,i_f=seg_w\n",
    "        window_bw=sample_tseries[i_0:i_f]\n",
    "        theta,eps=lvarc.get_theta(window_bw,1)\n",
    "        thetas.append(np.vstack(theta))\n",
    "    thetas_final.append(thetas)\n",
    "thetas_final=np.concatenate(thetas_final)\n",
    "windows_final=np.concatenate(windows_segment)"
   ]
  },
  {
   "cell_type": "code",
   "execution_count": null,
   "id": "f12d53ee",
   "metadata": {},
   "outputs": [],
   "source": [
    "windows_final"
   ]
  },
  {
   "cell_type": "code",
   "execution_count": null,
   "id": "5aa45f93",
   "metadata": {},
   "outputs": [],
   "source": [
    "criticality_indices = np.zeros((len(windows_final), lfp.shape[1]))\n",
    "for i, theta in enumerate(thetas_final):\n",
    "    c,A,cov=lvarc.decomposed_theta(theta)\n",
    "    A = A.T\n",
    "    e = np.linalg.eigvals(A)\n",
    "    criticality_indices[i] = np.abs(e)\n",
    "#     coef=(A-np.identity(theta.shape[1]))*frameRate\n",
    "#     all_eigs.append(np.linalg.eigvals(coef))"
   ]
  },
  {
   "cell_type": "code",
   "execution_count": null,
   "id": "d39b61e4",
   "metadata": {},
   "outputs": [],
   "source": [
    "window_locs = [w.mean()*dt for w in windows_final]\n",
    "plt.plot(window_locs, criticality_indices.mean(axis=1))\n",
    "plt.xlabel('Time (s)')\n",
    "plt.show()"
   ]
  },
  {
   "cell_type": "markdown",
   "id": "9570974f",
   "metadata": {},
   "source": [
    "# Try Again"
   ]
  },
  {
   "cell_type": "code",
   "execution_count": 51,
   "id": "6e75c6a4",
   "metadata": {},
   "outputs": [
    {
     "name": "stdout",
     "output_type": "stream",
     "text": [
      "Now segmenting the time series...\n"
     ]
    },
    {
     "data": {
      "application/vnd.jupyter.widget-view+json": {
       "model_id": "ecd54fdf0d544fcbb32e873b1f0e8571",
       "version_major": 2,
       "version_minor": 0
      },
      "text/plain": [
       "  0%|          | 0/24750 [00:00<?, ?it/s]"
      ]
     },
     "metadata": {},
     "output_type": "display_data"
    },
    {
     "name": "stdout",
     "output_type": "stream",
     "text": [
      "Removing artificial breaks...\n"
     ]
    }
   ],
   "source": [
    "N = 50\n",
    "breaks_segments2=lvar.change_point(window_options_ms,N,per,np.ma.array(sample_tseries),20,cond_thresh=cond_thresh, verbose=True) "
   ]
  },
  {
   "cell_type": "code",
   "execution_count": 55,
   "id": "b4f6d739",
   "metadata": {},
   "outputs": [],
   "source": [
    "windows_segment,segments=breaks_segments2\n",
    "#compute thetas in the obtained windows_segment\n",
    "thetas_final=[]\n",
    "for idx,seg in enumerate(segments):\n",
    "    segment_windows=np.copy(windows_segment[idx])\n",
    "    segments_windows=list(segment_windows)\n",
    "    thetas=[]\n",
    "    for seg_w in segment_windows:\n",
    "        i_0,i_f=seg_w\n",
    "        window_bw=sample_tseries[i_0:i_f]\n",
    "        theta,eps=lvarc.get_theta(window_bw,1)\n",
    "        thetas.append(np.vstack(theta))\n",
    "    thetas_final.append(thetas)\n",
    "thetas_final=np.concatenate(thetas_final)\n",
    "windows_final=np.concatenate(windows_segment)"
   ]
  },
  {
   "cell_type": "code",
   "execution_count": 56,
   "id": "cd841b3e",
   "metadata": {},
   "outputs": [
    {
     "data": {
      "text/plain": [
       "array([[    0,  5278],\n",
       "       [ 5278, 19529],\n",
       "       [19529, 25000]])"
      ]
     },
     "execution_count": 56,
     "metadata": {},
     "output_type": "execute_result"
    }
   ],
   "source": [
    "windows_final"
   ]
  },
  {
   "cell_type": "code",
   "execution_count": null,
   "id": "30dc5680",
   "metadata": {},
   "outputs": [],
   "source": []
  }
 ],
 "metadata": {
  "kernelspec": {
   "display_name": "Python 3 (ipykernel)",
   "language": "python",
   "name": "python3"
  },
  "language_info": {
   "codemirror_mode": {
    "name": "ipython",
    "version": 3
   },
   "file_extension": ".py",
   "mimetype": "text/x-python",
   "name": "python",
   "nbconvert_exporter": "python",
   "pygments_lexer": "ipython3",
   "version": "3.9.1"
  }
 },
 "nbformat": 4,
 "nbformat_minor": 5
}
