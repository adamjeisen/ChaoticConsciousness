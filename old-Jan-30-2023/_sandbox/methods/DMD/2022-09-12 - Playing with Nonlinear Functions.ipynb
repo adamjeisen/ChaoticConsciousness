{
 "cells": [
  {
   "cell_type": "code",
   "execution_count": 1,
   "id": "80b6caf0",
   "metadata": {},
   "outputs": [],
   "source": [
    "%load_ext autoreload"
   ]
  },
  {
   "cell_type": "code",
   "execution_count": 99,
   "id": "0cc96a6e",
   "metadata": {},
   "outputs": [],
   "source": [
    "%autoreload 2\n",
    "import cmath\n",
    "from datetime import datetime\n",
    "from kneed import KneeLocator\n",
    "from matplotlib import colors\n",
    "import matplotlib.pyplot as plt\n",
    "from mpl_toolkits.axes_grid1 import make_axes_locatable\n",
    "from neural_analysis.matIO import loadmat\n",
    "from neural_analysis import spectra\n",
    "from nolitsa import delay\n",
    "import numpy as np\n",
    "import os\n",
    "import pandas as pd\n",
    "import re\n",
    "import scipy\n",
    "from sdeint import itoint\n",
    "from scipy.integrate import odeint\n",
    "from scipy.signal import butter, lfilter\n",
    "from sklearn.cluster import DBSCAN\n",
    "from sklearn.decomposition import PCA\n",
    "from sklearn.metrics import r2_score\n",
    "from sklearn.preprocessing import PolynomialFeatures\n",
    "from statsmodels.stats.diagnostic import acorr_ljungbox, het_arch\n",
    "from statsmodels.tsa.api import AutoReg, VAR\n",
    "import sys\n",
    "import time\n",
    "from tqdm.auto import tqdm\n",
    "import traceback as tb\n",
    "\n",
    "plt.style.use('../../sci_style.py')\n",
    "\n",
    "sys.path.append('../../..')\n",
    "from iaaft import surrogates\n",
    "from dynamical_systems_models import construct_dictionary, embed_signal, perform_stability_analysis, get_stability_results, compute_EDMD, predict_EDMD, compute_VAR_p, compute_VAR_p_over_lamb, predict_VAR_p\n",
    "from nld_utils import calculate_fnn_stat, get_nn_indices\n",
    "from plot import plot_individual_areas, plot_multipopulation\n",
    "from up_down import get_up_down\n",
    "from utils import compute_summary_statistics, get_data_class, get_result_path, load, load_session_data, run_window_selection, save"
   ]
  },
  {
   "cell_type": "markdown",
   "id": "7ce1729b",
   "metadata": {},
   "source": [
    "# Load Chaotic Data"
   ]
  },
  {
   "cell_type": "code",
   "execution_count": 3,
   "id": "32c70280",
   "metadata": {},
   "outputs": [],
   "source": [
    "# data_dir = '/om/user/eisenaj/ChaoticConsciousness/data/chaotic_net/N_1000_dt_0.001_tausim_10_totaltime_2500_Sep-08-2022_1158/'"
   ]
  },
  {
   "cell_type": "code",
   "execution_count": 4,
   "id": "7d505a9a",
   "metadata": {},
   "outputs": [],
   "source": [
    "# g = 1.700\n",
    "# filepath = os.path.join(data_dir, f\"g_{g:.3f}\")\n",
    "# signal_info = pd.read_pickle(filepath)"
   ]
  },
  {
   "cell_type": "markdown",
   "id": "0b5436d2",
   "metadata": {},
   "source": [
    "# Load VDP Data"
   ]
  },
  {
   "cell_type": "code",
   "execution_count": 6,
   "id": "f1501066",
   "metadata": {},
   "outputs": [],
   "source": [
    "vdp_data = pd.read_pickle('__data__/vdp_full_data.pkl')"
   ]
  },
  {
   "cell_type": "code",
   "execution_count": 11,
   "id": "357b21bb",
   "metadata": {},
   "outputs": [
    {
     "data": {
      "text/plain": [
       "dict_keys(['mu = 0.001', 'mu = 0.01', 'mu = 0.1', 'mu = 0.2', 'mu = 0.5', 'mu = 0.75', 'mu = 1.0', 'mu = 1.25', 'mu = 2.0', 'mu = 3.0', 'mu = 4.0', 'mu = 5.0'])"
      ]
     },
     "execution_count": 11,
     "metadata": {},
     "output_type": "execute_result"
    }
   ],
   "source": [
    "vdp_data['signals'].keys()"
   ]
  },
  {
   "cell_type": "markdown",
   "id": "01c263de",
   "metadata": {},
   "source": [
    "# Load Neural Data "
   ]
  },
  {
   "cell_type": "code",
   "execution_count": 7,
   "id": "a8925e3f",
   "metadata": {},
   "outputs": [],
   "source": [
    "# session = 'Mary-Anesthesia-20160912-02'\n",
    "\n",
    "# all_data_dir = '/om/user/eisenaj/datasets/anesthesia/mat'\n",
    "# data_class = get_data_class(session, all_data_dir)\n",
    "\n",
    "# variables = ['electrodeInfo', 'lfp', 'lfpSchema', 'sessionInfo', 'spikeTimes', 'unitInfo']\n",
    "# session_vars, T, N, dt = load_session_data(session, all_data_dir, variables, data_class=data_class, verbose=False)\n",
    "# electrode_info, lfp, lfp_schema, session_info, spike_times, unit_info = session_vars['electrodeInfo'], session_vars['lfp'], session_vars['lfpSchema'], session_vars['sessionInfo'], session_vars['spikeTimes'], session_vars['unitInfo']\n",
    "\n",
    "# spike_times = spike_times[0]\n",
    "# dt_orig = dt"
   ]
  },
  {
   "cell_type": "markdown",
   "id": "072ae23d",
   "metadata": {},
   "source": [
    "### Delayed MI"
   ]
  },
  {
   "cell_type": "code",
   "execution_count": 10,
   "id": "8a4a8187",
   "metadata": {},
   "outputs": [],
   "source": [
    "# delayed_mi = pd.read_pickle('__data__/delayed_mi_wake.pkl')"
   ]
  },
  {
   "cell_type": "code",
   "execution_count": 11,
   "id": "c7b2e08c",
   "metadata": {},
   "outputs": [],
   "source": [
    "def pick_tau(signal, method='knee'):\n",
    "    if method == 'local_min':\n",
    "        local_min_inds = scipy.signal.argrelextrema(signal, np.less)[0]\n",
    "        if len(local_min_inds) == 0:\n",
    "            tau = signal.argmin()\n",
    "        else:\n",
    "            tau = local_min_inds[0]\n",
    "    else: # method == 'knee'\n",
    "        kneedle = KneeLocator(np.arange(len(signal)), signal, S=1, curve='convex', direction='decreasing')\n",
    "    \n",
    "    return kneedle.knee"
   ]
  },
  {
   "cell_type": "code",
   "execution_count": 16,
   "id": "2c53bce4",
   "metadata": {},
   "outputs": [],
   "source": [
    "# # dim = 23\n",
    "# # tau = pick_tau(delayed_mi[:, dim])\n",
    "# # plt.plot(delayed_mi[:, dim])\n",
    "# # plt.scatter(tau, delayed_mi[tau, dim], c='red')\n",
    "# # plt.xlabel('Lag')\n",
    "# # plt.ylabel('Delayed MI')\n",
    "# # plt.title(f'Delayed MI Dimension {dim}')\n",
    "# # plt.text(tau + 2, delayed_mi[tau, dim] + 0.5, fr\"$\\tau$ = {tau}\")\n",
    "# # plt.show()\n",
    "\n",
    "# mean_delayed_mi = delayed_mi.mean(axis=1)\n",
    "# tau = pick_tau(mean_delayed_mi)\n",
    "\n",
    "# plt.plot(mean_delayed_mi)\n",
    "# plt.scatter(tau, mean_delayed_mi[tau], c='red')\n",
    "# plt.xlabel('Lag')\n",
    "# plt.ylabel('Delayed MI')\n",
    "# plt.title('Mean Delayed MI Across Lags')\n",
    "# plt.text(tau + 2, mean_delayed_mi[tau] + 0.5, fr\"$\\tau$ = {tau}\")\n",
    "# plt.show()"
   ]
  },
  {
   "cell_type": "code",
   "execution_count": 17,
   "id": "17a40ab4",
   "metadata": {},
   "outputs": [],
   "source": [
    "# taus = []\n",
    "# for j in range(delayed_mi.shape[1]):\n",
    "#     taus.append(pick_tau(delayed_mi[:, j]))\n",
    "\n",
    "# plt.hist(taus)\n",
    "# plt.xlabel(r'$\\tau$ Value')\n",
    "# plt.ylabel('Count')\n",
    "# plt.title(r'Histogram of Picked $\\tau$ Values Across all Channels')\n",
    "# plt.show()"
   ]
  },
  {
   "cell_type": "code",
   "execution_count": 14,
   "id": "44c67952",
   "metadata": {},
   "outputs": [],
   "source": [
    "# lfp_subsampled = lfp[np.arange(0, lfp.shape[0], tau)]"
   ]
  },
  {
   "cell_type": "code",
   "execution_count": 15,
   "id": "40cda35f",
   "metadata": {},
   "outputs": [],
   "source": [
    "# dt = dt_orig*tau"
   ]
  },
  {
   "cell_type": "markdown",
   "id": "f8203230",
   "metadata": {},
   "source": [
    "# Class"
   ]
  },
  {
   "cell_type": "code",
   "execution_count": 34,
   "id": "96c00c27",
   "metadata": {},
   "outputs": [],
   "source": [
    "class KoopmanModels:\n",
    "    def __init__(self, signal, p=None, svd=True, verbose=False):\n",
    "        self.signal = signal\n",
    "        self.window = signal.shape[0]\n",
    "        self.n = signal.shape[1]\n",
    "        self.p = p\n",
    "        \n",
    "        if p is not None:\n",
    "            self.compute_hankel(verbose=verbose)\n",
    "            if svd:\n",
    "                self.compute_svd(verbose=verbose)\n",
    "            else:\n",
    "                self.U = None\n",
    "                self.S = None\n",
    "                self.V = None\n",
    "                self.S_mat = None\n",
    "                self.S_mat_inv = None\n",
    "                self.knee = None\n",
    "        else:\n",
    "            self.H = None\n",
    "        \n",
    "        self.A_var_p = None\n",
    "        self.H_var_p = None\n",
    "        self.eigvals_var_p = None\n",
    "        \n",
    "        self.r = None\n",
    "        self.A_havok_dmd = None\n",
    "        self.V_havok_dmd = None\n",
    "        self.H_havok_dmd = None\n",
    "        self.eigvals_havok_dmd = None\n",
    "        \n",
    "#         self.A_havok_forcing = None\n",
    "#         self.B_havok_forcing = None\n",
    "#         self.V_havok_forcing = None\n",
    "#         self.H_havok_forcing = None\n",
    "        \n",
    "    def compute_hankel(self, p=None, verbose=False):\n",
    "        if verbose:\n",
    "            print(\"Computing Hankel matrix ...\")\n",
    "        if p is None and self.p is None:\n",
    "            raise ValueError(\"Embedding dim p has not been provided.\")\n",
    "        elif p is not None:\n",
    "            self.p = p\n",
    "        else: # p is None and self.p is not None\n",
    "            p = self.p\n",
    "            \n",
    "        H = embed_signal(self.signal, p, 1, direction='reverse')\n",
    "        self.H = H\n",
    "        \n",
    "        if verbose:\n",
    "            print(\"Hankel matrix computed!\")\n",
    "        \n",
    "    def compute_svd(self, verbose=False):\n",
    "        if verbose:\n",
    "            print(\"Computing SVD on Hankel matrix ...\")\n",
    "        U, S, Vh = np.linalg.svd(self.H.T, full_matrices=False)\n",
    "        V = Vh.T\n",
    "        self.U = U\n",
    "        self.S = S\n",
    "        self.V = V\n",
    "\n",
    "        S_mat = np.zeros(U.shape)\n",
    "        S_mat[np.arange(len(S)), np.arange(len(S))] = S\n",
    "        self.S_mat = S_mat\n",
    "        \n",
    "        S_mat_inv = np.zeros(U.shape)\n",
    "        S_mat_inv[np.arange(len(S)), np.arange(len(S))] = 1/S\n",
    "        self.S_mat_inv = S_mat_inv\n",
    "        \n",
    "        self.knee = KneeLocator(np.arange(len(S)), S, S=40, curve='convex', direction='decreasing').knee\n",
    "        \n",
    "        if verbose:\n",
    "            print(\"SVD complete!\")\n",
    "    \n",
    "    def compute_var_p(self, verbose=False):\n",
    "        if verbose:\n",
    "            print(\"Computing least squares fit to VAR(p) ...\")\n",
    "        coefs = np.linalg.lstsq(self.H[:-1], self.H[1:, :self.n], rcond=1e-14)[0].T\n",
    "        if verbose:\n",
    "            print(\"Least squares complete!\")\n",
    "            print(\"Constructing transition matrix and train predictions ...\")\n",
    "        A_mat = np.zeros((self.H.shape[1], self.H.shape[1]))\n",
    "        for i in range(self.p):\n",
    "            A_mat[:self.n, :][:, i*self.n:(i + 1)*self.n] = coefs[:, i*self.n:(i + 1)*self.n]\n",
    "            if i < self.p - 1:\n",
    "                A_mat[(i + 1)*self.n:(i + 2)*self.n, :][:, i*self.n:(i + 1)*self.n] = np.eye(self.n)\n",
    "        self.A_var_p = A_mat\n",
    "        H_var_p = (A_mat @ self.H[:-1].T).T\n",
    "        self.H_var_p = np.vstack([self.H[[0]], H_var_p])\n",
    "        if verbose:\n",
    "            print(\"Train predictions complete!\")\n",
    "            print(\"Computing eigenvalues ...\")\n",
    "        \n",
    "        self.eigvals_var_p = np.linalg.eigvals(A_mat)\n",
    "    \n",
    "        if verbose:\n",
    "            print(\"Eigenvalues computed!\")\n",
    "            \n",
    "    def compute_havok_dmd(self, r=None, forcing=False, s=1, verbose=False):\n",
    "        if verbose:\n",
    "            print(\"Computing least squares fit to HAVOK DMD ...\")\n",
    "        if r is None:\n",
    "            r = self.knee*2\n",
    "        self.r = r\n",
    "        \n",
    "        A = np.linalg.lstsq(self.V[:-1, :r], self.V[1:, :r], rcond=1e-14)[0].T\n",
    "        self.A_havok_dmd = A\n",
    "        if verbose:\n",
    "            print(\"Least squares complete!\")\n",
    "            print(\"Computing train predictions ...\")\n",
    "        \n",
    "        V_havok_dmd = (A @ self.V[:-1, :r].T).T\n",
    "        V_havok_dmd = np.vstack([self.V[[0], :r], V_havok_dmd])\n",
    "        self.V_havok_dmd = V_havok_dmd\n",
    "        H_havok_dmd = (self.U @ self.S_mat[:, :r] @ V_havok_dmd.T).T\n",
    "        self.H_havok_dmd = H_havok_dmd\n",
    "        \n",
    "        if verbose:\n",
    "            print(\"Train predictions complete!\")\n",
    "            print(\"Computing eigenvalues ...\")\n",
    "        \n",
    "        self.eigvals_havok_dmd = np.linalg.eigvals(A)\n",
    "    \n",
    "        if verbose:\n",
    "            print(\"Eigenvalues computed!\")\n",
    "            \n",
    "        if forcing:            \n",
    "            B = A[:r-s, r-s:r]\n",
    "            A = A[:r-s, :r-s]\n",
    "            self.A_havok_forcing = A\n",
    "            self.B_havok_forcing = B\n",
    "            \n",
    "#             # not chained\n",
    "#             V_havok_forcing = (A @ self.V[:-1, :r-s].T).T + (B @ self.V[:-1, r-s:r].T).T\n",
    "#             V_havok_forcing = np.vstack([self.V[[0], :r-s], V_havok_forcing])\n",
    "#             self.V_havok_forcing = V_havok_forcing \n",
    "            \n",
    "            # chained\n",
    "            V_havok_forcing = np.zeros(koopman.V[:, :r-s].shape)\n",
    "            V_havok_forcing[0] = koopman.V[0, :r-s]\n",
    "            for t in range(1, koopman.V.shape[0]):\n",
    "                V_havok_forcing[t] = A @ V_havok_forcing[t-1] + B @ koopman.V[t-1, r-s:r].T\n",
    "            self.V_havok_forcing = V_havok_forcing\n",
    "                \n",
    "            self.H_havok_forcing = (self.U @ self.S_mat[:, :r-s] @ V_havok_forcing.T).T\n",
    "            \n",
    "            self.eigvals_havok_forcing = np.linalg.eigvals(A)\n",
    "            \n",
    "    def predict_var_p(self, test_signal, tail_bite=False):\n",
    "        H_test = embed_signal(test_signal, self.p, 1, direction='reverse') \n",
    "        \n",
    "        if tail_bite:\n",
    "            pass\n",
    "        else:\n",
    "            H_test_var_p = (self.A_var_p @ H_test[:-1].T).T\n",
    "            H_test_var_p = np.vstack([H_test[[0]], H_test_var_p])\n",
    "        \n",
    "        return H_test_var_p, H_test\n",
    "\n",
    "    def predict_havok_dmd(self, test_signal, tail_bite=False):\n",
    "        H_test = embed_signal(test_signal, self.p, 1, direction='reverse')\n",
    "        V_test = (self.S_mat_inv[:self.r] @ self.U.T @ H_test.T).T\n",
    "        \n",
    "        if tail_bite:\n",
    "            pass\n",
    "        else:\n",
    "            V_test_havok_dmd = (self.A_havok_dmd @ V_test[:-1].T).T\n",
    "            V_test_havok_dmd = np.vstack([V_test[[0], :self.r], V_test_havok_dmd])\n",
    "            H_test_havok_dmd = (self.U @ self.S_mat[:, :self.r] @ V_test_havok_dmd.T).T\n",
    "        \n",
    "        return H_test_havok_dmd, H_test, V_test_havok_dmd, V_test"
   ]
  },
  {
   "cell_type": "markdown",
   "id": "f2ee4893",
   "metadata": {},
   "source": [
    "# Signal"
   ]
  },
  {
   "cell_type": "code",
   "execution_count": 17,
   "id": "e185cfb3",
   "metadata": {},
   "outputs": [],
   "source": [
    "# signal = signal_info['signal']\n",
    "# signal = signal @ np.random.randn(signal.shape[1], 64)\n",
    "# signal = signal[np.arange(0, signal.shape[0], signal_info['tau'])]\n",
    "# signal = np.divide(signal, np.linalg.norm(signal, axis=0))"
   ]
  },
  {
   "cell_type": "code",
   "execution_count": 18,
   "id": "f69db809",
   "metadata": {},
   "outputs": [],
   "source": [
    "# area = 'vlPFC'\n",
    "# if area == 'all':\n",
    "#     unit_indices = np.arange(len(electrode_info['area']))\n",
    "# else:\n",
    "#     unit_indices = np.where(electrode_info['area'] == area)[0]\n",
    "# n = len(unit_indices)\n",
    "# signal = lfp_subsampled[:int(session_info['drugStart'][0]/dt), unit_indices]\n",
    "# signal = np.divide(signal, np.linalg.norm(signal, axis=0))"
   ]
  },
  {
   "cell_type": "code",
   "execution_count": 19,
   "id": "29503b09",
   "metadata": {},
   "outputs": [],
   "source": [
    "mu = 5.0\n",
    "signal = vdp_data['signals'][f'mu = {mu}']"
   ]
  },
  {
   "cell_type": "code",
   "execution_count": 19,
   "id": "4d727ed8",
   "metadata": {},
   "outputs": [],
   "source": [
    "# n_components = 30\n",
    "# pca = PCA(n_components=n_components)\n",
    "# signal_pca = pca.fit_transform(signal)"
   ]
  },
  {
   "cell_type": "code",
   "execution_count": 20,
   "id": "6427999a",
   "metadata": {},
   "outputs": [],
   "source": [
    "# pca_knee = KneeLocator(np.arange(n_components), pca.explained_variance_ratio_, S=10, curve='convex', direction='decreasing').knee\n",
    "# plt.plot(pca.explained_variance_ratio_)\n",
    "# plt.scatter(pca_knee, pca.explained_variance_ratio_[pca_knee], c='red', s=100)\n",
    "# plt.text(pca_knee, pca.explained_variance_ratio_[pca_knee]*2, f\"pca knee = {pca_knee}\")\n",
    "# plt.xlabel('PCA Component #')\n",
    "# plt.ylabel('Explained Variance Ratio')\n",
    "# plt.show()"
   ]
  },
  {
   "cell_type": "code",
   "execution_count": 21,
   "id": "cee9ee51",
   "metadata": {},
   "outputs": [],
   "source": [
    "window_start = 100\n",
    "window = 5000"
   ]
  },
  {
   "cell_type": "code",
   "execution_count": 30,
   "id": "70fda49b",
   "metadata": {},
   "outputs": [],
   "source": [
    "train_signal = PolynomialFeatures(degree=5).fit_transform(signal[window_start:window_start + window])"
   ]
  },
  {
   "cell_type": "code",
   "execution_count": 32,
   "id": "151769da",
   "metadata": {},
   "outputs": [],
   "source": [
    "p = 75"
   ]
  },
  {
   "cell_type": "code",
   "execution_count": 35,
   "id": "57971065",
   "metadata": {},
   "outputs": [
    {
     "name": "stdout",
     "output_type": "stream",
     "text": [
      "Computing Hankel matrix ...\n",
      "Hankel matrix computed!\n",
      "Computing SVD on Hankel matrix ...\n",
      "SVD complete!\n",
      "CPU times: user 16.9 s, sys: 83.1 ms, total: 17 s\n",
      "Wall time: 8.75 s\n"
     ]
    }
   ],
   "source": [
    "%%time\n",
    "koopman = KoopmanModels(train_signal, p=p, verbose=True)"
   ]
  },
  {
   "cell_type": "code",
   "execution_count": 36,
   "id": "23f5e138",
   "metadata": {},
   "outputs": [
    {
     "name": "stdout",
     "output_type": "stream",
     "text": [
      "CPU times: user 13.1 s, sys: 265 ms, total: 13.3 s\n",
      "Wall time: 6.66 s\n"
     ]
    }
   ],
   "source": [
    "%%time\n",
    "koopman.compute_var_p()"
   ]
  },
  {
   "cell_type": "code",
   "execution_count": 39,
   "id": "8fb5cd6f",
   "metadata": {},
   "outputs": [],
   "source": [
    "n = koopman.n"
   ]
  },
  {
   "cell_type": "code",
   "execution_count": 40,
   "id": "885fc7e2",
   "metadata": {},
   "outputs": [],
   "source": [
    "r2_var_p = r2_score(koopman.H[1:, :n], koopman.H_var_p[1:, :n])\n",
    "r2_persistence_baseline = r2_score(koopman.H[1:, :n], koopman.H[:-1, :n])"
   ]
  },
  {
   "cell_type": "code",
   "execution_count": 43,
   "id": "bbdb974c",
   "metadata": {},
   "outputs": [],
   "source": [
    "T_pred = 500\n",
    "test_signal =  PolynomialFeatures(degree=5).fit_transform(signal[window_start + window - p:window_start + window + T_pred])"
   ]
  },
  {
   "cell_type": "code",
   "execution_count": 44,
   "id": "b73378a6",
   "metadata": {},
   "outputs": [],
   "source": [
    "H_test_var_p, H_test = koopman.predict_var_p(test_signal)\n",
    "r2_var_p_test = r2_score(H_test[1:, :n], H_test_var_p[1:, :n])\n",
    "r2_persistence_baseline_test = r2_score(H_test[1:, :n], H_test[:-1, :n])"
   ]
  },
  {
   "cell_type": "code",
   "execution_count": 79,
   "id": "1b81caa2",
   "metadata": {},
   "outputs": [],
   "source": [
    "koopman.compute_havok_dmd(r=int(koopman.knee))\n",
    "H_test_havok_dmd, H_test, _, _ = koopman.predict_havok_dmd(test_signal)"
   ]
  },
  {
   "cell_type": "code",
   "execution_count": 80,
   "id": "64032130",
   "metadata": {},
   "outputs": [],
   "source": [
    "r2_havok_dmd_test = r2_score(H_test[1:, :n], H_test_havok_dmd[1:, :n])"
   ]
  },
  {
   "cell_type": "code",
   "execution_count": 81,
   "id": "d37eb988",
   "metadata": {},
   "outputs": [
    {
     "data": {
      "image/png": "[encoded data removed]",
      "text/plain": [
       "<Figure size 1008x360 with 2 Axes>"
      ]
     },
     "metadata": {
      "needs_background": "light"
     },
     "output_type": "display_data"
    }
   ],
   "source": [
    "plt.figure(figsize=(14, 5))\n",
    "start = 0\n",
    "end = 500\n",
    "plt.subplot(1, 2, 1)\n",
    "ind = 1\n",
    "plt.plot(H_test[1 + start:1 + end, ind], label='true values')\n",
    "plt.plot(H_test_havok_dmd[1 + start:1 + end, ind], label=f'predictions havok dmd (r = {koopman.r})')\n",
    "plt.plot(H_test_var_p[1 + start:1 + end, ind], label='predictions var p')\n",
    "# plt.plot(H_test[:-1, ind], label='persistence baseline', linestyle='--', alpha=0.5)\n",
    "# plt.legend()\n",
    "# plt.xlim([180, 200])\n",
    "plt.subplot(1, 2, 2)\n",
    "ind = 2\n",
    "plt.plot(H_test[1 + start:1 + end, ind], label='true values')\n",
    "plt.plot(H_test_havok_dmd[1 + start:1 + end, ind], label=f'predictions havok dmd (r = {koopman.r})')\n",
    "plt.plot(H_test_var_p[1 + start:1 + end, ind], label='predictions var p')\n",
    "# plt.plot(H_test[:-1, ind], label='persistence baseline', linestyle='--', alpha=0.5)\n",
    "plt.legend()\n",
    "plt.suptitle(f\"Test Predictions\\np = {p}, window = {window}\")\n",
    "plt.tight_layout()\n",
    "plt.show()"
   ]
  },
  {
   "cell_type": "code",
   "execution_count": 83,
   "id": "1808e54f",
   "metadata": {},
   "outputs": [
    {
     "data": {
      "image/png": "[encoded data removed]",
      "text/plain": [
       "<Figure size 720x360 with 1 Axes>"
      ]
     },
     "metadata": {
      "needs_background": "light"
     },
     "output_type": "display_data"
    }
   ],
   "source": [
    "plt.plot(np.sort(np.abs(koopman.eigvals_havok_dmd))[::-1])\n",
    "plt.show() "
   ]
  },
  {
   "cell_type": "markdown",
   "id": "fe606762",
   "metadata": {},
   "source": [
    "# Test Signals Across VDP"
   ]
  },
  {
   "cell_type": "code",
   "execution_count": 88,
   "id": "0a99e3e8",
   "metadata": {},
   "outputs": [],
   "source": [
    "mu_vals = np.array([float(k.split(' ')[-1]) for k in list(vdp_data['signals'].keys())])"
   ]
  },
  {
   "cell_type": "code",
   "execution_count": 91,
   "id": "b33fcbce",
   "metadata": {},
   "outputs": [
    {
     "data": {
      "application/vnd.jupyter.widget-view+json": {
       "model_id": "8af78bd4921e431fbfd4bf06b0cb4ad7",
       "version_major": 2,
       "version_minor": 0
      },
      "text/plain": [
       "  0%|          | 0/12 [00:00<?, ?it/s]"
      ]
     },
     "metadata": {},
     "output_type": "display_data"
    },
    {
     "name": "stdout",
     "output_type": "stream",
     "text": [
      "Computing Hankel matrix ...\n",
      "Hankel matrix computed!\n",
      "Computing SVD on Hankel matrix ...\n",
      "SVD complete!\n",
      "Computing Hankel matrix ...\n",
      "Hankel matrix computed!\n",
      "Computing SVD on Hankel matrix ...\n",
      "SVD complete!\n",
      "Computing Hankel matrix ...\n",
      "Hankel matrix computed!\n",
      "Computing SVD on Hankel matrix ...\n",
      "SVD complete!\n",
      "Computing Hankel matrix ...\n",
      "Hankel matrix computed!\n",
      "Computing SVD on Hankel matrix ...\n",
      "SVD complete!\n",
      "Computing Hankel matrix ...\n",
      "Hankel matrix computed!\n",
      "Computing SVD on Hankel matrix ...\n",
      "SVD complete!\n",
      "Computing Hankel matrix ...\n",
      "Hankel matrix computed!\n",
      "Computing SVD on Hankel matrix ...\n",
      "SVD complete!\n",
      "Computing Hankel matrix ...\n",
      "Hankel matrix computed!\n",
      "Computing SVD on Hankel matrix ...\n",
      "SVD complete!\n",
      "Computing Hankel matrix ...\n",
      "Hankel matrix computed!\n",
      "Computing SVD on Hankel matrix ...\n",
      "SVD complete!\n",
      "Computing Hankel matrix ...\n",
      "Hankel matrix computed!\n",
      "Computing SVD on Hankel matrix ...\n",
      "SVD complete!\n",
      "Computing Hankel matrix ...\n",
      "Hankel matrix computed!\n",
      "Computing SVD on Hankel matrix ...\n",
      "SVD complete!\n",
      "Computing Hankel matrix ...\n",
      "Hankel matrix computed!\n",
      "Computing SVD on Hankel matrix ...\n",
      "SVD complete!\n",
      "Computing Hankel matrix ...\n",
      "Hankel matrix computed!\n",
      "Computing SVD on Hankel matrix ...\n",
      "SVD complete!\n"
     ]
    }
   ],
   "source": [
    "window_start = 100\n",
    "window = 5000\n",
    "p = 75\n",
    "degree = 5\n",
    "T_pred = 500\n",
    "\n",
    "results = {}\n",
    "for mu in tqdm(mu_vals):\n",
    "    key = f'mu = {mu}'\n",
    "    signal = vdp_data['signals'][key]\n",
    "\n",
    "    train_signal = PolynomialFeatures(degree=degree).fit_transform(signal[window_start:window_start + window])\n",
    "\n",
    "   \n",
    "    koopman = KoopmanModels(train_signal, p=p, verbose=True)\n",
    "    \n",
    "    test_signal = PolynomialFeatures(degree=degree).fit_transform(signal[window_start + window - p:window_start + window + T_pred])\n",
    "    r2_persistence_baseline_test = r2_score(H_test[1:, :n], H_test[:-1, :n])\n",
    "\n",
    "    koopman.compute_havok_dmd(r=int(koopman.knee))\n",
    "    H_test_havok_dmd, H_test, _, _ = koopman.predict_havok_dmd(test_signal)\n",
    "\n",
    "    r2_havok_dmd_test = r2_score(H_test[1:, :n], H_test_havok_dmd[1:, :n])\n",
    "    \n",
    "    results[key] = dict(\n",
    "        r2_persistence_baseline_test=r2_persistence_baseline_test,\n",
    "        r2_havok_dmd_test=r2_havok_dmd_test,\n",
    "        eigvals = koopman.eigvals_havok_dmd,\n",
    "        cont_exps = np.sort(np.log(np.abs(koopman.eigvals_havok_dmd))/(vdp_data['dt']*vdp_data['taus'][key]))[::-1]\n",
    "    )"
   ]
  },
  {
   "cell_type": "code",
   "execution_count": 92,
   "id": "6c0d960a",
   "metadata": {},
   "outputs": [],
   "source": [
    "mean_cont_exps = []\n",
    "for mu in mu_vals:\n",
    "    key = f\"mu = {mu}\"\n",
    "    mean_cont_exps.append(results[key]['cont_exps'].mean())"
   ]
  },
  {
   "cell_type": "code",
   "execution_count": 97,
   "id": "ecea55fb",
   "metadata": {},
   "outputs": [
    {
     "data": {
      "image/png": "[encoded data removed]",
      "text/plain": [
       "<Figure size 720x360 with 1 Axes>"
      ]
     },
     "metadata": {
      "needs_background": "light"
     },
     "output_type": "display_data"
    }
   ],
   "source": [
    "plt.plot(mu_vals, mean_cont_exps)\n",
    "plt.xlabel('mu')\n",
    "plt.ylabel('mean continuous exponent')\n",
    "plt.show()"
   ]
  },
  {
   "cell_type": "code",
   "execution_count": 137,
   "id": "9ccf65c6",
   "metadata": {},
   "outputs": [],
   "source": [
    "for mu in mu_vals:\n",
    "    key = f\"mu = {mu}\"\n",
    "    diffs = np.abs(np.diff(results[key]['cont_exps']))\n",
    "    dbscan = DBSCAN(min_samples=1, eps=diffs[np.argmax(diffs > 1e-7)])\n",
    "    \n",
    "    clusters = dbscan.fit_predict(results[key]['cont_exps'].reshape(-1, 1))\n",
    "    results[key]['clusters'] = clusters"
   ]
  },
  {
   "cell_type": "code",
   "execution_count": 150,
   "id": "7ed60d5c",
   "metadata": {},
   "outputs": [],
   "source": [
    "max_cluster = 6\n",
    "mean_cluster_vals = []\n",
    "for mu in mu_vals:\n",
    "    key = f\"mu = {mu}\"\n",
    "    rel_inds = np.isin(results[key]['clusters'], np.arange(max_cluster + 1))\n",
    "    mean_cluster_vals.append(results[key]['cont_exps'][rel_inds].mean())"
   ]
  },
  {
   "cell_type": "code",
   "execution_count": 151,
   "id": "71842800",
   "metadata": {},
   "outputs": [
    {
     "data": {
      "text/plain": [
       "[<matplotlib.lines.Line2D at 0x2ba293ea3340>]"
      ]
     },
     "execution_count": 151,
     "metadata": {},
     "output_type": "execute_result"
    },
    {
     "data": {
      "image/png": "[encoded data removed]",
      "text/plain": [
       "<Figure size 720x360 with 1 Axes>"
      ]
     },
     "metadata": {
      "needs_background": "light"
     },
     "output_type": "display_data"
    }
   ],
   "source": [
    "plt.plot(mean_cluster_vals)"
   ]
  },
  {
   "cell_type": "code",
   "execution_count": null,
   "id": "d57b3155",
   "metadata": {},
   "outputs": [],
   "source": []
  },
  {
   "cell_type": "code",
   "execution_count": null,
   "id": "2e101dcf",
   "metadata": {},
   "outputs": [],
   "source": []
  }
 ],
 "metadata": {
  "kernelspec": {
   "display_name": "Python 3 (ipykernel)",
   "language": "python",
   "name": "python3"
  },
  "language_info": {
   "codemirror_mode": {
    "name": "ipython",
    "version": 3
   },
   "file_extension": ".py",
   "mimetype": "text/x-python",
   "name": "python",
   "nbconvert_exporter": "python",
   "pygments_lexer": "ipython3",
   "version": "3.9.1"
  }
 },
 "nbformat": 4,
 "nbformat_minor": 5
}
