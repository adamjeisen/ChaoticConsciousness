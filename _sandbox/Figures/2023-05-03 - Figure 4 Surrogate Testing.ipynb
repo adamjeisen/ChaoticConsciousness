{
 "cells": [
  {
   "cell_type": "code",
   "execution_count": 2,
   "id": "8a49507d",
   "metadata": {},
   "outputs": [],
   "source": [
    "%load_ext autoreload"
   ]
  },
  {
   "cell_type": "code",
   "execution_count": 3,
   "id": "3e2872e2",
   "metadata": {},
   "outputs": [],
   "source": [
    "%autoreload 2\n",
    "\n",
    "import argparse\n",
    "from copy import deepcopy\n",
    "import logging\n",
    "from matplotlib.cm import get_cmap, ScalarMappable\n",
    "from matplotlib.colors import Normalize\n",
    "import matplotlib.pyplot as plt\n",
    "import pandas as pd\n",
    "import scipy\n",
    "from scipy.signal import butter, lfilter\n",
    "from sklearn.metrics import r2_score\n",
    "import sys\n",
    "\n",
    "sys.path.append('../..')\n",
    "\n",
    "from data_utils import *\n",
    "from iaaft import surrogates\n",
    "\n",
    "sys.path.append('../../../DeLASE')\n",
    "from delase import *\n",
    "from stability_estimation import *\n",
    "from parameter_choosing import *\n",
    "from performance_metrics import *\n",
    "from plot import *"
   ]
  },
  {
   "cell_type": "markdown",
   "id": "9cb51039",
   "metadata": {},
   "source": [
    "# Load Data"
   ]
  },
  {
   "cell_type": "code",
   "execution_count": 3,
   "id": "bed2e933",
   "metadata": {},
   "outputs": [],
   "source": [
    "def swap_phase(x, y):\n",
    "    new_x = np.zeros(x.shape)\n",
    "    new_y = np.zeros(y.shape)\n",
    "#     n_fft = 2000\n",
    "    n_fft = x.shape[0]\n",
    "    for i in range(x.shape[1]):\n",
    "        x_fft = np.fft.fft(x[:, i], n=n_fft)\n",
    "        y_fft = np.fft.fft(y[:, i], n=n_fft)\n",
    "\n",
    "        x_mag, x_angle = np.abs(x_fft), np.angle(x_fft)\n",
    "        y_mag, y_angle = np.abs(y_fft), np.angle(y_fft)\n",
    "        \n",
    "        new_x[:, i] = np.real(np.fft.ifft(x_mag*np.exp(1j*y_angle), n=n_fft))\n",
    "        new_y[:, i] = np.real(np.fft.ifft(y_mag*np.exp(1j*x_angle), n=n_fft))\n",
    "    return new_x, new_y\n",
    "\n",
    "def gen_surrogate(x, verbose=True):\n",
    "    surr = np.zeros(x.shape)\n",
    "    for i in tqdm(range(surr.shape[1]), disable=not verbose):\n",
    "        surr[:, i] = surrogates(x[:, i], 1, verbose=False)\n",
    "    \n",
    "    return surr\n",
    "\n",
    "def butter_bandpass(lowcut, highcut, fs, order=5):\n",
    "    return butter(order, [lowcut, highcut], fs=fs, btype='band')\n",
    "\n",
    "def butter_bandpass_filter(data, lowcut, highcut, fs, order=5):\n",
    "    b, a = butter_bandpass(lowcut, highcut, fs, order=order)\n",
    "    if len(data.shape) == 1:\n",
    "        y = lfilter(b, a, data)\n",
    "    else:\n",
    "        y = np.zeros(data.shape)\n",
    "        for i in range(y.shape[1]):\n",
    "            y[:, i] = lfilter(b, a, data[:, i])\n",
    "    return y"
   ]
  },
  {
   "cell_type": "code",
   "execution_count": 4,
   "id": "dd862279",
   "metadata": {},
   "outputs": [],
   "source": [
    "session_list = os.listdir(\"/scratch2/weka/millerlab/eisenaj/ChaoticConsciousness/grid_search_results\")\n",
    "session_list = session_list[:2]"
   ]
  },
  {
   "cell_type": "code",
   "execution_count": 5,
   "id": "2deaa46a",
   "metadata": {},
   "outputs": [],
   "source": [
    "save_dir = '/scratch2/weka/millerlab/eisenaj/ChaoticConsciousness/surrogate_testing'\n",
    "use_torch=True\n",
    "device='cuda'\n",
    "num_pairs = 20"
   ]
  },
  {
   "cell_type": "code",
   "execution_count": null,
   "id": "2b767c5c",
   "metadata": {},
   "outputs": [
    {
     "name": "stdout",
     "output_type": "stream",
     "text": [
      "------------------------------\n",
      "SESSION = Mary-Anesthesia-20160908-02\n",
      "------------------------------\n",
      "loading data...\n",
      "loading directory\n",
      "directory loaded!\n",
      "Loading grid search results...\n",
      "Grid search results loaded!\n",
      "Now computing all pairs for session:\n"
     ]
    },
    {
     "data": {
      "application/vnd.jupyter.widget-view+json": {
       "model_id": "cfe51590b96f4db6a1c758e0494b6356",
       "version_major": 2,
       "version_minor": 0
      },
      "text/plain": [
       "  0%|          | 0/100 [00:00<?, ?it/s]"
      ]
     },
     "metadata": {},
     "output_type": "display_data"
    },
    {
     "name": "stdout",
     "output_type": "stream",
     "text": [
      "--------------------\n",
      "AREA = 7b\n",
      "--------------------\n",
      "----------\n",
      "PAIR = 0\n",
      "----------\n",
      "loading signals..\n",
      "Computing IAAFTs...\n"
     ]
    },
    {
     "data": {
      "application/vnd.jupyter.widget-view+json": {
       "model_id": "207d6b04438c419fa2beb00aaf821afc",
       "version_major": 2,
       "version_minor": 0
      },
      "text/plain": [
       "  0%|          | 0/64 [00:00<?, ?it/s]"
      ]
     },
     "metadata": {},
     "output_type": "display_data"
    },
    {
     "data": {
      "application/vnd.jupyter.widget-view+json": {
       "model_id": "a46ab70059e84692a33a74c7d0372dbb",
       "version_major": 2,
       "version_minor": 0
      },
      "text/plain": [
       "  0%|          | 0/64 [00:00<?, ?it/s]"
      ]
     },
     "metadata": {},
     "output_type": "display_data"
    },
    {
     "name": "stdout",
     "output_type": "stream",
     "text": [
      "Computing DeLASE...\n"
     ]
    },
    {
     "data": {
      "application/vnd.jupyter.widget-view+json": {
       "model_id": "3a9b3869a5224539ae9d7df651bdee1c",
       "version_major": 2,
       "version_minor": 0
      },
      "text/plain": [
       "  0%|          | 0/18 [00:00<?, ?it/s]"
      ]
     },
     "metadata": {},
     "output_type": "display_data"
    },
    {
     "name": "stdout",
     "output_type": "stream",
     "text": [
      "PAIR 0 completed!!!\n",
      "----------\n",
      "PAIR = 1\n",
      "----------\n",
      "loading signals..\n",
      "Computing IAAFTs...\n"
     ]
    },
    {
     "data": {
      "application/vnd.jupyter.widget-view+json": {
       "model_id": "d72eb54cf9b742d4910b28b1e659f508",
       "version_major": 2,
       "version_minor": 0
      },
      "text/plain": [
       "  0%|          | 0/64 [00:00<?, ?it/s]"
      ]
     },
     "metadata": {},
     "output_type": "display_data"
    },
    {
     "data": {
      "application/vnd.jupyter.widget-view+json": {
       "model_id": "488ef202d2d4421abec2a0a23fc80231",
       "version_major": 2,
       "version_minor": 0
      },
      "text/plain": [
       "  0%|          | 0/64 [00:00<?, ?it/s]"
      ]
     },
     "metadata": {},
     "output_type": "display_data"
    },
    {
     "name": "stdout",
     "output_type": "stream",
     "text": [
      "Computing DeLASE...\n"
     ]
    },
    {
     "data": {
      "application/vnd.jupyter.widget-view+json": {
       "model_id": "e19e25c65d454cfba020a0b5607c6326",
       "version_major": 2,
       "version_minor": 0
      },
      "text/plain": [
       "  0%|          | 0/18 [00:00<?, ?it/s]"
      ]
     },
     "metadata": {},
     "output_type": "display_data"
    },
    {
     "name": "stdout",
     "output_type": "stream",
     "text": [
      "PAIR 1 completed!!!\n",
      "----------\n",
      "PAIR = 2\n",
      "----------\n",
      "loading signals..\n",
      "Computing IAAFTs...\n"
     ]
    },
    {
     "data": {
      "application/vnd.jupyter.widget-view+json": {
       "model_id": "7bd17e00ced24b058975a275c70f40f7",
       "version_major": 2,
       "version_minor": 0
      },
      "text/plain": [
       "  0%|          | 0/64 [00:00<?, ?it/s]"
      ]
     },
     "metadata": {},
     "output_type": "display_data"
    },
    {
     "data": {
      "application/vnd.jupyter.widget-view+json": {
       "model_id": "4f0ec47f0b76430d9926582dd450c24e",
       "version_major": 2,
       "version_minor": 0
      },
      "text/plain": [
       "  0%|          | 0/64 [00:00<?, ?it/s]"
      ]
     },
     "metadata": {},
     "output_type": "display_data"
    },
    {
     "name": "stdout",
     "output_type": "stream",
     "text": [
      "Computing DeLASE...\n"
     ]
    },
    {
     "data": {
      "application/vnd.jupyter.widget-view+json": {
       "model_id": "a198c70da5814ba996178a0bfdcc6060",
       "version_major": 2,
       "version_minor": 0
      },
      "text/plain": [
       "  0%|          | 0/18 [00:00<?, ?it/s]"
      ]
     },
     "metadata": {},
     "output_type": "display_data"
    },
    {
     "name": "stdout",
     "output_type": "stream",
     "text": [
      "PAIR 2 completed!!!\n",
      "----------\n",
      "PAIR = 3\n",
      "----------\n",
      "loading signals..\n",
      "Computing IAAFTs...\n"
     ]
    },
    {
     "data": {
      "application/vnd.jupyter.widget-view+json": {
       "model_id": "2218077a6a9f4979910b274a70c13a37",
       "version_major": 2,
       "version_minor": 0
      },
      "text/plain": [
       "  0%|          | 0/64 [00:00<?, ?it/s]"
      ]
     },
     "metadata": {},
     "output_type": "display_data"
    },
    {
     "data": {
      "application/vnd.jupyter.widget-view+json": {
       "model_id": "1c9f5b66207b4c0db812695b4c362e56",
       "version_major": 2,
       "version_minor": 0
      },
      "text/plain": [
       "  0%|          | 0/64 [00:00<?, ?it/s]"
      ]
     },
     "metadata": {},
     "output_type": "display_data"
    },
    {
     "name": "stdout",
     "output_type": "stream",
     "text": [
      "Computing DeLASE...\n"
     ]
    },
    {
     "data": {
      "application/vnd.jupyter.widget-view+json": {
       "model_id": "4ad5cfcc746548b499afeae9324cd3ec",
       "version_major": 2,
       "version_minor": 0
      },
      "text/plain": [
       "  0%|          | 0/18 [00:00<?, ?it/s]"
      ]
     },
     "metadata": {},
     "output_type": "display_data"
    },
    {
     "name": "stdout",
     "output_type": "stream",
     "text": [
      "PAIR 3 completed!!!\n",
      "----------\n",
      "PAIR = 4\n",
      "----------\n",
      "loading signals..\n",
      "Computing IAAFTs...\n"
     ]
    },
    {
     "data": {
      "application/vnd.jupyter.widget-view+json": {
       "model_id": "76e91e57f9b4418a8e72702132a1e542",
       "version_major": 2,
       "version_minor": 0
      },
      "text/plain": [
       "  0%|          | 0/64 [00:00<?, ?it/s]"
      ]
     },
     "metadata": {},
     "output_type": "display_data"
    },
    {
     "data": {
      "application/vnd.jupyter.widget-view+json": {
       "model_id": "3729b56a203b4e808724e3858e8f4ace",
       "version_major": 2,
       "version_minor": 0
      },
      "text/plain": [
       "  0%|          | 0/64 [00:00<?, ?it/s]"
      ]
     },
     "metadata": {},
     "output_type": "display_data"
    },
    {
     "name": "stdout",
     "output_type": "stream",
     "text": [
      "Computing DeLASE...\n"
     ]
    },
    {
     "data": {
      "application/vnd.jupyter.widget-view+json": {
       "model_id": "c7adccab735b40e791939c40ed2f9c0c",
       "version_major": 2,
       "version_minor": 0
      },
      "text/plain": [
       "  0%|          | 0/18 [00:00<?, ?it/s]"
      ]
     },
     "metadata": {},
     "output_type": "display_data"
    },
    {
     "name": "stdout",
     "output_type": "stream",
     "text": [
      "PAIR 4 completed!!!\n",
      "----------\n",
      "PAIR = 5\n",
      "----------\n",
      "loading signals..\n",
      "Computing IAAFTs...\n"
     ]
    },
    {
     "data": {
      "application/vnd.jupyter.widget-view+json": {
       "model_id": "7c34dcccb7ba4a71905f4a38ced5bf8f",
       "version_major": 2,
       "version_minor": 0
      },
      "text/plain": [
       "  0%|          | 0/64 [00:00<?, ?it/s]"
      ]
     },
     "metadata": {},
     "output_type": "display_data"
    },
    {
     "data": {
      "application/vnd.jupyter.widget-view+json": {
       "model_id": "e91074cf2165483c8290596c411762fb",
       "version_major": 2,
       "version_minor": 0
      },
      "text/plain": [
       "  0%|          | 0/64 [00:00<?, ?it/s]"
      ]
     },
     "metadata": {},
     "output_type": "display_data"
    },
    {
     "name": "stdout",
     "output_type": "stream",
     "text": [
      "Computing DeLASE...\n"
     ]
    },
    {
     "data": {
      "application/vnd.jupyter.widget-view+json": {
       "model_id": "b8b570557cdc42c78ab78bbad742708f",
       "version_major": 2,
       "version_minor": 0
      },
      "text/plain": [
       "  0%|          | 0/18 [00:00<?, ?it/s]"
      ]
     },
     "metadata": {},
     "output_type": "display_data"
    },
    {
     "name": "stdout",
     "output_type": "stream",
     "text": [
      "PAIR 5 completed!!!\n",
      "----------\n",
      "PAIR = 6\n",
      "----------\n",
      "loading signals..\n",
      "Computing IAAFTs...\n"
     ]
    },
    {
     "data": {
      "application/vnd.jupyter.widget-view+json": {
       "model_id": "cdd6600c14984bc69b4c93b5621b9ef6",
       "version_major": 2,
       "version_minor": 0
      },
      "text/plain": [
       "  0%|          | 0/64 [00:00<?, ?it/s]"
      ]
     },
     "metadata": {},
     "output_type": "display_data"
    },
    {
     "data": {
      "application/vnd.jupyter.widget-view+json": {
       "model_id": "d4e5c6b24715421c9a5f8c0fe1dd869a",
       "version_major": 2,
       "version_minor": 0
      },
      "text/plain": [
       "  0%|          | 0/64 [00:00<?, ?it/s]"
      ]
     },
     "metadata": {},
     "output_type": "display_data"
    },
    {
     "name": "stdout",
     "output_type": "stream",
     "text": [
      "Computing DeLASE...\n"
     ]
    },
    {
     "data": {
      "application/vnd.jupyter.widget-view+json": {
       "model_id": "d0532a753ffa47da9dee4d6fdab7ac33",
       "version_major": 2,
       "version_minor": 0
      },
      "text/plain": [
       "  0%|          | 0/18 [00:00<?, ?it/s]"
      ]
     },
     "metadata": {},
     "output_type": "display_data"
    },
    {
     "name": "stdout",
     "output_type": "stream",
     "text": [
      "PAIR 6 completed!!!\n",
      "----------\n",
      "PAIR = 7\n",
      "----------\n",
      "loading signals..\n",
      "Computing IAAFTs...\n"
     ]
    },
    {
     "data": {
      "application/vnd.jupyter.widget-view+json": {
       "model_id": "2360f86cd52c41bb980927df031186ee",
       "version_major": 2,
       "version_minor": 0
      },
      "text/plain": [
       "  0%|          | 0/64 [00:00<?, ?it/s]"
      ]
     },
     "metadata": {},
     "output_type": "display_data"
    },
    {
     "data": {
      "application/vnd.jupyter.widget-view+json": {
       "model_id": "0c91fda1c0a346c3b3fe4c3fe3375563",
       "version_major": 2,
       "version_minor": 0
      },
      "text/plain": [
       "  0%|          | 0/64 [00:00<?, ?it/s]"
      ]
     },
     "metadata": {},
     "output_type": "display_data"
    },
    {
     "name": "stdout",
     "output_type": "stream",
     "text": [
      "Computing DeLASE...\n"
     ]
    },
    {
     "data": {
      "application/vnd.jupyter.widget-view+json": {
       "model_id": "3e1e6cbdbae44506b0d325306529ac72",
       "version_major": 2,
       "version_minor": 0
      },
      "text/plain": [
       "  0%|          | 0/18 [00:00<?, ?it/s]"
      ]
     },
     "metadata": {},
     "output_type": "display_data"
    },
    {
     "name": "stdout",
     "output_type": "stream",
     "text": [
      "PAIR 7 completed!!!\n",
      "----------\n",
      "PAIR = 8\n",
      "----------\n",
      "loading signals..\n",
      "Computing IAAFTs...\n"
     ]
    },
    {
     "data": {
      "application/vnd.jupyter.widget-view+json": {
       "model_id": "627c4c3aba274da399595a3d4c6882e5",
       "version_major": 2,
       "version_minor": 0
      },
      "text/plain": [
       "  0%|          | 0/64 [00:00<?, ?it/s]"
      ]
     },
     "metadata": {},
     "output_type": "display_data"
    },
    {
     "data": {
      "application/vnd.jupyter.widget-view+json": {
       "model_id": "6abb0f1a474e4f758a2d4eb33c80b02d",
       "version_major": 2,
       "version_minor": 0
      },
      "text/plain": [
       "  0%|          | 0/64 [00:00<?, ?it/s]"
      ]
     },
     "metadata": {},
     "output_type": "display_data"
    },
    {
     "name": "stdout",
     "output_type": "stream",
     "text": [
      "Computing DeLASE...\n"
     ]
    },
    {
     "data": {
      "application/vnd.jupyter.widget-view+json": {
       "model_id": "02429bd3c0844cdf9d67d21900ca83d1",
       "version_major": 2,
       "version_minor": 0
      },
      "text/plain": [
       "  0%|          | 0/18 [00:00<?, ?it/s]"
      ]
     },
     "metadata": {},
     "output_type": "display_data"
    },
    {
     "name": "stdout",
     "output_type": "stream",
     "text": [
      "PAIR 8 completed!!!\n",
      "----------\n",
      "PAIR = 9\n",
      "----------\n",
      "loading signals..\n",
      "Computing IAAFTs...\n"
     ]
    },
    {
     "data": {
      "application/vnd.jupyter.widget-view+json": {
       "model_id": "ce6faa17b2b841cb880690b1fead2c12",
       "version_major": 2,
       "version_minor": 0
      },
      "text/plain": [
       "  0%|          | 0/64 [00:00<?, ?it/s]"
      ]
     },
     "metadata": {},
     "output_type": "display_data"
    },
    {
     "data": {
      "application/vnd.jupyter.widget-view+json": {
       "model_id": "79637ddd8513466089b3dc439cdb5148",
       "version_major": 2,
       "version_minor": 0
      },
      "text/plain": [
       "  0%|          | 0/64 [00:00<?, ?it/s]"
      ]
     },
     "metadata": {},
     "output_type": "display_data"
    },
    {
     "name": "stdout",
     "output_type": "stream",
     "text": [
      "Computing DeLASE...\n"
     ]
    },
    {
     "data": {
      "application/vnd.jupyter.widget-view+json": {
       "model_id": "2d05896753244db1a59b66f9f45758b5",
       "version_major": 2,
       "version_minor": 0
      },
      "text/plain": [
       "  0%|          | 0/18 [00:00<?, ?it/s]"
      ]
     },
     "metadata": {},
     "output_type": "display_data"
    },
    {
     "name": "stdout",
     "output_type": "stream",
     "text": [
      "PAIR 9 completed!!!\n",
      "----------\n",
      "PAIR = 10\n",
      "----------\n",
      "loading signals..\n",
      "Computing IAAFTs...\n"
     ]
    },
    {
     "data": {
      "application/vnd.jupyter.widget-view+json": {
       "model_id": "d6075eefe2954fcca4187322fbfa17c0",
       "version_major": 2,
       "version_minor": 0
      },
      "text/plain": [
       "  0%|          | 0/64 [00:00<?, ?it/s]"
      ]
     },
     "metadata": {},
     "output_type": "display_data"
    },
    {
     "data": {
      "application/vnd.jupyter.widget-view+json": {
       "model_id": "c2883e45301b4d11b639d25620af7c26",
       "version_major": 2,
       "version_minor": 0
      },
      "text/plain": [
       "  0%|          | 0/64 [00:00<?, ?it/s]"
      ]
     },
     "metadata": {},
     "output_type": "display_data"
    },
    {
     "name": "stdout",
     "output_type": "stream",
     "text": [
      "Computing DeLASE...\n"
     ]
    },
    {
     "data": {
      "application/vnd.jupyter.widget-view+json": {
       "model_id": "75f050fd46524d798d0b5887a6e4a871",
       "version_major": 2,
       "version_minor": 0
      },
      "text/plain": [
       "  0%|          | 0/18 [00:00<?, ?it/s]"
      ]
     },
     "metadata": {},
     "output_type": "display_data"
    },
    {
     "name": "stdout",
     "output_type": "stream",
     "text": [
      "PAIR 10 completed!!!\n",
      "----------\n",
      "PAIR = 11\n",
      "----------\n",
      "loading signals..\n",
      "Computing IAAFTs...\n"
     ]
    },
    {
     "data": {
      "application/vnd.jupyter.widget-view+json": {
       "model_id": "26e8b7d05207402b9a815eb2f152555e",
       "version_major": 2,
       "version_minor": 0
      },
      "text/plain": [
       "  0%|          | 0/64 [00:00<?, ?it/s]"
      ]
     },
     "metadata": {},
     "output_type": "display_data"
    },
    {
     "data": {
      "application/vnd.jupyter.widget-view+json": {
       "model_id": "e4491994f89f4a6e9717e327bc532874",
       "version_major": 2,
       "version_minor": 0
      },
      "text/plain": [
       "  0%|          | 0/64 [00:00<?, ?it/s]"
      ]
     },
     "metadata": {},
     "output_type": "display_data"
    },
    {
     "name": "stdout",
     "output_type": "stream",
     "text": [
      "Computing DeLASE...\n"
     ]
    },
    {
     "data": {
      "application/vnd.jupyter.widget-view+json": {
       "model_id": "057f8e9d1a844d65b317db2ad0f463a7",
       "version_major": 2,
       "version_minor": 0
      },
      "text/plain": [
       "  0%|          | 0/18 [00:00<?, ?it/s]"
      ]
     },
     "metadata": {},
     "output_type": "display_data"
    },
    {
     "name": "stdout",
     "output_type": "stream",
     "text": [
      "PAIR 11 completed!!!\n",
      "----------\n",
      "PAIR = 12\n",
      "----------\n",
      "loading signals..\n",
      "Computing IAAFTs...\n"
     ]
    },
    {
     "data": {
      "application/vnd.jupyter.widget-view+json": {
       "model_id": "bfabcf10cdf843ada45640c745db3b24",
       "version_major": 2,
       "version_minor": 0
      },
      "text/plain": [
       "  0%|          | 0/64 [00:00<?, ?it/s]"
      ]
     },
     "metadata": {},
     "output_type": "display_data"
    },
    {
     "data": {
      "application/vnd.jupyter.widget-view+json": {
       "model_id": "fd3edc809efd49a3a25167fefc6d7a75",
       "version_major": 2,
       "version_minor": 0
      },
      "text/plain": [
       "  0%|          | 0/64 [00:00<?, ?it/s]"
      ]
     },
     "metadata": {},
     "output_type": "display_data"
    },
    {
     "name": "stdout",
     "output_type": "stream",
     "text": [
      "Computing DeLASE...\n"
     ]
    },
    {
     "data": {
      "application/vnd.jupyter.widget-view+json": {
       "model_id": "c49f274544ae4b81b4fbadc28758bc66",
       "version_major": 2,
       "version_minor": 0
      },
      "text/plain": [
       "  0%|          | 0/18 [00:00<?, ?it/s]"
      ]
     },
     "metadata": {},
     "output_type": "display_data"
    },
    {
     "name": "stdout",
     "output_type": "stream",
     "text": [
      "PAIR 12 completed!!!\n",
      "----------\n",
      "PAIR = 13\n",
      "----------\n",
      "loading signals..\n",
      "Computing IAAFTs...\n"
     ]
    },
    {
     "data": {
      "application/vnd.jupyter.widget-view+json": {
       "model_id": "79b7823266e9443dbc7665a50229bdf1",
       "version_major": 2,
       "version_minor": 0
      },
      "text/plain": [
       "  0%|          | 0/64 [00:00<?, ?it/s]"
      ]
     },
     "metadata": {},
     "output_type": "display_data"
    },
    {
     "data": {
      "application/vnd.jupyter.widget-view+json": {
       "model_id": "056502d8c6c4415d98e34f3a35866ecc",
       "version_major": 2,
       "version_minor": 0
      },
      "text/plain": [
       "  0%|          | 0/64 [00:00<?, ?it/s]"
      ]
     },
     "metadata": {},
     "output_type": "display_data"
    },
    {
     "name": "stdout",
     "output_type": "stream",
     "text": [
      "Computing DeLASE...\n"
     ]
    },
    {
     "data": {
      "application/vnd.jupyter.widget-view+json": {
       "model_id": "7d3e6f9a87d14a21a0aab792d841c557",
       "version_major": 2,
       "version_minor": 0
      },
      "text/plain": [
       "  0%|          | 0/18 [00:00<?, ?it/s]"
      ]
     },
     "metadata": {},
     "output_type": "display_data"
    },
    {
     "name": "stdout",
     "output_type": "stream",
     "text": [
      "PAIR 13 completed!!!\n",
      "----------\n",
      "PAIR = 14\n",
      "----------\n",
      "loading signals..\n",
      "Computing IAAFTs...\n"
     ]
    },
    {
     "data": {
      "application/vnd.jupyter.widget-view+json": {
       "model_id": "7852bd9aa7a848fbb504d88ff447d917",
       "version_major": 2,
       "version_minor": 0
      },
      "text/plain": [
       "  0%|          | 0/64 [00:00<?, ?it/s]"
      ]
     },
     "metadata": {},
     "output_type": "display_data"
    },
    {
     "data": {
      "application/vnd.jupyter.widget-view+json": {
       "model_id": "618245d4c93e40f7b0c635e0ecef680b",
       "version_major": 2,
       "version_minor": 0
      },
      "text/plain": [
       "  0%|          | 0/64 [00:00<?, ?it/s]"
      ]
     },
     "metadata": {},
     "output_type": "display_data"
    },
    {
     "name": "stdout",
     "output_type": "stream",
     "text": [
      "Computing DeLASE...\n"
     ]
    },
    {
     "data": {
      "application/vnd.jupyter.widget-view+json": {
       "model_id": "c153a3b187684f30bb84eafd2670cd35",
       "version_major": 2,
       "version_minor": 0
      },
      "text/plain": [
       "  0%|          | 0/18 [00:00<?, ?it/s]"
      ]
     },
     "metadata": {},
     "output_type": "display_data"
    },
    {
     "name": "stdout",
     "output_type": "stream",
     "text": [
      "PAIR 14 completed!!!\n",
      "----------\n",
      "PAIR = 15\n",
      "----------\n",
      "loading signals..\n",
      "Computing IAAFTs...\n"
     ]
    },
    {
     "data": {
      "application/vnd.jupyter.widget-view+json": {
       "model_id": "cc570ab54c9b43e4aefc893764443347",
       "version_major": 2,
       "version_minor": 0
      },
      "text/plain": [
       "  0%|          | 0/64 [00:00<?, ?it/s]"
      ]
     },
     "metadata": {},
     "output_type": "display_data"
    },
    {
     "data": {
      "application/vnd.jupyter.widget-view+json": {
       "model_id": "d930909f553440fc816d953fee5171f8",
       "version_major": 2,
       "version_minor": 0
      },
      "text/plain": [
       "  0%|          | 0/64 [00:00<?, ?it/s]"
      ]
     },
     "metadata": {},
     "output_type": "display_data"
    },
    {
     "name": "stdout",
     "output_type": "stream",
     "text": [
      "Computing DeLASE...\n"
     ]
    },
    {
     "data": {
      "application/vnd.jupyter.widget-view+json": {
       "model_id": "1072efb2a5c6461daa037e099d3f319c",
       "version_major": 2,
       "version_minor": 0
      },
      "text/plain": [
       "  0%|          | 0/18 [00:00<?, ?it/s]"
      ]
     },
     "metadata": {},
     "output_type": "display_data"
    },
    {
     "name": "stdout",
     "output_type": "stream",
     "text": [
      "PAIR 15 completed!!!\n",
      "----------\n",
      "PAIR = 16\n",
      "----------\n",
      "loading signals..\n",
      "Computing IAAFTs...\n"
     ]
    },
    {
     "data": {
      "application/vnd.jupyter.widget-view+json": {
       "model_id": "c478c73a22ae48be9134fac28a1bd378",
       "version_major": 2,
       "version_minor": 0
      },
      "text/plain": [
       "  0%|          | 0/64 [00:00<?, ?it/s]"
      ]
     },
     "metadata": {},
     "output_type": "display_data"
    },
    {
     "data": {
      "application/vnd.jupyter.widget-view+json": {
       "model_id": "42ca14318c5f4227b6cbaed7759c078b",
       "version_major": 2,
       "version_minor": 0
      },
      "text/plain": [
       "  0%|          | 0/64 [00:00<?, ?it/s]"
      ]
     },
     "metadata": {},
     "output_type": "display_data"
    },
    {
     "name": "stdout",
     "output_type": "stream",
     "text": [
      "Computing DeLASE...\n"
     ]
    },
    {
     "data": {
      "application/vnd.jupyter.widget-view+json": {
       "model_id": "8daa5083c02a486b8883da31fc43bf0d",
       "version_major": 2,
       "version_minor": 0
      },
      "text/plain": [
       "  0%|          | 0/18 [00:00<?, ?it/s]"
      ]
     },
     "metadata": {},
     "output_type": "display_data"
    },
    {
     "name": "stdout",
     "output_type": "stream",
     "text": [
      "PAIR 16 completed!!!\n",
      "----------\n",
      "PAIR = 17\n",
      "----------\n",
      "loading signals..\n",
      "Computing IAAFTs...\n"
     ]
    },
    {
     "data": {
      "application/vnd.jupyter.widget-view+json": {
       "model_id": "236e58516bd043f7baa8d8709ef83feb",
       "version_major": 2,
       "version_minor": 0
      },
      "text/plain": [
       "  0%|          | 0/64 [00:00<?, ?it/s]"
      ]
     },
     "metadata": {},
     "output_type": "display_data"
    },
    {
     "data": {
      "application/vnd.jupyter.widget-view+json": {
       "model_id": "6ab75f2ec7b342e4b4e899cb5f1ad16d",
       "version_major": 2,
       "version_minor": 0
      },
      "text/plain": [
       "  0%|          | 0/64 [00:00<?, ?it/s]"
      ]
     },
     "metadata": {},
     "output_type": "display_data"
    },
    {
     "name": "stdout",
     "output_type": "stream",
     "text": [
      "Computing DeLASE...\n"
     ]
    },
    {
     "data": {
      "application/vnd.jupyter.widget-view+json": {
       "model_id": "79d80cdbf1b646bf99c393032794cb46",
       "version_major": 2,
       "version_minor": 0
      },
      "text/plain": [
       "  0%|          | 0/18 [00:00<?, ?it/s]"
      ]
     },
     "metadata": {},
     "output_type": "display_data"
    },
    {
     "name": "stdout",
     "output_type": "stream",
     "text": [
      "PAIR 17 completed!!!\n",
      "----------\n",
      "PAIR = 18\n",
      "----------\n",
      "loading signals..\n",
      "Computing IAAFTs...\n"
     ]
    },
    {
     "data": {
      "application/vnd.jupyter.widget-view+json": {
       "model_id": "6262e2f813f44aa08d1d2d2deb3e6098",
       "version_major": 2,
       "version_minor": 0
      },
      "text/plain": [
       "  0%|          | 0/64 [00:00<?, ?it/s]"
      ]
     },
     "metadata": {},
     "output_type": "display_data"
    },
    {
     "data": {
      "application/vnd.jupyter.widget-view+json": {
       "model_id": "0a67d1df356146d2a2a80f07dd699e42",
       "version_major": 2,
       "version_minor": 0
      },
      "text/plain": [
       "  0%|          | 0/64 [00:00<?, ?it/s]"
      ]
     },
     "metadata": {},
     "output_type": "display_data"
    },
    {
     "name": "stdout",
     "output_type": "stream",
     "text": [
      "Computing DeLASE...\n"
     ]
    },
    {
     "data": {
      "application/vnd.jupyter.widget-view+json": {
       "model_id": "72c81d401f124d879bb04dbaa97e1ba3",
       "version_major": 2,
       "version_minor": 0
      },
      "text/plain": [
       "  0%|          | 0/18 [00:00<?, ?it/s]"
      ]
     },
     "metadata": {},
     "output_type": "display_data"
    },
    {
     "name": "stdout",
     "output_type": "stream",
     "text": [
      "PAIR 18 completed!!!\n",
      "----------\n",
      "PAIR = 19\n",
      "----------\n",
      "loading signals..\n",
      "Computing IAAFTs...\n"
     ]
    },
    {
     "data": {
      "application/vnd.jupyter.widget-view+json": {
       "model_id": "31b0165fd27448af95d413721c212b8f",
       "version_major": 2,
       "version_minor": 0
      },
      "text/plain": [
       "  0%|          | 0/64 [00:00<?, ?it/s]"
      ]
     },
     "metadata": {},
     "output_type": "display_data"
    },
    {
     "data": {
      "application/vnd.jupyter.widget-view+json": {
       "model_id": "e93863a34f734369b0efb3ae1c1154e2",
       "version_major": 2,
       "version_minor": 0
      },
      "text/plain": [
       "  0%|          | 0/64 [00:00<?, ?it/s]"
      ]
     },
     "metadata": {},
     "output_type": "display_data"
    },
    {
     "name": "stdout",
     "output_type": "stream",
     "text": [
      "Computing DeLASE...\n"
     ]
    },
    {
     "data": {
      "application/vnd.jupyter.widget-view+json": {
       "model_id": "bb5d0a0099c74c3f966da532b8f67354",
       "version_major": 2,
       "version_minor": 0
      },
      "text/plain": [
       "  0%|          | 0/18 [00:00<?, ?it/s]"
      ]
     },
     "metadata": {},
     "output_type": "display_data"
    },
    {
     "name": "stdout",
     "output_type": "stream",
     "text": [
      "PAIR 19 completed!!!\n",
      "--------------------\n",
      "AREA = all\n",
      "--------------------\n",
      "----------\n",
      "PAIR = 0\n",
      "----------\n",
      "loading signals..\n",
      "Computing IAAFTs...\n"
     ]
    },
    {
     "data": {
      "application/vnd.jupyter.widget-view+json": {
       "model_id": "f6e010752b534ef498e20c3c4c4eab64",
       "version_major": 2,
       "version_minor": 0
      },
      "text/plain": [
       "  0%|          | 0/249 [00:00<?, ?it/s]"
      ]
     },
     "metadata": {},
     "output_type": "display_data"
    },
    {
     "data": {
      "application/vnd.jupyter.widget-view+json": {
       "model_id": "14287f75214b493ba9b61437d99803f4",
       "version_major": 2,
       "version_minor": 0
      },
      "text/plain": [
       "  0%|          | 0/249 [00:00<?, ?it/s]"
      ]
     },
     "metadata": {},
     "output_type": "display_data"
    },
    {
     "name": "stdout",
     "output_type": "stream",
     "text": [
      "Computing DeLASE...\n"
     ]
    },
    {
     "data": {
      "application/vnd.jupyter.widget-view+json": {
       "model_id": "5aceb8b2dd784604b123b2acdcb43e54",
       "version_major": 2,
       "version_minor": 0
      },
      "text/plain": [
       "  0%|          | 0/18 [00:00<?, ?it/s]"
      ]
     },
     "metadata": {},
     "output_type": "display_data"
    },
    {
     "name": "stdout",
     "output_type": "stream",
     "text": [
      "PAIR 0 completed!!!\n",
      "----------\n",
      "PAIR = 1\n",
      "----------\n",
      "loading signals..\n",
      "Computing IAAFTs...\n"
     ]
    },
    {
     "data": {
      "application/vnd.jupyter.widget-view+json": {
       "model_id": "f01b68c4656346bfaeadc5e99f670b7c",
       "version_major": 2,
       "version_minor": 0
      },
      "text/plain": [
       "  0%|          | 0/249 [00:00<?, ?it/s]"
      ]
     },
     "metadata": {},
     "output_type": "display_data"
    },
    {
     "data": {
      "application/vnd.jupyter.widget-view+json": {
       "model_id": "49c6cb1c34b84707a20b38aa530add24",
       "version_major": 2,
       "version_minor": 0
      },
      "text/plain": [
       "  0%|          | 0/249 [00:00<?, ?it/s]"
      ]
     },
     "metadata": {},
     "output_type": "display_data"
    },
    {
     "name": "stdout",
     "output_type": "stream",
     "text": [
      "PAIR 1 completed!!!\n",
      "----------\n",
      "PAIR = 2\n",
      "----------\n",
      "loading signals..\n",
      "Computing IAAFTs...\n"
     ]
    },
    {
     "data": {
      "application/vnd.jupyter.widget-view+json": {
       "model_id": "d7c77c7cfce948bfa42e3d1a86a12465",
       "version_major": 2,
       "version_minor": 0
      },
      "text/plain": [
       "  0%|          | 0/249 [00:00<?, ?it/s]"
      ]
     },
     "metadata": {},
     "output_type": "display_data"
    },
    {
     "data": {
      "application/vnd.jupyter.widget-view+json": {
       "model_id": "6e638305af6e4c0789a5a57e0a939c06",
       "version_major": 2,
       "version_minor": 0
      },
      "text/plain": [
       "  0%|          | 0/249 [00:00<?, ?it/s]"
      ]
     },
     "metadata": {},
     "output_type": "display_data"
    },
    {
     "name": "stdout",
     "output_type": "stream",
     "text": [
      "Computing DeLASE...\n"
     ]
    },
    {
     "data": {
      "application/vnd.jupyter.widget-view+json": {
       "model_id": "6273ae51c8df47438bc7f0e4b6646809",
       "version_major": 2,
       "version_minor": 0
      },
      "text/plain": [
       "  0%|          | 0/18 [00:00<?, ?it/s]"
      ]
     },
     "metadata": {},
     "output_type": "display_data"
    },
    {
     "name": "stdout",
     "output_type": "stream",
     "text": [
      "PAIR 2 completed!!!\n",
      "----------\n",
      "PAIR = 3\n",
      "----------\n",
      "loading signals..\n",
      "Computing IAAFTs...\n"
     ]
    },
    {
     "data": {
      "application/vnd.jupyter.widget-view+json": {
       "model_id": "7e383b0ddb454e11ba2bbf7dd89c9ce4",
       "version_major": 2,
       "version_minor": 0
      },
      "text/plain": [
       "  0%|          | 0/249 [00:00<?, ?it/s]"
      ]
     },
     "metadata": {},
     "output_type": "display_data"
    },
    {
     "data": {
      "application/vnd.jupyter.widget-view+json": {
       "model_id": "8a3548b935114da0aa67da0213559cec",
       "version_major": 2,
       "version_minor": 0
      },
      "text/plain": [
       "  0%|          | 0/249 [00:00<?, ?it/s]"
      ]
     },
     "metadata": {},
     "output_type": "display_data"
    },
    {
     "name": "stdout",
     "output_type": "stream",
     "text": [
      "Computing DeLASE...\n"
     ]
    },
    {
     "data": {
      "application/vnd.jupyter.widget-view+json": {
       "model_id": "b11caac430da41dc9426e85db285b803",
       "version_major": 2,
       "version_minor": 0
      },
      "text/plain": [
       "  0%|          | 0/18 [00:00<?, ?it/s]"
      ]
     },
     "metadata": {},
     "output_type": "display_data"
    },
    {
     "name": "stdout",
     "output_type": "stream",
     "text": [
      "PAIR 3 completed!!!\n",
      "----------\n",
      "PAIR = 4\n",
      "----------\n",
      "loading signals..\n",
      "Computing IAAFTs...\n"
     ]
    },
    {
     "data": {
      "application/vnd.jupyter.widget-view+json": {
       "model_id": "c85d2f25160047b59a36c05696a37bd2",
       "version_major": 2,
       "version_minor": 0
      },
      "text/plain": [
       "  0%|          | 0/249 [00:00<?, ?it/s]"
      ]
     },
     "metadata": {},
     "output_type": "display_data"
    },
    {
     "data": {
      "application/vnd.jupyter.widget-view+json": {
       "model_id": "2aa51feb178e43fb9ca2097fc152e835",
       "version_major": 2,
       "version_minor": 0
      },
      "text/plain": [
       "  0%|          | 0/249 [00:00<?, ?it/s]"
      ]
     },
     "metadata": {},
     "output_type": "display_data"
    },
    {
     "name": "stderr",
     "output_type": "stream",
     "text": [
      "IOPub message rate exceeded.\n",
      "The notebook server will temporarily stop sending output\n",
      "to the client in order to avoid crashing it.\n",
      "To change this limit, set the config variable\n",
      "`--NotebookApp.iopub_msg_rate_limit`.\n",
      "\n",
      "Current values:\n",
      "NotebookApp.iopub_msg_rate_limit=1000.0 (msgs/sec)\n",
      "NotebookApp.rate_limit_window=3.0 (secs)\n",
      "\n"
     ]
    },
    {
     "name": "stdout",
     "output_type": "stream",
     "text": [
      "Computing DeLASE...\n"
     ]
    },
    {
     "data": {
      "application/vnd.jupyter.widget-view+json": {
       "model_id": "41f67ffaaa094f5ba595d24af1b540f4",
       "version_major": 2,
       "version_minor": 0
      },
      "text/plain": [
       "  0%|          | 0/18 [00:00<?, ?it/s]"
      ]
     },
     "metadata": {},
     "output_type": "display_data"
    },
    {
     "name": "stdout",
     "output_type": "stream",
     "text": [
      "PAIR 14 completed!!!\n",
      "----------\n",
      "PAIR = 15\n",
      "----------\n",
      "loading signals..\n",
      "Computing IAAFTs...\n"
     ]
    },
    {
     "data": {
      "application/vnd.jupyter.widget-view+json": {
       "model_id": "391d959723cd4ab1873bf550a97dabe5",
       "version_major": 2,
       "version_minor": 0
      },
      "text/plain": [
       "  0%|          | 0/249 [00:00<?, ?it/s]"
      ]
     },
     "metadata": {},
     "output_type": "display_data"
    }
   ],
   "source": [
    "for session in session_list:\n",
    "    print(\"-\"*30)\n",
    "    print(f'SESSION = {session}')\n",
    "    print(\"-\"*30)\n",
    "    norm_folder=\"NOT_NORMED\"\n",
    "    # -----------------------------------------\n",
    "    # LOAD DATA AND DIRECTORY\n",
    "    # -----------------------------------------\n",
    "    print(\"loading data...\")\n",
    "    all_data_dir = '/scratch2/weka/millerlab/eisenaj/datasets/anesthesia/mat'\n",
    "    data_class = get_data_class(session, all_data_dir)\n",
    "\n",
    "    os.environ[\"HDF5_USE_FILE_LOCKING\"] = \"FALSE\"\n",
    "    # variables = ['electrodeInfo', 'lfp', 'lfpSchema', 'sessionInfo', 'trialInfo', 'unitInfo']\n",
    "    # session_vars, T, N, dt = load_session_data(session, all_data_dir, variables, data_class=data_class, verbose=False)\n",
    "    # electrode_info, lfp, lfp_schema, session_info, trial_info, unit_info = session_vars['electrodeInfo'], session_vars['lfp'], session_vars['lfpSchema'], session_vars['sessionInfo'], session_vars['trialInfo'], session_vars['unitInfo']\n",
    "\n",
    "    variables = ['electrodeInfo', 'lfpSchema', 'sessionInfo', 'trialInfo', 'unitInfo']\n",
    "    session_vars, T, N, dt = load_session_data(session, all_data_dir, variables, data_class=data_class, verbose=False)\n",
    "    electrode_info, lfp_schema, session_info, trial_info, unit_info = session_vars['electrodeInfo'], session_vars['lfpSchema'], session_vars['sessionInfo'], session_vars['trialInfo'], session_vars['unitInfo']\n",
    "\n",
    "    eyes_close = session_info['eyesClose'][-1] if isinstance(session_info['eyesClose'], np.ndarray) else session_info['eyesClose'] \n",
    "    section_times = dict( \n",
    "            pre=(0, session_info['drugStart'][0]),\n",
    "            induction=(session_info['drugStart'][0], eyes_close),\n",
    "            during=(eyes_close, session_info['drugEnd'][1]),\n",
    "            post=(session_info['drugEnd'][1], T*dt)\n",
    "    )\n",
    "    sections = list(section_times.keys())\n",
    "    areas = np.unique(electrode_info['area'])\n",
    "\n",
    "    print(\"loading directory\")\n",
    "\n",
    "    chunked_folder = [f for f in os.listdir(os.path.join(all_data_dir, data_class)) if f.startswith(session) and 'chunked' in f]\n",
    "    if len(chunked_folder) == 0:\n",
    "        print(f\"Chunked folder for {session} not found in {os.path.join(all_data_dir, data_class)}\")\n",
    "    else:\n",
    "        chunked_folder = chunked_folder[0]\n",
    "\n",
    "    directory = pd.read_pickle(os.path.join(all_data_dir, data_class, chunked_folder, 'directory'))\n",
    "\n",
    "    print(\"directory loaded!\")\n",
    "\n",
    "    # -----------------------------------------\n",
    "    # LOAD GRID RESULTS\n",
    "    # -----------------------------------------\n",
    "\n",
    "    print(\"Loading grid search results...\")\n",
    "    \n",
    "    session_results = {}\n",
    "    session_results[session] = {}\n",
    "    # data_processing_df_grid = deepcopy(mp_args.data_processing_df)\n",
    "\n",
    "    grid_results_dir = '/scratch2/weka/millerlab/eisenaj/ChaoticConsciousness/grid_search_results'\n",
    "    areas = os.listdir(os.path.join(grid_results_dir, session, norm_folder))\n",
    "\n",
    "    for area in areas:\n",
    "        df = pd.DataFrame({'window': [], 'matrix_size': [], 'r': [], 'AICs': [], 'time_vals': [], 'file_paths': []}).set_index(['window', 'matrix_size', 'r'])\n",
    "        for f in os.listdir(os.path.join(grid_results_dir, session, norm_folder, area)):\n",
    "            t = float(f.split('_')[0])\n",
    "            file_path = os.path.join(grid_results_dir, session, norm_folder, area, f)\n",
    "            df_new = pd.DataFrame(pd.read_pickle(file_path))\n",
    "            if np.isnan(df_new.AIC).sum() > 0:\n",
    "                print(file_path)\n",
    "            df_new = df_new.set_index(['window', 'matrix_size', 'r'])\n",
    "            for i, row in df_new.iterrows():\n",
    "                if i in df.index:\n",
    "                    df.loc[i, 'AICs'].append(row.AIC)\n",
    "                    df.loc[i, 'time_vals'].append(t)\n",
    "                    df.loc[i, 'file_paths'].append(file_path)\n",
    "                else:\n",
    "                    df.loc[i] = {'AICs': [row.AIC], 'time_vals': [t], 'file_paths': [file_path]}\n",
    "\n",
    "        df = df.loc[df.index.sortlevel()[0]]\n",
    "        session_results[session][area] = df\n",
    "\n",
    "    print(\"Grid search results loaded!\")\n",
    "\n",
    "    # ================\n",
    "    # INDIVIDUAL AREAS\n",
    "    # ================ \n",
    "    window_ind, matrix_size_ind, r_ind, all_results = combine_grid_results({key: result for key, result in session_results[session].items() if key !='all'})\n",
    "\n",
    "    # ================\n",
    "    # ALL AREAS\n",
    "    # ================ \n",
    "    if 'all' in session_results[session].keys():\n",
    "        window_all, matrix_size_all, r_all, all_results_all = combine_grid_results({key: result for key, result in session_results[session].items() if key =='all'})\n",
    "    \n",
    "    # ================\n",
    "    # SURROGATE ANALYSIS\n",
    "    # ================ \n",
    "    \n",
    "    wake_bounds = (3*60, session_info['drugStart'][0] - 3*60)\n",
    "    anesthesia_bounds = (session_info['drugStart'][0] + 15*60, session_info['drugEnd'][1] - 15*60)\n",
    "    \n",
    "    print(\"Now computing all pairs for session:\")\n",
    "    iterator = tqdm(total=len(areas)*num_pairs)\n",
    "    \n",
    "    for area in areas:\n",
    "        print(\"-\"*20)\n",
    "        print(f\"AREA = {area}\")\n",
    "        print(\"-\"*20)\n",
    "        area_dir = os.path.join(save_dir, session, area)\n",
    "        os.makedirs(area_dir, exist_ok=True)\n",
    "\n",
    "        if area == 'all':\n",
    "            electrode_indices = np.arange(len(electrode_info['area']))\n",
    "            window, matrix_size, r = window_ind, matrix_size_ind, r_ind\n",
    "        else:\n",
    "            electrode_indices = np.where(electrode_info['area'] == area)[0]\n",
    "            window, matrix_size, r = window_all, matrix_size_all, r_all\n",
    "\n",
    "        for pair_num in range(num_pairs):\n",
    "            \n",
    "            print(\"-\"*10)\n",
    "            print(f\"PAIR = {pair_num}\")\n",
    "            print(\"-\"*10)\n",
    "\n",
    "            wake_start = np.random.uniform(wake_bounds[0], wake_bounds[1])\n",
    "            anesthesia_start = np.random.uniform(anesthesia_bounds[0], anesthesia_bounds[1])\n",
    "\n",
    "            signals = {}\n",
    "\n",
    "            print(\"loading signals..\")\n",
    "            signals['wake'] = load_window_from_chunks(wake_start, wake_start + window*dt, directory, dimension_inds=electrode_indices)\n",
    "            signals['anesthesia'] = load_window_from_chunks(anesthesia_start, anesthesia_start + window*dt, directory, dimension_inds=electrode_indices)\n",
    "\n",
    "            \n",
    "            signals['wake_phase_swapped'], signals['anesthesia_phase_swapped'] = swap_phase(signals['wake'], signals['anesthesia'])\n",
    "            \n",
    "            print(\"Computing IAAFTs...\")\n",
    "            signals['wake_iaaft'] = gen_surrogate(signals['wake'])\n",
    "            signals['anesthesia_iaaft'] = gen_surrogate(signals['anesthesia'])\n",
    "\n",
    "            band_info = dict(\n",
    "                delta=(1, 4),\n",
    "                theta=(4, 8),\n",
    "                alpha=(8, 13),\n",
    "                beta=(13, 30),\n",
    "                gamma=(30, 80),\n",
    "                high_gamma=(80, 130)\n",
    "            )\n",
    "            # https://www.nature.com/articles/s41598-022-04957-x\n",
    "            for band, bounds in band_info.items(): \n",
    "                signals[f'wake_{band}'] = butter_bandpass_filter(signals['wake'], bounds[0], bounds[1], 1/dt, order=1)\n",
    "                signals[f'anesthesia_{band}'] = butter_bandpass_filter(signals['anesthesia'], bounds[0], bounds[1], 1/dt, order=1)\n",
    "\n",
    "            print(\"Computing DeLASE...\")\n",
    "            stab_rets = {}\n",
    "            for key, signal in tqdm(signals.items()):\n",
    "                delase = DeLASE(signal, matrix_size=matrix_size, dt=dt, use_torch=use_torch, device=device)\n",
    "                delase.compute_havok_dmd(r=r)\n",
    "                delase.get_stability(max_freq=500, max_unstable_freq=125)\n",
    "                stab_rets[key] = {\n",
    "                                    'stability_params': numpy_torch_conversion(delase.stability_params, use_torch=False),\n",
    "                                    'stability_freqs': numpy_torch_conversion(delase.stability_freqs, use_torch=False)\n",
    "                                 }\n",
    "\n",
    "            stab_rets['wake_amp_swapped'] = stab_rets['anesthesia_phase_swapped']\n",
    "            stab_rets['anesthesia_amp_swapped'] = stab_rets['wake_phase_swapped']\n",
    "            \n",
    "            ret = dict(\n",
    "                signals=signals,\n",
    "                stab_rets=stab_rets,\n",
    "                wake_start=wake_start,\n",
    "                anesthesia_start=anesthesia_start\n",
    "                \n",
    "            )\n",
    "            \n",
    "            pd.to_pickle(ret, os.path.join(area_dir, f\"PAIR_{pair_num}\"))\n",
    "            \n",
    "            print(f\"PAIR {pair_num} completed!!!\")\n",
    "            \n",
    "            iterator.update()\n",
    "    iterator.close()\n",
    "            "
   ]
  },
  {
   "cell_type": "markdown",
   "id": "d497dede",
   "metadata": {},
   "source": [
    "# PLOTTING"
   ]
  },
  {
   "cell_type": "code",
   "execution_count": 14,
   "id": "e56ca119",
   "metadata": {},
   "outputs": [],
   "source": [
    "band_info = dict(\n",
    "    delta=(1, 4),\n",
    "    theta=(4, 8),\n",
    "    alpha=(8, 13),\n",
    "    beta=(13, 30),\n",
    "    gamma=(30, 80),\n",
    "    high_gamma=(80, 130)\n",
    ")"
   ]
  },
  {
   "cell_type": "code",
   "execution_count": 21,
   "id": "3e29c071",
   "metadata": {},
   "outputs": [],
   "source": [
    "save_dir = '/scratch2/weka/millerlab/eisenaj/ChaoticConsciousness/surrogate_testing'"
   ]
  },
  {
   "cell_type": "code",
   "execution_count": 22,
   "id": "612ecbae",
   "metadata": {},
   "outputs": [
    {
     "data": {
      "application/vnd.jupyter.widget-view+json": {
       "model_id": "e3181b0d71bc497dbb0d40f2528a16f0",
       "version_major": 2,
       "version_minor": 0
      },
      "text/plain": [
       "  0%|          | 0/200 [00:00<?, ?it/s]"
      ]
     },
     "metadata": {},
     "output_type": "display_data"
    }
   ],
   "source": [
    "total_its = 0\n",
    "for session in os.listdir(save_dir):\n",
    "    for area in os.listdir(os.path.join(save_dir, session)):\n",
    "        total_its += len(os.listdir(os.path.join(save_dir, session, area)))\n",
    "        \n",
    "iterator = tqdm(total=total_its)\n",
    "\n",
    "session_rets = {}\n",
    "for session in os.listdir(save_dir):\n",
    "    session_rets[session] = {}\n",
    "    for area in os.listdir(os.path.join(save_dir, session)):\n",
    "        session_rets[session][area] = []\n",
    "        for f in os.listdir(os.path.join(save_dir, session, area)):\n",
    "            session_rets[session][area].append(pd.read_pickle(os.path.join(save_dir, session, area, f))['stab_rets'])\n",
    "            iterator.update()\n",
    "iterator.close()"
   ]
  },
  {
   "cell_type": "code",
   "execution_count": 56,
   "id": "d1adb4f4",
   "metadata": {},
   "outputs": [],
   "source": [
    "top_percent = 0.1"
   ]
  },
  {
   "cell_type": "code",
   "execution_count": 57,
   "id": "1395ca4e",
   "metadata": {},
   "outputs": [],
   "source": [
    "key_list = list(session_rets[session][area][0].keys())\n",
    "key_list.sort()\n",
    "key_list = key_list[int(len(key_list)/2):] + key_list[:int(len(key_list)/2)]"
   ]
  },
  {
   "cell_type": "code",
   "execution_count": 58,
   "id": "a3640f68",
   "metadata": {},
   "outputs": [],
   "source": [
    "mean_stab = {}\n",
    "mean_stab_count = {}\n",
    "for session in session_rets.keys():\n",
    "    mean_stab[session] = {}\n",
    "    mean_stab_count[session] = {}\n",
    "    for area in session_rets[session].keys():\n",
    "        mean_stab[session][area] = {}\n",
    "        mean_stab_count[session][area] = {}\n",
    "        for key in key_list:\n",
    "            mean_stab[session][area][key] = 0\n",
    "            mean_stab_count[session][area][key] = 0\n",
    "            for ret in session_rets[session][area]:\n",
    "                mean_stab[session][area][key] += ret[key]['stability_params'][:int(top_percent*len(ret[key]['stability_params']))].sum()\n",
    "                mean_stab_count[session][area][key] += int(top_percent*len(ret[key]['stability_params']))\n",
    "        \n",
    "            mean_stab[session][area][key] /= mean_stab_count[sesion][area][key]"
   ]
  },
  {
   "cell_type": "code",
   "execution_count": 62,
   "id": "d24ef80b",
   "metadata": {},
   "outputs": [],
   "source": [
    "se_stab = {}\n",
    "se_stab_count = {}\n",
    "for session in session_rets.keys():\n",
    "    se_stab[session] = {}\n",
    "    se_stab_count[session] = {}\n",
    "    for area in session_rets[session].keys():\n",
    "        se_stab[session][area] = {}\n",
    "        se_stab_count[session][area] = {}\n",
    "        for key in key_list:\n",
    "            se_stab[session][area][key] = 0\n",
    "            se_stab_count[session][area][key] = 0\n",
    "            for ret in session_rets[session][area]:\n",
    "                se_stab[session][area][key] += ((ret[key]['stability_params'][:int(top_percent*len(ret[key]['stability_params']))] - mean_stab[session][area][key])**2).sum()\n",
    "                se_stab_count[session][area][key] += int(top_percent*len(ret[key]['stability_params']))\n",
    "        \n",
    "            se_stab[session][area][key] /= se_stab_count[sesion][area][key]\n",
    "            se_stab[session][area][key] = np.sqrt(se_stab[session][area][key])\n",
    "            se_stab[session][area][key] /= np.sqrt(se_stab_count[sesion][area][key])"
   ]
  },
  {
   "cell_type": "code",
   "execution_count": 65,
   "id": "6b83f7bb",
   "metadata": {},
   "outputs": [],
   "source": [
    "labels = ['original', 'phase', 'amplitude']"
   ]
  },
  {
   "cell_type": "code",
   "execution_count": 68,
   "id": "6e7a67ed",
   "metadata": {},
   "outputs": [
    {
     "data": {
      "image/png": "[encoded data removed]",
      "text/plain": [
       "<Figure size 3000x500 with 20 Axes>"
      ]
     },
     "metadata": {},
     "output_type": "display_data"
    }
   ],
   "source": [
    "fig, axs = plt.subplots(2, 10, figsize=(30, 5))\n",
    "\n",
    "for i, session in enumerate(mean_stab.keys()):\n",
    "    for j, area in enumerate(mean_stab[session].keys()):\n",
    "        ax = axs[i][2*j]\n",
    "        for band in band_info.keys():\n",
    "            key = 'wake_' + band\n",
    "            ax.bar(band, mean_stab[session][area][key], yerr=se_stab[sesion][area][key])\n",
    "            ax.set_title('Awake')\n",
    "            \n",
    "        ax = axs[i][2*j + 1]\n",
    "        for band in band_info.keys():\n",
    "            key = 'anesthesia_' + band\n",
    "            ax.bar(band, mean_stab[session][area][key], yerr=se_stab[sesion][area][key])\n",
    "            ax.set_title('Unconscious')\n",
    "plt.tight_layout()"
   ]
  },
  {
   "cell_type": "code",
   "execution_count": 66,
   "id": "35b7cef6",
   "metadata": {},
   "outputs": [
    {
     "data": {
      "image/png": "[encoded data removed]",
      "text/plain": [
       "<Figure size 3000x500 with 20 Axes>"
      ]
     },
     "metadata": {},
     "output_type": "display_data"
    }
   ],
   "source": [
    "fig, axs = plt.subplots(2, 10, figsize=(30, 5))\n",
    "\n",
    "for i, session in enumerate(mean_stab.keys()):\n",
    "    for j, area in enumerate(mean_stab[session].keys()):\n",
    "        ax = axs[i][2*j]\n",
    "        for k, key in enumerate(['wake', 'wake_phase_swapped', 'wake_amp_swapped']):\n",
    "            ax.bar(labels[k], mean_stab[session][area][key], yerr=se_stab[sesion][area][key])\n",
    "            ax.set_title('Awake')\n",
    "            \n",
    "        ax = axs[i][2*j + 1]\n",
    "        for k, key in enumerate(['anesthesia', 'anesthesia_phase_swapped', 'anesthesia_amp_swapped']):\n",
    "            ax.bar(labels[k], mean_stab[session][area][key], yerr=se_stab[sesion][area][key])\n",
    "            ax.set_title('Unconscious')\n",
    "plt.tight_layout()"
   ]
  },
  {
   "cell_type": "code",
   "execution_count": 55,
   "id": "38a5bd5c",
   "metadata": {},
   "outputs": [
    {
     "data": {
      "image/png": "[encoded data removed]",
      "text/plain": [
       "<Figure size 2800x500 with 6 Axes>"
      ]
     },
     "metadata": {},
     "output_type": "display_data"
    }
   ],
   "source": [
    "fig, axs = plt.subplots(1, len(band_info), figsize=(28, 5))\n",
    "for i, band in enumerate(band_info.keys()):\n",
    "    ax = axs[i]\n",
    "    key = f'wake_{band}'\n",
    "    vals = stab_rets[key]['stability_params'][:int(top_percent*len(stab_rets[key]['stability_params']))]\n",
    "    ax.bar('wake', vals.mean(), yerr=vals.std()/np.sqrt(len(vals)))\n",
    "    \n",
    "    key = f'anesthesia_{band}'\n",
    "    vals = stab_rets[key]['stability_params'][:int(top_percent*len(stab_rets[key]['stability_params']))]\n",
    "    ax.bar('anesthesia', vals.mean(), yerr=vals.std()/np.sqrt(len(vals)))\n",
    "    \n",
    "    ax.set_title(band, fontsize=20)\n",
    "    ax.set_ylabel('Instability')"
   ]
  },
  {
   "cell_type": "code",
   "execution_count": 352,
   "id": "b5915bbc",
   "metadata": {},
   "outputs": [
    {
     "data": {
      "image/png": "[encoded data removed]",
      "text/plain": [
       "<Figure size 2500x500 with 1 Axes>"
      ]
     },
     "metadata": {},
     "output_type": "display_data"
    }
   ],
   "source": [
    "plt.figure(figsize=(25, 5))\n",
    "ax = plt.gca()\n",
    "for key in key_list:\n",
    "    vals = stab_rets[key]['stability_params'][:int(top_percent*len(stab_rets[key]['stability_params']))]\n",
    "    #     plt.plot(vals, label=key)\n",
    "    ax.bar(key, vals.mean(), yerr=vals.std()/np.sqrt(len(vals)))\n",
    "ax.tick_params(labelsize=8)\n",
    "# plt.legend()"
   ]
  },
  {
   "cell_type": "code",
   "execution_count": 324,
   "id": "f49ac641",
   "metadata": {},
   "outputs": [
    {
     "data": {
      "text/plain": [
       "<matplotlib.collections.PathCollection at 0x2b53ce00ea90>"
      ]
     },
     "execution_count": 324,
     "metadata": {},
     "output_type": "execute_result"
    },
    {
     "data": {
      "image/png": "[encoded data removed]",
      "text/plain": [
       "<Figure size 640x480 with 1 Axes>"
      ]
     },
     "metadata": {},
     "output_type": "display_data"
    }
   ],
   "source": [
    "plt.scatter(stab_rets['wake_high_gamma']['stability_params'][:100], stab_rets['wake_high_gamma']['stability_freqs'][:100])"
   ]
  },
  {
   "cell_type": "code",
   "execution_count": 322,
   "id": "700cb40b",
   "metadata": {},
   "outputs": [
    {
     "data": {
      "text/plain": [
       "[<matplotlib.lines.Line2D at 0x2b53cdf92250>]"
      ]
     },
     "execution_count": 322,
     "metadata": {},
     "output_type": "execute_result"
    },
    {
     "data": {
      "image/png": "[encoded data removed]",
      "text/plain": [
       "<Figure size 640x480 with 1 Axes>"
      ]
     },
     "metadata": {},
     "output_type": "display_data"
    }
   ],
   "source": [
    "plt.plot(stab_rets['wake_high_gamma']['stability_params'][:100])"
   ]
  },
  {
   "cell_type": "markdown",
   "id": "f86a55e1",
   "metadata": {},
   "source": [
    "### Temp"
   ]
  },
  {
   "cell_type": "code",
   "execution_count": null,
   "id": "7c5977b1",
   "metadata": {},
   "outputs": [],
   "source": [
    "fft_vals = 10*np.log10(np.abs(np.fft.rfft(signals['anesthesia'][:, 0])))\n",
    "fft_vals2 = 10*np.log10(np.abs(np.fft.rfft(sig[:, 0])))\n",
    "freq = np.fft.rfftfreq(len(fft_vals)*2 - 1, dt)\n",
    "freq_inds = np.logical_and(freq >= min_freq, freq <= max_freq)\n",
    "sig.max() > 1e5\n",
    "plt.plot(freq[freq_inds], fft_vals[freq_inds])\n",
    "plt.plot(freq[freq_inds], fft_vals2[freq_inds])\n",
    "plt.axvline(bounds[0], linestyle='--', c='k')\n",
    "plt.axvline(bounds[1], linestyle='--', c='k')"
   ]
  }
 ],
 "metadata": {
  "kernelspec": {
   "display_name": "Python 3 (ipykernel)",
   "language": "python",
   "name": "python3"
  },
  "language_info": {
   "codemirror_mode": {
    "name": "ipython",
    "version": 3
   },
   "file_extension": ".py",
   "mimetype": "text/x-python",
   "name": "python",
   "nbconvert_exporter": "python",
   "pygments_lexer": "ipython3",
   "version": "3.9.1"
  }
 },
 "nbformat": 4,
 "nbformat_minor": 5
}
