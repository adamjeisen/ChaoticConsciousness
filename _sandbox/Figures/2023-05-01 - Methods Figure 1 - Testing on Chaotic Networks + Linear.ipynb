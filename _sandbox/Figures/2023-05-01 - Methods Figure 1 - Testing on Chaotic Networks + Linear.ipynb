{
 "cells": [
  {
   "cell_type": "code",
   "execution_count": 1,
   "id": "8a49507d",
   "metadata": {},
   "outputs": [],
   "source": [
    "%load_ext autoreload"
   ]
  },
  {
   "cell_type": "code",
   "execution_count": 3,
   "id": "3e2872e2",
   "metadata": {},
   "outputs": [],
   "source": [
    "%autoreload 2\n",
    "\n",
    "import argparse\n",
    "from copy import deepcopy\n",
    "import logging\n",
    "from matplotlib.cm import get_cmap, ScalarMappable\n",
    "from matplotlib.colors import Normalize\n",
    "import matplotlib.pyplot as plt\n",
    "import pandas as pd\n",
    "import scipy\n",
    "from sklearn.metrics import r2_score\n",
    "import sys\n",
    "import torch\n",
    "\n",
    "sys.path.append('../..')\n",
    "from data_utils import *\n",
    "\n",
    "sys.path.append('/om2/user/eisenaj/code/DeLASE')\n",
    "from delase import *\n",
    "from parameter_choosing import *\n",
    "from performance_metrics import *\n",
    "from plot import *"
   ]
  },
  {
   "cell_type": "markdown",
   "id": "a760f350",
   "metadata": {},
   "source": [
    "# Load Data"
   ]
  },
  {
   "cell_type": "code",
   "execution_count": 4,
   "id": "b5acbbd3",
   "metadata": {},
   "outputs": [],
   "source": [
    "chaotic_net_path = \"/scratch2/weka/millerlab/eisenaj/DynamicalTrajectories/chaotic_net_data\"\n",
    "\n",
    "W = pd.read_pickle(os.path.join(chaotic_net_path, \"W.pkl\"))\n",
    "lyaps = pd.read_pickle(os.path.join(chaotic_net_path, \"lyaps_long.pkl\"))\n",
    "full_signals = pd.read_pickle(os.path.join(chaotic_net_path, \"chaotic_net_signals_long.pkl\"))"
   ]
  },
  {
   "cell_type": "code",
   "execution_count": 5,
   "id": "da6d8973",
   "metadata": {},
   "outputs": [],
   "source": [
    "N = list(full_signals.values())[0].shape[2]\n",
    "T = list(full_signals.values())[0].shape[1]\n",
    "dt = 0.01\n",
    "tau = 0.1"
   ]
  },
  {
   "cell_type": "code",
   "execution_count": 6,
   "id": "c72a4781",
   "metadata": {},
   "outputs": [],
   "source": [
    "save_dir = '/scratch2/weka/millerlab/eisenaj/ChaoticConsciousness/chaotic_nets_multirun'"
   ]
  },
  {
   "cell_type": "code",
   "execution_count": 13,
   "id": "c54a0cba",
   "metadata": {},
   "outputs": [],
   "source": [
    "# num_runs = 10\n",
    "\n",
    "# g_vals = list(full_signals.keys())\n",
    "# W_vals = np.zeros((num_runs, N, N))\n",
    "\n",
    "# # for g in g_vals:\n",
    "\n",
    "# t_span = [0, T*dt]\n",
    "# t_eval = np.arange(t_span[0], t_span[1], dt)\n",
    "\n",
    "# run_rets = []\n",
    "\n",
    "# for i in range(num_runs):\n",
    "#     print(\"=\"*40)\n",
    "#     print(f\"RUN {i}\")\n",
    "#     print(\"=\"*40)\n",
    "#     W = np.random.randn(N, N)/np.sqrt(N)\n",
    "#     W_vals[i] = W\n",
    "#     signals = {}\n",
    "#     print(\"Simulating signals...\")\n",
    "#     for g in tqdm(g_vals):\n",
    "#         x0 = np.random.randn(N)\n",
    "#         sol = scipy.integrate.solve_ivp(lambda t, x: rnn(t, x, W=W, tau=tau, g=g), t_span=t_span, t_eval=t_eval, y0=x0)\n",
    "#         signals[g] = sol.y.T\n",
    "    \n",
    "#     print(\"Signals are simulated!\")\n",
    "    \n",
    "#     lyaps = {}\n",
    "#     for key, signal in signals.items():\n",
    "#         print(\"-\"*20)\n",
    "#         print(f\"g = {key}\")\n",
    "#         print(\"-\"*20)\n",
    "#         Js = np.zeros((signal.shape[0], N, N))\n",
    "#         batch_size = 500\n",
    "#         num_batches = int(np.ceil(signal.shape[0]/batch_size))\n",
    "#         print(\"Computing Jacobians..\")\n",
    "#         for batch_num in tqdm(range(num_batches)):\n",
    "#             start_ind = batch_num*batch_size\n",
    "#             end_ind = np.min([(batch_num + 1)*batch_size, signal.shape[0]])\n",
    "#             Js[start_ind:end_ind] = rnn_jacobian(signal[start_ind:end_ind], W, tau, dt, N, use_torch=True, device='cuda').cpu().numpy()\n",
    "#         print(\"Computing Lyaps...\")\n",
    "#         lyaps[key] = compute_lyaps(Js, dt, verbose=True)\n",
    "#     ret = dict(\n",
    "#         W=W,\n",
    "#         dt=dt,\n",
    "#         tau=tau,\n",
    "#         signals=signals,\n",
    "#         lyaps=lyaps\n",
    "#     )\n",
    "#     pd.to_pickle(ret, os.path.join(save_dir, f\"RUN_{i}\"))"
   ]
  },
  {
   "cell_type": "code",
   "execution_count": 14,
   "id": "576a6b45",
   "metadata": {},
   "outputs": [],
   "source": [
    "# mp_args = dict(\n",
    "#     # ----------------------\n",
    "#     # MULTIPROCESSING ARGUMENTS\n",
    "#     # ----------------------\n",
    "#     USE_TORCH=False,\n",
    "#     USE_CUDA=False,\n",
    "#     DTYPE='torch.DoubleTensor',\n",
    "#     NUM_WORKERS=3,\n",
    "# #     NUM_WORKERS=4,\n",
    "#     USE_LOGGING=True,\n",
    "#     LOG_DIR=\"/om2/user/eisenaj/code/shell_scripts/chaotic\",\n",
    "#     LOG_NAME='mp_chaotic',\n",
    "#     LOG_LEVEL=logging.DEBUG,\n",
    "#     RESULTS_DIR='/scratch2/weka/millerlab/eisenaj/ChaoticConsciousness/chaotic_nets_multirun',\n",
    "    \n",
    "#     # ==========================\n",
    "#     # CHAOTIC NET ARGUMENTS\n",
    "#     # ==========================\n",
    "#     dt=dt,\n",
    "#     tau=tau,\n",
    "#     N=N,\n",
    "#     T=T,\n",
    "#     batch_size=500,\n",
    "#     num_batches=int(np.ceil(T/batch_size)),\n",
    "#     g_vals=g_vals,\n",
    "#     num_runs=18,\n",
    "# )\n",
    "# data_processing_args_dir = \"/scratch2/weka/millerlab/eisenaj/ChaoticConsciousness/data_processing_args\"\n",
    "# data_processing_path = os.path.join(data_processing_args_dir, \"chaotic_multirun_args\")\n",
    "# pd.to_pickle(mp_args, data_processing_path)\n",
    "# mp_args = argparse.Namespace(**mp_args)"
   ]
  },
  {
   "cell_type": "code",
   "execution_count": null,
   "id": "f1beef5e",
   "metadata": {},
   "outputs": [],
   "source": [
    "if not mp_args.USE_CUDA:\n",
    "    os.system(f\"sbatch --gres=gpu:0 --ntasks=1 --cpus-per-task={int(mp_args.NUM_WORKERS) + 2} --mem={int(mp_args.NUM_WORKERS*100) + 10}GB /om2/user/eisenaj/code/shell_scripts/chaotic/mp_chaotic.sh {data_processing_path}\")\n",
    "else:\n",
    "    os.system(f\"sbatch --gres=gpu:{mp_args.NUM_WORKERS} /om2/user/eisenaj/code/shell_scripts/DeLASE/mp_delase.sh {data_processing_path}\")"
   ]
  },
  {
   "cell_type": "code",
   "execution_count": null,
   "id": "914f53cf",
   "metadata": {},
   "outputs": [],
   "source": [
    "os.system(\"squeue -u eisenaj\")"
   ]
  },
  {
   "cell_type": "code",
   "execution_count": 101,
   "id": "c0b4c753",
   "metadata": {},
   "outputs": [
    {
     "data": {
      "text/plain": [
       "0"
      ]
     },
     "execution_count": 101,
     "metadata": {},
     "output_type": "execute_result"
    }
   ],
   "source": [
    "os.system(\"scancel 30533918\")"
   ]
  },
  {
   "cell_type": "markdown",
   "id": "075aae92",
   "metadata": {},
   "source": [
    "# Linear Systems"
   ]
  },
  {
   "cell_type": "code",
   "execution_count": 7,
   "id": "acb2f8b7",
   "metadata": {},
   "outputs": [],
   "source": [
    "def set_smallest_eigenvalue_real_part(A,lam):\n",
    "\n",
    "    #lam is the desired maximum eigenvalue\n",
    "    assert lam < 0, print('Eigenvalue must be negative')\n",
    "\n",
    "    #get current eigenvalues\n",
    "    e,v = np.linalg.eig(A)\n",
    "    largest_eig = np.max(np.real(e))\n",
    "    I = np.eye(len(e))\n",
    "  \n",
    "    #return scaled \n",
    "    return A - largest_eig*I + lam*I\n",
    "\n",
    "def do_one_sde_run(n, lam_awake, lam_anesthesia, awake = 1, random_seed=42):\n",
    "\n",
    "    np.random.seed(random_seed)\n",
    "\n",
    "    A = np.random.normal(0,1/np.sqrt(n),(n,n))\n",
    "\n",
    "    if awake == 1:\n",
    "        #pick the stability parameter\n",
    "        lam = lam_awake\n",
    "\n",
    "        # Define the Weiner process    \n",
    "        dW = np.sqrt(dt) * np.random.randn(N,n)\n",
    "\n",
    "        #define systems matrix\n",
    "        A_awake = set_smallest_eigenvalue_real_part(A,lam)\n",
    "\n",
    "    else:\n",
    "\n",
    "        lam = lam_anesthesia\n",
    "\n",
    "        dW = np.sqrt(dt) * np.random.randn(N,n)\n",
    "\n",
    "        A_anesthesia = set_smallest_eigenvalue_real_part(A,lam)\n",
    "\n",
    "\n",
    "    # Define the function f(x)\n",
    "    def f(x,lam):\n",
    "        if awake == 1:\n",
    "            return A_awake @ x\n",
    "        else:\n",
    "            return A_anesthesia @ x\n",
    "\n",
    "\n",
    "    # Define the function g(x)\n",
    "    def g(x):\n",
    "        return 1\n",
    "\n",
    "    # Initialize the x array\n",
    "    x = np.zeros((N,n))\n",
    "    x[0] = np.zeros(n)\n",
    "\n",
    "    # Simulate the stochastic differential equation\n",
    "    for i in range(1, N):\n",
    "        x[i] = x[i-1] + f(x[i-1],lam) * dt + g(x[i-1]) * dW[i]\n",
    "\n",
    "    return x"
   ]
  },
  {
   "cell_type": "code",
   "execution_count": 8,
   "id": "dd50c4bc",
   "metadata": {},
   "outputs": [],
   "source": [
    "use_torch=True\n",
    "device = 'cuda'"
   ]
  },
  {
   "cell_type": "code",
   "execution_count": 9,
   "id": "014b9cac",
   "metadata": {},
   "outputs": [],
   "source": [
    "NUM_RUNS = 20\n",
    "save_dir = '/scratch2/weka/millerlab/eisenaj/ChaoticConsciousness/linear_noise_multirun'"
   ]
  },
  {
   "cell_type": "code",
   "execution_count": 20,
   "id": "c4e180f1",
   "metadata": {},
   "outputs": [],
   "source": [
    "# Define the parameters\n",
    "# N = int(1e5)\n",
    "N = 20000\n",
    "n = 100\n",
    "T = 40.0\n",
    "dt = T / N\n",
    "x0 = 0.0\n",
    "\n",
    "lams = [-1, -0.9, -0.8, -0.7, -0.6, -0.5, -0.4, -0.3, -0.2, -0.1]\n",
    "\n",
    "parameter_grid = ParameterGrid(\n",
    "    window_vals=np.array([10000]),\n",
    "    matrix_size_vals=np.array([10, 20, 50, 100, 200, 300, 500, 750, 1000]),\n",
    "    r_vals=np.array([3, 5, 10, 25, 50, 75, 100, 125, 150, 200, 250, 300, 350, 400, 450, 500, 550, 600, 650, 700, 750, 800, 900, 1000])\n",
    ")\n",
    "\n",
    "\n",
    "prediction_time = 5000\n",
    "transient = 2000\n",
    "\n",
    "num_samples = 10\n",
    "\n",
    "for i in range(NUM_RUNS):\n",
    "    if not os.path.exists(os.path.join(save_dir, f\"RUN_{i}\")):\n",
    "        print(\"=\"*40)\n",
    "        print(f\"RUN {i}\")\n",
    "        print(\"=\"*40)\n",
    "\n",
    "        print(\"Simulating...\")\n",
    "        trajs = {}\n",
    "        for lam in lams:\n",
    "            x_1 = do_one_sde_run(n, lam_awake = lam, lam_anesthesia = 0, awake = 1, random_seed=42 + i)\n",
    "            trajs[lam] = x_1\n",
    "        #         plt.plot(np.linspace(0, T, N), x_1[:,0], label = f'$\\lambda_1(A) = {lam}$')\n",
    "        #     plt.legend()\n",
    "        #     plt.show()\n",
    "        indices = np.random.choice(np.arange(n), num_samples, replace=False)\n",
    "        for key in trajs.keys():\n",
    "            trajs[key] = trajs[key][:, indices]\n",
    "        print(\"Simulated!\")\n",
    "\n",
    "        signals = trajs\n",
    "\n",
    "        mean_stab_curve = True\n",
    "        true_vals = lams\n",
    "        keys = np.array(lams)\n",
    "        key_inds = np.arange(len(lams))\n",
    "\n",
    "        print(\"Computing DeLASE...\")\n",
    "        results = []\n",
    "        iterator = tqdm(total=len(parameter_grid.window_vals)*len(parameter_grid.matrix_size_vals)*len(parameter_grid.r_vals))\n",
    "        for window in parameter_grid.window_vals:\n",
    "            for matrix_size in parameter_grid.matrix_size_vals:\n",
    "                delases = {}\n",
    "                exp_variances = {}\n",
    "        #         train_signals = []\n",
    "                test_signals = {}\n",
    "                for key, signal in signals.items():\n",
    "                    train_signal = signal[transient:transient + window]\n",
    "                    test_signal = signal[transient + window:transient + window + prediction_time]\n",
    "                    delase = DeLASE(train_signal, matrix_size=matrix_size, dt=dt, use_torch=use_torch, device=device, dtype='torch.DoubleTensor')\n",
    "                    delase.to('cpu')\n",
    "                    if use_torch:\n",
    "                        exp_variances[key] = delase.cumulative_explained_variance.cpu().double()\n",
    "                    else:\n",
    "                        exp_variances[key] = delase.cumulative_explained_variance\n",
    "                    delases[key] = delase\n",
    "        #             train_signals.append(train_signal)\n",
    "                    test_signals[key] = test_signal\n",
    "                for r in parameter_grid.r_vals:\n",
    "                    if r <= np.min([delase.n*delase.p for delase in delases.values()]):\n",
    "                        stab_curves = {}\n",
    "                        AICs = {}\n",
    "                        for key, delase in delases.items():\n",
    "                            delase.to('cuda')\n",
    "                            delase.compute_havok_dmd(r=r)\n",
    "                            delase.get_stability(max_freq=500, max_unstable_freq=125)\n",
    "\n",
    "                            AICs[key] = compute_AIC(delase, test_signals[key])\n",
    "                            if use_torch:\n",
    "                                stab_curves[key] = delase.stability_params.cpu()\n",
    "                            else:\n",
    "                                stab_curves[key] = delase.stability_params\n",
    "\n",
    "                        if use_torch:\n",
    "                            exp_variances = np.array([delase.cumulative_explained_variance[r-1].cpu().numpy() for delase in delases.values()])\n",
    "                        else:\n",
    "                            exp_variances = np.array([delase.cumulative_explained_variance[r-1] for delase in delases.values()])\n",
    "\n",
    "                        results.append(dict(\n",
    "                            window=window,\n",
    "                            matrix_size=matrix_size,\n",
    "                            r=r,\n",
    "                            exp_variances=exp_variances,\n",
    "                            AICs=AICs,\n",
    "                            stab_curves=stab_curves,\n",
    "                        ))\n",
    "\n",
    "                    iterator.update()\n",
    "        iterator.close()\n",
    "\n",
    "        results = pd.DataFrame(results)\n",
    "        results_dict = {}\n",
    "        for key in lams:\n",
    "            ret_temp = results.copy()\n",
    "            ret_temp = ret_temp.drop('AICs', axis=1)\n",
    "            ret_temp = ret_temp.drop('stab_curves', axis=1)\n",
    "            ret_temp = ret_temp.drop('exp_variances', axis=1)\n",
    "            ret_temp['AIC'] = results.AICs.apply(lambda x: x[key])\n",
    "            ret_temp['stab_curves'] = results.stab_curves.apply(lambda x: x[key])\n",
    "            ret_temp = ret_temp.set_index((['window', 'matrix_size', 'r']))\n",
    "            results_dict[key] = ret_temp\n",
    "\n",
    "\n",
    "        pd.to_pickle(results_dict, os.path.join(save_dir, f\"RUN_{i}\"))"
   ]
  },
  {
   "cell_type": "markdown",
   "id": "944a8e6d",
   "metadata": {},
   "source": [
    "# Load Linear Systems Data"
   ]
  },
  {
   "cell_type": "code",
   "execution_count": 11,
   "id": "5716324f",
   "metadata": {},
   "outputs": [],
   "source": [
    "top_percent = 0.1"
   ]
  },
  {
   "cell_type": "code",
   "execution_count": 12,
   "id": "dd7bda50",
   "metadata": {},
   "outputs": [],
   "source": [
    "save_dir = '/scratch2/weka/millerlab/eisenaj/ChaoticConsciousness/linear_noise_multirun'"
   ]
  },
  {
   "cell_type": "code",
   "execution_count": 13,
   "id": "39d56d51",
   "metadata": {},
   "outputs": [],
   "source": [
    "lams = [-1, -0.9, -0.8, -0.7, -0.6, -0.5, -0.4, -0.3, -0.2, -0.1]"
   ]
  },
  {
   "cell_type": "code",
   "execution_count": 14,
   "id": "b662b634",
   "metadata": {},
   "outputs": [
    {
     "data": {
      "application/vnd.jupyter.widget-view+json": {
       "model_id": "f978dd2ecf2846b7a003df3c431584a8",
       "version_major": 2,
       "version_minor": 0
      },
      "text/plain": [
       "  0%|          | 0/20 [00:00<?, ?it/s]"
      ]
     },
     "metadata": {},
     "output_type": "display_data"
    }
   ],
   "source": [
    "rets = []\n",
    "for f in tqdm(os.listdir(save_dir)):\n",
    "    rets.append(pd.read_pickle(os.path.join(save_dir, f)))"
   ]
  },
  {
   "cell_type": "code",
   "execution_count": 15,
   "id": "7d6fd8ab",
   "metadata": {},
   "outputs": [
    {
     "data": {
      "application/vnd.jupyter.widget-view+json": {
       "model_id": "b8d1ff82733440ca9ea3e6c86811d62a",
       "version_major": 2,
       "version_minor": 0
      },
      "text/plain": [
       "  0%|          | 0/20 [00:00<?, ?it/s]"
      ]
     },
     "metadata": {},
     "output_type": "display_data"
    }
   ],
   "source": [
    "ret_means = np.zeros(len(lams))\n",
    "ret_mean_counts = np.zeros(len(lams))\n",
    "for ret in tqdm(rets):\n",
    "    window, matrix_size, r, all_results = combine_grid_results(ret)\n",
    "    \n",
    "    for i, key in enumerate(lams):\n",
    "        stab_curve = ret[key].loc[(window, matrix_size, r)].stab_curves\n",
    "        \n",
    "        ret_means[i] += stab_curve[:int(top_percent*len(stab_curve))].sum()\n",
    "        ret_mean_counts[i] += int(top_percent*len(stab_curve))\n",
    "        \n",
    "ret_means = ret_means/ret_mean_counts"
   ]
  },
  {
   "cell_type": "code",
   "execution_count": 16,
   "id": "d8e323c1",
   "metadata": {},
   "outputs": [
    {
     "data": {
      "application/vnd.jupyter.widget-view+json": {
       "model_id": "0da3bd07b07f422c992e50023da3d029",
       "version_major": 2,
       "version_minor": 0
      },
      "text/plain": [
       "  0%|          | 0/20 [00:00<?, ?it/s]"
      ]
     },
     "metadata": {},
     "output_type": "display_data"
    }
   ],
   "source": [
    "ret_means_se = np.zeros(len(lams))\n",
    "ret_mean_se_counts = np.zeros(len(lams))\n",
    "for ret in tqdm(rets):\n",
    "    window, matrix_size, r, all_results = combine_grid_results(ret)\n",
    "    \n",
    "    for i, key in enumerate(lams):\n",
    "        stab_curve = ret[key].loc[(window, matrix_size, r)].stab_curves\n",
    "        \n",
    "        ret_means_se[i] += ((stab_curve[:int(top_percent*len(stab_curve))] - ret_means[i])**2).sum()\n",
    "        ret_mean_se_counts[i] += int(top_percent*len(stab_curve))\n",
    "ret_means_se = np.sqrt(ret_means_se/ret_mean_se_counts)/np.sqrt(ret_mean_se_counts)"
   ]
  },
  {
   "cell_type": "code",
   "execution_count": 17,
   "id": "b4ecceb8",
   "metadata": {},
   "outputs": [
    {
     "data": {
      "text/plain": [
       "[-1, -0.9, -0.8, -0.7, -0.6, -0.5, -0.4, -0.3, -0.2, -0.1]"
      ]
     },
     "execution_count": 17,
     "metadata": {},
     "output_type": "execute_result"
    }
   ],
   "source": [
    "lams"
   ]
  },
  {
   "cell_type": "code",
   "execution_count": 22,
   "id": "6e127b94",
   "metadata": {},
   "outputs": [
    {
     "data": {
      "image/png": "[encoded data removed]",
      "text/plain": [
       "<Figure size 640x480 with 2 Axes>"
      ]
     },
     "metadata": {},
     "output_type": "display_data"
    }
   ],
   "source": [
    "tick_fontsize = 13\n",
    "ylabel_fontsize = 15\n",
    "xlabel_fontsize = 15\n",
    "title_fontsize = 16\n",
    "pred_color = 'orange'\n",
    "\n",
    "lns = []\n",
    "lns += plt.plot(lams, ret_means, label='predicted stability', c='k', linestyle='--', marker='o', markersize=4)\n",
    "\n",
    "ax = plt.gca()\n",
    "ax2 = ax.twinx()\n",
    "\n",
    "lns += ax2.plot(lams, lams, c='orange', marker='o', markersize=4, label='ground truth stability')\n",
    "ylim = ax.get_ylim()\n",
    "# ax.fill_between(lams, ret_means - ret_means_se, ret_means + ret_means_se, color='k', alpha=0.4)\n",
    "ax.errorbar(lams, ret_means, yerr=ret_means_se, c='k', linestyle='--', marker='o', markersize=6, )\n",
    "ax.set_ylim(ylim)\n",
    "\n",
    "ax.tick_params(labelsize=tick_fontsize)\n",
    "ax.set_ylabel('Instability\\n(Mean of Top 10%, $s^{-1}$)', fontsize=ylabel_fontsize)\n",
    "ax.set_xlabel('Maximum Eigenvalue Real Part ($s^{-1}$)', fontsize=xlabel_fontsize)\n",
    "\n",
    "ax.text(-0.65, -0.5, f\"Measuring Ground Truth Stability\\nin Stochastic Linear Systems\\n{num_samples*100/n:.1f}% partial observation\\n\" + fr\"$\\rho = ${scipy.stats.pearsonr(ret_means, lams)[0]:.3f}\", ha='center', fontsize=title_fontsize)\n",
    "\n",
    "ax2.tick_params(labelsize=tick_fontsize)\n",
    "ax2.set_ylabel('Maximum Eigenvalue Real Part ($s^{-1}$)', fontsize=ylabel_fontsize)\n",
    "\n",
    "ax.spines[['top']].set_visible(False)\n",
    "ax.xaxis.set_ticks_position('bottom')\n",
    "ax.yaxis.set_ticks_position('left')\n",
    "ax2.spines[['top']].set_visible(False)\n",
    "ax2.xaxis.set_ticks_position('bottom')\n",
    "ax2.yaxis.set_ticks_position('right')\n",
    "\n",
    "plt.legend(lns, [ln.get_label() for ln in lns], loc='lower right', fontsize=15)\n",
    "\n",
    "plt.show()"
   ]
  },
  {
   "cell_type": "code",
   "execution_count": 60,
   "id": "f757592e",
   "metadata": {},
   "outputs": [
    {
     "data": {
      "text/plain": [
       "(0.9996836769223176, 4.378614439172579e-14)"
      ]
     },
     "execution_count": 60,
     "metadata": {},
     "output_type": "execute_result"
    }
   ],
   "source": [
    "scipy.stats.pearsonr(lams, ret_means)"
   ]
  },
  {
   "cell_type": "code",
   "execution_count": 28,
   "id": "ea13c8ec",
   "metadata": {},
   "outputs": [
    {
     "data": {
      "text/plain": [
       "tensor([-1.1268, -1.4280])"
      ]
     },
     "execution_count": 28,
     "metadata": {},
     "output_type": "execute_result"
    }
   ],
   "source": []
  },
  {
   "cell_type": "code",
   "execution_count": 10,
   "id": "108cbe1c",
   "metadata": {},
   "outputs": [],
   "source": []
  },
  {
   "cell_type": "code",
   "execution_count": 11,
   "id": "d306e459",
   "metadata": {},
   "outputs": [],
   "source": [
    "top_percent = 0.1"
   ]
  },
  {
   "cell_type": "code",
   "execution_count": 6,
   "id": "c13fe489",
   "metadata": {},
   "outputs": [
    {
     "data": {
      "text/plain": [
       "{-1:                                   AIC  \\\n",
       " window matrix_size r                    \n",
       " 10000  10          3    -7.869681e+04   \n",
       "                    5    -9.081149e+04   \n",
       "                    10   -3.102073e+05   \n",
       "        20          3    -7.864290e+04   \n",
       "                    5    -9.071531e+04   \n",
       " ...                               ...   \n",
       "        1000        700   6.813581e+05   \n",
       "                    750   8.260484e+05   \n",
       "                    800   9.808481e+05   \n",
       "                    900   1.320633e+06   \n",
       "                    1000  1.700897e+06   \n",
       " \n",
       "                                                                stab_curves  \n",
       " window matrix_size r                                                        \n",
       " 10000  10          3     [tensor(-0.8227), tensor(-1.1843), tensor(-1.1...  \n",
       "                    5     [tensor(-0.9174), tensor(-1.3682), tensor(-1.4...  \n",
       "                    10    [tensor(-1.1268), tensor(-1.4280), tensor(-1.6...  \n",
       "        20          3     [tensor(-0.3338), tensor(-0.3338), tensor(-0.3...  \n",
       "                    5     [tensor(-0.4257), tensor(-0.4270), tensor(-0.4...  \n",
       " ...                                                                    ...  \n",
       "        1000        700   [tensor(-0.7126), tensor(-0.9973), tensor(-1.7...  \n",
       "                    750   [tensor(-0.7234), tensor(-0.9833), tensor(-1.7...  \n",
       "                    800   [tensor(-0.7310), tensor(-0.9831), tensor(-1.6...  \n",
       "                    900   [tensor(-0.7232), tensor(-1.0010), tensor(-1.7...  \n",
       "                    1000  [tensor(-0.7215), tensor(-0.9966), tensor(-1.7...  \n",
       " \n",
       " [101 rows x 2 columns],\n",
       " -0.9:                                   AIC  \\\n",
       " window matrix_size r                    \n",
       " 10000  10          3    -7.516197e+04   \n",
       "                    5    -8.736674e+04   \n",
       "                    10   -3.101980e+05   \n",
       "        20          3    -7.511101e+04   \n",
       "                    5    -8.727389e+04   \n",
       " ...                               ...   \n",
       "        1000        700   6.813732e+05   \n",
       "                    750   8.260634e+05   \n",
       "                    800   9.808632e+05   \n",
       "                    900   1.320648e+06   \n",
       "                    1000  1.700912e+06   \n",
       " \n",
       "                                                                stab_curves  \n",
       " window matrix_size r                                                        \n",
       " 10000  10          3     [tensor(-0.7319), tensor(-1.0539), tensor(-1.1...  \n",
       "                    5     [tensor(-0.8196), tensor(-1.2746), tensor(-1.4...  \n",
       "                    10    [tensor(-1.0340), tensor(-1.3164), tensor(-1.6...  \n",
       "        20          3     [tensor(-0.2969), tensor(-0.2969), tensor(-0.3...  \n",
       "                    5     [tensor(-0.3929), tensor(-0.3971), tensor(-0.3...  \n",
       " ...                                                                    ...  \n",
       "        1000        700   [tensor(-0.6694), tensor(-0.9224), tensor(-1.6...  \n",
       "                    750   [tensor(-0.6807), tensor(-0.9103), tensor(-1.6...  \n",
       "                    800   [tensor(-0.6848), tensor(-0.9096), tensor(-1.6...  \n",
       "                    900   [tensor(-0.6723), tensor(-0.9351), tensor(-1.6...  \n",
       "                    1000  [tensor(-0.6730), tensor(-0.9299), tensor(-1.6...  \n",
       " \n",
       " [101 rows x 2 columns],\n",
       " -0.8:                                   AIC  \\\n",
       " window matrix_size r                    \n",
       " 10000  10          3    -7.130818e+04   \n",
       "                    5    -8.383051e+04   \n",
       "                    10   -3.101870e+05   \n",
       "        20          3    -7.126038e+04   \n",
       "                    5    -8.374200e+04   \n",
       " ...                               ...   \n",
       "        1000        700   6.813909e+05   \n",
       "                    750   8.260809e+05   \n",
       "                    800   9.808809e+05   \n",
       "                    900   1.320666e+06   \n",
       "                    1000  1.700929e+06   \n",
       " \n",
       "                                                                stab_curves  \n",
       " window matrix_size r                                                        \n",
       " 10000  10          3     [tensor(-0.6416), tensor(-0.9443), tensor(-1.1...  \n",
       "                    5     [tensor(-0.7286), tensor(-1.1795), tensor(-1.3...  \n",
       "                    10    [tensor(-0.9404), tensor(-1.2083), tensor(-1.5...  \n",
       "        20          3     [tensor(-0.2554), tensor(-0.2554), tensor(-0.3...  \n",
       "                    5     [tensor(-0.3584), tensor(-0.3685), tensor(-0.3...  \n",
       " ...                                                                    ...  \n",
       "        1000        700   [tensor(-0.6225), tensor(-0.8590), tensor(-1.5...  \n",
       "                    750   [tensor(-0.6310), tensor(-0.8493), tensor(-1.5...  \n",
       "                    800   [tensor(-0.6323), tensor(-0.8508), tensor(-1.5...  \n",
       "                    900   [tensor(-0.6192), tensor(-0.8816), tensor(-1.5...  \n",
       "                    1000  [tensor(-0.6219), tensor(-0.8751), tensor(-1.5...  \n",
       " \n",
       " [101 rows x 2 columns],\n",
       " -0.7:                                   AIC  \\\n",
       " window matrix_size r                    \n",
       " 10000  10          3    -6.708615e+04   \n",
       "                    5    -8.004459e+04   \n",
       "                    10   -3.101741e+05   \n",
       "        20          3    -6.704176e+04   \n",
       "                    5    -7.996189e+04   \n",
       " ...                               ...   \n",
       "        1000        700   6.814120e+05   \n",
       "                    750   8.261020e+05   \n",
       "                    800   9.809020e+05   \n",
       "                    900   1.320687e+06   \n",
       "                    1000  1.700950e+06   \n",
       " \n",
       "                                                                stab_curves  \n",
       " window matrix_size r                                                        \n",
       " 10000  10          3     [tensor(-0.5510), tensor(-0.8522), tensor(-1.0...  \n",
       "                    5     [tensor(-0.6424), tensor(-1.0830), tensor(-1.2...  \n",
       "                    10    [tensor(-0.8465), tensor(-1.1026), tensor(-1.4...  \n",
       "        20          3     [tensor(-0.2135), tensor(-0.2135), tensor(-0.3...  \n",
       "                    5     [tensor(-0.3236), tensor(-0.3416), tensor(-0.3...  \n",
       " ...                                                                    ...  \n",
       "        1000        700   [tensor(-0.5687), tensor(-0.8146), tensor(-1.5...  \n",
       "                    750   [tensor(-0.5745), tensor(-0.8081), tensor(-1.5...  \n",
       "                    800   [tensor(-0.5754), tensor(-0.8087), tensor(-1.4...  \n",
       "                    900   [tensor(-0.5598), tensor(-0.8494), tensor(-1.4...  \n",
       "                    1000  [tensor(-0.5623), tensor(-0.8404), tensor(-1.4...  \n",
       " \n",
       " [101 rows x 2 columns],\n",
       " -0.6:                                   AIC  \\\n",
       " window matrix_size r                    \n",
       " 10000  10          3    -6.245298e+04   \n",
       "                    5    -7.593328e+04   \n",
       "                    10   -3.101585e+05   \n",
       "        20          3    -6.241231e+04   \n",
       "                    5    -7.585720e+04   \n",
       " ...                               ...   \n",
       "        1000        700   6.814379e+05   \n",
       "                    750   8.261277e+05   \n",
       "                    800   9.809279e+05   \n",
       "                    900   1.320712e+06   \n",
       "                    1000  1.700975e+06   \n",
       " \n",
       "                                                                stab_curves  \n",
       " window matrix_size r                                                        \n",
       " 10000  10          3     [tensor(-0.4603), tensor(-0.7716), tensor(-0.9...  \n",
       "                    5     [tensor(-0.5600), tensor(-0.9854), tensor(-1.1...  \n",
       "                    10    [tensor(-0.7530), tensor(-0.9981), tensor(-1.4...  \n",
       "        20          3     [tensor(-0.1165), tensor(-0.2415), tensor(-0.3...  \n",
       "                    5     [tensor(-0.2902), tensor(-0.3137), tensor(-0.3...  \n",
       " ...                                                                    ...  \n",
       "        1000        700   [tensor(-0.5094), tensor(-0.8073), tensor(-1.1...  \n",
       "                    750   [tensor(-0.5150), tensor(-0.7989), tensor(-1.1...  \n",
       "                    800   [tensor(-0.5142), tensor(-0.7979), tensor(-1.2...  \n",
       "                    900   [tensor(-0.4992), tensor(-0.8675), tensor(-1.1...  \n",
       "                    1000  [tensor(-0.5013), tensor(-0.8467), tensor(-1.2...  \n",
       " \n",
       " [101 rows x 2 columns],\n",
       " -0.5:                                   AIC  \\\n",
       " window matrix_size r                    \n",
       " 10000  10          3    -5.740306e+04   \n",
       "                    5    -7.148278e+04   \n",
       "                    10   -3.101392e+05   \n",
       "        20          3    -5.736632e+04   \n",
       "                    5    -7.141365e+04   \n",
       " ...                               ...   \n",
       "        1000        700   6.814704e+05   \n",
       "                    750   8.261601e+05   \n",
       "                    800   9.809604e+05   \n",
       "                    900   1.320745e+06   \n",
       "                    1000  1.701006e+06   \n",
       " \n",
       "                                                                stab_curves  \n",
       " window matrix_size r                                                        \n",
       " 10000  10          3     [tensor(-0.3707), tensor(-0.7008), tensor(-0.8...  \n",
       "                    5     [tensor(-0.4810), tensor(-0.8854), tensor(-1.0...  \n",
       "                    10    [tensor(-0.6603), tensor(-0.8944), tensor(-1.3...  \n",
       "        20          3     [tensor(-0.0462), tensor(-0.2660), tensor(-0.2...  \n",
       "                    5     [tensor(-0.2608), tensor(-0.2816), tensor(-0.2...  \n",
       " ...                                                                    ...  \n",
       "        1000        700   [tensor(-0.4455), tensor(-0.8074), tensor(-0.8...  \n",
       "                    750   [tensor(-0.4512), tensor(-0.8127), tensor(-0.8...  \n",
       "                    800   [tensor(-0.4497), tensor(-0.8273), tensor(-0.8...  \n",
       "                    900   [tensor(-0.4361), tensor(-0.8209), tensor(-0.8...  \n",
       "                    1000  [tensor(-0.4388), tensor(-0.8307), tensor(-0.8...  \n",
       " \n",
       " [101 rows x 2 columns],\n",
       " -0.4:                                   AIC  \\\n",
       " window matrix_size r                    \n",
       " 10000  10          3    -5.204349e+04   \n",
       "                    5    -6.674790e+04   \n",
       "                    10   -3.101152e+05   \n",
       "        20          3    -5.201072e+04   \n",
       "                    5    -6.668581e+04   \n",
       " ...                               ...   \n",
       "        1000        700   6.815116e+05   \n",
       "                    750   8.262015e+05   \n",
       "                    800   9.810018e+05   \n",
       "                    900   1.320786e+06   \n",
       "                    1000  1.701046e+06   \n",
       " \n",
       "                                                                stab_curves  \n",
       " window matrix_size r                                                        \n",
       " 10000  10          3     [tensor(-0.2855), tensor(-0.6384), tensor(-0.7...  \n",
       "                    5     [tensor(-0.4057), tensor(-0.7797), tensor(-0.9...  \n",
       "                    10    [tensor(-0.5686), tensor(-0.7893), tensor(-1.2...  \n",
       "        20          3     [tensor(0.0032), tensor(-0.2431), tensor(-0.24...  \n",
       "                    5     [tensor(-0.2385), tensor(-0.2400), tensor(-0.2...  \n",
       " ...                                                                    ...  \n",
       "        1000        700   [tensor(-0.3857), tensor(-0.6676), tensor(-0.6...  \n",
       "                    750   [tensor(-0.3882), tensor(-0.6705), tensor(-0.6...  \n",
       "                    800   [tensor(-0.3866), tensor(-0.6767), tensor(-0.6...  \n",
       "                    900   [tensor(-0.3734), tensor(-0.6764), tensor(-0.6...  \n",
       "                    1000  [tensor(-0.3749), tensor(-0.6800), tensor(-0.6...  \n",
       " \n",
       " [101 rows x 2 columns],\n",
       " -0.3:                                   AIC  \\\n",
       " window matrix_size r                    \n",
       " 10000  10          3    -4.668129e+04   \n",
       "                    5    -6.189273e+04   \n",
       "                    10   -3.100856e+05   \n",
       "        20          3    -4.665220e+04   \n",
       "                    5    -6.183755e+04   \n",
       " ...                               ...   \n",
       "        1000        700   6.815639e+05   \n",
       "                    750   8.262540e+05   \n",
       "                    800   9.810544e+05   \n",
       "                    900   1.320838e+06   \n",
       "                    1000  1.701097e+06   \n",
       " \n",
       "                                                                stab_curves  \n",
       " window matrix_size r                                                        \n",
       " 10000  10          3     [tensor(-0.2091), tensor(-0.5934), tensor(-0.6...  \n",
       "                    5     [tensor(-0.3365), tensor(-0.6610), tensor(-0.8...  \n",
       "                    10    [tensor(-0.4776), tensor(-0.6791), tensor(-1.2...  \n",
       "        20          3     [tensor(0.0353), tensor(-0.2071), tensor(-0.20...  \n",
       "                    5     [tensor(-0.1820), tensor(-0.1820), tensor(-0.2...  \n",
       " ...                                                                    ...  \n",
       "        1000        700   [tensor(-0.3176), tensor(-0.5429), tensor(-0.5...  \n",
       "                    750   [tensor(-0.3187), tensor(-0.5454), tensor(-0.5...  \n",
       "                    800   [tensor(-0.3210), tensor(-0.5494), tensor(-0.5...  \n",
       "                    900   [tensor(-0.3108), tensor(-0.5492), tensor(-0.5...  \n",
       "                    1000  [tensor(-0.3170), tensor(-0.5477), tensor(-0.5...  \n",
       " \n",
       " [101 rows x 2 columns],\n",
       " -0.2:                                   AIC  \\\n",
       " window matrix_size r                    \n",
       " 10000  10          3    -4.150293e+04   \n",
       "                    5    -5.694298e+04   \n",
       "                    10   -3.100501e+05   \n",
       "        20          3    -4.147742e+04   \n",
       "                    5    -5.689448e+04   \n",
       " ...                               ...   \n",
       "        1000        700   6.816282e+05   \n",
       "                    750   8.263187e+05   \n",
       "                    800   9.811191e+05   \n",
       "                    900   1.320902e+06   \n",
       "                    1000  1.701160e+06   \n",
       " \n",
       "                                                                stab_curves  \n",
       " window matrix_size r                                                        \n",
       " 10000  10          3     [tensor(-0.1456), tensor(-0.4913), tensor(-0.4...  \n",
       "                    5     [tensor(-0.2811), tensor(-0.5124), tensor(-0.7...  \n",
       "                    10    [tensor(-0.3847), tensor(-0.5581), tensor(-0.9...  \n",
       "        20          3     [tensor(0.0518), tensor(-0.1601), tensor(-0.16...  \n",
       "                    5     [tensor(-0.1106), tensor(-0.1106), tensor(-0.2...  \n",
       " ...                                                                    ...  \n",
       "        1000        700   [tensor(-0.2364), tensor(-0.4436), tensor(-0.4...  \n",
       "                    750   [tensor(-0.2360), tensor(-0.4435), tensor(-0.4...  \n",
       "                    800   [tensor(-0.2373), tensor(-0.4462), tensor(-0.4...  \n",
       "                    900   [tensor(-0.2346), tensor(-0.4450), tensor(-0.4...  \n",
       "                    1000  [tensor(-0.2395), tensor(-0.4427), tensor(-0.4...  \n",
       " \n",
       " [101 rows x 2 columns],\n",
       " -0.1:                                   AIC  \\\n",
       " window matrix_size r                    \n",
       " 10000  10          3    -3.457545e+04   \n",
       "                    5    -4.939711e+04   \n",
       "                    10   -3.100161e+05   \n",
       "        20          3    -3.455453e+04   \n",
       "                    5    -4.935562e+04   \n",
       " ...                               ...   \n",
       "        1000        700   6.816729e+05   \n",
       "                    750   8.263639e+05   \n",
       "                    800   9.811631e+05   \n",
       "                    900   1.320946e+06   \n",
       "                    1000  1.701204e+06   \n",
       " \n",
       "                                                                stab_curves  \n",
       " window matrix_size r                                                        \n",
       " 10000  10          3     [tensor(-0.1092), tensor(-0.3401), tensor(-0.3...  \n",
       "                    5     [tensor(-0.2916), tensor(-0.2916), tensor(-0.5...  \n",
       "                    10    [tensor(-0.2988), tensor(-0.4166), tensor(-0.6...  \n",
       "        20          3     [tensor(0.0542), tensor(-0.0505), tensor(-0.16...  \n",
       "                    5     [tensor(-0.0453), tensor(-0.0453), tensor(-0.1...  \n",
       " ...                                                                    ...  \n",
       "        1000        700   [tensor(-0.1189), tensor(-0.3746), tensor(-0.3...  \n",
       "                    750   [tensor(-0.1155), tensor(-0.3524), tensor(-0.3...  \n",
       "                    800   [tensor(-0.1198), tensor(-0.3630), tensor(-0.3...  \n",
       "                    900   [tensor(-0.1266), tensor(-0.3714), tensor(-0.3...  \n",
       "                    1000  [tensor(-0.1333), tensor(-0.3694), tensor(-0.3...  \n",
       " \n",
       " [101 rows x 2 columns]}"
      ]
     },
     "execution_count": 6,
     "metadata": {},
     "output_type": "execute_result"
    }
   ],
   "source": [
    "rets[0]"
   ]
  },
  {
   "cell_type": "markdown",
   "id": "c43f81eb",
   "metadata": {},
   "source": [
    "### Analysis"
   ]
  },
  {
   "cell_type": "code",
   "execution_count": 157,
   "id": "6f3eaaae",
   "metadata": {},
   "outputs": [],
   "source": [
    "window, matrix_size, r, all_results = combine_grid_results(results_dict)"
   ]
  },
  {
   "cell_type": "code",
   "execution_count": 169,
   "id": "3666f534",
   "metadata": {},
   "outputs": [
    {
     "data": {
      "image/png": "[encoded data removed]",
      "text/plain": [
       "<Figure size 2400x800 with 2 Axes>"
      ]
     },
     "metadata": {},
     "output_type": "display_data"
    }
   ],
   "source": [
    "plot_AIC(results_dict)"
   ]
  },
  {
   "cell_type": "code",
   "execution_count": 172,
   "id": "3bef4ac3",
   "metadata": {},
   "outputs": [
    {
     "data": {
      "text/plain": [
       "[<matplotlib.lines.Line2D at 0x2ab27ecc8280>]"
      ]
     },
     "execution_count": 172,
     "metadata": {},
     "output_type": "execute_result"
    },
    {
     "data": {
      "image/png": "[encoded data removed]",
      "text/plain": [
       "<Figure size 640x480 with 1 Axes>"
      ]
     },
     "metadata": {},
     "output_type": "display_data"
    }
   ],
   "source": [
    "plt.plot([results_dict[key].loc[(window, matrix_size, r)].stab_curves[:2].mean() for key in lams])\n",
    "plt.plot(lams)"
   ]
  },
  {
   "cell_type": "code",
   "execution_count": null,
   "id": "a5a12ba0",
   "metadata": {},
   "outputs": [],
   "source": [
    "plt.plot()"
   ]
  }
 ],
 "metadata": {
  "kernelspec": {
   "display_name": "Python 3 (ipykernel)",
   "language": "python",
   "name": "python3"
  },
  "language_info": {
   "codemirror_mode": {
    "name": "ipython",
    "version": 3
   },
   "file_extension": ".py",
   "mimetype": "text/x-python",
   "name": "python",
   "nbconvert_exporter": "python",
   "pygments_lexer": "ipython3",
   "version": "3.9.1"
  }
 },
 "nbformat": 4,
 "nbformat_minor": 5
}
