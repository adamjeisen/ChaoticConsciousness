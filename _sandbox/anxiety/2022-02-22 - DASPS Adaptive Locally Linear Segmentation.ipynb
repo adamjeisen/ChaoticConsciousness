{
 "cells": [
  {
   "cell_type": "code",
   "execution_count": 1,
   "id": "0d857e7e",
   "metadata": {},
   "outputs": [],
   "source": [
    "import h5py\n",
    "from kneed import KneeLocator\n",
    "import matplotlib.pyplot as plt\n",
    "import numpy as np\n",
    "import os\n",
    "import pandas as pd\n",
    "import scipy\n",
    "from scipy.signal import butter, lfilter\n",
    "from scipy.stats import pearsonr\n",
    "from statsmodels.tsa.api import VAR\n",
    "import sys\n",
    "from tqdm.auto import tqdm\n",
    "\n",
    "sys.path.append('/om2/user/eisenaj/code/repos/local-linear-segmentation/segmentation_code')\n",
    "import LLSA as lvar\n",
    "import LLSA_calculations as lvarc\n",
    "\n",
    "sys.path.append('../..')\n",
    "from utils import load, save"
   ]
  },
  {
   "cell_type": "code",
   "execution_count": 2,
   "id": "30e0543c",
   "metadata": {},
   "outputs": [],
   "source": [
    "def butter_bandpass(lowcut, highcut, fs, order=5):\n",
    "    nyq = 0.5 * fs\n",
    "    low = lowcut / nyq\n",
    "    high = highcut / nyq\n",
    "    b, a = butter(order, [low, high], btype='band')\n",
    "    return b, a\n",
    "\n",
    "\n",
    "def butter_bandpass_filter(data, lowcut, highcut, fs, order=5):\n",
    "    b, a = butter_bandpass(lowcut, highcut, fs, order=order)\n",
    "    y = lfilter(b, a, data)\n",
    "    return y"
   ]
  },
  {
   "cell_type": "code",
   "execution_count": 3,
   "id": "00c9ff99",
   "metadata": {},
   "outputs": [],
   "source": [
    "dt = 1/128"
   ]
  },
  {
   "cell_type": "markdown",
   "id": "c3105a4d",
   "metadata": {},
   "source": [
    "# load all data"
   ]
  },
  {
   "cell_type": "code",
   "execution_count": 4,
   "id": "cf68f0d3",
   "metadata": {},
   "outputs": [],
   "source": [
    "data_dir = '/om/user/eisenaj/datasets/DASPS_Database/'"
   ]
  },
  {
   "cell_type": "code",
   "execution_count": 5,
   "id": "d2f67d49",
   "metadata": {},
   "outputs": [],
   "source": [
    "response_df = pd.read_excel(os.path.join(data_dir, 'participant_rating_public.xlsx'))\n",
    "response_df = response_df.drop('Unnamed: 0', axis=1)"
   ]
  },
  {
   "cell_type": "code",
   "execution_count": 6,
   "id": "6999dba9",
   "metadata": {},
   "outputs": [],
   "source": [
    "response_df['anxious'] = [None]*len(response_df)\n",
    "anxious = np.zeros((23, 6))\n",
    "anxiety_level = np.zeros((23, 6))\n",
    "response_df['anxiety_level'] = [None]*len(response_df)\n",
    "for i in range(len(response_df)):\n",
    "    if not isinstance(response_df.loc[i]['Id Participant'], str):\n",
    "        response_df.loc[i, 'Id Participant'] = response_df.loc[i - 1]['Id Participant']\n",
    "        response_df.loc[i, 'Hmilton1'] = response_df.loc[i-1, 'Hmilton1']\n",
    "        response_df.loc[i, 'Hamilton2'] = response_df.loc[i-1, 'Hamilton2']\n",
    "        response_df.loc[i, 'Situation provocante'] = response_df.loc[i - 1, 'Situation provocante']\n",
    "    subject_num = int(response_df.loc[i, \"Id Participant\"][1:])\n",
    "    situation_num = int(response_df.loc[i, \"Id situation \"])\n",
    "    \n",
    "    valence = response_df.loc[i,'valence']\n",
    "    arousal = response_df.loc[i, 'Arousal']\n",
    "    response_df.loc[i, 'anxious'] = True if valence < 5 and arousal > 5 else False\n",
    "    \n",
    "    \n",
    "    if not response_df.loc[i, 'anxious']:\n",
    "        response_df.loc[i, 'anxiety_level'] = None\n",
    "        anxious[subject_num-1, situation_num-1] = 0\n",
    "        anxiety_level[subject_num-1, situation_num-1] = 0\n",
    "    else:\n",
    "        anxious[subject_num-1, situation_num-1] = 1\n",
    "        if valence in [0, 1, 2] and arousal in [7, 8, 9]:\n",
    "            response_df.loc[i, 'anxiety_level'] = 'severe'\n",
    "            anxiety_level[subject_num-1, situation_num-1] = 4\n",
    "        elif valence in [2, 3, 4] and arousal in [6, 7]:\n",
    "            response_df.loc[i, 'anxiety_level'] = 'moderate'\n",
    "            anxiety_level[subject_num-1, situation_num-1] = 2\n",
    "        elif valence in [4, 5] and arousal in [5, 6]:\n",
    "            response_df.loc[i, 'anxiety_level'] = 'light'\n",
    "            anxiety_level[subject_num-1, situation_num-1] = 1\n",
    "        else:\n",
    "            response_df.loc[i, 'anxiety_level'] = 'normal'\n",
    "            anxiety_level[subject_num-1, situation_num-1] = 3"
   ]
  },
  {
   "cell_type": "code",
   "execution_count": 7,
   "id": "acfd70c3",
   "metadata": {},
   "outputs": [],
   "source": [
    "data = np.zeros((23, 6, 30*128, 14))\n",
    "for subject_num in range(1, 24):\n",
    "    for situation_num in range(1, 7):\n",
    "        f = h5py.File(os.path.join(data_dir, f\"Preprocessed data .mat/S{subject_num:02d}preprocessed.mat\"), 'r')\n",
    "#         f = h5py.File(os.path.join(data_dir, f\"Raw data.mat/S{subject_num:02d}.mat\", 'r'))\n",
    "        t = np.arange(f['data'].shape[1]*2)*dt\n",
    "        data[subject_num-1, situation_num-1] = np.vstack([f['data'][(situation_num-1)*2, :, :], f['data'][(situation_num-1)*2 + 1, :, :]])"
   ]
  },
  {
   "cell_type": "code",
   "execution_count": 8,
   "id": "54de2ea1",
   "metadata": {},
   "outputs": [
    {
     "data": {
      "image/png": "[encoded data removed]",
      "text/plain": [
       "<Figure size 432x288 with 1 Axes>"
      ]
     },
     "metadata": {
      "needs_background": "light"
     },
     "output_type": "display_data"
    }
   ],
   "source": [
    "subject_num = 5\n",
    "situation_num = 1\n",
    "electrode_num = 0\n",
    "plt.plot(np.arange(0, 30, 1/128), data[subject_num-1, situation_num-1, :, electrode_num])\n",
    "# plt.plot(butter_bandpass_filter(data[subject_num-1, situation_num-1, :, electrode_num], 0.4, 50, fs=1/dt))\n",
    "plt.show()"
   ]
  },
  {
   "cell_type": "code",
   "execution_count": 9,
   "id": "aed04c83",
   "metadata": {},
   "outputs": [],
   "source": [
    "area = 'frontal'\n",
    "if area == 'all':\n",
    "    area_inds = np.arange(14)\n",
    "elif area == 'frontal':\n",
    "    area_inds = np.arange(8)\n",
    "else:\n",
    "    raise ValueError(f\"Area {area} is not allowed!\")"
   ]
  },
  {
   "cell_type": "markdown",
   "id": "8d51ab6d",
   "metadata": {},
   "source": [
    "## Check Data Conditioning"
   ]
  },
  {
   "cell_type": "code",
   "execution_count": 24,
   "id": "1d35fc91",
   "metadata": {},
   "outputs": [
    {
     "data": {
      "application/vnd.jupyter.widget-view+json": {
       "model_id": "8290dae0444644eab7f367001b3850c1",
       "version_major": 2,
       "version_minor": 0
      },
      "text/plain": [
       "  0%|          | 0/49680 [00:00<?, ?it/s]"
      ]
     },
     "metadata": {},
     "output_type": "display_data"
    }
   ],
   "source": [
    "# minimum_window_options = [0.5, 0.75, 1]\n",
    "n_test_windows = 20\n",
    "\n",
    "# minimum_window_options = np.arange(0.5, 2, 0.1)\n",
    "minimum_window_options = np.arange(0.1, 1, 0.05)\n",
    "# n_test_windows = 1200\n",
    "\n",
    "num_subjects = 23\n",
    "num_trials = 6\n",
    "\n",
    "conds_w = np.zeros((num_subjects, num_trials, len(minimum_window_options), n_test_windows))\n",
    "conds_cov_w = np.zeros(conds_w.shape)\n",
    "\n",
    "iterator = tqdm(total=np.prod(conds_w.shape))\n",
    "for subject_ind in range(num_subjects):\n",
    "    for trial_ind in range(num_trials):\n",
    "    \n",
    "        for i, window_seconds in enumerate(minimum_window_options):\n",
    "            window = int(window_seconds/dt)\n",
    "            for j in range(n_test_windows):\n",
    "                start_t = np.random.randint(0, data.shape[2] - window)\n",
    "                window_data = data[subject_ind, trial_ind, start_t:start_t + window, area_inds]\n",
    "                window_data = window_data.T\n",
    "                conds_w[subject_ind, trial_ind, i, j] = np.linalg.cond(np.cov(window_data.T))\n",
    "\n",
    "        #         # statsmodels.tsa.api\n",
    "        #         model = VAR(window_data)\n",
    "        #         VAR_results = model.fit(1)\n",
    "        #         inter, coef, cov = VAR_results.intercept, VAR_results.coefs[0], VAR_results.sigma_u\n",
    "\n",
    "                # cython implementation\n",
    "                theta,eps=lvarc.get_theta(window_data,1)\n",
    "                inter,coef,cov=lvarc.decomposed_theta(theta)\n",
    "                coef = coef.T\n",
    "\n",
    "                conds_cov_w[subject_ind, trial_ind, i, j] = np.linalg.cond(cov)\n",
    "\n",
    "                iterator.update()\n",
    "iterator.close()\n",
    "\n",
    "conds_w = np.swapaxes(conds_w, 0, 2)\n",
    "conds_w = conds_w.reshape(conds_w.shape[0], conds_w.shape[1]*conds_w.shape[2]*conds_w.shape[3])\n",
    "conds_cov_w = np.swapaxes(conds_cov_w, 0, 2)\n",
    "conds_cov_w = conds_cov_w.reshape(conds_cov_w.shape[0], conds_cov_w.shape[1]*conds_cov_w.shape[2]*conds_cov_w.shape[3])"
   ]
  },
  {
   "cell_type": "code",
   "execution_count": 25,
   "id": "5a6ce403",
   "metadata": {},
   "outputs": [],
   "source": [
    "def bootstrap(l,n_times,n_samples=1000,confidence_interval=95):\n",
    "    if n_samples>len(l):\n",
    "        n_samples=len(l)*2\n",
    "    per=(100-confidence_interval)/2\n",
    "    new_means=[]\n",
    "    for i in range(n_times):\n",
    "        indices=np.random.choice(range(0,len(l)),n_samples)#len(l))\n",
    "        new_list=[l[idx] for idx in indices]\n",
    "        new_means.append(np.median(new_list,axis=0))\n",
    "    new_means=np.vstack(new_means)\n",
    "    cil=np.zeros(new_means.shape[1])\n",
    "    ciu=np.zeros(new_means.shape[1])\n",
    "    for i in range(new_means.shape[1]):\n",
    "        cil[i]=np.percentile(new_means[:,i],per)\n",
    "        ciu[i]=np.percentile(new_means[:,i],100-per)\n",
    "    return np.median(l,axis=0),cil,ciu"
   ]
  },
  {
   "cell_type": "code",
   "execution_count": 26,
   "id": "22997fae",
   "metadata": {},
   "outputs": [
    {
     "data": {
      "application/vnd.jupyter.widget-view+json": {
       "model_id": "512874190cca4f9fa630da38aae4f916",
       "version_major": 2,
       "version_minor": 0
      },
      "text/plain": [
       "  0%|          | 0/18 [00:00<?, ?it/s]"
      ]
     },
     "metadata": {},
     "output_type": "display_data"
    }
   ],
   "source": [
    "median_w=[]\n",
    "median_cil_w=[]\n",
    "median_ciu_w=[]\n",
    "median_cov_w=[]\n",
    "median_cil_cov_w=[]\n",
    "median_ciu_cov_w=[]\n",
    "for k in tqdm(range(conds_w.shape[0])):\n",
    "    median,cil,ciu=bootstrap(conds_w[k], n_test_windows)\n",
    "    median_w.append(median)\n",
    "    median_cil_w.append(cil)\n",
    "    median_ciu_w.append(ciu)\n",
    "    median,cil,ciu=bootstrap(conds_cov_w[k], n_test_windows)\n",
    "    median_cov_w.append(median)\n",
    "    median_cil_cov_w.append(cil)\n",
    "    median_ciu_cov_w.append(ciu)"
   ]
  },
  {
   "cell_type": "code",
   "execution_count": 27,
   "id": "8e315678",
   "metadata": {},
   "outputs": [
    {
     "data": {
      "image/png": "[encoded data removed]",
      "text/plain": [
       "<Figure size 432x288 with 1 Axes>"
      ]
     },
     "metadata": {
      "needs_background": "light"
     },
     "output_type": "display_data"
    }
   ],
   "source": [
    "plt.plot(minimum_window_options,np.hstack(median_cov_w),marker='o',label='$k(\\eta^T\\eta)$')\n",
    "plt.fill_between(minimum_window_options,np.hstack(median_cil_cov_w),np.hstack(median_ciu_cov_w),alpha=.7)\n",
    "plt.plot(minimum_window_options,np.hstack(median_w),marker='o',label='$k(X^TX)$')\n",
    "plt.fill_between(minimum_window_options,np.hstack(median_cil_w),np.hstack(median_ciu_w),alpha=.7)\n",
    "# kneedle = KneeLocator(minimum_window_options, median_cov_w, S=2, curve='convex', direction='decreasing')\n",
    "# plt.scatter(kneedle.elbow, kneedle.elbow_y, c='red', marker='o', label='elbow', s=150)\n",
    "kneedle = KneeLocator(minimum_window_options, np.log10(median_cov_w), S=2, curve='convex', direction='decreasing')\n",
    "plt.scatter(kneedle.elbow, np.power(10, kneedle.elbow_y), c='red', marker='o', label=f'elbow @ {kneedle.elbow:.2f}', s=150)\n",
    "kneedle2 = KneeLocator(minimum_window_options, np.log10(median_w), S=2, curve='convex', direction='decreasing')\n",
    "plt.scatter(kneedle2.elbow, np.power(10, kneedle2.elbow_y), c='green', marker='o', label=f'elbow @ {kneedle2.elbow:.2f}', s=150)\n",
    "plt.ylabel('Condition number',fontsize=15)\n",
    "plt.xlabel('Minimum window Size (s)',fontsize=15)\n",
    "plt.yscale('log')\n",
    "plt.xticks(fontsize=12)\n",
    "plt.yticks(fontsize=12)\n",
    "# plt.xlim(guess_dims,20)\n",
    "plt.legend(fontsize=15)\n",
    "plt.show()"
   ]
  },
  {
   "cell_type": "code",
   "execution_count": 29,
   "id": "4c1dfa75",
   "metadata": {},
   "outputs": [
    {
     "name": "stdout",
     "output_type": "stream",
     "text": [
      "window_options = [0.3, 0.375, 0.469, 0.586, 0.732, 0.916, 1.144, 1.431, 1.788, 2.235, 2.794, 3.492, 4.366]\n"
     ]
    }
   ],
   "source": [
    "# the value of w0 should be guided by the previous plot\n",
    "# stop when you get to more than 10 times as big as w0\n",
    "w0=0.30\n",
    "step_fraction=.25\n",
    "i=w0\n",
    "window_options=[]\n",
    "while i < np.inf:\n",
    "    window_options.append(i)\n",
    "    step=i*step_fraction\n",
    "    if int(i*step_fraction)>w0:\n",
    "        break\n",
    "    i+=step\n",
    "print(f\"window_options = {[float(f'{w:.3f}') for w in window_options]}\")"
   ]
  },
  {
   "cell_type": "markdown",
   "id": "968f2699",
   "metadata": {},
   "source": [
    "# Adaptive segmentation"
   ]
  },
  {
   "cell_type": "markdown",
   "id": "21a14e2b",
   "metadata": {},
   "source": [
    "As discussed in the SegmentingHO.ipynb notebook, there are plenty of places along our pipeline where we can get a significant speed up by parallelizing the calculations. In this toy example, we haven't explicitly done any parallel calculation, as the nature of the parallelization will be specific to the data and the purpose of the analysis. A few examples of parallelizable parts include:\n",
    "\n",
    "1) Likelihood ratio distribution: we need to do the exact same calculation N times\n",
    "\n",
    "2) Parallelize over different time series, or pre-split the time series into chunks and parallelize over them\n",
    "\n",
    "3) In the calculation of the distance matrix we can both parallelize one of the loops and also only compute the upper triangular or lower triangular matrix since, by construction, the matrix will be symmetric"
   ]
  },
  {
   "cell_type": "code",
   "execution_count": 30,
   "id": "ce833806",
   "metadata": {},
   "outputs": [
    {
     "data": {
      "application/vnd.jupyter.widget-view+json": {
       "model_id": "35205bddf6f14c7fa20688e3cd51f972",
       "version_major": 2,
       "version_minor": 0
      },
      "text/plain": [
       "  0%|          | 0/138 [00:00<?, ?it/s]"
      ]
     },
     "metadata": {},
     "output_type": "display_data"
    },
    {
     "name": "stdout",
     "output_type": "stream",
     "text": [
      "Now segmenting the time series...\n"
     ]
    },
    {
     "data": {
      "application/vnd.jupyter.widget-view+json": {
       "model_id": "388a66a677da47dea9bb5f532b3c2aa6",
       "version_major": 2,
       "version_minor": 0
      },
      "text/plain": [
       "  0%|          | 0/3802 [00:00<?, ?it/s]"
      ]
     },
     "metadata": {},
     "output_type": "display_data"
    },
    {
     "name": "stdout",
     "output_type": "stream",
     "text": [
      "Removing artificial breaks...\n",
      "Now segmenting the time series...\n"
     ]
    },
    {
     "data": {
      "application/vnd.jupyter.widget-view+json": {
       "model_id": "36cf14359d4244ef85f908ffd2541612",
       "version_major": 2,
       "version_minor": 0
      },
      "text/plain": [
       "  0%|          | 0/3802 [00:00<?, ?it/s]"
      ]
     },
     "metadata": {},
     "output_type": "display_data"
    },
    {
     "name": "stdout",
     "output_type": "stream",
     "text": [
      "Removing artificial breaks...\n",
      "Now segmenting the time series...\n"
     ]
    },
    {
     "data": {
      "application/vnd.jupyter.widget-view+json": {
       "model_id": "97a8a29670014f09932b5589c87638f7",
       "version_major": 2,
       "version_minor": 0
      },
      "text/plain": [
       "  0%|          | 0/3802 [00:00<?, ?it/s]"
      ]
     },
     "metadata": {},
     "output_type": "display_data"
    },
    {
     "name": "stdout",
     "output_type": "stream",
     "text": [
      "Removing artificial breaks...\n",
      "Now segmenting the time series...\n"
     ]
    },
    {
     "data": {
      "application/vnd.jupyter.widget-view+json": {
       "model_id": "8b8bd3b93ce744d7a3633eaef05b66c6",
       "version_major": 2,
       "version_minor": 0
      },
      "text/plain": [
       "  0%|          | 0/3802 [00:00<?, ?it/s]"
      ]
     },
     "metadata": {},
     "output_type": "display_data"
    },
    {
     "name": "stdout",
     "output_type": "stream",
     "text": [
      "Removing artificial breaks...\n",
      "Now segmenting the time series...\n"
     ]
    },
    {
     "data": {
      "application/vnd.jupyter.widget-view+json": {
       "model_id": "e386da97b6d74081afba9be328fab474",
       "version_major": 2,
       "version_minor": 0
      },
      "text/plain": [
       "  0%|          | 0/3802 [00:00<?, ?it/s]"
      ]
     },
     "metadata": {},
     "output_type": "display_data"
    },
    {
     "name": "stdout",
     "output_type": "stream",
     "text": [
      "Removing artificial breaks...\n",
      "Now segmenting the time series...\n"
     ]
    },
    {
     "data": {
      "application/vnd.jupyter.widget-view+json": {
       "model_id": "6504df9305bb46df9ca388228d66d3c3",
       "version_major": 2,
       "version_minor": 0
      },
      "text/plain": [
       "  0%|          | 0/3802 [00:00<?, ?it/s]"
      ]
     },
     "metadata": {},
     "output_type": "display_data"
    },
    {
     "name": "stdout",
     "output_type": "stream",
     "text": [
      "Removing artificial breaks...\n",
      "Now segmenting the time series...\n"
     ]
    },
    {
     "data": {
      "application/vnd.jupyter.widget-view+json": {
       "model_id": "d4a4d3d18c674b229e649099ec806219",
       "version_major": 2,
       "version_minor": 0
      },
      "text/plain": [
       "  0%|          | 0/3802 [00:00<?, ?it/s]"
      ]
     },
     "metadata": {},
     "output_type": "display_data"
    },
    {
     "name": "stdout",
     "output_type": "stream",
     "text": [
      "Removing artificial breaks...\n",
      "Now segmenting the time series...\n"
     ]
    },
    {
     "data": {
      "application/vnd.jupyter.widget-view+json": {
       "model_id": "4c4564c183414305bc0d411a5e0482d7",
       "version_major": 2,
       "version_minor": 0
      },
      "text/plain": [
       "  0%|          | 0/3802 [00:00<?, ?it/s]"
      ]
     },
     "metadata": {},
     "output_type": "display_data"
    },
    {
     "name": "stdout",
     "output_type": "stream",
     "text": [
      "Removing artificial breaks...\n",
      "Now segmenting the time series...\n"
     ]
    },
    {
     "data": {
      "application/vnd.jupyter.widget-view+json": {
       "model_id": "bc625d0f5db6415b8ac5ee36e49498f4",
       "version_major": 2,
       "version_minor": 0
      },
      "text/plain": [
       "  0%|          | 0/3802 [00:00<?, ?it/s]"
      ]
     },
     "metadata": {},
     "output_type": "display_data"
    },
    {
     "name": "stdout",
     "output_type": "stream",
     "text": [
      "Removing artificial breaks...\n",
      "Now segmenting the time series...\n"
     ]
    },
    {
     "data": {
      "application/vnd.jupyter.widget-view+json": {
       "model_id": "43245d77df9349558e9744b4539787b7",
       "version_major": 2,
       "version_minor": 0
      },
      "text/plain": [
       "  0%|          | 0/3802 [00:00<?, ?it/s]"
      ]
     },
     "metadata": {},
     "output_type": "display_data"
    },
    {
     "name": "stdout",
     "output_type": "stream",
     "text": [
      "Removing artificial breaks...\n",
      "Now segmenting the time series...\n"
     ]
    },
    {
     "data": {
      "application/vnd.jupyter.widget-view+json": {
       "model_id": "74b1e8c1ef514ac494c24becae5aac18",
       "version_major": 2,
       "version_minor": 0
      },
      "text/plain": [
       "  0%|          | 0/3802 [00:00<?, ?it/s]"
      ]
     },
     "metadata": {},
     "output_type": "display_data"
    },
    {
     "name": "stdout",
     "output_type": "stream",
     "text": [
      "Removing artificial breaks...\n",
      "Now segmenting the time series...\n"
     ]
    },
    {
     "data": {
      "application/vnd.jupyter.widget-view+json": {
       "model_id": "03c260d53f7142f7a921269256e8176e",
       "version_major": 2,
       "version_minor": 0
      },
      "text/plain": [
       "  0%|          | 0/3802 [00:00<?, ?it/s]"
      ]
     },
     "metadata": {},
     "output_type": "display_data"
    },
    {
     "name": "stdout",
     "output_type": "stream",
     "text": [
      "Removing artificial breaks...\n",
      "Now segmenting the time series...\n"
     ]
    },
    {
     "data": {
      "application/vnd.jupyter.widget-view+json": {
       "model_id": "6d0ab92d783a4e0d9d99b72bec4b8a06",
       "version_major": 2,
       "version_minor": 0
      },
      "text/plain": [
       "  0%|          | 0/3802 [00:00<?, ?it/s]"
      ]
     },
     "metadata": {},
     "output_type": "display_data"
    },
    {
     "name": "stdout",
     "output_type": "stream",
     "text": [
      "Removing artificial breaks...\n",
      "Now segmenting the time series...\n"
     ]
    },
    {
     "data": {
      "application/vnd.jupyter.widget-view+json": {
       "model_id": "83570549c9584f44b759dadff07323b4",
       "version_major": 2,
       "version_minor": 0
      },
      "text/plain": [
       "  0%|          | 0/3802 [00:00<?, ?it/s]"
      ]
     },
     "metadata": {},
     "output_type": "display_data"
    },
    {
     "name": "stdout",
     "output_type": "stream",
     "text": [
      "Removing artificial breaks...\n",
      "Now segmenting the time series...\n"
     ]
    },
    {
     "data": {
      "application/vnd.jupyter.widget-view+json": {
       "model_id": "6ebb7b71afce40bda72a305aa867ae4e",
       "version_major": 2,
       "version_minor": 0
      },
      "text/plain": [
       "  0%|          | 0/3802 [00:00<?, ?it/s]"
      ]
     },
     "metadata": {},
     "output_type": "display_data"
    },
    {
     "name": "stdout",
     "output_type": "stream",
     "text": [
      "Removing artificial breaks...\n",
      "Now segmenting the time series...\n"
     ]
    },
    {
     "data": {
      "application/vnd.jupyter.widget-view+json": {
       "model_id": "30b7802d551b433bb7825b09132dcaf0",
       "version_major": 2,
       "version_minor": 0
      },
      "text/plain": [
       "  0%|          | 0/3802 [00:00<?, ?it/s]"
      ]
     },
     "metadata": {},
     "output_type": "display_data"
    },
    {
     "name": "stdout",
     "output_type": "stream",
     "text": [
      "Removing artificial breaks...\n",
      "Now segmenting the time series...\n"
     ]
    },
    {
     "data": {
      "application/vnd.jupyter.widget-view+json": {
       "model_id": "c8fb1f5815dd4bb7b355157c29d1b07f",
       "version_major": 2,
       "version_minor": 0
      },
      "text/plain": [
       "  0%|          | 0/3802 [00:00<?, ?it/s]"
      ]
     },
     "metadata": {},
     "output_type": "display_data"
    },
    {
     "name": "stdout",
     "output_type": "stream",
     "text": [
      "Removing artificial breaks...\n",
      "Now segmenting the time series...\n"
     ]
    },
    {
     "data": {
      "application/vnd.jupyter.widget-view+json": {
       "model_id": "f48b027af6084038b589c5d280b9ec28",
       "version_major": 2,
       "version_minor": 0
      },
      "text/plain": [
       "  0%|          | 0/3802 [00:00<?, ?it/s]"
      ]
     },
     "metadata": {},
     "output_type": "display_data"
    },
    {
     "name": "stdout",
     "output_type": "stream",
     "text": [
      "Removing artificial breaks...\n",
      "Now segmenting the time series...\n"
     ]
    },
    {
     "data": {
      "application/vnd.jupyter.widget-view+json": {
       "model_id": "9cd72ba33b7744778a08120d183f8b0f",
       "version_major": 2,
       "version_minor": 0
      },
      "text/plain": [
       "  0%|          | 0/3802 [00:00<?, ?it/s]"
      ]
     },
     "metadata": {},
     "output_type": "display_data"
    },
    {
     "name": "stdout",
     "output_type": "stream",
     "text": [
      "Removing artificial breaks...\n",
      "Now segmenting the time series...\n"
     ]
    },
    {
     "data": {
      "application/vnd.jupyter.widget-view+json": {
       "model_id": "c46719cb976c4f3eb2cba83840237161",
       "version_major": 2,
       "version_minor": 0
      },
      "text/plain": [
       "  0%|          | 0/3802 [00:00<?, ?it/s]"
      ]
     },
     "metadata": {},
     "output_type": "display_data"
    },
    {
     "name": "stdout",
     "output_type": "stream",
     "text": [
      "Removing artificial breaks...\n",
      "Now segmenting the time series...\n"
     ]
    },
    {
     "data": {
      "application/vnd.jupyter.widget-view+json": {
       "model_id": "6fc8ead2e77042e595e4e8d0290eef38",
       "version_major": 2,
       "version_minor": 0
      },
      "text/plain": [
       "  0%|          | 0/3802 [00:00<?, ?it/s]"
      ]
     },
     "metadata": {},
     "output_type": "display_data"
    },
    {
     "name": "stdout",
     "output_type": "stream",
     "text": [
      "Removing artificial breaks...\n",
      "Now segmenting the time series...\n"
     ]
    },
    {
     "data": {
      "application/vnd.jupyter.widget-view+json": {
       "model_id": "2068b1db4a854fedaacadae2a80ad4ab",
       "version_major": 2,
       "version_minor": 0
      },
      "text/plain": [
       "  0%|          | 0/3802 [00:00<?, ?it/s]"
      ]
     },
     "metadata": {},
     "output_type": "display_data"
    },
    {
     "name": "stdout",
     "output_type": "stream",
     "text": [
      "Removing artificial breaks...\n",
      "Now segmenting the time series...\n"
     ]
    },
    {
     "data": {
      "application/vnd.jupyter.widget-view+json": {
       "model_id": "5ee176ed927a4ce282d3e10b67cc39df",
       "version_major": 2,
       "version_minor": 0
      },
      "text/plain": [
       "  0%|          | 0/3802 [00:00<?, ?it/s]"
      ]
     },
     "metadata": {},
     "output_type": "display_data"
    },
    {
     "name": "stdout",
     "output_type": "stream",
     "text": [
      "Removing artificial breaks...\n",
      "Now segmenting the time series...\n"
     ]
    },
    {
     "data": {
      "application/vnd.jupyter.widget-view+json": {
       "model_id": "3c28a97f7f1f4ece814809bc50fa6f55",
       "version_major": 2,
       "version_minor": 0
      },
      "text/plain": [
       "  0%|          | 0/3802 [00:00<?, ?it/s]"
      ]
     },
     "metadata": {},
     "output_type": "display_data"
    },
    {
     "name": "stdout",
     "output_type": "stream",
     "text": [
      "Removing artificial breaks...\n",
      "Now segmenting the time series...\n"
     ]
    },
    {
     "data": {
      "application/vnd.jupyter.widget-view+json": {
       "model_id": "88495143f13447e095846c0ae0fd2ba9",
       "version_major": 2,
       "version_minor": 0
      },
      "text/plain": [
       "  0%|          | 0/3802 [00:00<?, ?it/s]"
      ]
     },
     "metadata": {},
     "output_type": "display_data"
    },
    {
     "name": "stdout",
     "output_type": "stream",
     "text": [
      "Removing artificial breaks...\n",
      "Now segmenting the time series...\n"
     ]
    },
    {
     "data": {
      "application/vnd.jupyter.widget-view+json": {
       "model_id": "3cb6b27d62f04dc6ba553f2040189de7",
       "version_major": 2,
       "version_minor": 0
      },
      "text/plain": [
       "  0%|          | 0/3802 [00:00<?, ?it/s]"
      ]
     },
     "metadata": {},
     "output_type": "display_data"
    },
    {
     "name": "stdout",
     "output_type": "stream",
     "text": [
      "Removing artificial breaks...\n",
      "Now segmenting the time series...\n"
     ]
    },
    {
     "data": {
      "application/vnd.jupyter.widget-view+json": {
       "model_id": "d1197d49b69b4307aa9409ab8c2e046a",
       "version_major": 2,
       "version_minor": 0
      },
      "text/plain": [
       "  0%|          | 0/3802 [00:00<?, ?it/s]"
      ]
     },
     "metadata": {},
     "output_type": "display_data"
    },
    {
     "name": "stderr",
     "output_type": "stream",
     "text": [
      "/om2/user/eisenaj/anaconda/envs/chaotic-consciousness/lib/python3.9/site-packages/numpy/lib/function_base.py:3964: RuntimeWarning: invalid value encountered in subtract\n",
      "  subtract(b, diff_b_a * (1 - t), out=lerp_interpolation, where=t>=0.5)\n"
     ]
    },
    {
     "name": "stdout",
     "output_type": "stream",
     "text": [
      "Removing artificial breaks...\n",
      "Now segmenting the time series...\n"
     ]
    },
    {
     "data": {
      "application/vnd.jupyter.widget-view+json": {
       "model_id": "005fc5ddbea44aebb30dc556eb2a3818",
       "version_major": 2,
       "version_minor": 0
      },
      "text/plain": [
       "  0%|          | 0/3802 [00:00<?, ?it/s]"
      ]
     },
     "metadata": {},
     "output_type": "display_data"
    },
    {
     "name": "stdout",
     "output_type": "stream",
     "text": [
      "Removing artificial breaks...\n",
      "Now segmenting the time series...\n"
     ]
    },
    {
     "data": {
      "application/vnd.jupyter.widget-view+json": {
       "model_id": "16f84c1a4ef141dfbb5435ab5a57b1d2",
       "version_major": 2,
       "version_minor": 0
      },
      "text/plain": [
       "  0%|          | 0/3802 [00:00<?, ?it/s]"
      ]
     },
     "metadata": {},
     "output_type": "display_data"
    },
    {
     "name": "stdout",
     "output_type": "stream",
     "text": [
      "Removing artificial breaks...\n",
      "Now segmenting the time series...\n"
     ]
    },
    {
     "data": {
      "application/vnd.jupyter.widget-view+json": {
       "model_id": "691d150fc0d04607a6a1914b39cbe0fd",
       "version_major": 2,
       "version_minor": 0
      },
      "text/plain": [
       "  0%|          | 0/3802 [00:00<?, ?it/s]"
      ]
     },
     "metadata": {},
     "output_type": "display_data"
    },
    {
     "name": "stdout",
     "output_type": "stream",
     "text": [
      "Removing artificial breaks...\n",
      "Now segmenting the time series...\n"
     ]
    },
    {
     "data": {
      "application/vnd.jupyter.widget-view+json": {
       "model_id": "d7b9f881daef4b5d9ca94e231da07f71",
       "version_major": 2,
       "version_minor": 0
      },
      "text/plain": [
       "  0%|          | 0/3802 [00:00<?, ?it/s]"
      ]
     },
     "metadata": {},
     "output_type": "display_data"
    },
    {
     "name": "stdout",
     "output_type": "stream",
     "text": [
      "Removing artificial breaks...\n",
      "Now segmenting the time series...\n"
     ]
    },
    {
     "data": {
      "application/vnd.jupyter.widget-view+json": {
       "model_id": "6b2d2dd3e7634cc1ad15a27b30e70118",
       "version_major": 2,
       "version_minor": 0
      },
      "text/plain": [
       "  0%|          | 0/3802 [00:00<?, ?it/s]"
      ]
     },
     "metadata": {},
     "output_type": "display_data"
    },
    {
     "name": "stdout",
     "output_type": "stream",
     "text": [
      "Removing artificial breaks...\n",
      "Now segmenting the time series...\n"
     ]
    },
    {
     "data": {
      "application/vnd.jupyter.widget-view+json": {
       "model_id": "827f1a7100c247a1ae022b7cbd247474",
       "version_major": 2,
       "version_minor": 0
      },
      "text/plain": [
       "  0%|          | 0/3802 [00:00<?, ?it/s]"
      ]
     },
     "metadata": {},
     "output_type": "display_data"
    },
    {
     "name": "stdout",
     "output_type": "stream",
     "text": [
      "Removing artificial breaks...\n",
      "Now segmenting the time series...\n"
     ]
    },
    {
     "data": {
      "application/vnd.jupyter.widget-view+json": {
       "model_id": "59f14f102ef74fb5bb2e3c3f53f32c95",
       "version_major": 2,
       "version_minor": 0
      },
      "text/plain": [
       "  0%|          | 0/3802 [00:00<?, ?it/s]"
      ]
     },
     "metadata": {},
     "output_type": "display_data"
    },
    {
     "name": "stdout",
     "output_type": "stream",
     "text": [
      "Removing artificial breaks...\n",
      "Now segmenting the time series...\n"
     ]
    },
    {
     "data": {
      "application/vnd.jupyter.widget-view+json": {
       "model_id": "16246d7f05b34a1db2b12937f5d90662",
       "version_major": 2,
       "version_minor": 0
      },
      "text/plain": [
       "  0%|          | 0/3802 [00:00<?, ?it/s]"
      ]
     },
     "metadata": {},
     "output_type": "display_data"
    },
    {
     "name": "stderr",
     "output_type": "stream",
     "text": [
      "/om2/user/eisenaj/anaconda/envs/chaotic-consciousness/lib/python3.9/site-packages/numpy/lib/function_base.py:3961: RuntimeWarning: invalid value encountered in subtract\n",
      "  diff_b_a = subtract(b, a)\n"
     ]
    },
    {
     "name": "stdout",
     "output_type": "stream",
     "text": [
      "Removing artificial breaks...\n",
      "Now segmenting the time series...\n"
     ]
    },
    {
     "data": {
      "application/vnd.jupyter.widget-view+json": {
       "model_id": "fd62f3b4acd64fdd90be9157cc5cf373",
       "version_major": 2,
       "version_minor": 0
      },
      "text/plain": [
       "  0%|          | 0/3802 [00:00<?, ?it/s]"
      ]
     },
     "metadata": {},
     "output_type": "display_data"
    },
    {
     "name": "stdout",
     "output_type": "stream",
     "text": [
      "Removing artificial breaks...\n",
      "Now segmenting the time series...\n"
     ]
    },
    {
     "data": {
      "application/vnd.jupyter.widget-view+json": {
       "model_id": "e0e1b4bc30664dbab441ed3bb82ba516",
       "version_major": 2,
       "version_minor": 0
      },
      "text/plain": [
       "  0%|          | 0/3802 [00:00<?, ?it/s]"
      ]
     },
     "metadata": {},
     "output_type": "display_data"
    },
    {
     "name": "stdout",
     "output_type": "stream",
     "text": [
      "Removing artificial breaks...\n",
      "Now segmenting the time series...\n"
     ]
    },
    {
     "data": {
      "application/vnd.jupyter.widget-view+json": {
       "model_id": "c5d08442192e4eedb203fd43e3b4e658",
       "version_major": 2,
       "version_minor": 0
      },
      "text/plain": [
       "  0%|          | 0/3802 [00:00<?, ?it/s]"
      ]
     },
     "metadata": {},
     "output_type": "display_data"
    },
    {
     "name": "stdout",
     "output_type": "stream",
     "text": [
      "Removing artificial breaks...\n",
      "Now segmenting the time series...\n"
     ]
    },
    {
     "data": {
      "application/vnd.jupyter.widget-view+json": {
       "model_id": "670b9571c2154b65b204e0de9b9fa98f",
       "version_major": 2,
       "version_minor": 0
      },
      "text/plain": [
       "  0%|          | 0/3802 [00:00<?, ?it/s]"
      ]
     },
     "metadata": {},
     "output_type": "display_data"
    },
    {
     "name": "stdout",
     "output_type": "stream",
     "text": [
      "Removing artificial breaks...\n",
      "Now segmenting the time series...\n"
     ]
    },
    {
     "data": {
      "application/vnd.jupyter.widget-view+json": {
       "model_id": "fea60c8320c2494a9128d0f5e257a0df",
       "version_major": 2,
       "version_minor": 0
      },
      "text/plain": [
       "  0%|          | 0/3802 [00:00<?, ?it/s]"
      ]
     },
     "metadata": {},
     "output_type": "display_data"
    },
    {
     "name": "stdout",
     "output_type": "stream",
     "text": [
      "Removing artificial breaks...\n",
      "Now segmenting the time series...\n"
     ]
    },
    {
     "data": {
      "application/vnd.jupyter.widget-view+json": {
       "model_id": "4b6461b727d048f5a61d8472920cf3df",
       "version_major": 2,
       "version_minor": 0
      },
      "text/plain": [
       "  0%|          | 0/3802 [00:00<?, ?it/s]"
      ]
     },
     "metadata": {},
     "output_type": "display_data"
    },
    {
     "name": "stdout",
     "output_type": "stream",
     "text": [
      "Removing artificial breaks...\n",
      "Now segmenting the time series...\n"
     ]
    },
    {
     "data": {
      "application/vnd.jupyter.widget-view+json": {
       "model_id": "f546579b7a96464fac20733fee4e6be1",
       "version_major": 2,
       "version_minor": 0
      },
      "text/plain": [
       "  0%|          | 0/3802 [00:00<?, ?it/s]"
      ]
     },
     "metadata": {},
     "output_type": "display_data"
    },
    {
     "name": "stdout",
     "output_type": "stream",
     "text": [
      "Removing artificial breaks...\n",
      "Now segmenting the time series...\n"
     ]
    },
    {
     "data": {
      "application/vnd.jupyter.widget-view+json": {
       "model_id": "31f1318fadf04c9bb7dc5922928adcea",
       "version_major": 2,
       "version_minor": 0
      },
      "text/plain": [
       "  0%|          | 0/3802 [00:00<?, ?it/s]"
      ]
     },
     "metadata": {},
     "output_type": "display_data"
    },
    {
     "name": "stdout",
     "output_type": "stream",
     "text": [
      "Removing artificial breaks...\n",
      "Now segmenting the time series...\n"
     ]
    },
    {
     "data": {
      "application/vnd.jupyter.widget-view+json": {
       "model_id": "1a923cf632994a0684c91c33e969f321",
       "version_major": 2,
       "version_minor": 0
      },
      "text/plain": [
       "  0%|          | 0/3802 [00:00<?, ?it/s]"
      ]
     },
     "metadata": {},
     "output_type": "display_data"
    },
    {
     "name": "stdout",
     "output_type": "stream",
     "text": [
      "Removing artificial breaks...\n",
      "Now segmenting the time series...\n"
     ]
    },
    {
     "data": {
      "application/vnd.jupyter.widget-view+json": {
       "model_id": "83e8973e52a04c9b87fedb15942091f5",
       "version_major": 2,
       "version_minor": 0
      },
      "text/plain": [
       "  0%|          | 0/3802 [00:00<?, ?it/s]"
      ]
     },
     "metadata": {},
     "output_type": "display_data"
    },
    {
     "name": "stdout",
     "output_type": "stream",
     "text": [
      "Removing artificial breaks...\n",
      "Now segmenting the time series...\n"
     ]
    },
    {
     "data": {
      "application/vnd.jupyter.widget-view+json": {
       "model_id": "f0b07551217a4d08bc8775ec1abab879",
       "version_major": 2,
       "version_minor": 0
      },
      "text/plain": [
       "  0%|          | 0/3802 [00:00<?, ?it/s]"
      ]
     },
     "metadata": {},
     "output_type": "display_data"
    },
    {
     "name": "stdout",
     "output_type": "stream",
     "text": [
      "Removing artificial breaks...\n",
      "Now segmenting the time series...\n"
     ]
    },
    {
     "data": {
      "application/vnd.jupyter.widget-view+json": {
       "model_id": "81359e6924fd478d8b2e870338082a8b",
       "version_major": 2,
       "version_minor": 0
      },
      "text/plain": [
       "  0%|          | 0/3802 [00:00<?, ?it/s]"
      ]
     },
     "metadata": {},
     "output_type": "display_data"
    },
    {
     "name": "stdout",
     "output_type": "stream",
     "text": [
      "Removing artificial breaks...\n",
      "Now segmenting the time series...\n"
     ]
    },
    {
     "data": {
      "application/vnd.jupyter.widget-view+json": {
       "model_id": "56cb39cf873d4b2fb4c0ad10a46b6d3b",
       "version_major": 2,
       "version_minor": 0
      },
      "text/plain": [
       "  0%|          | 0/3802 [00:00<?, ?it/s]"
      ]
     },
     "metadata": {},
     "output_type": "display_data"
    },
    {
     "name": "stdout",
     "output_type": "stream",
     "text": [
      "Removing artificial breaks...\n",
      "Now segmenting the time series...\n"
     ]
    },
    {
     "data": {
      "application/vnd.jupyter.widget-view+json": {
       "model_id": "80a3a2c7661a47ea8d035bf40cf32b83",
       "version_major": 2,
       "version_minor": 0
      },
      "text/plain": [
       "  0%|          | 0/3802 [00:00<?, ?it/s]"
      ]
     },
     "metadata": {},
     "output_type": "display_data"
    },
    {
     "name": "stdout",
     "output_type": "stream",
     "text": [
      "Removing artificial breaks...\n",
      "Now segmenting the time series...\n"
     ]
    },
    {
     "data": {
      "application/vnd.jupyter.widget-view+json": {
       "model_id": "c846b4366de44e15a93d6a25776a4d12",
       "version_major": 2,
       "version_minor": 0
      },
      "text/plain": [
       "  0%|          | 0/3802 [00:00<?, ?it/s]"
      ]
     },
     "metadata": {},
     "output_type": "display_data"
    },
    {
     "name": "stdout",
     "output_type": "stream",
     "text": [
      "Removing artificial breaks...\n",
      "Now segmenting the time series...\n"
     ]
    },
    {
     "data": {
      "application/vnd.jupyter.widget-view+json": {
       "model_id": "79d3bb511bc84686aba9f7c254c8d586",
       "version_major": 2,
       "version_minor": 0
      },
      "text/plain": [
       "  0%|          | 0/3802 [00:00<?, ?it/s]"
      ]
     },
     "metadata": {},
     "output_type": "display_data"
    },
    {
     "name": "stdout",
     "output_type": "stream",
     "text": [
      "Removing artificial breaks...\n",
      "Now segmenting the time series...\n"
     ]
    },
    {
     "data": {
      "application/vnd.jupyter.widget-view+json": {
       "model_id": "e614f906992f42bf85f21f278f78322f",
       "version_major": 2,
       "version_minor": 0
      },
      "text/plain": [
       "  0%|          | 0/3802 [00:00<?, ?it/s]"
      ]
     },
     "metadata": {},
     "output_type": "display_data"
    },
    {
     "name": "stdout",
     "output_type": "stream",
     "text": [
      "Removing artificial breaks...\n",
      "Now segmenting the time series...\n"
     ]
    },
    {
     "data": {
      "application/vnd.jupyter.widget-view+json": {
       "model_id": "6a650cb7706b49fda5cf7a95c1b4df99",
       "version_major": 2,
       "version_minor": 0
      },
      "text/plain": [
       "  0%|          | 0/3802 [00:00<?, ?it/s]"
      ]
     },
     "metadata": {},
     "output_type": "display_data"
    },
    {
     "name": "stdout",
     "output_type": "stream",
     "text": [
      "Removing artificial breaks...\n",
      "Now segmenting the time series...\n"
     ]
    },
    {
     "data": {
      "application/vnd.jupyter.widget-view+json": {
       "model_id": "8296f30930f5401f9cd893918c7cbaeb",
       "version_major": 2,
       "version_minor": 0
      },
      "text/plain": [
       "  0%|          | 0/3802 [00:00<?, ?it/s]"
      ]
     },
     "metadata": {},
     "output_type": "display_data"
    },
    {
     "name": "stdout",
     "output_type": "stream",
     "text": [
      "Removing artificial breaks...\n",
      "Now segmenting the time series...\n"
     ]
    },
    {
     "data": {
      "application/vnd.jupyter.widget-view+json": {
       "model_id": "a859d15409fb4ee88539b5493aaefe9b",
       "version_major": 2,
       "version_minor": 0
      },
      "text/plain": [
       "  0%|          | 0/3802 [00:00<?, ?it/s]"
      ]
     },
     "metadata": {},
     "output_type": "display_data"
    },
    {
     "name": "stdout",
     "output_type": "stream",
     "text": [
      "Removing artificial breaks...\n",
      "Now segmenting the time series...\n"
     ]
    },
    {
     "data": {
      "application/vnd.jupyter.widget-view+json": {
       "model_id": "051bea1f8d2243108c8c971525e9ac57",
       "version_major": 2,
       "version_minor": 0
      },
      "text/plain": [
       "  0%|          | 0/3802 [00:00<?, ?it/s]"
      ]
     },
     "metadata": {},
     "output_type": "display_data"
    },
    {
     "name": "stdout",
     "output_type": "stream",
     "text": [
      "Removing artificial breaks...\n",
      "Now segmenting the time series...\n"
     ]
    },
    {
     "data": {
      "application/vnd.jupyter.widget-view+json": {
       "model_id": "1cc50e18ed2e447780cd4c0eb3cd4bfa",
       "version_major": 2,
       "version_minor": 0
      },
      "text/plain": [
       "  0%|          | 0/3802 [00:00<?, ?it/s]"
      ]
     },
     "metadata": {},
     "output_type": "display_data"
    },
    {
     "name": "stdout",
     "output_type": "stream",
     "text": [
      "Removing artificial breaks...\n",
      "Now segmenting the time series...\n"
     ]
    },
    {
     "data": {
      "application/vnd.jupyter.widget-view+json": {
       "model_id": "551b851e778c45aba1370cbea0120f64",
       "version_major": 2,
       "version_minor": 0
      },
      "text/plain": [
       "  0%|          | 0/3802 [00:00<?, ?it/s]"
      ]
     },
     "metadata": {},
     "output_type": "display_data"
    },
    {
     "name": "stdout",
     "output_type": "stream",
     "text": [
      "Removing artificial breaks...\n",
      "Now segmenting the time series...\n"
     ]
    },
    {
     "data": {
      "application/vnd.jupyter.widget-view+json": {
       "model_id": "f0124ddf841b4c019d1b6f9e0a9e72a5",
       "version_major": 2,
       "version_minor": 0
      },
      "text/plain": [
       "  0%|          | 0/3802 [00:00<?, ?it/s]"
      ]
     },
     "metadata": {},
     "output_type": "display_data"
    },
    {
     "name": "stdout",
     "output_type": "stream",
     "text": [
      "Removing artificial breaks...\n",
      "Now segmenting the time series...\n"
     ]
    },
    {
     "data": {
      "application/vnd.jupyter.widget-view+json": {
       "model_id": "9efc2314c8b14ade805d6ad7176cb88e",
       "version_major": 2,
       "version_minor": 0
      },
      "text/plain": [
       "  0%|          | 0/3802 [00:00<?, ?it/s]"
      ]
     },
     "metadata": {},
     "output_type": "display_data"
    },
    {
     "name": "stdout",
     "output_type": "stream",
     "text": [
      "Removing artificial breaks...\n",
      "Now segmenting the time series...\n"
     ]
    },
    {
     "data": {
      "application/vnd.jupyter.widget-view+json": {
       "model_id": "864960ad7b354556a7b0bddeb3757d52",
       "version_major": 2,
       "version_minor": 0
      },
      "text/plain": [
       "  0%|          | 0/3802 [00:00<?, ?it/s]"
      ]
     },
     "metadata": {},
     "output_type": "display_data"
    },
    {
     "name": "stdout",
     "output_type": "stream",
     "text": [
      "Removing artificial breaks...\n",
      "Now segmenting the time series...\n"
     ]
    },
    {
     "data": {
      "application/vnd.jupyter.widget-view+json": {
       "model_id": "0702ec41be7a4cc8afaa04f6cc508fb7",
       "version_major": 2,
       "version_minor": 0
      },
      "text/plain": [
       "  0%|          | 0/3802 [00:00<?, ?it/s]"
      ]
     },
     "metadata": {},
     "output_type": "display_data"
    },
    {
     "name": "stdout",
     "output_type": "stream",
     "text": [
      "Removing artificial breaks...\n",
      "Now segmenting the time series...\n"
     ]
    },
    {
     "data": {
      "application/vnd.jupyter.widget-view+json": {
       "model_id": "f37be17831ac4879b31eb4bbc35337e7",
       "version_major": 2,
       "version_minor": 0
      },
      "text/plain": [
       "  0%|          | 0/3802 [00:00<?, ?it/s]"
      ]
     },
     "metadata": {},
     "output_type": "display_data"
    },
    {
     "name": "stdout",
     "output_type": "stream",
     "text": [
      "Removing artificial breaks...\n",
      "Now segmenting the time series...\n"
     ]
    },
    {
     "data": {
      "application/vnd.jupyter.widget-view+json": {
       "model_id": "f65f0e879f19440daa7f1e12a98b26a9",
       "version_major": 2,
       "version_minor": 0
      },
      "text/plain": [
       "  0%|          | 0/3802 [00:00<?, ?it/s]"
      ]
     },
     "metadata": {},
     "output_type": "display_data"
    },
    {
     "name": "stdout",
     "output_type": "stream",
     "text": [
      "Removing artificial breaks...\n",
      "Now segmenting the time series...\n"
     ]
    },
    {
     "data": {
      "application/vnd.jupyter.widget-view+json": {
       "model_id": "cba93310f8d9488c9fd15b729945602f",
       "version_major": 2,
       "version_minor": 0
      },
      "text/plain": [
       "  0%|          | 0/3802 [00:00<?, ?it/s]"
      ]
     },
     "metadata": {},
     "output_type": "display_data"
    },
    {
     "name": "stdout",
     "output_type": "stream",
     "text": [
      "Removing artificial breaks...\n",
      "Now segmenting the time series...\n"
     ]
    },
    {
     "data": {
      "application/vnd.jupyter.widget-view+json": {
       "model_id": "87bed8ed68a543299972b20cf74f1e48",
       "version_major": 2,
       "version_minor": 0
      },
      "text/plain": [
       "  0%|          | 0/3802 [00:00<?, ?it/s]"
      ]
     },
     "metadata": {},
     "output_type": "display_data"
    },
    {
     "name": "stdout",
     "output_type": "stream",
     "text": [
      "Removing artificial breaks...\n",
      "Now segmenting the time series...\n"
     ]
    },
    {
     "data": {
      "application/vnd.jupyter.widget-view+json": {
       "model_id": "3fd1066d5d1c44fa82d43dc4a77746f0",
       "version_major": 2,
       "version_minor": 0
      },
      "text/plain": [
       "  0%|          | 0/3802 [00:00<?, ?it/s]"
      ]
     },
     "metadata": {},
     "output_type": "display_data"
    },
    {
     "name": "stdout",
     "output_type": "stream",
     "text": [
      "Removing artificial breaks...\n",
      "Now segmenting the time series...\n"
     ]
    },
    {
     "data": {
      "application/vnd.jupyter.widget-view+json": {
       "model_id": "29be4d2740bf4cd6b4433e987c30db13",
       "version_major": 2,
       "version_minor": 0
      },
      "text/plain": [
       "  0%|          | 0/3802 [00:00<?, ?it/s]"
      ]
     },
     "metadata": {},
     "output_type": "display_data"
    },
    {
     "name": "stdout",
     "output_type": "stream",
     "text": [
      "Removing artificial breaks...\n",
      "Now segmenting the time series...\n"
     ]
    },
    {
     "data": {
      "application/vnd.jupyter.widget-view+json": {
       "model_id": "87772f85e60d47f59086f6d5f7e6a646",
       "version_major": 2,
       "version_minor": 0
      },
      "text/plain": [
       "  0%|          | 0/3802 [00:00<?, ?it/s]"
      ]
     },
     "metadata": {},
     "output_type": "display_data"
    },
    {
     "name": "stdout",
     "output_type": "stream",
     "text": [
      "Removing artificial breaks...\n",
      "Now segmenting the time series...\n"
     ]
    },
    {
     "data": {
      "application/vnd.jupyter.widget-view+json": {
       "model_id": "a33e2b0c68fc45b382fe96371ff610c3",
       "version_major": 2,
       "version_minor": 0
      },
      "text/plain": [
       "  0%|          | 0/3802 [00:00<?, ?it/s]"
      ]
     },
     "metadata": {},
     "output_type": "display_data"
    },
    {
     "name": "stdout",
     "output_type": "stream",
     "text": [
      "Removing artificial breaks...\n",
      "Now segmenting the time series...\n"
     ]
    },
    {
     "data": {
      "application/vnd.jupyter.widget-view+json": {
       "model_id": "edfb108033964bd7a6093f78a5fb0384",
       "version_major": 2,
       "version_minor": 0
      },
      "text/plain": [
       "  0%|          | 0/3802 [00:00<?, ?it/s]"
      ]
     },
     "metadata": {},
     "output_type": "display_data"
    },
    {
     "name": "stdout",
     "output_type": "stream",
     "text": [
      "Removing artificial breaks...\n",
      "Now segmenting the time series...\n"
     ]
    },
    {
     "data": {
      "application/vnd.jupyter.widget-view+json": {
       "model_id": "59d5c7acaa8d4419ae081ebf4d39732a",
       "version_major": 2,
       "version_minor": 0
      },
      "text/plain": [
       "  0%|          | 0/3802 [00:00<?, ?it/s]"
      ]
     },
     "metadata": {},
     "output_type": "display_data"
    },
    {
     "name": "stdout",
     "output_type": "stream",
     "text": [
      "Removing artificial breaks...\n",
      "Now segmenting the time series...\n"
     ]
    },
    {
     "data": {
      "application/vnd.jupyter.widget-view+json": {
       "model_id": "3c512d75e90d412a8c8a19a668dbf5fd",
       "version_major": 2,
       "version_minor": 0
      },
      "text/plain": [
       "  0%|          | 0/3802 [00:00<?, ?it/s]"
      ]
     },
     "metadata": {},
     "output_type": "display_data"
    },
    {
     "name": "stdout",
     "output_type": "stream",
     "text": [
      "Removing artificial breaks...\n",
      "Now segmenting the time series...\n"
     ]
    },
    {
     "data": {
      "application/vnd.jupyter.widget-view+json": {
       "model_id": "45f60e3ce0de4b50a57d935db9c981a1",
       "version_major": 2,
       "version_minor": 0
      },
      "text/plain": [
       "  0%|          | 0/3802 [00:00<?, ?it/s]"
      ]
     },
     "metadata": {},
     "output_type": "display_data"
    },
    {
     "name": "stdout",
     "output_type": "stream",
     "text": [
      "Removing artificial breaks...\n",
      "Now segmenting the time series...\n"
     ]
    },
    {
     "data": {
      "application/vnd.jupyter.widget-view+json": {
       "model_id": "8e6908ff795940fca98a5d7af2a456a1",
       "version_major": 2,
       "version_minor": 0
      },
      "text/plain": [
       "  0%|          | 0/3802 [00:00<?, ?it/s]"
      ]
     },
     "metadata": {},
     "output_type": "display_data"
    },
    {
     "name": "stdout",
     "output_type": "stream",
     "text": [
      "Removing artificial breaks...\n",
      "Now segmenting the time series...\n"
     ]
    },
    {
     "data": {
      "application/vnd.jupyter.widget-view+json": {
       "model_id": "b9a030bc789b4f269e2690ef58cfd28f",
       "version_major": 2,
       "version_minor": 0
      },
      "text/plain": [
       "  0%|          | 0/3802 [00:00<?, ?it/s]"
      ]
     },
     "metadata": {},
     "output_type": "display_data"
    },
    {
     "name": "stdout",
     "output_type": "stream",
     "text": [
      "Removing artificial breaks...\n",
      "Now segmenting the time series...\n"
     ]
    },
    {
     "data": {
      "application/vnd.jupyter.widget-view+json": {
       "model_id": "09e6ad4a1a8d42ae848bc8c397bd2392",
       "version_major": 2,
       "version_minor": 0
      },
      "text/plain": [
       "  0%|          | 0/3802 [00:00<?, ?it/s]"
      ]
     },
     "metadata": {},
     "output_type": "display_data"
    },
    {
     "name": "stdout",
     "output_type": "stream",
     "text": [
      "Removing artificial breaks...\n",
      "Now segmenting the time series...\n"
     ]
    },
    {
     "data": {
      "application/vnd.jupyter.widget-view+json": {
       "model_id": "22539f7c3eef4e1d934f994f5ad7ca43",
       "version_major": 2,
       "version_minor": 0
      },
      "text/plain": [
       "  0%|          | 0/3802 [00:00<?, ?it/s]"
      ]
     },
     "metadata": {},
     "output_type": "display_data"
    },
    {
     "name": "stdout",
     "output_type": "stream",
     "text": [
      "Removing artificial breaks...\n",
      "Now segmenting the time series...\n"
     ]
    },
    {
     "data": {
      "application/vnd.jupyter.widget-view+json": {
       "model_id": "17b1880d037546db8115cc0aa1e2064e",
       "version_major": 2,
       "version_minor": 0
      },
      "text/plain": [
       "  0%|          | 0/3802 [00:00<?, ?it/s]"
      ]
     },
     "metadata": {},
     "output_type": "display_data"
    },
    {
     "name": "stdout",
     "output_type": "stream",
     "text": [
      "Removing artificial breaks...\n",
      "Now segmenting the time series...\n"
     ]
    },
    {
     "data": {
      "application/vnd.jupyter.widget-view+json": {
       "model_id": "bec71fb9001c4408ad2b960cfd888efb",
       "version_major": 2,
       "version_minor": 0
      },
      "text/plain": [
       "  0%|          | 0/3802 [00:00<?, ?it/s]"
      ]
     },
     "metadata": {},
     "output_type": "display_data"
    },
    {
     "name": "stdout",
     "output_type": "stream",
     "text": [
      "Removing artificial breaks...\n",
      "Now segmenting the time series...\n"
     ]
    },
    {
     "data": {
      "application/vnd.jupyter.widget-view+json": {
       "model_id": "947f94c78d704e79af8a543b29803e58",
       "version_major": 2,
       "version_minor": 0
      },
      "text/plain": [
       "  0%|          | 0/3802 [00:00<?, ?it/s]"
      ]
     },
     "metadata": {},
     "output_type": "display_data"
    },
    {
     "name": "stdout",
     "output_type": "stream",
     "text": [
      "Removing artificial breaks...\n",
      "Now segmenting the time series...\n"
     ]
    },
    {
     "data": {
      "application/vnd.jupyter.widget-view+json": {
       "model_id": "ae2ef3d661344044a475f11ee24569b5",
       "version_major": 2,
       "version_minor": 0
      },
      "text/plain": [
       "  0%|          | 0/3802 [00:00<?, ?it/s]"
      ]
     },
     "metadata": {},
     "output_type": "display_data"
    },
    {
     "name": "stdout",
     "output_type": "stream",
     "text": [
      "Removing artificial breaks...\n",
      "Now segmenting the time series...\n"
     ]
    },
    {
     "data": {
      "application/vnd.jupyter.widget-view+json": {
       "model_id": "8aab9bce0d834430a07a60bc62ae2149",
       "version_major": 2,
       "version_minor": 0
      },
      "text/plain": [
       "  0%|          | 0/3802 [00:00<?, ?it/s]"
      ]
     },
     "metadata": {},
     "output_type": "display_data"
    },
    {
     "name": "stdout",
     "output_type": "stream",
     "text": [
      "Removing artificial breaks...\n",
      "Now segmenting the time series...\n"
     ]
    },
    {
     "data": {
      "application/vnd.jupyter.widget-view+json": {
       "model_id": "7c0ea26d9212481cb3d3e1b71eac0f94",
       "version_major": 2,
       "version_minor": 0
      },
      "text/plain": [
       "  0%|          | 0/3802 [00:00<?, ?it/s]"
      ]
     },
     "metadata": {},
     "output_type": "display_data"
    },
    {
     "name": "stdout",
     "output_type": "stream",
     "text": [
      "Removing artificial breaks...\n",
      "Now segmenting the time series...\n"
     ]
    },
    {
     "data": {
      "application/vnd.jupyter.widget-view+json": {
       "model_id": "f721e3333fc64276ab8ff501e512da4a",
       "version_major": 2,
       "version_minor": 0
      },
      "text/plain": [
       "  0%|          | 0/3802 [00:00<?, ?it/s]"
      ]
     },
     "metadata": {},
     "output_type": "display_data"
    },
    {
     "name": "stdout",
     "output_type": "stream",
     "text": [
      "Removing artificial breaks...\n",
      "Now segmenting the time series...\n"
     ]
    },
    {
     "data": {
      "application/vnd.jupyter.widget-view+json": {
       "model_id": "1f835b6c433c4820aef73d4b99c2b9e0",
       "version_major": 2,
       "version_minor": 0
      },
      "text/plain": [
       "  0%|          | 0/3802 [00:00<?, ?it/s]"
      ]
     },
     "metadata": {},
     "output_type": "display_data"
    },
    {
     "name": "stdout",
     "output_type": "stream",
     "text": [
      "Removing artificial breaks...\n",
      "Now segmenting the time series...\n"
     ]
    },
    {
     "data": {
      "application/vnd.jupyter.widget-view+json": {
       "model_id": "b35883f04216478f90400391c19fb7ab",
       "version_major": 2,
       "version_minor": 0
      },
      "text/plain": [
       "  0%|          | 0/3802 [00:00<?, ?it/s]"
      ]
     },
     "metadata": {},
     "output_type": "display_data"
    },
    {
     "name": "stderr",
     "output_type": "stream",
     "text": [
      "/om2/user/eisenaj/anaconda/envs/chaotic-consciousness/lib/python3.9/site-packages/numpy/linalg/linalg.py:2098: RuntimeWarning: overflow encountered in slogdet\n",
      "  sign, logdet = _umath_linalg.slogdet(a, signature=signature)\n",
      "/om2/user/eisenaj/anaconda/envs/chaotic-consciousness/lib/python3.9/site-packages/numpy/linalg/linalg.py:2098: RuntimeWarning: invalid value encountered in slogdet\n",
      "  sign, logdet = _umath_linalg.slogdet(a, signature=signature)\n"
     ]
    },
    {
     "name": "stdout",
     "output_type": "stream",
     "text": [
      "Removing artificial breaks...\n",
      "Now segmenting the time series...\n"
     ]
    },
    {
     "data": {
      "application/vnd.jupyter.widget-view+json": {
       "model_id": "152e3a7365f040dd98aa625b0b1afede",
       "version_major": 2,
       "version_minor": 0
      },
      "text/plain": [
       "  0%|          | 0/3802 [00:00<?, ?it/s]"
      ]
     },
     "metadata": {},
     "output_type": "display_data"
    },
    {
     "name": "stdout",
     "output_type": "stream",
     "text": [
      "Removing artificial breaks...\n",
      "Now segmenting the time series...\n"
     ]
    },
    {
     "data": {
      "application/vnd.jupyter.widget-view+json": {
       "model_id": "a5c3c502d6f54f91ada8788cc63adc98",
       "version_major": 2,
       "version_minor": 0
      },
      "text/plain": [
       "  0%|          | 0/3802 [00:00<?, ?it/s]"
      ]
     },
     "metadata": {},
     "output_type": "display_data"
    },
    {
     "name": "stdout",
     "output_type": "stream",
     "text": [
      "Removing artificial breaks...\n",
      "Now segmenting the time series...\n"
     ]
    },
    {
     "data": {
      "application/vnd.jupyter.widget-view+json": {
       "model_id": "ce01c00085a5451cbac498e1bb0b811f",
       "version_major": 2,
       "version_minor": 0
      },
      "text/plain": [
       "  0%|          | 0/3802 [00:00<?, ?it/s]"
      ]
     },
     "metadata": {},
     "output_type": "display_data"
    },
    {
     "name": "stdout",
     "output_type": "stream",
     "text": [
      "Removing artificial breaks...\n",
      "Now segmenting the time series...\n"
     ]
    },
    {
     "data": {
      "application/vnd.jupyter.widget-view+json": {
       "model_id": "a175e8f097ff44ddb9ee5102c2ea3f39",
       "version_major": 2,
       "version_minor": 0
      },
      "text/plain": [
       "  0%|          | 0/3802 [00:00<?, ?it/s]"
      ]
     },
     "metadata": {},
     "output_type": "display_data"
    },
    {
     "name": "stdout",
     "output_type": "stream",
     "text": [
      "Removing artificial breaks...\n",
      "Now segmenting the time series...\n"
     ]
    },
    {
     "data": {
      "application/vnd.jupyter.widget-view+json": {
       "model_id": "0600481e07c44fb19b7ba17099445197",
       "version_major": 2,
       "version_minor": 0
      },
      "text/plain": [
       "  0%|          | 0/3802 [00:00<?, ?it/s]"
      ]
     },
     "metadata": {},
     "output_type": "display_data"
    },
    {
     "name": "stdout",
     "output_type": "stream",
     "text": [
      "Removing artificial breaks...\n",
      "Now segmenting the time series...\n"
     ]
    },
    {
     "data": {
      "application/vnd.jupyter.widget-view+json": {
       "model_id": "94a21936fc744be09f781d936ed6414f",
       "version_major": 2,
       "version_minor": 0
      },
      "text/plain": [
       "  0%|          | 0/3802 [00:00<?, ?it/s]"
      ]
     },
     "metadata": {},
     "output_type": "display_data"
    },
    {
     "name": "stdout",
     "output_type": "stream",
     "text": [
      "Removing artificial breaks...\n",
      "Now segmenting the time series...\n"
     ]
    },
    {
     "data": {
      "application/vnd.jupyter.widget-view+json": {
       "model_id": "8d3520cb457f4dd2a2bdf9026cd26029",
       "version_major": 2,
       "version_minor": 0
      },
      "text/plain": [
       "  0%|          | 0/3802 [00:00<?, ?it/s]"
      ]
     },
     "metadata": {},
     "output_type": "display_data"
    },
    {
     "name": "stdout",
     "output_type": "stream",
     "text": [
      "Removing artificial breaks...\n",
      "Now segmenting the time series...\n"
     ]
    },
    {
     "data": {
      "application/vnd.jupyter.widget-view+json": {
       "model_id": "00fb11c961df44ebac2eb7b913b2b6a5",
       "version_major": 2,
       "version_minor": 0
      },
      "text/plain": [
       "  0%|          | 0/3802 [00:00<?, ?it/s]"
      ]
     },
     "metadata": {},
     "output_type": "display_data"
    },
    {
     "name": "stdout",
     "output_type": "stream",
     "text": [
      "Removing artificial breaks...\n",
      "Now segmenting the time series...\n"
     ]
    },
    {
     "data": {
      "application/vnd.jupyter.widget-view+json": {
       "model_id": "5e7a9ba06f8a402f80f4c0883a2a9368",
       "version_major": 2,
       "version_minor": 0
      },
      "text/plain": [
       "  0%|          | 0/3802 [00:00<?, ?it/s]"
      ]
     },
     "metadata": {},
     "output_type": "display_data"
    },
    {
     "name": "stdout",
     "output_type": "stream",
     "text": [
      "Removing artificial breaks...\n",
      "Now segmenting the time series...\n"
     ]
    },
    {
     "data": {
      "application/vnd.jupyter.widget-view+json": {
       "model_id": "1111974112914b6a83a5a998ee357b88",
       "version_major": 2,
       "version_minor": 0
      },
      "text/plain": [
       "  0%|          | 0/3802 [00:00<?, ?it/s]"
      ]
     },
     "metadata": {},
     "output_type": "display_data"
    },
    {
     "name": "stdout",
     "output_type": "stream",
     "text": [
      "Removing artificial breaks...\n",
      "Now segmenting the time series...\n"
     ]
    },
    {
     "data": {
      "application/vnd.jupyter.widget-view+json": {
       "model_id": "52e002be733d4f73b50590025671afea",
       "version_major": 2,
       "version_minor": 0
      },
      "text/plain": [
       "  0%|          | 0/3802 [00:00<?, ?it/s]"
      ]
     },
     "metadata": {},
     "output_type": "display_data"
    },
    {
     "name": "stdout",
     "output_type": "stream",
     "text": [
      "Removing artificial breaks...\n",
      "Now segmenting the time series...\n"
     ]
    },
    {
     "data": {
      "application/vnd.jupyter.widget-view+json": {
       "model_id": "79bc2ac9cd5c4e06b4e1d0677a4bd889",
       "version_major": 2,
       "version_minor": 0
      },
      "text/plain": [
       "  0%|          | 0/3802 [00:00<?, ?it/s]"
      ]
     },
     "metadata": {},
     "output_type": "display_data"
    },
    {
     "name": "stdout",
     "output_type": "stream",
     "text": [
      "Removing artificial breaks...\n",
      "Now segmenting the time series...\n"
     ]
    },
    {
     "data": {
      "application/vnd.jupyter.widget-view+json": {
       "model_id": "f15c4c98c9c54559aded0821badf7b84",
       "version_major": 2,
       "version_minor": 0
      },
      "text/plain": [
       "  0%|          | 0/3802 [00:00<?, ?it/s]"
      ]
     },
     "metadata": {},
     "output_type": "display_data"
    },
    {
     "name": "stdout",
     "output_type": "stream",
     "text": [
      "Removing artificial breaks...\n",
      "Now segmenting the time series...\n"
     ]
    },
    {
     "data": {
      "application/vnd.jupyter.widget-view+json": {
       "model_id": "5e1433e431274d33a9fa18fae751d2d6",
       "version_major": 2,
       "version_minor": 0
      },
      "text/plain": [
       "  0%|          | 0/3802 [00:00<?, ?it/s]"
      ]
     },
     "metadata": {},
     "output_type": "display_data"
    },
    {
     "name": "stdout",
     "output_type": "stream",
     "text": [
      "Removing artificial breaks...\n",
      "Now segmenting the time series...\n"
     ]
    },
    {
     "data": {
      "application/vnd.jupyter.widget-view+json": {
       "model_id": "1d16c98e330b4f758a021a12f0299708",
       "version_major": 2,
       "version_minor": 0
      },
      "text/plain": [
       "  0%|          | 0/3802 [00:00<?, ?it/s]"
      ]
     },
     "metadata": {},
     "output_type": "display_data"
    },
    {
     "name": "stdout",
     "output_type": "stream",
     "text": [
      "Removing artificial breaks...\n",
      "Now segmenting the time series...\n"
     ]
    },
    {
     "data": {
      "application/vnd.jupyter.widget-view+json": {
       "model_id": "5cc4f758c2634ae4a84342f8458d859c",
       "version_major": 2,
       "version_minor": 0
      },
      "text/plain": [
       "  0%|          | 0/3802 [00:00<?, ?it/s]"
      ]
     },
     "metadata": {},
     "output_type": "display_data"
    },
    {
     "name": "stdout",
     "output_type": "stream",
     "text": [
      "Removing artificial breaks...\n",
      "Now segmenting the time series...\n"
     ]
    },
    {
     "data": {
      "application/vnd.jupyter.widget-view+json": {
       "model_id": "bcd065efd44445b5b10772f4edac8c10",
       "version_major": 2,
       "version_minor": 0
      },
      "text/plain": [
       "  0%|          | 0/3802 [00:00<?, ?it/s]"
      ]
     },
     "metadata": {},
     "output_type": "display_data"
    },
    {
     "name": "stdout",
     "output_type": "stream",
     "text": [
      "Removing artificial breaks...\n",
      "Now segmenting the time series...\n"
     ]
    },
    {
     "data": {
      "application/vnd.jupyter.widget-view+json": {
       "model_id": "b0555e0e7b3f46b983701186c18ad6b7",
       "version_major": 2,
       "version_minor": 0
      },
      "text/plain": [
       "  0%|          | 0/3802 [00:00<?, ?it/s]"
      ]
     },
     "metadata": {},
     "output_type": "display_data"
    },
    {
     "name": "stdout",
     "output_type": "stream",
     "text": [
      "Removing artificial breaks...\n",
      "Now segmenting the time series...\n"
     ]
    },
    {
     "data": {
      "application/vnd.jupyter.widget-view+json": {
       "model_id": "1988ed9828614eaba72943d531a501cf",
       "version_major": 2,
       "version_minor": 0
      },
      "text/plain": [
       "  0%|          | 0/3802 [00:00<?, ?it/s]"
      ]
     },
     "metadata": {},
     "output_type": "display_data"
    },
    {
     "name": "stdout",
     "output_type": "stream",
     "text": [
      "Removing artificial breaks...\n",
      "Now segmenting the time series...\n"
     ]
    },
    {
     "data": {
      "application/vnd.jupyter.widget-view+json": {
       "model_id": "d0e2b9a49eb9406981cf81703dd2af70",
       "version_major": 2,
       "version_minor": 0
      },
      "text/plain": [
       "  0%|          | 0/3802 [00:00<?, ?it/s]"
      ]
     },
     "metadata": {},
     "output_type": "display_data"
    },
    {
     "name": "stdout",
     "output_type": "stream",
     "text": [
      "Removing artificial breaks...\n",
      "Now segmenting the time series...\n"
     ]
    },
    {
     "data": {
      "application/vnd.jupyter.widget-view+json": {
       "model_id": "11c2ee240096454db3f9705fe9590bcc",
       "version_major": 2,
       "version_minor": 0
      },
      "text/plain": [
       "  0%|          | 0/3802 [00:00<?, ?it/s]"
      ]
     },
     "metadata": {},
     "output_type": "display_data"
    },
    {
     "name": "stdout",
     "output_type": "stream",
     "text": [
      "Removing artificial breaks...\n",
      "Now segmenting the time series...\n"
     ]
    },
    {
     "data": {
      "application/vnd.jupyter.widget-view+json": {
       "model_id": "13881366d45046a88a47a066f886aaf5",
       "version_major": 2,
       "version_minor": 0
      },
      "text/plain": [
       "  0%|          | 0/3802 [00:00<?, ?it/s]"
      ]
     },
     "metadata": {},
     "output_type": "display_data"
    },
    {
     "name": "stdout",
     "output_type": "stream",
     "text": [
      "Removing artificial breaks...\n",
      "Now segmenting the time series...\n"
     ]
    },
    {
     "data": {
      "application/vnd.jupyter.widget-view+json": {
       "model_id": "a45256188e30458384b617462d8506a7",
       "version_major": 2,
       "version_minor": 0
      },
      "text/plain": [
       "  0%|          | 0/3802 [00:00<?, ?it/s]"
      ]
     },
     "metadata": {},
     "output_type": "display_data"
    },
    {
     "name": "stdout",
     "output_type": "stream",
     "text": [
      "Removing artificial breaks...\n",
      "Now segmenting the time series...\n"
     ]
    },
    {
     "data": {
      "application/vnd.jupyter.widget-view+json": {
       "model_id": "f36a6ce23eb84822aec9b2b19f835d5f",
       "version_major": 2,
       "version_minor": 0
      },
      "text/plain": [
       "  0%|          | 0/3802 [00:00<?, ?it/s]"
      ]
     },
     "metadata": {},
     "output_type": "display_data"
    },
    {
     "name": "stdout",
     "output_type": "stream",
     "text": [
      "Removing artificial breaks...\n",
      "Now segmenting the time series...\n"
     ]
    },
    {
     "data": {
      "application/vnd.jupyter.widget-view+json": {
       "model_id": "1c433e9ee97848f2b8dfa7485fdcb9e1",
       "version_major": 2,
       "version_minor": 0
      },
      "text/plain": [
       "  0%|          | 0/3802 [00:00<?, ?it/s]"
      ]
     },
     "metadata": {},
     "output_type": "display_data"
    },
    {
     "name": "stdout",
     "output_type": "stream",
     "text": [
      "Removing artificial breaks...\n",
      "Now segmenting the time series...\n"
     ]
    },
    {
     "data": {
      "application/vnd.jupyter.widget-view+json": {
       "model_id": "57ba9d24f22247f4bae9647e95fc6161",
       "version_major": 2,
       "version_minor": 0
      },
      "text/plain": [
       "  0%|          | 0/3802 [00:00<?, ?it/s]"
      ]
     },
     "metadata": {},
     "output_type": "display_data"
    },
    {
     "name": "stdout",
     "output_type": "stream",
     "text": [
      "Removing artificial breaks...\n",
      "Now segmenting the time series...\n"
     ]
    },
    {
     "data": {
      "application/vnd.jupyter.widget-view+json": {
       "model_id": "829f0b3500ac494d94f9e60112518961",
       "version_major": 2,
       "version_minor": 0
      },
      "text/plain": [
       "  0%|          | 0/3802 [00:00<?, ?it/s]"
      ]
     },
     "metadata": {},
     "output_type": "display_data"
    },
    {
     "name": "stdout",
     "output_type": "stream",
     "text": [
      "Removing artificial breaks...\n",
      "Now segmenting the time series...\n"
     ]
    },
    {
     "data": {
      "application/vnd.jupyter.widget-view+json": {
       "model_id": "19b6fbf1723f438e89d7819bb8c331a2",
       "version_major": 2,
       "version_minor": 0
      },
      "text/plain": [
       "  0%|          | 0/3802 [00:00<?, ?it/s]"
      ]
     },
     "metadata": {},
     "output_type": "display_data"
    },
    {
     "name": "stdout",
     "output_type": "stream",
     "text": [
      "Removing artificial breaks...\n",
      "Now segmenting the time series...\n"
     ]
    },
    {
     "data": {
      "application/vnd.jupyter.widget-view+json": {
       "model_id": "4adb7875cf484ebf8848e337edcc7498",
       "version_major": 2,
       "version_minor": 0
      },
      "text/plain": [
       "  0%|          | 0/3802 [00:00<?, ?it/s]"
      ]
     },
     "metadata": {},
     "output_type": "display_data"
    },
    {
     "name": "stdout",
     "output_type": "stream",
     "text": [
      "Removing artificial breaks...\n",
      "Now segmenting the time series...\n"
     ]
    },
    {
     "data": {
      "application/vnd.jupyter.widget-view+json": {
       "model_id": "4f136c5e5d8547168533b7dc32a8f45d",
       "version_major": 2,
       "version_minor": 0
      },
      "text/plain": [
       "  0%|          | 0/3802 [00:00<?, ?it/s]"
      ]
     },
     "metadata": {},
     "output_type": "display_data"
    },
    {
     "name": "stdout",
     "output_type": "stream",
     "text": [
      "Removing artificial breaks...\n",
      "Now segmenting the time series...\n"
     ]
    },
    {
     "data": {
      "application/vnd.jupyter.widget-view+json": {
       "model_id": "0eeb51883deb45899d26dad06489e13c",
       "version_major": 2,
       "version_minor": 0
      },
      "text/plain": [
       "  0%|          | 0/3802 [00:00<?, ?it/s]"
      ]
     },
     "metadata": {},
     "output_type": "display_data"
    },
    {
     "name": "stdout",
     "output_type": "stream",
     "text": [
      "Removing artificial breaks...\n",
      "Now segmenting the time series...\n"
     ]
    },
    {
     "data": {
      "application/vnd.jupyter.widget-view+json": {
       "model_id": "5758f19834d4488cac9b1fa374cc03da",
       "version_major": 2,
       "version_minor": 0
      },
      "text/plain": [
       "  0%|          | 0/3802 [00:00<?, ?it/s]"
      ]
     },
     "metadata": {},
     "output_type": "display_data"
    },
    {
     "name": "stdout",
     "output_type": "stream",
     "text": [
      "Removing artificial breaks...\n",
      "Now segmenting the time series...\n"
     ]
    },
    {
     "data": {
      "application/vnd.jupyter.widget-view+json": {
       "model_id": "e4a06185d9f948088d5764d0e3746ba8",
       "version_major": 2,
       "version_minor": 0
      },
      "text/plain": [
       "  0%|          | 0/3802 [00:00<?, ?it/s]"
      ]
     },
     "metadata": {},
     "output_type": "display_data"
    },
    {
     "name": "stdout",
     "output_type": "stream",
     "text": [
      "Removing artificial breaks...\n",
      "Now segmenting the time series...\n"
     ]
    },
    {
     "data": {
      "application/vnd.jupyter.widget-view+json": {
       "model_id": "5c5cb60da70543dca5bb5691d05644c7",
       "version_major": 2,
       "version_minor": 0
      },
      "text/plain": [
       "  0%|          | 0/3802 [00:00<?, ?it/s]"
      ]
     },
     "metadata": {},
     "output_type": "display_data"
    },
    {
     "name": "stdout",
     "output_type": "stream",
     "text": [
      "Removing artificial breaks...\n",
      "Now segmenting the time series...\n"
     ]
    },
    {
     "data": {
      "application/vnd.jupyter.widget-view+json": {
       "model_id": "71b0a723f2034e718d140751474522e1",
       "version_major": 2,
       "version_minor": 0
      },
      "text/plain": [
       "  0%|          | 0/3802 [00:00<?, ?it/s]"
      ]
     },
     "metadata": {},
     "output_type": "display_data"
    },
    {
     "name": "stdout",
     "output_type": "stream",
     "text": [
      "Removing artificial breaks...\n",
      "Now segmenting the time series...\n"
     ]
    },
    {
     "data": {
      "application/vnd.jupyter.widget-view+json": {
       "model_id": "7ed337edeed543d6aa42b4259837a9f2",
       "version_major": 2,
       "version_minor": 0
      },
      "text/plain": [
       "  0%|          | 0/3802 [00:00<?, ?it/s]"
      ]
     },
     "metadata": {},
     "output_type": "display_data"
    },
    {
     "name": "stdout",
     "output_type": "stream",
     "text": [
      "Removing artificial breaks...\n",
      "Now segmenting the time series...\n"
     ]
    },
    {
     "data": {
      "application/vnd.jupyter.widget-view+json": {
       "model_id": "a4ef7ec2d9e8447788b4fe066890062e",
       "version_major": 2,
       "version_minor": 0
      },
      "text/plain": [
       "  0%|          | 0/3802 [00:00<?, ?it/s]"
      ]
     },
     "metadata": {},
     "output_type": "display_data"
    },
    {
     "name": "stdout",
     "output_type": "stream",
     "text": [
      "Removing artificial breaks...\n",
      "Now segmenting the time series...\n"
     ]
    },
    {
     "data": {
      "application/vnd.jupyter.widget-view+json": {
       "model_id": "a71554a87dd6435ead1b9183f7645af0",
       "version_major": 2,
       "version_minor": 0
      },
      "text/plain": [
       "  0%|          | 0/3802 [00:00<?, ?it/s]"
      ]
     },
     "metadata": {},
     "output_type": "display_data"
    },
    {
     "name": "stdout",
     "output_type": "stream",
     "text": [
      "Removing artificial breaks...\n",
      "Now segmenting the time series...\n"
     ]
    },
    {
     "data": {
      "application/vnd.jupyter.widget-view+json": {
       "model_id": "7488c973ce0b4914ba4c4695d6ea7d77",
       "version_major": 2,
       "version_minor": 0
      },
      "text/plain": [
       "  0%|          | 0/3802 [00:00<?, ?it/s]"
      ]
     },
     "metadata": {},
     "output_type": "display_data"
    },
    {
     "name": "stdout",
     "output_type": "stream",
     "text": [
      "Removing artificial breaks...\n",
      "Now segmenting the time series...\n"
     ]
    },
    {
     "data": {
      "application/vnd.jupyter.widget-view+json": {
       "model_id": "0f5cef6b89ff4292babd71273d5faa45",
       "version_major": 2,
       "version_minor": 0
      },
      "text/plain": [
       "  0%|          | 0/3802 [00:00<?, ?it/s]"
      ]
     },
     "metadata": {},
     "output_type": "display_data"
    },
    {
     "name": "stdout",
     "output_type": "stream",
     "text": [
      "Removing artificial breaks...\n",
      "Now segmenting the time series...\n"
     ]
    },
    {
     "data": {
      "application/vnd.jupyter.widget-view+json": {
       "model_id": "ea272287b7f14c15804113a61e6d9890",
       "version_major": 2,
       "version_minor": 0
      },
      "text/plain": [
       "  0%|          | 0/3802 [00:00<?, ?it/s]"
      ]
     },
     "metadata": {},
     "output_type": "display_data"
    },
    {
     "name": "stdout",
     "output_type": "stream",
     "text": [
      "Removing artificial breaks...\n",
      "Now segmenting the time series...\n"
     ]
    },
    {
     "data": {
      "application/vnd.jupyter.widget-view+json": {
       "model_id": "7acade904efd41fb830f3482b9c409f4",
       "version_major": 2,
       "version_minor": 0
      },
      "text/plain": [
       "  0%|          | 0/3802 [00:00<?, ?it/s]"
      ]
     },
     "metadata": {},
     "output_type": "display_data"
    },
    {
     "name": "stdout",
     "output_type": "stream",
     "text": [
      "Removing artificial breaks...\n",
      "Now segmenting the time series...\n"
     ]
    },
    {
     "data": {
      "application/vnd.jupyter.widget-view+json": {
       "model_id": "9d3bd6af76af4db39de87e76e87f504d",
       "version_major": 2,
       "version_minor": 0
      },
      "text/plain": [
       "  0%|          | 0/3802 [00:00<?, ?it/s]"
      ]
     },
     "metadata": {},
     "output_type": "display_data"
    },
    {
     "name": "stdout",
     "output_type": "stream",
     "text": [
      "Removing artificial breaks...\n",
      "Now segmenting the time series...\n"
     ]
    },
    {
     "data": {
      "application/vnd.jupyter.widget-view+json": {
       "model_id": "d16d5ae1812a462692b34c3ae13d49b9",
       "version_major": 2,
       "version_minor": 0
      },
      "text/plain": [
       "  0%|          | 0/3802 [00:00<?, ?it/s]"
      ]
     },
     "metadata": {},
     "output_type": "display_data"
    },
    {
     "name": "stdout",
     "output_type": "stream",
     "text": [
      "Removing artificial breaks...\n",
      "Now segmenting the time series...\n"
     ]
    },
    {
     "data": {
      "application/vnd.jupyter.widget-view+json": {
       "model_id": "cd049f5007f449a68a4483a0492d2524",
       "version_major": 2,
       "version_minor": 0
      },
      "text/plain": [
       "  0%|          | 0/3802 [00:00<?, ?it/s]"
      ]
     },
     "metadata": {},
     "output_type": "display_data"
    },
    {
     "name": "stdout",
     "output_type": "stream",
     "text": [
      "Removing artificial breaks...\n",
      "Now segmenting the time series...\n"
     ]
    },
    {
     "data": {
      "application/vnd.jupyter.widget-view+json": {
       "model_id": "29d845868f4d430882336a9fcb8759c2",
       "version_major": 2,
       "version_minor": 0
      },
      "text/plain": [
       "  0%|          | 0/3802 [00:00<?, ?it/s]"
      ]
     },
     "metadata": {},
     "output_type": "display_data"
    },
    {
     "name": "stdout",
     "output_type": "stream",
     "text": [
      "Removing artificial breaks...\n",
      "Now segmenting the time series...\n"
     ]
    },
    {
     "data": {
      "application/vnd.jupyter.widget-view+json": {
       "model_id": "a5144c08dc78440aade81a0559c5865b",
       "version_major": 2,
       "version_minor": 0
      },
      "text/plain": [
       "  0%|          | 0/3802 [00:00<?, ?it/s]"
      ]
     },
     "metadata": {},
     "output_type": "display_data"
    },
    {
     "name": "stdout",
     "output_type": "stream",
     "text": [
      "Removing artificial breaks...\n",
      "Now segmenting the time series...\n"
     ]
    },
    {
     "data": {
      "application/vnd.jupyter.widget-view+json": {
       "model_id": "1ad26b8d04aa4b1e9bd9e3265c4213f1",
       "version_major": 2,
       "version_minor": 0
      },
      "text/plain": [
       "  0%|          | 0/3802 [00:00<?, ?it/s]"
      ]
     },
     "metadata": {},
     "output_type": "display_data"
    },
    {
     "name": "stdout",
     "output_type": "stream",
     "text": [
      "Removing artificial breaks...\n",
      "Now segmenting the time series...\n"
     ]
    },
    {
     "data": {
      "application/vnd.jupyter.widget-view+json": {
       "model_id": "fb5c67e8555d4a898c962ca4cc4e628e",
       "version_major": 2,
       "version_minor": 0
      },
      "text/plain": [
       "  0%|          | 0/3802 [00:00<?, ?it/s]"
      ]
     },
     "metadata": {},
     "output_type": "display_data"
    },
    {
     "name": "stdout",
     "output_type": "stream",
     "text": [
      "Removing artificial breaks...\n",
      "Now segmenting the time series...\n"
     ]
    },
    {
     "data": {
      "application/vnd.jupyter.widget-view+json": {
       "model_id": "23ffbc259d8142109cdbe4fa3dce8d93",
       "version_major": 2,
       "version_minor": 0
      },
      "text/plain": [
       "  0%|          | 0/3802 [00:00<?, ?it/s]"
      ]
     },
     "metadata": {},
     "output_type": "display_data"
    },
    {
     "name": "stdout",
     "output_type": "stream",
     "text": [
      "Removing artificial breaks...\n",
      "Now segmenting the time series...\n"
     ]
    },
    {
     "data": {
      "application/vnd.jupyter.widget-view+json": {
       "model_id": "5fd480b4805543e1a617fd1966798332",
       "version_major": 2,
       "version_minor": 0
      },
      "text/plain": [
       "  0%|          | 0/3802 [00:00<?, ?it/s]"
      ]
     },
     "metadata": {},
     "output_type": "display_data"
    },
    {
     "name": "stdout",
     "output_type": "stream",
     "text": [
      "Removing artificial breaks...\n"
     ]
    }
   ],
   "source": [
    "N=50\n",
    "per=97.5\n",
    "cond_thresh = np.power(10, np.ceil(kneedle.elbow_y))\n",
    "window_options_ms = [int(w/dt) for w in window_options]\n",
    "\n",
    "results = [] \n",
    "\n",
    "iterator = tqdm(total=num_subjects*num_trials)\n",
    "for subject_ind in range(num_subjects):\n",
    "    for trial_ind in range(num_trials):\n",
    "        \n",
    "        sample_tseries = data[subject_ind, trial_ind]\n",
    "        \n",
    "        #apply segmentation algorithm\n",
    "        breaks_segments=lvar.change_point(window_options_ms,N,per,np.ma.array(sample_tseries),20,cond_thresh=cond_thresh, verbose=True) \n",
    "        #cond_thresh is chosen in accordance to the condition number plot\n",
    "        \n",
    "        windows_segment,segments=breaks_segments\n",
    "        #compute thetas in the obtained windows_segment\n",
    "        thetas_final=[]\n",
    "        for idx,seg in enumerate(segments):\n",
    "            segment_windows=np.copy(windows_segment[idx])\n",
    "            segments_windows=list(segment_windows)\n",
    "            thetas=[]\n",
    "            for seg_w in segment_windows:\n",
    "                i_0,i_f=seg_w\n",
    "                window_bw=sample_tseries[i_0:i_f]\n",
    "                theta,eps=lvarc.get_theta(window_bw,1)\n",
    "                thetas.append(np.vstack(theta))\n",
    "            thetas_final.append(thetas)\n",
    "        thetas_final=np.concatenate(thetas_final)\n",
    "        windows_final=np.concatenate(windows_segment)\n",
    "        \n",
    "        criticality_indices = np.zeros((len(windows_final), data.shape[-1]))\n",
    "        for i, theta in enumerate(thetas_final):\n",
    "            c,A,cov=lvarc.decomposed_theta(theta)\n",
    "            A = A.T\n",
    "            e = np.linalg.eigvals(A)\n",
    "            criticality_indices[i] = np.abs(e)\n",
    "        #     coef=(A-np.identity(theta.shape[1]))*frameRate\n",
    "        #     all_eigs.append(np.linalg.eigvals(coef))\n",
    "        \n",
    "        results.append(dict(\n",
    "            windows_final = windows_final,\n",
    "            thetas_final = thetas_final,\n",
    "            criticality_indices = criticality_indices,\n",
    "            subject_ind = subject_ind,\n",
    "            subject_num = subject_ind + 1,\n",
    "            trial_ind = trial_ind,\n",
    "            situation_num = trial_ind + 1\n",
    "        ))\n",
    "        iterator.update()"
   ]
  },
  {
   "cell_type": "code",
   "execution_count": 31,
   "id": "109495e8",
   "metadata": {},
   "outputs": [],
   "source": [
    "save(results, os.path.join(data_dir, f'results_locallinearseg_{area}'))"
   ]
  },
  {
   "cell_type": "markdown",
   "id": "6f810330",
   "metadata": {},
   "source": [
    "# Load Results"
   ]
  },
  {
   "cell_type": "code",
   "execution_count": 10,
   "id": "e09615c6",
   "metadata": {},
   "outputs": [],
   "source": [
    "results = load(os.path.join(data_dir, f'results_locallinearseg_{area}'))"
   ]
  },
  {
   "cell_type": "code",
   "execution_count": 11,
   "id": "75abf060",
   "metadata": {},
   "outputs": [],
   "source": [
    "results = pd.DataFrame(results)\n",
    "extra_cols = []\n",
    "for i, row in results.iterrows():\n",
    "    response_row = response_df[np.logical_and(response_df['Id Participant'] == f\"S{row.subject_num:02d}\", response_df['Id situation '] == row.situation_num)].iloc[0]\n",
    "    extra_cols.append(dict(\n",
    "        valence=response_row.valence,\n",
    "        arousal=response_row.Arousal,\n",
    "        hamilton1=response_row.Hmilton1,\n",
    "        hamilton2=response_row.Hamilton2,\n",
    "        situation_provocante=response_row['Situation provocante'],\n",
    "        anxious=response_row.anxious,\n",
    "        anxiety_level=response_row.anxiety_level\n",
    "    ))\n",
    "results_df = pd.concat([results, pd.DataFrame(extra_cols)], axis=1)"
   ]
  },
  {
   "cell_type": "code",
   "execution_count": 12,
   "id": "daf8f078",
   "metadata": {},
   "outputs": [],
   "source": [
    "drop_inds = []\n",
    "for i, row in results_df.iterrows():\n",
    "    if row.criticality_indices.max() > 10:\n",
    "        drop_inds.append(i)\n",
    "results_df = results_df.drop(drop_inds)"
   ]
  },
  {
   "cell_type": "code",
   "execution_count": 13,
   "id": "d39b61e4",
   "metadata": {},
   "outputs": [
    {
     "data": {
      "image/png": "[encoded data removed]",
      "text/plain": [
       "<Figure size 864x576 with 6 Axes>"
      ]
     },
     "metadata": {
      "needs_background": "light"
     },
     "output_type": "display_data"
    }
   ],
   "source": [
    "subject_num = 5\n",
    "\n",
    "rows = 3\n",
    "cols = 2\n",
    "fig, axs = plt.subplots(rows, cols, figsize=(12, 8))\n",
    "\n",
    "for situation_num in range(1, 7):\n",
    "    ax = axs[int((situation_num - 1)/cols)][(situation_num - 1)%cols]\n",
    "    row = results_df[np.logical_and(results_df.subject_num == subject_num, results_df.situation_num == situation_num)].iloc[0]\n",
    "    t = row.windows_final[:, 0]\n",
    "    mean_CIs = row.criticality_indices.mean(axis=1)\n",
    "    stderr_CIs = row.criticality_indices.std(axis=1)/np.sqrt(row.criticality_indices.shape[1])\n",
    "    ax.plot(t, mean_CIs)\n",
    "    ax.fill_between(t, mean_CIs - stderr_CIs, mean_CIs + stderr_CIs, alpha=0.2)\n",
    "    ax.set_xlabel(\"Time (s)\")\n",
    "    anxiety_add_on = f\"{row.anxiety_level} anxiety\" if row.anxious else \"no anxiety\"\n",
    "    ax.set_title(f\"Situation {situation_num}\\n{anxiety_add_on}\")\n",
    "    ax.set_ylabel(\"Criticality\")\n",
    "plt.suptitle(f\"Subject {subject_num}\\nLocally Linear Segmentation\\nbefore = {row.hamilton1}, after = {row.hamilton2}\" + (\"\\n(frontal electrodes only)\" if area == 'frontal' else \"\\nall electrodes\"))\n",
    "plt.tight_layout()\n",
    "plt.show()"
   ]
  },
  {
   "cell_type": "code",
   "execution_count": 22,
   "id": "d6393271",
   "metadata": {},
   "outputs": [],
   "source": [
    "anxious_inds = []\n",
    "normal_inds = []\n",
    "for i, row in results_df.iterrows():\n",
    "    if row.criticality_indices.max() < 3:\n",
    "        if row.anxious:\n",
    "            anxious_inds.extend(row.criticality_indices.flatten())\n",
    "        else:\n",
    "            normal_inds.extend(row.criticality_indices.flatten())\n",
    "anxious_inds = np.array(anxious_inds)\n",
    "normal_inds = np.array(normal_inds)"
   ]
  },
  {
   "cell_type": "code",
   "execution_count": 23,
   "id": "de757431",
   "metadata": {},
   "outputs": [
    {
     "data": {
      "text/plain": [
       "(16758, 16660)"
      ]
     },
     "execution_count": 23,
     "metadata": {},
     "output_type": "execute_result"
    }
   ],
   "source": [
    "len(normal_inds), len(anxious_inds)"
   ]
  },
  {
   "cell_type": "code",
   "execution_count": 24,
   "id": "e2139e21",
   "metadata": {},
   "outputs": [
    {
     "data": {
      "image/png": "[encoded data removed]",
      "text/plain": [
       "<Figure size 432x288 with 1 Axes>"
      ]
     },
     "metadata": {
      "needs_background": "light"
     },
     "output_type": "display_data"
    }
   ],
   "source": [
    "plt.hist(normal_inds, label='normal')\n",
    "plt.hist(anxious_inds, label='anxious')\n",
    "plt.xlabel(\"Criticality Index\")\n",
    "plt.ylabel(\"count\")\n",
    "plt.legend()\n",
    "plt.show()"
   ]
  },
  {
   "cell_type": "code",
   "execution_count": 25,
   "id": "642ba44c",
   "metadata": {},
   "outputs": [
    {
     "data": {
      "image/png": "[encoded data removed]",
      "text/plain": [
       "<Figure size 432x288 with 1 Axes>"
      ]
     },
     "metadata": {
      "needs_background": "light"
     },
     "output_type": "display_data"
    }
   ],
   "source": [
    "std_errors = [anxious_inds.std()/np.sqrt(len(anxious_inds)), normal_inds.std()/np.sqrt(len(normal_inds))]\n",
    "mean_vals = [normal_inds.mean(), anxious_inds.mean()]\n",
    "# t-test\n",
    "n1 = len(anxious_inds)\n",
    "n2 = len(normal_inds)\n",
    "mean_1 = mean_vals[0]\n",
    "mean_2 = mean_vals[1]\n",
    "var_1 = (anxious_inds.std())**2\n",
    "var_2 = (normal_inds.std())**2\n",
    "s_squared = (n1 - 1)/(n1 + n2 - 2)*var_1 + (n2 - 1)/(n1 + n2 - 2)*var_2\n",
    "t_stat = (mean_1 - mean_2)/(np.sqrt(s_squared)*np.sqrt((1/n1) + (1/n2)))\n",
    "p = 2*scipy.stats.t.sf(t_stat, df=n1 + n2 - 2)\n",
    "\n",
    "plt.bar(['normal', 'anxious'], mean_vals, yerr=std_errors, capsize=5)\n",
    "plt.ylim([np.min(mean_vals)*(1/1.01), np.max(mean_vals)*(1.01)])\n",
    "plt.text(0.75, mean_vals[0] + 1*std_errors[0], f\"p = {p:.6f}\" if p > 0.0001 else f\"p = {p:.2e}\")\n",
    "plt.ylabel(\"Average Over All Criticality Indices\")\n",
    "plt.title(f\"Mean Criticality on Anxious vs Normal Trials\\nLocally Linear Segmentation\" + (\"\\n(frontal electrodes only)\" if area == 'frontal' else \"\\nall electrodes\"))\n",
    "plt.show()"
   ]
  },
  {
   "cell_type": "code",
   "execution_count": 26,
   "id": "6eacf56f",
   "metadata": {},
   "outputs": [
    {
     "data": {
      "image/png": "[encoded data removed]",
      "text/plain": [
       "<Figure size 432x288 with 1 Axes>"
      ]
     },
     "metadata": {
      "needs_background": "light"
     },
     "output_type": "display_data"
    }
   ],
   "source": [
    "num_windows_anxious = results_df[results_df.anxious].criticality_indices.apply(lambda x: x.shape[0])\n",
    "num_windows_normal = results_df[~results_df.anxious].criticality_indices.apply(lambda x: x.shape[0])\n",
    "plt.hist(num_windows_normal, label='normal')\n",
    "plt.hist(num_windows_anxious, label='anxious')\n",
    "plt.xlabel(\"Number of Windows Per Trial\")\n",
    "plt.ylabel(\"count\")\n",
    "plt.legend()\n",
    "plt.show()"
   ]
  },
  {
   "cell_type": "code",
   "execution_count": null,
   "id": "7d7b1ed9",
   "metadata": {},
   "outputs": [],
   "source": []
  }
 ],
 "metadata": {
  "kernelspec": {
   "display_name": "Python 3 (ipykernel)",
   "language": "python",
   "name": "python3"
  },
  "language_info": {
   "codemirror_mode": {
    "name": "ipython",
    "version": 3
   },
   "file_extension": ".py",
   "mimetype": "text/x-python",
   "name": "python",
   "nbconvert_exporter": "python",
   "pygments_lexer": "ipython3",
   "version": "3.9.1"
  }
 },
 "nbformat": 4,
 "nbformat_minor": 5
}
