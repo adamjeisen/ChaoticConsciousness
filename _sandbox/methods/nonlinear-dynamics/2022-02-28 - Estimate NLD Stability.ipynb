{
 "cells": [
  {
   "cell_type": "code",
   "execution_count": 1,
   "id": "594ece23",
   "metadata": {},
   "outputs": [],
   "source": [
    "%load_ext autoreload"
   ]
  },
  {
   "cell_type": "code",
   "execution_count": 2,
   "id": "56028b3c",
   "metadata": {},
   "outputs": [],
   "source": [
    "%autoreload 2\n",
    "from collections import defaultdict\n",
    "from datetime import datetime\n",
    "import h5py\n",
    "import matplotlib.pyplot as plt\n",
    "from neural_analysis.matIO import loadmat\n",
    "import numpy as np\n",
    "import os\n",
    "import pandas as pd\n",
    "import re\n",
    "from scipy.signal import butter, filtfilt, freqz\n",
    "import shutil\n",
    "import sys\n",
    "import time\n",
    "from tqdm.auto import tqdm\n",
    "\n",
    "from core import *\n",
    "\n",
    "sys.path.append('../../..')\n",
    "from ld_utils import compute_eigs, get_data_sigma_norms\n",
    "from plot import plot_individual_areas, plot_multipopulation\n",
    "from up_down import get_up_down\n",
    "from utils import compile_folder, get_data_class, get_result_path, load, save"
   ]
  },
  {
   "cell_type": "code",
   "execution_count": 3,
   "id": "ac79b50a",
   "metadata": {},
   "outputs": [],
   "source": [
    "## propofolPuffTone\n",
    "session = 'Mary-Anesthesia-20160809-01'\n",
    "# session = 'MrJones-Anesthesia-20160105-01'\n",
    "# session = 'Mary-Anesthesia-20160916-02'\n",
    "# session = 'MrJones-Anesthesia-20160301-01'\n",
    "# session = 'MrJones-Anesthesia-20160113-01'\n",
    "# session = 'Mary-Anesthesia-20160818-02'\n",
    "# session = 'MrJones-Anesthesia-20160121-01'\n",
    "\n",
    "## propofolWakeup\n",
    "# session = 'Mary-Anesthesia-20170203-02'\n",
    "\n",
    "## ketamine\n",
    "# session = 'Mary-Anesthesia-20170315-01'\n",
    "# session = 'MrJones-Anesthesia-20160805-01'\n",
    "# session = 'MrJones-Anesthesia-20160808-01'\n",
    "# session = 'Mary-Anesthesia-20170315-01'"
   ]
  },
  {
   "cell_type": "markdown",
   "id": "155f5f0c",
   "metadata": {},
   "source": [
    "## Load Neural Data"
   ]
  },
  {
   "cell_type": "code",
   "execution_count": 4,
   "id": "b7380542",
   "metadata": {},
   "outputs": [],
   "source": [
    "all_data_dir = f\"/om/user/eisenaj/datasets/anesthesia/mat\"\n",
    "data_class = get_data_class(session, all_data_dir)"
   ]
  },
  {
   "cell_type": "code",
   "execution_count": 5,
   "id": "3cc3760f",
   "metadata": {},
   "outputs": [
    {
     "name": "stdout",
     "output_type": "stream",
     "text": [
      "Loading data ...\n",
      "Data loaded (took 6.53 seconds)\n"
     ]
    }
   ],
   "source": [
    "filename = os.path.join(all_data_dir, data_class, f'{session}.mat')\n",
    "print(\"Loading data ...\")\n",
    "start = time.process_time()\n",
    "electrode_info, lfp_schema, session_info, spike_times, trial_info, unit_info = loadmat(filename, variables=['electrodeInfo', 'lfpSchema', 'sessionInfo', 'spikeTimes', 'trialInfo', 'unitInfo'], verbose=False)\n",
    "spike_times = spike_times[0]\n",
    "dt = lfp_schema['smpInterval'][0]\n",
    "# T = lfp.shape[0]\n",
    "\n",
    "print(f\"Data loaded (took {time.process_time() - start:.2f} seconds)\")"
   ]
  },
  {
   "cell_type": "markdown",
   "id": "cead79a1",
   "metadata": {},
   "source": [
    "## Load the selected windows differing by phase"
   ]
  },
  {
   "cell_type": "code",
   "execution_count": 6,
   "id": "0af7f422",
   "metadata": {},
   "outputs": [
    {
     "name": "stdout",
     "output_type": "stream",
     "text": [
      "Loading file /om/user/eisenaj/ChaoticConsciousness/results/propofolPuffTone/VAR/Mary-Anesthesia-20160809-01_selected_windows_phases_10_steps\n"
     ]
    }
   ],
   "source": [
    "VAR_all_results_dir = f\"/om/user/eisenaj/ChaoticConsciousness/results/{data_class}/VAR\"\n",
    "regex = re.compile(f\"{session}_selected_windows_phase\")\n",
    "matches = []\n",
    "for file in os.listdir(VAR_all_results_dir):\n",
    "    if regex.match(file):\n",
    "        matches.append(file)\n",
    "\n",
    "if len(matches) == 0:\n",
    "    print(f\"Window selection hasn't been run for session {session}\")\n",
    "elif len(matches) == 1:\n",
    "    path_to_file = os.path.join(VAR_all_results_dir, matches[0])\n",
    "    print(f\"Loading file {path_to_file}\")\n",
    "    selected_windows = load(path_to_file)\n",
    "else:\n",
    "    steps = [int(file.split('_')[-2]) for file in matches]\n",
    "    print(f\"Selected windows are available for the following forward-step predictions (number of steps): \\n{steps}\")\n",
    "    print(\"Which one would you like to use?\")\n",
    "    chosen_steps = input()\n",
    "    chosen_steps = int(chosen_steps)\n",
    "    ind = np.where(np.array(steps) == chosen_steps)[0]\n",
    "    if len(ind) == 0:\n",
    "        print(f\"{chosen_steps} steps is not an option, try again\")\n",
    "        selected_windows = None\n",
    "    else:\n",
    "        ind = ind[0]\n",
    "        path_to_file = os.path.join(VAR_all_results_dir, matches[ind])\n",
    "        print(f\"Loading file {path_to_file}\")\n",
    "        selected_windows = load(path_to_file)"
   ]
  },
  {
   "cell_type": "code",
   "execution_count": 7,
   "id": "ecc9a083",
   "metadata": {},
   "outputs": [],
   "source": [
    "slice_funcs = dict(\n",
    "    pre=lambda window: slice(0, int(session_info['drugStart'][0]/window)),\n",
    "    during=lambda window: slice(int(session_info['drugStart'][0]/window), int(session_info['drugEnd'][1]/window)),\n",
    "    post=lambda window: slice(int(session_info['drugEnd'][1]/window),-1),\n",
    "    unconscious=lambda window: slice(int(session_info['eyesClose'][1]), int(session_info['eyesOpen'][1]))\n",
    ")"
   ]
  },
  {
   "cell_type": "code",
   "execution_count": 8,
   "id": "67aeffa5",
   "metadata": {},
   "outputs": [],
   "source": [
    "window_info = {}\n",
    "for phase in selected_windows.keys():\n",
    "    for area, window in selected_windows[phase].items():\n",
    "        window = int(window) if window % 1 == 0 else window\n",
    "        if window not in window_info.keys():\n",
    "            window_info[window] = []\n",
    "        window_info[window].append((area, phase))"
   ]
  },
  {
   "cell_type": "code",
   "execution_count": 9,
   "id": "6a52c597",
   "metadata": {},
   "outputs": [
    {
     "name": "stdout",
     "output_type": "stream",
     "text": [
      "Now attempting to load area 7b with window 5\n",
      "Now attempting to load area 7b with window 8.5\n",
      "Now attempting to load area CPB with window 8.5\n",
      "Now attempting to load area FEF with window 4\n",
      "Now attempting to load area CPB with window 6.5\n",
      "Now attempting to load area all with window 6.5\n",
      "Now attempting to load area vlPFC with window 6.5\n",
      "Now attempting to load area 7b with window 7\n",
      "Now attempting to load area vlPFC with window 7\n",
      "Now attempting to load area CPB with window 10\n",
      "Now attempting to load area FEF with window 8\n",
      "Now attempting to load area all with window 8\n",
      "Now attempting to load area FEF with window 5.5\n",
      "Now attempting to load area all with window 9.5\n"
     ]
    }
   ],
   "source": [
    "VAR_results = {}\n",
    "for area in selected_windows['pre'].keys():\n",
    "    VAR_results[area] = {'start_time': [], 'criticality_inds': [], 'window': [], 'A_mat': []}\n",
    "\n",
    "for window in window_info.keys():\n",
    "    stride = window\n",
    "    areas_to_load = np.unique([entry[0] for entry in window_info[window]])\n",
    "    VAR_results_dir = get_result_path(VAR_all_results_dir, session, window, stride)\n",
    "    \n",
    "    temp_results = {}\n",
    "    for area in areas_to_load:\n",
    "        print(f\"Now attempting to load area {area} with window {window}\")\n",
    "        try:\n",
    "            temp_results[area] = load(os.path.join(VAR_results_dir, area))\n",
    "        except IsADirectoryError:\n",
    "            print(f\"Need to compile {os.path.join(VAR_results_dir, area)}\")\n",
    "            # compile results\n",
    "            temp_results[area] = compile_folder(os.path.join(VAR_results_dir, area))\n",
    "    \n",
    "    for (area, phase) in window_info[window]:\n",
    "        VAR_results[area]['criticality_inds'].extend(temp_results[area]['criticality_inds'].iloc[slice_funcs[phase](window)])\n",
    "        VAR_results[area]['start_time'].extend(temp_results[area]['start_time'].iloc[slice_funcs[phase](window)])\n",
    "        VAR_results[area]['A_mat'].extend(temp_results[area]['A_mat'].iloc[slice_funcs[phase](window)])\n",
    "        \n",
    "        VAR_results[area]['window'].extend([window]*len(temp_results[area]['criticality_inds'].iloc[slice_funcs[phase](window)]))"
   ]
  },
  {
   "cell_type": "code",
   "execution_count": 10,
   "id": "78e3c760",
   "metadata": {},
   "outputs": [],
   "source": [
    "for area in VAR_results.keys():\n",
    "    VAR_results[area] = pd.DataFrame(VAR_results[area]).sort_values('start_time').reset_index(drop=True)"
   ]
  },
  {
   "cell_type": "markdown",
   "id": "24efd735",
   "metadata": {},
   "source": [
    "## Generate Jacobian Sequence"
   ]
  },
  {
   "cell_type": "code",
   "execution_count": 14,
   "id": "d051caa5",
   "metadata": {},
   "outputs": [],
   "source": [
    "# temp = VAR_results[area].copy()"
   ]
  },
  {
   "cell_type": "code",
   "execution_count": 28,
   "id": "3d31699c",
   "metadata": {},
   "outputs": [],
   "source": [
    "area = 'vlPFC'\n",
    "method = 'individual'\n",
    "include_window_reps = True"
   ]
  },
  {
   "cell_type": "code",
   "execution_count": 29,
   "id": "16ffe26f",
   "metadata": {},
   "outputs": [],
   "source": [
    "VAR_results[area] = temp[:20]"
   ]
  },
  {
   "cell_type": "code",
   "execution_count": 30,
   "id": "7f73382f",
   "metadata": {},
   "outputs": [
    {
     "data": {
      "application/vnd.jupyter.widget-view+json": {
       "model_id": "aba3683dcbed488782e79403fc6bea0f",
       "version_major": 2,
       "version_minor": 0
      },
      "text/plain": [
       "  0%|          | 0/20 [00:00<?, ?it/s]"
      ]
     },
     "metadata": {},
     "output_type": "display_data"
    }
   ],
   "source": [
    "area_indices = np.where(electrode_info['area'] == area)[0]\n",
    "if method == 'individual':\n",
    "    if include_window_reps:\n",
    "        js = np.zeros((VAR_results[area].window.apply(lambda x: int(x/dt)).sum(), len(area_indices), len(area_indices)))\n",
    "    else:\n",
    "        js = np.zeros((len(VAR_results[area]), len(area_indices), len(area_indices)))\n",
    "    \n",
    "    num_w = 0\n",
    "    for i, row in tqdm(VAR_results[area].iterrows(), total=len(VAR_results[area])):\n",
    "        mat = row['A_mat']\n",
    "        if include_window_reps:\n",
    "            js[num_w:num_w + int(row['window']/dt)] = [mat]*int(row['window']/dt)\n",
    "            num_w += int(row['window']/dt)\n",
    "        else:\n",
    "            js[num_w] = mat\n",
    "            num_w += 1\n",
    "else: # method = 'multipop'\n",
    "    if include_window_reps:\n",
    "        js = np.zeros((VAR_results['all'].window.apply(lambda x: int(x/dt)).sum(), len(area_indices), len(area_indices)))\n",
    "    else:\n",
    "        js = np.zeros((len(VAR_results['all']), len(area_indices), len(area_indices)))\n",
    "                      \n",
    "    num_w = 0\n",
    "    for i, row in tqdm(VAR_results['all'].iterrows(), total=len(VAR_results['all'])):\n",
    "        mat = row['A_mat'][area_indices, :][:, area_indices]\n",
    "        if include_window_reps:\n",
    "            js[num_w:num_w + int(row['window']/dt)] = [mat]*int(row['window']/dt)\n",
    "            num_w += int(row['window']/dt)\n",
    "        else:\n",
    "            js[num_w] = mat\n",
    "            num_w += 1"
   ]
  },
  {
   "cell_type": "markdown",
   "id": "e4742a13",
   "metadata": {},
   "source": [
    "## Compute Eigs"
   ]
  },
  {
   "cell_type": "code",
   "execution_count": 31,
   "id": "a565c290",
   "metadata": {},
   "outputs": [
    {
     "data": {
      "application/vnd.jupyter.widget-view+json": {
       "model_id": "1da02be4ea074b88a8778c6a3f989836",
       "version_major": 2,
       "version_minor": 0
      },
      "text/plain": [
       "  0%|          | 0/130000 [00:00<?, ?it/s]"
      ]
     },
     "metadata": {},
     "output_type": "display_data"
    }
   ],
   "source": [
    "lams = estimate_stability_using_particle(js, 100, test_eigenvectors=False)"
   ]
  },
  {
   "cell_type": "code",
   "execution_count": 32,
   "id": "c071b500",
   "metadata": {},
   "outputs": [
    {
     "data": {
      "image/png": "[encoded data removed]",
      "text/plain": [
       "<Figure size 432x288 with 1 Axes>"
      ]
     },
     "metadata": {
      "needs_background": "light"
     },
     "output_type": "display_data"
    }
   ],
   "source": [
    "plt.hist(lams/dt)\n",
    "plt.tight_layout()\n",
    "plt.show()"
   ]
  },
  {
   "cell_type": "code",
   "execution_count": 68,
   "id": "544ca9e0",
   "metadata": {},
   "outputs": [
    {
     "data": {
      "text/plain": [
       "(0.9938406181758569+0j)"
      ]
     },
     "execution_count": 68,
     "metadata": {},
     "output_type": "execute_result"
    }
   ],
   "source": [
    "i = 0\n",
    "eigvals = np.linalg.eigvals(js[i])\n",
    "eigvals[np.abs(eigvals).argmax()]"
   ]
  },
  {
   "cell_type": "code",
   "execution_count": 69,
   "id": "898e9a60",
   "metadata": {},
   "outputs": [
    {
     "data": {
      "text/plain": [
       "<Figure size 864x576 with 0 Axes>"
      ]
     },
     "metadata": {},
     "output_type": "display_data"
    },
    {
     "data": {
      "image/png": "[encoded data removed]",
      "text/plain": [
       "<Figure size 288x288 with 2 Axes>"
      ]
     },
     "metadata": {
      "needs_background": "light"
     },
     "output_type": "display_data"
    }
   ],
   "source": [
    "fig = plt.figure(figsize=(12, 8))\n",
    "plt.matshow(js[90000])\n",
    "plt.colorbar()\n",
    "plt.show()"
   ]
  },
  {
   "cell_type": "markdown",
   "id": "048c8545",
   "metadata": {},
   "source": [
    "# Whole Trial"
   ]
  },
  {
   "cell_type": "code",
   "execution_count": 14,
   "id": "bc4ba2d5",
   "metadata": {},
   "outputs": [],
   "source": [
    "area = 'vlPFC'\n",
    "method = 'multipop'\n",
    "include_window_reps = False\n",
    "\n",
    "nld_window = 50\n",
    "p = 50"
   ]
  },
  {
   "cell_type": "code",
   "execution_count": 15,
   "id": "0547dfb1",
   "metadata": {},
   "outputs": [
    {
     "data": {
      "application/vnd.jupyter.widget-view+json": {
       "model_id": "58bba1b408f04e7e966416424282aa3c",
       "version_major": 2,
       "version_minor": 0
      },
      "text/plain": [
       "  0%|          | 0/35 [00:00<?, ?it/s]"
      ]
     },
     "metadata": {},
     "output_type": "display_data"
    }
   ],
   "source": [
    "key = 'all' if method == 'multipop' else area\n",
    "\n",
    "area_indices = np.where(electrode_info['area'] == area)[0]\n",
    "\n",
    "num_nld_windows = int(len(VAR_results[key])/nld_window)\n",
    "\n",
    "lyapunov_exp_estimates = np.zeros((num_nld_windows, p))\n",
    "times = np.zeros((num_nld_windows))\n",
    "\n",
    "for i in tqdm(range(num_nld_windows)):\n",
    "    df = VAR_results[key].iloc[i*nld_window:(i+1)*nld_window]\n",
    "    \n",
    "    if include_window_reps:\n",
    "        js = np.zeros((df.window.apply(lambda x: int(x/dt)).sum(), len(area_indices), len(area_indices)))\n",
    "    else:\n",
    "        js = np.zeros((len(df), len(area_indices), len(area_indices)))\n",
    "\n",
    "    num_w = 0\n",
    "    for _, row in df.iterrows():\n",
    "        mat = row['A_mat'][area_indices, :][:, area_indices]\n",
    "        if include_window_reps:\n",
    "            js[num_w:num_w + int(row['window']/dt)] = [mat]*int(row['window']/dt)\n",
    "            num_w += int(row['window']/dt)\n",
    "        else:\n",
    "            js[num_w] = mat\n",
    "            num_w += 1\n",
    "    \n",
    "    lams = estimate_stability_using_particle(js, p, test_eigenvectors=True)\n",
    "\n",
    "    lyapunov_exp_estimates[i] = np.exp(lams)\n",
    "    times[i] = df.start_time.iloc[0]"
   ]
  },
  {
   "cell_type": "code",
   "execution_count": 16,
   "id": "c487fd94",
   "metadata": {},
   "outputs": [
    {
     "data": {
      "image/png": "[encoded data removed]",
      "text/plain": [
       "<Figure size 432x288 with 1 Axes>"
      ]
     },
     "metadata": {
      "needs_background": "light"
     },
     "output_type": "display_data"
    }
   ],
   "source": [
    "mean_vals = lyapunov_exp_estimates.mean(axis=1)\n",
    "plt.plot(times/60, mean_vals)\n",
    "std_error = lyapunov_exp_estimates.std(axis=1)/np.sqrt(p)\n",
    "plt.fill_between(times/60, mean_vals - std_error, mean_vals + std_error, alpha=0.2)\n",
    "plt.show()"
   ]
  },
  {
   "cell_type": "markdown",
   "id": "fc72579f",
   "metadata": {},
   "source": [
    "# Key Points In The Trial"
   ]
  },
  {
   "cell_type": "code",
   "execution_count": 32,
   "id": "3ec2c600",
   "metadata": {},
   "outputs": [],
   "source": [
    "area = 'CPB'\n",
    "# method = 'multipop'\n",
    "method = 'individual'\n",
    "include_window_reps = False\n",
    "\n",
    "p = 50\n",
    "\n",
    "key = 'all' if method == 'multipop' else area\n",
    "\n",
    "start_anesthesia = np.abs(VAR_results[key].start_time - session_info['drugStart'][0]).argmin()\n",
    "end_anesthesia = np.abs(VAR_results[key].start_time - session_info['drugEnd'][1]).argmin()\n",
    "eyes_close = np.abs(VAR_results[key].start_time - session_info['eyesClose'] if isinstance(session_info['eyesClose'], float) else session_info['eyesClose'][1]).argmin()\n",
    "eyes_open = np.abs(VAR_results[key].start_time - session_info['eyesOpen'] if isinstance(session_info['eyesOpen'], float) else session_info['eyesOpen'][1]).argmin()\n",
    "\n",
    "area_indices = np.where(electrode_info['area'] == area)[0]\n",
    "\n",
    "lyapunov_exp_estimates = {}\n",
    "\n",
    "for phase_key in ['pre', 'unconscious', 'post']:\n",
    "    if phase_key == 'pre':\n",
    "        df = VAR_results[key].iloc[:start_anesthesia]\n",
    "    elif phase_key == 'unconscious':\n",
    "        df = VAR_results[key].iloc[eyes_close:eyes_open]\n",
    "    else: # phase_key == 'post'\n",
    "        df = VAR_results[key].iloc[eyes_open:]\n",
    "    \n",
    "    if include_window_reps:\n",
    "        js = np.zeros((df.window.apply(lambda x: int(x/dt)).sum(), len(area_indices), len(area_indices)))\n",
    "    else:\n",
    "        js = np.zeros((len(df), len(area_indices), len(area_indices)))\n",
    "\n",
    "    num_w = 0\n",
    "    for _, row in df.iterrows():\n",
    "        if method == 'multipop':\n",
    "            mat = row['A_mat'][area_indices, :][:, area_indices]\n",
    "        else:\n",
    "            mat = row['A_mat']\n",
    "        if include_window_reps:\n",
    "            js[num_w:num_w + int(row['window']/dt)] = [mat]*int(row['window']/dt)\n",
    "            num_w += int(row['window']/dt)\n",
    "        else:\n",
    "            js[num_w] = mat\n",
    "            num_w += 1\n",
    "    \n",
    "    lams = estimate_stability_using_particle(js, p, test_eigenvectors=True)\n",
    "\n",
    "    lyapunov_exp_estimates[phase_key] = np.exp(lams)"
   ]
  },
  {
   "cell_type": "code",
   "execution_count": 33,
   "id": "fa1a1ad6",
   "metadata": {},
   "outputs": [
    {
     "data": {
      "image/png": "[encoded data removed]",
      "text/plain": [
       "<Figure size 432x288 with 1 Axes>"
      ]
     },
     "metadata": {
      "needs_background": "light"
     },
     "output_type": "display_data"
    }
   ],
   "source": [
    "mean_vals = np.array(list(lyapunov_exp_estimates.values())).mean(axis=1)\n",
    "std_errors = np.array(list(lyapunov_exp_estimates.values())).std(axis=1)/np.sqrt(p)\n",
    "plt.bar(['Pre-anesthesia', 'Unconscious Period', 'After Wakeup'], mean_vals, yerr=std_errors)\n",
    "plt.ylim([mean_vals.min()*0.98, mean_vals.max()*1.01])\n",
    "plt.ylabel(\"Mean Estimate\")\n",
    "plt.title(f\"Estimates of Max Lyapunov Exponents across Session Phases\\n{area} - {method}\")\n",
    "plt.show()"
   ]
  },
  {
   "cell_type": "code",
   "execution_count": null,
   "id": "fc4853dd",
   "metadata": {},
   "outputs": [],
   "source": []
  }
 ],
 "metadata": {
  "kernelspec": {
   "display_name": "Python 3 (ipykernel)",
   "language": "python",
   "name": "python3"
  },
  "language_info": {
   "codemirror_mode": {
    "name": "ipython",
    "version": 3
   },
   "file_extension": ".py",
   "mimetype": "text/x-python",
   "name": "python",
   "nbconvert_exporter": "python",
   "pygments_lexer": "ipython3",
   "version": "3.9.1"
  }
 },
 "nbformat": 4,
 "nbformat_minor": 5
}
