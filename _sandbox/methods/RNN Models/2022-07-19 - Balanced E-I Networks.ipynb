{
 "cells": [
  {
   "cell_type": "code",
   "execution_count": 5,
   "id": "c5d8405a",
   "metadata": {},
   "outputs": [],
   "source": [
    "%load_ext autoreload"
   ]
  },
  {
   "cell_type": "code",
   "execution_count": 6,
   "id": "a0acc4c4",
   "metadata": {},
   "outputs": [],
   "source": [
    "%autoreload 2\n",
    "import matplotlib.pyplot as plt\n",
    "from neural_analysis.matIO import loadmat\n",
    "import numpy as np\n",
    "import os\n",
    "import pandas as pd\n",
    "import scipy\n",
    "from scipy.signal import stft\n",
    "import sys\n",
    "import time\n",
    "from tqdm.auto import tqdm\n",
    "\n",
    "plt.style.use('../../sci_style.py')\n",
    "\n",
    "sys.path.append('../../..')\n",
    "from utils import compute_summary_statistics, get_data_class, get_result_path, load, load_session_data, run_window_selection, save\n",
    "\n",
    "# sys.path.append(\"../../../../repos/neur_stab/nsta\")\n",
    "# from core import estimate_stability_using_particle"
   ]
  },
  {
   "cell_type": "markdown",
   "id": "01c263de",
   "metadata": {},
   "source": [
    "# Load Neural Data "
   ]
  },
  {
   "cell_type": "code",
   "execution_count": 12,
   "id": "5ca83cd3",
   "metadata": {},
   "outputs": [],
   "source": [
    "session = 'Mary-Anesthesia-20160912-02'"
   ]
  },
  {
   "cell_type": "code",
   "execution_count": 13,
   "id": "73ed6bda",
   "metadata": {},
   "outputs": [],
   "source": [
    "all_data_dir = '/om/user/eisenaj/datasets/anesthesia/mat'\n",
    "data_class = get_data_class(session, all_data_dir)"
   ]
  },
  {
   "cell_type": "code",
   "execution_count": 14,
   "id": "a8925e3f",
   "metadata": {},
   "outputs": [],
   "source": [
    "variables = ['electrodeInfo', 'lfp', 'lfpSchema', 'sessionInfo', 'spikeTimes', 'unitInfo']\n",
    "session_vars, T, N, dt = load_session_data(session, all_data_dir, variables, data_class=data_class, verbose=False)\n",
    "electrode_info, lfp, lfp_schema, session_info, spike_times, unit_info = session_vars['electrodeInfo'], session_vars['lfp'], session_vars['lfpSchema'], session_vars['sessionInfo'], session_vars['spikeTimes'], session_vars['unitInfo']"
   ]
  },
  {
   "cell_type": "code",
   "execution_count": 15,
   "id": "ec5299cc",
   "metadata": {},
   "outputs": [],
   "source": [
    "spike_times = spike_times[0]"
   ]
  },
  {
   "cell_type": "markdown",
   "id": "bc76f7a2",
   "metadata": {},
   "source": [
    "# Get RNN Going"
   ]
  },
  {
   "cell_type": "code",
   "execution_count": 16,
   "id": "da871672",
   "metadata": {},
   "outputs": [],
   "source": [
    "# RANDOM CHAOTIC MODEL\n",
    "# N = len(electrode_info['area'])\n",
    "N = 50"
   ]
  },
  {
   "cell_type": "code",
   "execution_count": 18,
   "id": "06f1a837",
   "metadata": {},
   "outputs": [],
   "source": [
    "q_E = 0.8\n",
    "N_E = int(q_E)*N\n",
    "N_I = N - N_E"
   ]
  },
  {
   "cell_type": "code",
   "execution_count": 3,
   "id": "fd503894",
   "metadata": {},
   "outputs": [],
   "source": [
    "# RANDOM CHAOTIC MODEL\n",
    "# N = len(electrode_info['area'])\n",
    "N = 50\n",
    "g = 1.7\n",
    "tau = 100 # ms\n",
    "dt = 0.001 # s\n",
    "# dt = 0.015 # s\n",
    "W = np.random.randn(N, N)*g/np.sqrt(N)\n",
    "b = np.zeros(N)\n",
    "\n",
    "# noise_sigma = 0.01\n",
    "noise_sigma = 0\n",
    "\n",
    "wake_mins = 15\n",
    "induction_mins = 15\n",
    "during_mins = 45\n",
    "post_mins = 15\n",
    "\n",
    "# wake_mins = 1\n",
    "# induction_mins = 1\n",
    "# during_mins = 1\n",
    "# post_mins = 1\n",
    "\n",
    "# wake_scale = 0.5\n",
    "# during_scale = 1\n",
    "# post_scale = 0.5\n",
    "\n",
    "wake_scale = 1.0\n",
    "during_scale = 1.0\n",
    "post_scale = 1.0"
   ]
  },
  {
   "cell_type": "code",
   "execution_count": null,
   "id": "06e2e7c8",
   "metadata": {},
   "outputs": [],
   "source": []
  }
 ],
 "metadata": {
  "kernelspec": {
   "display_name": "Python 3 (ipykernel)",
   "language": "python",
   "name": "python3"
  },
  "language_info": {
   "codemirror_mode": {
    "name": "ipython",
    "version": 3
   },
   "file_extension": ".py",
   "mimetype": "text/x-python",
   "name": "python",
   "nbconvert_exporter": "python",
   "pygments_lexer": "ipython3",
   "version": "3.9.1"
  }
 },
 "nbformat": 4,
 "nbformat_minor": 5
}
