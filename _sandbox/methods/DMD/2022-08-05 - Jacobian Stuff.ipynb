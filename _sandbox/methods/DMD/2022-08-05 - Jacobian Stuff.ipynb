{
 "cells": [
  {
   "cell_type": "code",
   "execution_count": 1,
   "id": "80b6caf0",
   "metadata": {},
   "outputs": [],
   "source": [
    "%load_ext autoreload"
   ]
  },
  {
   "cell_type": "code",
   "execution_count": 9,
   "id": "0cc96a6e",
   "metadata": {},
   "outputs": [],
   "source": [
    "%autoreload 2\n",
    "import cmath\n",
    "from datetime import datetime\n",
    "from matplotlib import colors\n",
    "import matplotlib.pyplot as plt\n",
    "from mpl_toolkits.axes_grid1 import make_axes_locatable\n",
    "from neural_analysis.matIO import loadmat\n",
    "from neural_analysis import spectra\n",
    "from nolitsa import delay\n",
    "import numpy as np\n",
    "import os\n",
    "import pandas as pd\n",
    "import re\n",
    "import scipy\n",
    "from scipy.integrate import odeint\n",
    "from scipy.signal import butter, lfilter\n",
    "from sklearn.decomposition import PCA\n",
    "from statsmodels.stats.diagnostic import acorr_ljungbox, het_arch\n",
    "from statsmodels.tsa.api import AutoReg, VAR\n",
    "import sys\n",
    "import time\n",
    "from tqdm.auto import tqdm\n",
    "import traceback as tb\n",
    "\n",
    "plt.style.use('../../sci_style.py')\n",
    "\n",
    "sys.path.append('../../..')\n",
    "from iaaft import surrogates\n",
    "from dynamical_systems_models import simulate_vdp, compute_EDMD, compute_VAR_p, construct_dictionary, perform_stability_analysis, get_stability_results, predict_EDMD, predict_VAR_p\n",
    "from nld_utils import calculate_fnn_stat, get_nn_indices\n",
    "from plot import plot_individual_areas, plot_multipopulation\n",
    "from up_down import get_up_down\n",
    "from utils import compute_summary_statistics, get_data_class, get_result_path, load, load_session_data, run_window_selection, save"
   ]
  },
  {
   "cell_type": "markdown",
   "id": "060a8396",
   "metadata": {},
   "source": [
    "# VDP Signal"
   ]
  },
  {
   "cell_type": "code",
   "execution_count": 12,
   "id": "f8ee87ee",
   "metadata": {},
   "outputs": [
    {
     "data": {
      "application/vnd.jupyter.widget-view+json": {
       "model_id": "d825881fa3934ba0a9acc16e1e700edf",
       "version_major": 2,
       "version_minor": 0
      },
      "text/plain": [
       "  0%|          | 0/12 [00:00<?, ?it/s]"
      ]
     },
     "metadata": {},
     "output_type": "display_data"
    }
   ],
   "source": [
    "dt = 0.001\n",
    "total_time = 3000\n",
    "mu_vals=np.array([0.001, 0.01, 0.1, 0.2, 0.5, 0.75, 1, 1.25, 2, 3, 4, 5])\n",
    "method = 'scipy'\n",
    "subsample = False\n",
    "verbose = 2\n",
    "signals, taus, delayed_mis = simulate_vdp(dt, total_time, mu_vals, method, subsample, verbose)"
   ]
  },
  {
   "cell_type": "markdown",
   "id": "771863d5",
   "metadata": {},
   "source": [
    "# VDP Signal"
   ]
  },
  {
   "cell_type": "code",
   "execution_count": 15,
   "id": "d62a8d18",
   "metadata": {},
   "outputs": [],
   "source": [
    "def vdp_jacobian(pt, mu):\n",
    "    x, y = pt[0], pt[1]\n",
    "    return np.array([[0, 1], [-2*mu*x*y - 1, mu - mu*(x**2)]])"
   ]
  },
  {
   "cell_type": "code",
   "execution_count": 97,
   "id": "bd8be996",
   "metadata": {},
   "outputs": [],
   "source": [
    "def compute_lyaps(Js, verbose=False):\n",
    "    T, n = Js.shape[0], Js.shape[1]\n",
    "    old_Q = np.eye(n)\n",
    "    lexp = np.zeros(n)\n",
    "    lexp_counts = np.zeros(n)\n",
    "    for t in tqdm(range(T), disable=not verbose):\n",
    "        # QR-decomposition of Js[t] * old_Q\n",
    "        mat_Q, mat_R = np.linalg.qr(np.dot(Js[t], old_Q))\n",
    "        # force diagonal of R to be positive\n",
    "        # (if QR = A then also QLL'R = A with L' = L^-1)\n",
    "        sign_diag = np.sign(np.diag(mat_R))\n",
    "        sign_diag[np.where(sign_diag == 0)] = 1\n",
    "        sign_diag = np.diag(sign_diag)\n",
    "#         print(sign_diag)\n",
    "        mat_Q = np.dot(mat_Q, sign_diag)\n",
    "        mat_R = np.dot(sign_diag, mat_R)\n",
    "        old_Q = mat_Q\n",
    "        # successively build sum for Lyapunov exponents\n",
    "        diag_R = np.diag(mat_R)\n",
    "\n",
    "#         print(diag_R)\n",
    "        # filter zeros in mat_R (would lead to -infs)\n",
    "        idx = np.where(diag_R > 0)\n",
    "        lexp_i = np.zeros(diag_R.shape, dtype=\"float32\")\n",
    "        lexp_i[idx] = np.log(diag_R[idx])\n",
    "#         lexp_i[np.where(diag_R == 0)] = np.inf\n",
    "        lexp[idx] += lexp_i[idx]\n",
    "        lexp_counts[idx] += 1\n",
    "\n",
    "        # it may happen that all R-matrices contained zeros => exponent really has\n",
    "        # to be -inf\n",
    "\n",
    "        # normalize exponents over number of individual mat_Rs\n",
    "#         idx = np.where(lexp_counts > 0)\n",
    "        #lexp[idx] /= lexp_counts[idx]\n",
    "#         lexp[np.where(lexp_counts == 0)] = np.inf\n",
    "\n",
    "    return np.divide(lexp, lexp_counts)"
   ]
  },
  {
   "cell_type": "code",
   "execution_count": 119,
   "id": "ed13307e",
   "metadata": {},
   "outputs": [
    {
     "name": "stdout",
     "output_type": "stream",
     "text": [
      "--------------------\n",
      "mu = 0.001\n",
      "----------\n"
     ]
    },
    {
     "data": {
      "application/vnd.jupyter.widget-view+json": {
       "model_id": "175bcd8e2a044871af273b765c31a028",
       "version_major": 2,
       "version_minor": 0
      },
      "text/plain": [
       "  0%|          | 0/1000000 [00:00<?, ?it/s]"
      ]
     },
     "metadata": {},
     "output_type": "display_data"
    },
    {
     "data": {
      "application/vnd.jupyter.widget-view+json": {
       "model_id": "89a98f468ca44465a5b0c6b92afc1ad0",
       "version_major": 2,
       "version_minor": 0
      },
      "text/plain": [
       "  0%|          | 0/1000000 [00:00<?, ?it/s]"
      ]
     },
     "metadata": {},
     "output_type": "display_data"
    },
    {
     "name": "stdout",
     "output_type": "stream",
     "text": [
      "--------------------\n",
      "mu = 0.01\n",
      "----------\n"
     ]
    },
    {
     "data": {
      "application/vnd.jupyter.widget-view+json": {
       "model_id": "ccf22ec59ff44ae4ac561ccc7760b457",
       "version_major": 2,
       "version_minor": 0
      },
      "text/plain": [
       "  0%|          | 0/1000000 [00:00<?, ?it/s]"
      ]
     },
     "metadata": {},
     "output_type": "display_data"
    },
    {
     "data": {
      "application/vnd.jupyter.widget-view+json": {
       "model_id": "68cbb6951bab40cb934deb0791353801",
       "version_major": 2,
       "version_minor": 0
      },
      "text/plain": [
       "  0%|          | 0/1000000 [00:00<?, ?it/s]"
      ]
     },
     "metadata": {},
     "output_type": "display_data"
    },
    {
     "name": "stdout",
     "output_type": "stream",
     "text": [
      "--------------------\n",
      "mu = 0.1\n",
      "----------\n"
     ]
    },
    {
     "data": {
      "application/vnd.jupyter.widget-view+json": {
       "model_id": "c889b21afcae4428b4c43421244c5eca",
       "version_major": 2,
       "version_minor": 0
      },
      "text/plain": [
       "  0%|          | 0/1000000 [00:00<?, ?it/s]"
      ]
     },
     "metadata": {},
     "output_type": "display_data"
    },
    {
     "data": {
      "application/vnd.jupyter.widget-view+json": {
       "model_id": "2342547f298445efb361ddeb12dd4985",
       "version_major": 2,
       "version_minor": 0
      },
      "text/plain": [
       "  0%|          | 0/1000000 [00:00<?, ?it/s]"
      ]
     },
     "metadata": {},
     "output_type": "display_data"
    },
    {
     "name": "stdout",
     "output_type": "stream",
     "text": [
      "--------------------\n",
      "mu = 0.2\n",
      "----------\n"
     ]
    },
    {
     "data": {
      "application/vnd.jupyter.widget-view+json": {
       "model_id": "d66feeaad3904825a5e2c451df9042ac",
       "version_major": 2,
       "version_minor": 0
      },
      "text/plain": [
       "  0%|          | 0/1000000 [00:00<?, ?it/s]"
      ]
     },
     "metadata": {},
     "output_type": "display_data"
    },
    {
     "data": {
      "application/vnd.jupyter.widget-view+json": {
       "model_id": "872d8ff2378d4895adec6d4cead29023",
       "version_major": 2,
       "version_minor": 0
      },
      "text/plain": [
       "  0%|          | 0/1000000 [00:00<?, ?it/s]"
      ]
     },
     "metadata": {},
     "output_type": "display_data"
    },
    {
     "name": "stdout",
     "output_type": "stream",
     "text": [
      "--------------------\n",
      "mu = 0.5\n",
      "----------\n"
     ]
    },
    {
     "data": {
      "application/vnd.jupyter.widget-view+json": {
       "model_id": "0a518350b133414987c625f8535fae60",
       "version_major": 2,
       "version_minor": 0
      },
      "text/plain": [
       "  0%|          | 0/1000000 [00:00<?, ?it/s]"
      ]
     },
     "metadata": {},
     "output_type": "display_data"
    },
    {
     "data": {
      "application/vnd.jupyter.widget-view+json": {
       "model_id": "9c26439c22e0416dbe9875be456dc6fc",
       "version_major": 2,
       "version_minor": 0
      },
      "text/plain": [
       "  0%|          | 0/1000000 [00:00<?, ?it/s]"
      ]
     },
     "metadata": {},
     "output_type": "display_data"
    },
    {
     "name": "stdout",
     "output_type": "stream",
     "text": [
      "--------------------\n",
      "mu = 0.75\n",
      "----------\n"
     ]
    },
    {
     "data": {
      "application/vnd.jupyter.widget-view+json": {
       "model_id": "d106dc351ecc49a696d79c835ff3f585",
       "version_major": 2,
       "version_minor": 0
      },
      "text/plain": [
       "  0%|          | 0/1000000 [00:00<?, ?it/s]"
      ]
     },
     "metadata": {},
     "output_type": "display_data"
    },
    {
     "data": {
      "application/vnd.jupyter.widget-view+json": {
       "model_id": "635096423a6a47a59cd8d67344a598dd",
       "version_major": 2,
       "version_minor": 0
      },
      "text/plain": [
       "  0%|          | 0/1000000 [00:00<?, ?it/s]"
      ]
     },
     "metadata": {},
     "output_type": "display_data"
    },
    {
     "name": "stdout",
     "output_type": "stream",
     "text": [
      "--------------------\n",
      "mu = 1.0\n",
      "----------\n"
     ]
    },
    {
     "data": {
      "application/vnd.jupyter.widget-view+json": {
       "model_id": "4dad8a7d44c94429b38123775f4d9f1f",
       "version_major": 2,
       "version_minor": 0
      },
      "text/plain": [
       "  0%|          | 0/1000000 [00:00<?, ?it/s]"
      ]
     },
     "metadata": {},
     "output_type": "display_data"
    },
    {
     "data": {
      "application/vnd.jupyter.widget-view+json": {
       "model_id": "c0ebde1552534c69a7a3e4e2f7ed7ec4",
       "version_major": 2,
       "version_minor": 0
      },
      "text/plain": [
       "  0%|          | 0/1000000 [00:00<?, ?it/s]"
      ]
     },
     "metadata": {},
     "output_type": "display_data"
    },
    {
     "name": "stdout",
     "output_type": "stream",
     "text": [
      "--------------------\n",
      "mu = 1.25\n",
      "----------\n"
     ]
    },
    {
     "data": {
      "application/vnd.jupyter.widget-view+json": {
       "model_id": "999595a037c04ce8b42687c6840abd62",
       "version_major": 2,
       "version_minor": 0
      },
      "text/plain": [
       "  0%|          | 0/1000000 [00:00<?, ?it/s]"
      ]
     },
     "metadata": {},
     "output_type": "display_data"
    },
    {
     "data": {
      "application/vnd.jupyter.widget-view+json": {
       "model_id": "7db4a2c168d141e9bd50033a88e48bc7",
       "version_major": 2,
       "version_minor": 0
      },
      "text/plain": [
       "  0%|          | 0/1000000 [00:00<?, ?it/s]"
      ]
     },
     "metadata": {},
     "output_type": "display_data"
    },
    {
     "name": "stdout",
     "output_type": "stream",
     "text": [
      "--------------------\n",
      "mu = 2.0\n",
      "----------\n"
     ]
    },
    {
     "data": {
      "application/vnd.jupyter.widget-view+json": {
       "model_id": "494e7e4fd9d54cd0b76d059a1d076000",
       "version_major": 2,
       "version_minor": 0
      },
      "text/plain": [
       "  0%|          | 0/1000000 [00:00<?, ?it/s]"
      ]
     },
     "metadata": {},
     "output_type": "display_data"
    },
    {
     "data": {
      "application/vnd.jupyter.widget-view+json": {
       "model_id": "ab092dd58585416a8423ce48ffecc007",
       "version_major": 2,
       "version_minor": 0
      },
      "text/plain": [
       "  0%|          | 0/1000000 [00:00<?, ?it/s]"
      ]
     },
     "metadata": {},
     "output_type": "display_data"
    },
    {
     "name": "stdout",
     "output_type": "stream",
     "text": [
      "--------------------\n",
      "mu = 3.0\n",
      "----------\n"
     ]
    },
    {
     "data": {
      "application/vnd.jupyter.widget-view+json": {
       "model_id": "5a679aa99ed94b1f990dc9847d0f268e",
       "version_major": 2,
       "version_minor": 0
      },
      "text/plain": [
       "  0%|          | 0/1000000 [00:00<?, ?it/s]"
      ]
     },
     "metadata": {},
     "output_type": "display_data"
    },
    {
     "data": {
      "application/vnd.jupyter.widget-view+json": {
       "model_id": "07aec25576fd474f92a2aadfe90fdbab",
       "version_major": 2,
       "version_minor": 0
      },
      "text/plain": [
       "  0%|          | 0/1000000 [00:00<?, ?it/s]"
      ]
     },
     "metadata": {},
     "output_type": "display_data"
    },
    {
     "name": "stdout",
     "output_type": "stream",
     "text": [
      "--------------------\n",
      "mu = 4.0\n",
      "----------\n"
     ]
    },
    {
     "data": {
      "application/vnd.jupyter.widget-view+json": {
       "model_id": "229c500118d040cfbfd594938c9a476a",
       "version_major": 2,
       "version_minor": 0
      },
      "text/plain": [
       "  0%|          | 0/1000000 [00:00<?, ?it/s]"
      ]
     },
     "metadata": {},
     "output_type": "display_data"
    },
    {
     "data": {
      "application/vnd.jupyter.widget-view+json": {
       "model_id": "ead42453e0e9477a8939497e803f7850",
       "version_major": 2,
       "version_minor": 0
      },
      "text/plain": [
       "  0%|          | 0/1000000 [00:00<?, ?it/s]"
      ]
     },
     "metadata": {},
     "output_type": "display_data"
    },
    {
     "name": "stdout",
     "output_type": "stream",
     "text": [
      "--------------------\n",
      "mu = 5.0\n",
      "----------\n"
     ]
    },
    {
     "data": {
      "application/vnd.jupyter.widget-view+json": {
       "model_id": "d629a8bdf8a7446dbd2a585d3000ecc8",
       "version_major": 2,
       "version_minor": 0
      },
      "text/plain": [
       "  0%|          | 0/1000000 [00:00<?, ?it/s]"
      ]
     },
     "metadata": {},
     "output_type": "display_data"
    },
    {
     "data": {
      "application/vnd.jupyter.widget-view+json": {
       "model_id": "45637be86cbb4285a5664aaeaaf16dbe",
       "version_major": 2,
       "version_minor": 0
      },
      "text/plain": [
       "  0%|          | 0/1000000 [00:00<?, ?it/s]"
      ]
     },
     "metadata": {},
     "output_type": "display_data"
    }
   ],
   "source": [
    "# for mu in mu_vals:\n",
    "max_ind = int(1e6)\n",
    "lyapunov_exps = {}\n",
    "for mu in mu_vals:\n",
    "# for mu in [5.0]:\n",
    "    key = f\"mu = {mu}\"\n",
    "    print(\"-\"*20)\n",
    "    print(key)\n",
    "    print(\"-\"*10)\n",
    "    vdp_sig = signals[key]\n",
    "    signal = vdp_sig\n",
    "    \n",
    "    js = np.zeros((np.min([signal.shape[0], max_ind]), signal.shape[1], signal.shape[1]))\n",
    "    for i, pt in tqdm(enumerate(signal[:np.min([signal.shape[0], max_ind])]), total=np.min([signal.shape[0], max_ind])):\n",
    "        js[i] = vdp_jacobian(pt, mu)*dt_sim + np.eye(2)\n",
    "    \n",
    "    lexp = compute_lyaps(js, verbose=True)\n",
    "    lexp /= dt\n",
    "    \n",
    "    lyapunov_exps[key] = lexp"
   ]
  },
  {
   "cell_type": "code",
   "execution_count": 112,
   "id": "e062c314",
   "metadata": {},
   "outputs": [
    {
     "data": {
      "text/plain": [
       "-7.25"
      ]
     },
     "execution_count": 112,
     "metadata": {},
     "output_type": "execute_result"
    }
   ],
   "source": [
    "def lambda_2(mu):\n",
    "    if mu < 2:\n",
    "        return -mu  - (1/16)*(mu ** 3) + (263/18432)*(mu ** 5)\n",
    "    elif mu >= 2 and mu <= 4:\n",
    "        return (-1.2 + (mu - 2)*(-0.1))*mu\n",
    "    elif mu > 4 and mu <= 5:\n",
    "        return (-1.4 + (mu - 4)*(-0.05))*mu\n",
    "#     elif mu == 2:\n",
    "#         return -1.2*mu\n",
    "#     elif mu == 3:\n",
    "#         return -1.3*mu\n",
    "#     elif mu == 4:\n",
    "#         return -1.4*mu\n",
    "#     elif mu == 5:\n",
    "#         return -1.45*mu\n",
    "    else:\n",
    "        return None\n",
    "# https://arxiv.org/pdf/2111.12198.pdf\n",
    "\n",
    "lambda_2(mu)"
   ]
  },
  {
   "cell_type": "code",
   "execution_count": 127,
   "id": "44a22fc5",
   "metadata": {},
   "outputs": [
    {
     "data": {
      "image/png": "[encoded data removed]",
      "text/plain": [
       "<Figure size 720x360 with 1 Axes>"
      ]
     },
     "metadata": {
      "needs_background": "light"
     },
     "output_type": "display_data"
    }
   ],
   "source": [
    "plt.plot(mu_vals, [lyapunov_exps[f\"mu = {mu}\"][0] for mu in mu_vals], label=r'estimated $\\lambda_1$')\n",
    "plt.plot(mu_vals, np.zeros(len(mu_vals)), linestyle='--', c='blue', alpha=0.5, label=r'true $\\lambda_1$')\n",
    "plt.plot(mu_vals, [lyapunov_exps[f\"mu = {mu}\"][1] for mu in mu_vals], label=r'estimated $\\lambda_2$')\n",
    "plt.plot(mu_vals, [lambda_2(mu) for mu in mu_vals], linestyle='--', c='red', alpha=0.5, label=r'true $\\lambda_2$')\n",
    "plt.legend()\n",
    "plt.show()"
   ]
  },
  {
   "cell_type": "code",
   "execution_count": null,
   "id": "f08fe095",
   "metadata": {},
   "outputs": [],
   "source": []
  }
 ],
 "metadata": {
  "kernelspec": {
   "display_name": "Python 3 (ipykernel)",
   "language": "python",
   "name": "python3"
  },
  "language_info": {
   "codemirror_mode": {
    "name": "ipython",
    "version": 3
   },
   "file_extension": ".py",
   "mimetype": "text/x-python",
   "name": "python",
   "nbconvert_exporter": "python",
   "pygments_lexer": "ipython3",
   "version": "3.9.1"
  }
 },
 "nbformat": 4,
 "nbformat_minor": 5
}
