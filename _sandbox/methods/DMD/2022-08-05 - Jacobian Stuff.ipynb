{
 "cells": [
  {
   "cell_type": "code",
   "execution_count": 1,
   "id": "80b6caf0",
   "metadata": {},
   "outputs": [],
   "source": [
    "%load_ext autoreload"
   ]
  },
  {
   "cell_type": "code",
   "execution_count": 2,
   "id": "0cc96a6e",
   "metadata": {},
   "outputs": [],
   "source": [
    "%autoreload 2\n",
    "import cmath\n",
    "from datetime import datetime\n",
    "from matplotlib import colors\n",
    "import matplotlib.pyplot as plt\n",
    "from mpl_toolkits.axes_grid1 import make_axes_locatable\n",
    "from neural_analysis.matIO import loadmat\n",
    "from neural_analysis import spectra\n",
    "from nolitsa import delay\n",
    "import numpy as np\n",
    "import os\n",
    "import pandas as pd\n",
    "import re\n",
    "import scipy\n",
    "from scipy.integrate import odeint\n",
    "from scipy.signal import butter, lfilter\n",
    "from sklearn.decomposition import PCA\n",
    "from statsmodels.stats.diagnostic import acorr_ljungbox, het_arch\n",
    "from statsmodels.tsa.api import AutoReg, VAR\n",
    "import sys\n",
    "import time\n",
    "from tqdm.auto import tqdm\n",
    "import traceback as tb\n",
    "\n",
    "plt.style.use('../../sci_style.py')\n",
    "\n",
    "sys.path.append('../../..')\n",
    "from iaaft import surrogates\n",
    "from dynamical_systems_models import simulate_vdp, compute_EDMD, compute_VAR_p, construct_dictionary, perform_stability_analysis, get_stability_results, predict_EDMD, predict_VAR_p\n",
    "from nld_utils import calculate_fnn_stat, get_nn_indices\n",
    "from plot import plot_individual_areas, plot_multipopulation\n",
    "from up_down import get_up_down\n",
    "from utils import compute_summary_statistics, get_data_class, get_result_path, load, load_session_data, run_window_selection, save"
   ]
  },
  {
   "cell_type": "markdown",
   "id": "060a8396",
   "metadata": {},
   "source": [
    "# VDP Signal"
   ]
  },
  {
   "cell_type": "code",
   "execution_count": 3,
   "id": "f8ee87ee",
   "metadata": {},
   "outputs": [
    {
     "data": {
      "application/vnd.jupyter.widget-view+json": {
       "model_id": "39f6d8ef18094b5a9381502f6cde70ca",
       "version_major": 2,
       "version_minor": 0
      },
      "text/plain": [
       "  0%|          | 0/12 [00:00<?, ?it/s]"
      ]
     },
     "metadata": {},
     "output_type": "display_data"
    }
   ],
   "source": [
    "dt = 0.001\n",
    "total_time = 3000\n",
    "mu_vals=np.array([0.001, 0.01, 0.1, 0.2, 0.5, 0.75, 1, 1.25, 2, 3, 4, 5])\n",
    "method = 'scipy'\n",
    "subsample = False\n",
    "verbose = 2\n",
    "signals, taus, delayed_mis = simulate_vdp(dt, total_time, mu_vals, method, subsample, verbose)"
   ]
  },
  {
   "cell_type": "code",
   "execution_count": 7,
   "id": "6468cb37",
   "metadata": {},
   "outputs": [
    {
     "data": {
      "text/plain": [
       "{'mu = 0.001': 1,\n",
       " 'mu = 0.01': 1,\n",
       " 'mu = 0.1': 1,\n",
       " 'mu = 0.2': 1,\n",
       " 'mu = 0.5': 1,\n",
       " 'mu = 0.75': 1,\n",
       " 'mu = 1.0': 1,\n",
       " 'mu = 1.25': 1,\n",
       " 'mu = 2.0': 1,\n",
       " 'mu = 3.0': 1,\n",
       " 'mu = 4.0': 1,\n",
       " 'mu = 5.0': 1}"
      ]
     },
     "execution_count": 7,
     "metadata": {},
     "output_type": "execute_result"
    }
   ],
   "source": [
    "taus"
   ]
  },
  {
   "cell_type": "code",
   "execution_count": 8,
   "id": "e03f11e9",
   "metadata": {},
   "outputs": [],
   "source": [
    "dt_sim = dt"
   ]
  },
  {
   "cell_type": "markdown",
   "id": "771863d5",
   "metadata": {},
   "source": [
    "# VDP Signal"
   ]
  },
  {
   "cell_type": "code",
   "execution_count": 9,
   "id": "d62a8d18",
   "metadata": {},
   "outputs": [],
   "source": [
    "def vdp_jacobian(pt, mu):\n",
    "    x, y = pt[0], pt[1]\n",
    "    return np.array([[0, 1], [-2*mu*x*y - 1, mu - mu*(x**2)]])"
   ]
  },
  {
   "cell_type": "code",
   "execution_count": 10,
   "id": "bd8be996",
   "metadata": {},
   "outputs": [],
   "source": [
    "def compute_lyaps(Js, verbose=False):\n",
    "    T, n = Js.shape[0], Js.shape[1]\n",
    "    old_Q = np.eye(n)\n",
    "    lexp = np.zeros(n)\n",
    "    lexp_counts = np.zeros(n)\n",
    "    for t in tqdm(range(T), disable=not verbose):\n",
    "        # QR-decomposition of Js[t] * old_Q\n",
    "        mat_Q, mat_R = np.linalg.qr(np.dot(Js[t], old_Q))\n",
    "        # force diagonal of R to be positive\n",
    "        # (if QR = A then also QLL'R = A with L' = L^-1)\n",
    "        sign_diag = np.sign(np.diag(mat_R))\n",
    "        sign_diag[np.where(sign_diag == 0)] = 1\n",
    "        sign_diag = np.diag(sign_diag)\n",
    "#         print(sign_diag)\n",
    "        mat_Q = np.dot(mat_Q, sign_diag)\n",
    "        mat_R = np.dot(sign_diag, mat_R)\n",
    "        old_Q = mat_Q\n",
    "        # successively build sum for Lyapunov exponents\n",
    "        diag_R = np.diag(mat_R)\n",
    "\n",
    "#         print(diag_R)\n",
    "        # filter zeros in mat_R (would lead to -infs)\n",
    "        idx = np.where(diag_R > 0)\n",
    "        lexp_i = np.zeros(diag_R.shape, dtype=\"float32\")\n",
    "        lexp_i[idx] = np.log(diag_R[idx])\n",
    "#         lexp_i[np.where(diag_R == 0)] = np.inf\n",
    "        lexp[idx] += lexp_i[idx]\n",
    "        lexp_counts[idx] += 1\n",
    "\n",
    "        # it may happen that all R-matrices contained zeros => exponent really has\n",
    "        # to be -inf\n",
    "\n",
    "        # normalize exponents over number of individual mat_Rs\n",
    "#         idx = np.where(lexp_counts > 0)\n",
    "        #lexp[idx] /= lexp_counts[idx]\n",
    "#         lexp[np.where(lexp_counts == 0)] = np.inf\n",
    "\n",
    "    return np.divide(lexp, lexp_counts)"
   ]
  },
  {
   "cell_type": "code",
   "execution_count": null,
   "id": "ed13307e",
   "metadata": {},
   "outputs": [
    {
     "name": "stdout",
     "output_type": "stream",
     "text": [
      "--------------------\n",
      "mu = 0.001\n",
      "----------\n"
     ]
    },
    {
     "data": {
      "application/vnd.jupyter.widget-view+json": {
       "model_id": "cda860c2274b4938be6c80a021756883",
       "version_major": 2,
       "version_minor": 0
      },
      "text/plain": [
       "  0%|          | 0/1000000 [00:00<?, ?it/s]"
      ]
     },
     "metadata": {},
     "output_type": "display_data"
    },
    {
     "data": {
      "application/vnd.jupyter.widget-view+json": {
       "model_id": "2d542a2356344f8296cf36374a18cf49",
       "version_major": 2,
       "version_minor": 0
      },
      "text/plain": [
       "  0%|          | 0/1000000 [00:00<?, ?it/s]"
      ]
     },
     "metadata": {},
     "output_type": "display_data"
    },
    {
     "name": "stdout",
     "output_type": "stream",
     "text": [
      "--------------------\n",
      "mu = 0.01\n",
      "----------\n"
     ]
    },
    {
     "data": {
      "application/vnd.jupyter.widget-view+json": {
       "model_id": "df80e6fa66734e258786618b5eee4f92",
       "version_major": 2,
       "version_minor": 0
      },
      "text/plain": [
       "  0%|          | 0/1000000 [00:00<?, ?it/s]"
      ]
     },
     "metadata": {},
     "output_type": "display_data"
    },
    {
     "data": {
      "application/vnd.jupyter.widget-view+json": {
       "model_id": "8c4e91d4ac6144ca92c0057ea836a153",
       "version_major": 2,
       "version_minor": 0
      },
      "text/plain": [
       "  0%|          | 0/1000000 [00:00<?, ?it/s]"
      ]
     },
     "metadata": {},
     "output_type": "display_data"
    },
    {
     "name": "stdout",
     "output_type": "stream",
     "text": [
      "--------------------\n",
      "mu = 0.1\n",
      "----------\n"
     ]
    },
    {
     "data": {
      "application/vnd.jupyter.widget-view+json": {
       "model_id": "8f55bf511f7d4cb4a6f815f48e011493",
       "version_major": 2,
       "version_minor": 0
      },
      "text/plain": [
       "  0%|          | 0/1000000 [00:00<?, ?it/s]"
      ]
     },
     "metadata": {},
     "output_type": "display_data"
    },
    {
     "data": {
      "application/vnd.jupyter.widget-view+json": {
       "model_id": "a5aaf8c232ad4c969c9214717d9e9c41",
       "version_major": 2,
       "version_minor": 0
      },
      "text/plain": [
       "  0%|          | 0/1000000 [00:00<?, ?it/s]"
      ]
     },
     "metadata": {},
     "output_type": "display_data"
    },
    {
     "name": "stdout",
     "output_type": "stream",
     "text": [
      "--------------------\n",
      "mu = 0.2\n",
      "----------\n"
     ]
    },
    {
     "data": {
      "application/vnd.jupyter.widget-view+json": {
       "model_id": "2f4a57feeb8049cd8ba402ce9ca16466",
       "version_major": 2,
       "version_minor": 0
      },
      "text/plain": [
       "  0%|          | 0/1000000 [00:00<?, ?it/s]"
      ]
     },
     "metadata": {},
     "output_type": "display_data"
    },
    {
     "data": {
      "application/vnd.jupyter.widget-view+json": {
       "model_id": "75ffc19b0e2343808c9c6f88b42ddbf7",
       "version_major": 2,
       "version_minor": 0
      },
      "text/plain": [
       "  0%|          | 0/1000000 [00:00<?, ?it/s]"
      ]
     },
     "metadata": {},
     "output_type": "display_data"
    },
    {
     "name": "stderr",
     "output_type": "stream",
     "text": [
      "IOPub message rate exceeded.\n",
      "The notebook server will temporarily stop sending output\n",
      "to the client in order to avoid crashing it.\n",
      "To change this limit, set the config variable\n",
      "`--NotebookApp.iopub_msg_rate_limit`.\n",
      "\n",
      "Current values:\n",
      "NotebookApp.iopub_msg_rate_limit=1000.0 (msgs/sec)\n",
      "NotebookApp.rate_limit_window=3.0 (secs)\n",
      "\n"
     ]
    },
    {
     "name": "stdout",
     "output_type": "stream",
     "text": [
      "--------------------\n",
      "mu = 0.5\n",
      "----------\n"
     ]
    },
    {
     "data": {
      "application/vnd.jupyter.widget-view+json": {
       "model_id": "be97e318a5bd43fa84edcbe702fb8795",
       "version_major": 2,
       "version_minor": 0
      },
      "text/plain": [
       "  0%|          | 0/1000000 [00:00<?, ?it/s]"
      ]
     },
     "metadata": {},
     "output_type": "display_data"
    },
    {
     "data": {
      "application/vnd.jupyter.widget-view+json": {
       "model_id": "d0751d4bdf454a3a91d3e3d64087c18a",
       "version_major": 2,
       "version_minor": 0
      },
      "text/plain": [
       "  0%|          | 0/1000000 [00:00<?, ?it/s]"
      ]
     },
     "metadata": {},
     "output_type": "display_data"
    },
    {
     "name": "stdout",
     "output_type": "stream",
     "text": [
      "--------------------\n",
      "mu = 0.75\n",
      "----------\n"
     ]
    },
    {
     "data": {
      "application/vnd.jupyter.widget-view+json": {
       "model_id": "c25c5248b61742e8af25e89265e7584f",
       "version_major": 2,
       "version_minor": 0
      },
      "text/plain": [
       "  0%|          | 0/1000000 [00:00<?, ?it/s]"
      ]
     },
     "metadata": {},
     "output_type": "display_data"
    },
    {
     "data": {
      "application/vnd.jupyter.widget-view+json": {
       "model_id": "38c91cd08b5d46349c5c604861ccd810",
       "version_major": 2,
       "version_minor": 0
      },
      "text/plain": [
       "  0%|          | 0/1000000 [00:00<?, ?it/s]"
      ]
     },
     "metadata": {},
     "output_type": "display_data"
    },
    {
     "name": "stdout",
     "output_type": "stream",
     "text": [
      "--------------------\n",
      "mu = 1.0\n",
      "----------\n"
     ]
    },
    {
     "data": {
      "application/vnd.jupyter.widget-view+json": {
       "model_id": "fd32737c3ce24ff1b1a40b85678d445e",
       "version_major": 2,
       "version_minor": 0
      },
      "text/plain": [
       "  0%|          | 0/1000000 [00:00<?, ?it/s]"
      ]
     },
     "metadata": {},
     "output_type": "display_data"
    },
    {
     "data": {
      "application/vnd.jupyter.widget-view+json": {
       "model_id": "eddf0bb213194472875b644b9ae1f73a",
       "version_major": 2,
       "version_minor": 0
      },
      "text/plain": [
       "  0%|          | 0/1000000 [00:00<?, ?it/s]"
      ]
     },
     "metadata": {},
     "output_type": "display_data"
    },
    {
     "name": "stdout",
     "output_type": "stream",
     "text": [
      "--------------------\n",
      "mu = 1.25\n",
      "----------\n"
     ]
    },
    {
     "data": {
      "application/vnd.jupyter.widget-view+json": {
       "model_id": "aa5fef5f902845f18733134a6fea31fc",
       "version_major": 2,
       "version_minor": 0
      },
      "text/plain": [
       "  0%|          | 0/1000000 [00:00<?, ?it/s]"
      ]
     },
     "metadata": {},
     "output_type": "display_data"
    },
    {
     "data": {
      "application/vnd.jupyter.widget-view+json": {
       "model_id": "c89df219491841aeba401316d2678a08",
       "version_major": 2,
       "version_minor": 0
      },
      "text/plain": [
       "  0%|          | 0/1000000 [00:00<?, ?it/s]"
      ]
     },
     "metadata": {},
     "output_type": "display_data"
    },
    {
     "name": "stdout",
     "output_type": "stream",
     "text": [
      "--------------------\n",
      "mu = 2.0\n",
      "----------\n"
     ]
    },
    {
     "data": {
      "application/vnd.jupyter.widget-view+json": {
       "model_id": "8742afc221944614b42548b24d46c946",
       "version_major": 2,
       "version_minor": 0
      },
      "text/plain": [
       "  0%|          | 0/1000000 [00:00<?, ?it/s]"
      ]
     },
     "metadata": {},
     "output_type": "display_data"
    },
    {
     "data": {
      "application/vnd.jupyter.widget-view+json": {
       "model_id": "febc2700c05247b5abca302b55a70543",
       "version_major": 2,
       "version_minor": 0
      },
      "text/plain": [
       "  0%|          | 0/1000000 [00:00<?, ?it/s]"
      ]
     },
     "metadata": {},
     "output_type": "display_data"
    },
    {
     "name": "stdout",
     "output_type": "stream",
     "text": [
      "--------------------\n",
      "mu = 3.0\n",
      "----------\n"
     ]
    },
    {
     "data": {
      "application/vnd.jupyter.widget-view+json": {
       "model_id": "72e25028bf524900adc529584ff4d677",
       "version_major": 2,
       "version_minor": 0
      },
      "text/plain": [
       "  0%|          | 0/1000000 [00:00<?, ?it/s]"
      ]
     },
     "metadata": {},
     "output_type": "display_data"
    },
    {
     "data": {
      "application/vnd.jupyter.widget-view+json": {
       "model_id": "2e4404da8f8a45159b5d4995f0a2395d",
       "version_major": 2,
       "version_minor": 0
      },
      "text/plain": [
       "  0%|          | 0/1000000 [00:00<?, ?it/s]"
      ]
     },
     "metadata": {},
     "output_type": "display_data"
    },
    {
     "name": "stdout",
     "output_type": "stream",
     "text": [
      "--------------------\n",
      "mu = 4.0\n",
      "----------\n"
     ]
    },
    {
     "data": {
      "application/vnd.jupyter.widget-view+json": {
       "model_id": "2c7efd356dba4e3d9584182336c21da3",
       "version_major": 2,
       "version_minor": 0
      },
      "text/plain": [
       "  0%|          | 0/1000000 [00:00<?, ?it/s]"
      ]
     },
     "metadata": {},
     "output_type": "display_data"
    },
    {
     "data": {
      "application/vnd.jupyter.widget-view+json": {
       "model_id": "1bd995b33a66437aa3b020627c6b285c",
       "version_major": 2,
       "version_minor": 0
      },
      "text/plain": [
       "  0%|          | 0/1000000 [00:00<?, ?it/s]"
      ]
     },
     "metadata": {},
     "output_type": "display_data"
    },
    {
     "name": "stdout",
     "output_type": "stream",
     "text": [
      "--------------------\n",
      "mu = 5.0\n",
      "----------\n"
     ]
    },
    {
     "data": {
      "application/vnd.jupyter.widget-view+json": {
       "model_id": "0c7244b48b7e4ef99681887fc075aaaf",
       "version_major": 2,
       "version_minor": 0
      },
      "text/plain": [
       "  0%|          | 0/1000000 [00:00<?, ?it/s]"
      ]
     },
     "metadata": {},
     "output_type": "display_data"
    },
    {
     "data": {
      "application/vnd.jupyter.widget-view+json": {
       "model_id": "43da77e7f50744dda1b74b0f7236abb1",
       "version_major": 2,
       "version_minor": 0
      },
      "text/plain": [
       "  0%|          | 0/1000000 [00:00<?, ?it/s]"
      ]
     },
     "metadata": {},
     "output_type": "display_data"
    }
   ],
   "source": [
    "# for mu in mu_vals:\n",
    "max_ind = int(1e6)\n",
    "lyapunov_exps = {}\n",
    "for mu in mu_vals:\n",
    "# for mu in [5.0]:\n",
    "    key = f\"mu = {mu}\"\n",
    "    print(\"-\"*20)\n",
    "    print(key)\n",
    "    print(\"-\"*10)\n",
    "    vdp_sig = signals[key]\n",
    "    signal = vdp_sig\n",
    "    dt = dt_sim*taus[key]\n",
    "    \n",
    "    js = np.zeros((np.min([signal.shape[0], max_ind]), signal.shape[1], signal.shape[1]))\n",
    "    for i, pt in tqdm(enumerate(signal[:np.min([signal.shape[0], max_ind])]), total=np.min([signal.shape[0], max_ind])):\n",
    "        js[i] = vdp_jacobian(pt, mu)*dt_sim + np.eye(2)\n",
    "    \n",
    "    lexp = compute_lyaps(js, verbose=True)\n",
    "    lexp /= dt\n",
    "    \n",
    "    lyapunov_exps[key] = lexp"
   ]
  },
  {
   "cell_type": "code",
   "execution_count": 14,
   "id": "e062c314",
   "metadata": {},
   "outputs": [
    {
     "data": {
      "text/plain": [
       "-7.25"
      ]
     },
     "execution_count": 14,
     "metadata": {},
     "output_type": "execute_result"
    }
   ],
   "source": [
    "def lambda_2(mu):\n",
    "    if mu < 2:\n",
    "        return -mu  - (1/16)*(mu ** 3) + (263/18432)*(mu ** 5)\n",
    "    elif mu >= 2 and mu <= 4:\n",
    "        return (-1.2 + (mu - 2)*(-0.1))*mu\n",
    "    elif mu > 4 and mu <= 5:\n",
    "        return (-1.4 + (mu - 4)*(-0.05))*mu\n",
    "#     elif mu == 2:\n",
    "#         return -1.2*mu\n",
    "#     elif mu == 3:\n",
    "#         return -1.3*mu\n",
    "#     elif mu == 4:\n",
    "#         return -1.4*mu\n",
    "#     elif mu == 5:\n",
    "#         return -1.45*mu\n",
    "    else:\n",
    "        return None\n",
    "# https://arxiv.org/pdf/2111.12198.pdf\n",
    "\n",
    "lambda_2(mu)"
   ]
  },
  {
   "cell_type": "code",
   "execution_count": 15,
   "id": "44a22fc5",
   "metadata": {},
   "outputs": [
    {
     "data": {
      "image/png": "[encoded data removed]",
      "text/plain": [
       "<Figure size 720x360 with 1 Axes>"
      ]
     },
     "metadata": {
      "needs_background": "light"
     },
     "output_type": "display_data"
    }
   ],
   "source": [
    "plt.plot(mu_vals, [lyapunov_exps[f\"mu = {mu}\"][0] for mu in mu_vals], label=r'estimated $\\lambda_1$')\n",
    "plt.plot(mu_vals, np.zeros(len(mu_vals)), linestyle='--', c='blue', alpha=0.5, label=r'true $\\lambda_1$')\n",
    "plt.plot(mu_vals, [lyapunov_exps[f\"mu = {mu}\"][1] for mu in mu_vals], label=r'estimated $\\lambda_2$')\n",
    "plt.plot(mu_vals, [lambda_2(mu) for mu in mu_vals], linestyle='--', c='red', alpha=0.5, label=r'true $\\lambda_2$')\n",
    "plt.legend()\n",
    "plt.show()"
   ]
  },
  {
   "cell_type": "code",
   "execution_count": null,
   "id": "f08fe095",
   "metadata": {},
   "outputs": [],
   "source": []
  }
 ],
 "metadata": {
  "kernelspec": {
   "display_name": "Python 3 (ipykernel)",
   "language": "python",
   "name": "python3"
  },
  "language_info": {
   "codemirror_mode": {
    "name": "ipython",
    "version": 3
   },
   "file_extension": ".py",
   "mimetype": "text/x-python",
   "name": "python",
   "nbconvert_exporter": "python",
   "pygments_lexer": "ipython3",
   "version": "3.9.1"
  }
 },
 "nbformat": 4,
 "nbformat_minor": 5
}
