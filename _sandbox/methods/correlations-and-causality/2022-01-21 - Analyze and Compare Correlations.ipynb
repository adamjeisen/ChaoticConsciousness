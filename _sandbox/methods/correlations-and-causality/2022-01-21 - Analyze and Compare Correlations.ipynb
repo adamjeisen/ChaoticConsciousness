{
 "cells": [
  {
   "cell_type": "code",
   "execution_count": 1,
   "id": "ddabe21e",
   "metadata": {},
   "outputs": [],
   "source": [
    "%load_ext autoreload"
   ]
  },
  {
   "cell_type": "code",
   "execution_count": 2,
   "id": "1b1ac697",
   "metadata": {},
   "outputs": [],
   "source": [
    "%autoreload 2\n",
    "from collections import defaultdict\n",
    "from datetime import datetime\n",
    "import h5py\n",
    "import matplotlib.pyplot as plt\n",
    "from neural_analysis.matIO import loadmat\n",
    "import numpy as np\n",
    "import os\n",
    "import pandas as pd\n",
    "from scipy.signal import butter, filtfilt, freqz\n",
    "from scipy.stats import pearsonr\n",
    "import sys\n",
    "import time\n",
    "from tqdm.auto import tqdm\n",
    "\n",
    "sys.path.append('../../..')\n",
    "from ld_utils import compute_eigs, get_data_sigma_norms\n",
    "from up_down import get_up_down\n",
    "from utils import get_result_path, load, save"
   ]
  },
  {
   "cell_type": "code",
   "execution_count": 3,
   "id": "7c28e6fb",
   "metadata": {},
   "outputs": [],
   "source": [
    "session = 'Mary-Anesthesia-20160809-01'"
   ]
  },
  {
   "cell_type": "markdown",
   "id": "dd148edb",
   "metadata": {},
   "source": [
    "## Load Neural Data Info"
   ]
  },
  {
   "cell_type": "code",
   "execution_count": 4,
   "id": "1e111067",
   "metadata": {},
   "outputs": [
    {
     "name": "stdout",
     "output_type": "stream",
     "text": [
      "Loading data ...\n",
      "Data loaded (took 3.22 seconds)\n"
     ]
    }
   ],
   "source": [
    "filename = fr'/om/user/eisenaj/ChaoticConsciousness/data/propofolPuffTone/{session}.mat'\n",
    "print(\"Loading data ...\")\n",
    "start = time.process_time()\n",
    "electrode_info, lfp_schema, session_info, spike_times, unit_info = loadmat(filename, variables=['electrodeInfo', 'lfpSchema', 'sessionInfo', 'spikeTimes', 'unitInfo'], verbose=False)\n",
    "spike_times = spike_times[0]\n",
    "dt = lfp_schema['smpInterval'][0]\n",
    "# T = lfp.shape[0]\n",
    "\n",
    "# f = h5py.File(filename, 'r')\n",
    "# airPuff_binary, audio_binary = get_binary_stimuli(f)\n",
    "\n",
    "print(f\"Data loaded (took {time.process_time() - start:.2f} seconds)\")"
   ]
  },
  {
   "cell_type": "markdown",
   "id": "7bc8f4b5",
   "metadata": {},
   "source": [
    "## Load Results"
   ]
  },
  {
   "cell_type": "code",
   "execution_count": 5,
   "id": "8cae6b82",
   "metadata": {},
   "outputs": [],
   "source": [
    "correlations_results_dir = \"/om/user/eisenaj/ChaoticConsciousness/results/propofol/correlations\"\n",
    "window = 2.5\n",
    "stride = 2.5\n",
    "correlations_result_path = get_result_path(correlations_results_dir, session, window, stride)\n",
    "correlations_run_data = load(correlations_result_path)"
   ]
  },
  {
   "cell_type": "code",
   "execution_count": 6,
   "id": "b1e30535",
   "metadata": {},
   "outputs": [],
   "source": [
    "correlations = correlations_run_data"
   ]
  },
  {
   "cell_type": "code",
   "execution_count": 7,
   "id": "d1707914",
   "metadata": {},
   "outputs": [],
   "source": [
    "VAR_results_dir = \"/om/user/eisenaj/ChaoticConsciousness/results/propofol/VAR\"\n",
    "VAR_result_path = get_result_path(VAR_results_dir, session, window, stride)\n",
    "VAR_run_data = load(VAR_result_path)"
   ]
  },
  {
   "cell_type": "code",
   "execution_count": 8,
   "id": "d1ce34c5",
   "metadata": {},
   "outputs": [],
   "source": [
    "VAR = VAR_run_data['results']['all']"
   ]
  },
  {
   "cell_type": "markdown",
   "id": "77b3fc7e",
   "metadata": {},
   "source": [
    "## Compare"
   ]
  },
  {
   "cell_type": "code",
   "execution_count": 9,
   "id": "f0d613b9",
   "metadata": {},
   "outputs": [
    {
     "data": {
      "text/html": [
       "<div>\n",
       "<style scoped>\n",
       "    .dataframe tbody tr th:only-of-type {\n",
       "        vertical-align: middle;\n",
       "    }\n",
       "\n",
       "    .dataframe tbody tr th {\n",
       "        vertical-align: top;\n",
       "    }\n",
       "\n",
       "    .dataframe thead th {\n",
       "        text-align: right;\n",
       "    }\n",
       "</style>\n",
       "<table border=\"1\" class=\"dataframe\">\n",
       "  <thead>\n",
       "    <tr style=\"text-align: right;\">\n",
       "      <th></th>\n",
       "      <th>eigs</th>\n",
       "      <th>A_mat</th>\n",
       "      <th>A_mat_with_bias</th>\n",
       "      <th>sigma_norms</th>\n",
       "      <th>sigma2_ML</th>\n",
       "      <th>AIC</th>\n",
       "      <th>window_locs</th>\n",
       "      <th>data_sigma_norms</th>\n",
       "    </tr>\n",
       "  </thead>\n",
       "  <tbody>\n",
       "    <tr>\n",
       "      <th>0</th>\n",
       "      <td>[0.7691946507384777, 0.7691946507384777, 0.719...</td>\n",
       "      <td>[[0.8343781094932042, 0.0958258736224859, 0.04...</td>\n",
       "      <td>[[-0.00321241738756414, -0.005885769248440647,...</td>\n",
       "      <td>0.001021</td>\n",
       "      <td>0.068905</td>\n",
       "      <td>-6685.577670</td>\n",
       "      <td>[0, 2500]</td>\n",
       "      <td>0.199636</td>\n",
       "    </tr>\n",
       "    <tr>\n",
       "      <th>1</th>\n",
       "      <td>[0.7867990538637615, 0.7867990538637615, 0.832...</td>\n",
       "      <td>[[0.782805386961231, 0.11612843515221853, 0.11...</td>\n",
       "      <td>[[-0.007393330710122945, -0.002014743283405777...</td>\n",
       "      <td>0.001497</td>\n",
       "      <td>0.079066</td>\n",
       "      <td>-6341.669870</td>\n",
       "      <td>[2500, 5000]</td>\n",
       "      <td>0.226331</td>\n",
       "    </tr>\n",
       "    <tr>\n",
       "      <th>2</th>\n",
       "      <td>[0.7900257422753438, 0.7900257422753438, 0.819...</td>\n",
       "      <td>[[0.7533357664610157, 0.135502465063974, 0.106...</td>\n",
       "      <td>[[0.0030266933043298365, -0.000729466346540240...</td>\n",
       "      <td>0.002138</td>\n",
       "      <td>0.082447</td>\n",
       "      <td>-6236.985569</td>\n",
       "      <td>[5000, 7500]</td>\n",
       "      <td>0.164156</td>\n",
       "    </tr>\n",
       "    <tr>\n",
       "      <th>3</th>\n",
       "      <td>[0.7973710328353877, 0.7973710328353877, 0.786...</td>\n",
       "      <td>[[0.7695555808437688, 0.15124839343503382, 0.0...</td>\n",
       "      <td>[[-0.019538228519091826, -0.014060050081772286...</td>\n",
       "      <td>0.001839</td>\n",
       "      <td>0.079565</td>\n",
       "      <td>-6325.950569</td>\n",
       "      <td>[7500, 10000]</td>\n",
       "      <td>0.366895</td>\n",
       "    </tr>\n",
       "    <tr>\n",
       "      <th>4</th>\n",
       "      <td>[0.7859718291246546, 0.7859718291246546, 0.810...</td>\n",
       "      <td>[[0.7579899143816323, 0.18930499472953471, -0....</td>\n",
       "      <td>[[0.0019640971261379856, -0.009078511616743836...</td>\n",
       "      <td>0.002162</td>\n",
       "      <td>0.082452</td>\n",
       "      <td>-6236.832541</td>\n",
       "      <td>[10000, 12500]</td>\n",
       "      <td>0.257013</td>\n",
       "    </tr>\n",
       "  </tbody>\n",
       "</table>\n",
       "</div>"
      ],
      "text/plain": [
       "                                                eigs  \\\n",
       "0  [0.7691946507384777, 0.7691946507384777, 0.719...   \n",
       "1  [0.7867990538637615, 0.7867990538637615, 0.832...   \n",
       "2  [0.7900257422753438, 0.7900257422753438, 0.819...   \n",
       "3  [0.7973710328353877, 0.7973710328353877, 0.786...   \n",
       "4  [0.7859718291246546, 0.7859718291246546, 0.810...   \n",
       "\n",
       "                                               A_mat  \\\n",
       "0  [[0.8343781094932042, 0.0958258736224859, 0.04...   \n",
       "1  [[0.782805386961231, 0.11612843515221853, 0.11...   \n",
       "2  [[0.7533357664610157, 0.135502465063974, 0.106...   \n",
       "3  [[0.7695555808437688, 0.15124839343503382, 0.0...   \n",
       "4  [[0.7579899143816323, 0.18930499472953471, -0....   \n",
       "\n",
       "                                     A_mat_with_bias  sigma_norms  sigma2_ML  \\\n",
       "0  [[-0.00321241738756414, -0.005885769248440647,...     0.001021   0.068905   \n",
       "1  [[-0.007393330710122945, -0.002014743283405777...     0.001497   0.079066   \n",
       "2  [[0.0030266933043298365, -0.000729466346540240...     0.002138   0.082447   \n",
       "3  [[-0.019538228519091826, -0.014060050081772286...     0.001839   0.079565   \n",
       "4  [[0.0019640971261379856, -0.009078511616743836...     0.002162   0.082452   \n",
       "\n",
       "           AIC     window_locs  data_sigma_norms  \n",
       "0 -6685.577670       [0, 2500]          0.199636  \n",
       "1 -6341.669870    [2500, 5000]          0.226331  \n",
       "2 -6236.985569    [5000, 7500]          0.164156  \n",
       "3 -6325.950569   [7500, 10000]          0.366895  \n",
       "4 -6236.832541  [10000, 12500]          0.257013  "
      ]
     },
     "execution_count": 9,
     "metadata": {},
     "output_type": "execute_result"
    }
   ],
   "source": [
    "VAR.head()"
   ]
  },
  {
   "cell_type": "code",
   "execution_count": 10,
   "id": "60b91abc",
   "metadata": {},
   "outputs": [
    {
     "data": {
      "text/html": [
       "<div>\n",
       "<style scoped>\n",
       "    .dataframe tbody tr th:only-of-type {\n",
       "        vertical-align: middle;\n",
       "    }\n",
       "\n",
       "    .dataframe tbody tr th {\n",
       "        vertical-align: top;\n",
       "    }\n",
       "\n",
       "    .dataframe thead th {\n",
       "        text-align: right;\n",
       "    }\n",
       "</style>\n",
       "<table border=\"1\" class=\"dataframe\">\n",
       "  <thead>\n",
       "    <tr style=\"text-align: right;\">\n",
       "      <th></th>\n",
       "      <th>start_ind</th>\n",
       "      <th>start_time</th>\n",
       "      <th>end_ind</th>\n",
       "      <th>end_time</th>\n",
       "      <th>correlations</th>\n",
       "      <th>p_vals</th>\n",
       "    </tr>\n",
       "  </thead>\n",
       "  <tbody>\n",
       "    <tr>\n",
       "      <th>0</th>\n",
       "      <td>0</td>\n",
       "      <td>0.0</td>\n",
       "      <td>2500</td>\n",
       "      <td>2.5</td>\n",
       "      <td>[[1.0, 0.903087072269003, 0.780571796179143, 0...</td>\n",
       "      <td>[[0.0, 0.0, 0.0, 2.6774513824498127e-279, 2.37...</td>\n",
       "    </tr>\n",
       "    <tr>\n",
       "      <th>1</th>\n",
       "      <td>2500</td>\n",
       "      <td>2.5</td>\n",
       "      <td>5000</td>\n",
       "      <td>5.0</td>\n",
       "      <td>[[0.9999999999999999, 0.9085506182997449, 0.77...</td>\n",
       "      <td>[[0.0, 0.0, 0.0, 5.930745137105963e-237, 2.684...</td>\n",
       "    </tr>\n",
       "    <tr>\n",
       "      <th>2</th>\n",
       "      <td>5000</td>\n",
       "      <td>5.0</td>\n",
       "      <td>7500</td>\n",
       "      <td>7.5</td>\n",
       "      <td>[[1.0, 0.8700076442607931, 0.7281272776102967,...</td>\n",
       "      <td>[[0.0, 0.0, 0.0, 1.0398796603775902e-218, 6.25...</td>\n",
       "    </tr>\n",
       "    <tr>\n",
       "      <th>3</th>\n",
       "      <td>7500</td>\n",
       "      <td>7.5</td>\n",
       "      <td>10000</td>\n",
       "      <td>10.0</td>\n",
       "      <td>[[0.9999999999999997, 0.9196452196677776, 0.78...</td>\n",
       "      <td>[[0.0, 0.0, 0.0, 1.1275734897095271e-218, 2.77...</td>\n",
       "    </tr>\n",
       "    <tr>\n",
       "      <th>4</th>\n",
       "      <td>10000</td>\n",
       "      <td>10.0</td>\n",
       "      <td>12500</td>\n",
       "      <td>12.5</td>\n",
       "      <td>[[1.0, 0.8966717441888947, 0.7735741368761786,...</td>\n",
       "      <td>[[0.0, 0.0, 0.0, 5.367265537651682e-201, 2.222...</td>\n",
       "    </tr>\n",
       "  </tbody>\n",
       "</table>\n",
       "</div>"
      ],
      "text/plain": [
       "   start_ind  start_time  end_ind  end_time  \\\n",
       "0          0         0.0     2500       2.5   \n",
       "1       2500         2.5     5000       5.0   \n",
       "2       5000         5.0     7500       7.5   \n",
       "3       7500         7.5    10000      10.0   \n",
       "4      10000        10.0    12500      12.5   \n",
       "\n",
       "                                        correlations  \\\n",
       "0  [[1.0, 0.903087072269003, 0.780571796179143, 0...   \n",
       "1  [[0.9999999999999999, 0.9085506182997449, 0.77...   \n",
       "2  [[1.0, 0.8700076442607931, 0.7281272776102967,...   \n",
       "3  [[0.9999999999999997, 0.9196452196677776, 0.78...   \n",
       "4  [[1.0, 0.8966717441888947, 0.7735741368761786,...   \n",
       "\n",
       "                                              p_vals  \n",
       "0  [[0.0, 0.0, 0.0, 2.6774513824498127e-279, 2.37...  \n",
       "1  [[0.0, 0.0, 0.0, 5.930745137105963e-237, 2.684...  \n",
       "2  [[0.0, 0.0, 0.0, 1.0398796603775902e-218, 6.25...  \n",
       "3  [[0.0, 0.0, 0.0, 1.1275734897095271e-218, 2.77...  \n",
       "4  [[0.0, 0.0, 0.0, 5.367265537651682e-201, 2.222...  "
      ]
     },
     "execution_count": 10,
     "metadata": {},
     "output_type": "execute_result"
    }
   ],
   "source": [
    "correlations.head()"
   ]
  },
  {
   "cell_type": "code",
   "execution_count": 12,
   "id": "881741d8",
   "metadata": {},
   "outputs": [
    {
     "data": {
      "application/vnd.jupyter.widget-view+json": {
       "model_id": "ee8b7ad55ad2405eb9f0e20cf670c31b",
       "version_major": 2,
       "version_minor": 0
      },
      "text/plain": [
       "  0%|          | 0/2822 [00:00<?, ?it/s]"
      ]
     },
     "metadata": {},
     "output_type": "display_data"
    }
   ],
   "source": [
    "num_rows = len(VAR)\n",
    "\n",
    "matrix_correls = np.zeros((num_rows,))\n",
    "matrix_p_vals = np.zeros((num_rows,))\n",
    "for i in tqdm(range(len(VAR))):\n",
    "    matrix_correls[i], matrix_p_vals[i] = pearsonr(correlations.correlations.iloc[i].T.flatten(), VAR.A_mat.iloc[i].flatten())"
   ]
  },
  {
   "cell_type": "code",
   "execution_count": 13,
   "id": "c2abc285",
   "metadata": {},
   "outputs": [
    {
     "data": {
      "image/png": "[encoded data removed]",
      "text/plain": [
       "<Figure size 720x360 with 1 Axes>"
      ]
     },
     "metadata": {
      "needs_background": "light"
     },
     "output_type": "display_data"
    }
   ],
   "source": [
    "plt.figure(figsize=(10, 5))\n",
    "plt.plot(correlations.start_time/60, matrix_correls)\n",
    "plt.xlabel(\"Time in Trial (min)\", fontsize=14)\n",
    "plt.ylabel(\"Pearson Correlation\", fontsize=14)\n",
    "plt.xticks(fontsize=13)\n",
    "plt.yticks(fontsize=13)\n",
    "plt.title(\"Correlation Between Dynamics and Correlation Matrices\")\n",
    "\n",
    "min_val = matrix_correls.min()\n",
    "max_val = matrix_correls.max()\n",
    "\n",
    "ax = plt.gca()\n",
    "ax.fill_between(np.arange(session_info['drugStart'][0], session_info['drugEnd'][0], stride)/60, \n",
    "                                min_val, max_val, color='plum', alpha=0.2, label=f\"drug infusion 1 - dose = {session_info['drugDose'][0]}\")\n",
    "ax.fill_between(np.arange(session_info['drugStart'][1], session_info['drugEnd'][1], stride)/60, \n",
    "                        min_val, max_val, color='darkorchid', alpha=0.2, label=f\"drug infusion 2 - dose = {session_info['drugDose'][1]}\")\n",
    "\n",
    "plt.axvline(session_info['eyesClose'][-1]/60 if isinstance(session_info['eyesClose'], np.ndarray) else session_info['eyesClose']/60, linestyle='--', c='red', label=\"loss of consciousness\")\n",
    "plt.axvline(session_info['eyesOpen'][-1]/60 if isinstance(session_info['eyesOpen'], np.ndarray) else session_info['eyesOpen']/60, linestyle='--', c='green', label=\"return of consciousness\")\n",
    "\n",
    "plt.show()"
   ]
  },
  {
   "cell_type": "code",
   "execution_count": null,
   "id": "0a2d32fc",
   "metadata": {},
   "outputs": [],
   "source": []
  },
  {
   "cell_type": "code",
   "execution_count": null,
   "id": "a284995d",
   "metadata": {},
   "outputs": [],
   "source": []
  }
 ],
 "metadata": {
  "kernelspec": {
   "display_name": "Python 3 (ipykernel)",
   "language": "python",
   "name": "python3"
  },
  "language_info": {
   "codemirror_mode": {
    "name": "ipython",
    "version": 3
   },
   "file_extension": ".py",
   "mimetype": "text/x-python",
   "name": "python",
   "nbconvert_exporter": "python",
   "pygments_lexer": "ipython3",
   "version": "3.9.1"
  }
 },
 "nbformat": 4,
 "nbformat_minor": 5
}
