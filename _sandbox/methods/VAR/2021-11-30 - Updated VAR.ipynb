{
 "cells": [
  {
   "cell_type": "code",
   "execution_count": 4,
   "id": "ddabe21e",
   "metadata": {},
   "outputs": [],
   "source": [
    "%load_ext autoreload"
   ]
  },
  {
   "cell_type": "code",
   "execution_count": 5,
   "id": "1b1ac697",
   "metadata": {},
   "outputs": [],
   "source": [
    "%autoreload 2\n",
    "from collections import defaultdict\n",
    "from datetime import datetime\n",
    "import h5py\n",
    "import matplotlib.pyplot as plt\n",
    "from neural_analysis.matIO import loadmat\n",
    "import numpy as np\n",
    "import os\n",
    "import pandas as pd\n",
    "from scipy.signal import butter, filtfilt, freqz\n",
    "import sys\n",
    "import time\n",
    "from tqdm.auto import tqdm\n",
    "\n",
    "sys.path.append('../../..')\n",
    "from ld_utils import compute_eigs, get_data_sigma_norms\n",
    "from up_down import get_up_down\n",
    "from utils import get_binary_stimuli, get_sample_interval, load, save, to_string"
   ]
  },
  {
   "cell_type": "markdown",
   "id": "46091d60",
   "metadata": {},
   "source": [
    "## Load Neural Data"
   ]
  },
  {
   "cell_type": "code",
   "execution_count": 4,
   "id": "3cc3760f",
   "metadata": {},
   "outputs": [
    {
     "name": "stdout",
     "output_type": "stream",
     "text": [
      "Loading data ...\n",
      "Data loaded (took 102.96 seconds)\n"
     ]
    }
   ],
   "source": [
    "session = 'Mary-Anesthesia-20160809-01'\n",
    "# session = 'MrJones-Anesthesia-20160113-01.mat'\n",
    "# filename = fr'/home/adameisen/millerdata/common/datasets/anesthesia/mat/propofolPuffTone/{session}.mat'\n",
    "filename = fr'/om/user/eisenaj/ChaoticConsciousness/data/propofolPuffTone/{session}.mat'\n",
    "print(\"Loading data ...\")\n",
    "start = time.process_time()\n",
    "electrode_info, lfp, lfp_schema, session_info, spike_times, unit_info = loadmat(filename, variables=['electrodeInfo', 'lfp', 'lfpSchema', 'sessionInfo', 'spikeTimes', 'unitInfo'], verbose=False)\n",
    "spike_times = spike_times[0]\n",
    "dt = lfp_schema['smpInterval'][0]\n",
    "T = lfp.shape[0]\n",
    "\n",
    "# f = h5py.File(filename, 'r')\n",
    "# airPuff_binary, audio_binary = get_binary_stimuli(f)\n",
    "\n",
    "print(f\"Data loaded (took {time.process_time() - start:.2f} seconds)\")"
   ]
  },
  {
   "cell_type": "markdown",
   "id": "e9828977",
   "metadata": {},
   "source": [
    "# VAR"
   ]
  },
  {
   "cell_type": "code",
   "execution_count": 5,
   "id": "e7e6aa3c",
   "metadata": {},
   "outputs": [
    {
     "name": "stdout",
     "output_type": "stream",
     "text": [
      "window = 0.75, all areas\n"
     ]
    },
    {
     "data": {
      "application/vnd.jupyter.widget-view+json": {
       "model_id": "9782df1a95b242218677d7d2c113415b",
       "version_major": 2,
       "version_minor": 0
      },
      "text/plain": [
       "  0%|          | 0/9407 [00:00<?, ?it/s]"
      ]
     },
     "metadata": {},
     "output_type": "display_data"
    },
    {
     "name": "stdout",
     "output_type": "stream",
     "text": [
      "window = 1.5, all areas\n"
     ]
    },
    {
     "data": {
      "application/vnd.jupyter.widget-view+json": {
       "model_id": "528b30d62bdc4938bb7c9d85d021f829",
       "version_major": 2,
       "version_minor": 0
      },
      "text/plain": [
       "  0%|          | 0/4703 [00:00<?, ?it/s]"
      ]
     },
     "metadata": {},
     "output_type": "display_data"
    },
    {
     "name": "stdout",
     "output_type": "stream",
     "text": [
      "window = 2, all areas\n"
     ]
    },
    {
     "data": {
      "application/vnd.jupyter.widget-view+json": {
       "model_id": "373facbb233a42ccba29a21b68fdbd74",
       "version_major": 2,
       "version_minor": 0
      },
      "text/plain": [
       "  0%|          | 0/3527 [00:00<?, ?it/s]"
      ]
     },
     "metadata": {},
     "output_type": "display_data"
    },
    {
     "name": "stdout",
     "output_type": "stream",
     "text": [
      "window = 3, all areas\n"
     ]
    },
    {
     "data": {
      "application/vnd.jupyter.widget-view+json": {
       "model_id": "0e8c461310f04c05998e351254116488",
       "version_major": 2,
       "version_minor": 0
      },
      "text/plain": [
       "  0%|          | 0/2351 [00:00<?, ?it/s]"
      ]
     },
     "metadata": {},
     "output_type": "display_data"
    },
    {
     "name": "stdout",
     "output_type": "stream",
     "text": [
      "window = 4, all areas\n"
     ]
    },
    {
     "data": {
      "application/vnd.jupyter.widget-view+json": {
       "model_id": "3e3a5d106cd14f118eccc4406756cc8f",
       "version_major": 2,
       "version_minor": 0
      },
      "text/plain": [
       "  0%|          | 0/1763 [00:00<?, ?it/s]"
      ]
     },
     "metadata": {},
     "output_type": "display_data"
    }
   ],
   "source": [
    "t = time.localtime()\n",
    "timestamp = time.strftime('%b-%d-%Y_%H%M', t)\n",
    "data_path = f\"/om/user/eisenaj/ChaoticConsciousness/results/propofol/VAR\"\n",
    "os.makedirs(data_path, exist_ok=True)\n",
    "\n",
    "PCA_dim = -1\n",
    "end_step = T - int(30/dt) # take off 30 seconds\n",
    "\n",
    "# end_step = 15000\n",
    "# for window in [2.5]:\n",
    "# for window in [0.15, 0.25, 0.5, 1, 2.5, 5]:\n",
    "# for window in [0.25, 0.5, 1, 2.5, 5]:\n",
    "for window in [0.75, 1.5, 2, 3, 4]:\n",
    "    stride = window\n",
    "    run_data = {}\n",
    "    \n",
    "    # ================\n",
    "    # RUN PARAMS\n",
    "    # ================\n",
    "    run_data['run_params'] = dict(\n",
    "        window=window,\n",
    "        stride=stride,\n",
    "        PCA_dim=PCA_dim,\n",
    "        end_step=end_step,\n",
    "        unit_indices={}\n",
    "    )\n",
    "    \n",
    "    run_data['results'] = {}\n",
    "    \n",
    "    # ================\n",
    "    # AREA BY AREA\n",
    "    # ================\n",
    "    \n",
    "#     for area in np.unique(electrode_info['area']):\n",
    "#         areas = [area]\n",
    "#         unit_indices = np.arange(lfp.shape[1])[pd.Series(electrode_info['area']).isin(areas)]\n",
    "\n",
    "#         data = lfp[:end_step, unit_indices]\n",
    "#         print(f\"window = {window}, area = {area}\")\n",
    "#         results = compute_eigs(data, dt, window, stride, return_sigma_norms=True, return_A=True, PCA_dim=PCA_dim, verbose=True)\n",
    "#         results['data_sigma_norms'] = get_data_sigma_norms(data, dt, window, stride)\n",
    "#         del data\n",
    "#         for key in results.keys():\n",
    "#             if len(results[key].shape) > 1:\n",
    "#                 results[key] = list(results[key])\n",
    "#         results = pd.DataFrame(results)\n",
    "        \n",
    "#         run_data['results'][area] = results  \n",
    "#         run_data['run_params']['unit_indices'][area] = unit_indices\n",
    "    \n",
    "    # ================\n",
    "    # ALL AREAS\n",
    "    # ================\n",
    "    \n",
    "    print(f\"window = {window}, all areas\")\n",
    "    areas = np.unique(electrode_info['area'])\n",
    "    unit_indices = np.arange(lfp.shape[1])[pd.Series(electrode_info['area']).isin(areas)]\n",
    "    data = lfp[:end_step, unit_indices]\n",
    "    results = compute_eigs(data, dt, window, stride, return_sigma_norms=True, return_A=True, PCA_dim=PCA_dim, verbose=True)\n",
    "    results['data_sigma_nor/om/user/eisenms'] = get_data_sigma_norms(data, dt, window, stride)\n",
    "    del data\n",
    "    for key in results.keys():\n",
    "        if len(results[key].shape) > 1:\n",
    "            results[key] = list(results[key])\n",
    "    results = pd.DataFrame(results)\n",
    "    \n",
    "    run_data['results']['all'] = results\n",
    "    run_data['run_params']['unit_indices']['all'] = unit_indices\n",
    "\n",
    "    save(run_data, os.path.join(data_path, f\"VAR_{os.path.basename(filename)[:-4]}_window_{window}_stride_{stride}_{timestamp}\"))"
   ]
  },
  {
   "cell_type": "code",
   "execution_count": 51,
   "id": "09c2922f",
   "metadata": {},
   "outputs": [],
   "source": [
    "var_data = \"/om/user/eisenaj/ChaoticConsciousness/results/propofolWakeup/VAR/VAR_Mary-Anesthesia-20170203-02_window_2.5_stride_2.5/FEF/window_1163\""
   ]
  },
  {
   "cell_type": "code",
   "execution_count": 52,
   "id": "1f4c6a7d",
   "metadata": {},
   "outputs": [],
   "source": [
    "var_window = load(var_data)"
   ]
  },
  {
   "cell_type": "code",
   "execution_count": 53,
   "id": "76c416da",
   "metadata": {},
   "outputs": [
    {
     "data": {
      "text/plain": [
       "{'start_ind': 2907500,\n",
       " 'start_time': 2907.5,\n",
       " 'end_ind': 2910000,\n",
       " 'end_time': 2910.0,\n",
       " 'explained_variance': None,\n",
       " 'A_mat': array([[ 0.97285727,  0.03403564, -0.12228417, ..., -0.01783858,\n",
       "          0.05799666, -0.04499522],\n",
       "        [ 0.00343862,  1.00343882, -0.10138505, ..., -0.01211935,\n",
       "          0.02196587,  0.0281815 ],\n",
       "        [-0.03049425,  0.04135523,  0.73415301, ..., -0.02613038,\n",
       "          0.03051656, -0.02521762],\n",
       "        ...,\n",
       "        [-0.01505086,  0.04804948, -0.65656648, ...,  0.96052345,\n",
       "          0.11066385, -0.20543974],\n",
       "        [-0.05086159,  0.0839901 , -0.62497407, ..., -0.01833342,\n",
       "          1.03159911, -0.11728186],\n",
       "        [-0.07075263,  0.08353061, -0.6327468 , ..., -0.05546332,\n",
       "          0.03639933,  0.94705173]]),\n",
       " 'A_mat_with_bias': array([[ 0.00149468,  0.00145243,  0.0019745 , ...,  0.00396099,\n",
       "          0.00392612,  0.0044    ],\n",
       "        [ 0.97285727,  0.00343862, -0.03049425, ..., -0.01505086,\n",
       "         -0.05086159, -0.07075263],\n",
       "        [ 0.03403564,  1.00343882,  0.04135523, ...,  0.04804948,\n",
       "          0.0839901 ,  0.08353061],\n",
       "        ...,\n",
       "        [-0.01783858, -0.01211935, -0.02613038, ...,  0.96052345,\n",
       "         -0.01833342, -0.05546332],\n",
       "        [ 0.05799666,  0.02196587,  0.03051656, ...,  0.11066385,\n",
       "          1.03159911,  0.03639933],\n",
       "        [-0.04499522,  0.0281815 , -0.02521762, ..., -0.20543974,\n",
       "         -0.11728186,  0.94705173]]),\n",
       " 'eigs': array([0.9462306 +0.1359607j , 0.9462306 -0.1359607j ,\n",
       "        0.95399732+0.11381843j, 0.95399732-0.11381843j,\n",
       "        0.9596459 +0.09170255j, 0.9596459 -0.09170255j,\n",
       "        0.96207685+0.076923j  , 0.96207685-0.076923j  ,\n",
       "        0.94010738+0.06555803j, 0.94010738-0.06555803j,\n",
       "        0.95597538+0.06511846j, 0.95597538-0.06511846j,\n",
       "        0.94729109+0.05772104j, 0.94729109-0.05772104j,\n",
       "        0.92630683+0.j        , 0.96259809+0.05226734j,\n",
       "        0.96259809-0.05226734j, 0.97274046+0.05106186j,\n",
       "        0.97274046-0.05106186j, 0.94390033+0.03560772j,\n",
       "        0.94390033-0.03560772j, 0.93865713+0.j        ,\n",
       "        0.96417699+0.04039836j, 0.96417699-0.04039836j,\n",
       "        0.95050925+0.00630565j, 0.95050925-0.00630565j,\n",
       "        0.95804588+0.02222094j, 0.95804588-0.02222094j,\n",
       "        0.97571297+0.0310259j , 0.97571297-0.0310259j ,\n",
       "        0.96822024+0.02025763j, 0.96822024-0.02025763j,\n",
       "        0.98691588+0.02060422j, 0.98691588-0.02060422j,\n",
       "        0.97782509+0.021215j  , 0.97782509-0.021215j  ,\n",
       "        0.97368459+0.01717563j, 0.97368459-0.01717563j,\n",
       "        0.97045084+0.0079287j , 0.97045084-0.0079287j ,\n",
       "        0.99699444+0.00947386j, 0.99699444-0.00947386j,\n",
       "        0.99777041+0.00608132j, 0.99777041-0.00608132j,\n",
       "        0.99235539+0.00941582j, 0.99235539-0.00941582j,\n",
       "        0.98670993+0.01234562j, 0.98670993-0.01234562j,\n",
       "        0.97428166+0.j        , 0.98199917+0.00206791j,\n",
       "        0.98199917-0.00206791j, 0.99484192+0.00072879j,\n",
       "        0.99484192-0.00072879j, 0.99363947+0.j        ]),\n",
       " 'criticality_inds': array([0.95594856, 0.95594856, 0.96076299, 0.96076299, 0.96401744,\n",
       "        0.96401744, 0.96514715, 0.96514715, 0.94239044, 0.94239044,\n",
       "        0.95819066, 0.95819066, 0.94904801, 0.94904801, 0.92630683,\n",
       "        0.96401605, 0.96401605, 0.97407973, 0.97407973, 0.94457172,\n",
       "        0.94457172, 0.93865713, 0.96502295, 0.96502295, 0.95053017,\n",
       "        0.95053017, 0.95830354, 0.95830354, 0.97620613, 0.97620613,\n",
       "        0.96843214, 0.96843214, 0.98713093, 0.98713093, 0.97805521,\n",
       "        0.97805521, 0.97383606, 0.97383606, 0.97048323, 0.97048323,\n",
       "        0.99703946, 0.99703946, 0.99778895, 0.99778895, 0.99240006,\n",
       "        0.99240006, 0.98678716, 0.98678716, 0.97428166, 0.98200134,\n",
       "        0.98200134, 0.99484218, 0.99484218, 0.99363947]),\n",
       " 'sigma2_ML': 0.033487316005838,\n",
       " 'AIC': -8489.471346349259,\n",
       " 'sigma_norm': 0.0017422806895624773}"
      ]
     },
     "execution_count": 53,
     "metadata": {},
     "output_type": "execute_result"
    }
   ],
   "source": [
    "var_window"
   ]
  },
  {
   "cell_type": "code",
   "execution_count": 54,
   "id": "c6dac105",
   "metadata": {},
   "outputs": [
    {
     "data": {
      "text/plain": [
       "54"
      ]
     },
     "execution_count": 54,
     "metadata": {},
     "output_type": "execute_result"
    }
   ],
   "source": [
    "len(var_window['criticality_inds'])"
   ]
  },
  {
   "cell_type": "code",
   "execution_count": 55,
   "id": "ab4cfc65",
   "metadata": {},
   "outputs": [
    {
     "data": {
      "text/plain": [
       "264"
      ]
     },
     "execution_count": 55,
     "metadata": {},
     "output_type": "execute_result"
    }
   ],
   "source": [
    "54 + 63 + 63 + 64 + 20"
   ]
  },
  {
   "cell_type": "code",
   "execution_count": null,
   "id": "d69785c4",
   "metadata": {},
   "outputs": [],
   "source": []
  }
 ],
 "metadata": {
  "kernelspec": {
   "display_name": "Python 3 (ipykernel)",
   "language": "python",
   "name": "python3"
  },
  "language_info": {
   "codemirror_mode": {
    "name": "ipython",
    "version": 3
   },
   "file_extension": ".py",
   "mimetype": "text/x-python",
   "name": "python",
   "nbconvert_exporter": "python",
   "pygments_lexer": "ipython3",
   "version": "3.9.1"
  }
 },
 "nbformat": 4,
 "nbformat_minor": 5
}
