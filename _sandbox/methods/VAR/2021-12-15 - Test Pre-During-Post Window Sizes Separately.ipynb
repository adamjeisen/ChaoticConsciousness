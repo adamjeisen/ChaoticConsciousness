{
 "cells": [
  {
   "cell_type": "code",
   "execution_count": 2,
   "id": "ddabe21e",
   "metadata": {},
   "outputs": [],
   "source": [
    "%load_ext autoreload"
   ]
  },
  {
   "cell_type": "code",
   "execution_count": 3,
   "id": "1b1ac697",
   "metadata": {},
   "outputs": [],
   "source": [
    "%autoreload 2\n",
    "from collections import defaultdict\n",
    "from datetime import datetime\n",
    "import h5py\n",
    "from kneed import KneeLocator\n",
    "import matplotlib.pyplot as plt\n",
    "from neural_analysis.matIO import loadmat\n",
    "import numpy as np\n",
    "import os\n",
    "import pandas as pd\n",
    "import re\n",
    "from scipy.signal import butter, filtfilt, freqz\n",
    "import sys\n",
    "import time\n",
    "from tqdm.auto import tqdm\n",
    "\n",
    "sys.path.append('../../..')\n",
    "from ld_utils import compute_eigs, get_data_sigma_norms\n",
    "from up_down import get_up_down\n",
    "from utils import compile_folder, get_data_class, get_result_path, load, save, to_string"
   ]
  },
  {
   "cell_type": "code",
   "execution_count": 4,
   "id": "9e9b3443",
   "metadata": {},
   "outputs": [],
   "source": [
    "## propofolPuffTone\n",
    "# session = 'Mary-Anesthesia-20160809-01'\n",
    "# session = 'MrJones-Anesthesia-20160105-01'\n",
    "# session = 'Mary-Anesthesia-20160916-02'\n",
    "session = 'MrJones-Anesthesia-20160301-01'\n",
    "# session = 'MrJones-Anesthesia-20160113-01'\n",
    "\n",
    "## propofolWakeup\n",
    "# session = 'Mary-Anesthesia-20170203-02'"
   ]
  },
  {
   "cell_type": "markdown",
   "id": "46091d60",
   "metadata": {},
   "source": [
    "## Load Neural Data"
   ]
  },
  {
   "cell_type": "code",
   "execution_count": 5,
   "id": "b7380542",
   "metadata": {},
   "outputs": [],
   "source": [
    "all_data_dir = f\"/om/user/eisenaj/datasets/anesthesia/mat\"\n",
    "data_class = get_data_class(session, all_data_dir)"
   ]
  },
  {
   "cell_type": "code",
   "execution_count": 6,
   "id": "3cc3760f",
   "metadata": {},
   "outputs": [
    {
     "name": "stdout",
     "output_type": "stream",
     "text": [
      "Loading data ...\n",
      "Data loaded (took 153.09 seconds)\n"
     ]
    }
   ],
   "source": [
    "filename = os.path.join(all_data_dir, data_class, f'{session}.mat')\n",
    "print(\"Loading data ...\")\n",
    "start = time.process_time()\n",
    "electrode_info, lfp, lfp_schema, session_info, spike_times, unit_info = loadmat(filename, variables=['electrodeInfo', 'lfp', 'lfpSchema', 'sessionInfo', 'spikeTimes', 'unitInfo'], verbose=False)\n",
    "spike_times = spike_times[0]\n",
    "dt = lfp_schema['smpInterval'][0]\n",
    "T = lfp.shape[0]\n",
    "\n",
    "print(f\"Data loaded (took {time.process_time() - start:.2f} seconds)\")"
   ]
  },
  {
   "cell_type": "markdown",
   "id": "8e1d0cef",
   "metadata": {},
   "source": [
    "## Find Prediction Errors (All Window Sizes)"
   ]
  },
  {
   "cell_type": "code",
   "execution_count": 7,
   "id": "a3e77ed3",
   "metadata": {},
   "outputs": [
    {
     "name": "stdout",
     "output_type": "stream",
     "text": [
      "Now computing window = 0.5\n"
     ]
    },
    {
     "data": {
      "application/vnd.jupyter.widget-view+json": {
       "model_id": "fd646be48e664ae29b427405239c69e1",
       "version_major": 2,
       "version_minor": 0
      },
      "text/plain": [
       "  0%|          | 0/5 [00:00<?, ?it/s]"
      ]
     },
     "metadata": {},
     "output_type": "display_data"
    },
    {
     "name": "stdout",
     "output_type": "stream",
     "text": [
      "Need to compile /om/user/eisenaj/ChaoticConsciousness/results/propofolPuffTone/VAR/VAR_MrJones-Anesthesia-20160301-01_window_0.5_stride_0.5_Feb-23-2022_1636/FEF\n"
     ]
    },
    {
     "data": {
      "application/vnd.jupyter.widget-view+json": {
       "model_id": "77169da622574dc582e88af618daf087",
       "version_major": 2,
       "version_minor": 0
      },
      "text/plain": [
       "  0%|          | 0/19747 [00:00<?, ?it/s]"
      ]
     },
     "metadata": {},
     "output_type": "display_data"
    },
    {
     "name": "stdout",
     "output_type": "stream",
     "text": [
      "Need to compile /om/user/eisenaj/ChaoticConsciousness/results/propofolPuffTone/VAR/VAR_MrJones-Anesthesia-20160301-01_window_0.5_stride_0.5_Feb-23-2022_1636/7b\n"
     ]
    },
    {
     "data": {
      "application/vnd.jupyter.widget-view+json": {
       "model_id": "dc24aef4dfb344bb8b08b3790aba028a",
       "version_major": 2,
       "version_minor": 0
      },
      "text/plain": [
       "  0%|          | 0/19747 [00:00<?, ?it/s]"
      ]
     },
     "metadata": {},
     "output_type": "display_data"
    },
    {
     "name": "stdout",
     "output_type": "stream",
     "text": [
      "Need to compile /om/user/eisenaj/ChaoticConsciousness/results/propofolPuffTone/VAR/VAR_MrJones-Anesthesia-20160301-01_window_0.5_stride_0.5_Feb-23-2022_1636/all\n"
     ]
    },
    {
     "data": {
      "application/vnd.jupyter.widget-view+json": {
       "model_id": "c6ffa43d950940a7be5f7558f66f6f98",
       "version_major": 2,
       "version_minor": 0
      },
      "text/plain": [
       "  0%|          | 0/19747 [00:00<?, ?it/s]"
      ]
     },
     "metadata": {},
     "output_type": "display_data"
    },
    {
     "name": "stdout",
     "output_type": "stream",
     "text": [
      "Need to compile /om/user/eisenaj/ChaoticConsciousness/results/propofolPuffTone/VAR/VAR_MrJones-Anesthesia-20160301-01_window_0.5_stride_0.5_Feb-23-2022_1636/vlPFC\n"
     ]
    },
    {
     "data": {
      "application/vnd.jupyter.widget-view+json": {
       "model_id": "877744e34e0b412993e3d84354cea45d",
       "version_major": 2,
       "version_minor": 0
      },
      "text/plain": [
       "  0%|          | 0/19747 [00:00<?, ?it/s]"
      ]
     },
     "metadata": {},
     "output_type": "display_data"
    },
    {
     "name": "stderr",
     "output_type": "stream",
     "text": [
      "IOPub message rate exceeded.\n",
      "The notebook server will temporarily stop sending output\n",
      "to the client in order to avoid crashing it.\n",
      "To change this limit, set the config variable\n",
      "`--NotebookApp.iopub_msg_rate_limit`.\n",
      "\n",
      "Current values:\n",
      "NotebookApp.iopub_msg_rate_limit=1000.0 (msgs/sec)\n",
      "NotebookApp.rate_limit_window=3.0 (secs)\n",
      "\n",
      "IOPub message rate exceeded.\n",
      "The notebook server will temporarily stop sending output\n",
      "to the client in order to avoid crashing it.\n",
      "To change this limit, set the config variable\n",
      "`--NotebookApp.iopub_msg_rate_limit`.\n",
      "\n",
      "Current values:\n",
      "NotebookApp.iopub_msg_rate_limit=1000.0 (msgs/sec)\n",
      "NotebookApp.rate_limit_window=3.0 (secs)\n",
      "\n"
     ]
    },
    {
     "name": "stdout",
     "output_type": "stream",
     "text": [
      "Need to compile /om/user/eisenaj/ChaoticConsciousness/results/propofolPuffTone/VAR/VAR_MrJones-Anesthesia-20160301-01_window_1_stride_1_Feb-23-2022_1637/CPB\n"
     ]
    },
    {
     "data": {
      "application/vnd.jupyter.widget-view+json": {
       "model_id": "6c25bc18e3d44763b591edd51a0a8c80",
       "version_major": 2,
       "version_minor": 0
      },
      "text/plain": [
       "  0%|          | 0/9873 [00:00<?, ?it/s]"
      ]
     },
     "metadata": {},
     "output_type": "display_data"
    },
    {
     "name": "stderr",
     "output_type": "stream",
     "text": [
      "IOPub message rate exceeded.\n",
      "The notebook server will temporarily stop sending output\n",
      "to the client in order to avoid crashing it.\n",
      "To change this limit, set the config variable\n",
      "`--NotebookApp.iopub_msg_rate_limit`.\n",
      "\n",
      "Current values:\n",
      "NotebookApp.iopub_msg_rate_limit=1000.0 (msgs/sec)\n",
      "NotebookApp.rate_limit_window=3.0 (secs)\n",
      "\n"
     ]
    },
    {
     "name": "stdout",
     "output_type": "stream",
     "text": [
      "Need to compile /om/user/eisenaj/ChaoticConsciousness/results/propofolPuffTone/VAR/VAR_MrJones-Anesthesia-20160301-01_window_1.5_stride_1.5_Feb-23-2022_1817/vlPFC\n"
     ]
    },
    {
     "data": {
      "application/vnd.jupyter.widget-view+json": {
       "model_id": "8d293589f7ad4544b90a556447499aef",
       "version_major": 2,
       "version_minor": 0
      },
      "text/plain": [
       "  0%|          | 0/6582 [00:00<?, ?it/s]"
      ]
     },
     "metadata": {},
     "output_type": "display_data"
    },
    {
     "name": "stderr",
     "output_type": "stream",
     "text": [
      "IOPub message rate exceeded.\n",
      "The notebook server will temporarily stop sending output\n",
      "to the client in order to avoid crashing it.\n",
      "To change this limit, set the config variable\n",
      "`--NotebookApp.iopub_msg_rate_limit`.\n",
      "\n",
      "Current values:\n",
      "NotebookApp.iopub_msg_rate_limit=1000.0 (msgs/sec)\n",
      "NotebookApp.rate_limit_window=3.0 (secs)\n",
      "\n"
     ]
    },
    {
     "name": "stdout",
     "output_type": "stream",
     "text": [
      "Need to compile /om/user/eisenaj/ChaoticConsciousness/results/propofolPuffTone/VAR/VAR_MrJones-Anesthesia-20160301-01_window_2_stride_2_Feb-23-2022_1845/all\n"
     ]
    },
    {
     "data": {
      "application/vnd.jupyter.widget-view+json": {
       "model_id": "dc04a66b0773479883194222cc8a2ad3",
       "version_major": 2,
       "version_minor": 0
      },
      "text/plain": [
       "  0%|          | 0/4936 [00:00<?, ?it/s]"
      ]
     },
     "metadata": {},
     "output_type": "display_data"
    },
    {
     "name": "stdout",
     "output_type": "stream",
     "text": [
      "Need to compile /om/user/eisenaj/ChaoticConsciousness/results/propofolPuffTone/VAR/VAR_MrJones-Anesthesia-20160301-01_window_2_stride_2_Feb-23-2022_1845/vlPFC\n"
     ]
    },
    {
     "data": {
      "application/vnd.jupyter.widget-view+json": {
       "model_id": "6d9d74804ef94b4a9a56e1c92ba12c08",
       "version_major": 2,
       "version_minor": 0
      },
      "text/plain": [
       "  0%|          | 0/4936 [00:00<?, ?it/s]"
      ]
     },
     "metadata": {},
     "output_type": "display_data"
    },
    {
     "name": "stdout",
     "output_type": "stream",
     "text": [
      "Need to compile /om/user/eisenaj/ChaoticConsciousness/results/propofolPuffTone/VAR/VAR_MrJones-Anesthesia-20160301-01_window_2_stride_2_Feb-23-2022_1845/CPB\n"
     ]
    },
    {
     "data": {
      "application/vnd.jupyter.widget-view+json": {
       "model_id": "5d0744dcc7464cdd93359f214a3b25bf",
       "version_major": 2,
       "version_minor": 0
      },
      "text/plain": [
       "  0%|          | 0/4936 [00:00<?, ?it/s]"
      ]
     },
     "metadata": {},
     "output_type": "display_data"
    },
    {
     "data": {
      "application/vnd.jupyter.widget-view+json": {
       "model_id": "5116425423084d01b1952351580984f0",
       "version_major": 2,
       "version_minor": 0
      },
      "text/plain": [
       "  0%|          | 0/4936 [00:00<?, ?it/s]"
      ]
     },
     "metadata": {},
     "output_type": "display_data"
    },
    {
     "data": {
      "application/vnd.jupyter.widget-view+json": {
       "model_id": "a8e82974d21f402e8490f92530ae9932",
       "version_major": 2,
       "version_minor": 0
      },
      "text/plain": [
       "  0%|          | 0/4936 [00:00<?, ?it/s]"
      ]
     },
     "metadata": {},
     "output_type": "display_data"
    },
    {
     "data": {
      "application/vnd.jupyter.widget-view+json": {
       "model_id": "77cd4839ed2a482bab2809a5cae98396",
       "version_major": 2,
       "version_minor": 0
      },
      "text/plain": [
       "  0%|          | 0/4936 [00:00<?, ?it/s]"
      ]
     },
     "metadata": {},
     "output_type": "display_data"
    },
    {
     "data": {
      "application/vnd.jupyter.widget-view+json": {
       "model_id": "0e7d59d88778464f91a0e32acc7baa41",
       "version_major": 2,
       "version_minor": 0
      },
      "text/plain": [
       "  0%|          | 0/4936 [00:00<?, ?it/s]"
      ]
     },
     "metadata": {},
     "output_type": "display_data"
    },
    {
     "data": {
      "application/vnd.jupyter.widget-view+json": {
       "model_id": "59d31d8ec379457d961ce8f15e772434",
       "version_major": 2,
       "version_minor": 0
      },
      "text/plain": [
       "  0%|          | 0/4936 [00:00<?, ?it/s]"
      ]
     },
     "metadata": {},
     "output_type": "display_data"
    },
    {
     "name": "stdout",
     "output_type": "stream",
     "text": [
      "Now computing window = 2.5\n"
     ]
    },
    {
     "data": {
      "application/vnd.jupyter.widget-view+json": {
       "model_id": "00333063d76941c1afc51ecffa58de25",
       "version_major": 2,
       "version_minor": 0
      },
      "text/plain": [
       "  0%|          | 0/5 [00:00<?, ?it/s]"
      ]
     },
     "metadata": {},
     "output_type": "display_data"
    },
    {
     "data": {
      "application/vnd.jupyter.widget-view+json": {
       "model_id": "d1cf3a9d77c249c3831b7f1b3a51971c",
       "version_major": 2,
       "version_minor": 0
      },
      "text/plain": [
       "  0%|          | 0/3949 [00:00<?, ?it/s]"
      ]
     },
     "metadata": {},
     "output_type": "display_data"
    },
    {
     "data": {
      "application/vnd.jupyter.widget-view+json": {
       "model_id": "51d3de4592b84035a7d46f43885942f2",
       "version_major": 2,
       "version_minor": 0
      },
      "text/plain": [
       "  0%|          | 0/3949 [00:00<?, ?it/s]"
      ]
     },
     "metadata": {},
     "output_type": "display_data"
    },
    {
     "data": {
      "application/vnd.jupyter.widget-view+json": {
       "model_id": "559af2bb700646d8a0c9149c608ebdff",
       "version_major": 2,
       "version_minor": 0
      },
      "text/plain": [
       "  0%|          | 0/3949 [00:00<?, ?it/s]"
      ]
     },
     "metadata": {},
     "output_type": "display_data"
    },
    {
     "data": {
      "application/vnd.jupyter.widget-view+json": {
       "model_id": "4a1b0c05655c4b808f05185ef033de06",
       "version_major": 2,
       "version_minor": 0
      },
      "text/plain": [
       "  0%|          | 0/3949 [00:00<?, ?it/s]"
      ]
     },
     "metadata": {},
     "output_type": "display_data"
    },
    {
     "data": {
      "application/vnd.jupyter.widget-view+json": {
       "model_id": "cef889372ecd4696b077e9031eff47bb",
       "version_major": 2,
       "version_minor": 0
      },
      "text/plain": [
       "  0%|          | 0/3949 [00:00<?, ?it/s]"
      ]
     },
     "metadata": {},
     "output_type": "display_data"
    },
    {
     "name": "stdout",
     "output_type": "stream",
     "text": [
      "Now computing window = 3\n"
     ]
    },
    {
     "data": {
      "application/vnd.jupyter.widget-view+json": {
       "model_id": "529b2c9da6534ba9941c5446bcd6f951",
       "version_major": 2,
       "version_minor": 0
      },
      "text/plain": [
       "  0%|          | 0/5 [00:00<?, ?it/s]"
      ]
     },
     "metadata": {},
     "output_type": "display_data"
    },
    {
     "name": "stdout",
     "output_type": "stream",
     "text": [
      "Need to compile /om/user/eisenaj/ChaoticConsciousness/results/propofolPuffTone/VAR/VAR_MrJones-Anesthesia-20160301-01_window_3_stride_3_Feb-23-2022_1922/FEF\n"
     ]
    },
    {
     "data": {
      "application/vnd.jupyter.widget-view+json": {
       "model_id": "ff742e0576cc41af9195b266111f079f",
       "version_major": 2,
       "version_minor": 0
      },
      "text/plain": [
       "  0%|          | 0/3291 [00:00<?, ?it/s]"
      ]
     },
     "metadata": {},
     "output_type": "display_data"
    },
    {
     "name": "stdout",
     "output_type": "stream",
     "text": [
      "Need to compile /om/user/eisenaj/ChaoticConsciousness/results/propofolPuffTone/VAR/VAR_MrJones-Anesthesia-20160301-01_window_3_stride_3_Feb-23-2022_1922/7b\n"
     ]
    },
    {
     "data": {
      "application/vnd.jupyter.widget-view+json": {
       "model_id": "3a3405e585c9494c95cf8697a6beb763",
       "version_major": 2,
       "version_minor": 0
      },
      "text/plain": [
       "  0%|          | 0/3291 [00:00<?, ?it/s]"
      ]
     },
     "metadata": {},
     "output_type": "display_data"
    },
    {
     "name": "stdout",
     "output_type": "stream",
     "text": [
      "Need to compile /om/user/eisenaj/ChaoticConsciousness/results/propofolPuffTone/VAR/VAR_MrJones-Anesthesia-20160301-01_window_3_stride_3_Feb-23-2022_1922/all\n"
     ]
    },
    {
     "data": {
      "application/vnd.jupyter.widget-view+json": {
       "model_id": "5e558e4ac4094077b13822a5308d069e",
       "version_major": 2,
       "version_minor": 0
      },
      "text/plain": [
       "  0%|          | 0/3291 [00:00<?, ?it/s]"
      ]
     },
     "metadata": {},
     "output_type": "display_data"
    },
    {
     "name": "stdout",
     "output_type": "stream",
     "text": [
      "Need to compile /om/user/eisenaj/ChaoticConsciousness/results/propofolPuffTone/VAR/VAR_MrJones-Anesthesia-20160301-01_window_3_stride_3_Feb-23-2022_1922/vlPFC\n"
     ]
    },
    {
     "data": {
      "application/vnd.jupyter.widget-view+json": {
       "model_id": "4090b3e4f3844df3a5392bf3a47eb05f",
       "version_major": 2,
       "version_minor": 0
      },
      "text/plain": [
       "  0%|          | 0/3291 [00:00<?, ?it/s]"
      ]
     },
     "metadata": {},
     "output_type": "display_data"
    },
    {
     "name": "stdout",
     "output_type": "stream",
     "text": [
      "Need to compile /om/user/eisenaj/ChaoticConsciousness/results/propofolPuffTone/VAR/VAR_MrJones-Anesthesia-20160301-01_window_3_stride_3_Feb-23-2022_1922/CPB\n"
     ]
    },
    {
     "data": {
      "application/vnd.jupyter.widget-view+json": {
       "model_id": "c988c87817f9490dbf40c6bf68993cb4",
       "version_major": 2,
       "version_minor": 0
      },
      "text/plain": [
       "  0%|          | 0/3291 [00:00<?, ?it/s]"
      ]
     },
     "metadata": {},
     "output_type": "display_data"
    },
    {
     "data": {
      "application/vnd.jupyter.widget-view+json": {
       "model_id": "c5eecdf671ff4ba68df342a9344357d6",
       "version_major": 2,
       "version_minor": 0
      },
      "text/plain": [
       "  0%|          | 0/3291 [00:00<?, ?it/s]"
      ]
     },
     "metadata": {},
     "output_type": "display_data"
    },
    {
     "data": {
      "application/vnd.jupyter.widget-view+json": {
       "model_id": "ff3426a60fe14024be37dabd6bd46a3f",
       "version_major": 2,
       "version_minor": 0
      },
      "text/plain": [
       "  0%|          | 0/3291 [00:00<?, ?it/s]"
      ]
     },
     "metadata": {},
     "output_type": "display_data"
    },
    {
     "data": {
      "application/vnd.jupyter.widget-view+json": {
       "model_id": "37aa3cfd9e294d67973151569acc6525",
       "version_major": 2,
       "version_minor": 0
      },
      "text/plain": [
       "  0%|          | 0/3291 [00:00<?, ?it/s]"
      ]
     },
     "metadata": {},
     "output_type": "display_data"
    },
    {
     "data": {
      "application/vnd.jupyter.widget-view+json": {
       "model_id": "47da7fde3e1143389054435c8aff1779",
       "version_major": 2,
       "version_minor": 0
      },
      "text/plain": [
       "  0%|          | 0/3291 [00:00<?, ?it/s]"
      ]
     },
     "metadata": {},
     "output_type": "display_data"
    },
    {
     "data": {
      "application/vnd.jupyter.widget-view+json": {
       "model_id": "68e46b99d01b45eb8b7cc3be723d33c5",
       "version_major": 2,
       "version_minor": 0
      },
      "text/plain": [
       "  0%|          | 0/3291 [00:00<?, ?it/s]"
      ]
     },
     "metadata": {},
     "output_type": "display_data"
    },
    {
     "name": "stdout",
     "output_type": "stream",
     "text": [
      "Now computing window = 3.5\n"
     ]
    },
    {
     "data": {
      "application/vnd.jupyter.widget-view+json": {
       "model_id": "d78e8fd6327840aa8dbc8fda88058cab",
       "version_major": 2,
       "version_minor": 0
      },
      "text/plain": [
       "  0%|          | 0/5 [00:00<?, ?it/s]"
      ]
     },
     "metadata": {},
     "output_type": "display_data"
    },
    {
     "name": "stdout",
     "output_type": "stream",
     "text": [
      "Need to compile /om/user/eisenaj/ChaoticConsciousness/results/propofolPuffTone/VAR/VAR_MrJones-Anesthesia-20160301-01_window_3.5_stride_3.5_Feb-23-2022_1931/FEF\n"
     ]
    },
    {
     "data": {
      "application/vnd.jupyter.widget-view+json": {
       "model_id": "346c4c7023fe459cb406f87a9991a020",
       "version_major": 2,
       "version_minor": 0
      },
      "text/plain": [
       "  0%|          | 0/2821 [00:00<?, ?it/s]"
      ]
     },
     "metadata": {},
     "output_type": "display_data"
    },
    {
     "name": "stdout",
     "output_type": "stream",
     "text": [
      "Need to compile /om/user/eisenaj/ChaoticConsciousness/results/propofolPuffTone/VAR/VAR_MrJones-Anesthesia-20160301-01_window_3.5_stride_3.5_Feb-23-2022_1931/7b\n"
     ]
    },
    {
     "data": {
      "application/vnd.jupyter.widget-view+json": {
       "model_id": "aec764f4715f48aeabe3fdbe85f955e2",
       "version_major": 2,
       "version_minor": 0
      },
      "text/plain": [
       "  0%|          | 0/2821 [00:00<?, ?it/s]"
      ]
     },
     "metadata": {},
     "output_type": "display_data"
    },
    {
     "name": "stdout",
     "output_type": "stream",
     "text": [
      "Need to compile /om/user/eisenaj/ChaoticConsciousness/results/propofolPuffTone/VAR/VAR_MrJones-Anesthesia-20160301-01_window_3.5_stride_3.5_Feb-23-2022_1931/all\n"
     ]
    },
    {
     "data": {
      "application/vnd.jupyter.widget-view+json": {
       "model_id": "4a8d1354ee4946c7afaef4227fb6f8df",
       "version_major": 2,
       "version_minor": 0
      },
      "text/plain": [
       "  0%|          | 0/2821 [00:00<?, ?it/s]"
      ]
     },
     "metadata": {},
     "output_type": "display_data"
    },
    {
     "name": "stdout",
     "output_type": "stream",
     "text": [
      "Need to compile /om/user/eisenaj/ChaoticConsciousness/results/propofolPuffTone/VAR/VAR_MrJones-Anesthesia-20160301-01_window_3.5_stride_3.5_Feb-23-2022_1931/vlPFC\n"
     ]
    },
    {
     "data": {
      "application/vnd.jupyter.widget-view+json": {
       "model_id": "d0e6179ea48e4cdd83b6d7154bbd30c3",
       "version_major": 2,
       "version_minor": 0
      },
      "text/plain": [
       "  0%|          | 0/2821 [00:00<?, ?it/s]"
      ]
     },
     "metadata": {},
     "output_type": "display_data"
    },
    {
     "name": "stdout",
     "output_type": "stream",
     "text": [
      "Need to compile /om/user/eisenaj/ChaoticConsciousness/results/propofolPuffTone/VAR/VAR_MrJones-Anesthesia-20160301-01_window_3.5_stride_3.5_Feb-23-2022_1931/CPB\n"
     ]
    },
    {
     "data": {
      "application/vnd.jupyter.widget-view+json": {
       "model_id": "6a79a58a10864e37af0b01ad49da91e3",
       "version_major": 2,
       "version_minor": 0
      },
      "text/plain": [
       "  0%|          | 0/2821 [00:00<?, ?it/s]"
      ]
     },
     "metadata": {},
     "output_type": "display_data"
    },
    {
     "data": {
      "application/vnd.jupyter.widget-view+json": {
       "model_id": "c680f5ed3f654c4dab5715c5bb9e63f5",
       "version_major": 2,
       "version_minor": 0
      },
      "text/plain": [
       "  0%|          | 0/2821 [00:00<?, ?it/s]"
      ]
     },
     "metadata": {},
     "output_type": "display_data"
    },
    {
     "data": {
      "application/vnd.jupyter.widget-view+json": {
       "model_id": "227c9ea844ad40a88b7f4e887852c3d0",
       "version_major": 2,
       "version_minor": 0
      },
      "text/plain": [
       "  0%|          | 0/2821 [00:00<?, ?it/s]"
      ]
     },
     "metadata": {},
     "output_type": "display_data"
    },
    {
     "data": {
      "application/vnd.jupyter.widget-view+json": {
       "model_id": "0114cea7be41415cb3d77812ddc8fc7e",
       "version_major": 2,
       "version_minor": 0
      },
      "text/plain": [
       "  0%|          | 0/2821 [00:00<?, ?it/s]"
      ]
     },
     "metadata": {},
     "output_type": "display_data"
    },
    {
     "data": {
      "application/vnd.jupyter.widget-view+json": {
       "model_id": "dda1db3ca10943839911b3b91faa6607",
       "version_major": 2,
       "version_minor": 0
      },
      "text/plain": [
       "  0%|          | 0/2821 [00:00<?, ?it/s]"
      ]
     },
     "metadata": {},
     "output_type": "display_data"
    },
    {
     "data": {
      "application/vnd.jupyter.widget-view+json": {
       "model_id": "7691aa499ae543149911bec87f805407",
       "version_major": 2,
       "version_minor": 0
      },
      "text/plain": [
       "  0%|          | 0/2821 [00:00<?, ?it/s]"
      ]
     },
     "metadata": {},
     "output_type": "display_data"
    },
    {
     "name": "stdout",
     "output_type": "stream",
     "text": [
      "Now computing window = 4\n"
     ]
    },
    {
     "data": {
      "application/vnd.jupyter.widget-view+json": {
       "model_id": "90692e3bc88543f9a7e6f6f354ac301f",
       "version_major": 2,
       "version_minor": 0
      },
      "text/plain": [
       "  0%|          | 0/5 [00:00<?, ?it/s]"
      ]
     },
     "metadata": {},
     "output_type": "display_data"
    },
    {
     "name": "stdout",
     "output_type": "stream",
     "text": [
      "Need to compile /om/user/eisenaj/ChaoticConsciousness/results/propofolPuffTone/VAR/VAR_MrJones-Anesthesia-20160301-01_window_4_stride_4_Feb-23-2022_1948/FEF\n"
     ]
    },
    {
     "data": {
      "application/vnd.jupyter.widget-view+json": {
       "model_id": "08c71a4f5ea140edb2f4d4f979045934",
       "version_major": 2,
       "version_minor": 0
      },
      "text/plain": [
       "  0%|          | 0/2468 [00:00<?, ?it/s]"
      ]
     },
     "metadata": {},
     "output_type": "display_data"
    },
    {
     "name": "stdout",
     "output_type": "stream",
     "text": [
      "Need to compile /om/user/eisenaj/ChaoticConsciousness/results/propofolPuffTone/VAR/VAR_MrJones-Anesthesia-20160301-01_window_4_stride_4_Feb-23-2022_1948/7b\n"
     ]
    },
    {
     "data": {
      "application/vnd.jupyter.widget-view+json": {
       "model_id": "ff489620ff274d62b6c36a2de6c0a644",
       "version_major": 2,
       "version_minor": 0
      },
      "text/plain": [
       "  0%|          | 0/2468 [00:00<?, ?it/s]"
      ]
     },
     "metadata": {},
     "output_type": "display_data"
    },
    {
     "name": "stdout",
     "output_type": "stream",
     "text": [
      "Need to compile /om/user/eisenaj/ChaoticConsciousness/results/propofolPuffTone/VAR/VAR_MrJones-Anesthesia-20160301-01_window_4_stride_4_Feb-23-2022_1948/all\n"
     ]
    },
    {
     "data": {
      "application/vnd.jupyter.widget-view+json": {
       "model_id": "02cdeb263e734915acbffa0416fb9850",
       "version_major": 2,
       "version_minor": 0
      },
      "text/plain": [
       "  0%|          | 0/2468 [00:00<?, ?it/s]"
      ]
     },
     "metadata": {},
     "output_type": "display_data"
    },
    {
     "name": "stdout",
     "output_type": "stream",
     "text": [
      "Need to compile /om/user/eisenaj/ChaoticConsciousness/results/propofolPuffTone/VAR/VAR_MrJones-Anesthesia-20160301-01_window_4_stride_4_Feb-23-2022_1948/vlPFC\n"
     ]
    },
    {
     "data": {
      "application/vnd.jupyter.widget-view+json": {
       "model_id": "cae1cf60d0e549f88680d02f0bfb2f7f",
       "version_major": 2,
       "version_minor": 0
      },
      "text/plain": [
       "  0%|          | 0/2468 [00:00<?, ?it/s]"
      ]
     },
     "metadata": {},
     "output_type": "display_data"
    },
    {
     "name": "stdout",
     "output_type": "stream",
     "text": [
      "Need to compile /om/user/eisenaj/ChaoticConsciousness/results/propofolPuffTone/VAR/VAR_MrJones-Anesthesia-20160301-01_window_4_stride_4_Feb-23-2022_1948/CPB\n"
     ]
    },
    {
     "data": {
      "application/vnd.jupyter.widget-view+json": {
       "model_id": "65601bd7ef704e82b08cc11adc279187",
       "version_major": 2,
       "version_minor": 0
      },
      "text/plain": [
       "  0%|          | 0/2468 [00:00<?, ?it/s]"
      ]
     },
     "metadata": {},
     "output_type": "display_data"
    },
    {
     "data": {
      "application/vnd.jupyter.widget-view+json": {
       "model_id": "135ba9c7fa984742b29922ecbf668e58",
       "version_major": 2,
       "version_minor": 0
      },
      "text/plain": [
       "  0%|          | 0/2468 [00:00<?, ?it/s]"
      ]
     },
     "metadata": {},
     "output_type": "display_data"
    },
    {
     "data": {
      "application/vnd.jupyter.widget-view+json": {
       "model_id": "4b32d5757e68463c89f159477fb63774",
       "version_major": 2,
       "version_minor": 0
      },
      "text/plain": [
       "  0%|          | 0/2468 [00:00<?, ?it/s]"
      ]
     },
     "metadata": {},
     "output_type": "display_data"
    },
    {
     "data": {
      "application/vnd.jupyter.widget-view+json": {
       "model_id": "062e93424325455998a289f9fb7d2d49",
       "version_major": 2,
       "version_minor": 0
      },
      "text/plain": [
       "  0%|          | 0/2468 [00:00<?, ?it/s]"
      ]
     },
     "metadata": {},
     "output_type": "display_data"
    },
    {
     "data": {
      "application/vnd.jupyter.widget-view+json": {
       "model_id": "224ea9c9b4b3467d82fb3be4ae0a9d8a",
       "version_major": 2,
       "version_minor": 0
      },
      "text/plain": [
       "  0%|          | 0/2468 [00:00<?, ?it/s]"
      ]
     },
     "metadata": {},
     "output_type": "display_data"
    },
    {
     "data": {
      "application/vnd.jupyter.widget-view+json": {
       "model_id": "890eb1b44ffd4cd39a28a29e89a1fcdb",
       "version_major": 2,
       "version_minor": 0
      },
      "text/plain": [
       "  0%|          | 0/2468 [00:00<?, ?it/s]"
      ]
     },
     "metadata": {},
     "output_type": "display_data"
    },
    {
     "name": "stdout",
     "output_type": "stream",
     "text": [
      "Now computing window = 4.5\n"
     ]
    },
    {
     "data": {
      "application/vnd.jupyter.widget-view+json": {
       "model_id": "94547acc16574ae5af8bf67ed4427167",
       "version_major": 2,
       "version_minor": 0
      },
      "text/plain": [
       "  0%|          | 0/5 [00:00<?, ?it/s]"
      ]
     },
     "metadata": {},
     "output_type": "display_data"
    },
    {
     "name": "stdout",
     "output_type": "stream",
     "text": [
      "Need to compile /om/user/eisenaj/ChaoticConsciousness/results/propofolPuffTone/VAR/VAR_MrJones-Anesthesia-20160301-01_window_4.5_stride_4.5_Feb-23-2022_2009/FEF\n"
     ]
    },
    {
     "data": {
      "application/vnd.jupyter.widget-view+json": {
       "model_id": "3d99d08c2d8d4fb1b184ec9a66d10be9",
       "version_major": 2,
       "version_minor": 0
      },
      "text/plain": [
       "  0%|          | 0/2194 [00:00<?, ?it/s]"
      ]
     },
     "metadata": {},
     "output_type": "display_data"
    },
    {
     "name": "stdout",
     "output_type": "stream",
     "text": [
      "Need to compile /om/user/eisenaj/ChaoticConsciousness/results/propofolPuffTone/VAR/VAR_MrJones-Anesthesia-20160301-01_window_4.5_stride_4.5_Feb-23-2022_2009/7b\n"
     ]
    },
    {
     "data": {
      "application/vnd.jupyter.widget-view+json": {
       "model_id": "ea3bfb4738684e938ffe10070a3a6cde",
       "version_major": 2,
       "version_minor": 0
      },
      "text/plain": [
       "  0%|          | 0/2194 [00:00<?, ?it/s]"
      ]
     },
     "metadata": {},
     "output_type": "display_data"
    },
    {
     "name": "stdout",
     "output_type": "stream",
     "text": [
      "Need to compile /om/user/eisenaj/ChaoticConsciousness/results/propofolPuffTone/VAR/VAR_MrJones-Anesthesia-20160301-01_window_4.5_stride_4.5_Feb-23-2022_2009/all\n"
     ]
    },
    {
     "data": {
      "application/vnd.jupyter.widget-view+json": {
       "model_id": "1dd86562f2e94e6ba6b6f2fd8035cc40",
       "version_major": 2,
       "version_minor": 0
      },
      "text/plain": [
       "  0%|          | 0/2194 [00:00<?, ?it/s]"
      ]
     },
     "metadata": {},
     "output_type": "display_data"
    },
    {
     "name": "stdout",
     "output_type": "stream",
     "text": [
      "Need to compile /om/user/eisenaj/ChaoticConsciousness/results/propofolPuffTone/VAR/VAR_MrJones-Anesthesia-20160301-01_window_4.5_stride_4.5_Feb-23-2022_2009/vlPFC\n"
     ]
    },
    {
     "data": {
      "application/vnd.jupyter.widget-view+json": {
       "model_id": "c9cdf5ba516645e3b67f85ae323e802e",
       "version_major": 2,
       "version_minor": 0
      },
      "text/plain": [
       "  0%|          | 0/2194 [00:00<?, ?it/s]"
      ]
     },
     "metadata": {},
     "output_type": "display_data"
    },
    {
     "name": "stdout",
     "output_type": "stream",
     "text": [
      "Need to compile /om/user/eisenaj/ChaoticConsciousness/results/propofolPuffTone/VAR/VAR_MrJones-Anesthesia-20160301-01_window_4.5_stride_4.5_Feb-23-2022_2009/CPB\n"
     ]
    },
    {
     "data": {
      "application/vnd.jupyter.widget-view+json": {
       "model_id": "4f31457dbad744b3bd90ca380091e695",
       "version_major": 2,
       "version_minor": 0
      },
      "text/plain": [
       "  0%|          | 0/2194 [00:00<?, ?it/s]"
      ]
     },
     "metadata": {},
     "output_type": "display_data"
    },
    {
     "data": {
      "application/vnd.jupyter.widget-view+json": {
       "model_id": "2458649ff77e4614a5b3717aec76ab06",
       "version_major": 2,
       "version_minor": 0
      },
      "text/plain": [
       "  0%|          | 0/2194 [00:00<?, ?it/s]"
      ]
     },
     "metadata": {},
     "output_type": "display_data"
    },
    {
     "data": {
      "application/vnd.jupyter.widget-view+json": {
       "model_id": "cc7db3c1e69e4096ad43b198eaf281e8",
       "version_major": 2,
       "version_minor": 0
      },
      "text/plain": [
       "  0%|          | 0/2194 [00:00<?, ?it/s]"
      ]
     },
     "metadata": {},
     "output_type": "display_data"
    },
    {
     "data": {
      "application/vnd.jupyter.widget-view+json": {
       "model_id": "605d902012d546f0bbcb6bf957b0adbb",
       "version_major": 2,
       "version_minor": 0
      },
      "text/plain": [
       "  0%|          | 0/2194 [00:00<?, ?it/s]"
      ]
     },
     "metadata": {},
     "output_type": "display_data"
    },
    {
     "data": {
      "application/vnd.jupyter.widget-view+json": {
       "model_id": "c829a88c4a53479c90cc6fa7dc587a57",
       "version_major": 2,
       "version_minor": 0
      },
      "text/plain": [
       "  0%|          | 0/2194 [00:00<?, ?it/s]"
      ]
     },
     "metadata": {},
     "output_type": "display_data"
    },
    {
     "data": {
      "application/vnd.jupyter.widget-view+json": {
       "model_id": "c19edd29f15a4c279199c545fcb01b60",
       "version_major": 2,
       "version_minor": 0
      },
      "text/plain": [
       "  0%|          | 0/2194 [00:00<?, ?it/s]"
      ]
     },
     "metadata": {},
     "output_type": "display_data"
    },
    {
     "name": "stdout",
     "output_type": "stream",
     "text": [
      "Now computing window = 5\n"
     ]
    },
    {
     "data": {
      "application/vnd.jupyter.widget-view+json": {
       "model_id": "ea6c81887e4e412ba3a79ab33f3a7d84",
       "version_major": 2,
       "version_minor": 0
      },
      "text/plain": [
       "  0%|          | 0/5 [00:00<?, ?it/s]"
      ]
     },
     "metadata": {},
     "output_type": "display_data"
    },
    {
     "name": "stdout",
     "output_type": "stream",
     "text": [
      "Need to compile /om/user/eisenaj/ChaoticConsciousness/results/propofolPuffTone/VAR/VAR_MrJones-Anesthesia-20160301-01_window_5_stride_5_Feb-09-2022_1640/FEF\n"
     ]
    },
    {
     "data": {
      "application/vnd.jupyter.widget-view+json": {
       "model_id": "837492635c8245118e5f6cccff49587c",
       "version_major": 2,
       "version_minor": 0
      },
      "text/plain": [
       "  0%|          | 0/1974 [00:00<?, ?it/s]"
      ]
     },
     "metadata": {},
     "output_type": "display_data"
    },
    {
     "name": "stdout",
     "output_type": "stream",
     "text": [
      "Need to compile /om/user/eisenaj/ChaoticConsciousness/results/propofolPuffTone/VAR/VAR_MrJones-Anesthesia-20160301-01_window_5_stride_5_Feb-09-2022_1640/7b\n"
     ]
    },
    {
     "data": {
      "application/vnd.jupyter.widget-view+json": {
       "model_id": "dacf16293059455c967e457ffce02734",
       "version_major": 2,
       "version_minor": 0
      },
      "text/plain": [
       "  0%|          | 0/1974 [00:00<?, ?it/s]"
      ]
     },
     "metadata": {},
     "output_type": "display_data"
    },
    {
     "name": "stdout",
     "output_type": "stream",
     "text": [
      "Need to compile /om/user/eisenaj/ChaoticConsciousness/results/propofolPuffTone/VAR/VAR_MrJones-Anesthesia-20160301-01_window_5_stride_5_Feb-09-2022_1640/all\n"
     ]
    },
    {
     "data": {
      "application/vnd.jupyter.widget-view+json": {
       "model_id": "4608ec21161f4dce877f98bbe15b4051",
       "version_major": 2,
       "version_minor": 0
      },
      "text/plain": [
       "  0%|          | 0/1974 [00:00<?, ?it/s]"
      ]
     },
     "metadata": {},
     "output_type": "display_data"
    },
    {
     "name": "stdout",
     "output_type": "stream",
     "text": [
      "Need to compile /om/user/eisenaj/ChaoticConsciousness/results/propofolPuffTone/VAR/VAR_MrJones-Anesthesia-20160301-01_window_5_stride_5_Feb-09-2022_1640/vlPFC\n"
     ]
    },
    {
     "data": {
      "application/vnd.jupyter.widget-view+json": {
       "model_id": "cb2493a6a9b442f38eefbb46463e66a4",
       "version_major": 2,
       "version_minor": 0
      },
      "text/plain": [
       "  0%|          | 0/1974 [00:00<?, ?it/s]"
      ]
     },
     "metadata": {},
     "output_type": "display_data"
    },
    {
     "name": "stdout",
     "output_type": "stream",
     "text": [
      "Need to compile /om/user/eisenaj/ChaoticConsciousness/results/propofolPuffTone/VAR/VAR_MrJones-Anesthesia-20160301-01_window_5_stride_5_Feb-09-2022_1640/CPB\n"
     ]
    },
    {
     "data": {
      "application/vnd.jupyter.widget-view+json": {
       "model_id": "49cfc9c973da4385936160a06f0feabe",
       "version_major": 2,
       "version_minor": 0
      },
      "text/plain": [
       "  0%|          | 0/1974 [00:00<?, ?it/s]"
      ]
     },
     "metadata": {},
     "output_type": "display_data"
    },
    {
     "data": {
      "application/vnd.jupyter.widget-view+json": {
       "model_id": "ae1abca180984f08bc8ca8aac8170291",
       "version_major": 2,
       "version_minor": 0
      },
      "text/plain": [
       "  0%|          | 0/1974 [00:00<?, ?it/s]"
      ]
     },
     "metadata": {},
     "output_type": "display_data"
    },
    {
     "data": {
      "application/vnd.jupyter.widget-view+json": {
       "model_id": "5f70e4f4ecaf4ba0a05d2daa5b23e72e",
       "version_major": 2,
       "version_minor": 0
      },
      "text/plain": [
       "  0%|          | 0/1974 [00:00<?, ?it/s]"
      ]
     },
     "metadata": {},
     "output_type": "display_data"
    },
    {
     "data": {
      "application/vnd.jupyter.widget-view+json": {
       "model_id": "7037f529022e43819bfd65fd6450e8b2",
       "version_major": 2,
       "version_minor": 0
      },
      "text/plain": [
       "  0%|          | 0/1974 [00:00<?, ?it/s]"
      ]
     },
     "metadata": {},
     "output_type": "display_data"
    },
    {
     "data": {
      "application/vnd.jupyter.widget-view+json": {
       "model_id": "d28c10c4f1784166b404865958878bb8",
       "version_major": 2,
       "version_minor": 0
      },
      "text/plain": [
       "  0%|          | 0/1974 [00:00<?, ?it/s]"
      ]
     },
     "metadata": {},
     "output_type": "display_data"
    },
    {
     "data": {
      "application/vnd.jupyter.widget-view+json": {
       "model_id": "9f4e716752144c5e830469f8649678c3",
       "version_major": 2,
       "version_minor": 0
      },
      "text/plain": [
       "  0%|          | 0/1974 [00:00<?, ?it/s]"
      ]
     },
     "metadata": {},
     "output_type": "display_data"
    },
    {
     "name": "stdout",
     "output_type": "stream",
     "text": [
      "Now computing window = 5.5\n"
     ]
    },
    {
     "data": {
      "application/vnd.jupyter.widget-view+json": {
       "model_id": "e58e7be964f247feb418633d192baf62",
       "version_major": 2,
       "version_minor": 0
      },
      "text/plain": [
       "  0%|          | 0/5 [00:00<?, ?it/s]"
      ]
     },
     "metadata": {},
     "output_type": "display_data"
    },
    {
     "name": "stdout",
     "output_type": "stream",
     "text": [
      "Need to compile /om/user/eisenaj/ChaoticConsciousness/results/propofolPuffTone/VAR/VAR_MrJones-Anesthesia-20160301-01_window_5.5_stride_5.5_Feb-23-2022_2009/FEF\n"
     ]
    },
    {
     "data": {
      "application/vnd.jupyter.widget-view+json": {
       "model_id": "00cd457727b54dfa99c8a5f2c03eb99a",
       "version_major": 2,
       "version_minor": 0
      },
      "text/plain": [
       "  0%|          | 0/1795 [00:00<?, ?it/s]"
      ]
     },
     "metadata": {},
     "output_type": "display_data"
    },
    {
     "name": "stdout",
     "output_type": "stream",
     "text": [
      "Need to compile /om/user/eisenaj/ChaoticConsciousness/results/propofolPuffTone/VAR/VAR_MrJones-Anesthesia-20160301-01_window_5.5_stride_5.5_Feb-23-2022_2009/7b\n"
     ]
    },
    {
     "data": {
      "application/vnd.jupyter.widget-view+json": {
       "model_id": "7588a004c64943c784a1600f6bad4d47",
       "version_major": 2,
       "version_minor": 0
      },
      "text/plain": [
       "  0%|          | 0/1795 [00:00<?, ?it/s]"
      ]
     },
     "metadata": {},
     "output_type": "display_data"
    },
    {
     "name": "stdout",
     "output_type": "stream",
     "text": [
      "Need to compile /om/user/eisenaj/ChaoticConsciousness/results/propofolPuffTone/VAR/VAR_MrJones-Anesthesia-20160301-01_window_5.5_stride_5.5_Feb-23-2022_2009/all\n"
     ]
    },
    {
     "data": {
      "application/vnd.jupyter.widget-view+json": {
       "model_id": "bbf4a5fc69ff42479c6154e1085afcee",
       "version_major": 2,
       "version_minor": 0
      },
      "text/plain": [
       "  0%|          | 0/1795 [00:00<?, ?it/s]"
      ]
     },
     "metadata": {},
     "output_type": "display_data"
    },
    {
     "name": "stdout",
     "output_type": "stream",
     "text": [
      "Need to compile /om/user/eisenaj/ChaoticConsciousness/results/propofolPuffTone/VAR/VAR_MrJones-Anesthesia-20160301-01_window_5.5_stride_5.5_Feb-23-2022_2009/vlPFC\n"
     ]
    },
    {
     "data": {
      "application/vnd.jupyter.widget-view+json": {
       "model_id": "58fa9324456f4b6981300889ba4d1c9e",
       "version_major": 2,
       "version_minor": 0
      },
      "text/plain": [
       "  0%|          | 0/1795 [00:00<?, ?it/s]"
      ]
     },
     "metadata": {},
     "output_type": "display_data"
    },
    {
     "name": "stdout",
     "output_type": "stream",
     "text": [
      "Need to compile /om/user/eisenaj/ChaoticConsciousness/results/propofolPuffTone/VAR/VAR_MrJones-Anesthesia-20160301-01_window_5.5_stride_5.5_Feb-23-2022_2009/CPB\n"
     ]
    },
    {
     "data": {
      "application/vnd.jupyter.widget-view+json": {
       "model_id": "674acb69945642318855adcc33691775",
       "version_major": 2,
       "version_minor": 0
      },
      "text/plain": [
       "  0%|          | 0/1795 [00:00<?, ?it/s]"
      ]
     },
     "metadata": {},
     "output_type": "display_data"
    },
    {
     "data": {
      "application/vnd.jupyter.widget-view+json": {
       "model_id": "e7a95a595a4247fd8e553313dce8429f",
       "version_major": 2,
       "version_minor": 0
      },
      "text/plain": [
       "  0%|          | 0/1795 [00:00<?, ?it/s]"
      ]
     },
     "metadata": {},
     "output_type": "display_data"
    },
    {
     "data": {
      "application/vnd.jupyter.widget-view+json": {
       "model_id": "de26f18de15248a18978c538151c9eab",
       "version_major": 2,
       "version_minor": 0
      },
      "text/plain": [
       "  0%|          | 0/1795 [00:00<?, ?it/s]"
      ]
     },
     "metadata": {},
     "output_type": "display_data"
    },
    {
     "data": {
      "application/vnd.jupyter.widget-view+json": {
       "model_id": "df2d8018ac7a4c12a1da216ecf803214",
       "version_major": 2,
       "version_minor": 0
      },
      "text/plain": [
       "  0%|          | 0/1795 [00:00<?, ?it/s]"
      ]
     },
     "metadata": {},
     "output_type": "display_data"
    },
    {
     "data": {
      "application/vnd.jupyter.widget-view+json": {
       "model_id": "10df5e4084474725a3039b8734ddde0d",
       "version_major": 2,
       "version_minor": 0
      },
      "text/plain": [
       "  0%|          | 0/1795 [00:00<?, ?it/s]"
      ]
     },
     "metadata": {},
     "output_type": "display_data"
    },
    {
     "data": {
      "application/vnd.jupyter.widget-view+json": {
       "model_id": "bad076de9fda4c83a28067f1d57a8ce8",
       "version_major": 2,
       "version_minor": 0
      },
      "text/plain": [
       "  0%|          | 0/1795 [00:00<?, ?it/s]"
      ]
     },
     "metadata": {},
     "output_type": "display_data"
    },
    {
     "name": "stdout",
     "output_type": "stream",
     "text": [
      "Now computing window = 6\n"
     ]
    },
    {
     "data": {
      "application/vnd.jupyter.widget-view+json": {
       "model_id": "e5a8dc3169414a5dbea52eb893b2e1cc",
       "version_major": 2,
       "version_minor": 0
      },
      "text/plain": [
       "  0%|          | 0/5 [00:00<?, ?it/s]"
      ]
     },
     "metadata": {},
     "output_type": "display_data"
    },
    {
     "name": "stdout",
     "output_type": "stream",
     "text": [
      "Need to compile /om/user/eisenaj/ChaoticConsciousness/results/propofolPuffTone/VAR/VAR_MrJones-Anesthesia-20160301-01_window_6_stride_6_Feb-23-2022_2027/FEF\n"
     ]
    },
    {
     "data": {
      "application/vnd.jupyter.widget-view+json": {
       "model_id": "15865e391ff74ea5be5133b94dfddb4e",
       "version_major": 2,
       "version_minor": 0
      },
      "text/plain": [
       "  0%|          | 0/1645 [00:00<?, ?it/s]"
      ]
     },
     "metadata": {},
     "output_type": "display_data"
    },
    {
     "name": "stdout",
     "output_type": "stream",
     "text": [
      "Need to compile /om/user/eisenaj/ChaoticConsciousness/results/propofolPuffTone/VAR/VAR_MrJones-Anesthesia-20160301-01_window_6_stride_6_Feb-23-2022_2027/7b\n"
     ]
    },
    {
     "data": {
      "application/vnd.jupyter.widget-view+json": {
       "model_id": "bfdbf4bd642d4ca2a5d6dced9829c21a",
       "version_major": 2,
       "version_minor": 0
      },
      "text/plain": [
       "  0%|          | 0/1645 [00:00<?, ?it/s]"
      ]
     },
     "metadata": {},
     "output_type": "display_data"
    },
    {
     "name": "stdout",
     "output_type": "stream",
     "text": [
      "Need to compile /om/user/eisenaj/ChaoticConsciousness/results/propofolPuffTone/VAR/VAR_MrJones-Anesthesia-20160301-01_window_6_stride_6_Feb-23-2022_2027/all\n"
     ]
    },
    {
     "data": {
      "application/vnd.jupyter.widget-view+json": {
       "model_id": "5654d0e82fdf44bd8bc109d706c7028d",
       "version_major": 2,
       "version_minor": 0
      },
      "text/plain": [
       "  0%|          | 0/1645 [00:00<?, ?it/s]"
      ]
     },
     "metadata": {},
     "output_type": "display_data"
    },
    {
     "name": "stdout",
     "output_type": "stream",
     "text": [
      "Need to compile /om/user/eisenaj/ChaoticConsciousness/results/propofolPuffTone/VAR/VAR_MrJones-Anesthesia-20160301-01_window_6_stride_6_Feb-23-2022_2027/vlPFC\n"
     ]
    },
    {
     "data": {
      "application/vnd.jupyter.widget-view+json": {
       "model_id": "e4f1f0a03ada4e1b97ad7978f669a7d1",
       "version_major": 2,
       "version_minor": 0
      },
      "text/plain": [
       "  0%|          | 0/1645 [00:00<?, ?it/s]"
      ]
     },
     "metadata": {},
     "output_type": "display_data"
    },
    {
     "name": "stdout",
     "output_type": "stream",
     "text": [
      "Need to compile /om/user/eisenaj/ChaoticConsciousness/results/propofolPuffTone/VAR/VAR_MrJones-Anesthesia-20160301-01_window_6_stride_6_Feb-23-2022_2027/CPB\n"
     ]
    },
    {
     "data": {
      "application/vnd.jupyter.widget-view+json": {
       "model_id": "5b2e6720ceef40d991db094e5f9fdcf7",
       "version_major": 2,
       "version_minor": 0
      },
      "text/plain": [
       "  0%|          | 0/1645 [00:00<?, ?it/s]"
      ]
     },
     "metadata": {},
     "output_type": "display_data"
    },
    {
     "data": {
      "application/vnd.jupyter.widget-view+json": {
       "model_id": "d53eade643ab401c8d3d87bb548bafe9",
       "version_major": 2,
       "version_minor": 0
      },
      "text/plain": [
       "  0%|          | 0/1645 [00:00<?, ?it/s]"
      ]
     },
     "metadata": {},
     "output_type": "display_data"
    },
    {
     "data": {
      "application/vnd.jupyter.widget-view+json": {
       "model_id": "8cf4ed9a1e464cdba3df18156b16a465",
       "version_major": 2,
       "version_minor": 0
      },
      "text/plain": [
       "  0%|          | 0/1645 [00:00<?, ?it/s]"
      ]
     },
     "metadata": {},
     "output_type": "display_data"
    },
    {
     "data": {
      "application/vnd.jupyter.widget-view+json": {
       "model_id": "e688853356fa4d258a3cad24e1503140",
       "version_major": 2,
       "version_minor": 0
      },
      "text/plain": [
       "  0%|          | 0/1645 [00:00<?, ?it/s]"
      ]
     },
     "metadata": {},
     "output_type": "display_data"
    },
    {
     "data": {
      "application/vnd.jupyter.widget-view+json": {
       "model_id": "cfaeea8dc3834219b1b40ae00df91eee",
       "version_major": 2,
       "version_minor": 0
      },
      "text/plain": [
       "  0%|          | 0/1645 [00:00<?, ?it/s]"
      ]
     },
     "metadata": {},
     "output_type": "display_data"
    },
    {
     "data": {
      "application/vnd.jupyter.widget-view+json": {
       "model_id": "57c766eaa75642a3958ce532d2c6f1e5",
       "version_major": 2,
       "version_minor": 0
      },
      "text/plain": [
       "  0%|          | 0/1645 [00:00<?, ?it/s]"
      ]
     },
     "metadata": {},
     "output_type": "display_data"
    },
    {
     "name": "stdout",
     "output_type": "stream",
     "text": [
      "Now computing window = 6.5\n"
     ]
    },
    {
     "data": {
      "application/vnd.jupyter.widget-view+json": {
       "model_id": "7bcfd5fb32d0415c8fda1155cafb3f90",
       "version_major": 2,
       "version_minor": 0
      },
      "text/plain": [
       "  0%|          | 0/5 [00:00<?, ?it/s]"
      ]
     },
     "metadata": {},
     "output_type": "display_data"
    },
    {
     "name": "stdout",
     "output_type": "stream",
     "text": [
      "Need to compile /om/user/eisenaj/ChaoticConsciousness/results/propofolPuffTone/VAR/VAR_MrJones-Anesthesia-20160301-01_window_6.5_stride_6.5_Feb-23-2022_2029/FEF\n"
     ]
    },
    {
     "data": {
      "application/vnd.jupyter.widget-view+json": {
       "model_id": "d5a38751933a4a6bb1472ff3a381a51b",
       "version_major": 2,
       "version_minor": 0
      },
      "text/plain": [
       "  0%|          | 0/1519 [00:00<?, ?it/s]"
      ]
     },
     "metadata": {},
     "output_type": "display_data"
    },
    {
     "name": "stdout",
     "output_type": "stream",
     "text": [
      "Need to compile /om/user/eisenaj/ChaoticConsciousness/results/propofolPuffTone/VAR/VAR_MrJones-Anesthesia-20160301-01_window_6.5_stride_6.5_Feb-23-2022_2029/7b\n"
     ]
    },
    {
     "data": {
      "application/vnd.jupyter.widget-view+json": {
       "model_id": "fea44d20dbdf4ae4af71c0e7085ecbf1",
       "version_major": 2,
       "version_minor": 0
      },
      "text/plain": [
       "  0%|          | 0/1519 [00:00<?, ?it/s]"
      ]
     },
     "metadata": {},
     "output_type": "display_data"
    },
    {
     "name": "stdout",
     "output_type": "stream",
     "text": [
      "Need to compile /om/user/eisenaj/ChaoticConsciousness/results/propofolPuffTone/VAR/VAR_MrJones-Anesthesia-20160301-01_window_6.5_stride_6.5_Feb-23-2022_2029/all\n"
     ]
    },
    {
     "data": {
      "application/vnd.jupyter.widget-view+json": {
       "model_id": "b61b94136a2049dfae2ad2598835b247",
       "version_major": 2,
       "version_minor": 0
      },
      "text/plain": [
       "  0%|          | 0/1519 [00:00<?, ?it/s]"
      ]
     },
     "metadata": {},
     "output_type": "display_data"
    },
    {
     "name": "stdout",
     "output_type": "stream",
     "text": [
      "Need to compile /om/user/eisenaj/ChaoticConsciousness/results/propofolPuffTone/VAR/VAR_MrJones-Anesthesia-20160301-01_window_6.5_stride_6.5_Feb-23-2022_2029/vlPFC\n"
     ]
    },
    {
     "data": {
      "application/vnd.jupyter.widget-view+json": {
       "model_id": "37274f053df0438a99015223b8168022",
       "version_major": 2,
       "version_minor": 0
      },
      "text/plain": [
       "  0%|          | 0/1519 [00:00<?, ?it/s]"
      ]
     },
     "metadata": {},
     "output_type": "display_data"
    },
    {
     "name": "stdout",
     "output_type": "stream",
     "text": [
      "Need to compile /om/user/eisenaj/ChaoticConsciousness/results/propofolPuffTone/VAR/VAR_MrJones-Anesthesia-20160301-01_window_6.5_stride_6.5_Feb-23-2022_2029/CPB\n"
     ]
    },
    {
     "data": {
      "application/vnd.jupyter.widget-view+json": {
       "model_id": "9adae58db1284d86a1611f28f7c9c681",
       "version_major": 2,
       "version_minor": 0
      },
      "text/plain": [
       "  0%|          | 0/1519 [00:00<?, ?it/s]"
      ]
     },
     "metadata": {},
     "output_type": "display_data"
    },
    {
     "data": {
      "application/vnd.jupyter.widget-view+json": {
       "model_id": "c8fe33217fd64e7b9578debe2b1b9b37",
       "version_major": 2,
       "version_minor": 0
      },
      "text/plain": [
       "  0%|          | 0/1519 [00:00<?, ?it/s]"
      ]
     },
     "metadata": {},
     "output_type": "display_data"
    },
    {
     "data": {
      "application/vnd.jupyter.widget-view+json": {
       "model_id": "51f691e2653246a8a33975fe4c94e94c",
       "version_major": 2,
       "version_minor": 0
      },
      "text/plain": [
       "  0%|          | 0/1519 [00:00<?, ?it/s]"
      ]
     },
     "metadata": {},
     "output_type": "display_data"
    },
    {
     "data": {
      "application/vnd.jupyter.widget-view+json": {
       "model_id": "7bb53778f1494e5892c329c80c5374d6",
       "version_major": 2,
       "version_minor": 0
      },
      "text/plain": [
       "  0%|          | 0/1519 [00:00<?, ?it/s]"
      ]
     },
     "metadata": {},
     "output_type": "display_data"
    },
    {
     "data": {
      "application/vnd.jupyter.widget-view+json": {
       "model_id": "940c451e57334d76951b1c07d76e0464",
       "version_major": 2,
       "version_minor": 0
      },
      "text/plain": [
       "  0%|          | 0/1519 [00:00<?, ?it/s]"
      ]
     },
     "metadata": {},
     "output_type": "display_data"
    },
    {
     "data": {
      "application/vnd.jupyter.widget-view+json": {
       "model_id": "40a296193bb24d6498f3dd243dcd8e08",
       "version_major": 2,
       "version_minor": 0
      },
      "text/plain": [
       "  0%|          | 0/1519 [00:00<?, ?it/s]"
      ]
     },
     "metadata": {},
     "output_type": "display_data"
    },
    {
     "name": "stdout",
     "output_type": "stream",
     "text": [
      "Now computing window = 7\n"
     ]
    },
    {
     "data": {
      "application/vnd.jupyter.widget-view+json": {
       "model_id": "b20c055068e846eb83f9949f052eb2f0",
       "version_major": 2,
       "version_minor": 0
      },
      "text/plain": [
       "  0%|          | 0/5 [00:00<?, ?it/s]"
      ]
     },
     "metadata": {},
     "output_type": "display_data"
    },
    {
     "name": "stdout",
     "output_type": "stream",
     "text": [
      "Need to compile /om/user/eisenaj/ChaoticConsciousness/results/propofolPuffTone/VAR/VAR_MrJones-Anesthesia-20160301-01_window_7_stride_7_Feb-23-2022_2042/FEF\n"
     ]
    },
    {
     "data": {
      "application/vnd.jupyter.widget-view+json": {
       "model_id": "0f71e7d54ca043f9a89dca028954b601",
       "version_major": 2,
       "version_minor": 0
      },
      "text/plain": [
       "  0%|          | 0/1410 [00:00<?, ?it/s]"
      ]
     },
     "metadata": {},
     "output_type": "display_data"
    },
    {
     "name": "stdout",
     "output_type": "stream",
     "text": [
      "Need to compile /om/user/eisenaj/ChaoticConsciousness/results/propofolPuffTone/VAR/VAR_MrJones-Anesthesia-20160301-01_window_7_stride_7_Feb-23-2022_2042/7b\n"
     ]
    },
    {
     "data": {
      "application/vnd.jupyter.widget-view+json": {
       "model_id": "9d4f3a633dd142dda5f57dd038bec142",
       "version_major": 2,
       "version_minor": 0
      },
      "text/plain": [
       "  0%|          | 0/1410 [00:00<?, ?it/s]"
      ]
     },
     "metadata": {},
     "output_type": "display_data"
    },
    {
     "name": "stdout",
     "output_type": "stream",
     "text": [
      "Need to compile /om/user/eisenaj/ChaoticConsciousness/results/propofolPuffTone/VAR/VAR_MrJones-Anesthesia-20160301-01_window_7_stride_7_Feb-23-2022_2042/all\n"
     ]
    },
    {
     "data": {
      "application/vnd.jupyter.widget-view+json": {
       "model_id": "893caf7dd8d944499cffee9f81d3aaff",
       "version_major": 2,
       "version_minor": 0
      },
      "text/plain": [
       "  0%|          | 0/1410 [00:00<?, ?it/s]"
      ]
     },
     "metadata": {},
     "output_type": "display_data"
    },
    {
     "name": "stdout",
     "output_type": "stream",
     "text": [
      "Need to compile /om/user/eisenaj/ChaoticConsciousness/results/propofolPuffTone/VAR/VAR_MrJones-Anesthesia-20160301-01_window_7_stride_7_Feb-23-2022_2042/vlPFC\n"
     ]
    },
    {
     "data": {
      "application/vnd.jupyter.widget-view+json": {
       "model_id": "a3fd3570f4104fb487918cc815a47045",
       "version_major": 2,
       "version_minor": 0
      },
      "text/plain": [
       "  0%|          | 0/1410 [00:00<?, ?it/s]"
      ]
     },
     "metadata": {},
     "output_type": "display_data"
    },
    {
     "name": "stdout",
     "output_type": "stream",
     "text": [
      "Need to compile /om/user/eisenaj/ChaoticConsciousness/results/propofolPuffTone/VAR/VAR_MrJones-Anesthesia-20160301-01_window_7_stride_7_Feb-23-2022_2042/CPB\n"
     ]
    },
    {
     "data": {
      "application/vnd.jupyter.widget-view+json": {
       "model_id": "7f5dd04240aa44f38c203d66cebc868b",
       "version_major": 2,
       "version_minor": 0
      },
      "text/plain": [
       "  0%|          | 0/1410 [00:00<?, ?it/s]"
      ]
     },
     "metadata": {},
     "output_type": "display_data"
    },
    {
     "data": {
      "application/vnd.jupyter.widget-view+json": {
       "model_id": "94e1c7ae0df04cdd8de4f1967d328ddd",
       "version_major": 2,
       "version_minor": 0
      },
      "text/plain": [
       "  0%|          | 0/1410 [00:00<?, ?it/s]"
      ]
     },
     "metadata": {},
     "output_type": "display_data"
    },
    {
     "data": {
      "application/vnd.jupyter.widget-view+json": {
       "model_id": "f4f9772f4784441799e6c5f35b7e91be",
       "version_major": 2,
       "version_minor": 0
      },
      "text/plain": [
       "  0%|          | 0/1410 [00:00<?, ?it/s]"
      ]
     },
     "metadata": {},
     "output_type": "display_data"
    },
    {
     "data": {
      "application/vnd.jupyter.widget-view+json": {
       "model_id": "c3c57d14ad3c4728aa7463a21e08d2a8",
       "version_major": 2,
       "version_minor": 0
      },
      "text/plain": [
       "  0%|          | 0/1410 [00:00<?, ?it/s]"
      ]
     },
     "metadata": {},
     "output_type": "display_data"
    },
    {
     "data": {
      "application/vnd.jupyter.widget-view+json": {
       "model_id": "33e399255c3f4cdd8076ca1ee4b95b51",
       "version_major": 2,
       "version_minor": 0
      },
      "text/plain": [
       "  0%|          | 0/1410 [00:00<?, ?it/s]"
      ]
     },
     "metadata": {},
     "output_type": "display_data"
    },
    {
     "data": {
      "application/vnd.jupyter.widget-view+json": {
       "model_id": "516066fbc6964b93be44fabac6d2fc05",
       "version_major": 2,
       "version_minor": 0
      },
      "text/plain": [
       "  0%|          | 0/1410 [00:00<?, ?it/s]"
      ]
     },
     "metadata": {},
     "output_type": "display_data"
    },
    {
     "name": "stdout",
     "output_type": "stream",
     "text": [
      "Now computing window = 7.5\n"
     ]
    },
    {
     "data": {
      "application/vnd.jupyter.widget-view+json": {
       "model_id": "f30f4e0aa6c443b89acaabcb81b610c6",
       "version_major": 2,
       "version_minor": 0
      },
      "text/plain": [
       "  0%|          | 0/5 [00:00<?, ?it/s]"
      ]
     },
     "metadata": {},
     "output_type": "display_data"
    },
    {
     "name": "stdout",
     "output_type": "stream",
     "text": [
      "Need to compile /om/user/eisenaj/ChaoticConsciousness/results/propofolPuffTone/VAR/VAR_MrJones-Anesthesia-20160301-01_window_7.5_stride_7.5_Feb-23-2022_2048/FEF\n"
     ]
    },
    {
     "data": {
      "application/vnd.jupyter.widget-view+json": {
       "model_id": "d8d7754739f14c4b852d55e9185dc2f0",
       "version_major": 2,
       "version_minor": 0
      },
      "text/plain": [
       "  0%|          | 0/1316 [00:00<?, ?it/s]"
      ]
     },
     "metadata": {},
     "output_type": "display_data"
    },
    {
     "name": "stdout",
     "output_type": "stream",
     "text": [
      "Need to compile /om/user/eisenaj/ChaoticConsciousness/results/propofolPuffTone/VAR/VAR_MrJones-Anesthesia-20160301-01_window_7.5_stride_7.5_Feb-23-2022_2048/7b\n"
     ]
    },
    {
     "data": {
      "application/vnd.jupyter.widget-view+json": {
       "model_id": "1ce7c31dbde744a28ee3ed62f5a9cb69",
       "version_major": 2,
       "version_minor": 0
      },
      "text/plain": [
       "  0%|          | 0/1316 [00:00<?, ?it/s]"
      ]
     },
     "metadata": {},
     "output_type": "display_data"
    },
    {
     "name": "stdout",
     "output_type": "stream",
     "text": [
      "Need to compile /om/user/eisenaj/ChaoticConsciousness/results/propofolPuffTone/VAR/VAR_MrJones-Anesthesia-20160301-01_window_7.5_stride_7.5_Feb-23-2022_2048/all\n"
     ]
    },
    {
     "data": {
      "application/vnd.jupyter.widget-view+json": {
       "model_id": "dab51357603a491194f78aa47d93ed4b",
       "version_major": 2,
       "version_minor": 0
      },
      "text/plain": [
       "  0%|          | 0/1316 [00:00<?, ?it/s]"
      ]
     },
     "metadata": {},
     "output_type": "display_data"
    },
    {
     "name": "stdout",
     "output_type": "stream",
     "text": [
      "Need to compile /om/user/eisenaj/ChaoticConsciousness/results/propofolPuffTone/VAR/VAR_MrJones-Anesthesia-20160301-01_window_7.5_stride_7.5_Feb-23-2022_2048/vlPFC\n"
     ]
    },
    {
     "data": {
      "application/vnd.jupyter.widget-view+json": {
       "model_id": "8d2c74ac8521450989924ca473973fa7",
       "version_major": 2,
       "version_minor": 0
      },
      "text/plain": [
       "  0%|          | 0/1316 [00:00<?, ?it/s]"
      ]
     },
     "metadata": {},
     "output_type": "display_data"
    },
    {
     "name": "stdout",
     "output_type": "stream",
     "text": [
      "Need to compile /om/user/eisenaj/ChaoticConsciousness/results/propofolPuffTone/VAR/VAR_MrJones-Anesthesia-20160301-01_window_7.5_stride_7.5_Feb-23-2022_2048/CPB\n"
     ]
    },
    {
     "data": {
      "application/vnd.jupyter.widget-view+json": {
       "model_id": "363bfa216a334dcfbc3e19af990e6a28",
       "version_major": 2,
       "version_minor": 0
      },
      "text/plain": [
       "  0%|          | 0/1316 [00:00<?, ?it/s]"
      ]
     },
     "metadata": {},
     "output_type": "display_data"
    },
    {
     "data": {
      "application/vnd.jupyter.widget-view+json": {
       "model_id": "138965f9b35b4697a16a5baca4b2d22d",
       "version_major": 2,
       "version_minor": 0
      },
      "text/plain": [
       "  0%|          | 0/1316 [00:00<?, ?it/s]"
      ]
     },
     "metadata": {},
     "output_type": "display_data"
    },
    {
     "data": {
      "application/vnd.jupyter.widget-view+json": {
       "model_id": "81c2792b396a4e6f86919f4cac8f6d64",
       "version_major": 2,
       "version_minor": 0
      },
      "text/plain": [
       "  0%|          | 0/1316 [00:00<?, ?it/s]"
      ]
     },
     "metadata": {},
     "output_type": "display_data"
    },
    {
     "data": {
      "application/vnd.jupyter.widget-view+json": {
       "model_id": "ed8f5a52ff524e2a8a61875ad7d47cc4",
       "version_major": 2,
       "version_minor": 0
      },
      "text/plain": [
       "  0%|          | 0/1316 [00:00<?, ?it/s]"
      ]
     },
     "metadata": {},
     "output_type": "display_data"
    },
    {
     "data": {
      "application/vnd.jupyter.widget-view+json": {
       "model_id": "702f0f2119144025916b42c5437436c4",
       "version_major": 2,
       "version_minor": 0
      },
      "text/plain": [
       "  0%|          | 0/1316 [00:00<?, ?it/s]"
      ]
     },
     "metadata": {},
     "output_type": "display_data"
    },
    {
     "data": {
      "application/vnd.jupyter.widget-view+json": {
       "model_id": "6f21dff1b47048d5987df97590737d38",
       "version_major": 2,
       "version_minor": 0
      },
      "text/plain": [
       "  0%|          | 0/1316 [00:00<?, ?it/s]"
      ]
     },
     "metadata": {},
     "output_type": "display_data"
    },
    {
     "name": "stdout",
     "output_type": "stream",
     "text": [
      "Now computing window = 8\n"
     ]
    },
    {
     "data": {
      "application/vnd.jupyter.widget-view+json": {
       "model_id": "5854ea0e5dac4f5e9ee0b8ecdc6e091b",
       "version_major": 2,
       "version_minor": 0
      },
      "text/plain": [
       "  0%|          | 0/5 [00:00<?, ?it/s]"
      ]
     },
     "metadata": {},
     "output_type": "display_data"
    },
    {
     "name": "stdout",
     "output_type": "stream",
     "text": [
      "Need to compile /om/user/eisenaj/ChaoticConsciousness/results/propofolPuffTone/VAR/VAR_MrJones-Anesthesia-20160301-01_window_8_stride_8_Feb-23-2022_2056/FEF\n"
     ]
    },
    {
     "data": {
      "application/vnd.jupyter.widget-view+json": {
       "model_id": "d097281cba534d7b93fc986b9a4aad4d",
       "version_major": 2,
       "version_minor": 0
      },
      "text/plain": [
       "  0%|          | 0/1234 [00:00<?, ?it/s]"
      ]
     },
     "metadata": {},
     "output_type": "display_data"
    },
    {
     "name": "stdout",
     "output_type": "stream",
     "text": [
      "Need to compile /om/user/eisenaj/ChaoticConsciousness/results/propofolPuffTone/VAR/VAR_MrJones-Anesthesia-20160301-01_window_8_stride_8_Feb-23-2022_2056/7b\n"
     ]
    },
    {
     "data": {
      "application/vnd.jupyter.widget-view+json": {
       "model_id": "7d3e00efa4fa4bd8b7b8b2eecfc2bcf7",
       "version_major": 2,
       "version_minor": 0
      },
      "text/plain": [
       "  0%|          | 0/1234 [00:00<?, ?it/s]"
      ]
     },
     "metadata": {},
     "output_type": "display_data"
    },
    {
     "name": "stdout",
     "output_type": "stream",
     "text": [
      "Need to compile /om/user/eisenaj/ChaoticConsciousness/results/propofolPuffTone/VAR/VAR_MrJones-Anesthesia-20160301-01_window_8_stride_8_Feb-23-2022_2056/all\n"
     ]
    },
    {
     "data": {
      "application/vnd.jupyter.widget-view+json": {
       "model_id": "9be4ca117b2f4880ad336ae9c0d94326",
       "version_major": 2,
       "version_minor": 0
      },
      "text/plain": [
       "  0%|          | 0/1234 [00:00<?, ?it/s]"
      ]
     },
     "metadata": {},
     "output_type": "display_data"
    },
    {
     "name": "stdout",
     "output_type": "stream",
     "text": [
      "Need to compile /om/user/eisenaj/ChaoticConsciousness/results/propofolPuffTone/VAR/VAR_MrJones-Anesthesia-20160301-01_window_8_stride_8_Feb-23-2022_2056/vlPFC\n"
     ]
    },
    {
     "data": {
      "application/vnd.jupyter.widget-view+json": {
       "model_id": "00a3712078624b4cbb2b185105770614",
       "version_major": 2,
       "version_minor": 0
      },
      "text/plain": [
       "  0%|          | 0/1234 [00:00<?, ?it/s]"
      ]
     },
     "metadata": {},
     "output_type": "display_data"
    },
    {
     "name": "stdout",
     "output_type": "stream",
     "text": [
      "Need to compile /om/user/eisenaj/ChaoticConsciousness/results/propofolPuffTone/VAR/VAR_MrJones-Anesthesia-20160301-01_window_8_stride_8_Feb-23-2022_2056/CPB\n"
     ]
    },
    {
     "data": {
      "application/vnd.jupyter.widget-view+json": {
       "model_id": "5de2b17578a54016903e19522b32f074",
       "version_major": 2,
       "version_minor": 0
      },
      "text/plain": [
       "  0%|          | 0/1234 [00:00<?, ?it/s]"
      ]
     },
     "metadata": {},
     "output_type": "display_data"
    },
    {
     "data": {
      "application/vnd.jupyter.widget-view+json": {
       "model_id": "3524b50afc7e440a9ed3d4eab9bc5001",
       "version_major": 2,
       "version_minor": 0
      },
      "text/plain": [
       "  0%|          | 0/1234 [00:00<?, ?it/s]"
      ]
     },
     "metadata": {},
     "output_type": "display_data"
    },
    {
     "data": {
      "application/vnd.jupyter.widget-view+json": {
       "model_id": "20aa7eecf54949c483a566351d720212",
       "version_major": 2,
       "version_minor": 0
      },
      "text/plain": [
       "  0%|          | 0/1234 [00:00<?, ?it/s]"
      ]
     },
     "metadata": {},
     "output_type": "display_data"
    },
    {
     "data": {
      "application/vnd.jupyter.widget-view+json": {
       "model_id": "9f4417f336bb45e8b131a4dfc9201d19",
       "version_major": 2,
       "version_minor": 0
      },
      "text/plain": [
       "  0%|          | 0/1234 [00:00<?, ?it/s]"
      ]
     },
     "metadata": {},
     "output_type": "display_data"
    },
    {
     "data": {
      "application/vnd.jupyter.widget-view+json": {
       "model_id": "0f393d4f78c14afc997510191e77ca3f",
       "version_major": 2,
       "version_minor": 0
      },
      "text/plain": [
       "  0%|          | 0/1234 [00:00<?, ?it/s]"
      ]
     },
     "metadata": {},
     "output_type": "display_data"
    },
    {
     "data": {
      "application/vnd.jupyter.widget-view+json": {
       "model_id": "f52829f0039e4924b34b54eb7ae61d8e",
       "version_major": 2,
       "version_minor": 0
      },
      "text/plain": [
       "  0%|          | 0/1234 [00:00<?, ?it/s]"
      ]
     },
     "metadata": {},
     "output_type": "display_data"
    },
    {
     "name": "stdout",
     "output_type": "stream",
     "text": [
      "Now computing window = 8.5\n"
     ]
    },
    {
     "data": {
      "application/vnd.jupyter.widget-view+json": {
       "model_id": "f5da99afa1064b42a093577f6ca8f655",
       "version_major": 2,
       "version_minor": 0
      },
      "text/plain": [
       "  0%|          | 0/5 [00:00<?, ?it/s]"
      ]
     },
     "metadata": {},
     "output_type": "display_data"
    },
    {
     "name": "stdout",
     "output_type": "stream",
     "text": [
      "Need to compile /om/user/eisenaj/ChaoticConsciousness/results/propofolPuffTone/VAR/VAR_MrJones-Anesthesia-20160301-01_window_8.5_stride_8.5_Feb-23-2022_2105/FEF\n"
     ]
    },
    {
     "data": {
      "application/vnd.jupyter.widget-view+json": {
       "model_id": "b33ddbe4fb9d40b3af46d41f8f98628c",
       "version_major": 2,
       "version_minor": 0
      },
      "text/plain": [
       "  0%|          | 0/1161 [00:00<?, ?it/s]"
      ]
     },
     "metadata": {},
     "output_type": "display_data"
    },
    {
     "name": "stdout",
     "output_type": "stream",
     "text": [
      "Need to compile /om/user/eisenaj/ChaoticConsciousness/results/propofolPuffTone/VAR/VAR_MrJones-Anesthesia-20160301-01_window_8.5_stride_8.5_Feb-23-2022_2105/7b\n"
     ]
    },
    {
     "data": {
      "application/vnd.jupyter.widget-view+json": {
       "model_id": "803e35bba9b242a591d0f3d87c39f1de",
       "version_major": 2,
       "version_minor": 0
      },
      "text/plain": [
       "  0%|          | 0/1161 [00:00<?, ?it/s]"
      ]
     },
     "metadata": {},
     "output_type": "display_data"
    },
    {
     "name": "stdout",
     "output_type": "stream",
     "text": [
      "Need to compile /om/user/eisenaj/ChaoticConsciousness/results/propofolPuffTone/VAR/VAR_MrJones-Anesthesia-20160301-01_window_8.5_stride_8.5_Feb-23-2022_2105/all\n"
     ]
    },
    {
     "data": {
      "application/vnd.jupyter.widget-view+json": {
       "model_id": "48e7524d54ce4619a09a1a17c0f890bc",
       "version_major": 2,
       "version_minor": 0
      },
      "text/plain": [
       "  0%|          | 0/1161 [00:00<?, ?it/s]"
      ]
     },
     "metadata": {},
     "output_type": "display_data"
    },
    {
     "name": "stdout",
     "output_type": "stream",
     "text": [
      "Need to compile /om/user/eisenaj/ChaoticConsciousness/results/propofolPuffTone/VAR/VAR_MrJones-Anesthesia-20160301-01_window_8.5_stride_8.5_Feb-23-2022_2105/vlPFC\n"
     ]
    },
    {
     "data": {
      "application/vnd.jupyter.widget-view+json": {
       "model_id": "30ed83e68eb7406bbbbb95213ef01ec1",
       "version_major": 2,
       "version_minor": 0
      },
      "text/plain": [
       "  0%|          | 0/1161 [00:00<?, ?it/s]"
      ]
     },
     "metadata": {},
     "output_type": "display_data"
    },
    {
     "name": "stdout",
     "output_type": "stream",
     "text": [
      "Need to compile /om/user/eisenaj/ChaoticConsciousness/results/propofolPuffTone/VAR/VAR_MrJones-Anesthesia-20160301-01_window_8.5_stride_8.5_Feb-23-2022_2105/CPB\n"
     ]
    },
    {
     "data": {
      "application/vnd.jupyter.widget-view+json": {
       "model_id": "8bdb9d732b394401b5195fdbe739c836",
       "version_major": 2,
       "version_minor": 0
      },
      "text/plain": [
       "  0%|          | 0/1161 [00:00<?, ?it/s]"
      ]
     },
     "metadata": {},
     "output_type": "display_data"
    },
    {
     "data": {
      "application/vnd.jupyter.widget-view+json": {
       "model_id": "1740c318d82346a18a80c2adc98f9fda",
       "version_major": 2,
       "version_minor": 0
      },
      "text/plain": [
       "  0%|          | 0/1161 [00:00<?, ?it/s]"
      ]
     },
     "metadata": {},
     "output_type": "display_data"
    },
    {
     "data": {
      "application/vnd.jupyter.widget-view+json": {
       "model_id": "6ab5b5ade6894c759eef3257a0c7e8a1",
       "version_major": 2,
       "version_minor": 0
      },
      "text/plain": [
       "  0%|          | 0/1161 [00:00<?, ?it/s]"
      ]
     },
     "metadata": {},
     "output_type": "display_data"
    },
    {
     "data": {
      "application/vnd.jupyter.widget-view+json": {
       "model_id": "6d993b6aa30e4a19b32cb43d5337c83e",
       "version_major": 2,
       "version_minor": 0
      },
      "text/plain": [
       "  0%|          | 0/1161 [00:00<?, ?it/s]"
      ]
     },
     "metadata": {},
     "output_type": "display_data"
    },
    {
     "data": {
      "application/vnd.jupyter.widget-view+json": {
       "model_id": "707be63db55b4c838693f397ba40ad7d",
       "version_major": 2,
       "version_minor": 0
      },
      "text/plain": [
       "  0%|          | 0/1161 [00:00<?, ?it/s]"
      ]
     },
     "metadata": {},
     "output_type": "display_data"
    },
    {
     "data": {
      "application/vnd.jupyter.widget-view+json": {
       "model_id": "e867b6fc687e436ab9f67667cd391fcd",
       "version_major": 2,
       "version_minor": 0
      },
      "text/plain": [
       "  0%|          | 0/1161 [00:00<?, ?it/s]"
      ]
     },
     "metadata": {},
     "output_type": "display_data"
    },
    {
     "name": "stdout",
     "output_type": "stream",
     "text": [
      "Now computing window = 9\n"
     ]
    },
    {
     "data": {
      "application/vnd.jupyter.widget-view+json": {
       "model_id": "1785d09d1f2245119de2737198f0077e",
       "version_major": 2,
       "version_minor": 0
      },
      "text/plain": [
       "  0%|          | 0/5 [00:00<?, ?it/s]"
      ]
     },
     "metadata": {},
     "output_type": "display_data"
    },
    {
     "name": "stdout",
     "output_type": "stream",
     "text": [
      "Need to compile /om/user/eisenaj/ChaoticConsciousness/results/propofolPuffTone/VAR/VAR_MrJones-Anesthesia-20160301-01_window_9_stride_9_Feb-23-2022_2109/FEF\n"
     ]
    },
    {
     "data": {
      "application/vnd.jupyter.widget-view+json": {
       "model_id": "fae3d6aee02b4c3ea425c5937d45a625",
       "version_major": 2,
       "version_minor": 0
      },
      "text/plain": [
       "  0%|          | 0/1097 [00:00<?, ?it/s]"
      ]
     },
     "metadata": {},
     "output_type": "display_data"
    },
    {
     "name": "stdout",
     "output_type": "stream",
     "text": [
      "Need to compile /om/user/eisenaj/ChaoticConsciousness/results/propofolPuffTone/VAR/VAR_MrJones-Anesthesia-20160301-01_window_9_stride_9_Feb-23-2022_2109/7b\n"
     ]
    },
    {
     "data": {
      "application/vnd.jupyter.widget-view+json": {
       "model_id": "6a66d15808e44cf488d520310258d147",
       "version_major": 2,
       "version_minor": 0
      },
      "text/plain": [
       "  0%|          | 0/1097 [00:00<?, ?it/s]"
      ]
     },
     "metadata": {},
     "output_type": "display_data"
    },
    {
     "name": "stdout",
     "output_type": "stream",
     "text": [
      "Need to compile /om/user/eisenaj/ChaoticConsciousness/results/propofolPuffTone/VAR/VAR_MrJones-Anesthesia-20160301-01_window_9_stride_9_Feb-23-2022_2109/all\n"
     ]
    },
    {
     "data": {
      "application/vnd.jupyter.widget-view+json": {
       "model_id": "1ab503f48d5a4af8bdf8f4a5f9edcd4a",
       "version_major": 2,
       "version_minor": 0
      },
      "text/plain": [
       "  0%|          | 0/1097 [00:00<?, ?it/s]"
      ]
     },
     "metadata": {},
     "output_type": "display_data"
    },
    {
     "name": "stdout",
     "output_type": "stream",
     "text": [
      "Need to compile /om/user/eisenaj/ChaoticConsciousness/results/propofolPuffTone/VAR/VAR_MrJones-Anesthesia-20160301-01_window_9_stride_9_Feb-23-2022_2109/vlPFC\n"
     ]
    },
    {
     "data": {
      "application/vnd.jupyter.widget-view+json": {
       "model_id": "113fabd9b9474d448a5b0cce1660fff9",
       "version_major": 2,
       "version_minor": 0
      },
      "text/plain": [
       "  0%|          | 0/1097 [00:00<?, ?it/s]"
      ]
     },
     "metadata": {},
     "output_type": "display_data"
    },
    {
     "name": "stdout",
     "output_type": "stream",
     "text": [
      "Need to compile /om/user/eisenaj/ChaoticConsciousness/results/propofolPuffTone/VAR/VAR_MrJones-Anesthesia-20160301-01_window_9_stride_9_Feb-23-2022_2109/CPB\n"
     ]
    },
    {
     "data": {
      "application/vnd.jupyter.widget-view+json": {
       "model_id": "331c5fff4b1342768ffc4e8ae984c22c",
       "version_major": 2,
       "version_minor": 0
      },
      "text/plain": [
       "  0%|          | 0/1097 [00:00<?, ?it/s]"
      ]
     },
     "metadata": {},
     "output_type": "display_data"
    },
    {
     "data": {
      "application/vnd.jupyter.widget-view+json": {
       "model_id": "790d1f55d03c4238a5f76e24ab35100e",
       "version_major": 2,
       "version_minor": 0
      },
      "text/plain": [
       "  0%|          | 0/1097 [00:00<?, ?it/s]"
      ]
     },
     "metadata": {},
     "output_type": "display_data"
    },
    {
     "data": {
      "application/vnd.jupyter.widget-view+json": {
       "model_id": "19728a5df73c45819bda08f243fc97b0",
       "version_major": 2,
       "version_minor": 0
      },
      "text/plain": [
       "  0%|          | 0/1097 [00:00<?, ?it/s]"
      ]
     },
     "metadata": {},
     "output_type": "display_data"
    },
    {
     "data": {
      "application/vnd.jupyter.widget-view+json": {
       "model_id": "a474e269a2754efb9a4a700b75d0dbbb",
       "version_major": 2,
       "version_minor": 0
      },
      "text/plain": [
       "  0%|          | 0/1097 [00:00<?, ?it/s]"
      ]
     },
     "metadata": {},
     "output_type": "display_data"
    },
    {
     "data": {
      "application/vnd.jupyter.widget-view+json": {
       "model_id": "a8798aaee4a64149b229e616eae59b4a",
       "version_major": 2,
       "version_minor": 0
      },
      "text/plain": [
       "  0%|          | 0/1097 [00:00<?, ?it/s]"
      ]
     },
     "metadata": {},
     "output_type": "display_data"
    },
    {
     "data": {
      "application/vnd.jupyter.widget-view+json": {
       "model_id": "f8d3b8d6dd4a4959b7397ff769936b66",
       "version_major": 2,
       "version_minor": 0
      },
      "text/plain": [
       "  0%|          | 0/1097 [00:00<?, ?it/s]"
      ]
     },
     "metadata": {},
     "output_type": "display_data"
    },
    {
     "name": "stdout",
     "output_type": "stream",
     "text": [
      "Now computing window = 9.5\n"
     ]
    },
    {
     "data": {
      "application/vnd.jupyter.widget-view+json": {
       "model_id": "13be9cada1d04eb8bcfcca79bf40b8dc",
       "version_major": 2,
       "version_minor": 0
      },
      "text/plain": [
       "  0%|          | 0/5 [00:00<?, ?it/s]"
      ]
     },
     "metadata": {},
     "output_type": "display_data"
    },
    {
     "name": "stdout",
     "output_type": "stream",
     "text": [
      "Need to compile /om/user/eisenaj/ChaoticConsciousness/results/propofolPuffTone/VAR/VAR_MrJones-Anesthesia-20160301-01_window_9.5_stride_9.5_Feb-23-2022_2121/FEF\n"
     ]
    },
    {
     "data": {
      "application/vnd.jupyter.widget-view+json": {
       "model_id": "cf5665acd6954b67886faac20b00f6ec",
       "version_major": 2,
       "version_minor": 0
      },
      "text/plain": [
       "  0%|          | 0/1039 [00:00<?, ?it/s]"
      ]
     },
     "metadata": {},
     "output_type": "display_data"
    },
    {
     "name": "stdout",
     "output_type": "stream",
     "text": [
      "Need to compile /om/user/eisenaj/ChaoticConsciousness/results/propofolPuffTone/VAR/VAR_MrJones-Anesthesia-20160301-01_window_9.5_stride_9.5_Feb-23-2022_2121/7b\n"
     ]
    },
    {
     "data": {
      "application/vnd.jupyter.widget-view+json": {
       "model_id": "96f5b7367f1f4782b6dcba60483cd3b0",
       "version_major": 2,
       "version_minor": 0
      },
      "text/plain": [
       "  0%|          | 0/1039 [00:00<?, ?it/s]"
      ]
     },
     "metadata": {},
     "output_type": "display_data"
    },
    {
     "name": "stdout",
     "output_type": "stream",
     "text": [
      "Need to compile /om/user/eisenaj/ChaoticConsciousness/results/propofolPuffTone/VAR/VAR_MrJones-Anesthesia-20160301-01_window_9.5_stride_9.5_Feb-23-2022_2121/all\n"
     ]
    },
    {
     "data": {
      "application/vnd.jupyter.widget-view+json": {
       "model_id": "0af9d420e7dc4be6bad4ab693904604e",
       "version_major": 2,
       "version_minor": 0
      },
      "text/plain": [
       "  0%|          | 0/1039 [00:00<?, ?it/s]"
      ]
     },
     "metadata": {},
     "output_type": "display_data"
    },
    {
     "name": "stdout",
     "output_type": "stream",
     "text": [
      "Need to compile /om/user/eisenaj/ChaoticConsciousness/results/propofolPuffTone/VAR/VAR_MrJones-Anesthesia-20160301-01_window_9.5_stride_9.5_Feb-23-2022_2121/vlPFC\n"
     ]
    },
    {
     "data": {
      "application/vnd.jupyter.widget-view+json": {
       "model_id": "69c64b4c581f4a8b9e336681daddb074",
       "version_major": 2,
       "version_minor": 0
      },
      "text/plain": [
       "  0%|          | 0/1039 [00:00<?, ?it/s]"
      ]
     },
     "metadata": {},
     "output_type": "display_data"
    },
    {
     "name": "stdout",
     "output_type": "stream",
     "text": [
      "Need to compile /om/user/eisenaj/ChaoticConsciousness/results/propofolPuffTone/VAR/VAR_MrJones-Anesthesia-20160301-01_window_9.5_stride_9.5_Feb-23-2022_2121/CPB\n"
     ]
    },
    {
     "data": {
      "application/vnd.jupyter.widget-view+json": {
       "model_id": "067dcfaad91249ecbe457ab4164473f9",
       "version_major": 2,
       "version_minor": 0
      },
      "text/plain": [
       "  0%|          | 0/1039 [00:00<?, ?it/s]"
      ]
     },
     "metadata": {},
     "output_type": "display_data"
    },
    {
     "data": {
      "application/vnd.jupyter.widget-view+json": {
       "model_id": "88d2223a7f044408845702d99c1e93ea",
       "version_major": 2,
       "version_minor": 0
      },
      "text/plain": [
       "  0%|          | 0/1039 [00:00<?, ?it/s]"
      ]
     },
     "metadata": {},
     "output_type": "display_data"
    },
    {
     "data": {
      "application/vnd.jupyter.widget-view+json": {
       "model_id": "d9701062a97d40738e7bb45c95652a07",
       "version_major": 2,
       "version_minor": 0
      },
      "text/plain": [
       "  0%|          | 0/1039 [00:00<?, ?it/s]"
      ]
     },
     "metadata": {},
     "output_type": "display_data"
    },
    {
     "data": {
      "application/vnd.jupyter.widget-view+json": {
       "model_id": "8e45b0e9f5dd4a69b6687ecf02e6d8d7",
       "version_major": 2,
       "version_minor": 0
      },
      "text/plain": [
       "  0%|          | 0/1039 [00:00<?, ?it/s]"
      ]
     },
     "metadata": {},
     "output_type": "display_data"
    },
    {
     "data": {
      "application/vnd.jupyter.widget-view+json": {
       "model_id": "a63192524e8141aea5bbbbe2f5f0292d",
       "version_major": 2,
       "version_minor": 0
      },
      "text/plain": [
       "  0%|          | 0/1039 [00:00<?, ?it/s]"
      ]
     },
     "metadata": {},
     "output_type": "display_data"
    },
    {
     "data": {
      "application/vnd.jupyter.widget-view+json": {
       "model_id": "3bcb77a8f3e14f22bf1194be07ab7f1a",
       "version_major": 2,
       "version_minor": 0
      },
      "text/plain": [
       "  0%|          | 0/1039 [00:00<?, ?it/s]"
      ]
     },
     "metadata": {},
     "output_type": "display_data"
    },
    {
     "name": "stdout",
     "output_type": "stream",
     "text": [
      "Now computing window = 10\n"
     ]
    },
    {
     "data": {
      "application/vnd.jupyter.widget-view+json": {
       "model_id": "98c8bd63823d48ec9383284e797763c9",
       "version_major": 2,
       "version_minor": 0
      },
      "text/plain": [
       "  0%|          | 0/5 [00:00<?, ?it/s]"
      ]
     },
     "metadata": {},
     "output_type": "display_data"
    },
    {
     "name": "stdout",
     "output_type": "stream",
     "text": [
      "Need to compile /om/user/eisenaj/ChaoticConsciousness/results/propofolPuffTone/VAR/VAR_MrJones-Anesthesia-20160301-01_window_10_stride_10_Feb-23-2022_2123/FEF\n"
     ]
    },
    {
     "data": {
      "application/vnd.jupyter.widget-view+json": {
       "model_id": "e78de97f08644cff87f699bf77780321",
       "version_major": 2,
       "version_minor": 0
      },
      "text/plain": [
       "  0%|          | 0/987 [00:00<?, ?it/s]"
      ]
     },
     "metadata": {},
     "output_type": "display_data"
    },
    {
     "name": "stdout",
     "output_type": "stream",
     "text": [
      "Need to compile /om/user/eisenaj/ChaoticConsciousness/results/propofolPuffTone/VAR/VAR_MrJones-Anesthesia-20160301-01_window_10_stride_10_Feb-23-2022_2123/7b\n"
     ]
    },
    {
     "data": {
      "application/vnd.jupyter.widget-view+json": {
       "model_id": "e2e8e859fbb949ca8d746096fbf81e6d",
       "version_major": 2,
       "version_minor": 0
      },
      "text/plain": [
       "  0%|          | 0/987 [00:00<?, ?it/s]"
      ]
     },
     "metadata": {},
     "output_type": "display_data"
    },
    {
     "name": "stdout",
     "output_type": "stream",
     "text": [
      "Need to compile /om/user/eisenaj/ChaoticConsciousness/results/propofolPuffTone/VAR/VAR_MrJones-Anesthesia-20160301-01_window_10_stride_10_Feb-23-2022_2123/all\n"
     ]
    },
    {
     "data": {
      "application/vnd.jupyter.widget-view+json": {
       "model_id": "44dd5bee77da4efba693b77e84aa92ac",
       "version_major": 2,
       "version_minor": 0
      },
      "text/plain": [
       "  0%|          | 0/987 [00:00<?, ?it/s]"
      ]
     },
     "metadata": {},
     "output_type": "display_data"
    },
    {
     "name": "stdout",
     "output_type": "stream",
     "text": [
      "Need to compile /om/user/eisenaj/ChaoticConsciousness/results/propofolPuffTone/VAR/VAR_MrJones-Anesthesia-20160301-01_window_10_stride_10_Feb-23-2022_2123/vlPFC\n"
     ]
    },
    {
     "data": {
      "application/vnd.jupyter.widget-view+json": {
       "model_id": "6a28b4d1442548d2be1c6572a343dfa3",
       "version_major": 2,
       "version_minor": 0
      },
      "text/plain": [
       "  0%|          | 0/987 [00:00<?, ?it/s]"
      ]
     },
     "metadata": {},
     "output_type": "display_data"
    },
    {
     "name": "stdout",
     "output_type": "stream",
     "text": [
      "Need to compile /om/user/eisenaj/ChaoticConsciousness/results/propofolPuffTone/VAR/VAR_MrJones-Anesthesia-20160301-01_window_10_stride_10_Feb-23-2022_2123/CPB\n"
     ]
    },
    {
     "data": {
      "application/vnd.jupyter.widget-view+json": {
       "model_id": "e78c66dc50be430d9a7af3b0a4100468",
       "version_major": 2,
       "version_minor": 0
      },
      "text/plain": [
       "  0%|          | 0/987 [00:00<?, ?it/s]"
      ]
     },
     "metadata": {},
     "output_type": "display_data"
    },
    {
     "data": {
      "application/vnd.jupyter.widget-view+json": {
       "model_id": "4524d1bdc00e48b3a77cf38d3f171033",
       "version_major": 2,
       "version_minor": 0
      },
      "text/plain": [
       "  0%|          | 0/987 [00:00<?, ?it/s]"
      ]
     },
     "metadata": {},
     "output_type": "display_data"
    },
    {
     "data": {
      "application/vnd.jupyter.widget-view+json": {
       "model_id": "061be74259994c65b5ee0175417689a7",
       "version_major": 2,
       "version_minor": 0
      },
      "text/plain": [
       "  0%|          | 0/987 [00:00<?, ?it/s]"
      ]
     },
     "metadata": {},
     "output_type": "display_data"
    },
    {
     "data": {
      "application/vnd.jupyter.widget-view+json": {
       "model_id": "bf933f75912f449b815748b02676ecbd",
       "version_major": 2,
       "version_minor": 0
      },
      "text/plain": [
       "  0%|          | 0/987 [00:00<?, ?it/s]"
      ]
     },
     "metadata": {},
     "output_type": "display_data"
    },
    {
     "data": {
      "application/vnd.jupyter.widget-view+json": {
       "model_id": "267725d22a95422dbad7c181aeaaa35c",
       "version_major": 2,
       "version_minor": 0
      },
      "text/plain": [
       "  0%|          | 0/987 [00:00<?, ?it/s]"
      ]
     },
     "metadata": {},
     "output_type": "display_data"
    },
    {
     "data": {
      "application/vnd.jupyter.widget-view+json": {
       "model_id": "39e882ede0364b1c8c862b9cd0c9e626",
       "version_major": 2,
       "version_minor": 0
      },
      "text/plain": [
       "  0%|          | 0/987 [00:00<?, ?it/s]"
      ]
     },
     "metadata": {},
     "output_type": "display_data"
    }
   ],
   "source": [
    "results_dir = f\"/om/user/eisenaj/ChaoticConsciousness/results/{data_class}/VAR\"\n",
    "\n",
    "predictions = {}\n",
    "true_vals = {}\n",
    "step_mse = {}\n",
    "for area in np.unique(electrode_info['area']):\n",
    "    predictions[area] = {}\n",
    "    true_vals[area] = {}\n",
    "    step_mse[area] = {}\n",
    "predictions['all'] = {}\n",
    "true_vals['all'] = {}\n",
    "step_mse['all'] = {}\n",
    "\n",
    "# windows = [0.5, 1, 1.5, 2, 2.5, 3, 4, 5, 7.5, 10]\n",
    "windows = [0.5, 1, 1.5, 2, 2.5, 3, 3.5, 4, 4.5, 5, 5.5, 6, 6.5, 7, 7.5, 8, 8.5, 9, 9.5, 10]\n",
    "for window in windows:\n",
    "    stride = window\n",
    "    print(f\"Now computing window = {window}\")\n",
    "    VAR_results_dir = get_result_path(results_dir, session, window, stride)\n",
    "    VAR_results = {}\n",
    "    for file in tqdm(os.listdir(VAR_results_dir)):\n",
    "        try:\n",
    "            VAR_results[file] = load(os.path.join(VAR_results_dir, file))\n",
    "        except IsADirectoryError:\n",
    "            print(f\"Need to compile {os.path.join(VAR_results_dir, file)}\")\n",
    "            # compile results\n",
    "            VAR_results[file] = compile_folder(os.path.join(VAR_results_dir, file))\n",
    "    \n",
    "    for area in VAR_results.keys():\n",
    "        if area == 'all':\n",
    "            unit_indices = np.arange(len(electrode_info['area']))\n",
    "        else:\n",
    "            unit_indices = np.where(electrode_info['area'] == area)[0]\n",
    "        T_pred = 10\n",
    "        predictions[area][window] = np.zeros((len(VAR_results[area]), T_pred, len(unit_indices)))\n",
    "        true_vals[area][window] = np.zeros(predictions[area][window].shape)\n",
    "\n",
    "        for i in tqdm(range(predictions[area][window].shape[0])):\n",
    "            row = VAR_results[area].iloc[i]\n",
    "            start_step = int(stride*i/dt)\n",
    "            x0 = lfp[start_step + int(window/dt) - 1, unit_indices]\n",
    "\n",
    "            for t in range(T_pred):\n",
    "                if t == 0:\n",
    "                    predictions[area][window][i, t] = np.hstack([[1], x0]) @ row.A_mat_with_bias\n",
    "                else:\n",
    "                    predictions[area][window][i, t] = np.hstack([[1], predictions[area][window][i, t - 1]]) @ row.A_mat_with_bias\n",
    "\n",
    "            true_vals[area][window][i] = lfp[start_step + int(window/dt):start_step + int(window/dt) + T_pred, unit_indices]\n",
    "\n",
    "        step_mse[area][window] = ((predictions[area][window] - true_vals[area][window])**2).mean(axis=2)"
   ]
  },
  {
   "cell_type": "code",
   "execution_count": 8,
   "id": "f2885f5d",
   "metadata": {},
   "outputs": [],
   "source": [
    "area = 'vlPFC'\n",
    "start_time = 120"
   ]
  },
  {
   "cell_type": "code",
   "execution_count": 9,
   "id": "35ecdd3d",
   "metadata": {},
   "outputs": [
    {
     "data": {
      "image/png": "[encoded data removed]",
      "text/plain": [
       "<Figure size 864x576 with 10 Axes>"
      ]
     },
     "metadata": {
      "needs_background": "light"
     },
     "output_type": "display_data"
    }
   ],
   "source": [
    "rows = 5\n",
    "cols = 2\n",
    "fig, axs = plt.subplots(rows, cols, figsize=(12, 8))\n",
    "\n",
    "for i in range(T_pred):\n",
    "    ax = axs[int(i/cols), i % cols]\n",
    "    ax.plot(windows, [step_mse[area][window][int(start_time/window):, i].mean() for window in windows])\n",
    "    ax.set_title(f\"MSE on {i+1}-Step Prediction\")\n",
    "    ax.set_xlabel(\"Window Size\")\n",
    "    ax.set_ylabel(\"MSE\")\n",
    "\n",
    "plt.suptitle(\"Prediction MSE Across Whole Session\")\n",
    "plt.tight_layout()\n",
    "plt.show()"
   ]
  },
  {
   "cell_type": "code",
   "execution_count": 10,
   "id": "55a828ba",
   "metadata": {},
   "outputs": [
    {
     "data": {
      "image/png": "[encoded data removed]",
      "text/plain": [
       "<Figure size 864x576 with 10 Axes>"
      ]
     },
     "metadata": {
      "needs_background": "light"
     },
     "output_type": "display_data"
    }
   ],
   "source": [
    "\n",
    "end_anesthesia = session_info['drugEnd'][1]\n",
    "end_anesthesia = int(end_anesthesia/stride)\n",
    "\n",
    "rows = 5\n",
    "cols = 2\n",
    "fig, axs = plt.subplots(rows, cols, figsize=(12, 8))\n",
    "\n",
    "for i in range(T_pred):\n",
    "    ax = axs[int(i/cols), i % cols]\n",
    "    ax.plot(windows, [step_mse[area][window][int(start_time/window):int(session_info['drugStart'][0]/window), i].mean() for window in windows], label='pre anesthestic')\n",
    "    ax.plot(windows, [step_mse[area][window][int(session_info['drugStart'][0]/window):int(session_info['drugEnd'][1]/window), i].mean() for window in windows], label='during anesthestic')\n",
    "    ax.plot(windows, [step_mse[area][window][int(session_info['drugEnd'][1]/window):, i].mean() for window in windows], label='post anesthestic')\n",
    "    ax.set_title(f\"MSE on {i+1}-Step Prediction\")\n",
    "    ax.set_xlabel(\"Window Size\")\n",
    "    ax.set_ylabel(\"MSE\")\n",
    "\n",
    "ax.legend()\n",
    "plt.suptitle(\"Prediction MSE Split By Segment\")\n",
    "plt.tight_layout()\n",
    "plt.show()"
   ]
  },
  {
   "cell_type": "markdown",
   "id": "4a205eba",
   "metadata": {},
   "source": [
    "### Window Size Autoselection v2"
   ]
  },
  {
   "cell_type": "code",
   "execution_count": 18,
   "id": "58b07e8e",
   "metadata": {},
   "outputs": [
    {
     "name": "stdout",
     "output_type": "stream",
     "text": [
      "[0.95       0.46648487 0.40098137 0.29675947 0.37470225 0.2960775\n",
      " 0.20514954 0.19887203 0.23204421 0.27999841 0.2153106  0.33565875\n",
      " 0.         0.16538627 0.20734013 0.11662354 0.21667311 0.11544306\n",
      " 0.35760823 0.30601071]\n",
      "0.21594688142581095\n"
     ]
    },
    {
     "data": {
      "image/png": "[encoded data removed]",
      "text/plain": [
       "<Figure size 864x1080 with 3 Axes>"
      ]
     },
     "metadata": {
      "needs_background": "light"
     },
     "output_type": "display_data"
    }
   ],
   "source": [
    "pre_anesthesia_slice = lambda window: slice(int(start_time/window), int(session_info['drugStart'][0]/window))\n",
    "during_anesthesia_slice = lambda window: slice(int(session_info['drugStart'][0]/window), int(session_info['drugEnd'][1]/window))\n",
    "end_anesthesia_slice = lambda window: slice(int(session_info['drugEnd'][1]/window),-1)\n",
    "\n",
    "rows = 3\n",
    "cols = 1\n",
    "fig, axs = plt.subplots(rows, cols, figsize=(12, 15))\n",
    "\n",
    "step_to_use = 10\n",
    "start_time = 120\n",
    "# improvement_thresh = 0.02 # if the improvement is less than the threshold, pick the previous window\n",
    "pct_of_value = 0.9\n",
    "selected_windows = {}\n",
    "\n",
    "phases = ['pre', 'during', 'post']\n",
    "\n",
    "for num, slice_func in enumerate([pre_anesthesia_slice, during_anesthesia_slice, end_anesthesia_slice]):\n",
    "    phase = phases[num]\n",
    "    selected_windows[phase] = {}\n",
    "    for area in step_mse.keys():\n",
    "        window_mses = [step_mse[area][window][slice_func(window), step_to_use - 1].mean() for window in windows]\n",
    "\n",
    "        asymptotic_value = np.array(window_mses).min()\n",
    "        for i in range(len(window_mses)):\n",
    "            if window_mses[i]*pct_of_value <= asymptotic_value:\n",
    "                selected_windows[phase][area] = windows[i]\n",
    "                break\n",
    "\n",
    "    #     if area == 'all':\n",
    "    #         print(window_mses)\n",
    "    #         print(i)\n",
    "\n",
    "    #     kneedle_ret = KneeLocator(windows, window_mses, S=2, curve='convex', direction='decreasing')\n",
    "    #     selected_windows[area] = kneedle_ret.elbow\n",
    "\n",
    "    #     improvements = np.array([1 - window_mses[i+1]/window_mses[i] for i in range(len(window_mses)-1)])\n",
    "    # #     if area == 'vlPFC':\n",
    "    # #         print(improvements)\n",
    "    #     comparison = improvements < improvement_thresh\n",
    "    #     if np.sum(comparison) == 0:\n",
    "    #         selected_windows[area] = None\n",
    "    #     else:\n",
    "    #         selected_windows[area] = windows[np.argmax(comparison)]\n",
    "\n",
    "        # fig, axs = plt.subplots(3, 2, figsize=(12, 8))\n",
    "#         fig = plt.figure(figsize=(12, 8))\n",
    "#         ax = plt.gca()\n",
    "    if rows == 1 or cols == 1:\n",
    "        ax = axs[num]\n",
    "    for i, area in enumerate(step_mse.keys()):\n",
    "    #     ax = axs[int(i/2), i % 2]\n",
    "        mse_per_window = np.array([step_mse[area][window][slice_func(window), step_to_use - 1].mean() for window in windows])\n",
    "        min_val = mse_per_window.min()\n",
    "        max_val = mse_per_window.max()\n",
    "        mse_per_window -= min_val\n",
    "        mse_per_window /= max_val - min_val\n",
    "        ax.plot(windows, mse_per_window, label=area)\n",
    "        pt = step_mse[area][selected_windows[phase][area]][slice_func(selected_windows[phase][area]), step_to_use - 1].mean()\n",
    "        pt -= min_val\n",
    "        pt /= max_val - min_val\n",
    "        if num == 2 and area == '7b':\n",
    "            print(mse_per_window*0.95)\n",
    "            print(pt)\n",
    "        ax.scatter(selected_windows[phase][area], pt, color='k')\n",
    "    ax.set_title(f\"{phase}-anesthesia\", fontsize=16)\n",
    "    ax.set_xlabel(\"Window Size\", fontsize=14)\n",
    "    ax.set_ylabel(\"MSE Normalized to [0, 1]\", fontsize=14)\n",
    "plt.legend(fontsize=14)\n",
    "plt.suptitle(f\"MSE on {step_to_use} Step Prediction Across Areas and Windows\", fontsize=18)\n",
    "\n",
    "        #     PLOT THE AREA WINDOW SIZE MSES AND A DOT AT THE SELECTED VALUE\n",
    "plt.tight_layout()\n",
    "plt.show()"
   ]
  },
  {
   "cell_type": "code",
   "execution_count": 19,
   "id": "50e11f2c",
   "metadata": {},
   "outputs": [
    {
     "data": {
      "text/plain": [
       "{'pre': {'7b': 2.5, 'CPB': 4, 'FEF': 2, 'vlPFC': 2, 'all': 3.5},\n",
       " 'during': {'7b': 6.5, 'CPB': 10, 'FEF': 5.5, 'vlPFC': 7, 'all': 6.5},\n",
       " 'post': {'7b': 3.5, 'CPB': 3.5, 'FEF': 6.5, 'vlPFC': 2.5, 'all': 5.5}}"
      ]
     },
     "execution_count": 19,
     "metadata": {},
     "output_type": "execute_result"
    }
   ],
   "source": [
    "selected_windows"
   ]
  },
  {
   "cell_type": "code",
   "execution_count": 20,
   "id": "baa11ab5",
   "metadata": {},
   "outputs": [],
   "source": [
    "save(selected_windows, os.path.join(results_dir, f\"{session}_selected_windows_phases_{step_to_use}_steps\"))"
   ]
  },
  {
   "cell_type": "markdown",
   "id": "d7e7f978",
   "metadata": {},
   "source": [
    "### Window Size Autoselection"
   ]
  },
  {
   "cell_type": "code",
   "execution_count": 21,
   "id": "b7abdadc",
   "metadata": {},
   "outputs": [],
   "source": [
    "step_to_use = 10\n",
    "start_time = 120\n",
    "improvement_thresh = 0.02 # if the improvement is less than the threshold, pick the previous window\n",
    "selected_windows = {}\n",
    "for area in step_mse.keys():\n",
    "    window_mses = [step_mse[area][window][int(start_time/window):, step_to_use - 1].mean() for window in windows]\n",
    "    \n",
    "#     kneedle_ret = KneeLocator(windows, window_mses, S=2, curve='convex', direction='decreasing')\n",
    "#     selected_windows[area] = kneedle_ret.elbow\n",
    "\n",
    "    pct_of_value = 0.9\n",
    "    asymptotic_value = np.array(window_mses).min()\n",
    "    for i in range(len(window_mses)):\n",
    "        if window_mses[i]*pct_of_value <= asymptotic_value:\n",
    "            selected_windows[area] = windows[i]\n",
    "            break\n",
    "    \n",
    "#     improvements = np.array([1 - window_mses[i+1]/window_mses[i] for i in range(len(window_mses)-1)])\n",
    "# #     if area == 'vlPFC':\n",
    "# #         print(improvements)\n",
    "#     comparison = improvements < improvement_thresh\n",
    "#     if np.sum(comparison) == 0:\n",
    "#         selected_windows[area] = None\n",
    "#     else:\n",
    "#         selected_windows[area] = windows[np.argmax(comparison)]"
   ]
  },
  {
   "cell_type": "code",
   "execution_count": 22,
   "id": "40eceddd",
   "metadata": {},
   "outputs": [
    {
     "data": {
      "text/plain": [
       "{'7b': 3.5, 'CPB': 4, 'FEF': 3, 'vlPFC': 3.5, 'all': 4}"
      ]
     },
     "execution_count": 22,
     "metadata": {},
     "output_type": "execute_result"
    }
   ],
   "source": [
    "selected_windows"
   ]
  },
  {
   "cell_type": "code",
   "execution_count": 23,
   "id": "eae9089e",
   "metadata": {},
   "outputs": [],
   "source": [
    "save(selected_windows, os.path.join(results_dir, f\"{session}_selected_windows_{step_to_use}_steps\"))"
   ]
  },
  {
   "cell_type": "code",
   "execution_count": 24,
   "id": "a750323d",
   "metadata": {},
   "outputs": [
    {
     "data": {
      "image/png": "[encoded data removed]",
      "text/plain": [
       "<Figure size 864x576 with 1 Axes>"
      ]
     },
     "metadata": {
      "needs_background": "light"
     },
     "output_type": "display_data"
    }
   ],
   "source": [
    "# fig, axs = plt.subplots(3, 2, figsize=(12, 8))\n",
    "fig = plt.figure(figsize=(12, 8))\n",
    "ax = plt.gca()\n",
    "for i, area in enumerate(selected_windows.keys()):\n",
    "#     ax = axs[int(i/2), i % 2]\n",
    "    mse_per_window = np.array([step_mse[area][window][int(start_time/window):, step_to_use - 1].mean() for window in windows])\n",
    "    min_val = mse_per_window.min()\n",
    "    max_val = mse_per_window.max()\n",
    "    mse_per_window -= min_val\n",
    "    mse_per_window /= max_val - min_val\n",
    "    ax.plot(windows, mse_per_window, label=area)\n",
    "    pt = step_mse[area][selected_windows[area]][int(start_time/selected_windows[area]):, step_to_use - 1].mean()\n",
    "    pt -= min_val\n",
    "    pt /= max_val - min_val\n",
    "    ax.scatter(selected_windows[area], pt, color='k')\n",
    "# ax.set_title(f\"MSE on {i+1}-Step Prediction\")\n",
    "ax.set_xlabel(\"Window Size\", fontsize=14)\n",
    "ax.set_ylabel(\"MSE Normalized to [0, 1]\", fontsize=14)\n",
    "plt.legend(fontsize=14)\n",
    "plt.title(f\"MSE on {step_to_use} Step Prediction Across Areas and Windows\\nWhole Trial\", fontsize=18)\n",
    "    \n",
    "#     PLOT THE AREA WINDOW SIZE MSES AND A DOT AT THE SELECTED VALUE\n",
    "plt.tight_layout()"
   ]
  },
  {
   "cell_type": "markdown",
   "id": "dbe23663",
   "metadata": {},
   "source": [
    "## Find Prediction Errors (One Window Size)"
   ]
  },
  {
   "cell_type": "code",
   "execution_count": 48,
   "id": "db874372",
   "metadata": {},
   "outputs": [],
   "source": [
    "window = 0.15\n",
    "results_dir = \"/om/user/eisenaj/ChaoticConsciousness/results/propofol/VAR\"\n",
    "run_data = get_result(results_dir, session, window)"
   ]
  },
  {
   "cell_type": "code",
   "execution_count": 76,
   "id": "2613dfa9",
   "metadata": {},
   "outputs": [
    {
     "data": {
      "application/vnd.jupyter.widget-view+json": {
       "model_id": "651e83fafb6b48d098193b4fd455086a",
       "version_major": 2,
       "version_minor": 0
      },
      "text/plain": [
       "  0%|          | 0/47035 [00:00<?, ?it/s]"
      ]
     },
     "metadata": {},
     "output_type": "display_data"
    }
   ],
   "source": [
    "area = 'all'\n",
    "\n",
    "unit_indices = run_data['run_params']['unit_indices'][area]\n",
    "T_pred = 5\n",
    "predictions = np.zeros((len(run_data['results'][area]), T_pred, len(unit_indices)))\n",
    "true_vals = np.zeros(predictions.shape)\n",
    "\n",
    "for i in tqdm(range(predictions.shape[0])):\n",
    "    row = run_data['results'][area].iloc[i]\n",
    "    start_step = int(run_data['run_params']['stride']*i/dt)\n",
    "    x0 = lfp[start_step + int(run_data['run_params']['window']/dt) - 1, unit_indices]\n",
    "\n",
    "    for t in range(T_pred):\n",
    "        if t == 0:\n",
    "            predictions[i, t] = np.concatenate([[1], x0]) @ row.A_mat_with_bias\n",
    "        else:\n",
    "            predictions[i, t] = np.concatenate([[1], predictions[i, t - 1]]) @ row.A_mat_with_bias\n",
    "            \n",
    "    true_vals[i] = lfp[start_step + int(run_data['run_params']['window']/dt):start_step + int(run_data['run_params']['window']/dt) + T_pred, unit_indices]\n",
    "\n",
    "step_mse = ((predictions - true_vals)**2).mean(axis=2)"
   ]
  },
  {
   "cell_type": "code",
   "execution_count": 103,
   "id": "013c7723",
   "metadata": {},
   "outputs": [
    {
     "data": {
      "image/png": "[encoded data removed]",
      "text/plain": [
       "<Figure size 432x288 with 1 Axes>"
      ]
     },
     "metadata": {
      "needs_background": "light"
     },
     "output_type": "display_data"
    }
   ],
   "source": [
    "# i = 90\n",
    "# unit_num = 5\n",
    "# plt.plot(predictions[i, :, unit_num])\n",
    "# plt.plot(true_vals[i, :, unit_num])\n",
    "# plt.show()\n",
    "\n",
    "time_in_trial = np.arange(step_mse.shape[0])*run_data['run_params']['stride']/60\n",
    "for t in range(4, -1, -1):\n",
    "    plt.plot(time_in_trial[1:], step_mse[1:, t], label=f\"{t + 1} steps ahead\")\n",
    "plt.legend()\n",
    "plt.xlabel(\"Time in Trial (min)\")\n",
    "plt.ylabel(\"MSE Across All Units\")\n",
    "plt.show()"
   ]
  }
 ],
 "metadata": {
  "kernelspec": {
   "display_name": "Python 3 (ipykernel)",
   "language": "python",
   "name": "python3"
  },
  "language_info": {
   "codemirror_mode": {
    "name": "ipython",
    "version": 3
   },
   "file_extension": ".py",
   "mimetype": "text/x-python",
   "name": "python",
   "nbconvert_exporter": "python",
   "pygments_lexer": "ipython3",
   "version": "3.9.1"
  }
 },
 "nbformat": 4,
 "nbformat_minor": 5
}
