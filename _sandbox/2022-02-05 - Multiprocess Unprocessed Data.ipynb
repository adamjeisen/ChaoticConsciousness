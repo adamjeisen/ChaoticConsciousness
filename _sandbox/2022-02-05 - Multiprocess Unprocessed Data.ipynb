{
 "cells": [
  {
   "cell_type": "code",
   "execution_count": 1,
   "id": "997b5b57",
   "metadata": {},
   "outputs": [],
   "source": [
    "%load_ext autoreload"
   ]
  },
  {
   "cell_type": "code",
   "execution_count": 2,
   "id": "0aeb3f25",
   "metadata": {},
   "outputs": [],
   "source": [
    "%autoreload 2\n",
    "import os\n",
    "import re\n",
    "import sys\n",
    "\n",
    "sys.path.append('..')\n",
    "from utils import get_result_path, split_data_into_windows"
   ]
  },
  {
   "cell_type": "code",
   "execution_count": 3,
   "id": "74ccf8dd",
   "metadata": {},
   "outputs": [],
   "source": [
    "data_dir = \"/om/user/eisenaj/datasets/anesthesia/mat/propofolPuffTone\"\n",
    "results_dir = \"/om/user/eisenaj/ChaoticConsciousness/results/propofolPuffTone/VAR\"\n",
    "window = 2.5\n",
    "stride = 2.5\n",
    "task_type = 'VAR'\n",
    "data_file_regex = re.compile(\".*.mat\")\n",
    "data_files = [f for f in os.listdir(data_dir) if data_file_regex.match(f)]\n",
    "\n",
    "sessions_to_run = []\n",
    "for data_file in data_files:\n",
    "    session = data_file[:-4]\n",
    "    try:\n",
    "        get_result_path(results_dir, session, window, stride)\n",
    "    except:\n",
    "        sessions_to_run.append(session)"
   ]
  },
  {
   "cell_type": "code",
   "execution_count": 4,
   "id": "7051c938",
   "metadata": {},
   "outputs": [
    {
     "name": "stdout",
     "output_type": "stream",
     "text": [
      "MrJones-Anesthesia-20160210-01\n",
      "Submitted batch job 23356927\n"
     ]
    }
   ],
   "source": [
    "for session in sessions_to_run:\n",
    "    print(f\"{session}\")\n",
    "    if not os.path.exists(os.path.join(data_dir, f\"{session}_window_{window}_stride_{stride}\")):\n",
    "        split_data_into_windows(session, os.path.dirname(data_dir), windows=[window], strides=[stride])\n",
    "    os.system(f'sbatch /om2/user/eisenaj/code/ChaoticConsciousness/shell_scripts/multiproc.sh {session} {window} {stride} {task_type}')"
   ]
  },
  {
   "cell_type": "markdown",
   "id": "e21dab0f",
   "metadata": {},
   "source": [
    "# Test"
   ]
  },
  {
   "cell_type": "code",
   "execution_count": 13,
   "id": "d415c433",
   "metadata": {},
   "outputs": [],
   "source": [
    "from utils import get_data_class\n",
    "import time\n",
    "from neural_analysis.matIO import loadmat"
   ]
  },
  {
   "cell_type": "code",
   "execution_count": null,
   "id": "5e103272",
   "metadata": {},
   "outputs": [
    {
     "name": "stdout",
     "output_type": "stream",
     "text": [
      "Loading data ...\n"
     ]
    }
   ],
   "source": [
    "# session = results_to_process[0][0]\n",
    "session = 'MrJones-Anesthesia-20160201-01'\n",
    "# VAR_results_dir = results_to_process[0][1]\n",
    "\n",
    "all_data_dir = f\"/om/user/eisenaj/datasets/anesthesia/mat\"\n",
    "    \n",
    "data_class = get_data_class(session, all_data_dir)\n",
    "save_dir = f\"/om/user/eisenaj/ChaoticConsciousness/plots/{data_class}/VAR/{session}\"\n",
    "os.makedirs(save_dir, exist_ok=True)\n",
    "\n",
    "# LOAD NEURAL DATA    \n",
    "filename = os.path.join(all_data_dir, data_class, f'{session}.mat')\n",
    "print(\"Loading data ...\")\n",
    "start = time.process_time()\n",
    "electrode_info, lfp, lfp_schema, session_info, spike_times, unit_info = loadmat(filename, variables=['electrodeInfo', 'lfp', 'lfpSchema', 'sessionInfo', 'spikeTimes', 'unitInfo'], verbose=False)\n",
    "spike_times = spike_times[0]\n",
    "dt = lfp_schema['smpInterval'][0]\n",
    "# T = lfp.shape[0]\n",
    "\n",
    "print(f\"Data loaded (took {time.process_time() - start:.2f} seconds)\")\n",
    "\n",
    "# # LOAD VAR RESULTS\n",
    "# VAR_results = {}\n",
    "# for file in tqdm(os.listdir(VAR_results_dir)):\n",
    "#     try:\n",
    "#         VAR_results[file] = load(os.path.join(VAR_results_dir, file))\n",
    "#     except IsADirectoryError:\n",
    "#         print(f\"Need to compile {os.path.join(VAR_results_dir, file)}\")\n",
    "#         # compile results\n",
    "#         VAR_results[file] = compile_folder(os.path.join(VAR_results_dir, file))"
   ]
  },
  {
   "cell_type": "code",
   "execution_count": null,
   "id": "dae1169e",
   "metadata": {},
   "outputs": [],
   "source": [
    "lfp.shape"
   ]
  },
  {
   "cell_type": "code",
   "execution_count": null,
   "id": "f4492b30",
   "metadata": {},
   "outputs": [],
   "source": [
    "leelectrode_info['area']"
   ]
  },
  {
   "cell_type": "code",
   "execution_count": null,
   "id": "b6240276",
   "metadata": {},
   "outputs": [],
   "source": []
  }
 ],
 "metadata": {
  "kernelspec": {
   "display_name": "Python 3 (ipykernel)",
   "language": "python",
   "name": "python3"
  },
  "language_info": {
   "codemirror_mode": {
    "name": "ipython",
    "version": 3
   },
   "file_extension": ".py",
   "mimetype": "text/x-python",
   "name": "python",
   "nbconvert_exporter": "python",
   "pygments_lexer": "ipython3",
   "version": "3.9.1"
  }
 },
 "nbformat": 4,
 "nbformat_minor": 5
}
