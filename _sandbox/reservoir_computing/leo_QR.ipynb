{
 "cells": [
  {
   "cell_type": "code",
   "execution_count": 1,
   "metadata": {},
   "outputs": [],
   "source": [
    "import numpy as np\n",
    "import matplotlib.pyplot as plt\n",
    "from scipy.integrate import odeint"
   ]
  },
  {
   "cell_type": "code",
   "execution_count": 2,
   "metadata": {},
   "outputs": [],
   "source": [
    "def lyap_spectrum_QR(Js,T):\n",
    "    K,n = Js.shape[0],Js.shape[-1]    \n",
    "    Q,R = np.linalg.qr(Js[0])\n",
    "    lyaps = np.zeros((n,))\n",
    "\n",
    "    for t in range(1,K):\n",
    "        Q = Js[t] @ Q\n",
    "        \n",
    "\n",
    "        # Need diagonal of R to be positive, so rewrite Q = Q @ S and R = S @ R, where S_ii = sign(R_ii)\n",
    "        S = np.diag(np.sign(np.diag(R)))\n",
    "        lyaps += np.log(np.diag(S @ R))\n",
    "        \n",
    "        Q = Q @ S\n",
    "\n",
    "        #add diagonal of R to running lyapunov spectrum estimate\n",
    "        \n",
    "        Q,R = np.linalg.qr(Q)\n",
    "\n",
    "    lyaps /= T\n",
    "    \n",
    "    return lyaps\n",
    "    \n",
    "    "
   ]
  },
  {
   "cell_type": "code",
   "execution_count": 3,
   "metadata": {},
   "outputs": [],
   "source": [
    "def lorenz(w,t, sigma, rho, beta):\n",
    "    \n",
    "    x,y,z = w[0],w[1],w[2]\n",
    "\n",
    "    x_dot = sigma*(y - x)\n",
    "    y_dot = x*(rho-z) - y\n",
    "    z_dot = x*y - beta*z\n",
    "    \n",
    "    w_dot = [x_dot,y_dot,z_dot] \n",
    "    \n",
    "\n",
    "    \n",
    "    return w_dot\n",
    "\n",
    "\n",
    "\n",
    "def get_lorenz_jacobian(sol,dt,sigma = 10, rho = 28,beta = 8/3):\n",
    "    num_steps = sol.shape[0]\n",
    "    Js = np.zeros((num_steps,3,3))\n",
    "    I = np.eye(3)\n",
    "    for t in range(num_steps):        \n",
    "        Js[t,0,:] = [-sigma,sigma,0]\n",
    "        Js[t,1,:] = [-sol[t,2]+ rho,-1,-sol[t,0]]\n",
    "        Js[t,2,:] = [sol[t,1],sol[t,0],-beta]\n",
    "        \n",
    "        Js[t] = I + dt*Js[t]\n",
    "        \n",
    "    return Js\n",
    "\n"
   ]
  },
  {
   "cell_type": "code",
   "execution_count": 4,
   "metadata": {},
   "outputs": [
    {
     "name": "stdout",
     "output_type": "stream",
     "text": [
      "[  0.84380306  -0.01622436 -14.52583331]\n"
     ]
    }
   ],
   "source": [
    "w0 = [.01,.01,.01]\n",
    "T = 100\n",
    "dt = .001\n",
    "K = int(T/dt)\n",
    "t = np.linspace(0, T, K)\n",
    "sol = odeint(lorenz, w0, t, args=(10, 28, 8/3))\n",
    "\n",
    "Js = get_lorenz_jacobian(sol,dt)\n",
    "lyaps = lyap_spectrum_QR(Js,T)\n",
    "print(lyaps)"
   ]
  },
  {
   "cell_type": "code",
   "execution_count": null,
   "metadata": {},
   "outputs": [],
   "source": []
  }
 ],
 "metadata": {
  "kernelspec": {
   "display_name": "Python 3",
   "language": "python",
   "name": "python3"
  },
  "language_info": {
   "codemirror_mode": {
    "name": "ipython",
    "version": 3
   },
   "file_extension": ".py",
   "mimetype": "text/x-python",
   "name": "python",
   "nbconvert_exporter": "python",
   "pygments_lexer": "ipython3",
   "version": "3.8.3"
  }
 },
 "nbformat": 4,
 "nbformat_minor": 5
}
