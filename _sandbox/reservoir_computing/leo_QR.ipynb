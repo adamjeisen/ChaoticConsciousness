{
 "cells": [
  {
   "cell_type": "code",
   "execution_count": 1,
   "id": "sudden-donor",
   "metadata": {},
   "outputs": [],
   "source": [
    "import numpy as np\n",
    "import matplotlib.pyplot as plt\n",
    "from scipy.integrate import odeint"
   ]
  },
  {
   "cell_type": "code",
   "execution_count": 17,
   "id": "lonely-manner",
   "metadata": {},
   "outputs": [],
   "source": [
    "def lyap_spectrum_QR(Js,T):\n",
    "    K,n = Js.shape[0],Js.shape[-1]    \n",
    "    old_Q = np.eye(n)\n",
    "    H = np.eye(n)\n",
    "    \n",
    "    lexp  = np.zeros(n,dtype=\"float32\")\n",
    "    lexp_counts = np.zeros(lexp.shape)\n",
    "\n",
    "    for t in range(K):\n",
    "   \n",
    "        \n",
    "        # QR-decomposition of T * old_Q\n",
    "        mat_Q, mat_R = np.linalg.qr(np.dot(Js[t], old_Q))\n",
    "        # force diagonal of R to be positive\n",
    "        # (if QR = A then also QLL'R = A with L' = L^-1)\n",
    "        sign_diag = np.sign(np.diag(mat_R))\n",
    "        sign_diag[np.where(sign_diag == 0)] = 1\n",
    "        sign_diag = np.diag(sign_diag)\n",
    "        mat_Q = np.dot(mat_Q, sign_diag)\n",
    "        mat_R = np.dot(sign_diag, mat_R)\n",
    "\n",
    "        old_Q = mat_Q\n",
    "        \n",
    "        # successively build sum for Lyapunov exponents\n",
    "        diag_R = np.diag(mat_R)\n",
    "        \n",
    "        # filter zeros in mat_R (would lead to -infs)\n",
    "        idx = np.where(diag_R > 0)\n",
    "        lexp_i = np.zeros(diag_R.shape, dtype=\"float32\")\n",
    "        lexp_i[idx] = np.log(diag_R[idx])\n",
    "        lexp_i[np.where(diag_R == 0)] = np.inf\n",
    "\n",
    "        lexp[idx] += lexp_i[idx]\n",
    "        lexp_counts[idx] += 1\n",
    "\n",
    "            \n",
    "\n",
    "\n",
    "    # it may happen that all R-matrices contained zeros => exponent really has\n",
    "    # to be -inf\n",
    "\n",
    "    # normalize exponents over number of individual mat_Rs\n",
    "    idx = np.where(lexp_counts > 0)\n",
    "    #lexp[idx] /= lexp_counts[idx]\n",
    "    lexp[np.where(lexp_counts == 0)] = np.inf\n",
    "\n",
    "    lexp /= T\n",
    "    \n",
    "    return lexp"
   ]
  },
  {
   "cell_type": "code",
   "execution_count": 18,
   "id": "steady-landscape",
   "metadata": {},
   "outputs": [],
   "source": [
    "def lorenz(w,t, sigma, rho, beta):\n",
    "    \n",
    "    x,y,z = w[0],w[1],w[2]\n",
    "\n",
    "    x_dot = sigma*(y - x)\n",
    "    y_dot = x*(rho-z) - y\n",
    "    z_dot = x*y - beta*z\n",
    "    \n",
    "    w_dot = [x_dot,y_dot,z_dot] \n",
    "    \n",
    "\n",
    "    \n",
    "    return w_dot\n",
    "\n",
    "\n",
    "\n",
    "def get_lorenz_jacobian(sol,dt,sigma = 10, rho = 28,beta = 8/3):\n",
    "    num_steps = sol.shape[0]\n",
    "    Js = np.zeros((num_steps,3,3))\n",
    "    \n",
    "    for t in range(num_steps):        \n",
    "        Js[t,0,:] = [-sigma,sigma,0]\n",
    "        Js[t,1,:] = [-sol[t,2]+ rho,-1,-sol[t,0]]\n",
    "        Js[t,2,:] = [sol[t,1],sol[t,0],-beta]\n",
    "        \n",
    "        Js[t] = I + dt*Js[t]\n",
    "        \n",
    "    return Js\n",
    "\n"
   ]
  },
  {
   "cell_type": "code",
   "execution_count": 20,
   "id": "raised-joining",
   "metadata": {},
   "outputs": [
    {
     "name": "stdout",
     "output_type": "stream",
     "text": [
      "[  0.87371343  -0.02062087 -14.552234  ]\n"
     ]
    }
   ],
   "source": [
    "w0 = [.01,.01,.01]\n",
    "T = 100 # s\n",
    "dt = .001\n",
    "K = int(T/dt)\n",
    "t = np.linspace(0, T, K)\n",
    "sol = odeint(lorenz, w0, t, args=(10, 28, 8/3))\n",
    "\n",
    "Js = get_lorenz_jacobian(sol,dt)\n",
    "lyaps = lyap_spectrum_QR(Js,T)\n",
    "print(lyaps)"
   ]
  },
  {
   "cell_type": "code",
   "execution_count": 6,
   "id": "metric-conversion",
   "metadata": {},
   "outputs": [
    {
     "data": {
      "text/plain": [
       "(100000, 3)"
      ]
     },
     "execution_count": 6,
     "metadata": {},
     "output_type": "execute_result"
    }
   ],
   "source": [
    "sol.shape"
   ]
  },
  {
   "cell_type": "code",
   "execution_count": 7,
   "id": "thirty-ethnic",
   "metadata": {},
   "outputs": [
    {
     "data": {
      "text/plain": [
       "100000.0"
      ]
     },
     "execution_count": 7,
     "metadata": {},
     "output_type": "execute_result"
    }
   ],
   "source": [
    "T/dt"
   ]
  },
  {
   "cell_type": "code",
   "execution_count": 9,
   "id": "elect-challenge",
   "metadata": {},
   "outputs": [
    {
     "data": {
      "text/plain": [
       "(100000, 3, 3)"
      ]
     },
     "execution_count": 9,
     "metadata": {},
     "output_type": "execute_result"
    }
   ],
   "source": [
    "Js.shape"
   ]
  },
  {
   "cell_type": "code",
   "execution_count": null,
   "id": "prerequisite-calvin",
   "metadata": {},
   "outputs": [],
   "source": []
  }
 ],
 "metadata": {
  "interpreter": {
   "hash": "551f8fa56fe102062c80b7c6decee7e748f1ad9cd72f25a3324b827369c0d4a3"
  },
  "kernelspec": {
   "display_name": "Python 3",
   "language": "python",
   "name": "python3"
  },
  "language_info": {
   "codemirror_mode": {
    "name": "ipython",
    "version": 3
   },
   "file_extension": ".py",
   "mimetype": "text/x-python",
   "name": "python",
   "nbconvert_exporter": "python",
   "pygments_lexer": "ipython3",
   "version": "3.8.5"
  }
 },
 "nbformat": 4,
 "nbformat_minor": 5
}
