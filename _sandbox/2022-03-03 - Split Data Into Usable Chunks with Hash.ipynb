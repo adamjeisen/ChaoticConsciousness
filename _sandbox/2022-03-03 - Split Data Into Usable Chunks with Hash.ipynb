{
 "cells": [
  {
   "cell_type": "code",
   "execution_count": 4,
   "id": "ddabe21e",
   "metadata": {},
   "outputs": [
    {
     "name": "stdout",
     "output_type": "stream",
     "text": [
      "The autoreload extension is already loaded. To reload it, use:\n",
      "  %reload_ext autoreload\n"
     ]
    }
   ],
   "source": [
    "%load_ext autoreload"
   ]
  },
  {
   "cell_type": "code",
   "execution_count": 10,
   "id": "1b1ac697",
   "metadata": {},
   "outputs": [],
   "source": [
    "%autoreload 2\n",
    "from collections import defaultdict\n",
    "from datetime import datetime\n",
    "import h5py\n",
    "import matplotlib.pyplot as plt\n",
    "from neural_analysis.matIO import loadmat\n",
    "import numpy as np\n",
    "import os\n",
    "import pandas as pd\n",
    "import re\n",
    "from scipy.signal import butter, filtfilt, freqz\n",
    "import shutil\n",
    "from sklearn.metrics import r2_score\n",
    "import sys\n",
    "import time\n",
    "from tqdm.auto import tqdm\n",
    "\n",
    "sys.path.append('..')\n",
    "from utils import get_data_class, load, save"
   ]
  },
  {
   "cell_type": "code",
   "execution_count": 6,
   "id": "9e9b3443",
   "metadata": {},
   "outputs": [],
   "source": [
    "## propofolPuffTone\n",
    "session = 'Mary-Anesthesia-20160809-01'\n",
    "# session = 'MrJones-Anesthesia-20160105-01'\n",
    "# session = 'Mary-Anesthesia-20160916-02'\n",
    "# session = 'MrJones-Anesthesia-20160301-01'\n",
    "# session = 'MrJones-Anesthesia-20160113-01'\n",
    "# session = 'Mary-Anesthesia-20160818-02'\n",
    "# session = 'MrJones-Anesthesia-20160121-01'\n",
    "\n",
    "## propofolWakeup\n",
    "# session = 'Mary-Anesthesia-20170203-02'\n",
    "\n",
    "## ketamine\n",
    "# session = 'Mary-Anesthesia-20170315-01'\n",
    "# session = 'MrJones-Anesthesia-20160805-01'\n",
    "# session = 'MrJones-Anesthesia-20160808-01'\n",
    "# session = 'Mary-Anesthesia-20170315-01'"
   ]
  },
  {
   "cell_type": "markdown",
   "id": "46091d60",
   "metadata": {},
   "source": [
    "## Load Neural Data"
   ]
  },
  {
   "cell_type": "code",
   "execution_count": 7,
   "id": "b7380542",
   "metadata": {},
   "outputs": [],
   "source": [
    "all_data_dir = f\"/om/user/eisenaj/datasets/anesthesia/mat\""
   ]
  },
  {
   "cell_type": "code",
   "execution_count": 11,
   "id": "9c5e00d2",
   "metadata": {},
   "outputs": [],
   "source": [
    "def save_lfp_chunks(session, all_data_dir, chunk_time_s=4*60):\n",
    "    all_data_dir = f\"/om/user/eisenaj/datasets/anesthesia/mat\"\n",
    "    data_class = get_data_class(session, all_data_dir)\n",
    "    \n",
    "    filename = os.path.join(all_data_dir, data_class, f'{session}.mat')\n",
    "    print(\"Loading data ...\")\n",
    "    start = time.process_time()\n",
    "    lfp, lfp_schema = loadmat(filename, variables=['lfp', 'lfpSchema'], verbose=False)\n",
    "    dt = lfp_schema['smpInterval'][0]\n",
    "    print(f\"Data loaded (took {time.process_time() - start:.2f} seconds)\")\n",
    "    \n",
    "    save_dir = os.path.join(all_data_dir, data_class, f\"{session}_lfp_chunked_{chunk_time_s}s\")\n",
    "    os.makedirs(save_dir, exist_ok=True)\n",
    "    \n",
    "    chunk_width = int(chunk_time_s/dt)\n",
    "    num_chunks = int(np.ceil(lfp.shape[0]/chunk_width))\n",
    "    directory = []\n",
    "    for i in tqdm(range(num_chunks)):\n",
    "        start_ind = i*chunk_width\n",
    "        end_ind = np.min([(i+1)*chunk_width, lfp.shape[0]])\n",
    "        chunk = lfp[start_ind:end_ind]\n",
    "        filepath = os.path.join(save_dir, f\"chunk_{i}\")\n",
    "        save(chunk, filepath)\n",
    "        directory.append(dict(\n",
    "            start_ind=start_ind,\n",
    "            end_ind=end_ind,\n",
    "            filepath=filepath\n",
    "        ))\n",
    "    \n",
    "    directory = pd.DataFrame(directory)\n",
    "    \n",
    "    save(directory, os.path.join(save_dir, \"directory\"))\n",
    "#         print(f\"Chunk: {start_ind/(1000*60)} min to {end_ind/(1000*60)} ([{start_ind}, {end_ind}])\")"
   ]
  },
  {
   "cell_type": "code",
   "execution_count": 12,
   "id": "ad32266a",
   "metadata": {},
   "outputs": [
    {
     "name": "stdout",
     "output_type": "stream",
     "text": [
      "Loading data ...\n",
      "Data loaded (took 206.72 seconds)\n"
     ]
    }
   ],
   "source": [
    "save_lfp_chunks(session, all_data_dir)"
   ]
  },
  {
   "cell_type": "code",
   "execution_count": null,
   "id": "f8e82aa1",
   "metadata": {},
   "outputs": [],
   "source": []
  }
 ],
 "metadata": {
  "kernelspec": {
   "display_name": "Python 3 (ipykernel)",
   "language": "python",
   "name": "python3"
  },
  "language_info": {
   "codemirror_mode": {
    "name": "ipython",
    "version": 3
   },
   "file_extension": ".py",
   "mimetype": "text/x-python",
   "name": "python",
   "nbconvert_exporter": "python",
   "pygments_lexer": "ipython3",
   "version": "3.9.1"
  }
 },
 "nbformat": 4,
 "nbformat_minor": 5
}
