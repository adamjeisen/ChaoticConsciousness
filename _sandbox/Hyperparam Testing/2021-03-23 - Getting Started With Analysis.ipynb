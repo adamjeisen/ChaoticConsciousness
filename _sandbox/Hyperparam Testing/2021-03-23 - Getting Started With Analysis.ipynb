{
 "cells": [
  {
   "cell_type": "code",
   "execution_count": 47,
   "metadata": {},
   "outputs": [],
   "source": [
    "import h5py\n",
    "import matplotlib.pyplot as plt\n",
    "import numpy as np\n",
    "from tqdm.notebook import tqdm"
   ]
  },
  {
   "cell_type": "markdown",
   "metadata": {},
   "source": [
    "## Functions"
   ]
  },
  {
   "cell_type": "code",
   "execution_count": 190,
   "metadata": {},
   "outputs": [],
   "source": [
    "# convert an HDF5 object reference or dataset to a string\n",
    "def to_string(obj, f):\n",
    "    if not isinstance(obj, h5py.Dataset):\n",
    "        obj = f[obj]\n",
    "    return ''.join([chr(int(i)) for i in obj[()]])\n",
    "\n",
    "# window, stride in ms\n",
    "def spike_times_to_firing_rate(spike_times, window=50, stride=10, test_duration=None, progress_bar=False):\n",
    "    if stride is None:\n",
    "        stride = window\n",
    "    if stride <= 0:\n",
    "        stride = window\n",
    "    \n",
    "    window = window*0.001\n",
    "    stride = stride*0.001\n",
    "    \n",
    "    if test_duration is None:\n",
    "        test_duration = spike_times[-1]\n",
    "    \n",
    "    num_time_bins = int(np.floor((test_duration - window)/stride) + 1)\n",
    "    \n",
    "    firing_rate = np.zeros(num_time_bins)\n",
    "    bin_location = np.zeros(num_time_bins)\n",
    "    if progress_bar:\n",
    "        iterator = tqdm(total = num_time_bins)\n",
    "    for b in range(num_time_bins - 1):\n",
    "        start = np.argmax(spike_times >= stride*b)\n",
    "        end = np.argmin(spike_times < stride*b + window)\n",
    "        firing_rate[b] = (end - start)/window\n",
    "        bin_location[b] = stride*b + stride/2\n",
    "        if progress_bar:\n",
    "            iterator.update()\n",
    "    \n",
    "    # last case is an anomaly\n",
    "    b = num_time_bins - 1\n",
    "    start = np.argmax(spike_times >= stride*b)\n",
    "    end = np.argmin(spike_times < stride*b + window)\n",
    "    if end == 0:\n",
    "        end = len(spike_times)\n",
    "    firing_rate[b] = (end - start)/window\n",
    "    bin_location[b] = stride*b + stride/2\n",
    "    if progress_bar:\n",
    "        iterator.update()\n",
    "        iterator.close()\n",
    "            \n",
    "    return firing_rate, bin_location"
   ]
  },
  {
   "cell_type": "markdown",
   "metadata": {},
   "source": [
    "## Load Data"
   ]
  },
  {
   "cell_type": "code",
   "execution_count": 191,
   "metadata": {},
   "outputs": [],
   "source": [
    "data_path = '/Users/adameisen/Documents/MIT/2021 Spring/Rotation_3_Earl_Miller/__data__/Mary-Anesthesia-20160809-01.mat'"
   ]
  },
  {
   "cell_type": "code",
   "execution_count": 192,
   "metadata": {},
   "outputs": [],
   "source": [
    "f = h5py.File(data_path, 'r')\n",
    "test_duration = f[f['lfpSchema']['index'][0, 0]][-1, 0]"
   ]
  },
  {
   "cell_type": "markdown",
   "metadata": {},
   "source": [
    "### Converting Spike Times to Firing Rates"
   ]
  },
  {
   "cell_type": "code",
   "execution_count": 300,
   "metadata": {},
   "outputs": [],
   "source": [
    "i = 1\n",
    "unit_spikes = f[f['spikeTimes'][i, 0]][:, 0]"
   ]
  },
  {
   "cell_type": "code",
   "execution_count": 309,
   "metadata": {},
   "outputs": [
    {
     "data": {
      "application/vnd.jupyter.widget-view+json": {
       "model_id": "b4d4aa974c0a4bd389b41fc8af536806",
       "version_major": 2,
       "version_minor": 0
      },
      "text/plain": [
       "HBox(children=(FloatProgress(value=0.0, max=28341.0), HTML(value='')))"
      ]
     },
     "metadata": {},
     "output_type": "display_data"
    },
    {
     "name": "stdout",
     "output_type": "stream",
     "text": [
      "\n"
     ]
    },
    {
     "data": {
      "image/png": "[encoded data removed]",
      "text/plain": [
       "<Figure size 432x288 with 1 Axes>"
      ]
     },
     "metadata": {
      "needs_background": "light"
     },
     "output_type": "display_data"
    }
   ],
   "source": [
    "firing_rate, bin_location = spike_times_to_firing_rate(unit_spikes, window=250, stride=None, test_duration=test_duration, progress_bar=True)\n",
    "# indices = np.logical_and(bin_location < 4500, bin_location > 4000)\n",
    "# indices = np.arange(len(firing_rate))\n",
    "# plt.plot(bin_location[indices], firing_rate[indices])\n",
    "plt.plot(bin_location[:-5], firing_rate[:-5])\n",
    "plt.xlabel('Time (s)')\n",
    "plt.ylabel('Firing Rate (Hz)')\n",
    "plt.show()"
   ]
  },
  {
   "cell_type": "code",
   "execution_count": 305,
   "metadata": {},
   "outputs": [
    {
     "data": {
      "text/plain": [
       "'vlPFC'"
      ]
     },
     "execution_count": 305,
     "metadata": {},
     "output_type": "execute_result"
    }
   ],
   "source": [
    "to_string(f['unitInfo']['area'][0, i], f)"
   ]
  },
  {
   "cell_type": "markdown",
   "metadata": {},
   "source": [
    "### Check if there are Air Puffs during drug administration"
   ]
  },
  {
   "cell_type": "code",
   "execution_count": 246,
   "metadata": {},
   "outputs": [],
   "source": [
    "smpInterval = f['lfpSchema']['smpInterval'][0, 0]"
   ]
  },
  {
   "cell_type": "code",
   "execution_count": 217,
   "metadata": {},
   "outputs": [
    {
     "name": "stdout",
     "output_type": "stream",
     "text": [
      "Mary-Anesthesia-20160809-01.reward\n",
      "Mary-Anesthesia-20160809-01.eyePosX\n",
      "Mary-Anesthesia-20160809-01.eyePosY\n",
      "Mary-Anesthesia-20160809-01.pupilSize\n",
      "Mary-Anesthesia-20160809-01.drugInfusion\n",
      "Mary-Anesthesia-20160809-01.bar\n",
      "Mary-Anesthesia-20160809-01.audio\n",
      "Mary-Anesthesia-20160809-01.airPuff\n",
      "Mary-Anesthesia-20160809-01.EEG\n",
      "Mary-Anesthesia-20160809-01.EMG\n",
      "Mary-Anesthesia-20160809-01.EEGbipolar\n",
      "Mary-Anesthesia-20160809-01.cereStim\n",
      "Mary-Anesthesia-20160809-01.SpO2\n",
      "Mary-Anesthesia-20160809-01.heartRate\n",
      "Mary-Anesthesia-20160809-01.cereStim_PPCSTG\n"
     ]
    }
   ],
   "source": [
    "ain_index = []\n",
    "for item in f[f['ainSchema']['index'][1, 0]][:, 0]:\n",
    "    ain_index.append(to_string(item, f))\n",
    "    print(ain_index[-1])"
   ]
  },
  {
   "cell_type": "code",
   "execution_count": 218,
   "metadata": {},
   "outputs": [],
   "source": [
    "def get_analog_chnl(f, chnl):\n",
    "    ain_index = []\n",
    "    for item in f[f['ainSchema']['index'][1, 0]][:, 0]:\n",
    "        ain_index.append(to_string(item, f))\n",
    "    chnl_index = np.argmax(np.array(ain_index) == f\"{to_string(f['sessionInfo']['session'], f)}.{chnl}\")\n",
    "    \n",
    "    return f['ain'][chnl_index]"
   ]
  },
  {
   "cell_type": "code",
   "execution_count": 226,
   "metadata": {},
   "outputs": [],
   "source": [
    "airPuff = get_analog_chnl(f, 'airPuff')"
   ]
  },
  {
   "cell_type": "code",
   "execution_count": 232,
   "metadata": {},
   "outputs": [],
   "source": [
    "drug_phase_1 = np.array([f['sessionInfo']['drugStart'][0, 0], f['sessionInfo']['drugEnd'][0, 0]])\n",
    "drug_phase_2 = np.array([f['sessionInfo']['drugStart'][1, 0], f['sessionInfo']['drugEnd'][1, 0]])"
   ]
  },
  {
   "cell_type": "code",
   "execution_count": 262,
   "metadata": {},
   "outputs": [
    {
     "data": {
      "image/png": "[encoded data removed]",
      "text/plain": [
       "<Figure size 1008x360 with 2 Axes>"
      ]
     },
     "metadata": {
      "needs_background": "light"
     },
     "output_type": "display_data"
    }
   ],
   "source": [
    "plt.figure(figsize=(14, 5))\n",
    "\n",
    "plt.subplot(1, 2, 1)\n",
    "start_step = int(np.round(drug_phase_1[0]/smpInterval))\n",
    "end_step = int(np.round(drug_phase_1[1]/smpInterval))\n",
    "time = np.linspace(drug_phase_1[0], drug_phase_1[1], end_step - start_step)\n",
    "plt.plot(time, airPuff[start_step:end_step])\n",
    "plt.xlabel('Time (s)')\n",
    "plt.ylabel('airPuff')\n",
    "plt.title('airPuff in Drug Phase 1')\n",
    "\n",
    "\n",
    "plt.subplot(1, 2, 2)\n",
    "start_step = int(np.round(drug_phase_2[0]/smpInterval))\n",
    "end_step = int(np.round(drug_phase_2[1]/smpInterval))\n",
    "time = np.linspace(drug_phase_2[0], drug_phase_2[1], end_step - start_step)\n",
    "plt.plot(time, airPuff[start_step:end_step])\n",
    "plt.xlabel('Time (s)')\n",
    "plt.ylabel('airPuff')\n",
    "plt.title('airPuff in Drug Phase 2')\n",
    "\n",
    "plt.show()"
   ]
  },
  {
   "cell_type": "code",
   "execution_count": null,
   "metadata": {},
   "outputs": [],
   "source": []
  }
 ],
 "metadata": {
  "kernelspec": {
   "display_name": "Python 3",
   "language": "python",
   "name": "python3"
  },
  "language_info": {
   "codemirror_mode": {
    "name": "ipython",
    "version": 3
   },
   "file_extension": ".py",
   "mimetype": "text/x-python",
   "name": "python",
   "nbconvert_exporter": "python",
   "pygments_lexer": "ipython3",
   "version": "3.8.3"
  }
 },
 "nbformat": 4,
 "nbformat_minor": 4
}
