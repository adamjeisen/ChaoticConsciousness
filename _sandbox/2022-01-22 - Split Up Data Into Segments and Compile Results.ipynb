{
 "cells": [
  {
   "cell_type": "code",
   "execution_count": 1,
   "id": "ddabe21e",
   "metadata": {},
   "outputs": [],
   "source": [
    "%load_ext autoreload"
   ]
  },
  {
   "cell_type": "code",
   "execution_count": 32,
   "id": "1b1ac697",
   "metadata": {},
   "outputs": [],
   "source": [
    "%autoreload 2\n",
    "from collections import defaultdict\n",
    "from datetime import datetime\n",
    "import h5py\n",
    "import matplotlib.pyplot as plt\n",
    "from neural_analysis.matIO import loadmat\n",
    "import numpy as np\n",
    "import os\n",
    "import pandas as pd\n",
    "from scipy.signal import butter, filtfilt, freqz\n",
    "from scipy.stats import pearsonr\n",
    "import shutil\n",
    "import sys\n",
    "import time\n",
    "from tqdm.auto import tqdm\n",
    "\n",
    "sys.path.append('../')\n",
    "from ld_utils import compute_eigs, get_data_sigma_norms\n",
    "from up_down import get_up_down\n",
    "from utils import get_binary_stimuli, get_sample_interval, load, save, to_string"
   ]
  },
  {
   "cell_type": "markdown",
   "id": "46091d60",
   "metadata": {},
   "source": [
    "## Load Neural Data and Split Into Segments"
   ]
  },
  {
   "cell_type": "code",
   "execution_count": 4,
   "id": "3cc3760f",
   "metadata": {},
   "outputs": [
    {
     "name": "stdout",
     "output_type": "stream",
     "text": [
      "Loading data ...\n",
      "Data loaded (took 129.32 seconds)\n"
     ]
    }
   ],
   "source": [
    "session = 'Mary-Anesthesia-20160809-01'\n",
    "# session = 'MrJones-Anesthesia-20160113-01.mat'\n",
    "# filename = fr'/home/adameisen/millerdata/common/datasets/anesthesia/mat/propofolPuffTone/{session}.mat'\n",
    "filename = fr'/om/user/eisenaj/ChaoticConsciousness/data/propofolPuffTone/{session}.mat'\n",
    "print(\"Loading data ...\")\n",
    "start = time.process_time()\n",
    "electrode_info, lfp, lfp_schema, session_info, spike_times, unit_info = loadmat(filename, variables=['electrodeInfo', 'lfp', 'lfpSchema', 'sessionInfo', 'spikeTimes', 'unitInfo'], verbose=False)\n",
    "spike_times = spike_times[0]\n",
    "dt = lfp_schema['smpInterval'][0]\n",
    "T = lfp.shape[0]\n",
    "\n",
    "# f = h5py.File(filename, 'r')\n",
    "# airPuff_binary, audio_binary = get_binary_stimuli(f)\n",
    "\n",
    "print(f\"Data loaded (took {time.process_time() - start:.2f} seconds)\")"
   ]
  },
  {
   "cell_type": "code",
   "execution_count": 11,
   "id": "476e4180",
   "metadata": {},
   "outputs": [
    {
     "name": "stdout",
     "output_type": "stream",
     "text": [
      "window = 2.5 s\n"
     ]
    },
    {
     "data": {
      "application/vnd.jupyter.widget-view+json": {
       "model_id": "a728703efb304ca3b8ecc71a5cc40445",
       "version_major": 2,
       "version_minor": 0
      },
      "text/plain": [
       "  0%|          | 0/2822 [00:00<?, ?it/s]"
      ]
     },
     "metadata": {},
     "output_type": "display_data"
    }
   ],
   "source": [
    "end_step = T - int(30/dt) # take off 30 seconds\n",
    "data = lfp[:end_step]\n",
    "for window in [2.5]:\n",
    "    stride = 2.5\n",
    "      \n",
    "    data_dir = f\"/om/user/eisenaj/ChaoticConsciousness/data/propofolPuffTone/{session}_window_{window}_stride_{stride}\"\n",
    "    os.makedirs(data_path, exist_ok=True)\n",
    "    \n",
    "    print(f\"window = {window} s\")\n",
    "    num_windows = int(end_step/int(stride/dt))\n",
    "    for i in tqdm(range(num_windows)):\n",
    "        start = int(stride/dt)*i\n",
    "        end = int(stride/dt)*i + int(window/dt)\n",
    "        window_data = data[start:end]\n",
    "        \n",
    "        window_dict = {'data': window_data, 'start_ind': start, 'start_time': start*dt, 'end_ind': end, 'end_time': end*dt}\n",
    "        save(window_dict, os.path.join(data_dir, f\"window_{i}\"))\n",
    "        \n",
    "#         print(f\"start = {start}, end = {end}\")"
   ]
  },
  {
   "cell_type": "markdown",
   "id": "1ce57ad2",
   "metadata": {},
   "source": [
    "## Compile Results and Save"
   ]
  },
  {
   "cell_type": "code",
   "execution_count": 13,
   "id": "223898aa",
   "metadata": {},
   "outputs": [],
   "source": [
    "folder_to_compile = \"/om/user/eisenaj/ChaoticConsciousness/results/propofol/correlations/correlations_Mary-Anesthesia-20160809-01_window_2.5_stride_2.5\"\n",
    "assert os.path.exists(folder_to_compile)"
   ]
  },
  {
   "cell_type": "code",
   "execution_count": 16,
   "id": "dc4c6bfc",
   "metadata": {},
   "outputs": [
    {
     "data": {
      "application/vnd.jupyter.widget-view+json": {
       "model_id": "8100cc407174404fac94a3d4da15ba28",
       "version_major": 2,
       "version_minor": 0
      },
      "text/plain": [
       "  0%|          | 0/2822 [00:00<?, ?it/s]"
      ]
     },
     "metadata": {},
     "output_type": "display_data"
    }
   ],
   "source": [
    "files = os.listdir(folder_to_compile)\n",
    "\n",
    "all_window_data = []\n",
    "for file in tqdm(files):\n",
    "    window_data = load(os.path.join(folder_to_compile, file))\n",
    "    del window_data['data']\n",
    "    all_window_data.append(window_data) "
   ]
  },
  {
   "cell_type": "code",
   "execution_count": 29,
   "id": "907a077d",
   "metadata": {},
   "outputs": [],
   "source": [
    "results_df = pd.DataFrame(all_window_data)"
   ]
  },
  {
   "cell_type": "code",
   "execution_count": 30,
   "id": "5acb1946",
   "metadata": {},
   "outputs": [],
   "source": [
    "results_df = results_df.sort_values('start_ind')\n",
    "results_df = results_df.reset_index(drop=True)"
   ]
  },
  {
   "cell_type": "code",
   "execution_count": 33,
   "id": "84c31b21",
   "metadata": {},
   "outputs": [],
   "source": [
    "shutil.rmtree(folder_to_compile)"
   ]
  },
  {
   "cell_type": "code",
   "execution_count": 34,
   "id": "06210b64",
   "metadata": {},
   "outputs": [],
   "source": [
    "save(results_df, folder_to_compile)"
   ]
  },
  {
   "cell_type": "code",
   "execution_count": null,
   "id": "9215fb6c",
   "metadata": {},
   "outputs": [],
   "source": []
  }
 ],
 "metadata": {
  "kernelspec": {
   "display_name": "Python 3 (ipykernel)",
   "language": "python",
   "name": "python3"
  },
  "language_info": {
   "codemirror_mode": {
    "name": "ipython",
    "version": 3
   },
   "file_extension": ".py",
   "mimetype": "text/x-python",
   "name": "python",
   "nbconvert_exporter": "python",
   "pygments_lexer": "ipython3",
   "version": "3.9.1"
  }
 },
 "nbformat": 4,
 "nbformat_minor": 5
}
