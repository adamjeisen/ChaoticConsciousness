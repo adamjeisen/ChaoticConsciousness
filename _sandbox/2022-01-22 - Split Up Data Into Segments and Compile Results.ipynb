{
 "cells": [
  {
   "cell_type": "code",
   "execution_count": 1,
   "id": "ddabe21e",
   "metadata": {},
   "outputs": [],
   "source": [
    "%load_ext autoreload"
   ]
  },
  {
   "cell_type": "code",
   "execution_count": 2,
   "id": "1b1ac697",
   "metadata": {},
   "outputs": [],
   "source": [
    "%autoreload 2\n",
    "from collections import defaultdict\n",
    "from datetime import datetime\n",
    "import h5py\n",
    "import matplotlib.pyplot as plt\n",
    "from neural_analysis.matIO import loadmat\n",
    "import numpy as np\n",
    "import os\n",
    "import pandas as pd\n",
    "from scipy.signal import butter, filtfilt, freqz\n",
    "from scipy.stats import pearsonr\n",
    "import shutil\n",
    "import sys\n",
    "import time\n",
    "from tqdm.auto import tqdm\n",
    "\n",
    "sys.path.append('../')\n",
    "from ld_utils import compute_eigs, get_data_sigma_norms\n",
    "from up_down import get_up_down\n",
    "from utils import get_binary_stimuli, get_sample_interval, load, save, to_string"
   ]
  },
  {
   "cell_type": "code",
   "execution_count": 3,
   "id": "da226558",
   "metadata": {},
   "outputs": [],
   "source": [
    "# session = 'Mary-Anesthesia-20160809-01'\n",
    "session = 'Mary-Anesthesia-20170203-02'"
   ]
  },
  {
   "cell_type": "markdown",
   "id": "46091d60",
   "metadata": {},
   "source": [
    "## Load Neural Data and Split Into Segments"
   ]
  },
  {
   "cell_type": "code",
   "execution_count": 4,
   "id": "46fa4e14",
   "metadata": {},
   "outputs": [],
   "source": [
    "all_data_dir = f\"/om/user/eisenaj/ChaoticConsciousness/data\"\n",
    "for (dirpath, dirnames, filenames) in os.walk(all_data_dir):\n",
    "    if f\"{session}.mat\" in filenames:\n",
    "        data_class = os.path.basename(dirpath)\n",
    "        break"
   ]
  },
  {
   "cell_type": "code",
   "execution_count": 4,
   "id": "3cc3760f",
   "metadata": {},
   "outputs": [
    {
     "name": "stdout",
     "output_type": "stream",
     "text": [
      "Loading data ...\n",
      "Data loaded (took 202.74 seconds)\n"
     ]
    }
   ],
   "source": [
    "filename = os.path.join(all_data_dir, data_class, f'{session}.mat')\n",
    "print(\"Loading data ...\")\n",
    "start = time.process_time()\n",
    "electrode_info, lfp, lfp_schema, session_info, spike_times, unit_info = loadmat(filename, variables=['electrodeInfo', 'lfp', 'lfpSchema', 'sessionInfo', 'spikeTimes', 'unitInfo'], verbose=False)\n",
    "spike_times = spike_times[0]\n",
    "dt = lfp_schema['smpInterval'][0]\n",
    "T = lfp.shape[0]\n",
    "\n",
    "# f = h5py.File(filename, 'r')\n",
    "# airPuff_binary, audio_binary = get_binary_stimuli(f)\n",
    "\n",
    "print(f\"Data loaded (took {time.process_time() - start:.2f} seconds)\")"
   ]
  },
  {
   "cell_type": "code",
   "execution_count": 6,
   "id": "476e4180",
   "metadata": {},
   "outputs": [
    {
     "name": "stdout",
     "output_type": "stream",
     "text": [
      "window = 2.5 s\n"
     ]
    },
    {
     "data": {
      "application/vnd.jupyter.widget-view+json": {
       "model_id": "61fbf898778c4e1b80ea86048124e09c",
       "version_major": 2,
       "version_minor": 0
      },
      "text/plain": [
       "  0%|          | 0/4141 [00:00<?, ?it/s]"
      ]
     },
     "metadata": {},
     "output_type": "display_data"
    }
   ],
   "source": [
    "end_step = T - int(30/dt) # take off 30 seconds\n",
    "data = lfp[:end_step]\n",
    "for window in [2.5]:\n",
    "    stride = 2.5\n",
    "      \n",
    "    data_dir = f\"/om/user/eisenaj/ChaoticConsciousness/data/{data_class}/{session}_window_{window}_stride_{stride}\"\n",
    "    os.makedirs(data_dir, exist_ok=True)\n",
    "    \n",
    "    print(f\"window = {window} s\")\n",
    "    num_windows = int(end_step/int(stride/dt))\n",
    "    for i in tqdm(range(num_windows)):\n",
    "        start = int(stride/dt)*i\n",
    "        end = int(stride/dt)*i + int(window/dt)\n",
    "        window_data = data[start:end]\n",
    "        \n",
    "        window_dict = {'data': window_data, 'start_ind': start, 'start_time': start*dt, 'end_ind': end, 'end_time': end*dt}\n",
    "        save(window_dict, os.path.join(data_dir, f\"window_{i}\"))\n",
    "        \n",
    "#         print(f\"start = {start}, end = {end}\")"
   ]
  },
  {
   "cell_type": "markdown",
   "id": "1ce57ad2",
   "metadata": {},
   "source": [
    "## Compile Results and Save"
   ]
  },
  {
   "cell_type": "code",
   "execution_count": 3,
   "id": "223898aa",
   "metadata": {},
   "outputs": [],
   "source": [
    "folder_to_compile = \"/om/user/eisenaj/ChaoticConsciousness/results/propofol/causality/causality_Mary-Anesthesia-20160809-01_window_2.5_stride_2.5\"\n",
    "assert os.path.exists(folder_to_compile)"
   ]
  },
  {
   "cell_type": "code",
   "execution_count": 7,
   "id": "dc4c6bfc",
   "metadata": {},
   "outputs": [],
   "source": [
    "def compile_folder(folder_to_compile):\n",
    "    files = os.listdir(folder_to_compile)\n",
    "\n",
    "    all_window_data = []\n",
    "    for file in tqdm(files):\n",
    "        window_data = load(os.path.join(folder_to_compile, file))\n",
    "        all_window_data.append(window_data) \n",
    "\n",
    "    results_df = pd.DataFrame(all_window_data)\n",
    "\n",
    "    results_df = results_df.sort_values('start_ind')\n",
    "    results_df = results_df.reset_index(drop=True)\n",
    "\n",
    "    shutil.rmtree(folder_to_compile)\n",
    "\n",
    "    save(results_df, folder_to_compile)"
   ]
  },
  {
   "cell_type": "code",
   "execution_count": 8,
   "id": "35bcfe1d",
   "metadata": {},
   "outputs": [
    {
     "data": {
      "application/vnd.jupyter.widget-view+json": {
       "model_id": "a492ffea854c486f821c39c9daffe8f2",
       "version_major": 2,
       "version_minor": 0
      },
      "text/plain": [
       "  0%|          | 0/6 [00:00<?, ?it/s]"
      ]
     },
     "metadata": {},
     "output_type": "display_data"
    },
    {
     "data": {
      "application/vnd.jupyter.widget-view+json": {
       "model_id": "0141970dc84647cbb591120e26539f0d",
       "version_major": 2,
       "version_minor": 0
      },
      "text/plain": [
       "  0%|          | 0/4141 [00:00<?, ?it/s]"
      ]
     },
     "metadata": {},
     "output_type": "display_data"
    },
    {
     "data": {
      "application/vnd.jupyter.widget-view+json": {
       "model_id": "704a675fc56444008470fd4fcd63b7e4",
       "version_major": 2,
       "version_minor": 0
      },
      "text/plain": [
       "  0%|          | 0/4141 [00:00<?, ?it/s]"
      ]
     },
     "metadata": {},
     "output_type": "display_data"
    },
    {
     "data": {
      "application/vnd.jupyter.widget-view+json": {
       "model_id": "547c863deacb4407a3905f22d2388d78",
       "version_major": 2,
       "version_minor": 0
      },
      "text/plain": [
       "  0%|          | 0/4141 [00:00<?, ?it/s]"
      ]
     },
     "metadata": {},
     "output_type": "display_data"
    },
    {
     "data": {
      "application/vnd.jupyter.widget-view+json": {
       "model_id": "99627c5965174f1c96d54764ed643333",
       "version_major": 2,
       "version_minor": 0
      },
      "text/plain": [
       "  0%|          | 0/4141 [00:00<?, ?it/s]"
      ]
     },
     "metadata": {},
     "output_type": "display_data"
    },
    {
     "data": {
      "application/vnd.jupyter.widget-view+json": {
       "model_id": "ae9981ba622e4df0b3f145fb6268b54a",
       "version_major": 2,
       "version_minor": 0
      },
      "text/plain": [
       "  0%|          | 0/4141 [00:00<?, ?it/s]"
      ]
     },
     "metadata": {},
     "output_type": "display_data"
    },
    {
     "data": {
      "application/vnd.jupyter.widget-view+json": {
       "model_id": "fa26273520b74c09b9a9332d12931252",
       "version_major": 2,
       "version_minor": 0
      },
      "text/plain": [
       "  0%|          | 0/4141 [00:00<?, ?it/s]"
      ]
     },
     "metadata": {},
     "output_type": "display_data"
    }
   ],
   "source": [
    "results_dir = \"/om/user/eisenaj/ChaoticConsciousness/results/propofolWakeup/VAR/VAR_Mary-Anesthesia-20170203-02_window_2.5_stride_2.5\"\n",
    "for folder in tqdm(os.listdir(results_dir)):\n",
    "    compile_folder(os.path.join(results_dir, folder))"
   ]
  },
  {
   "cell_type": "code",
   "execution_count": null,
   "id": "12957138",
   "metadata": {},
   "outputs": [],
   "source": []
  }
 ],
 "metadata": {
  "kernelspec": {
   "display_name": "Python 3 (ipykernel)",
   "language": "python",
   "name": "python3"
  },
  "language_info": {
   "codemirror_mode": {
    "name": "ipython",
    "version": 3
   },
   "file_extension": ".py",
   "mimetype": "text/x-python",
   "name": "python",
   "nbconvert_exporter": "python",
   "pygments_lexer": "ipython3",
   "version": "3.9.1"
  }
 },
 "nbformat": 4,
 "nbformat_minor": 5
}
