{
 "cells": [
  {
   "cell_type": "code",
   "execution_count": 1,
   "id": "8a49507d",
   "metadata": {},
   "outputs": [],
   "source": [
    "%load_ext autoreload"
   ]
  },
  {
   "cell_type": "code",
   "execution_count": 2,
   "id": "3e2872e2",
   "metadata": {},
   "outputs": [],
   "source": [
    "%autoreload 2\n",
    "\n",
    "import argparse\n",
    "from copy import deepcopy\n",
    "import logging\n",
    "from matplotlib.cm import get_cmap, ScalarMappable\n",
    "from matplotlib.colors import Normalize\n",
    "import matplotlib.pyplot as plt\n",
    "import pandas as pd\n",
    "import scipy\n",
    "from scipy.fftpack import  fft, ifft, ifftshift\n",
    "from scipy.signal import correlate\n",
    "from sklearn.metrics import r2_score\n",
    "import sys\n",
    "from tqdm.auto import tqdm\n",
    "\n",
    "sys.path.append('..')\n",
    "\n",
    "from data_utils import *\n",
    "\n",
    "sys.path.append('../../DeLASE')\n",
    "from delase import *\n",
    "from stability_estimation import *\n",
    "from parameter_choosing import *\n",
    "from performance_metrics import *\n",
    "from plot import *"
   ]
  },
  {
   "cell_type": "markdown",
   "id": "efa6cc0e",
   "metadata": {},
   "source": [
    "# Load Chaotic Net Data"
   ]
  },
  {
   "cell_type": "code",
   "execution_count": 6,
   "id": "aca72b8a",
   "metadata": {},
   "outputs": [],
   "source": [
    "run_num = 0\n",
    "chaotic_net_folder = \"/scratch2/weka/millerlab/eisenaj/ChaoticConsciousness/chaotic_nets/chaotic_nets_multirun\""
   ]
  },
  {
   "cell_type": "code",
   "execution_count": 7,
   "id": "837d6b7e",
   "metadata": {},
   "outputs": [],
   "source": [
    "window = 500\n",
    "transient = 2000\n",
    "N = 512\n",
    "num_indices = 50\n",
    "T = 20000\n",
    "noise_sd = 0.1"
   ]
  },
  {
   "cell_type": "markdown",
   "id": "5b119c1f",
   "metadata": {},
   "source": [
    "# Analyze"
   ]
  },
  {
   "cell_type": "code",
   "execution_count": 8,
   "id": "c741272f",
   "metadata": {},
   "outputs": [
    {
     "data": {
      "application/vnd.jupyter.widget-view+json": {
       "model_id": "c1e599d516a149a7aff719dd079359f9",
       "version_major": 2,
       "version_minor": 0
      },
      "text/plain": [
       "  0%|          | 0/21 [00:00<?, ?it/s]"
      ]
     },
     "metadata": {},
     "output_type": "display_data"
    }
   ],
   "source": [
    "run_files = [f for f in os.listdir(chaotic_net_folder) if not f.endswith('DeLASE') and 'VAR' not in f]\n",
    "\n",
    "for f in tqdm(run_files):\n",
    "    if f == \"RUN_ORIG\":\n",
    "            np.random.seed(41)\n",
    "    else:\n",
    "        np.random.seed(42 + int(f.split('_')[1]))\n",
    "\n",
    "    run_ret = pd.read_pickle(os.path.join(chaotic_net_folder, f))\n",
    "\n",
    "    indices = np.random.choice(np.arange(N), size=(num_indices, ), replace=False)\n",
    "\n",
    "    full_signals = run_ret['signals']\n",
    "    signals = {key: full_signal[:, indices] for key, full_signal in full_signals.items()}\n",
    "\n",
    "    for key, signal in signals.items():\n",
    "        signals[key] += np.random.randn(T, len(indices))*noise_sd\n",
    "\n",
    "    A_mats = {}\n",
    "    eigvals = {}\n",
    "    for key, signal in signals.items():\n",
    "        signal = signals[key][transient:transient + window]\n",
    "        A = np.linalg.lstsq(signal[:-1], signal[1:], rcond=1e-20)[0].T\n",
    "        A_mats[key] = A\n",
    "        eigvals[key] = np.sort(np.abs(np.linalg.eigvals(A)))[::-1]\n",
    "\n",
    "    ret = dict(\n",
    "        A_mats=A_mats,\n",
    "        eigvals=eigvals,\n",
    "        lyaps=run_ret['lyaps']\n",
    "    )\n",
    "\n",
    "    pd.to_pickle(ret, os.path.join(chaotic_net_folder, f + \"_VAR_small\"))"
   ]
  },
  {
   "cell_type": "markdown",
   "id": "a48135c4",
   "metadata": {},
   "source": [
    "# Plot"
   ]
  },
  {
   "cell_type": "code",
   "execution_count": 9,
   "id": "a8806b54",
   "metadata": {},
   "outputs": [],
   "source": [
    "g_min = 1.1\n",
    "g_max = 1.8 \n"
   ]
  },
  {
   "cell_type": "code",
   "execution_count": 10,
   "id": "260d3290",
   "metadata": {},
   "outputs": [],
   "source": [
    "run_files = [f for f in os.listdir(chaotic_net_folder) if not f.endswith('DeLASE') and 'VAR' not in f]\n",
    "all_rets = []\n",
    "for f in run_files:\n",
    "    all_rets.append(pd.read_pickle(os.path.join(chaotic_net_folder, f + \"_VAR_small\")))"
   ]
  },
  {
   "cell_type": "code",
   "execution_count": 11,
   "id": "55f89956",
   "metadata": {},
   "outputs": [],
   "source": [
    "g_vals = np.array(list(all_rets[0]['lyaps'].keys()))\n",
    "g_vals = g_vals[(g_vals >= g_min) & (g_vals <= g_max)]"
   ]
  },
  {
   "cell_type": "code",
   "execution_count": 12,
   "id": "fd83bc77",
   "metadata": {},
   "outputs": [],
   "source": [
    "top_percent = 0.1"
   ]
  },
  {
   "cell_type": "code",
   "execution_count": 13,
   "id": "08334920",
   "metadata": {},
   "outputs": [],
   "source": [
    "k = len(g_vals)\n",
    "mean_lyaps = np.zeros(k)\n",
    "mean_stab = np.zeros(k)\n",
    "# mean_nonnorm = np.zeros(k)\n",
    "\n",
    "counts_lyaps = np.zeros(k)\n",
    "counts_stab = np.zeros(k)\n",
    "# counts_nonnorm = np.zeros(k)\n",
    "\n",
    "for ret in all_rets:\n",
    "    mean_lyaps += np.array([ret['lyaps'][key][0] for key in g_vals])\n",
    "    counts_lyaps += 1\n",
    "    \n",
    "    mean_stab += np.array([ret['eigvals'][key][:int(top_percent*len(ret['eigvals'][key]))].sum() for key in g_vals])\n",
    "    counts_stab += np.array([int(top_percent*len(ret['eigvals'][key])) for key in g_vals])\n",
    "    \n",
    "#     mean_nonnorm += np.array([ret['nonnormalities'][key] for key in g_vals])\n",
    "#     counts_nonnorm += 1\n",
    "    \n",
    "mean_lyaps /= counts_lyaps\n",
    "mean_stab /= counts_stab\n",
    "# mean_nonnorm /= counts_nonnorm"
   ]
  },
  {
   "cell_type": "code",
   "execution_count": 14,
   "id": "9793ab56",
   "metadata": {},
   "outputs": [],
   "source": [
    "\n",
    "se_lyaps = np.zeros(k)\n",
    "se_stab = np.zeros(k)\n",
    "# se_nonnorm = np.zeros(k)\n",
    "\n",
    "for ret in all_rets:\n",
    "    se_lyaps += (np.array([ret['lyaps'][key][0] for key in g_vals]) - mean_lyaps)**2\n",
    "    \n",
    "    se_stab +=  np.array([((ret['eigvals'][key][:int(top_percent*len(ret['eigvals'][key]))] - mean_stab[np.where(g_vals == key)[0]])**2).sum() for key in g_vals])\n",
    "    \n",
    "#     se_nonnorm += (np.array([ret['nonnormalities'][key] for key in g_vals]) - mean_nonnorm)**2\n",
    "\n",
    "se_lyaps /= counts_lyaps\n",
    "se_lyaps = np.sqrt(se_lyaps)\n",
    "se_lyaps /= np.sqrt(counts_lyaps)\n",
    "\n",
    "se_stab /= counts_stab\n",
    "se_stab = np.sqrt(se_stab)\n",
    "se_stab /= np.sqrt(counts_stab)\n",
    "\n",
    "# se_nonnorm /= counts_nonnorm\n",
    "# se_nonnorm = np.sqrt(se_nonnorm)\n",
    "# se_nonnorm /= np.sqrt(counts_nonnorm)"
   ]
  },
  {
   "cell_type": "code",
   "execution_count": 15,
   "id": "cafcb5da",
   "metadata": {},
   "outputs": [
    {
     "ename": "NameError",
     "evalue": "name 'all_rets_delase' is not defined",
     "output_type": "error",
     "traceback": [
      "\u001b[0;31m---------------------------------------------------------------------------\u001b[0m",
      "\u001b[0;31mNameError\u001b[0m                                 Traceback (most recent call last)",
      "Input \u001b[0;32mIn [15]\u001b[0m, in \u001b[0;36m<cell line: 10>\u001b[0;34m()\u001b[0m\n\u001b[1;32m      7\u001b[0m counts_stab_delase \u001b[38;5;241m=\u001b[39m np\u001b[38;5;241m.\u001b[39mzeros(k)\n\u001b[1;32m      8\u001b[0m \u001b[38;5;66;03m# counts_nonnorm = np.zeros(k)\u001b[39;00m\n\u001b[0;32m---> 10\u001b[0m \u001b[38;5;28;01mfor\u001b[39;00m ret \u001b[38;5;129;01min\u001b[39;00m \u001b[43mall_rets_delase\u001b[49m:\n\u001b[1;32m     11\u001b[0m     mean_lyaps_delase \u001b[38;5;241m+\u001b[39m\u001b[38;5;241m=\u001b[39m np\u001b[38;5;241m.\u001b[39marray([ret[\u001b[38;5;124m'\u001b[39m\u001b[38;5;124mlyaps\u001b[39m\u001b[38;5;124m'\u001b[39m][key] \u001b[38;5;28;01mfor\u001b[39;00m key \u001b[38;5;129;01min\u001b[39;00m g_vals])\n\u001b[1;32m     12\u001b[0m     counts_lyaps_delase \u001b[38;5;241m+\u001b[39m\u001b[38;5;241m=\u001b[39m \u001b[38;5;241m1\u001b[39m\n",
      "\u001b[0;31mNameError\u001b[0m: name 'all_rets_delase' is not defined"
     ]
    }
   ],
   "source": [
    "k = len(g_vals)\n",
    "mean_lyaps_delase = np.zeros(k)\n",
    "mean_stab_delase = np.zeros(k)\n",
    "# mean_nonnorm = np.zeros(k)\n",
    "\n",
    "counts_lyaps_delase = np.zeros(k)\n",
    "counts_stab_delase = np.zeros(k)\n",
    "# counts_nonnorm = np.zeros(k)\n",
    "\n",
    "for ret in all_rets_delase:\n",
    "    mean_lyaps_delase += np.array([ret['lyaps'][key] for key in g_vals])\n",
    "    counts_lyaps_delase += 1\n",
    "    \n",
    "    mean_stab_delase += np.array([ret['stab_curves'][key][:int(top_percent*len(ret['stab_curves'][key]))].sum() for key in g_vals])\n",
    "    counts_stab_delase += np.array([int(top_percent*len(ret['stab_curves'][key])) for key in g_vals])\n",
    "    \n",
    "#     mean_nonnorm += np.array([ret['nonnormalities'][key] for key in g_vals])\n",
    "#     counts_nonnorm += 1\n",
    "    \n",
    "mean_lyaps_delase /= counts_lyaps_delase\n",
    "mean_stab_delase /= counts_stab_delase\n",
    "# mean_nonnorm /= counts_nonnorm"
   ]
  },
  {
   "cell_type": "code",
   "execution_count": 16,
   "id": "99a9ba19",
   "metadata": {},
   "outputs": [
    {
     "ename": "NameError",
     "evalue": "name 'all_rets_delase' is not defined",
     "output_type": "error",
     "traceback": [
      "\u001b[0;31m---------------------------------------------------------------------------\u001b[0m",
      "\u001b[0;31mNameError\u001b[0m                                 Traceback (most recent call last)",
      "Input \u001b[0;32mIn [16]\u001b[0m, in \u001b[0;36m<cell line: 5>\u001b[0;34m()\u001b[0m\n\u001b[1;32m      2\u001b[0m se_stab_delase \u001b[38;5;241m=\u001b[39m np\u001b[38;5;241m.\u001b[39mzeros(k)\n\u001b[1;32m      3\u001b[0m \u001b[38;5;66;03m# se_nonnorm = np.zeros(k)\u001b[39;00m\n\u001b[0;32m----> 5\u001b[0m \u001b[38;5;28;01mfor\u001b[39;00m ret \u001b[38;5;129;01min\u001b[39;00m \u001b[43mall_rets_delase\u001b[49m:\n\u001b[1;32m      6\u001b[0m     se_lyaps_delase \u001b[38;5;241m+\u001b[39m\u001b[38;5;241m=\u001b[39m (np\u001b[38;5;241m.\u001b[39marray([ret[\u001b[38;5;124m'\u001b[39m\u001b[38;5;124mlyaps\u001b[39m\u001b[38;5;124m'\u001b[39m][key] \u001b[38;5;28;01mfor\u001b[39;00m key \u001b[38;5;129;01min\u001b[39;00m g_vals]) \u001b[38;5;241m-\u001b[39m mean_lyaps_delase)\u001b[38;5;241m*\u001b[39m\u001b[38;5;241m*\u001b[39m\u001b[38;5;241m2\u001b[39m\n\u001b[1;32m      8\u001b[0m     se_stab_delase \u001b[38;5;241m+\u001b[39m\u001b[38;5;241m=\u001b[39m  np\u001b[38;5;241m.\u001b[39marray([((ret[\u001b[38;5;124m'\u001b[39m\u001b[38;5;124mstab_curves\u001b[39m\u001b[38;5;124m'\u001b[39m][key][:\u001b[38;5;28mint\u001b[39m(top_percent\u001b[38;5;241m*\u001b[39m\u001b[38;5;28mlen\u001b[39m(ret[\u001b[38;5;124m'\u001b[39m\u001b[38;5;124mstab_curves\u001b[39m\u001b[38;5;124m'\u001b[39m][key]))] \u001b[38;5;241m-\u001b[39m mean_stab_delase[np\u001b[38;5;241m.\u001b[39mwhere(g_vals \u001b[38;5;241m==\u001b[39m key)[\u001b[38;5;241m0\u001b[39m]])\u001b[38;5;241m*\u001b[39m\u001b[38;5;241m*\u001b[39m\u001b[38;5;241m2\u001b[39m)\u001b[38;5;241m.\u001b[39msum() \u001b[38;5;28;01mfor\u001b[39;00m key \u001b[38;5;129;01min\u001b[39;00m g_vals])\n",
      "\u001b[0;31mNameError\u001b[0m: name 'all_rets_delase' is not defined"
     ]
    }
   ],
   "source": [
    "\n",
    "se_lyaps_delase = np.zeros(k)\n",
    "se_stab_delase = np.zeros(k)\n",
    "# se_nonnorm = np.zeros(k)\n",
    "\n",
    "for ret in all_rets_delase:\n",
    "    se_lyaps_delase += (np.array([ret['lyaps'][key] for key in g_vals]) - mean_lyaps_delase)**2\n",
    "    \n",
    "    se_stab_delase +=  np.array([((ret['stab_curves'][key][:int(top_percent*len(ret['stab_curves'][key]))] - mean_stab_delase[np.where(g_vals == key)[0]])**2).sum() for key in g_vals])\n",
    "    \n",
    "#     se_nonnorm += (np.array([ret['nonnormalities'][key] for key in g_vals]) - mean_nonnorm)**2\n",
    "\n",
    "se_lyaps_delase /= counts_lyaps_delase\n",
    "se_lyaps_delase = np.sqrt(se_lyaps_delase)\n",
    "se_lyaps_delase /= np.sqrt(counts_lyaps_delase)\n",
    "\n",
    "se_stab_delase /= counts_stab_delase\n",
    "se_stab_delase = np.sqrt(se_stab_delase)\n",
    "se_stab_delase /= np.sqrt(counts_stab_delase)\n",
    "\n",
    "# se_nonnorm /= counts_nonnorm\n",
    "# se_nonnorm = np.sqrt(se_nonnorm)\n",
    "# se_nonnorm /= np.sqrt(counts_nonnorm)"
   ]
  },
  {
   "cell_type": "code",
   "execution_count": 17,
   "id": "e0c3505c",
   "metadata": {},
   "outputs": [
    {
     "data": {
      "application/vnd.jupyter.widget-view+json": {
       "model_id": "1758b24b8f7f4ab5b0f9a74f8cbad67a",
       "version_major": 2,
       "version_minor": 0
      },
      "text/plain": [
       "  0%|          | 0/21 [00:00<?, ?it/s]"
      ]
     },
     "metadata": {},
     "output_type": "display_data"
    },
    {
     "ename": "AttributeError",
     "evalue": "Can't get attribute '_unpickle_block' on <module 'pandas._libs.internals' from '/om2/user/eisenaj/anaconda/envs/dynamical-trajectories/lib/python3.9/site-packages/pandas/_libs/internals.cpython-39-x86_64-linux-gnu.so'>",
     "output_type": "error",
     "traceback": [
      "\u001b[0;31m---------------------------------------------------------------------------\u001b[0m",
      "\u001b[0;31mAttributeError\u001b[0m                            Traceback (most recent call last)",
      "Input \u001b[0;32mIn [17]\u001b[0m, in \u001b[0;36m<cell line: 2>\u001b[0;34m()\u001b[0m\n\u001b[1;32m      3\u001b[0m signal_rets \u001b[38;5;241m=\u001b[39m pd\u001b[38;5;241m.\u001b[39mread_pickle(os\u001b[38;5;241m.\u001b[39mpath\u001b[38;5;241m.\u001b[39mjoin(chaotic_net_folder, ret_file))\n\u001b[1;32m      4\u001b[0m all_rets_delase\u001b[38;5;241m.\u001b[39mappend({\u001b[38;5;124m'\u001b[39m\u001b[38;5;124mlyaps\u001b[39m\u001b[38;5;124m'\u001b[39m: {key: signal_rets[\u001b[38;5;124m'\u001b[39m\u001b[38;5;124mlyaps\u001b[39m\u001b[38;5;124m'\u001b[39m][key][\u001b[38;5;241m0\u001b[39m] \u001b[38;5;28;01mfor\u001b[39;00m key \u001b[38;5;129;01min\u001b[39;00m signal_rets[\u001b[38;5;124m'\u001b[39m\u001b[38;5;124mlyaps\u001b[39m\u001b[38;5;124m'\u001b[39m]\u001b[38;5;241m.\u001b[39mkeys() \u001b[38;5;28;01mif\u001b[39;00m key \u001b[38;5;241m>\u001b[39m\u001b[38;5;241m=\u001b[39m g_min \u001b[38;5;129;01mand\u001b[39;00m key \u001b[38;5;241m<\u001b[39m\u001b[38;5;241m=\u001b[39m g_max}})\n\u001b[0;32m----> 5\u001b[0m delase_rets \u001b[38;5;241m=\u001b[39m \u001b[43mpd\u001b[49m\u001b[38;5;241;43m.\u001b[39;49m\u001b[43mread_pickle\u001b[49m\u001b[43m(\u001b[49m\u001b[43mos\u001b[49m\u001b[38;5;241;43m.\u001b[39;49m\u001b[43mpath\u001b[49m\u001b[38;5;241;43m.\u001b[39;49m\u001b[43mjoin\u001b[49m\u001b[43m(\u001b[49m\u001b[43mchaotic_net_folder\u001b[49m\u001b[43m,\u001b[49m\u001b[43m \u001b[49m\u001b[43mret_file\u001b[49m\u001b[43m \u001b[49m\u001b[38;5;241;43m+\u001b[39;49m\u001b[43m \u001b[49m\u001b[38;5;124;43m'\u001b[39;49m\u001b[38;5;124;43m_DeLASE\u001b[39;49m\u001b[38;5;124;43m'\u001b[39;49m\u001b[43m)\u001b[49m\u001b[43m)\u001b[49m\n\u001b[1;32m      6\u001b[0m window, matrix_size, r, all_results \u001b[38;5;241m=\u001b[39m combine_grid_results({key: delase_rets[key] \u001b[38;5;28;01mfor\u001b[39;00m key \u001b[38;5;129;01min\u001b[39;00m delase_rets\u001b[38;5;241m.\u001b[39mkeys() \u001b[38;5;28;01mif\u001b[39;00m key \u001b[38;5;241m>\u001b[39m\u001b[38;5;241m=\u001b[39m g_min \u001b[38;5;129;01mand\u001b[39;00m key \u001b[38;5;241m<\u001b[39m\u001b[38;5;241m=\u001b[39m g_max})\n\u001b[1;32m      7\u001b[0m all_rets_delase[\u001b[38;5;241m-\u001b[39m\u001b[38;5;241m1\u001b[39m][\u001b[38;5;124m'\u001b[39m\u001b[38;5;124mstab_curves\u001b[39m\u001b[38;5;124m'\u001b[39m] \u001b[38;5;241m=\u001b[39m {key: delase_rets[key]\u001b[38;5;241m.\u001b[39mloc[(window, matrix_size, r)]\u001b[38;5;241m.\u001b[39mstab_curves \u001b[38;5;28;01mfor\u001b[39;00m key \u001b[38;5;129;01min\u001b[39;00m delase_rets\u001b[38;5;241m.\u001b[39mkeys() \u001b[38;5;28;01mif\u001b[39;00m key \u001b[38;5;241m>\u001b[39m\u001b[38;5;241m=\u001b[39m g_min \u001b[38;5;129;01mand\u001b[39;00m key \u001b[38;5;241m<\u001b[39m\u001b[38;5;241m=\u001b[39m g_max}\n",
      "File \u001b[0;32m/om2/user/eisenaj/anaconda/envs/dynamical-trajectories/lib/python3.9/site-packages/pandas/io/pickle.py:222\u001b[0m, in \u001b[0;36mread_pickle\u001b[0;34m(filepath_or_buffer, compression, storage_options)\u001b[0m\n\u001b[1;32m    217\u001b[0m             \u001b[38;5;28;01mreturn\u001b[39;00m pickle\u001b[38;5;241m.\u001b[39mload(handles\u001b[38;5;241m.\u001b[39mhandle)  \u001b[38;5;66;03m# type: ignore[arg-type]\u001b[39;00m\n\u001b[1;32m    218\u001b[0m     \u001b[38;5;28;01mexcept\u001b[39;00m excs_to_catch:\n\u001b[1;32m    219\u001b[0m         \u001b[38;5;66;03m# e.g.\u001b[39;00m\n\u001b[1;32m    220\u001b[0m         \u001b[38;5;66;03m#  \"No module named 'pandas.core.sparse.series'\"\u001b[39;00m\n\u001b[1;32m    221\u001b[0m         \u001b[38;5;66;03m#  \"Can't get attribute '__nat_unpickle' on <module 'pandas._libs.tslib\"\u001b[39;00m\n\u001b[0;32m--> 222\u001b[0m         \u001b[38;5;28;01mreturn\u001b[39;00m \u001b[43mpc\u001b[49m\u001b[38;5;241;43m.\u001b[39;49m\u001b[43mload\u001b[49m\u001b[43m(\u001b[49m\u001b[43mhandles\u001b[49m\u001b[38;5;241;43m.\u001b[39;49m\u001b[43mhandle\u001b[49m\u001b[43m,\u001b[49m\u001b[43m \u001b[49m\u001b[43mencoding\u001b[49m\u001b[38;5;241;43m=\u001b[39;49m\u001b[38;5;28;43;01mNone\u001b[39;49;00m\u001b[43m)\u001b[49m\n\u001b[1;32m    223\u001b[0m \u001b[38;5;28;01mexcept\u001b[39;00m \u001b[38;5;167;01mUnicodeDecodeError\u001b[39;00m:\n\u001b[1;32m    224\u001b[0m     \u001b[38;5;66;03m# e.g. can occur for files written in py27; see GH#28645 and GH#31988\u001b[39;00m\n\u001b[1;32m    225\u001b[0m     \u001b[38;5;28;01mreturn\u001b[39;00m pc\u001b[38;5;241m.\u001b[39mload(handles\u001b[38;5;241m.\u001b[39mhandle, encoding\u001b[38;5;241m=\u001b[39m\u001b[38;5;124m\"\u001b[39m\u001b[38;5;124mlatin-1\u001b[39m\u001b[38;5;124m\"\u001b[39m)\n",
      "File \u001b[0;32m/om2/user/eisenaj/anaconda/envs/dynamical-trajectories/lib/python3.9/site-packages/pandas/compat/pickle_compat.py:274\u001b[0m, in \u001b[0;36mload\u001b[0;34m(fh, encoding, is_verbose)\u001b[0m\n\u001b[1;32m    271\u001b[0m         up \u001b[38;5;241m=\u001b[39m Unpickler(fh)\n\u001b[1;32m    272\u001b[0m     up\u001b[38;5;241m.\u001b[39mis_verbose \u001b[38;5;241m=\u001b[39m is_verbose\n\u001b[0;32m--> 274\u001b[0m     \u001b[38;5;28;01mreturn\u001b[39;00m \u001b[43mup\u001b[49m\u001b[38;5;241;43m.\u001b[39;49m\u001b[43mload\u001b[49m\u001b[43m(\u001b[49m\u001b[43m)\u001b[49m\n\u001b[1;32m    275\u001b[0m \u001b[38;5;28;01mexcept\u001b[39;00m (\u001b[38;5;167;01mValueError\u001b[39;00m, \u001b[38;5;167;01mTypeError\u001b[39;00m):\n\u001b[1;32m    276\u001b[0m     \u001b[38;5;28;01mraise\u001b[39;00m\n",
      "File \u001b[0;32m/om2/user/eisenaj/anaconda/envs/dynamical-trajectories/lib/python3.9/pickle.py:1212\u001b[0m, in \u001b[0;36m_Unpickler.load\u001b[0;34m(self)\u001b[0m\n\u001b[1;32m   1210\u001b[0m             \u001b[38;5;28;01mraise\u001b[39;00m \u001b[38;5;167;01mEOFError\u001b[39;00m\n\u001b[1;32m   1211\u001b[0m         \u001b[38;5;28;01massert\u001b[39;00m \u001b[38;5;28misinstance\u001b[39m(key, bytes_types)\n\u001b[0;32m-> 1212\u001b[0m         \u001b[43mdispatch\u001b[49m\u001b[43m[\u001b[49m\u001b[43mkey\u001b[49m\u001b[43m[\u001b[49m\u001b[38;5;241;43m0\u001b[39;49m\u001b[43m]\u001b[49m\u001b[43m]\u001b[49m\u001b[43m(\u001b[49m\u001b[38;5;28;43mself\u001b[39;49m\u001b[43m)\u001b[49m\n\u001b[1;32m   1213\u001b[0m \u001b[38;5;28;01mexcept\u001b[39;00m _Stop \u001b[38;5;28;01mas\u001b[39;00m stopinst:\n\u001b[1;32m   1214\u001b[0m     \u001b[38;5;28;01mreturn\u001b[39;00m stopinst\u001b[38;5;241m.\u001b[39mvalue\n",
      "File \u001b[0;32m/om2/user/eisenaj/anaconda/envs/dynamical-trajectories/lib/python3.9/pickle.py:1537\u001b[0m, in \u001b[0;36m_Unpickler.load_stack_global\u001b[0;34m(self)\u001b[0m\n\u001b[1;32m   1535\u001b[0m \u001b[38;5;28;01mif\u001b[39;00m \u001b[38;5;28mtype\u001b[39m(name) \u001b[38;5;129;01mis\u001b[39;00m \u001b[38;5;129;01mnot\u001b[39;00m \u001b[38;5;28mstr\u001b[39m \u001b[38;5;129;01mor\u001b[39;00m \u001b[38;5;28mtype\u001b[39m(module) \u001b[38;5;129;01mis\u001b[39;00m \u001b[38;5;129;01mnot\u001b[39;00m \u001b[38;5;28mstr\u001b[39m:\n\u001b[1;32m   1536\u001b[0m     \u001b[38;5;28;01mraise\u001b[39;00m UnpicklingError(\u001b[38;5;124m\"\u001b[39m\u001b[38;5;124mSTACK_GLOBAL requires str\u001b[39m\u001b[38;5;124m\"\u001b[39m)\n\u001b[0;32m-> 1537\u001b[0m \u001b[38;5;28mself\u001b[39m\u001b[38;5;241m.\u001b[39mappend(\u001b[38;5;28;43mself\u001b[39;49m\u001b[38;5;241;43m.\u001b[39;49m\u001b[43mfind_class\u001b[49m\u001b[43m(\u001b[49m\u001b[43mmodule\u001b[49m\u001b[43m,\u001b[49m\u001b[43m \u001b[49m\u001b[43mname\u001b[49m\u001b[43m)\u001b[49m)\n",
      "File \u001b[0;32m/om2/user/eisenaj/anaconda/envs/dynamical-trajectories/lib/python3.9/site-packages/pandas/compat/pickle_compat.py:206\u001b[0m, in \u001b[0;36mUnpickler.find_class\u001b[0;34m(self, module, name)\u001b[0m\n\u001b[1;32m    204\u001b[0m key \u001b[38;5;241m=\u001b[39m (module, name)\n\u001b[1;32m    205\u001b[0m module, name \u001b[38;5;241m=\u001b[39m _class_locations_map\u001b[38;5;241m.\u001b[39mget(key, key)\n\u001b[0;32m--> 206\u001b[0m \u001b[38;5;28;01mreturn\u001b[39;00m \u001b[38;5;28;43msuper\u001b[39;49m\u001b[43m(\u001b[49m\u001b[43m)\u001b[49m\u001b[38;5;241;43m.\u001b[39;49m\u001b[43mfind_class\u001b[49m\u001b[43m(\u001b[49m\u001b[43mmodule\u001b[49m\u001b[43m,\u001b[49m\u001b[43m \u001b[49m\u001b[43mname\u001b[49m\u001b[43m)\u001b[49m\n",
      "File \u001b[0;32m/om2/user/eisenaj/anaconda/envs/dynamical-trajectories/lib/python3.9/pickle.py:1581\u001b[0m, in \u001b[0;36m_Unpickler.find_class\u001b[0;34m(self, module, name)\u001b[0m\n\u001b[1;32m   1579\u001b[0m \u001b[38;5;28m__import__\u001b[39m(module, level\u001b[38;5;241m=\u001b[39m\u001b[38;5;241m0\u001b[39m)\n\u001b[1;32m   1580\u001b[0m \u001b[38;5;28;01mif\u001b[39;00m \u001b[38;5;28mself\u001b[39m\u001b[38;5;241m.\u001b[39mproto \u001b[38;5;241m>\u001b[39m\u001b[38;5;241m=\u001b[39m \u001b[38;5;241m4\u001b[39m:\n\u001b[0;32m-> 1581\u001b[0m     \u001b[38;5;28;01mreturn\u001b[39;00m \u001b[43m_getattribute\u001b[49m\u001b[43m(\u001b[49m\u001b[43msys\u001b[49m\u001b[38;5;241;43m.\u001b[39;49m\u001b[43mmodules\u001b[49m\u001b[43m[\u001b[49m\u001b[43mmodule\u001b[49m\u001b[43m]\u001b[49m\u001b[43m,\u001b[49m\u001b[43m \u001b[49m\u001b[43mname\u001b[49m\u001b[43m)\u001b[49m[\u001b[38;5;241m0\u001b[39m]\n\u001b[1;32m   1582\u001b[0m \u001b[38;5;28;01melse\u001b[39;00m:\n\u001b[1;32m   1583\u001b[0m     \u001b[38;5;28;01mreturn\u001b[39;00m \u001b[38;5;28mgetattr\u001b[39m(sys\u001b[38;5;241m.\u001b[39mmodules[module], name)\n",
      "File \u001b[0;32m/om2/user/eisenaj/anaconda/envs/dynamical-trajectories/lib/python3.9/pickle.py:331\u001b[0m, in \u001b[0;36m_getattribute\u001b[0;34m(obj, name)\u001b[0m\n\u001b[1;32m    329\u001b[0m         obj \u001b[38;5;241m=\u001b[39m \u001b[38;5;28mgetattr\u001b[39m(obj, subpath)\n\u001b[1;32m    330\u001b[0m     \u001b[38;5;28;01mexcept\u001b[39;00m \u001b[38;5;167;01mAttributeError\u001b[39;00m:\n\u001b[0;32m--> 331\u001b[0m         \u001b[38;5;28;01mraise\u001b[39;00m \u001b[38;5;167;01mAttributeError\u001b[39;00m(\u001b[38;5;124m\"\u001b[39m\u001b[38;5;124mCan\u001b[39m\u001b[38;5;124m'\u001b[39m\u001b[38;5;124mt get attribute \u001b[39m\u001b[38;5;132;01m{!r}\u001b[39;00m\u001b[38;5;124m on \u001b[39m\u001b[38;5;132;01m{!r}\u001b[39;00m\u001b[38;5;124m\"\u001b[39m\n\u001b[1;32m    332\u001b[0m                              \u001b[38;5;241m.\u001b[39mformat(name, obj)) \u001b[38;5;28;01mfrom\u001b[39;00m \u001b[38;5;28mNone\u001b[39m\n\u001b[1;32m    333\u001b[0m \u001b[38;5;28;01mreturn\u001b[39;00m obj, parent\n",
      "\u001b[0;31mAttributeError\u001b[0m: Can't get attribute '_unpickle_block' on <module 'pandas._libs.internals' from '/om2/user/eisenaj/anaconda/envs/dynamical-trajectories/lib/python3.9/site-packages/pandas/_libs/internals.cpython-39-x86_64-linux-gnu.so'>"
     ]
    }
   ],
   "source": [
    "all_rets_delase = []\n",
    "for ret_file in tqdm(run_files):\n",
    "    signal_rets = pd.read_pickle(os.path.join(chaotic_net_folder, ret_file))\n",
    "    all_rets_delase.append({'lyaps': {key: signal_rets['lyaps'][key][0] for key in signal_rets['lyaps'].keys() if key >= g_min and key <= g_max}})\n",
    "    delase_rets = pd.read_pickle(os.path.join(chaotic_net_folder, ret_file + '_DeLASE'))\n",
    "    window, matrix_size, r, all_results = combine_grid_results({key: delase_rets[key] for key in delase_rets.keys() if key >= g_min and key <= g_max})\n",
    "    all_rets_delase[-1]['stab_curves'] = {key: delase_rets[key].loc[(window, matrix_size, r)].stab_curves for key in delase_rets.keys() if key >= g_min and key <= g_max}\n",
    "    \n",
    "#     if ret_file == \"RUN_ORIG\":\n",
    "#         np.random.seed(41)\n",
    "#     else:\n",
    "#         np.random.seed(42 + int(ret_file.split('_')[1]))\n",
    "\n",
    "#     run_ret = signal_rets\n",
    "\n",
    "#     indices = np.random.choice(np.arange(N), size=(num_indices, ), replace=False)\n",
    "\n",
    "#     full_signals = run_ret['signals']\n",
    "#     signals = {key: full_signal[:, indices] for key, full_signal in full_signals.items()}\n",
    "\n",
    "#     for key in signals.keys():\n",
    "#         signals[key] += np.random.randn(T, len(indices))*noise_sd"
   ]
  },
  {
   "cell_type": "code",
   "execution_count": 221,
   "id": "64803272",
   "metadata": {},
   "outputs": [
    {
     "data": {
      "text/plain": [
       "[<matplotlib.lines.Line2D at 0x2b9dc1dcd370>]"
      ]
     },
     "execution_count": 221,
     "metadata": {},
     "output_type": "execute_result"
    },
    {
     "data": {
      "image/png": "[encoded data removed]",
      "text/plain": [
       "<Figure size 640x480 with 2 Axes>"
      ]
     },
     "metadata": {},
     "output_type": "display_data"
    }
   ],
   "source": [
    "\n",
    "ax = plt.gca()\n",
    "ax.errorbar(g_vals, mean_stab, yerr=se_stab, c='k', linestyle='--', marker='o', markersize=6, )\n",
    "ax2 = plt.gca().twinx()\n",
    "ax2.plot(g_vals, mean_lyaps, c='C0')"
   ]
  },
  {
   "cell_type": "code",
   "execution_count": null,
   "id": "b1c978ad",
   "metadata": {},
   "outputs": [],
   "source": []
  }
 ],
 "metadata": {
  "kernelspec": {
   "display_name": "Python 3 (ipykernel)",
   "language": "python",
   "name": "python3"
  },
  "language_info": {
   "codemirror_mode": {
    "name": "ipython",
    "version": 3
   },
   "file_extension": ".py",
   "mimetype": "text/x-python",
   "name": "python",
   "nbconvert_exporter": "python",
   "pygments_lexer": "ipython3",
   "version": "3.9.1"
  },
  "vscode": {
   "interpreter": {
    "hash": "25e1eac643cb5e388fa05bd7407a5fc634e5a2aed9c60129e0d61808be0441c1"
   }
  }
 },
 "nbformat": 4,
 "nbformat_minor": 5
}
