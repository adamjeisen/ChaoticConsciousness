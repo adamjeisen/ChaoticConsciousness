{
 "cells": [
  {
   "cell_type": "code",
   "execution_count": 1,
   "id": "ddabe21e",
   "metadata": {},
   "outputs": [],
   "source": [
    "%load_ext autoreload"
   ]
  },
  {
   "cell_type": "code",
   "execution_count": 2,
   "id": "1b1ac697",
   "metadata": {},
   "outputs": [],
   "source": [
    "%autoreload 2\n",
    "from collections import defaultdict\n",
    "from datetime import datetime\n",
    "import h5py\n",
    "import matplotlib.pyplot as plt\n",
    "from neural_analysis.matIO import loadmat\n",
    "import numpy as np\n",
    "import os\n",
    "import pandas as pd\n",
    "from scipy.signal import butter, filtfilt, freqz\n",
    "from scipy.stats import pearsonr\n",
    "import sys\n",
    "import time\n",
    "from tqdm.auto import tqdm\n",
    "\n",
    "sys.path.append('../../..')\n",
    "from ld_utils import compute_eigs, get_data_sigma_norms\n",
    "from up_down import get_up_down\n",
    "from utils import get_binary_stimuli, get_sample_interval, load, save, to_string"
   ]
  },
  {
   "cell_type": "markdown",
   "id": "46091d60",
   "metadata": {},
   "source": [
    "## Load Neural Data"
   ]
  },
  {
   "cell_type": "code",
   "execution_count": 3,
   "id": "3cc3760f",
   "metadata": {},
   "outputs": [
    {
     "name": "stdout",
     "output_type": "stream",
     "text": [
      "Loading data ...\n",
      "Data loaded (took 153.67 seconds)\n"
     ]
    }
   ],
   "source": [
    "session = 'Mary-Anesthesia-20160809-01'\n",
    "# session = 'MrJones-Anesthesia-20160113-01.mat'\n",
    "# filename = fr'/home/adameisen/millerdata/common/datasets/anesthesia/mat/propofolPuffTone/{session}.mat'\n",
    "filename = fr'/om/user/eisenaj/ChaoticConsciousness/data/propofolPuffTone/{session}.mat'\n",
    "print(\"Loading data ...\")\n",
    "start = time.process_time()\n",
    "electrode_info, lfp, lfp_schema, session_info, spike_times, unit_info = loadmat(filename, variables=['electrodeInfo', 'lfp', 'lfpSchema', 'sessionInfo', 'spikeTimes', 'unitInfo'], verbose=False)\n",
    "spike_times = spike_times[0]\n",
    "dt = lfp_schema['smpInterval'][0]\n",
    "T = lfp.shape[0]\n",
    "\n",
    "# f = h5py.File(filename, 'r')\n",
    "# airPuff_binary, audio_binary = get_binary_stimuli(f)\n",
    "\n",
    "print(f\"Data loaded (took {time.process_time() - start:.2f} seconds)\")"
   ]
  },
  {
   "cell_type": "markdown",
   "id": "e9828977",
   "metadata": {},
   "source": [
    "# Correlations"
   ]
  },
  {
   "cell_type": "code",
   "execution_count": null,
   "id": "e7e6aa3c",
   "metadata": {},
   "outputs": [
    {
     "name": "stdout",
     "output_type": "stream",
     "text": [
      "window = 0.15, all areas\n"
     ]
    },
    {
     "data": {
      "application/vnd.jupyter.widget-view+json": {
       "model_id": "d75abf1c1f06417eabf1f2c09ae0cc3f",
       "version_major": 2,
       "version_minor": 0
      },
      "text/plain": [
       "  0%|          | 0/705 [00:00<?, ?it/s]"
      ]
     },
     "metadata": {},
     "output_type": "display_data"
    },
    {
     "name": "stdout",
     "output_type": "stream",
     "text": [
      "window = 0.25, all areas\n"
     ]
    },
    {
     "data": {
      "application/vnd.jupyter.widget-view+json": {
       "model_id": "db1278dd79e343b7a100bbc406dab36f",
       "version_major": 2,
       "version_minor": 0
      },
      "text/plain": [
       "  0%|          | 0/705 [00:00<?, ?it/s]"
      ]
     },
     "metadata": {},
     "output_type": "display_data"
    },
    {
     "name": "stdout",
     "output_type": "stream",
     "text": [
      "window = 0.5, all areas\n"
     ]
    },
    {
     "data": {
      "application/vnd.jupyter.widget-view+json": {
       "model_id": "f551fbddca0f49ecabe279178c1a6681",
       "version_major": 2,
       "version_minor": 0
      },
      "text/plain": [
       "  0%|          | 0/705 [00:00<?, ?it/s]"
      ]
     },
     "metadata": {},
     "output_type": "display_data"
    },
    {
     "name": "stdout",
     "output_type": "stream",
     "text": [
      "window = 1, all areas\n"
     ]
    },
    {
     "data": {
      "application/vnd.jupyter.widget-view+json": {
       "model_id": "3e088e08f8174b89a604ecd439b9d9af",
       "version_major": 2,
       "version_minor": 0
      },
      "text/plain": [
       "  0%|          | 0/705 [00:00<?, ?it/s]"
      ]
     },
     "metadata": {},
     "output_type": "display_data"
    }
   ],
   "source": [
    "t = time.localtime()\n",
    "timestamp = time.strftime('%b-%d-%Y_%H%M', t)\n",
    "data_path = f\"/om/user/eisenaj/ChaoticConsciousness/results/propofol/correlations\"\n",
    "os.makedirs(data_path, exist_ok=True)\n",
    "\n",
    "PCA_dim = -1\n",
    "end_step = T - int(30/dt) # take off 30 seconds\n",
    "\n",
    "# end_step = 15000\n",
    "# for window in [2.5]:\n",
    "for window in [0.15, 0.25, 0.5, 1, 2.5, 5]:\n",
    "# for window in [0.25, 0.5, 1, 2.5, 5]:\n",
    "#     stride = window\n",
    "    stride = 10\n",
    "    run_data = {}\n",
    "    \n",
    "    # ================\n",
    "    # RUN PARAMS\n",
    "    # ================\n",
    "    run_data['run_params'] = dict(\n",
    "        window=window,\n",
    "        stride=stride,\n",
    "        PCA_dim=PCA_dim,\n",
    "        end_step=end_step,\n",
    "        unit_indices={}\n",
    "    )\n",
    "    \n",
    "    run_data['results'] = {}\n",
    "    \n",
    "    # ================\n",
    "    # ALL AREAS\n",
    "    # ================\n",
    "    \n",
    "    print(f\"window = {window}, all areas\")\n",
    "    areas = np.unique(electrode_info['area'])\n",
    "    unit_indices = np.arange(lfp.shape[1])[pd.Series(electrode_info['area']).isin(areas)]\n",
    "    data = lfp[:end_step, unit_indices]\n",
    "    \n",
    "    results = {}\n",
    "    \n",
    "    num_windows = int(end_step/int(stride/dt))\n",
    "    results['correlations'] = np.zeros((num_windows, len(unit_indices), len(unit_indices)))\n",
    "    results['p_vals'] = np.zeros((num_windows, len(unit_indices), len(unit_indices)))\n",
    "    for i in tqdm(range(num_windows)):\n",
    "        window_data = data[int(stride/dt)*i:int(stride/dt)*i + int(window/dt)]\n",
    "        for j, unit1 in enumerate(unit_indices):\n",
    "            for k, unit2 in enumerate(unit_indices):\n",
    "                results['correlations'][i, j, k], results['p_vals'][i, j, k] = pearsonr(window_data[:, unit1], window_data[:, unit2])\n",
    "    \n",
    "    \n",
    "    run_data['results']['all'] = results\n",
    "    run_data['run_params']['unit_indices']['all'] = unit_indices\n",
    "\n",
    "    save(run_data, os.path.join(data_path, f\"VAR_{os.path.basename(filename)[:-4]}_window_{window}_stride_{stride}_{timestamp}\"))"
   ]
  },
  {
   "cell_type": "code",
   "execution_count": null,
   "id": "53f88211",
   "metadata": {},
   "outputs": [],
   "source": []
  }
 ],
 "metadata": {
  "kernelspec": {
   "display_name": "Python 3 (ipykernel)",
   "language": "python",
   "name": "python3"
  },
  "language_info": {
   "codemirror_mode": {
    "name": "ipython",
    "version": 3
   },
   "file_extension": ".py",
   "mimetype": "text/x-python",
   "name": "python",
   "nbconvert_exporter": "python",
   "pygments_lexer": "ipython3",
   "version": "3.9.1"
  }
 },
 "nbformat": 4,
 "nbformat_minor": 5
}
