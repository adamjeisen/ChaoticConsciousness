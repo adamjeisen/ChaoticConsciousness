{
 "cells": [
  {
   "cell_type": "code",
   "execution_count": 3,
   "id": "69a3f1a5",
   "metadata": {},
   "outputs": [
    {
     "name": "stdout",
     "output_type": "stream",
     "text": [
      "The autoreload extension is already loaded. To reload it, use:\n",
      "  %reload_ext autoreload\n"
     ]
    }
   ],
   "source": [
    "%load_ext autoreload"
   ]
  },
  {
   "cell_type": "code",
   "execution_count": 15,
   "id": "c255a591",
   "metadata": {},
   "outputs": [],
   "source": [
    "%autoreload 2\n",
    "import h5py\n",
    "from matplotlib import colors\n",
    "import matplotlib.pyplot as plt\n",
    "import multiprocessing\n",
    "from neural_analysis.matIO import loadmat\n",
    "import numpy as np\n",
    "import os\n",
    "import pandas as pd\n",
    "import ssm\n",
    "from ssm.util import find_permutation\n",
    "import sys\n",
    "import time\n",
    "from tqdm.auto import tqdm\n",
    "\n",
    "sys.path.append('../../..')\n",
    "from ld_utils import slds_compute_eigs\n",
    "from up_down import get_up_down\n",
    "from utils import get_binary_stimuli, get_sample_interval, load, save"
   ]
  },
  {
   "cell_type": "markdown",
   "id": "46091d60",
   "metadata": {},
   "source": [
    "## Load Neural Data"
   ]
  },
  {
   "cell_type": "code",
   "execution_count": 5,
   "id": "3cc3760f",
   "metadata": {},
   "outputs": [
    {
     "name": "stdout",
     "output_type": "stream",
     "text": [
      "Loading data ...\n",
      "Data loaded (took 98.39 seconds)\n"
     ]
    }
   ],
   "source": [
    "# filename = '../../__data__/Mary-Anesthesia-20160809-01.mat'\n",
    "filename = r'/home/adameisen/millerdata/common/datasets/anesthesia/mat/propofolPuffTone/Mary-Anesthesia-20160809-01.mat'\n",
    "print(\"Loading data ...\")\n",
    "start = time.process_time()\n",
    "electrode_info, lfp, lfp_schema, session_info, spike_times, unit_info = loadmat(filename, variables=['electrodeInfo', 'lfp', 'lfpSchema', 'sessionInfo', 'spikeTimes', 'unitInfo'], verbose=False)\n",
    "spike_times = spike_times[0]\n",
    "dt = lfp_schema['smpInterval'][0]\n",
    "T = lfp.shape[0]\n",
    "\n",
    "f = h5py.File(filename, 'r')\n",
    "airPuff_binary, audio_binary = get_binary_stimuli(f)\n",
    "\n",
    "print(f\"Data loaded (took {time.process_time() - start:.2f} seconds)\")"
   ]
  },
  {
   "cell_type": "markdown",
   "id": "4417db7b",
   "metadata": {},
   "source": [
    "# Run"
   ]
  },
  {
   "cell_type": "code",
   "execution_count": 39,
   "id": "5eb3cda6",
   "metadata": {},
   "outputs": [],
   "source": [
    "# --------\n",
    "# User-guided SLDS parameters\n",
    "# --------\n",
    "latent_dim = 32 # number of latent dimensions\n",
    "transitions = \"standard\" # transition class\n",
    "stride = 30 # s\n",
    "window = 5 # s\n",
    "\n",
    "length = int(window/dt)\n",
    "start_times = np.arange(0, lfp.shape[0]*dt - window + 0.1, stride).astype(int)\n",
    "# start_times = np.arange(0, lfp.shape[0]*dt - duration - 0.1, stride).astype(int)\n",
    "# start_times = np.hstack([start_times, lfp.shape[0]*dt - duration - 5])\n",
    "\n",
    "# areas = ['vlPFC', 'FEF', 'CPB', '7b']\n",
    "# areas = np.unique(electrode_info['area'])\n",
    "areas = ['vlPFC']\n",
    "unit_indices = np.arange(lfp.shape[1])[pd.Series(electrode_info['area']).isin(areas)]\n",
    "var_names = [f\"unit_{unit_num} {electrode_info['area'][unit_num]}\" for unit_num in unit_indices]\n",
    "\n",
    "# --------\n",
    "# Set the parameters of the SLDS\n",
    "# --------\n",
    "emissions_dim = len(unit_indices)     # number of observed dimensions\n",
    "\n",
    "data_dir = \"../../../__data__/propofol/SLDS/\"\n",
    "t = time.localtime()\n",
    "timestamp = time.strftime('%b-%d-%Y_%H%M', t)\n",
    "data_dir = os.path.join(data_dir, f\"SLDS_{os.path.basename(filename)[:-4]}_latent_{latent_dim}_window_{window}_stride_{stride}_{timestamp}\")\n",
    "os.makedirs(data_dir, exist_ok=True)"
   ]
  },
  {
   "cell_type": "code",
   "execution_count": 41,
   "id": "eae47175",
   "metadata": {},
   "outputs": [
    {
     "data": {
      "application/vnd.jupyter.widget-view+json": {
       "model_id": "8db106ed16524629afb108da66876bc9",
       "version_major": 2,
       "version_minor": 0
      },
      "text/plain": [
       "  0%|          | 0/237 [00:00<?, ?it/s]"
      ]
     },
     "metadata": {},
     "output_type": "display_data"
    }
   ],
   "source": [
    "anesthesia_bounds = [session_info['drugStart'][0], session_info['drugEnd'][1]]\n",
    "param_list = []\n",
    "for start_time in tqdm(start_times):\n",
    "\n",
    "    # --------\n",
    "    # Set Disc States for Each Segment\n",
    "    # --------\n",
    "    piece_bounds = [start_time, start_time + window]\n",
    "    if piece_bounds[1] <= anesthesia_bounds[0] or piece_bounds[0] >= anesthesia_bounds[1]:\n",
    "        # WAKEFUL\n",
    "        n_disc_states = 2\n",
    "    elif piece_bounds[1] > anesthesia_bounds[0] and piece_bounds[1] <= anesthesia_bounds[1]:\n",
    "        if piece_bounds[0] < anesthesia_bounds[0]:\n",
    "            # TRANSITION TO ANESTHESIA\n",
    "            n_disc_states = 2\n",
    "        else: # piece_bounds[0] >= anesthesia_bounds\n",
    "            # FULL ANESTHESIA\n",
    "            n_disc_states = 2\n",
    "    else: # piece_bounds[0] > anesthesia_bounds[1] and piece_bounds[1] > anesthesia_bounds[1]\n",
    "        # TRANSITION OUT OF ANESTHESIA\n",
    "        n_disc_states = 2\n",
    "\n",
    "    start_step = int(start_time/dt)\n",
    "    data = lfp[start_step:start_step + length, unit_indices]\n",
    "    results = slds_compute_eigs(data, transitions, emissions_dim, n_disc_states, latent_dim, verbose=False)\n",
    "    \n",
    "    results['start_time'] = start_time\n",
    "    results['start_step'] = start_step\n",
    "    results['n_disc_states'] = n_disc_states\n",
    "    \n",
    "    save(results, os.path.join(data_dir, f\"start_time_{start_time}\"))\n",
    "\n",
    "run_params = dict(\n",
    "    latent_dim=latent_dim,\n",
    "    emissions_dim=emissions_dim,\n",
    "    transitions=transitions,\n",
    "    start_times=start_times,\n",
    "    window=window,\n",
    "    stride=stride,\n",
    "    length=length,\n",
    "    unit_indices=unit_indices,\n",
    "    var_names=var_names\n",
    ")\n",
    "save(run_params, os.path.join(data_dir, f\"run_params\"))"
   ]
  },
  {
   "cell_type": "code",
   "execution_count": null,
   "id": "25cd3199",
   "metadata": {},
   "outputs": [],
   "source": []
  }
 ],
 "metadata": {
  "kernelspec": {
   "display_name": "Python 3 (ipykernel)",
   "language": "python",
   "name": "python3"
  },
  "language_info": {
   "codemirror_mode": {
    "name": "ipython",
    "version": 3
   },
   "file_extension": ".py",
   "mimetype": "text/x-python",
   "name": "python",
   "nbconvert_exporter": "python",
   "pygments_lexer": "ipython3",
   "version": "3.9.1"
  }
 },
 "nbformat": 4,
 "nbformat_minor": 5
}
