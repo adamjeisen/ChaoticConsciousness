{
 "cells": [
  {
   "cell_type": "code",
   "execution_count": 1,
   "id": "ddabe21e",
   "metadata": {},
   "outputs": [],
   "source": [
    "%load_ext autoreload"
   ]
  },
  {
   "cell_type": "code",
   "execution_count": 5,
   "id": "1b1ac697",
   "metadata": {},
   "outputs": [],
   "source": [
    "%autoreload 2\n",
    "from collections import defaultdict\n",
    "from datetime import datetime\n",
    "import h5py\n",
    "import matplotlib.pyplot as plt\n",
    "from neural_analysis.matIO import loadmat\n",
    "import numpy as np\n",
    "import os\n",
    "import pandas as pd\n",
    "import re\n",
    "from scipy.signal import butter, filtfilt, freqz\n",
    "import shutil\n",
    "import sys\n",
    "import time\n",
    "from tqdm.auto import tqdm\n",
    "import traceback as tb\n",
    "\n",
    "sys.path.append('../../..')\n",
    "from ld_utils import compute_eigs, get_data_sigma_norms\n",
    "from up_down import get_up_down\n",
    "from utils import compile_folder, get_data_class, get_result_path, load, save"
   ]
  },
  {
   "cell_type": "code",
   "execution_count": 3,
   "id": "bfe8b13b",
   "metadata": {},
   "outputs": [],
   "source": [
    "def plot_result(session, VAR_results_dir, window, stride):\n",
    "    all_data_dir = f\"/om/user/eisenaj/datasets/anesthesia/mat\"\n",
    "    \n",
    "    data_class = get_data_class(session, all_data_dir)\n",
    "    save_dir = f\"/om/user/eisenaj/ChaoticConsciousness/plots/{data_class}/VAR/{session}\"\n",
    "    os.makedirs(save_dir, exist_ok=True)\n",
    "\n",
    "    # LOAD NEURAL DATA    \n",
    "    filename = os.path.join(all_data_dir, data_class, f'{session}.mat')\n",
    "    print(\"Loading data ...\")\n",
    "    start = time.process_time()\n",
    "    electrode_info, lfp_schema, session_info, spike_times, unit_info = loadmat(filename, variables=['electrodeInfo', 'lfpSchema', 'sessionInfo', 'spikeTimes', 'unitInfo'], verbose=False)\n",
    "    spike_times = spike_times[0]\n",
    "    dt = lfp_schema['smpInterval'][0]\n",
    "    # T = lfp.shape[0]\n",
    "\n",
    "    print(f\"Data loaded (took {time.process_time() - start:.2f} seconds)\")\n",
    "    \n",
    "    # LOAD VAR RESULTS\n",
    "    VAR_results = {}\n",
    "    for file in tqdm(os.listdir(VAR_results_dir)):\n",
    "        try:\n",
    "            VAR_results[file] = load(os.path.join(VAR_results_dir, file))\n",
    "        except IsADirectoryError:\n",
    "            print(f\"Need to compile {os.path.join(VAR_results_dir, file)}\")\n",
    "            # compile results\n",
    "            VAR_results[file] = compile_folder(os.path.join(VAR_results_dir, file))\n",
    "    \n",
    "    start_ind = 50\n",
    "    \n",
    "    # PLOT ALL INDIVIDUAL AREAS\n",
    "    fig = plt.figure(figsize=(12, 8))\n",
    "    ax = plt.gca()\n",
    "\n",
    "    min_val = np.Inf\n",
    "    max_val = -np.Inf\n",
    "    individual_criticalities = {}\n",
    "    for area, c in [('CPB', 'lightsteelblue'), ('7b', 'slategray'), ('FEF', 'skyblue'), ('vlPFC', 'C0')]:\n",
    "    # for area, c in [('CPB', 'lightsteelblue'), ('7b', 'slategray'), ('FEF', 'skyblue'), ('vlPFC', 'C0'), ('Thal', 'midnightblue')]:\n",
    "    # for area, c in [('vlPFC', 'C0')]:\n",
    "        start_times = VAR_results[area].start_time/60\n",
    "        criticality_inds = VAR_results[area].criticality_inds.apply(lambda x: x.mean())\n",
    "        start_times = start_times[start_ind:]\n",
    "        criticality_inds = criticality_inds[start_ind:]\n",
    "        individual_criticalities[area] = criticality_inds\n",
    "        ax.plot(start_times, criticality_inds, label=area, c=c)\n",
    "\n",
    "        if criticality_inds.min() < min_val:\n",
    "            min_val = criticality_inds.min()\n",
    "        if criticality_inds.max() > max_val:\n",
    "            max_val = criticality_inds.max()\n",
    "\n",
    "    # min_val = criticality_inds.min()\n",
    "    # max_val = criticality_inds.max()\n",
    "    ax.fill_between(np.arange(session_info['drugStart'][0], session_info['drugEnd'][0], stride)/60, \n",
    "                                    min_val, max_val, color='plum', alpha=0.2, label=f\"drug infusion 1 - dose = {session_info['drugDose'][0]}\")\n",
    "    ax.fill_between(np.arange(session_info['drugStart'][1], session_info['drugEnd'][1], stride)/60, \n",
    "                            min_val, max_val, color='darkorchid', alpha=0.2, label=f\"drug infusion 2 - dose = {session_info['drugDose'][1]}\")\n",
    "\n",
    "    plt.axvline(session_info['eyesClose'][-1]/60 if isinstance(session_info['eyesClose'], np.ndarray) else session_info['eyesClose']/60, linestyle='--', c='red', label=\"loss of consciousness\")\n",
    "    plt.axvline(session_info['eyesOpen'][-1]/60 if isinstance(session_info['eyesOpen'], np.ndarray) else session_info['eyesOpen']/60, linestyle='--', c='green', label=\"return of consciousness\")\n",
    "    ax.legend(fontsize=14)        \n",
    "    fig.text(0.52, -0.02, 'Time (min)', ha='center', fontsize=16)\n",
    "    ax.set_ylabel('Mean Criticality Index', fontsize=16)\n",
    "    ax.tick_params(labelsize=13)\n",
    "    plt.suptitle(f\"Mean Criticality Index of VAR Transition Matrix - Monkey {1 if 'Mary' in session else 2}\\nWindow = {window} s\", fontsize=18)\n",
    "    plt.tight_layout()\n",
    "    plt.savefig(os.path.join(save_dir, f\"VAR_individual_areas_window_{window}_stride_{stride}.png\"))\n",
    "    plt.close()\n",
    "    \n",
    "    # PLOT MULTIPOPULATION\n",
    "    fig = plt.figure(figsize=(12, 8))\n",
    "    ax = plt.gca()\n",
    "\n",
    "    min_val = np.Inf\n",
    "    max_val = -np.Inf\n",
    "    multipop_criticalities = {}\n",
    "    for area, c in [('CPB', 'lightsteelblue'), ('7b', 'slategray'), ('FEF', 'skyblue'), ('vlPFC', 'C0')]:\n",
    "    # for area, c in [('CPB', 'lightsteelblue'), ('7b', 'slategray'), ('FEF', 'skyblue'), ('vlPFC', 'C0'), ('Thal', 'midnightblue')]:\n",
    "        start_times = VAR_results['all'].start_time/60\n",
    "        unit_indices = np.where(electrode_info['area'] == area)[0]\n",
    "\n",
    "        criticality_inds = np.zeros(len(VAR_results['all']))\n",
    "        for i in range(len(criticality_inds)):\n",
    "            e, _ = np.linalg.eig(VAR_results['all'].A_mat.iloc[i][unit_indices][:, unit_indices])\n",
    "            criticality_inds[i] = np.abs(e).mean()\n",
    "        \n",
    "    #     criticality_inds = results[area]['eigs'].mean(axis=1)\n",
    "        start_times = start_times[start_ind:]\n",
    "        criticality_inds = criticality_inds[start_ind:]\n",
    "        multipop_criticalities[area] = criticality_inds\n",
    "        ax.plot(start_times, criticality_inds, label=area, c=c)\n",
    "\n",
    "        if criticality_inds.min() < min_val:\n",
    "            min_val = criticality_inds.min()\n",
    "        if criticality_inds.max() > max_val:\n",
    "            max_val = criticality_inds.max()\n",
    "\n",
    "    # min_val = criticality_inds.min()\n",
    "    # max_val = criticality_inds.max()\n",
    "    ax.fill_between(np.arange(session_info['drugStart'][0], session_info['drugEnd'][0], stride)/60, \n",
    "                                    min_val, max_val, color='plum', alpha=0.2, label=f\"drug infusion 1 - dose = {session_info['drugDose'][0]}\")\n",
    "    ax.fill_between(np.arange(session_info['drugStart'][1], session_info['drugEnd'][1], stride)/60, \n",
    "                            min_val, max_val, color='darkorchid', alpha=0.2, label=f\"drug infusion 2 - dose = {session_info['drugDose'][1]}\")\n",
    "\n",
    "    plt.axvline(session_info['eyesClose'][-1]/60 if isinstance(session_info['eyesClose'], np.ndarray) else session_info['eyesClose']/60, linestyle='--', c='red', label=\"loss of consciousness\")\n",
    "    plt.axvline(session_info['eyesOpen'][-1]/60 if isinstance(session_info['eyesOpen'], np.ndarray) else session_info['eyesOpen']/60, linestyle='--', c='green', label=\"return of consciousness\")\n",
    "    ax.legend(fontsize=14)        \n",
    "    fig.text(0.52, -0.02, 'Time (min)', ha='center', fontsize=16)\n",
    "    ax.set_ylabel('Mean Criticality Index', fontsize=16)\n",
    "    ax.tick_params(labelsize=13)\n",
    "    plt.suptitle(f\"Mean Criticality Index of VAR Transition Matrix - Monkey {1 if 'Mary' in session else 2}\\nWindow = {window} s\", fontsize=18)\n",
    "    plt.tight_layout()\n",
    "    plt.savefig(os.path.join(save_dir, f\"VAR_multipopulation_window_{window}_stride_{stride}.png\"))\n",
    "    plt.close()\n",
    "    \n",
    "    \n",
    "    # PLOT CRITICALITY DISTRIBUTION\n",
    "    lw = 6\n",
    "    rows = 3\n",
    "    cols = 2\n",
    "    fig, axs = plt.subplots(rows, cols, figsize=(12, 12))\n",
    "    for i, area in enumerate(VAR_results.keys()):\n",
    "        ax = axs[int(i/cols)][i % cols]\n",
    "\n",
    "        bin_nums = 20\n",
    "        bin_min = np.concatenate(VAR_results[area].criticality_inds.to_numpy()).min()\n",
    "#         bin_min = 0.88\n",
    "#         if area == 'all':\n",
    "#             bin_min = 0.85\n",
    "#         elif area == 'Thal':\n",
    "#             bin_min = 0.98\n",
    "        bin_max = np.concatenate(VAR_results[area].criticality_inds.to_numpy()).max()\n",
    "#         bin_max = 1.03\n",
    "#         if area == 'Thal':\n",
    "#             bin_max = 1.01\n",
    "        bins = [(bin_max - bin_min)*i/bin_nums + bin_min for i in range(bin_nums + 1 )]\n",
    "        criticality_prob_dist = np.zeros((VAR_results[area].criticality_inds.shape[0], bin_nums))\n",
    "        for t in range(VAR_results[area].criticality_inds.shape[0]):\n",
    "            criticality_prob_dist[t] = np.histogram(VAR_results[area].criticality_inds[t], bins=bins)[0]\n",
    "\n",
    "        im = ax.pcolormesh(criticality_prob_dist.T, cmap='hot')\n",
    "        start_times = np.arange(VAR_results[area].criticality_inds.shape[0])*stride/60\n",
    "        T_max = VAR_results[area].criticality_inds.shape[0]*stride/60\n",
    "        ax.set_xticks([int(i*60/stride) for i in np.arange(0, T_max, 20)], [int(i) for i in np.arange(0, T_max, 20)])\n",
    "        ax.set_yticks(np.arange(0, 21, 2), [f\"{b:.3f}\" for b in np.array(bins)[np.arange(0, 21, 2)]])\n",
    "        ax.tick_params(labelsize=13)\n",
    "        ax.set_xlabel(\"Time (min)\", fontsize=14)\n",
    "        ax.set_ylabel(\"Criticality Index\", fontsize=14)\n",
    "        ax.set_title(f\"{area}\", fontsize=18)\n",
    "        ax.axvline(session_info['eyesClose'][-1]/stride if isinstance(session_info['eyesClose'], np.ndarray) else session_info['eyesClose']/stride, linestyle='--', lw=lw, c='red', label=\"loss of consciousness\")\n",
    "        ax.axvline(session_info['eyesOpen'][-1]/stride if isinstance(session_info['eyesOpen'], np.ndarray) else session_info['eyesOpen']/stride, linestyle='--', lw=lw, c='green', label=\"return of consciousness\")\n",
    "        ax.axvline(session_info['drugStart'][0]/stride, color='plum', linestyle='--', lw=lw, label=f\"drug infusion 1 start - dose = {session_info['drugDose'][0]}\")\n",
    "        ax.axvline(session_info['drugStart'][1]/stride, color='darkorchid', linestyle='--', lw=lw, label=f\"drug infusion 2 start - dose = {session_info['drugDose'][1]}\")\n",
    "        ax.axvline(session_info['drugEnd'][1]/stride, color='purple', linestyle='--', lw=lw, label=f\"drug infusion 2 end\")\n",
    "        handles, labels = ax.get_legend_handles_labels()\n",
    "        # ax.fill_between(np.arange(session_info['drugStart'][1], session_info['drugEnd'][1], stride)/60, \n",
    "        #     min_val, max_val, color='darkorchid', alpha=0.2, label=f\"drug infusion 1 - dose = {session_info['drugDose'][1]}\")\n",
    "    #     ax.legend(fontsize=14, loc='upper center', ncol=4, bbox_to_anchor=(0.5, -0.05),fancybox=True, shadow=True)\n",
    "    #     plt.colorbar(label=\"Number of modes\")\n",
    "    \n",
    "    # PLOT vlPFC from MULTIPOP\n",
    "    ax = axs[2][1]\n",
    "    unit_indices = np.where(electrode_info['area'] == 'vlPFC')[0]\n",
    "    bin_nums = 20\n",
    "    criticality_inds = np.zeros((len(VAR_results['all']), len(unit_indices)))\n",
    "    for t in range(len(VAR_results['all'])):\n",
    "        e, _ = np.linalg.eig(VAR_results['all'].A_mat.iloc[t][unit_indices][:, unit_indices])\n",
    "        criticality_inds[t] = np.abs(e)\n",
    "    bin_min = criticality_inds.min()\n",
    "    #         bin_min = 0.88\n",
    "    #         if area == 'all':\n",
    "    #             bin_min = 0.85\n",
    "    #         elif area == 'Thal':\n",
    "    #             bin_min = 0.98\n",
    "    bin_max = criticality_inds.max()\n",
    "    #         bin_max = 1.03\n",
    "    #         if area == 'Thal':\n",
    "    #             bin_max = 1.01\n",
    "    bins = [(bin_max - bin_min)*i/bin_nums + bin_min for i in range(bin_nums + 1 )]\n",
    "    criticality_prob_dist = np.zeros((criticality_inds.shape[0], bin_nums))\n",
    "    for t in range(criticality_inds.shape[0]):\n",
    "        criticality_prob_dist[t] = np.histogram(criticality_inds[t], bins=bins)[0]\n",
    "\n",
    "    im = ax.pcolormesh(criticality_prob_dist.T, cmap='hot')\n",
    "    start_times = np.arange(VAR_results[area].criticality_inds.shape[0])*stride/60\n",
    "    T_max = VAR_results[area].criticality_inds.shape[0]*stride/60\n",
    "    ax.set_xticks([int(i*60/stride) for i in np.arange(0, T_max, 20)], [int(i) for i in np.arange(0, T_max, 20)])\n",
    "    ax.set_yticks(np.arange(0, 21, 2), [f\"{b:.3f}\" for b in np.array(bins)[np.arange(0, 21, 2)]])\n",
    "    ax.tick_params(labelsize=13)\n",
    "    ax.set_xlabel(\"Time (min)\", fontsize=14)\n",
    "    ax.set_ylabel(\"Criticality Index\", fontsize=14)\n",
    "    ax.set_title(f\"vlPFC Multipop\", fontsize=18)\n",
    "    ax.axvline(session_info['eyesClose'][-1]/stride if isinstance(session_info['eyesClose'], np.ndarray) else session_info['eyesClose']/stride, linestyle='--', lw=lw, c='red', label=\"loss of consciousness\")\n",
    "    ax.axvline(session_info['eyesOpen'][-1]/stride if isinstance(session_info['eyesOpen'], np.ndarray) else session_info['eyesOpen']/stride, linestyle='--', lw=lw, c='green', label=\"return of consciousness\")\n",
    "    ax.axvline(session_info['drugStart'][0]/stride, color='plum', linestyle='--', lw=lw, label=f\"drug infusion 1 start - dose = {session_info['drugDose'][0]}\")\n",
    "    ax.axvline(session_info['drugStart'][1]/stride, color='darkorchid', linestyle='--', lw=lw, label=f\"drug infusion 2 start - dose = {session_info['drugDose'][1]}\")\n",
    "    ax.axvline(session_info['drugEnd'][1]/stride, color='purple', linestyle='--', lw=lw, label=f\"drug infusion 2 end\")\n",
    "    handles, labels = ax.get_legend_handles_labels()\n",
    "\n",
    "    plt.suptitle(f\"Distribution of Criticality Indices From VAR\\n{window} s Windows\", fontsize=19)\n",
    "    fig.tight_layout()\n",
    "    cbar_ax = fig.add_axes([1, 0.15, 0.05, 0.7])\n",
    "    cb = fig.colorbar(im, cax=cbar_ax)\n",
    "    cb.set_label(label='# modes', fontsize=14)\n",
    "    fig.legend(handles, labels, loc='upper center', ncol=4, bbox_to_anchor=(0.5, -0.05),fancybox=True, shadow=True)\n",
    "    plt.savefig(os.path.join(save_dir, f\"VAR_criticality_dists_window_{window}_stride_{stride}.png\"))\n",
    "    plt.close()\n",
    "\n",
    "    \n",
    "    start_anesthesia = int(session_info['drugStart'][0]/stride)\n",
    "    start_anesthesia -= start_ind\n",
    "    sleep_time = int(session_info['eyesClose'][-1]/stride) if isinstance(session_info['eyesClose'], np.ndarray) else int(session_info['eyesClose']/stride)\n",
    "    sleep_time -= start_ind\n",
    "    wake_time = int(session_info['eyesOpen'][-1]/stride) if isinstance(session_info['eyesOpen'], np.ndarray) else int(session_info['eyesOpen']/stride)\n",
    "    wake_time -= start_ind\n",
    "    \n",
    "    return individual_criticalities, multipop_criticalities, start_anesthesia, sleep_time, wake_time"
   ]
  },
  {
   "cell_type": "markdown",
   "id": "184ba6bf",
   "metadata": {},
   "source": [
    "## Load All Completed Sessions"
   ]
  },
  {
   "cell_type": "code",
   "execution_count": 4,
   "id": "e456db1c",
   "metadata": {},
   "outputs": [],
   "source": [
    "data_dir = \"/om/user/eisenaj/datasets/anesthesia/mat/propofolPuffTone\"\n",
    "results_dir = \"/om/user/eisenaj/ChaoticConsciousness/results/propofolPuffTone/VAR\"\n",
    "window = 2.5\n",
    "stride = 2.5\n",
    "task_type = 'VAR'\n",
    "data_file_regex = re.compile(\".*.mat\")\n",
    "data_files = [f for f in os.listdir(data_dir) if data_file_regex.match(f)]\n",
    "\n",
    "results_to_process = []\n",
    "for data_file in data_files:\n",
    "    session = data_file[:-4]\n",
    "    try:\n",
    "        result_path = get_result_path(results_dir, session, window, stride)\n",
    "        results_to_process.append((session, result_path))\n",
    "    except:\n",
    "        pass"
   ]
  },
  {
   "cell_type": "code",
   "execution_count": null,
   "id": "510295df",
   "metadata": {},
   "outputs": [
    {
     "data": {
      "application/vnd.jupyter.widget-view+json": {
       "model_id": "e5b77e2060c34267be0519bd532d79f8",
       "version_major": 2,
       "version_minor": 0
      },
      "text/plain": [
       "  0%|          | 0/21 [00:00<?, ?it/s]"
      ]
     },
     "metadata": {},
     "output_type": "display_data"
    },
    {
     "name": "stdout",
     "output_type": "stream",
     "text": [
      "Loading data ...\n",
      "Data loaded (took 6.52 seconds)\n"
     ]
    },
    {
     "data": {
      "application/vnd.jupyter.widget-view+json": {
       "model_id": "dde7863c4bdc46a39008d493c76d3429",
       "version_major": 2,
       "version_minor": 0
      },
      "text/plain": [
       "  0%|          | 0/5 [00:00<?, ?it/s]"
      ]
     },
     "metadata": {},
     "output_type": "display_data"
    },
    {
     "name": "stdout",
     "output_type": "stream",
     "text": [
      "Loading data ...\n",
      "Data loaded (took 2.49 seconds)\n"
     ]
    },
    {
     "data": {
      "application/vnd.jupyter.widget-view+json": {
       "model_id": "57db73dfafa848f48c627c0dcffb5c73",
       "version_major": 2,
       "version_minor": 0
      },
      "text/plain": [
       "  0%|          | 0/5 [00:00<?, ?it/s]"
      ]
     },
     "metadata": {},
     "output_type": "display_data"
    },
    {
     "name": "stdout",
     "output_type": "stream",
     "text": [
      "Loading data ...\n",
      "Data loaded (took 3.18 seconds)\n"
     ]
    },
    {
     "data": {
      "application/vnd.jupyter.widget-view+json": {
       "model_id": "c318d4ef16cd4dddac2f36ee6b37323e",
       "version_major": 2,
       "version_minor": 0
      },
      "text/plain": [
       "  0%|          | 0/5 [00:00<?, ?it/s]"
      ]
     },
     "metadata": {},
     "output_type": "display_data"
    },
    {
     "name": "stdout",
     "output_type": "stream",
     "text": [
      "Loading data ...\n",
      "Data loaded (took 2.74 seconds)\n"
     ]
    },
    {
     "data": {
      "application/vnd.jupyter.widget-view+json": {
       "model_id": "3739f342585549ba973e85a5f8025df5",
       "version_major": 2,
       "version_minor": 0
      },
      "text/plain": [
       "  0%|          | 0/5 [00:00<?, ?it/s]"
      ]
     },
     "metadata": {},
     "output_type": "display_data"
    },
    {
     "name": "stdout",
     "output_type": "stream",
     "text": [
      "Loading data ...\n",
      "Data loaded (took 5.71 seconds)\n"
     ]
    },
    {
     "data": {
      "application/vnd.jupyter.widget-view+json": {
       "model_id": "c807132a2dba4458b2131fc06316592b",
       "version_major": 2,
       "version_minor": 0
      },
      "text/plain": [
       "  0%|          | 0/5 [00:00<?, ?it/s]"
      ]
     },
     "metadata": {},
     "output_type": "display_data"
    },
    {
     "name": "stdout",
     "output_type": "stream",
     "text": [
      "Loading data ...\n",
      "Data loaded (took 2.90 seconds)\n"
     ]
    },
    {
     "data": {
      "application/vnd.jupyter.widget-view+json": {
       "model_id": "86f51bd5ac294606acb6c136329b18bc",
       "version_major": 2,
       "version_minor": 0
      },
      "text/plain": [
       "  0%|          | 0/5 [00:00<?, ?it/s]"
      ]
     },
     "metadata": {},
     "output_type": "display_data"
    },
    {
     "name": "stdout",
     "output_type": "stream",
     "text": [
      "Loading data ...\n",
      "Data loaded (took 6.08 seconds)\n"
     ]
    },
    {
     "data": {
      "application/vnd.jupyter.widget-view+json": {
       "model_id": "85a4a5b9541548e4987f3599445453f6",
       "version_major": 2,
       "version_minor": 0
      },
      "text/plain": [
       "  0%|          | 0/5 [00:00<?, ?it/s]"
      ]
     },
     "metadata": {},
     "output_type": "display_data"
    },
    {
     "name": "stdout",
     "output_type": "stream",
     "text": [
      "Loading data ...\n",
      "Data loaded (took 6.45 seconds)\n"
     ]
    },
    {
     "data": {
      "application/vnd.jupyter.widget-view+json": {
       "model_id": "f9c25aee24df4415ba505c4e78926834",
       "version_major": 2,
       "version_minor": 0
      },
      "text/plain": [
       "  0%|          | 0/5 [00:00<?, ?it/s]"
      ]
     },
     "metadata": {},
     "output_type": "display_data"
    },
    {
     "name": "stdout",
     "output_type": "stream",
     "text": [
      "Loading data ...\n",
      "Data loaded (took 4.55 seconds)\n"
     ]
    },
    {
     "data": {
      "application/vnd.jupyter.widget-view+json": {
       "model_id": "b9c230867ad04c86ac4bbccff1ec4a1e",
       "version_major": 2,
       "version_minor": 0
      },
      "text/plain": [
       "  0%|          | 0/5 [00:00<?, ?it/s]"
      ]
     },
     "metadata": {},
     "output_type": "display_data"
    },
    {
     "name": "stdout",
     "output_type": "stream",
     "text": [
      "Need to compile /om/user/eisenaj/ChaoticConsciousness/results/propofolPuffTone/VAR/VAR_MrJones-Anesthesia-20160210-01_window_2.5_stride_2.5_Feb-07-2022_0011/FEF\n"
     ]
    },
    {
     "data": {
      "application/vnd.jupyter.widget-view+json": {
       "model_id": "5b0d11440d3d47cea3d86793205e048f",
       "version_major": 2,
       "version_minor": 0
      },
      "text/plain": [
       "0it [00:00, ?it/s]"
      ]
     },
     "metadata": {},
     "output_type": "display_data"
    },
    {
     "name": "stdout",
     "output_type": "stream",
     "text": [
      "Loading data ...\n"
     ]
    },
    {
     "name": "stderr",
     "output_type": "stream",
     "text": [
      "Traceback (most recent call last):\n",
      "  File \"/tmp/ipykernel_22789/3985115137.py\", line 23, in plot_result\n",
      "    VAR_results[file] = load(os.path.join(VAR_results_dir, file))\n",
      "  File \"../../../utils.py\", line 212, in load\n",
      "    with open(filepath, 'rb') as handle:\n",
      "IsADirectoryError: [Errno 21] Is a directory: '/om/user/eisenaj/ChaoticConsciousness/results/propofolPuffTone/VAR/VAR_MrJones-Anesthesia-20160210-01_window_2.5_stride_2.5_Feb-07-2022_0011/FEF'\n",
      "\n",
      "During handling of the above exception, another exception occurred:\n",
      "\n",
      "Traceback (most recent call last):\n",
      "  File \"/tmp/ipykernel_22789/1560488819.py\", line 6, in <module>\n",
      "    individual_criticalities[session], multipop_criticalities[session], start_anesthesia, sleep_time, wake_time = plot_result(session, VAR_results_dir, window, stride)\n",
      "  File \"/tmp/ipykernel_22789/3985115137.py\", line 27, in plot_result\n",
      "    VAR_results[file] = compile_folder(os.path.join(VAR_results_dir, file))\n",
      "  File \"../../../utils.py\", line 227, in compile_folder\n",
      "    results_df = results_df.sort_values('start_ind')\n",
      "  File \"/om2/user/eisenaj/anaconda/envs/chaotic-consciousness/lib/python3.9/site-packages/pandas/util/_decorators.py\", line 311, in wrapper\n",
      "    return func(*args, **kwargs)\n",
      "  File \"/om2/user/eisenaj/anaconda/envs/chaotic-consciousness/lib/python3.9/site-packages/pandas/core/frame.py\", line 6259, in sort_values\n",
      "    k = self._get_label_or_level_values(by, axis=axis)\n",
      "  File \"/om2/user/eisenaj/anaconda/envs/chaotic-consciousness/lib/python3.9/site-packages/pandas/core/generic.py\", line 1779, in _get_label_or_level_values\n",
      "    raise KeyError(key)\n",
      "KeyError: 'start_ind'\n"
     ]
    },
    {
     "name": "stdout",
     "output_type": "stream",
     "text": [
      "Data loaded (took 5.39 seconds)\n"
     ]
    },
    {
     "data": {
      "application/vnd.jupyter.widget-view+json": {
       "model_id": "c6f5029ad3d84fc8bdd6e3ccdce454d1",
       "version_major": 2,
       "version_minor": 0
      },
      "text/plain": [
       "  0%|          | 0/5 [00:00<?, ?it/s]"
      ]
     },
     "metadata": {},
     "output_type": "display_data"
    },
    {
     "name": "stdout",
     "output_type": "stream",
     "text": [
      "Need to compile /om/user/eisenaj/ChaoticConsciousness/results/propofolPuffTone/VAR/VAR_MrJones-Anesthesia-20160123-01_window_2.5_stride_2.5_Feb-05-2022_1600/FEF\n"
     ]
    },
    {
     "data": {
      "application/vnd.jupyter.widget-view+json": {
       "model_id": "9d32f5af646346c0bd4f4e5361600d99",
       "version_major": 2,
       "version_minor": 0
      },
      "text/plain": [
       "  0%|          | 0/4651 [00:00<?, ?it/s]"
      ]
     },
     "metadata": {},
     "output_type": "display_data"
    },
    {
     "name": "stdout",
     "output_type": "stream",
     "text": [
      "Need to compile /om/user/eisenaj/ChaoticConsciousness/results/propofolPuffTone/VAR/VAR_MrJones-Anesthesia-20160123-01_window_2.5_stride_2.5_Feb-05-2022_1600/7b\n"
     ]
    },
    {
     "data": {
      "application/vnd.jupyter.widget-view+json": {
       "model_id": "4876ad94aefb4bf59725c7b84d423f34",
       "version_major": 2,
       "version_minor": 0
      },
      "text/plain": [
       "  0%|          | 0/4651 [00:00<?, ?it/s]"
      ]
     },
     "metadata": {},
     "output_type": "display_data"
    },
    {
     "name": "stdout",
     "output_type": "stream",
     "text": [
      "Need to compile /om/user/eisenaj/ChaoticConsciousness/results/propofolPuffTone/VAR/VAR_MrJones-Anesthesia-20160123-01_window_2.5_stride_2.5_Feb-05-2022_1600/all\n"
     ]
    },
    {
     "data": {
      "application/vnd.jupyter.widget-view+json": {
       "model_id": "3b6b2ef3375c463d85bcae912bc7fdcb",
       "version_major": 2,
       "version_minor": 0
      },
      "text/plain": [
       "  0%|          | 0/4651 [00:00<?, ?it/s]"
      ]
     },
     "metadata": {},
     "output_type": "display_data"
    },
    {
     "name": "stdout",
     "output_type": "stream",
     "text": [
      "Need to compile /om/user/eisenaj/ChaoticConsciousness/results/propofolPuffTone/VAR/VAR_MrJones-Anesthesia-20160123-01_window_2.5_stride_2.5_Feb-05-2022_1600/vlPFC\n"
     ]
    },
    {
     "data": {
      "application/vnd.jupyter.widget-view+json": {
       "model_id": "c84740073ced41129d566736333cf954",
       "version_major": 2,
       "version_minor": 0
      },
      "text/plain": [
       "  0%|          | 0/4651 [00:00<?, ?it/s]"
      ]
     },
     "metadata": {},
     "output_type": "display_data"
    },
    {
     "name": "stdout",
     "output_type": "stream",
     "text": [
      "Need to compile /om/user/eisenaj/ChaoticConsciousness/results/propofolPuffTone/VAR/VAR_MrJones-Anesthesia-20160123-01_window_2.5_stride_2.5_Feb-05-2022_1600/CPB\n"
     ]
    },
    {
     "data": {
      "application/vnd.jupyter.widget-view+json": {
       "model_id": "ab083fb79af64bcea457eb40f05f31ff",
       "version_major": 2,
       "version_minor": 0
      },
      "text/plain": [
       "  0%|          | 0/4651 [00:00<?, ?it/s]"
      ]
     },
     "metadata": {},
     "output_type": "display_data"
    },
    {
     "name": "stdout",
     "output_type": "stream",
     "text": [
      "Loading data ...\n",
      "Data loaded (took 2.67 seconds)\n"
     ]
    },
    {
     "data": {
      "application/vnd.jupyter.widget-view+json": {
       "model_id": "29b4ed3291c94ff890c49a8015eccd5c",
       "version_major": 2,
       "version_minor": 0
      },
      "text/plain": [
       "  0%|          | 0/5 [00:00<?, ?it/s]"
      ]
     },
     "metadata": {},
     "output_type": "display_data"
    },
    {
     "name": "stdout",
     "output_type": "stream",
     "text": [
      "Need to compile /om/user/eisenaj/ChaoticConsciousness/results/propofolPuffTone/VAR/VAR_Mary-Anesthesia-20160826-02_window_2.5_stride_2.5_Feb-05-2022_1634/FEF\n"
     ]
    },
    {
     "data": {
      "application/vnd.jupyter.widget-view+json": {
       "model_id": "e0ac4c0f23514800b8a0487eca6e6f32",
       "version_major": 2,
       "version_minor": 0
      },
      "text/plain": [
       "  0%|          | 0/2688 [00:00<?, ?it/s]"
      ]
     },
     "metadata": {},
     "output_type": "display_data"
    },
    {
     "name": "stdout",
     "output_type": "stream",
     "text": [
      "Need to compile /om/user/eisenaj/ChaoticConsciousness/results/propofolPuffTone/VAR/VAR_Mary-Anesthesia-20160826-02_window_2.5_stride_2.5_Feb-05-2022_1634/7b\n"
     ]
    },
    {
     "data": {
      "application/vnd.jupyter.widget-view+json": {
       "model_id": "867419e9f92149f4993a2b255fd573de",
       "version_major": 2,
       "version_minor": 0
      },
      "text/plain": [
       "  0%|          | 0/2688 [00:00<?, ?it/s]"
      ]
     },
     "metadata": {},
     "output_type": "display_data"
    },
    {
     "name": "stdout",
     "output_type": "stream",
     "text": [
      "Need to compile /om/user/eisenaj/ChaoticConsciousness/results/propofolPuffTone/VAR/VAR_Mary-Anesthesia-20160826-02_window_2.5_stride_2.5_Feb-05-2022_1634/all\n"
     ]
    },
    {
     "data": {
      "application/vnd.jupyter.widget-view+json": {
       "model_id": "0fd66cdcef8948bcbd71da433eb35173",
       "version_major": 2,
       "version_minor": 0
      },
      "text/plain": [
       "  0%|          | 0/2688 [00:00<?, ?it/s]"
      ]
     },
     "metadata": {},
     "output_type": "display_data"
    },
    {
     "name": "stdout",
     "output_type": "stream",
     "text": [
      "Need to compile /om/user/eisenaj/ChaoticConsciousness/results/propofolPuffTone/VAR/VAR_Mary-Anesthesia-20160826-02_window_2.5_stride_2.5_Feb-05-2022_1634/vlPFC\n"
     ]
    },
    {
     "data": {
      "application/vnd.jupyter.widget-view+json": {
       "model_id": "483c84a1ed63414886746ee16b3fd3af",
       "version_major": 2,
       "version_minor": 0
      },
      "text/plain": [
       "  0%|          | 0/2688 [00:00<?, ?it/s]"
      ]
     },
     "metadata": {},
     "output_type": "display_data"
    },
    {
     "name": "stdout",
     "output_type": "stream",
     "text": [
      "Need to compile /om/user/eisenaj/ChaoticConsciousness/results/propofolPuffTone/VAR/VAR_Mary-Anesthesia-20160826-02_window_2.5_stride_2.5_Feb-05-2022_1634/CPB\n"
     ]
    },
    {
     "data": {
      "application/vnd.jupyter.widget-view+json": {
       "model_id": "9759f2d1a441485d8115919ecc9cd212",
       "version_major": 2,
       "version_minor": 0
      },
      "text/plain": [
       "  0%|          | 0/2688 [00:00<?, ?it/s]"
      ]
     },
     "metadata": {},
     "output_type": "display_data"
    },
    {
     "name": "stdout",
     "output_type": "stream",
     "text": [
      "Loading data ...\n",
      "Data loaded (took 6.14 seconds)\n"
     ]
    },
    {
     "data": {
      "application/vnd.jupyter.widget-view+json": {
       "model_id": "2379b143820c42b4810c76992495c20f",
       "version_major": 2,
       "version_minor": 0
      },
      "text/plain": [
       "  0%|          | 0/5 [00:00<?, ?it/s]"
      ]
     },
     "metadata": {},
     "output_type": "display_data"
    },
    {
     "name": "stdout",
     "output_type": "stream",
     "text": [
      "Need to compile /om/user/eisenaj/ChaoticConsciousness/results/propofolPuffTone/VAR/VAR_MrJones-Anesthesia-20160125-01_window_2.5_stride_2.5_Feb-05-2022_1656/FEF\n"
     ]
    },
    {
     "data": {
      "application/vnd.jupyter.widget-view+json": {
       "model_id": "bb85b7d01ffc40288342890ad25de085",
       "version_major": 2,
       "version_minor": 0
      },
      "text/plain": [
       "  0%|          | 0/4022 [00:00<?, ?it/s]"
      ]
     },
     "metadata": {},
     "output_type": "display_data"
    },
    {
     "name": "stdout",
     "output_type": "stream",
     "text": [
      "Need to compile /om/user/eisenaj/ChaoticConsciousness/results/propofolPuffTone/VAR/VAR_MrJones-Anesthesia-20160125-01_window_2.5_stride_2.5_Feb-05-2022_1656/7b\n"
     ]
    },
    {
     "data": {
      "application/vnd.jupyter.widget-view+json": {
       "model_id": "68a2f12985514269975a6209f8eb709c",
       "version_major": 2,
       "version_minor": 0
      },
      "text/plain": [
       "  0%|          | 0/4022 [00:00<?, ?it/s]"
      ]
     },
     "metadata": {},
     "output_type": "display_data"
    },
    {
     "name": "stdout",
     "output_type": "stream",
     "text": [
      "Need to compile /om/user/eisenaj/ChaoticConsciousness/results/propofolPuffTone/VAR/VAR_MrJones-Anesthesia-20160125-01_window_2.5_stride_2.5_Feb-05-2022_1656/all\n"
     ]
    },
    {
     "data": {
      "application/vnd.jupyter.widget-view+json": {
       "model_id": "87a0b1e5dbe84f7eb769a9a5bba5591a",
       "version_major": 2,
       "version_minor": 0
      },
      "text/plain": [
       "  0%|          | 0/4022 [00:00<?, ?it/s]"
      ]
     },
     "metadata": {},
     "output_type": "display_data"
    },
    {
     "name": "stdout",
     "output_type": "stream",
     "text": [
      "Need to compile /om/user/eisenaj/ChaoticConsciousness/results/propofolPuffTone/VAR/VAR_MrJones-Anesthesia-20160125-01_window_2.5_stride_2.5_Feb-05-2022_1656/vlPFC\n"
     ]
    },
    {
     "data": {
      "application/vnd.jupyter.widget-view+json": {
       "model_id": "5918b004b1be4ff88146a92b9f93efdb",
       "version_major": 2,
       "version_minor": 0
      },
      "text/plain": [
       "  0%|          | 0/4022 [00:00<?, ?it/s]"
      ]
     },
     "metadata": {},
     "output_type": "display_data"
    },
    {
     "name": "stdout",
     "output_type": "stream",
     "text": [
      "Need to compile /om/user/eisenaj/ChaoticConsciousness/results/propofolPuffTone/VAR/VAR_MrJones-Anesthesia-20160125-01_window_2.5_stride_2.5_Feb-05-2022_1656/CPB\n"
     ]
    },
    {
     "data": {
      "application/vnd.jupyter.widget-view+json": {
       "model_id": "371572385aa746cd8b71062bb922c5ff",
       "version_major": 2,
       "version_minor": 0
      },
      "text/plain": [
       "  0%|          | 0/4022 [00:00<?, ?it/s]"
      ]
     },
     "metadata": {},
     "output_type": "display_data"
    },
    {
     "name": "stdout",
     "output_type": "stream",
     "text": [
      "Loading data ...\n",
      "Data loaded (took 4.01 seconds)\n"
     ]
    },
    {
     "data": {
      "application/vnd.jupyter.widget-view+json": {
       "model_id": "608a456d7b284f3ab0e2e6dcd4f79562",
       "version_major": 2,
       "version_minor": 0
      },
      "text/plain": [
       "  0%|          | 0/5 [00:00<?, ?it/s]"
      ]
     },
     "metadata": {},
     "output_type": "display_data"
    },
    {
     "name": "stdout",
     "output_type": "stream",
     "text": [
      "Need to compile /om/user/eisenaj/ChaoticConsciousness/results/propofolPuffTone/VAR/VAR_MrJones-Anesthesia-20160301-01_window_2.5_stride_2.5_Feb-05-2022_1736/FEF\n"
     ]
    },
    {
     "data": {
      "application/vnd.jupyter.widget-view+json": {
       "model_id": "5d8d6f8368404db088cbf38bc8ed6936",
       "version_major": 2,
       "version_minor": 0
      },
      "text/plain": [
       "  0%|          | 0/3949 [00:00<?, ?it/s]"
      ]
     },
     "metadata": {},
     "output_type": "display_data"
    },
    {
     "name": "stdout",
     "output_type": "stream",
     "text": [
      "Need to compile /om/user/eisenaj/ChaoticConsciousness/results/propofolPuffTone/VAR/VAR_MrJones-Anesthesia-20160301-01_window_2.5_stride_2.5_Feb-05-2022_1736/7b\n"
     ]
    },
    {
     "data": {
      "application/vnd.jupyter.widget-view+json": {
       "model_id": "b30c33ddd974473e980bb6c951e74e25",
       "version_major": 2,
       "version_minor": 0
      },
      "text/plain": [
       "  0%|          | 0/3949 [00:00<?, ?it/s]"
      ]
     },
     "metadata": {},
     "output_type": "display_data"
    },
    {
     "name": "stdout",
     "output_type": "stream",
     "text": [
      "Need to compile /om/user/eisenaj/ChaoticConsciousness/results/propofolPuffTone/VAR/VAR_MrJones-Anesthesia-20160301-01_window_2.5_stride_2.5_Feb-05-2022_1736/all\n"
     ]
    },
    {
     "data": {
      "application/vnd.jupyter.widget-view+json": {
       "model_id": "4b085e60b879448f97f6091e89d641a8",
       "version_major": 2,
       "version_minor": 0
      },
      "text/plain": [
       "  0%|          | 0/3949 [00:00<?, ?it/s]"
      ]
     },
     "metadata": {},
     "output_type": "display_data"
    },
    {
     "name": "stdout",
     "output_type": "stream",
     "text": [
      "Need to compile /om/user/eisenaj/ChaoticConsciousness/results/propofolPuffTone/VAR/VAR_MrJones-Anesthesia-20160301-01_window_2.5_stride_2.5_Feb-05-2022_1736/vlPFC\n"
     ]
    },
    {
     "data": {
      "application/vnd.jupyter.widget-view+json": {
       "model_id": "4c8bee37460c4a6da948f1495d4fa103",
       "version_major": 2,
       "version_minor": 0
      },
      "text/plain": [
       "  0%|          | 0/3949 [00:00<?, ?it/s]"
      ]
     },
     "metadata": {},
     "output_type": "display_data"
    },
    {
     "name": "stdout",
     "output_type": "stream",
     "text": [
      "Need to compile /om/user/eisenaj/ChaoticConsciousness/results/propofolPuffTone/VAR/VAR_MrJones-Anesthesia-20160301-01_window_2.5_stride_2.5_Feb-05-2022_1736/CPB\n"
     ]
    },
    {
     "data": {
      "application/vnd.jupyter.widget-view+json": {
       "model_id": "1035208c68894a82a0961408a7177e51",
       "version_major": 2,
       "version_minor": 0
      },
      "text/plain": [
       "  0%|          | 0/3949 [00:00<?, ?it/s]"
      ]
     },
     "metadata": {},
     "output_type": "display_data"
    },
    {
     "name": "stdout",
     "output_type": "stream",
     "text": [
      "Loading data ...\n",
      "Data loaded (took 4.61 seconds)\n"
     ]
    },
    {
     "data": {
      "application/vnd.jupyter.widget-view+json": {
       "model_id": "8c70fe2f10f94abf90f140cfac237340",
       "version_major": 2,
       "version_minor": 0
      },
      "text/plain": [
       "  0%|          | 0/5 [00:00<?, ?it/s]"
      ]
     },
     "metadata": {},
     "output_type": "display_data"
    },
    {
     "name": "stdout",
     "output_type": "stream",
     "text": [
      "Need to compile /om/user/eisenaj/ChaoticConsciousness/results/propofolPuffTone/VAR/VAR_MrJones-Anesthesia-20160201-01_window_2.5_stride_2.5_Feb-05-2022_1808/FEF\n"
     ]
    },
    {
     "data": {
      "application/vnd.jupyter.widget-view+json": {
       "model_id": "96eee4986d9941b090092f65c0b4b31f",
       "version_major": 2,
       "version_minor": 0
      },
      "text/plain": [
       "0it [00:00, ?it/s]"
      ]
     },
     "metadata": {},
     "output_type": "display_data"
    },
    {
     "name": "stdout",
     "output_type": "stream",
     "text": [
      "Loading data ...\n"
     ]
    },
    {
     "name": "stderr",
     "output_type": "stream",
     "text": [
      "Traceback (most recent call last):\n",
      "  File \"/tmp/ipykernel_22789/3985115137.py\", line 23, in plot_result\n",
      "    VAR_results[file] = load(os.path.join(VAR_results_dir, file))\n",
      "  File \"../../../utils.py\", line 212, in load\n",
      "    with open(filepath, 'rb') as handle:\n",
      "IsADirectoryError: [Errno 21] Is a directory: '/om/user/eisenaj/ChaoticConsciousness/results/propofolPuffTone/VAR/VAR_MrJones-Anesthesia-20160201-01_window_2.5_stride_2.5_Feb-05-2022_1808/FEF'\n",
      "\n",
      "During handling of the above exception, another exception occurred:\n",
      "\n",
      "Traceback (most recent call last):\n",
      "  File \"/tmp/ipykernel_22789/1560488819.py\", line 6, in <module>\n",
      "    individual_criticalities[session], multipop_criticalities[session], start_anesthesia, sleep_time, wake_time = plot_result(session, VAR_results_dir, window, stride)\n",
      "  File \"/tmp/ipykernel_22789/3985115137.py\", line 27, in plot_result\n",
      "    VAR_results[file] = compile_folder(os.path.join(VAR_results_dir, file))\n",
      "  File \"../../../utils.py\", line 227, in compile_folder\n",
      "    results_df = results_df.sort_values('start_ind')\n",
      "  File \"/om2/user/eisenaj/anaconda/envs/chaotic-consciousness/lib/python3.9/site-packages/pandas/util/_decorators.py\", line 311, in wrapper\n",
      "    return func(*args, **kwargs)\n",
      "  File \"/om2/user/eisenaj/anaconda/envs/chaotic-consciousness/lib/python3.9/site-packages/pandas/core/frame.py\", line 6259, in sort_values\n",
      "    k = self._get_label_or_level_values(by, axis=axis)\n",
      "  File \"/om2/user/eisenaj/anaconda/envs/chaotic-consciousness/lib/python3.9/site-packages/pandas/core/generic.py\", line 1779, in _get_label_or_level_values\n",
      "    raise KeyError(key)\n",
      "KeyError: 'start_ind'\n"
     ]
    },
    {
     "name": "stdout",
     "output_type": "stream",
     "text": [
      "Data loaded (took 6.58 seconds)\n"
     ]
    },
    {
     "data": {
      "application/vnd.jupyter.widget-view+json": {
       "model_id": "c714d1fdcef64c92a71afbaffa2d39ba",
       "version_major": 2,
       "version_minor": 0
      },
      "text/plain": [
       "  0%|          | 0/5 [00:00<?, ?it/s]"
      ]
     },
     "metadata": {},
     "output_type": "display_data"
    },
    {
     "name": "stdout",
     "output_type": "stream",
     "text": [
      "Need to compile /om/user/eisenaj/ChaoticConsciousness/results/propofolPuffTone/VAR/VAR_MrJones-Anesthesia-20160107-01_window_2.5_stride_2.5_Feb-05-2022_1812/FEF\n"
     ]
    },
    {
     "data": {
      "application/vnd.jupyter.widget-view+json": {
       "model_id": "6884f7288bea44b7bea9f910e6cfd496",
       "version_major": 2,
       "version_minor": 0
      },
      "text/plain": [
       "  0%|          | 0/5224 [00:00<?, ?it/s]"
      ]
     },
     "metadata": {},
     "output_type": "display_data"
    },
    {
     "name": "stdout",
     "output_type": "stream",
     "text": [
      "Need to compile /om/user/eisenaj/ChaoticConsciousness/results/propofolPuffTone/VAR/VAR_MrJones-Anesthesia-20160107-01_window_2.5_stride_2.5_Feb-05-2022_1812/7b\n"
     ]
    },
    {
     "data": {
      "application/vnd.jupyter.widget-view+json": {
       "model_id": "585762c10a03453d8e43c6a18b2eef73",
       "version_major": 2,
       "version_minor": 0
      },
      "text/plain": [
       "  0%|          | 0/5224 [00:00<?, ?it/s]"
      ]
     },
     "metadata": {},
     "output_type": "display_data"
    },
    {
     "name": "stdout",
     "output_type": "stream",
     "text": [
      "Need to compile /om/user/eisenaj/ChaoticConsciousness/results/propofolPuffTone/VAR/VAR_MrJones-Anesthesia-20160107-01_window_2.5_stride_2.5_Feb-05-2022_1812/all\n"
     ]
    },
    {
     "data": {
      "application/vnd.jupyter.widget-view+json": {
       "model_id": "33ee0f225d0d4606bb45d00f877d15b1",
       "version_major": 2,
       "version_minor": 0
      },
      "text/plain": [
       "  0%|          | 0/5224 [00:00<?, ?it/s]"
      ]
     },
     "metadata": {},
     "output_type": "display_data"
    }
   ],
   "source": [
    "individual_criticalities = {}\n",
    "multipop_criticalities = {}\n",
    "\n",
    "for session, VAR_results_dir in tqdm(results_to_process):\n",
    "    try:\n",
    "        individual_criticalities[session], multipop_criticalities[session], start_anesthesia, sleep_time, wake_time = plot_result(session, VAR_results_dir, window, stride)\n",
    "    except:\n",
    "        tb.print_exc()"
   ]
  },
  {
   "cell_type": "code",
   "execution_count": null,
   "id": "c8f2f538",
   "metadata": {},
   "outputs": [],
   "source": [
    "individual_criticalities[session]['vlPFC'][:start_anesthesia].mean()"
   ]
  },
  {
   "cell_type": "code",
   "execution_count": 70,
   "id": "b9e310d8",
   "metadata": {},
   "outputs": [
    {
     "data": {
      "text/plain": [
       "0.932932040464869"
      ]
     },
     "execution_count": 70,
     "metadata": {},
     "output_type": "execute_result"
    }
   ],
   "source": [
    "individual_criticalities[session]['vlPFC'][sleep_time:wake_time].mean()"
   ]
  },
  {
   "cell_type": "code",
   "execution_count": 71,
   "id": "60ad52ca",
   "metadata": {},
   "outputs": [
    {
     "data": {
      "text/plain": [
       "0.8537944120848371"
      ]
     },
     "execution_count": 71,
     "metadata": {},
     "output_type": "execute_result"
    }
   ],
   "source": [
    "multipop_criticalities[session]['vlPFC'][:start_anesthesia].mean()"
   ]
  },
  {
   "cell_type": "code",
   "execution_count": 72,
   "id": "4ddfc6e8",
   "metadata": {},
   "outputs": [
    {
     "data": {
      "text/plain": [
       "0.8714641062022334"
      ]
     },
     "execution_count": 72,
     "metadata": {},
     "output_type": "execute_result"
    }
   ],
   "source": [
    "multipop_criticalities[session]['vlPFC'][sleep_time:wake_time].mean()"
   ]
  },
  {
   "cell_type": "code",
   "execution_count": 34,
   "id": "5376322e",
   "metadata": {},
   "outputs": [
    {
     "name": "stdout",
     "output_type": "stream",
     "text": [
      "Loading data ...\n",
      "Data loaded (took 155.49 seconds)\n"
     ]
    },
    {
     "data": {
      "application/vnd.jupyter.widget-view+json": {
       "model_id": "1f6a17e231794bd7a26dace0a99c57fe",
       "version_major": 2,
       "version_minor": 0
      },
      "text/plain": [
       "  0%|          | 0/5 [00:00<?, ?it/s]"
      ]
     },
     "metadata": {},
     "output_type": "display_data"
    }
   ],
   "source": [
    "session = results_to_process[0][0]\n",
    "VAR_results_dir = results_to_process[0][1]\n",
    "\n",
    "all_data_dir = f\"/om/user/eisenaj/datasets/anesthesia/mat\"\n",
    "    \n",
    "data_class = get_data_class(session, all_data_dir)\n",
    "save_dir = f\"/om/user/eisenaj/ChaoticConsciousness/plots/{data_class}/VAR/{session}\"\n",
    "os.makedirs(save_dir, exist_ok=True)\n",
    "\n",
    "# LOAD NEURAL DATA    \n",
    "filename = os.path.join(all_data_dir, data_class, f'{session}.mat')\n",
    "print(\"Loading data ...\")\n",
    "start = time.process_time()\n",
    "electrode_info, lfp, lfp_schema, session_info, spike_times, unit_info = loadmat(filename, variables=['electrodeInfo', 'lfp', 'lfpSchema', 'sessionInfo', 'spikeTimes', 'unitInfo'], verbose=False)\n",
    "spike_times = spike_times[0]\n",
    "dt = lfp_schema['smpInterval'][0]\n",
    "# T = lfp.shape[0]\n",
    "\n",
    "print(f\"Data loaded (took {time.process_time() - start:.2f} seconds)\")\n",
    "\n",
    "# LOAD VAR RESULTS\n",
    "VAR_results = {}\n",
    "for file in tqdm(os.listdir(VAR_results_dir)):\n",
    "    try:\n",
    "        VAR_results[file] = load(os.path.join(VAR_results_dir, file))\n",
    "    except IsADirectoryError:\n",
    "        print(f\"Need to compile {os.path.join(VAR_results_dir, file)}\")\n",
    "        # compile results\n",
    "        VAR_results[file] = compile_folder(os.path.join(VAR_results_dir, file))"
   ]
  },
  {
   "cell_type": "code",
   "execution_count": 35,
   "id": "771ac68c",
   "metadata": {},
   "outputs": [
    {
     "data": {
      "text/plain": [
       "227"
      ]
     },
     "execution_count": 35,
     "metadata": {},
     "output_type": "execute_result"
    }
   ],
   "source": [
    "len(electrode_info['area'])"
   ]
  },
  {
   "cell_type": "code",
   "execution_count": null,
   "id": "4334cf23",
   "metadata": {},
   "outputs": [],
   "source": []
  }
 ],
 "metadata": {
  "kernelspec": {
   "display_name": "Python 3 (ipykernel)",
   "language": "python",
   "name": "python3"
  },
  "language_info": {
   "codemirror_mode": {
    "name": "ipython",
    "version": 3
   },
   "file_extension": ".py",
   "mimetype": "text/x-python",
   "name": "python",
   "nbconvert_exporter": "python",
   "pygments_lexer": "ipython3",
   "version": "3.9.1"
  }
 },
 "nbformat": 4,
 "nbformat_minor": 5
}
