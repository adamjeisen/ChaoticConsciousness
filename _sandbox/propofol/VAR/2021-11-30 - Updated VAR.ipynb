{
 "cells": [
  {
   "cell_type": "code",
   "execution_count": 1,
   "id": "ddabe21e",
   "metadata": {},
   "outputs": [],
   "source": [
    "%load_ext autoreload"
   ]
  },
  {
   "cell_type": "code",
   "execution_count": 2,
   "id": "1b1ac697",
   "metadata": {},
   "outputs": [],
   "source": [
    "%autoreload 2\n",
    "from collections import defaultdict\n",
    "from datetime import datetime\n",
    "import h5py\n",
    "import matplotlib.pyplot as plt\n",
    "from neural_analysis.matIO import loadmat\n",
    "import numpy as np\n",
    "import os\n",
    "import pandas as pd\n",
    "from scipy.signal import butter, filtfilt, freqz\n",
    "import sys\n",
    "import time\n",
    "from tqdm.auto import tqdm\n",
    "\n",
    "sys.path.append('../../..')\n",
    "from ld_utils import compute_eigs, get_data_sigma_norms\n",
    "from up_down import get_up_down\n",
    "from utils import get_binary_stimuli, get_sample_interval, load, save, to_string"
   ]
  },
  {
   "cell_type": "markdown",
   "id": "46091d60",
   "metadata": {},
   "source": [
    "## Load Neural Data"
   ]
  },
  {
   "cell_type": "code",
   "execution_count": 3,
   "id": "3cc3760f",
   "metadata": {},
   "outputs": [
    {
     "name": "stdout",
     "output_type": "stream",
     "text": [
      "Loading data ...\n",
      "Data loaded (took 147.39 seconds)\n"
     ]
    }
   ],
   "source": [
    "session = 'Mary-Anesthesia-20160809-01'\n",
    "# session = 'MrJones-Anesthesia-20160113-01.mat'\n",
    "# filename = fr'/home/adameisen/millerdata/common/datasets/anesthesia/mat/propofolPuffTone/{session}.mat'\n",
    "filename = fr'/om/user/eisenaj/ChaoticConsciousness/data/propofolPuffTone/{session}.mat'\n",
    "print(\"Loading data ...\")\n",
    "start = time.process_time()\n",
    "electrode_info, lfp, lfp_schema, session_info, spike_times, unit_info = loadmat(filename, variables=['electrodeInfo', 'lfp', 'lfpSchema', 'sessionInfo', 'spikeTimes', 'unitInfo'], verbose=False)\n",
    "spike_times = spike_times[0]\n",
    "dt = lfp_schema['smpInterval'][0]\n",
    "T = lfp.shape[0]\n",
    "\n",
    "# f = h5py.File(filename, 'r')\n",
    "# airPuff_binary, audio_binary = get_binary_stimuli(f)\n",
    "\n",
    "print(f\"Data loaded (took {time.process_time() - start:.2f} seconds)\")"
   ]
  },
  {
   "cell_type": "markdown",
   "id": "e9828977",
   "metadata": {},
   "source": [
    "# VAR"
   ]
  },
  {
   "cell_type": "code",
   "execution_count": null,
   "id": "e7e6aa3c",
   "metadata": {},
   "outputs": [
    {
     "name": "stdout",
     "output_type": "stream",
     "text": [
      "window = 0.15, area = 7b\n"
     ]
    },
    {
     "data": {
      "application/vnd.jupyter.widget-view+json": {
       "model_id": "ef5d5e23a7404e9c810b8a90b0f064c3",
       "version_major": 2,
       "version_minor": 0
      },
      "text/plain": [
       "  0%|          | 0/47035 [00:00<?, ?it/s]"
      ]
     },
     "metadata": {},
     "output_type": "display_data"
    },
    {
     "name": "stdout",
     "output_type": "stream",
     "text": [
      "window = 0.15, area = CPB\n"
     ]
    },
    {
     "data": {
      "application/vnd.jupyter.widget-view+json": {
       "model_id": "2c789654c5d44b58849ea071cef3fabe",
       "version_major": 2,
       "version_minor": 0
      },
      "text/plain": [
       "  0%|          | 0/47035 [00:00<?, ?it/s]"
      ]
     },
     "metadata": {},
     "output_type": "display_data"
    },
    {
     "name": "stdout",
     "output_type": "stream",
     "text": [
      "window = 0.15, area = FEF\n"
     ]
    },
    {
     "data": {
      "application/vnd.jupyter.widget-view+json": {
       "model_id": "4c7d2df4e9634123a57a4cd01d4886dc",
       "version_major": 2,
       "version_minor": 0
      },
      "text/plain": [
       "  0%|          | 0/47035 [00:00<?, ?it/s]"
      ]
     },
     "metadata": {},
     "output_type": "display_data"
    },
    {
     "name": "stdout",
     "output_type": "stream",
     "text": [
      "window = 0.15, area = vlPFC\n"
     ]
    },
    {
     "data": {
      "application/vnd.jupyter.widget-view+json": {
       "model_id": "d70c543f92564a3499396936dde26369",
       "version_major": 2,
       "version_minor": 0
      },
      "text/plain": [
       "  0%|          | 0/47035 [00:00<?, ?it/s]"
      ]
     },
     "metadata": {},
     "output_type": "display_data"
    },
    {
     "name": "stdout",
     "output_type": "stream",
     "text": [
      "window = 0.15, all areas\n"
     ]
    },
    {
     "data": {
      "application/vnd.jupyter.widget-view+json": {
       "model_id": "18c57b6fbbe84ff8953eafc8825e680c",
       "version_major": 2,
       "version_minor": 0
      },
      "text/plain": [
       "  0%|          | 0/47035 [00:00<?, ?it/s]"
      ]
     },
     "metadata": {},
     "output_type": "display_data"
    }
   ],
   "source": [
    "t = time.localtime()\n",
    "timestamp = time.strftime('%b-%d-%Y_%H%M', t)\n",
    "data_path = f\"/om/user/eisenaj/ChaoticConsciousness/results/propofol/VAR\"\n",
    "os.makedirs(data_path, exist_ok=True)\n",
    "\n",
    "PCA_dim = -1\n",
    "end_step = T - int(30/dt) # take off 30 seconds\n",
    "\n",
    "# end_step = 15000\n",
    "# for window in [2.5]:\n",
    "for window in [0.15, 0.25, 0.5, 1, 2.5, 5]:\n",
    "    stride = window\n",
    "    run_data = {}\n",
    "    \n",
    "    # ================\n",
    "    # RUN PARAMS\n",
    "    # ================\n",
    "    run_data['run_params'] = dict(\n",
    "        window=window,\n",
    "        stride=stride,\n",
    "        PCA_dim=PCA_dim,\n",
    "        end_step=end_step,\n",
    "        unit_indices={}\n",
    "    )\n",
    "    \n",
    "    # ================\n",
    "    # AREA BY AREA\n",
    "    # ================\n",
    "    \n",
    "    run_data['results'] = {}\n",
    "    for area in np.unique(electrode_info['area']):\n",
    "        areas = [area]\n",
    "        unit_indices = np.arange(lfp.shape[1])[pd.Series(electrode_info['area']).isin(areas)]\n",
    "\n",
    "        data = lfp[:end_step, unit_indices]\n",
    "        print(f\"window = {window}, area = {area}\")\n",
    "        results = compute_eigs(data, dt, window, stride, return_sigma_norms=True, return_A=True, PCA_dim=PCA_dim, verbose=True)\n",
    "        results['data_sigma_norms'] = get_data_sigma_norms(data, dt, window, stride)\n",
    "        del data\n",
    "        for key in results.keys():\n",
    "            if len(results[key].shape) > 1:\n",
    "                results[key] = list(results[key])\n",
    "        results = pd.DataFrame(results)\n",
    "        \n",
    "        run_data['results'][area] = results  \n",
    "        run_data['run_params']['unit_indices'][area] = unit_indices\n",
    "    \n",
    "    # ================\n",
    "    # ALL AREAS\n",
    "    # ================\n",
    "    \n",
    "    print(f\"window = {window}, all areas\")\n",
    "    areas = np.unique(electrode_info['area'])\n",
    "    unit_indices = np.arange(lfp.shape[1])[pd.Series(electrode_info['area']).isin(areas)]\n",
    "    data = lfp[:end_step, unit_indices]\n",
    "    results = compute_eigs(data, dt, window, stride, return_sigma_norms=True, return_A=True, PCA_dim=PCA_dim, verbose=True)\n",
    "    results['data_sigma_norms'] = get_data_sigma_norms(data, dt, window, stride)\n",
    "    del data\n",
    "    for key in results.keys():\n",
    "        if len(results[key].shape) > 1:\n",
    "            results[key] = list(results[key])\n",
    "    results = pd.DataFrame(results)\n",
    "    \n",
    "    run_data['results']['all'] = results\n",
    "    run_data['run_params']['unit_indices']['all'] = unit_indices\n",
    "\n",
    "    save(run_data, os.path.join(data_path, f\"VAR_{os.path.basename(filename)[:-4]}_window_{window}_stride_{stride}_{timestamp}\"))"
   ]
  },
  {
   "cell_type": "code",
   "execution_count": null,
   "id": "0bd2b44d",
   "metadata": {},
   "outputs": [],
   "source": []
  }
 ],
 "metadata": {
  "kernelspec": {
   "display_name": "Python 3 (ipykernel)",
   "language": "python",
   "name": "python3"
  },
  "language_info": {
   "codemirror_mode": {
    "name": "ipython",
    "version": 3
   },
   "file_extension": ".py",
   "mimetype": "text/x-python",
   "name": "python",
   "nbconvert_exporter": "python",
   "pygments_lexer": "ipython3",
   "version": "3.9.1"
  }
 },
 "nbformat": 4,
 "nbformat_minor": 5
}
