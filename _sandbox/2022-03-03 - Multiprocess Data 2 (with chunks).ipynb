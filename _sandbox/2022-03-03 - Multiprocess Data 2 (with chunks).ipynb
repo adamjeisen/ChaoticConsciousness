{
 "cells": [
  {
   "cell_type": "code",
   "execution_count": 1,
   "id": "ddabe21e",
   "metadata": {},
   "outputs": [],
   "source": [
    "%load_ext autoreload"
   ]
  },
  {
   "cell_type": "code",
   "execution_count": 2,
   "id": "1b1ac697",
   "metadata": {},
   "outputs": [],
   "source": [
    "%autoreload 2\n",
    "from collections import defaultdict\n",
    "from datetime import datetime\n",
    "import h5py\n",
    "import matplotlib.pyplot as plt\n",
    "from neural_analysis.matIO import loadmat\n",
    "import numpy as np\n",
    "import os\n",
    "import pandas as pd\n",
    "import re\n",
    "from scipy.signal import butter, filtfilt, freqz\n",
    "import shutil\n",
    "from sklearn.metrics import r2_score\n",
    "import sys\n",
    "import time\n",
    "from tqdm.auto import tqdm\n",
    "\n",
    "sys.path.append('..')\n",
    "from utils import compile_folder, get_data_class, get_result_path, load_window_from_chunks, load, save, save_lfp_chunks"
   ]
  },
  {
   "cell_type": "code",
   "execution_count": 3,
   "id": "9e9b3443",
   "metadata": {},
   "outputs": [],
   "source": [
    "## propofolPuffTone\n",
    "session = 'Mary-Anesthesia-20160809-01'\n",
    "# session = 'MrJones-Anesthesia-20160105-01'\n",
    "# session = 'Mary-Anesthesia-20160916-02'\n",
    "# session = 'MrJones-Anesthesia-20160301-01'\n",
    "# session = 'MrJones-Anesthesia-20160113-01'\n",
    "# session = 'Mary-Anesthesia-20160818-02'\n",
    "# session = 'MrJones-Anesthesia-20160121-01'\n",
    "\n",
    "## propofolWakeup\n",
    "# session = 'Mary-Anesthesia-20170203-02'\n",
    "\n",
    "## ketamine\n",
    "# session = 'Mary-Anesthesia-20170315-01'\n",
    "# session = 'MrJones-Anesthesia-20160805-01'\n",
    "# session = 'MrJones-Anesthesia-20160808-01'\n",
    "# session = 'Mary-Anesthesia-20170315-01'"
   ]
  },
  {
   "cell_type": "markdown",
   "id": "46091d60",
   "metadata": {},
   "source": [
    "## Multiprocessing"
   ]
  },
  {
   "cell_type": "code",
   "execution_count": 4,
   "id": "b7380542",
   "metadata": {},
   "outputs": [],
   "source": [
    "all_data_dir = f\"/om/user/eisenaj/datasets/anesthesia/mat\"\n",
    "task_type = 'VAR'\n",
    "windows = [0.5, 1, 1.5, 2, 2.5, 3, 3.5, 4, 4.5, 5, 5.5, 6, 6.5, 7, 7.5, 8, 8.5, 9, 9.5, 10]"
   ]
  },
  {
   "cell_type": "code",
   "execution_count": 6,
   "id": "ad32266a",
   "metadata": {},
   "outputs": [
    {
     "name": "stdout",
     "output_type": "stream",
     "text": [
      "=========================\n",
      "session = MrJones-Anesthesia-20160105-01\n",
      "-------------------------\n",
      "session has not been chunked, chunking now\n",
      "Loading data ...\n",
      "Data loaded (took 198.40 seconds)\n"
     ]
    },
    {
     "data": {
      "application/vnd.jupyter.widget-view+json": {
       "model_id": "1885b7c6e6474a4695e15cb5da643d31",
       "version_major": 2,
       "version_minor": 0
      },
      "text/plain": [
       "  0%|          | 0/52 [00:00<?, ?it/s]"
      ]
     },
     "metadata": {},
     "output_type": "display_data"
    },
    {
     "name": "stdout",
     "output_type": "stream",
     "text": [
      "/om/user/eisenaj/ChaoticConsciousness/results/propofolPuffTone/VAR\n",
      "All windows have been run: [0.5, 1, 1.5, 2, 2.5, 3, 3.5, 4, 4.5, 5, 5.5, 6, 6.5, 7, 7.5, 8, 8.5, 9, 9.5, 10]\n",
      "=========================\n",
      "session = Mary-Anesthesia-20160818-02\n",
      "-------------------------\n",
      "session has not been chunked, chunking now\n",
      "Loading data ...\n",
      "Data loaded (took 111.55 seconds)\n"
     ]
    },
    {
     "data": {
      "application/vnd.jupyter.widget-view+json": {
       "model_id": "21aada4bbc214a0bbe2ef5d1d14035fe",
       "version_major": 2,
       "version_minor": 0
      },
      "text/plain": [
       "  0%|          | 0/24 [00:00<?, ?it/s]"
      ]
     },
     "metadata": {},
     "output_type": "display_data"
    },
    {
     "name": "stdout",
     "output_type": "stream",
     "text": [
      "/om/user/eisenaj/ChaoticConsciousness/results/propofolPuffTone/VAR\n",
      "Now running: [0.5, 1, 1.5, 2, 3, 3.5, 4, 4.5, 5.5, 6, 6.5, 7, 7.5, 8, 8.5, 9, 9.5, 10]\n",
      "Submitted batch job 23668728\n",
      "Submitted batch job 23668729\n",
      "Submitted batch job 23668730\n",
      "Submitted batch job 23668731\n",
      "Submitted batch job 23668732\n",
      "Submitted batch job 23668733\n",
      "Submitted batch job 23668734\n",
      "Submitted batch job 23668735\n",
      "Submitted batch job 23668740\n",
      "Submitted batch job 23668743\n",
      "Submitted batch job 23668746\n",
      "Submitted batch job 23668747\n",
      "Submitted batch job 23668748\n",
      "Submitted batch job 23668749\n",
      "Submitted batch job 23668750\n",
      "Submitted batch job 23668751\n",
      "Submitted batch job 23668752\n",
      "Submitted batch job 23668753\n",
      "=========================\n",
      "session = Mary-Anesthesia-20160912-02\n",
      "-------------------------\n",
      "session has been chunked\n",
      "/om/user/eisenaj/ChaoticConsciousness/results/propofolPuffTone/VAR\n",
      "All windows have been run: [0.5, 1, 1.5, 2, 2.5, 3, 3.5, 4, 4.5, 5, 5.5, 6, 6.5, 7, 7.5, 8, 8.5, 9, 9.5, 10]\n",
      "=========================\n",
      "session = Mary-Anesthesia-20160902-02\n",
      "-------------------------\n",
      "session has not been chunked, chunking now\n",
      "Loading data ...\n",
      "Data loaded (took 128.55 seconds)\n"
     ]
    },
    {
     "data": {
      "application/vnd.jupyter.widget-view+json": {
       "model_id": "351b30f48700405a9c9d2b0952854406",
       "version_major": 2,
       "version_minor": 0
      },
      "text/plain": [
       "  0%|          | 0/29 [00:00<?, ?it/s]"
      ]
     },
     "metadata": {},
     "output_type": "display_data"
    },
    {
     "name": "stdout",
     "output_type": "stream",
     "text": [
      "/om/user/eisenaj/ChaoticConsciousness/results/propofolPuffTone/VAR\n",
      "Now running: [0.5, 1, 1.5, 2, 3, 3.5, 4, 4.5, 5.5, 6, 6.5, 7, 7.5, 8, 8.5, 9, 9.5, 10]\n",
      "Submitted batch job 23668766\n",
      "Submitted batch job 23668767\n",
      "Submitted batch job 23668768\n",
      "Submitted batch job 23668769\n",
      "Submitted batch job 23668770\n",
      "Submitted batch job 23668771\n",
      "Submitted batch job 23668772\n",
      "Submitted batch job 23668773\n",
      "Submitted batch job 23668774\n",
      "Submitted batch job 23668775\n",
      "Submitted batch job 23668776\n",
      "Submitted batch job 23668777\n",
      "Submitted batch job 23668778\n",
      "Submitted batch job 23668779\n",
      "Submitted batch job 23668780\n",
      "Submitted batch job 23668781\n",
      "Submitted batch job 23668782\n",
      "Submitted batch job 23668783\n",
      "=========================\n",
      "session = MrJones-Anesthesia-20160121-01\n",
      "-------------------------\n",
      "session has not been chunked, chunking now\n",
      "Loading data ...\n",
      "Data loaded (took 172.56 seconds)\n"
     ]
    },
    {
     "data": {
      "application/vnd.jupyter.widget-view+json": {
       "model_id": "8dec5352741e47388835d7075de79280",
       "version_major": 2,
       "version_minor": 0
      },
      "text/plain": [
       "  0%|          | 0/43 [00:00<?, ?it/s]"
      ]
     },
     "metadata": {},
     "output_type": "display_data"
    },
    {
     "name": "stdout",
     "output_type": "stream",
     "text": [
      "/om/user/eisenaj/ChaoticConsciousness/results/propofolPuffTone/VAR\n",
      "Now running: [0.5, 1, 1.5, 2, 3, 3.5, 4, 4.5, 5.5, 6, 6.5, 7, 7.5, 8, 8.5, 9, 9.5, 10]\n",
      "Submitted batch job 23668804\n",
      "Submitted batch job 23668805\n",
      "Submitted batch job 23668806\n",
      "Submitted batch job 23668807\n",
      "Submitted batch job 23668808\n",
      "Submitted batch job 23668809\n",
      "Submitted batch job 23668810\n",
      "Submitted batch job 23668811\n",
      "Submitted batch job 23668812\n",
      "Submitted batch job 23668813\n",
      "Submitted batch job 23668814\n",
      "Submitted batch job 23668815\n",
      "Submitted batch job 23668816\n",
      "Submitted batch job 23668817\n",
      "Submitted batch job 23668818\n",
      "Submitted batch job 23668819\n",
      "Submitted batch job 23668820\n",
      "Submitted batch job 23668821\n",
      "=========================\n",
      "session = Mary-Anesthesia-20160809-01\n",
      "-------------------------\n",
      "session has been chunked\n",
      "/om/user/eisenaj/ChaoticConsciousness/results/propofolPuffTone/VAR\n",
      "All windows have been run: [0.5, 1, 1.5, 2, 2.5, 3, 3.5, 4, 4.5, 5, 5.5, 6, 6.5, 7, 7.5, 8, 8.5, 9, 9.5, 10]\n",
      "=========================\n",
      "session = MrJones-Anesthesia-20160113-01\n",
      "-------------------------\n",
      "session has not been chunked, chunking now\n",
      "Loading data ...\n",
      "Data loaded (took 181.13 seconds)\n"
     ]
    },
    {
     "data": {
      "application/vnd.jupyter.widget-view+json": {
       "model_id": "68f93a43cf1a4821b666e83ec7d45681",
       "version_major": 2,
       "version_minor": 0
      },
      "text/plain": [
       "  0%|          | 0/44 [00:00<?, ?it/s]"
      ]
     },
     "metadata": {},
     "output_type": "display_data"
    },
    {
     "name": "stdout",
     "output_type": "stream",
     "text": [
      "/om/user/eisenaj/ChaoticConsciousness/results/propofolPuffTone/VAR\n",
      "Now running: [0.5, 1, 1.5, 2, 3, 3.5, 4, 4.5, 5.5, 6, 6.5, 7, 7.5, 8, 8.5, 9, 9.5, 10]\n",
      "Submitted batch job 23668897\n",
      "Submitted batch job 23668898\n",
      "Submitted batch job 23668899\n",
      "Submitted batch job 23668900\n",
      "Submitted batch job 23668901\n",
      "Submitted batch job 23668902\n",
      "Submitted batch job 23668903\n",
      "Submitted batch job 23668904\n",
      "Submitted batch job 23668905\n",
      "Submitted batch job 23668906\n",
      "Submitted batch job 23668907\n",
      "Submitted batch job 23668908\n",
      "Submitted batch job 23668909\n",
      "Submitted batch job 23668910\n",
      "Submitted batch job 23668911\n",
      "Submitted batch job 23668912\n",
      "Submitted batch job 23668913\n",
      "Submitted batch job 23668914\n",
      "=========================\n",
      "session = MrJones-Anesthesia-20160109-01\n",
      "-------------------------\n",
      "session has not been chunked, chunking now\n",
      "Loading data ...\n",
      "Data loaded (took 198.59 seconds)\n"
     ]
    },
    {
     "data": {
      "application/vnd.jupyter.widget-view+json": {
       "model_id": "7478c75781084a108403e6214eedee0c",
       "version_major": 2,
       "version_minor": 0
      },
      "text/plain": [
       "  0%|          | 0/51 [00:00<?, ?it/s]"
      ]
     },
     "metadata": {},
     "output_type": "display_data"
    },
    {
     "name": "stdout",
     "output_type": "stream",
     "text": [
      "/om/user/eisenaj/ChaoticConsciousness/results/propofolPuffTone/VAR\n",
      "Now running: [0.5, 1, 1.5, 2, 3, 3.5, 4, 4.5, 5.5, 6, 6.5, 7, 7.5, 8, 8.5, 9, 9.5, 10]\n",
      "Submitted batch job 23668962\n",
      "Submitted batch job 23668963\n",
      "Submitted batch job 23668964\n",
      "Submitted batch job 23668965\n",
      "Submitted batch job 23668966\n",
      "Submitted batch job 23668967\n",
      "Submitted batch job 23668968\n",
      "Submitted batch job 23668969\n",
      "Submitted batch job 23668970\n",
      "Submitted batch job 23668971\n",
      "Submitted batch job 23668972\n",
      "Submitted batch job 23668973\n",
      "Submitted batch job 23668974\n",
      "Submitted batch job 23668975\n",
      "Submitted batch job 23668976\n",
      "Submitted batch job 23668977\n",
      "Submitted batch job 23668978\n",
      "Submitted batch job 23668979\n",
      "=========================\n",
      "session = MrJones-Anesthesia-20160210-01\n",
      "-------------------------\n",
      "session has not been chunked, chunking now\n",
      "Loading data ...\n",
      "Data loaded (took 161.09 seconds)\n"
     ]
    },
    {
     "data": {
      "application/vnd.jupyter.widget-view+json": {
       "model_id": "d029b50d786a468db8e159c1e0e2f207",
       "version_major": 2,
       "version_minor": 0
      },
      "text/plain": [
       "  0%|          | 0/41 [00:00<?, ?it/s]"
      ]
     },
     "metadata": {},
     "output_type": "display_data"
    },
    {
     "name": "stdout",
     "output_type": "stream",
     "text": [
      "/om/user/eisenaj/ChaoticConsciousness/results/propofolPuffTone/VAR\n",
      "Now running: [0.5, 1, 1.5, 2, 3, 3.5, 4, 4.5, 5.5, 6, 6.5, 7, 7.5, 8, 8.5, 9, 9.5, 10]\n",
      "Submitted batch job 23669032\n",
      "Submitted batch job 23669033\n",
      "Submitted batch job 23669034\n",
      "Submitted batch job 23669035\n",
      "Submitted batch job 23669036\n",
      "Submitted batch job 23669037\n",
      "Submitted batch job 23669038\n",
      "Submitted batch job 23669039\n",
      "Submitted batch job 23669040\n",
      "Submitted batch job 23669041\n",
      "Submitted batch job 23669042\n",
      "Submitted batch job 23669043\n",
      "Submitted batch job 23669044\n",
      "Submitted batch job 23669045\n",
      "Submitted batch job 23669046\n",
      "Submitted batch job 23669047\n",
      "Submitted batch job 23669048\n",
      "Submitted batch job 23669049\n",
      "=========================\n",
      "session = MrJones-Anesthesia-20160123-01\n",
      "-------------------------\n",
      "session has been chunked\n",
      "/om/user/eisenaj/ChaoticConsciousness/results/propofolPuffTone/VAR\n",
      "All windows have been run: [0.5, 1, 1.5, 2, 2.5, 3, 3.5, 4, 4.5, 5, 5.5, 6, 6.5, 7, 7.5, 8, 8.5, 9, 9.5, 10]\n",
      "=========================\n",
      "session = Mary-Anesthesia-20160826-02\n",
      "-------------------------\n",
      "session has not been chunked, chunking now\n",
      "Loading data ...\n",
      "Data loaded (took 123.49 seconds)\n"
     ]
    },
    {
     "data": {
      "application/vnd.jupyter.widget-view+json": {
       "model_id": "c9989eae4ae14151b1d1ec1385340739",
       "version_major": 2,
       "version_minor": 0
      },
      "text/plain": [
       "  0%|          | 0/29 [00:00<?, ?it/s]"
      ]
     },
     "metadata": {},
     "output_type": "display_data"
    },
    {
     "name": "stdout",
     "output_type": "stream",
     "text": [
      "/om/user/eisenaj/ChaoticConsciousness/results/propofolPuffTone/VAR\n",
      "Now running: [0.5, 1, 1.5, 2, 3, 3.5, 4, 4.5, 5.5, 6, 6.5, 7, 7.5, 8, 8.5, 9, 9.5, 10]\n",
      "Submitted batch job 23669081\n",
      "Submitted batch job 23669082\n",
      "Submitted batch job 23669083\n",
      "Submitted batch job 23669084\n",
      "Submitted batch job 23669085\n",
      "Submitted batch job 23669086\n",
      "Submitted batch job 23669087\n",
      "Submitted batch job 23669088\n",
      "Submitted batch job 23669089\n",
      "Submitted batch job 23669090\n",
      "Submitted batch job 23669091\n",
      "Submitted batch job 23669092\n",
      "Submitted batch job 23669093\n",
      "Submitted batch job 23669094\n",
      "Submitted batch job 23669095\n",
      "Submitted batch job 23669096\n",
      "Submitted batch job 23669097\n",
      "Submitted batch job 23669098\n",
      "=========================\n",
      "session = MrJones-Anesthesia-20160125-01\n",
      "-------------------------\n",
      "session has not been chunked, chunking now\n",
      "Loading data ...\n",
      "Data loaded (took 165.34 seconds)\n"
     ]
    },
    {
     "data": {
      "application/vnd.jupyter.widget-view+json": {
       "model_id": "f6e83ff10f6347eba8185fea85ad6afc",
       "version_major": 2,
       "version_minor": 0
      },
      "text/plain": [
       "  0%|          | 0/43 [00:00<?, ?it/s]"
      ]
     },
     "metadata": {},
     "output_type": "display_data"
    },
    {
     "name": "stdout",
     "output_type": "stream",
     "text": [
      "/om/user/eisenaj/ChaoticConsciousness/results/propofolPuffTone/VAR\n",
      "Now running: [0.5, 1, 1.5, 2, 3, 3.5, 4, 4.5, 5.5, 6, 6.5, 7, 7.5, 8, 8.5, 9, 9.5, 10]\n",
      "Submitted batch job 23669128\n",
      "Submitted batch job 23669129\n",
      "Submitted batch job 23669130\n",
      "Submitted batch job 23669131\n",
      "Submitted batch job 23669132\n",
      "Submitted batch job 23669133\n",
      "Submitted batch job 23669134\n",
      "Submitted batch job 23669135\n",
      "Submitted batch job 23669136\n",
      "Submitted batch job 23669137\n",
      "Submitted batch job 23669138\n",
      "Submitted batch job 23669139\n",
      "Submitted batch job 23669140\n",
      "Submitted batch job 23669141\n",
      "Submitted batch job 23669142\n",
      "Submitted batch job 23669143\n",
      "Submitted batch job 23669144\n",
      "Submitted batch job 23669145\n",
      "=========================\n",
      "session = MrJones-Anesthesia-20160301-01\n",
      "-------------------------\n",
      "session has not been chunked, chunking now\n",
      "Loading data ...\n",
      "Data loaded (took 161.32 seconds)\n"
     ]
    },
    {
     "data": {
      "application/vnd.jupyter.widget-view+json": {
       "model_id": "b6c35d0ba408468588ab56d32d4e98ff",
       "version_major": 2,
       "version_minor": 0
      },
      "text/plain": [
       "  0%|          | 0/42 [00:00<?, ?it/s]"
      ]
     },
     "metadata": {},
     "output_type": "display_data"
    },
    {
     "name": "stdout",
     "output_type": "stream",
     "text": [
      "/om/user/eisenaj/ChaoticConsciousness/results/propofolPuffTone/VAR\n",
      "All windows have been run: [0.5, 1, 1.5, 2, 2.5, 3, 3.5, 4, 4.5, 5, 5.5, 6, 6.5, 7, 7.5, 8, 8.5, 9, 9.5, 10]\n",
      "=========================\n",
      "session = MrJones-Anesthesia-20160201-01\n",
      "-------------------------\n",
      "session has not been chunked, chunking now\n",
      "Loading data ...\n",
      "Data loaded (took 167.16 seconds)\n"
     ]
    },
    {
     "data": {
      "application/vnd.jupyter.widget-view+json": {
       "model_id": "a98be1cf28794fa79c5abf7220cb6286",
       "version_major": 2,
       "version_minor": 0
      },
      "text/plain": [
       "  0%|          | 0/43 [00:00<?, ?it/s]"
      ]
     },
     "metadata": {},
     "output_type": "display_data"
    },
    {
     "name": "stdout",
     "output_type": "stream",
     "text": [
      "/om/user/eisenaj/ChaoticConsciousness/results/propofolPuffTone/VAR\n",
      "Now running: [0.5, 1, 1.5, 2, 3, 3.5, 4, 4.5, 5.5, 6, 6.5, 7, 7.5, 8, 8.5, 9, 9.5, 10]\n",
      "Submitted batch job 23669189\n",
      "Submitted batch job 23669190\n",
      "Submitted batch job 23669191\n",
      "Submitted batch job 23669192\n",
      "Submitted batch job 23669193\n",
      "Submitted batch job 23669194\n",
      "Submitted batch job 23669195\n",
      "Submitted batch job 23669196\n",
      "Submitted batch job 23669197\n",
      "Submitted batch job 23669198\n",
      "Submitted batch job 23669199\n",
      "Submitted batch job 23669200\n",
      "Submitted batch job 23669201\n",
      "Submitted batch job 23669202\n",
      "Submitted batch job 23669203\n",
      "Submitted batch job 23669204\n",
      "Submitted batch job 23669205\n",
      "Submitted batch job 23669206\n",
      "=========================\n",
      "session = MrJones-Anesthesia-20160107-01\n",
      "-------------------------\n",
      "session has been chunked\n",
      "/om/user/eisenaj/ChaoticConsciousness/results/propofolPuffTone/VAR\n",
      "All windows have been run: [0.5, 1, 1.5, 2, 2.5, 3, 3.5, 4, 4.5, 5, 5.5, 6, 6.5, 7, 7.5, 8, 8.5, 9, 9.5, 10]\n",
      "=========================\n",
      "session = Mary-Anesthesia-20160914-02\n",
      "-------------------------\n",
      "session has not been chunked, chunking now\n",
      "Loading data ...\n",
      "Data loaded (took 112.11 seconds)\n"
     ]
    },
    {
     "data": {
      "application/vnd.jupyter.widget-view+json": {
       "model_id": "71784eb38653458f85a0494901b3623b",
       "version_major": 2,
       "version_minor": 0
      },
      "text/plain": [
       "  0%|          | 0/26 [00:00<?, ?it/s]"
      ]
     },
     "metadata": {},
     "output_type": "display_data"
    },
    {
     "name": "stdout",
     "output_type": "stream",
     "text": [
      "/om/user/eisenaj/ChaoticConsciousness/results/propofolPuffTone/VAR\n",
      "Now running: [0.5, 1, 1.5, 2, 3, 3.5, 4, 4.5, 5.5, 6, 6.5, 7, 7.5, 8, 8.5, 9, 9.5, 10]\n",
      "Submitted batch job 23669219\n",
      "Submitted batch job 23669220\n",
      "Submitted batch job 23669221\n",
      "Submitted batch job 23669222\n",
      "Submitted batch job 23669223\n",
      "Submitted batch job 23669224\n",
      "Submitted batch job 23669225\n",
      "Submitted batch job 23669226\n",
      "Submitted batch job 23669227\n",
      "Submitted batch job 23669228\n",
      "Submitted batch job 23669229\n",
      "Submitted batch job 23669230\n",
      "Submitted batch job 23669231\n",
      "Submitted batch job 23669232\n",
      "Submitted batch job 23669233\n",
      "Submitted batch job 23669234\n",
      "Submitted batch job 23669235\n",
      "Submitted batch job 23669236\n",
      "=========================\n",
      "session = MrJones-Anesthesia-20160206-01\n",
      "-------------------------\n",
      "session has not been chunked, chunking now\n",
      "Loading data ...\n",
      "Data loaded (took 175.50 seconds)\n"
     ]
    },
    {
     "data": {
      "application/vnd.jupyter.widget-view+json": {
       "model_id": "db3bfb04ab1548b2a6ed02adeb4fbee1",
       "version_major": 2,
       "version_minor": 0
      },
      "text/plain": [
       "  0%|          | 0/45 [00:00<?, ?it/s]"
      ]
     },
     "metadata": {},
     "output_type": "display_data"
    },
    {
     "name": "stdout",
     "output_type": "stream",
     "text": [
      "/om/user/eisenaj/ChaoticConsciousness/results/propofolPuffTone/VAR\n",
      "Now running: [0.5, 1, 1.5, 2, 3, 3.5, 4, 4.5, 5.5, 6, 6.5, 7, 7.5, 8, 8.5, 9, 9.5, 10]\n",
      "Submitted batch job 23669284\n",
      "Submitted batch job 23669285\n",
      "Submitted batch job 23669286\n",
      "Submitted batch job 23669287\n",
      "Submitted batch job 23669288\n",
      "Submitted batch job 23669289\n",
      "Submitted batch job 23669290\n",
      "Submitted batch job 23669291\n",
      "Submitted batch job 23669292\n",
      "Submitted batch job 23669293\n",
      "Submitted batch job 23669294\n",
      "Submitted batch job 23669295\n",
      "Submitted batch job 23669296\n",
      "Submitted batch job 23669297\n",
      "Submitted batch job 23669298\n",
      "Submitted batch job 23669299\n",
      "Submitted batch job 23669300\n",
      "Submitted batch job 23669301\n",
      "=========================\n",
      "session = Mary-Anesthesia-20160822-02\n",
      "-------------------------\n",
      "session has not been chunked, chunking now\n",
      "Loading data ...\n",
      "Data loaded (took 111.49 seconds)\n"
     ]
    },
    {
     "data": {
      "application/vnd.jupyter.widget-view+json": {
       "model_id": "929a1924a1984c3089873f31bf875076",
       "version_major": 2,
       "version_minor": 0
      },
      "text/plain": [
       "  0%|          | 0/26 [00:00<?, ?it/s]"
      ]
     },
     "metadata": {},
     "output_type": "display_data"
    },
    {
     "name": "stdout",
     "output_type": "stream",
     "text": [
      "/om/user/eisenaj/ChaoticConsciousness/results/propofolPuffTone/VAR\n",
      "Now running: [0.5, 1, 1.5, 2, 3, 3.5, 4, 4.5, 5.5, 6, 6.5, 7, 7.5, 8, 8.5, 9, 9.5, 10]\n",
      "Submitted batch job 23669347\n",
      "Submitted batch job 23669348\n",
      "Submitted batch job 23669349\n",
      "Submitted batch job 23669350\n",
      "Submitted batch job 23669351\n",
      "Submitted batch job 23669352\n",
      "Submitted batch job 23669353\n",
      "Submitted batch job 23669354\n",
      "Submitted batch job 23669355\n",
      "Submitted batch job 23669356\n",
      "Submitted batch job 23669357\n",
      "Submitted batch job 23669358\n",
      "Submitted batch job 23669359\n",
      "Submitted batch job 23669360\n",
      "Submitted batch job 23669361\n",
      "Submitted batch job 23669362\n",
      "Submitted batch job 23669363\n",
      "Submitted batch job 23669364\n",
      "=========================\n",
      "session = Mary-Anesthesia-20160831-02\n",
      "-------------------------\n",
      "session has not been chunked, chunking now\n",
      "Loading data ...\n",
      "Data loaded (took 113.21 seconds)\n"
     ]
    },
    {
     "data": {
      "application/vnd.jupyter.widget-view+json": {
       "model_id": "b9a417657c9f4499aea7a511c7a94c03",
       "version_major": 2,
       "version_minor": 0
      },
      "text/plain": [
       "  0%|          | 0/26 [00:00<?, ?it/s]"
      ]
     },
     "metadata": {},
     "output_type": "display_data"
    },
    {
     "name": "stdout",
     "output_type": "stream",
     "text": [
      "/om/user/eisenaj/ChaoticConsciousness/results/propofolPuffTone/VAR\n",
      "Now running: [0.5, 1, 1.5, 2, 3, 3.5, 4, 4.5, 5.5, 6, 6.5, 7, 7.5, 8, 8.5, 9, 9.5, 10]\n",
      "Submitted batch job 23669365\n",
      "Submitted batch job 23669366\n",
      "Submitted batch job 23669367\n",
      "Submitted batch job 23669368\n",
      "Submitted batch job 23669369\n",
      "Submitted batch job 23669370\n",
      "Submitted batch job 23669371\n",
      "Submitted batch job 23669372\n",
      "Submitted batch job 23669373\n",
      "Submitted batch job 23669374\n",
      "Submitted batch job 23669375\n",
      "Submitted batch job 23669376\n",
      "Submitted batch job 23669377\n",
      "Submitted batch job 23669378\n",
      "Submitted batch job 23669379\n",
      "Submitted batch job 23669380\n",
      "Submitted batch job 23669381\n",
      "Submitted batch job 23669382\n",
      "=========================\n",
      "session = Mary-Anesthesia-20160908-02\n",
      "-------------------------\n",
      "session has not been chunked, chunking now\n",
      "Loading data ...\n",
      "Data loaded (took 120.35 seconds)\n"
     ]
    },
    {
     "data": {
      "application/vnd.jupyter.widget-view+json": {
       "model_id": "7c5e309ff10349a390a9fb87723eddde",
       "version_major": 2,
       "version_minor": 0
      },
      "text/plain": [
       "  0%|          | 0/28 [00:00<?, ?it/s]"
      ]
     },
     "metadata": {},
     "output_type": "display_data"
    },
    {
     "name": "stdout",
     "output_type": "stream",
     "text": [
      "/om/user/eisenaj/ChaoticConsciousness/results/propofolPuffTone/VAR\n",
      "Now running: [0.5, 1, 1.5, 2, 3, 3.5, 4, 4.5, 5.5, 6, 6.5, 7, 7.5, 8, 8.5, 9, 9.5, 10]\n",
      "Submitted batch job 23669442\n",
      "Submitted batch job 23669446\n",
      "Submitted batch job 23669449\n",
      "Submitted batch job 23669453\n",
      "Submitted batch job 23669456\n",
      "Submitted batch job 23669459\n",
      "Submitted batch job 23669460\n",
      "Submitted batch job 23669463\n",
      "Submitted batch job 23669466\n",
      "Submitted batch job 23669470\n",
      "Submitted batch job 23669473\n",
      "Submitted batch job 23669474\n",
      "Submitted batch job 23669477\n",
      "Submitted batch job 23669480\n",
      "Submitted batch job 23669484\n",
      "Submitted batch job 23669487\n",
      "Submitted batch job 23669490\n",
      "Submitted batch job 23669494\n",
      "=========================\n",
      "session = Mary-Anesthesia-20160916-02\n",
      "-------------------------\n",
      "session has not been chunked, chunking now\n",
      "Loading data ...\n",
      "Data loaded (took 117.55 seconds)\n"
     ]
    },
    {
     "data": {
      "application/vnd.jupyter.widget-view+json": {
       "model_id": "7cd9bc8ed08046e1a3042439006361e4",
       "version_major": 2,
       "version_minor": 0
      },
      "text/plain": [
       "  0%|          | 0/27 [00:00<?, ?it/s]"
      ]
     },
     "metadata": {},
     "output_type": "display_data"
    },
    {
     "name": "stdout",
     "output_type": "stream",
     "text": [
      "/om/user/eisenaj/ChaoticConsciousness/results/propofolPuffTone/VAR\n",
      "All windows have been run: [0.5, 1, 1.5, 2, 2.5, 3, 3.5, 4, 4.5, 5, 5.5, 6, 6.5, 7, 7.5, 8, 8.5, 9, 9.5, 10]\n"
     ]
    }
   ],
   "source": [
    "for session in [f[:-4] for f in os.listdir(os.path.join(all_data_dir, data_class)) if f.endswith('.mat')]:\n",
    "# for session in ['MrJones-Anesthesia-20160107-01']:\n",
    "    data_class = get_data_class(session, all_data_dir)\n",
    "    print(\"=\"*25)\n",
    "    print(f\"session = {session}\")\n",
    "    print(\"-\"*25)\n",
    "#     \n",
    "\n",
    "    regex = re.compile(f\"{session}_lfp_chunked_.*\")\n",
    "    data_dir = None\n",
    "    chunk_time = np.Inf\n",
    "    for f in os.listdir(os.path.join(all_data_dir, data_class)):\n",
    "        if regex.match(f):\n",
    "            if int(f.split('_')[-1][:-1]) < chunk_time:\n",
    "                data_dir = os.path.join(all_data_dir, data_class, f)\n",
    "                chunk_time = int(f.split('_')[-1][:-1])\n",
    "    if data_dir is None:\n",
    "        print(\"session has not been chunked, chunking now\")\n",
    "        save_lfp_chunks(session, all_data_dir)\n",
    "    else:\n",
    "        print(\"session has been chunked\")\n",
    "    \n",
    "    \n",
    "    results_dir = f\"/om/user/eisenaj/ChaoticConsciousness/results/{data_class}/{task_type}\"\n",
    "    print(results_dir)\n",
    "    windows_to_run = []\n",
    "    for window in windows:\n",
    "        try:\n",
    "            get_result_path(results_dir, session, window, window)\n",
    "        except:\n",
    "            windows_to_run.append(window)\n",
    "            \n",
    "    if len(windows_to_run) == 0:\n",
    "        print(f\"All windows have been run: {windows}\")\n",
    "    else:\n",
    "        print(f\"Now running: {windows_to_run}\")\n",
    "    \n",
    "        for window in windows_to_run:\n",
    "            stride = window\n",
    "            os.system(f'sbatch /om2/user/eisenaj/code/ChaoticConsciousness/shell_scripts/multiproc.sh {session} {window} {stride} {task_type}')"
   ]
  },
  {
   "cell_type": "markdown",
   "id": "05591ebe",
   "metadata": {},
   "source": [
    "## Fix Broken Compile"
   ]
  },
  {
   "cell_type": "code",
   "execution_count": null,
   "id": "ab41f27c",
   "metadata": {},
   "outputs": [],
   "source": [
    "dt = 0.001"
   ]
  },
  {
   "cell_type": "code",
   "execution_count": 35,
   "id": "1b87b19d",
   "metadata": {},
   "outputs": [],
   "source": [
    "session = 'Mary-Anesthesia-20160912-02'\n",
    "data_class = get_data_class(session, all_data_dir)\n",
    "results_dir = f\"/om/user/eisenaj/ChaoticConsciousness/results/{data_class}/{task_type}\"\n",
    "for window in windows:\n",
    "    result_path = get_result_path(results_dir, session, window, window)\n",
    "    for folder_name in os.listdir(result_path):\n",
    "        folder_to_compile = os.path.join(result_path, folder_name)\n",
    "        if os.path.isdir(os.path.join(result_path, folder_to_compile)):\n",
    "            files = os.listdir(folder_to_compile)\n",
    "            print(f\"Now compiling {folder_to_compile}\")\n",
    "            if len(files[0].split('_')) == 5:\n",
    "                temp_data = load(os.path.join(folder_to_compile, files[0]))\n",
    "                if 'start_ind' in temp_data.keys():\n",
    "                    compile_folder(folder_to_compile)\n",
    "                else:\n",
    "                    all_window_data = []\n",
    "                    for file in tqdm(files):\n",
    "                        window_start, window_end = float(file.split('_')[2]), float(file.split('_')[4])\n",
    "                        window_data = load(os.path.join(folder_to_compile, file))\n",
    "                        window_data['start_time'] = window_start\n",
    "                        window_data['start_ind'] = int(window_start/dt)\n",
    "                        window_data['end_time'] = window_end\n",
    "                        window_data['end_ind'] = int(window_end/dt)\n",
    "                        all_window_data.append(window_data) \n",
    "\n",
    "                    results_df = pd.DataFrame(all_window_data)\n",
    "\n",
    "                    results_df = results_df.sort_values('start_ind')\n",
    "                    results_df = results_df.reset_index(drop=True)\n",
    "\n",
    "                    shutil.rmtree(folder_to_compile)\n",
    "\n",
    "                    save(results_df, folder_to_compile)\n",
    "            else:\n",
    "                compile_folder(folder_to_compile)"
   ]
  },
  {
   "cell_type": "code",
   "execution_count": null,
   "id": "62bb008e",
   "metadata": {},
   "outputs": [],
   "source": []
  }
 ],
 "metadata": {
  "kernelspec": {
   "display_name": "Python 3 (ipykernel)",
   "language": "python",
   "name": "python3"
  },
  "language_info": {
   "codemirror_mode": {
    "name": "ipython",
    "version": 3
   },
   "file_extension": ".py",
   "mimetype": "text/x-python",
   "name": "python",
   "nbconvert_exporter": "python",
   "pygments_lexer": "ipython3",
   "version": "3.9.1"
  }
 },
 "nbformat": 4,
 "nbformat_minor": 5
}
