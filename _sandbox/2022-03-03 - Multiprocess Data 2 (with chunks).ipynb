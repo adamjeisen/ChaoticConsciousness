{
 "cells": [
  {
   "cell_type": "code",
   "execution_count": 1,
   "id": "ddabe21e",
   "metadata": {},
   "outputs": [],
   "source": [
    "%load_ext autoreload"
   ]
  },
  {
   "cell_type": "code",
   "execution_count": 2,
   "id": "1b1ac697",
   "metadata": {},
   "outputs": [],
   "source": [
    "%autoreload 2\n",
    "from collections import defaultdict\n",
    "from datetime import datetime\n",
    "import h5py\n",
    "import matplotlib.pyplot as plt\n",
    "from neural_analysis.matIO import loadmat\n",
    "import numpy as np\n",
    "import os\n",
    "import pandas as pd\n",
    "import re\n",
    "from scipy.signal import butter, filtfilt, freqz\n",
    "import shutil\n",
    "from sklearn.metrics import r2_score\n",
    "import sys\n",
    "import time\n",
    "from tqdm.auto import tqdm\n",
    "\n",
    "sys.path.append('..')\n",
    "from utils import compile_folder, get_data_class, get_result_path, load_window_from_chunks, load, save, save_lfp_chunks"
   ]
  },
  {
   "cell_type": "markdown",
   "id": "46091d60",
   "metadata": {},
   "source": [
    "## Multiprocessing"
   ]
  },
  {
   "cell_type": "code",
   "execution_count": 3,
   "id": "b7380542",
   "metadata": {},
   "outputs": [],
   "source": [
    "all_data_dir = f\"/om/user/eisenaj/datasets/anesthesia/mat\"\n",
    "task_type = 'VAR'\n",
    "data_class = 'propofolPuffTone'\n",
    "windows = [int(w) if w % 1 == 0 else w for w in np.arange(0.5, 10.5, 0.5)]\n",
    "# bandpass_info = dict(\n",
    "#     flag=False,\n",
    "#     low=None,\n",
    "#     high=None\n",
    "# )\n",
    "bandpass_info = dict(\n",
    "    flag=True,\n",
    "    low=0.5,\n",
    "    high=100\n",
    ")"
   ]
  },
  {
   "cell_type": "code",
   "execution_count": 4,
   "id": "ad32266a",
   "metadata": {},
   "outputs": [
    {
     "name": "stdout",
     "output_type": "stream",
     "text": [
      "BANDPASS = True\n",
      "=========================\n",
      "session = MrJones-Anesthesia-20160105-01\n",
      "-------------------------\n",
      "session has been chunked\n",
      "Now running: [0.5, 1, 1.5, 2, 2.5, 3, 3.5, 4, 4.5, 5, 5.5, 6, 6.5, 7, 7.5, 8, 8.5, 9, 9.5, 10]\n",
      "Submitted batch job 23782808\n",
      "Submitted batch job 23782809\n",
      "Submitted batch job 23782810\n",
      "Submitted batch job 23782811\n",
      "Submitted batch job 23782812\n",
      "Submitted batch job 23782813\n",
      "Submitted batch job 23782814\n",
      "Submitted batch job 23782815\n",
      "Submitted batch job 23782816\n",
      "Submitted batch job 23782817\n",
      "Submitted batch job 23782835\n",
      "Submitted batch job 23782836\n",
      "Submitted batch job 23782837\n",
      "Submitted batch job 23782838\n",
      "Submitted batch job 23782839\n",
      "Submitted batch job 23782840\n",
      "Submitted batch job 23782841\n",
      "Submitted batch job 23782842\n",
      "Submitted batch job 23782843\n",
      "Submitted batch job 23782844\n"
     ]
    }
   ],
   "source": [
    "print(f\"BANDPASS = {bandpass_info['flag']}\")\n",
    "for session in [f[:-4] for f in os.listdir(os.path.join(all_data_dir, data_class)) if f.endswith('.mat')][:1]:\n",
    "# for session in ['MrJones-Anesthesia-20160107-01']:\n",
    "# for session in ['SPOCK_Ketamine_20210909']:\n",
    "    data_class = get_data_class(session, all_data_dir)\n",
    "    print(\"=\"*25)\n",
    "    print(f\"session = {session}\")\n",
    "    print(\"-\"*25)\n",
    "#     \n",
    "\n",
    "    regex = re.compile(f\"{session}_lfp_chunked_.*\")\n",
    "    data_dir = None\n",
    "    chunk_time = np.Inf\n",
    "    for f in os.listdir(os.path.join(all_data_dir, data_class)):\n",
    "        if regex.match(f):\n",
    "            if int(f.split('_')[-1][:-1]) < chunk_time:\n",
    "                data_dir = os.path.join(all_data_dir, data_class, f)\n",
    "                chunk_time = int(f.split('_')[-1][:-1])\n",
    "    if data_dir is None:\n",
    "        print(\"session has not been chunked, chunking now\")\n",
    "        save_lfp_chunks(session, all_data_dir)\n",
    "    else:\n",
    "        print(\"session has been chunked\")\n",
    "    \n",
    "    \n",
    "    results_dir = f\"/om/user/eisenaj/ChaoticConsciousness/results/{data_class}/{task_type}\"\n",
    "    windows_to_run = []\n",
    "    for window in windows:\n",
    "        try:\n",
    "            get_result_path(results_dir, session, window, bandpass_info=bandpass_info)\n",
    "        except:\n",
    "            windows_to_run.append(window)\n",
    "            \n",
    "    if len(windows_to_run) == 0:\n",
    "        print(f\"All windows have been run: {windows}\")\n",
    "    else:\n",
    "        print(f\"Now running: {windows_to_run}\")\n",
    "    \n",
    "        for window in windows_to_run:\n",
    "            stride = window\n",
    "            os.system(f\"sbatch /om2/user/eisenaj/code/ChaoticConsciousness/shell_scripts/multiproc.sh {session} {window} {stride} {task_type} {1 if bandpass_info['flag'] else 0} {bandpass_info['low']} {bandpass_info['high']}\")"
   ]
  },
  {
   "cell_type": "markdown",
   "id": "05591ebe",
   "metadata": {},
   "source": [
    "## Fix Broken Compile"
   ]
  },
  {
   "cell_type": "code",
   "execution_count": null,
   "id": "ab41f27c",
   "metadata": {},
   "outputs": [],
   "source": [
    "dt = 0.001"
   ]
  },
  {
   "cell_type": "code",
   "execution_count": 35,
   "id": "1b87b19d",
   "metadata": {},
   "outputs": [],
   "source": [
    "session = 'Mary-Anesthesia-20160912-02'\n",
    "data_class = get_data_class(session, all_data_dir)\n",
    "results_dir = f\"/om/user/eisenaj/ChaoticConsciousness/results/{data_class}/{task_type}\"\n",
    "for window in windows:\n",
    "    result_path = get_result_path(results_dir, session, window, window)\n",
    "    for folder_name in os.listdir(result_path):\n",
    "        folder_to_compile = os.path.join(result_path, folder_name)\n",
    "        if os.path.isdir(os.path.join(result_path, folder_to_compile)):\n",
    "            files = os.listdir(folder_to_compile)\n",
    "            print(f\"Now compiling {folder_to_compile}\")\n",
    "            if len(files[0].split('_')) == 5:\n",
    "                temp_data = load(os.path.join(folder_to_compile, files[0]))\n",
    "                if 'start_ind' in temp_data.keys():\n",
    "                    compile_folder(folder_to_compile)\n",
    "                else:\n",
    "                    all_window_data = []\n",
    "                    for file in tqdm(files):\n",
    "                        window_start, window_end = float(file.split('_')[2]), float(file.split('_')[4])\n",
    "                        window_data = load(os.path.join(folder_to_compile, file))\n",
    "                        window_data['start_time'] = window_start\n",
    "                        window_data['start_ind'] = int(window_start/dt)\n",
    "                        window_data['end_time'] = window_end\n",
    "                        window_data['end_ind'] = int(window_end/dt)\n",
    "                        all_window_data.append(window_data) \n",
    "\n",
    "                    results_df = pd.DataFrame(all_window_data)\n",
    "\n",
    "                    results_df = results_df.sort_values('start_ind')\n",
    "                    results_df = results_df.reset_index(drop=True)\n",
    "\n",
    "                    shutil.rmtree(folder_to_compile)\n",
    "\n",
    "                    save(results_df, folder_to_compile)\n",
    "            else:\n",
    "                compile_folder(folder_to_compile)"
   ]
  },
  {
   "cell_type": "code",
   "execution_count": 19,
   "id": "6be51401",
   "metadata": {},
   "outputs": [],
   "source": [
    "session = 'MrJones-Anesthesia-20160301-01'\n",
    "window = 9.5\n",
    "stride = 9.5\n",
    "bandpass_info = {'flag': True, 'low': 0.5, 'high': 100}"
   ]
  },
  {
   "cell_type": "code",
   "execution_count": 7,
   "id": "ac0c66eb",
   "metadata": {},
   "outputs": [],
   "source": [
    "results_dir = \"/om/user/eisenaj/ChaoticConsciousness/results/propofolPuffTone/VAR\""
   ]
  },
  {
   "cell_type": "code",
   "execution_count": 15,
   "id": "62bb008e",
   "metadata": {},
   "outputs": [],
   "source": [
    "file_template = f\"{os.path.basename(results_dir)}_{session}_window_{window}_stride_{stride}_\" + \"[a-zA-Z]{3}-\"\n",
    "regex = re.compile(file_template)"
   ]
  },
  {
   "cell_type": "code",
   "execution_count": 16,
   "id": "3479a25d",
   "metadata": {},
   "outputs": [],
   "source": [
    "matching_files = []\n",
    "for file in os.listdir(results_dir):\n",
    "    if regex.match(file):\n",
    "        matching_files.append(file)"
   ]
  },
  {
   "cell_type": "code",
   "execution_count": 21,
   "id": "2990a81d",
   "metadata": {},
   "outputs": [
    {
     "data": {
      "text/plain": [
       "'/om/user/eisenaj/ChaoticConsciousness/results/propofolPuffTone/VAR/VAR_MrJones-Anesthesia-20160301-01_window_9.5_stride_9.5_Feb-23-2022_2121'"
      ]
     },
     "execution_count": 21,
     "metadata": {},
     "output_type": "execute_result"
    }
   ],
   "source": [
    "get_result_path(results_dir, session, window, bandpass_info=None)"
   ]
  },
  {
   "cell_type": "code",
   "execution_count": null,
   "id": "46a642db",
   "metadata": {},
   "outputs": [],
   "source": []
  }
 ],
 "metadata": {
  "kernelspec": {
   "display_name": "Python 3 (ipykernel)",
   "language": "python",
   "name": "python3"
  },
  "language_info": {
   "codemirror_mode": {
    "name": "ipython",
    "version": 3
   },
   "file_extension": ".py",
   "mimetype": "text/x-python",
   "name": "python",
   "nbconvert_exporter": "python",
   "pygments_lexer": "ipython3",
   "version": "3.9.1"
  }
 },
 "nbformat": 4,
 "nbformat_minor": 5
}
