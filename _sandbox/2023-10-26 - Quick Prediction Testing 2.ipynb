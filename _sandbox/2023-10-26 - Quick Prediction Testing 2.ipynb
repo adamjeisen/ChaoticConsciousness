{
 "cells": [
  {
   "cell_type": "code",
   "execution_count": 1,
   "id": "81ae5830-f934-4944-aed5-7335f8f16c7e",
   "metadata": {},
   "outputs": [],
   "source": [
    "%load_ext autoreload"
   ]
  },
  {
   "cell_type": "code",
   "execution_count": 29,
   "id": "547ffc09-703a-4184-9e95-bd309e213bb6",
   "metadata": {},
   "outputs": [],
   "source": [
    "%autoreload 2\n",
    "\n",
    "import argparse\n",
    "from copy import deepcopy\n",
    "import logging\n",
    "from matplotlib.cm import get_cmap, ScalarMappable\n",
    "from matplotlib.colors import Normalize\n",
    "import matplotlib.pyplot as plt\n",
    "import pandas as pd\n",
    "import scipy\n",
    "from scipy.fftpack import  fft, ifft, ifftshift\n",
    "from scipy.signal import correlate\n",
    "from sklearn.decomposition import PCA\n",
    "from sklearn.metrics import r2_score\n",
    "import ssm\n",
    "import sys\n",
    "\n",
    "sys.path.append('/om2/user/eisenaj/code/ChaoticConsciousness')\n",
    "\n",
    "from data_utils import *\n",
    "\n",
    "sys.path.append('/om2/user/eisenaj/code/DeLASE')\n",
    "from delase import *\n",
    "from stability_estimation import *\n",
    "from parameter_choosing import *\n",
    "from performance_metrics import *\n",
    "from plot import *"
   ]
  },
  {
   "cell_type": "markdown",
   "id": "83110965-89d8-4dda-83d1-825f9fe9a24d",
   "metadata": {
    "jp-MarkdownHeadingCollapsed": true,
    "tags": []
   },
   "source": [
    "# Functions"
   ]
  },
  {
   "cell_type": "code",
   "execution_count": 110,
   "id": "09e5cfcb-69d1-4627-90fd-e7227b5e1de7",
   "metadata": {},
   "outputs": [],
   "source": [
    "class VAR:\n",
    "    def __init__(self, data, p=1, matrix_size=None, tau=1, dt=None, use_torch=False, device=None, dtype='torch.DoubleTensor', verbose=False):\n",
    "        self.window = data.shape[-2]\n",
    "        self.n = data.shape[-1]\n",
    "        \n",
    "        if p is not None and matrix_size is not None:\n",
    "            raise ValueError(\"Cannot provide both p and matrix_size!!\")\n",
    "        elif p is None:\n",
    "            self.matrix_size = matrix_size\n",
    "            self.p = int(np.ceil(matrix_size/self.n))\n",
    "        else: # matrix_size is None\n",
    "            self.p = p\n",
    "            self.matrix_size = self.n*self.p\n",
    "            \n",
    "        self.tau = tau\n",
    "        self.dt = dt\n",
    "        self.use_torch = use_torch\n",
    "        \n",
    "        data = numpy_torch_conversion(data, use_torch, device, dtype)\n",
    "        self.data = data\n",
    "        if len(data.shape) == 3:\n",
    "            self.trials = True\n",
    "        else:\n",
    "            self.trials = False\n",
    "        if use_torch:\n",
    "            self.device = data.device\n",
    "            self.dtype = data.type()\n",
    "        else:\n",
    "            self.device = None\n",
    "            self.dtype = None\n",
    "            \n",
    "        if self.p is not None:\n",
    "            self.compute_hankel(verbose=verbose)\n",
    "            \n",
    "        self.use_bias = None\n",
    "        self.A = None\n",
    "        self.B = None\n",
    "        \n",
    "    def compute_hankel(self, p=None, tau=None, verbose=False):\n",
    "        if verbose:\n",
    "            print(\"Computing Hankel matrix ...\")\n",
    "        if p is None and self.p is None:\n",
    "            raise ValueError(\"Embedding dim p has not been provided.\")\n",
    "        elif p is not None:\n",
    "            self.p = p\n",
    "        else: # p is None and self.p is not None\n",
    "            p = self.p\n",
    "        \n",
    "        if tau is None and self.tau is None:\n",
    "            raise ValueError(\"Embedding dim p has not been provided.\")\n",
    "        elif tau is not None:\n",
    "            self.tau = tau\n",
    "        else: # p is None and self.p is not None\n",
    "            tau = self.tau\n",
    "\n",
    "        if self.trials:\n",
    "            if self.use_torch:\n",
    "                H = torch.zeros(self.data.shape[0], self.data.shape[1] - p + 1, self.data.shape[2]*p).type(self.dtype).to(self.device)\n",
    "            else:\n",
    "                H = np.zeros(self.data.shape[0], self.data.shape[1] - p + 1, self.data.shape[2]*p)\n",
    "            for i in range(self.data.shape[0]): \n",
    "                H[i] = embed_signal(self.data[i], p, use_torch=self.use_torch, device=self.device, dtype=self.dtype)\n",
    "            self.H = H\n",
    "        else:\n",
    "            self.H = embed_signal(self.data, p, tau, use_torch=self.use_torch, device=self.device, dtype=self.dtype)\n",
    "        \n",
    "        if verbose:\n",
    "            print(\"Hankel matrix computed!\")\n",
    "            \n",
    "    def compute_VAR_p(self, lamb=0, use_bias=False, verbose=False):\n",
    "        if verbose:\n",
    "            print(\"Computing least squares fit for VAR ...\")\n",
    "        \n",
    "        self.use_bias = use_bias\n",
    "        if use_bias:\n",
    "            pass\n",
    "        \n",
    "        if self.trials:\n",
    "            pass\n",
    "        else:\n",
    "            V_minus = self.H[:-1]\n",
    "            V_plus = self.H[1:, :self.n]\n",
    "            \n",
    "        if self.use_torch:\n",
    "            A = (torch.linalg.inv(V_minus.T @ V_minus  + lamb*torch.eye(V_minus.shape[1]).type(self.dtype).to(self.device)) @ V_minus.T @ V_plus).T\n",
    "        else:\n",
    "            A = (np.linalg.inv(V_minus.T @ V_minus + lamb*np.eye(V_minus.shape[1])) @ V_minus.T @ V_plus).T\n",
    "        \n",
    "        if use_bias:\n",
    "            self.A = A[:, :-1]\n",
    "            self.B = A[:, -1]\n",
    "        else:\n",
    "            self.A = A\n",
    "            \n",
    "        if verbose:\n",
    "            print(\"Least squares complete!\")\n",
    "    \n",
    "    def predict_VAR_p(self, test_data, tail_bite=False, reseed=None, full_return=False, verbose=False):\n",
    "        test_data = numpy_torch_conversion(test_data, self.use_torch, self.device, self.dtype)\n",
    "        H_test = embed_signal(test_data, self.p, self.tau, use_torch=self.use_torch, device=self.device, dtype=self.dtype)\n",
    "        \n",
    "        if tail_bite:\n",
    "            if reseed is None:\n",
    "                reseed = H_test.shape[0] + 1\n",
    "\n",
    "            if self.use_torch:\n",
    "                H_test_VAR = torch.zeros(H_test.shape).type(self.dtype).to(self.device)\n",
    "            else:\n",
    "                H_test_VAR = np.zeros(H_test.shape)\n",
    "            H_test_VAR[0] = H_test[0]\n",
    "\n",
    "            for t in range(1, H_test.shape[0]):\n",
    "                if t % reseed == 0:\n",
    "                    H_test_VAR[t] = self.A @ H_test[t - 1]\n",
    "                else:\n",
    "                    H_test_VAR[t, :self.n] = self.A @ H_test_VAR[t - 1]\n",
    "                    H_test_VAR[t, self.n:]\n",
    "                if self.use_bias:\n",
    "                    H_test_VAR[t, :self.n] += self.B\n",
    "\n",
    "        else:\n",
    "            H_test_VAR_ = (self.A @ H_test[:-1].T).T\n",
    "            if self.use_bias:\n",
    "                H_test_VAR_ += self.B\n",
    "            if self.use_torch:\n",
    "                H_test_VAR = torch.vstack([H_test[[0], :self.n], H_test_VAR_])\n",
    "            else:\n",
    "                H_test_VAR = np.vstack([H_test[[0], :self.n], H_test_VAR_])\n",
    "\n",
    "        if self.use_torch:\n",
    "            pred_data = torch.vstack([test_data[:self.p], H_test_VAR[1:, :self.n]])\n",
    "        else:\n",
    "            pred_data = np.vstack([test_data[:self.p], H_test_VAR[1:, :self.n]])\n",
    "\n",
    "        if full_return:\n",
    "            return pred_data, H_test_VAR, H_test\n",
    "        else:\n",
    "            return pred_data\n",
    "        \n",
    "def autocorrelation(x):\n",
    "    ac = np.zeros((x.shape[1], int(x.shape[0]/2)))\n",
    "    for i in range(ac.shape[0]):\n",
    "        stdev = np.std(x[:,i])\n",
    "        if stdev == 0:\n",
    "            inp = x[:, i]\n",
    "        else:\n",
    "            inp = (x[:,i] - np.average(x[:,i]))/stdev\n",
    "        xp = ifftshift(inp)\n",
    "        n, = xp.shape\n",
    "        xp = np.r_[xp[:n//2], np.zeros_like(xp), xp[n//2:]]\n",
    "        f = fft(xp)\n",
    "        p = np.absolute(f)**2\n",
    "        pi = ifft(p)\n",
    "        ac[i] = np.real(pi)[:n//2]/(np.arange(n//2)[::-1]+n//2)\n",
    "    return ac\n",
    "\n",
    "def get_fft(x, dt=1, min_freq=0, max_freq=500, spectrum_smoothing_width=0, log=False, standardize=False):\n",
    "    fft = np.zeros((x.shape[1], int(x.shape[0]/2) + 1))\n",
    "    for i in range(x.shape[1]):\n",
    "        stdev = x[:, i].std()\n",
    "        if standardize and stdev != 0:\n",
    "            inp = (x[:, i] - x[:,i].mean())/stdev\n",
    "        else:\n",
    "            inp = x[:, i]\n",
    "        fft[i] = np.abs(np.fft.rfft(inp))\n",
    "    freqs = np.fft.rfftfreq(x.shape[0], d=dt)\n",
    "    \n",
    "    freq_inds = np.logical_and(freqs >= min_freq, freqs <= max_freq)\n",
    "    fft = fft[:, freq_inds]\n",
    "    freqs = freqs[freq_inds]\n",
    "    \n",
    "    df = freqs[0]\n",
    "    if spectrum_smoothing_width > 0:\n",
    "        for i in range(fft.shape[0]):\n",
    "            fft[i] = scipy.ndimage.gaussian_filter1d(fft[i], spectrum_smoothing_width/df)\n",
    "    \n",
    "    if log:\n",
    "        fft = 10*np.log10(fft)\n",
    "    \n",
    "    if standardize:\n",
    "        for i in range(fft.shape[0]):\n",
    "            fft[i] = (fft[i] - fft[i].mean())/fft.std()\n",
    "    \n",
    "    return fft\n",
    "\n",
    "def testing_suite(pred, true, p=1, reseed=1, num_lags=None, dt=1):\n",
    "    pred_inds = np.arange(p + reseed - 2, true.shape[0], reseed)\n",
    "    mse_indexed = ((pred[pred_inds] - true[pred_inds])**2).mean()\n",
    "    r2_indexed = r2_score(true[pred_inds], pred[pred_inds])\n",
    "    correl_indexed = np.zeros(pred.shape[1])\n",
    "    for i in range(pred.shape[1]):\n",
    "        correl_indexed[i] = scipy.stats.pearsonr(pred[pred_inds, i], true[pred_inds, i])[0]\n",
    "    autocorrelation(pred)\n",
    "\n",
    "    mse_full = ((pred[p:] - true[p:])**2).mean()\n",
    "    r2_full = r2_score(true[p:], pred[p:])\n",
    "    correl_full = np.zeros(pred.shape[1])\n",
    "    for i in range(pred.shape[1]):\n",
    "        correl_full[i] = scipy.stats.pearsonr(pred[p:, i], true[p:, i])[0]\n",
    "    \n",
    "    # AUTOCORRELATIONS\n",
    "    \n",
    "    autocorrel_correl = np.zeros(pred.shape[1])\n",
    "    autocorrel_r2 = np.zeros(pred.shape[1])\n",
    "    \n",
    "    autocorrel_pred = autocorrelation(pred)\n",
    "    autocorrel_true = autocorrelation(true)\n",
    "    if num_lags is None:\n",
    "        num_lags = autocorrel_pred.shape[1]\n",
    "    for i in range(pred.shape[1]):\n",
    "        autocorrel_correl[i] = scipy.stats.pearsonr(autocorrel_pred[i][:num_lags], autocorrel_true[i][:num_lags])[0]\n",
    "        autocorrel_r2[i] = r2_score(autocorrel_true[i][:num_lags], autocorrel_pred[i][:num_lags])\n",
    "    \n",
    "    # PREDICTIONS\n",
    "    \n",
    "    fft_correl = np.zeros(pred.shape[1])\n",
    "    fft_r2 = np.zeros(pred.shape[1])\n",
    "    \n",
    "    fft_pred = get_fft(pred, dt=dt, min_freq=0, max_freq=500, spectrum_smoothing_width=0, log=False, standardize=False)\n",
    "    fft_true = get_fft(true, dt=dt, min_freq=0, max_freq=500, spectrum_smoothing_width=0, log=False, standardize=False)\n",
    "    \n",
    "    for i in range(pred.shape[1]):\n",
    "        fft_correl[i] = scipy.stats.pearsonr(fft_pred[i], fft_true[i])[0]\n",
    "        fft_r2[i] = r2_score(fft_true[i], fft_pred[i])\n",
    "        \n",
    "        \n",
    "    return dict(\n",
    "        mse_indexed=mse_indexed,\n",
    "        r2_indexed=r2_indexed,\n",
    "        correl_indexed=correl_indexed,\n",
    "        mse_full=mse_full,\n",
    "        r2_full=r2_full,\n",
    "        correl_full=correl_full,\n",
    "        autocorrel_correl=autocorrel_correl,\n",
    "        autocorrel_r2=autocorrel_r2,\n",
    "        fft_correl=fft_correl,\n",
    "        fft_r2=fft_r2,\n",
    "    )"
   ]
  },
  {
   "cell_type": "markdown",
   "id": "68916b24-eb2a-4595-afe4-40de19bd0f1f",
   "metadata": {
    "tags": []
   },
   "source": [
    "# Load Data"
   ]
  },
  {
   "cell_type": "markdown",
   "id": "60f4920c-791f-4c66-bd96-f46c9d97affb",
   "metadata": {
    "tags": []
   },
   "source": [
    "## Background"
   ]
  },
  {
   "cell_type": "code",
   "execution_count": 3,
   "id": "0232baf3-9a99-4063-99b8-0726ba375402",
   "metadata": {},
   "outputs": [],
   "source": [
    "# session_list = os.listdir(\"/scratch2/weka/millerlab/eisenaj/ChaoticConsciousness/grid_search_results\")\n",
    "# session_list = session_list[:2]\n",
    "# # session_list = session_list[4:]"
   ]
  },
  {
   "cell_type": "code",
   "execution_count": 4,
   "id": "596720ef-925b-4329-b475-6cd3d7b0fa4a",
   "metadata": {},
   "outputs": [
    {
     "name": "stdout",
     "output_type": "stream",
     "text": [
      "loading data...\n",
      "data loaded!\n",
      "loading directory\n",
      "directory loaded!\n",
      "Grid search results loaded!\n"
     ]
    }
   ],
   "source": [
    "session = 'MrJones-Anesthesia-20160301-01'\n",
    "\n",
    "# -----------------------------------------\n",
    "# LOAD DATA AND DIRECTORY\n",
    "# -----------------------------------------\n",
    "print(\"loading data...\")\n",
    "all_data_dir = '/scratch2/weka/millerlab/eisenaj/datasets/anesthesia/mat'\n",
    "data_class = get_data_class(session, all_data_dir)\n",
    "\n",
    "os.environ[\"HDF5_USE_FILE_LOCKING\"] = \"FALSE\"\n",
    "# variables = ['electrodeInfo', 'lfp', 'lfpSchema', 'sessionInfo', 'trialInfo', 'unitInfo']\n",
    "# session_vars, T, N, dt = load_session_data(session, all_data_dir, variables, data_class=data_class, verbose=False)\n",
    "# electrode_info, lfp, lfp_schema, session_info, trial_info, unit_info = session_vars['electrodeInfo'], session_vars['lfp'], session_vars['lfpSchema'], session_vars['sessionInfo'], session_vars['trialInfo'], session_vars['unitInfo']\n",
    "\n",
    "variables = ['electrodeInfo', 'lfpSchema', 'sessionInfo', 'trialInfo', 'unitInfo']\n",
    "session_vars, T, N, dt = load_session_data(session, all_data_dir, variables, data_class=data_class, verbose=False)\n",
    "electrode_info, lfp_schema, session_info, trial_info, unit_info = session_vars['electrodeInfo'], session_vars['lfpSchema'], session_vars['sessionInfo'], session_vars['trialInfo'], session_vars['unitInfo']\n",
    "\n",
    "eyes_close = session_info['eyesClose'][-1] if isinstance(session_info['eyesClose'], np.ndarray) else session_info['eyesClose'] \n",
    "section_times = dict( \n",
    "        pre=(0, session_info['drugStart'][0]),\n",
    "        induction=(session_info['drugStart'][0], eyes_close),\n",
    "        during=(eyes_close, session_info['drugEnd'][1]),\n",
    "        post=(session_info['drugEnd'][1], T*dt)\n",
    ")\n",
    "sections = list(section_times.keys())\n",
    "#     areas = np.unique(electrode_info['area'])\n",
    "# areas = np.hstack([areas, 'all'])\n",
    "areas = ['all']\n",
    "\n",
    "print(\"data loaded!\")\n",
    "print(\"loading directory\")\n",
    "\n",
    "chunked_folder = [f for f in os.listdir(os.path.join(all_data_dir, data_class)) if f.startswith(session) and 'chunked' in f]\n",
    "if len(chunked_folder) == 0:\n",
    "    print(f\"Chunked folder for {session} not found in {os.path.join(all_data_dir, data_class)}\")\n",
    "else:\n",
    "    chunked_folder = chunked_folder[0]\n",
    "\n",
    "directory = pd.read_pickle(os.path.join(all_data_dir, data_class, chunked_folder, 'directory'))\n",
    "\n",
    "print(\"directory loaded!\")\n",
    "\n",
    "\n",
    "area = 'all'\n",
    "if area == 'all':\n",
    "    unit_indices = np.arange(len(electrode_info['area']))\n",
    "else:\n",
    "    unit_indices = np.where(electrode_info['area'] == area)[0]\n",
    "\n",
    "norm_folder = \"NOT_NORMED\"\n",
    "\n",
    "# -----------------------------------------\n",
    "# LOAD GRID SEARCH RESULTS\n",
    "# -----------------------------------------\n",
    "\n",
    "session_results = {}\n",
    "session_results[session] = {}\n",
    "# data_processing_df_grid = deepcopy(mp_args.data_processing_df)\n",
    "\n",
    "grid_results_dir = '/scratch2/weka/millerlab/eisenaj/ChaoticConsciousness/grid_search_results'\n",
    "areas = os.listdir(os.path.join(grid_results_dir, session, norm_folder))\n",
    "\n",
    "for area in areas:\n",
    "    df = pd.DataFrame({'window': [], 'matrix_size': [], 'r': [], 'AICs': [], 'time_vals': [], 'file_paths': []}).set_index(['window', 'matrix_size', 'r'])\n",
    "    for f in os.listdir(os.path.join(grid_results_dir, session, norm_folder, area)):\n",
    "        t = float(f.split('_')[0])\n",
    "        file_path = os.path.join(grid_results_dir, session, norm_folder, area, f)\n",
    "        df_new = pd.DataFrame(pd.read_pickle(file_path))\n",
    "        if np.isnan(df_new.AIC).sum() > 0:\n",
    "            print(file_path)\n",
    "        df_new = df_new.set_index(['window', 'matrix_size', 'r'])\n",
    "        for i, row in df_new.iterrows():\n",
    "            if i in df.index:\n",
    "                df.loc[i, 'AICs'].append(row.AIC)\n",
    "                df.loc[i, 'time_vals'].append(t)\n",
    "                df.loc[i, 'file_paths'].append(file_path)\n",
    "            else:\n",
    "                df.loc[i] = {'AICs': [row.AIC], 'time_vals': [t], 'file_paths': [file_path]}\n",
    "\n",
    "    df = df.loc[df.index.sortlevel()[0]]\n",
    "    session_results[session][area] = df\n",
    "\n",
    "print(\"Grid search results loaded!\")\n",
    "\n",
    "# ================\n",
    "# INDIVIDUAL AREAS\n",
    "# ================ \n",
    "window_ind, matrix_size_ind, r_ind, all_results_ind = combine_grid_results({key: result for key, result in session_results[session].items() if key !='all'})\n",
    "\n",
    "# ================\n",
    "# ALL AREAS\n",
    "# ================ \n",
    "if 'all' in session_results[session].keys():\n",
    "    window_all, matrix_size_all, r_all, all_results_all = combine_grid_results({key: result for key, result in session_results[session].items() if key =='all'})\n",
    "\n",
    "if area == 'all':\n",
    "    window, matrix_size, r = window_all, matrix_size_all, r_all\n",
    "else:\n",
    "    window, matrix_size, r = window_ind, matrix_size_ind, r_ind"
   ]
  },
  {
   "cell_type": "markdown",
   "id": "f9051877-a486-4411-940b-30cbbdef0ddf",
   "metadata": {
    "tags": []
   },
   "source": [
    "## Load Signals"
   ]
  },
  {
   "cell_type": "code",
   "execution_count": 5,
   "id": "2965c27d-c8f7-4805-be32-0c83c2ed2c64",
   "metadata": {},
   "outputs": [
    {
     "data": {
      "text/plain": [
       "array([2589.5427, 4389.5427])"
      ]
     },
     "execution_count": 5,
     "metadata": {},
     "output_type": "execute_result"
    }
   ],
   "source": [
    "session_info['drugStart']"
   ]
  },
  {
   "cell_type": "code",
   "execution_count": 8,
   "id": "2b5e2cfd-8616-44bc-ac5c-f27489b462e9",
   "metadata": {},
   "outputs": [],
   "source": [
    "subsample = 1\n",
    "\n",
    "window = 15*subsample # s\n",
    "T_pred = 4*subsample # s\n",
    "\n",
    "# start_times = [500] # s\n",
    "start_times = [4000] # s"
   ]
  },
  {
   "cell_type": "code",
   "execution_count": 9,
   "id": "cafa612d-0582-4abb-b692-d45ba623e0de",
   "metadata": {},
   "outputs": [
    {
     "data": {
      "application/vnd.jupyter.widget-view+json": {
       "model_id": "3926ebd028c341eebd6d68901af3ef37",
       "version_major": 2,
       "version_minor": 0
      },
      "text/plain": [
       "  0%|          | 0/1 [00:00<?, ?it/s]"
      ]
     },
     "metadata": {},
     "output_type": "display_data"
    }
   ],
   "source": [
    "signals = []\n",
    "for t in tqdm(start_times):   \n",
    "    signal_train = load_window_from_chunks(t, t + window, directory)\n",
    "    signal_test = load_window_from_chunks(t + window, t + window + T_pred, directory)\n",
    "    signals.append((signal_train, signal_test))"
   ]
  },
  {
   "cell_type": "code",
   "execution_count": 10,
   "id": "f51678e1-c524-42a1-aeac-0f61b96dcaba",
   "metadata": {},
   "outputs": [],
   "source": [
    "signal_train = signal_train[np.arange(0, signal_train.shape[0], subsample)]\n",
    "signal_test = signal_test[np.arange(0, signal_test.shape[0], subsample)]"
   ]
  },
  {
   "cell_type": "markdown",
   "id": "927b5f2a-2b6e-4775-8ace-ca9b7f2d2850",
   "metadata": {},
   "source": [
    "# Analyze"
   ]
  },
  {
   "cell_type": "code",
   "execution_count": 125,
   "id": "9434ff8e-8349-4265-86c7-88a7859c315a",
   "metadata": {},
   "outputs": [],
   "source": [
    "thresh = 0.99\n",
    "pca = PCA(n_components=signal_train.shape[1]).fit(signal_train)\n",
    "ind = np.argmax(np.cumsum(pca.explained_variance_ratio_) > thresh)"
   ]
  },
  {
   "cell_type": "code",
   "execution_count": 47,
   "id": "2703d852-2d25-421b-a916-7a089bdec329",
   "metadata": {},
   "outputs": [],
   "source": [
    "signal_train_pca = pca.transform(signal_train)[:, :ind]"
   ]
  },
  {
   "cell_type": "code",
   "execution_count": 127,
   "id": "001407c5-f3f1-48cf-a7db-39d32b4f8401",
   "metadata": {},
   "outputs": [],
   "source": [
    "# stpca_inv = np.hstack([signal_train_pca, np.zeros((signal_train_pca.shape[0], signal_train.shape[1] - signal_train_pca.shape[1]))])\n",
    "# signal_train_pca_inv = pca.inverse_transform(stpca_inv)"
   ]
  },
  {
   "cell_type": "code",
   "execution_count": 128,
   "id": "35fed667-6baa-4769-8708-3698cd7234d7",
   "metadata": {},
   "outputs": [
    {
     "data": {
      "text/plain": [
       "(15000, 34)"
      ]
     },
     "execution_count": 128,
     "metadata": {},
     "output_type": "execute_result"
    }
   ],
   "source": [
    "signal_train_pca.shape"
   ]
  },
  {
   "cell_type": "code",
   "execution_count": 129,
   "id": "0223bb21-262a-4c76-989f-a3a63566f056",
   "metadata": {},
   "outputs": [],
   "source": [
    "\n",
    "# var = VAR(signal_train)\n",
    "# var.compute_VAR_p()\n",
    "\n",
    "\n",
    "delase = DeLASE(signal_train, matrix_size=matrix_size, dt=dt, device='cuda')\n",
    "delase.fit(max_freq=500, max_unstable_freq=125, rank_thresh=0.075)\n",
    "\n",
    "delase_big = DeLASE(signal_train, n_delays=28, dt=dt, device='cuda')\n",
    "delase_big.fit(max_freq=500, max_unstable_freq=125, rank_thresh=0.075)\n",
    "\n",
    "delase_pca = DeLASE(signal_train_pca, n_delays=28, dt=dt, device='cuda')\n",
    "delase_pca.fit(max_freq=500, max_unstable_freq=125, rank_thresh=0.075)\n",
    "\n",
    "delase_pca2 = DeLASE(signal_train_pca, matrix_size=6400, dt=dt, device='cuda')\n",
    "delase_pca2.fit(max_freq=500, max_unstable_freq=125, rank_thresh=0.075)\n",
    "\n",
    "\n",
    "# delase_big = DeLASE(signal_train, p=3, tau=20, use_torch=True, device='cuda')\n",
    "# delase_big.compute_havok_dmd(r_thresh=0.1)"
   ]
  },
  {
   "cell_type": "code",
   "execution_count": 130,
   "id": "30e67187-b02a-47c3-bc40-07c94cc80711",
   "metadata": {},
   "outputs": [
    {
     "data": {
      "image/png": "[encoded data removed]",
      "text/plain": [
       "<Figure size 640x480 with 1 Axes>"
      ]
     },
     "metadata": {},
     "output_type": "display_data"
    }
   ],
   "source": [
    "top_percent = 0.1\n",
    "plt.plot(delase.stability_params[:int(top_percent*len(delase.stability_params))].cpu())\n",
    "plt.plot(delase_big.stability_params[:int(top_percent*len(delase_big.stability_params))].cpu())\n",
    "plt.plot(delase_pca.stability_params[:int(top_percent*len(delase_pca.stability_params))].cpu())\n",
    "plt.plot(delase_pca2.stability_params[:int(top_percent*len(delase_pca2.stability_params))].cpu())\n",
    "plt.show()"
   ]
  },
  {
   "cell_type": "code",
   "execution_count": 131,
   "id": "fdaa003a-29ea-43f4-b0bd-0aa27eea7453",
   "metadata": {},
   "outputs": [],
   "source": [
    "pred_delase = delase.DMD.predict(signal_test).cpu().numpy()\n",
    "pred_delase_big = delase_big.DMD.predict(signal_test).cpu().numpy()\n",
    "\n",
    "signal_test_pca = pca.transform(signal_test)[:, :ind]\n",
    "pred_delase_pca = delase_pca.DMD.predict(signal_test_pca).cpu().numpy()\n",
    "stack = np.hstack([signal_test_pca, np.zeros((signal_test_pca.shape[0], signal_test.shape[1] - signal_test_pca.shape[1]))])\n",
    "signal_test_pca_inv = pca.inverse_transform(stack)\n",
    "\n",
    "stack = np.hstack([pred_delase_pca, np.zeros((pred_delase_pca.shape[0], signal_test.shape[1] - pred_delase_pca.shape[1]))])\n",
    "pred_delase_pca_inv = pca.inverse_transform(stack)\n",
    "\n",
    "pred_delase_pca2 = delase_pca2.DMD.predict(signal_test_pca).cpu().numpy()\n",
    "\n",
    "stack = np.hstack([pred_delase_pca2, np.zeros((pred_delase_pca2.shape[0], signal_test.shape[1] - pred_delase_pca2.shape[1]))])\n",
    "pred_delase_pca2_inv = pca.inverse_transform(stack)"
   ]
  },
  {
   "cell_type": "code",
   "execution_count": 132,
   "id": "6785af87-4805-47e8-8a52-e2b04dc23a69",
   "metadata": {},
   "outputs": [
    {
     "name": "stdout",
     "output_type": "stream",
     "text": [
      "DeLASE: 4.621082181016547e-06\n",
      "DeLASE Big: 9.645180891732171e-06\n",
      "DeLASE PCA in PCA Space: 7.690344366006731e-06\n",
      "DeLASE PCA in Neural Space (compred to inverted): 1.1368335149749088e-06\n",
      "DeLASE PCA in Neural Space (compared to original): 0.00025917151196543846\n",
      "DeLASE PCA2 in PCA Space: 1.4920668261796225e-05\n",
      "DeLASE PCA2 in Neural Space (compred to inverted): 2.205664003917704e-06\n",
      "DeLASE PCA2 in Neural Space (compared to original): 0.0002602403424543811\n"
     ]
    }
   ],
   "source": [
    "print(f\"DeLASE: {((signal_test - pred_delase)**2).mean()}\")\n",
    "print(f\"DeLASE Big: {((signal_test - pred_delase_big)**2).mean()}\")\n",
    "print(f\"DeLASE PCA in PCA Space: {((signal_test_pca - pred_delase_pca)**2).mean()}\")\n",
    "print(f\"DeLASE PCA in Neural Space (compred to inverted): {((signal_test_pca_inv - pred_delase_pca_inv)**2).mean()}\")\n",
    "print(f\"DeLASE PCA in Neural Space (compared to original): {((signal_test - pred_delase_pca_inv)**2).mean()}\")\n",
    "\n",
    "print(f\"DeLASE PCA2 in PCA Space: {((signal_test_pca - pred_delase_pca2)**2).mean()}\")\n",
    "print(f\"DeLASE PCA2 in Neural Space (compred to inverted): {((signal_test_pca_inv - pred_delase_pca2_inv)**2).mean()}\")\n",
    "print(f\"DeLASE PCA2 in Neural Space (compared to original): {((signal_test - pred_delase_pca2_inv)**2).mean()}\")"
   ]
  },
  {
   "cell_type": "code",
   "execution_count": 137,
   "id": "abd4958b-5708-4577-aed0-a8413663804e",
   "metadata": {},
   "outputs": [
    {
     "name": "stdout",
     "output_type": "stream",
     "text": [
      "DeLASE: 0.9993245319894727\n",
      "DeLASE Big: 0.998597761089841\n",
      "DeLASE PCA in PCA Space: 0.9981787119255692\n",
      "DeLASE PCA in Neural Space (compred to inverted): 0.9998352330967635\n",
      "DeLASE PCA in Neural Space (compared to original): 0.9615933794631056\n",
      "DeLASE PCA2 in PCA Space: 0.9964400192105276\n",
      "DeLASE PCA2 in Neural Space (compred to inverted): 0.9996893784274046\n",
      "DeLASE PCA2 in Neural Space (compared to original): 0.9614578217087499\n"
     ]
    }
   ],
   "source": [
    "print(f\"DeLASE: {r2_score(signal_test, pred_delase)}\")\n",
    "print(f\"DeLASE Big: {r2_score(signal_test, pred_delase_big)}\")\n",
    "print(f\"DeLASE PCA in PCA Space: {r2_score(signal_test_pca, pred_delase_pca)}\")\n",
    "print(f\"DeLASE PCA in Neural Space (compred to inverted): {r2_score(signal_test_pca_inv, pred_delase_pca_inv)}\")\n",
    "print(f\"DeLASE PCA in Neural Space (compared to original): {r2_score(signal_test, pred_delase_pca_inv)}\")\n",
    "\n",
    "print(f\"DeLASE PCA2 in PCA Space: {r2_score(signal_test_pca, pred_delase_pca2)}\")\n",
    "print(f\"DeLASE PCA2 in Neural Space (compred to inverted): {r2_score(signal_test_pca_inv, pred_delase_pca2_inv)}\")\n",
    "print(f\"DeLASE PCA2 in Neural Space (compared to original): {r2_score(signal_test, pred_delase_pca2_inv)}\")"
   ]
  },
  {
   "cell_type": "code",
   "execution_count": 172,
   "id": "a08e917b-0959-48a6-b3ea-c3904017c32b",
   "metadata": {},
   "outputs": [],
   "source": [
    "rslds = ssm.SLDS(signal_train.shape[1], 4, 10, \n",
    "             transitions=\"recurrent_only\",\n",
    "             dynamics=\"diagonal_gaussian\",\n",
    "             emissions=\"gaussian_orthog\",\n",
    "             single_subspace=True)\n",
    "rslds.initialize(signal_train)"
   ]
  },
  {
   "cell_type": "code",
   "execution_count": 174,
   "id": "516062d8-0ca6-47ed-9397-fce9c0a08491",
   "metadata": {},
   "outputs": [
    {
     "data": {
      "application/vnd.jupyter.widget-view+json": {
       "model_id": "fc8f2d16540d4a3fb71a43e6fdd74673",
       "version_major": 2,
       "version_minor": 0
      },
      "text/plain": [
       "  0%|          | 0/1000 [00:00<?, ?it/s]"
      ]
     },
     "metadata": {},
     "output_type": "display_data"
    }
   ],
   "source": [
    "q_elbos_bbvi, q_bbvi = rslds.fit(signal_train, method=\"bbvi\",\n",
    "                                 variational_posterior=\"meanfield\",\n",
    "                                 initialize=False, num_iters=1000)"
   ]
  },
  {
   "cell_type": "code",
   "execution_count": 175,
   "id": "1adf8c7f-b77f-4659-90bc-d3340320d2f5",
   "metadata": {},
   "outputs": [
    {
     "data": {
      "text/plain": [
       "[<matplotlib.lines.Line2D at 0x2b54ba084910>]"
      ]
     },
     "execution_count": 175,
     "metadata": {},
     "output_type": "execute_result"
    },
    {
     "data": {
      "image/png": "[encoded data removed]",
      "text/plain": [
       "<Figure size 640x480 with 1 Axes>"
      ]
     },
     "metadata": {},
     "output_type": "display_data"
    }
   ],
   "source": [
    "plt.plot(q_elbos_bbvi)"
   ]
  },
  {
   "cell_type": "code",
   "execution_count": 184,
   "id": "d211b1ac-55a7-4854-8298-34168c8e8966",
   "metadata": {},
   "outputs": [
    {
     "data": {
      "text/plain": [
       "<bound method ensure_slds_args_not_none.<locals>.wrapper of <ssm.lds.SLDS object at 0x2b4e175cd460>>"
      ]
     },
     "execution_count": 184,
     "metadata": {},
     "output_type": "execute_result"
    }
   ],
   "source": [
    ", signa"
   ]
  },
  {
   "cell_type": "code",
   "execution_count": 189,
   "id": "87a59077-b093-44b3-b213-4f2a02c4309d",
   "metadata": {},
   "outputs": [
    {
     "data": {
      "text/plain": [
       "<ssm.variational.SLDSMeanFieldVariationalPosterior at 0x2b4e16eeae80>"
      ]
     },
     "execution_count": 189,
     "metadata": {},
     "output_type": "execute_result"
    }
   ],
   "source": [
    "q_bbvi"
   ]
  },
  {
   "cell_type": "code",
   "execution_count": 236,
   "id": "bec2e20d-6191-45b1-a858-86e1be49580b",
   "metadata": {},
   "outputs": [],
   "source": [
    "def predict(data, rslds):\n",
    "    C = np.mean(rslds.emissions.Cs, axis=0)\n",
    "    d = np.mean(rslds.emissions.ds, axis=0)\n",
    "    C_pseudoinv = np.linalg.solve(C.T.dot(C), C.T).T\n",
    "    x = (data - d).dot(C_pseudoinv)\n",
    "    z = rslds.most_likely_states(x, data)\n",
    "    z_pred, x_pred, y_pred = rslds.sample(T = 10, prefix = (z, x, data))\n",
    "    return z_pred, x_pred, y_pred"
   ]
  },
  {
   "cell_type": "code",
   "execution_count": 238,
   "id": "321c4415-a66a-4961-adf1-f4f3fa6c0c45",
   "metadata": {},
   "outputs": [],
   "source": [
    "z_pred, x_pred, y_pred = predict(signal_train[:1], rslds)"
   ]
  },
  {
   "cell_type": "code",
   "execution_count": 245,
   "id": "1f3bda3e-7ce3-4ba5-99a2-adf1df62a83e",
   "metadata": {},
   "outputs": [
    {
     "data": {
      "text/plain": [
       "[<matplotlib.lines.Line2D at 0x2b555f08b250>]"
      ]
     },
     "execution_count": 245,
     "metadata": {},
     "output_type": "execute_result"
    },
    {
     "data": {
      "image/png": "[encoded data removed]",
      "text/plain": [
       "<Figure size 640x480 with 1 Axes>"
      ]
     },
     "metadata": {},
     "output_type": "display_data"
    }
   ],
   "source": [
    "plt.plot(signal_train[1:11, 0])\n",
    "plt.plot(y_pred[:, 0])"
   ]
  }
 ],
 "metadata": {
  "kernelspec": {
   "display_name": "Python 3 (ipykernel)",
   "language": "python",
   "name": "python3"
  },
  "language_info": {
   "codemirror_mode": {
    "name": "ipython",
    "version": 3
   },
   "file_extension": ".py",
   "mimetype": "text/x-python",
   "name": "python",
   "nbconvert_exporter": "python",
   "pygments_lexer": "ipython3",
   "version": "3.9.1"
  }
 },
 "nbformat": 4,
 "nbformat_minor": 5
}
