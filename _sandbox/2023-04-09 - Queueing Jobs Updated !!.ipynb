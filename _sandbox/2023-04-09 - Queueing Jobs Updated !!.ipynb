{
 "cells": [
  {
   "cell_type": "code",
   "execution_count": 1,
   "id": "8a49507d",
   "metadata": {},
   "outputs": [],
   "source": [
    "%load_ext autoreload"
   ]
  },
  {
   "cell_type": "code",
   "execution_count": 2,
   "id": "3e2872e2",
   "metadata": {},
   "outputs": [],
   "source": [
    "%autoreload 2\n",
    "\n",
    "import argparse\n",
    "from copy import deepcopy\n",
    "import logging\n",
    "from matplotlib.cm import get_cmap, ScalarMappable\n",
    "from matplotlib.colors import Normalize\n",
    "import matplotlib.pyplot as plt\n",
    "import pandas as pd\n",
    "import scipy\n",
    "from sklearn.metrics import r2_score\n",
    "import sys\n",
    "\n",
    "sys.path.append('..')\n",
    "\n",
    "from data_utils import *\n",
    "\n",
    "sys.path.append('../../DeLASE')\n",
    "from delase import *\n",
    "from stability_estimation import *\n",
    "from parameter_choosing import *\n",
    "from performance_metrics import *\n",
    "from plot import *"
   ]
  },
  {
   "cell_type": "markdown",
   "id": "1cd59886",
   "metadata": {},
   "source": [
    "# Arguments + Parameters"
   ]
  },
  {
   "cell_type": "code",
   "execution_count": 3,
   "id": "f87dcec0",
   "metadata": {},
   "outputs": [],
   "source": [
    "data_processing_args_dir = \"/scratch2/weka/millerlab/eisenaj/ChaoticConsciousness/data_processing_args\""
   ]
  },
  {
   "cell_type": "markdown",
   "id": "56d072bd",
   "metadata": {},
   "source": [
    "# Batch Queue"
   ]
  },
  {
   "cell_type": "code",
   "execution_count": 53,
   "id": "350d594f",
   "metadata": {},
   "outputs": [],
   "source": [
    "mp_args = dict(\n",
    "    # ----------------------\n",
    "    # MULTIPROCESSING ARGUMENTS\n",
    "    # ----------------------\n",
    "    USE_TORCH=True,\n",
    "    USE_CUDA=False,\n",
    "    DTYPE='torch.DoubleTensor',\n",
    "    NUM_WORKERS=20,\n",
    "#     NUM_WORKERS=4,\n",
    "    USE_LOGGING=True,\n",
    "    LOG_DIR=\"/om2/user/eisenaj/code/shell_scripts/DeLASE\",\n",
    "    LOG_NAME='mp_delase',\n",
    "    LOG_LEVEL=logging.DEBUG,\n",
    "    RESULTS_DIR='/scratch2/weka/millerlab/eisenaj/ChaoticConsciousness/grid_search_results',\n",
    "    \n",
    "    COMPUTE_IP=False,\n",
    "    COMPUTE_CHROOTS=False,\n",
    "    SAVE_JACOBIANS=False,\n",
    "    TRACK_RESEEDS=False,\n",
    "    NORM = False,\n",
    "    NORM_AIC=True,\n",
    "    \n",
    "    QUEUE_FULL_SESSION=True,\n",
    "\n",
    "    # ----------------------\n",
    "    # DYNAMICAL SYSTEMS ARGUMENTS\n",
    "    # ----------------------\n",
    "    parameter_grid=ParameterGrid(\n",
    "                        window_vals=np.array([15000]),\n",
    "                        matrix_size_vals=np.array([50, 100, 150, 200, 300, 400, 500, 750, 1000, 1250, 1500]),\n",
    "                        r_vals = np.array([3, 5, 10, 25, 50, 75, 100, 125, 150, 200, 250, 300, 350, 400, 450, 500, 550, 600, 650, 700, 750, 800, 900, 1000, 1200, 1400]),\n",
    "                    ),\n",
    "    T_pred=15000, # time steps\n",
    "    dt = 0.001, # s\n",
    "#     integrated_performance_kwargs = dict(\n",
    "#         metrics=['autocorrel_correl', 'fft_correl', 'fft_r2'], \n",
    "#         weights='equal',\n",
    "#         num_lags=500,\n",
    "#         max_freq=500,\n",
    "#         fft_n=1000,\n",
    "#     ),\n",
    "    integrated_performance_kwargs = {},\n",
    "    stability_max_freq = 500,\n",
    "    stability_max_unstable_freq = 125,\n",
    "    \n",
    ")"
   ]
  },
  {
   "cell_type": "code",
   "execution_count": 89,
   "id": "08e0b288",
   "metadata": {},
   "outputs": [],
   "source": [
    "# session_list = [\n",
    "#     'MrJones-Anesthesia-20160113-01',\n",
    "#     'Mary-Anesthesia-20160809-01',\n",
    "#     'MrJones-Anesthesia-20160105-01',\n",
    "#     'Mary-Anesthesia-20160818-02',\n",
    "#     'MrJones-Anesthesia-20160121-01',\n",
    "#     'Mary-Anesthesia-20160831-02',\n",
    "#     'MrJones-Anesthesia-20160123-01'\n",
    "# ]\n",
    "\n",
    "session_list = [\n",
    "    'Mary-Anesthesia-20160902-02',\n",
    "    'Mary-Anesthesia-20160908-02',\n",
    "    'Mary-Anesthesia-20160914-02',\n",
    "    'Mary-Anesthesia-20160916-02',\n",
    "\n",
    "    'MrJones-Anesthesia-20160125-01',\n",
    "    'MrJones-Anesthesia-20160201-01',\n",
    "    'MrJones-Anesthesia-20160206-01',\n",
    "    'MrJones-Anesthesia-20160210-01',\n",
    "    'MrJones-Anesthesia-20160301-01'\n",
    "]\n",
    "\n",
    "session_list = os.listdir(\"/scratch2/weka/millerlab/eisenaj/ChaoticConsciousness/grid_search_results\")"
   ]
  },
  {
   "cell_type": "code",
   "execution_count": 90,
   "id": "fcf4c2d6",
   "metadata": {},
   "outputs": [],
   "source": [
    "# session_list = session_list[:1]\n",
    "session_list = session_list[4:]"
   ]
  },
  {
   "cell_type": "code",
   "execution_count": 91,
   "id": "4d794d5a",
   "metadata": {},
   "outputs": [
    {
     "data": {
      "application/vnd.jupyter.widget-view+json": {
       "model_id": "080929c0e8594dd89e27bc195ac2e577",
       "version_major": 2,
       "version_minor": 0
      },
      "text/plain": [
       "  0%|          | 0/17 [00:00<?, ?it/s]"
      ]
     },
     "metadata": {},
     "output_type": "display_data"
    },
    {
     "name": "stdout",
     "output_type": "stream",
     "text": [
      "------------------------------\n",
      "SESSION = Mary-Anesthesia-20160831-02\n",
      "------------------------------\n",
      "loading data...\n",
      "data loaded!\n",
      "loading directory\n",
      "directory loaded!\n",
      "data processing dataframe constructed!\n",
      "data processing dataframe has 12 rows\n",
      "Submitted batch job 30351750\n",
      "------------------------------\n",
      "SESSION = Mary-Anesthesia-20160809-01\n",
      "------------------------------\n",
      "loading data...\n",
      "data loaded!\n",
      "loading directory\n",
      "directory loaded!\n",
      "data processing dataframe constructed!\n",
      "data processing dataframe has 12 rows\n",
      "Submitted batch job 30351759\n",
      "------------------------------\n",
      "SESSION = Mary-Anesthesia-20160818-02\n",
      "------------------------------\n",
      "loading data...\n",
      "data loaded!\n",
      "loading directory\n",
      "directory loaded!\n",
      "data processing dataframe constructed!\n",
      "data processing dataframe has 12 rows\n",
      "Submitted batch job 30351782\n",
      "------------------------------\n",
      "SESSION = Mary-Anesthesia-20160912-02\n",
      "------------------------------\n",
      "loading data...\n",
      "data loaded!\n",
      "loading directory\n",
      "directory loaded!\n",
      "data processing dataframe constructed!\n",
      "data processing dataframe has 12 rows\n",
      "Submitted batch job 30351796\n",
      "------------------------------\n",
      "SESSION = MrJones-Anesthesia-20160113-01\n",
      "------------------------------\n",
      "loading data...\n",
      "data loaded!\n",
      "loading directory\n",
      "directory loaded!\n",
      "data processing dataframe constructed!\n",
      "data processing dataframe has 12 rows\n",
      "Submitted batch job 30351817\n",
      "------------------------------\n",
      "SESSION = Mary-Anesthesia-20160902-02\n",
      "------------------------------\n",
      "loading data...\n",
      "data loaded!\n",
      "loading directory\n",
      "directory loaded!\n",
      "data processing dataframe constructed!\n",
      "data processing dataframe has 12 rows\n",
      "Submitted batch job 30351823\n",
      "------------------------------\n",
      "SESSION = MrJones-Anesthesia-20160206-01\n",
      "------------------------------\n",
      "loading data...\n",
      "data loaded!\n",
      "loading directory\n",
      "directory loaded!\n",
      "data processing dataframe constructed!\n",
      "data processing dataframe has 12 rows\n",
      "Submitted batch job 30351836\n",
      "------------------------------\n",
      "SESSION = MrJones-Anesthesia-20160210-01\n",
      "------------------------------\n",
      "loading data...\n",
      "data loaded!\n",
      "loading directory\n",
      "directory loaded!\n",
      "data processing dataframe constructed!\n",
      "data processing dataframe has 12 rows\n",
      "Submitted batch job 30351851\n",
      "------------------------------\n",
      "SESSION = MrJones-Anesthesia-20160109-01\n",
      "------------------------------\n",
      "loading data...\n",
      "data loaded!\n",
      "loading directory\n",
      "directory loaded!\n",
      "data processing dataframe constructed!\n",
      "data processing dataframe has 12 rows\n",
      "Submitted batch job 30351859\n",
      "------------------------------\n",
      "SESSION = MrJones-Anesthesia-20160201-01\n",
      "------------------------------\n",
      "loading data...\n",
      "data loaded!\n",
      "loading directory\n",
      "directory loaded!\n",
      "data processing dataframe constructed!\n",
      "data processing dataframe has 12 rows\n",
      "Submitted batch job 30351861\n",
      "------------------------------\n",
      "SESSION = MrJones-Anesthesia-20160125-01\n",
      "------------------------------\n",
      "loading data...\n",
      "data loaded!\n",
      "loading directory\n",
      "directory loaded!\n",
      "data processing dataframe constructed!\n",
      "data processing dataframe has 12 rows\n",
      "Submitted batch job 30351875\n",
      "------------------------------\n",
      "SESSION = MrJones-Anesthesia-20160105-01\n",
      "------------------------------\n",
      "loading data...\n",
      "data loaded!\n",
      "loading directory\n",
      "directory loaded!\n",
      "data processing dataframe constructed!\n",
      "data processing dataframe has 12 rows\n",
      "Submitted batch job 30351878\n",
      "------------------------------\n",
      "SESSION = Mary-Anesthesia-20160914-02\n",
      "------------------------------\n",
      "loading data...\n",
      "data loaded!\n",
      "loading directory\n",
      "directory loaded!\n",
      "data processing dataframe constructed!\n",
      "data processing dataframe has 12 rows\n",
      "Submitted batch job 30351880\n",
      "------------------------------\n",
      "SESSION = Mary-Anesthesia-20160826-02\n",
      "------------------------------\n",
      "loading data...\n",
      "data loaded!\n",
      "loading directory\n",
      "directory loaded!\n",
      "data processing dataframe constructed!\n",
      "data processing dataframe has 12 rows\n",
      "Submitted batch job 30351881\n",
      "------------------------------\n",
      "SESSION = MrJones-Anesthesia-20160107-01\n",
      "------------------------------\n",
      "loading data...\n",
      "data loaded!\n",
      "loading directory\n",
      "directory loaded!\n",
      "data processing dataframe constructed!\n",
      "data processing dataframe has 12 rows\n",
      "Submitted batch job 30351883\n",
      "------------------------------\n",
      "SESSION = MrJones-Anesthesia-20160123-01\n",
      "------------------------------\n",
      "loading data...\n",
      "data loaded!\n",
      "loading directory\n",
      "directory loaded!\n",
      "data processing dataframe constructed!\n",
      "data processing dataframe has 12 rows\n",
      "Submitted batch job 30351884\n",
      "------------------------------\n",
      "SESSION = Mary-Anesthesia-20160916-02\n",
      "------------------------------\n",
      "loading data...\n",
      "data loaded!\n",
      "loading directory\n",
      "directory loaded!\n",
      "data processing dataframe constructed!\n",
      "data processing dataframe has 12 rows\n",
      "Submitted batch job 30351885\n"
     ]
    }
   ],
   "source": [
    "for session in tqdm(session_list):\n",
    "    print(\"-\"*30)\n",
    "    print(f'SESSION = {session}')\n",
    "    print(\"-\"*30)\n",
    "    # -----------------------------------------\n",
    "    # LOAD DATA AND DIRECTORY\n",
    "    # -----------------------------------------\n",
    "    print(\"loading data...\")\n",
    "    all_data_dir = '/scratch2/weka/millerlab/eisenaj/datasets/anesthesia/mat'\n",
    "    data_class = get_data_class(session, all_data_dir)\n",
    "\n",
    "    os.environ[\"HDF5_USE_FILE_LOCKING\"] = \"FALSE\"\n",
    "    # variables = ['electrodeInfo', 'lfp', 'lfpSchema', 'sessionInfo', 'trialInfo', 'unitInfo']\n",
    "    # session_vars, T, N, dt = load_session_data(session, all_data_dir, variables, data_class=data_class, verbose=False)\n",
    "    # electrode_info, lfp, lfp_schema, session_info, trial_info, unit_info = session_vars['electrodeInfo'], session_vars['lfp'], session_vars['lfpSchema'], session_vars['sessionInfo'], session_vars['trialInfo'], session_vars['unitInfo']\n",
    "\n",
    "    variables = ['electrodeInfo', 'lfpSchema', 'sessionInfo', 'trialInfo', 'unitInfo']\n",
    "    session_vars, T, N, dt = load_session_data(session, all_data_dir, variables, data_class=data_class, verbose=False)\n",
    "    electrode_info, lfp_schema, session_info, trial_info, unit_info = session_vars['electrodeInfo'], session_vars['lfpSchema'], session_vars['sessionInfo'], session_vars['trialInfo'], session_vars['unitInfo']\n",
    "\n",
    "    eyes_close = session_info['eyesClose'][-1] if isinstance(session_info['eyesClose'], np.ndarray) else session_info['eyesClose'] \n",
    "    section_times = dict( \n",
    "            pre=(0, session_info['drugStart'][0]),\n",
    "            induction=(session_info['drugStart'][0], eyes_close),\n",
    "            during=(eyes_close, session_info['drugEnd'][1]),\n",
    "            post=(session_info['drugEnd'][1], T*dt)\n",
    "    )\n",
    "    sections = list(section_times.keys())\n",
    "#     areas = np.unique(electrode_info['area'])\n",
    "    # areas = np.hstack([areas, 'all'])\n",
    "    areas = ['all']\n",
    "    \n",
    "    print(\"data loaded!\")\n",
    "    print(\"loading directory\")\n",
    "    \n",
    "    chunked_folder = [f for f in os.listdir(os.path.join(all_data_dir, data_class)) if f.startswith(session) and 'chunked' in f]\n",
    "    if len(chunked_folder) == 0:\n",
    "        print(f\"Chunked folder for {session} not found in {os.path.join(all_data_dir, data_class)}\")\n",
    "    else:\n",
    "        chunked_folder = chunked_folder[0]\n",
    "\n",
    "    directory = pd.read_pickle(os.path.join(all_data_dir, data_class, chunked_folder, 'directory'))\n",
    "    \n",
    "    print(\"directory loaded!\")\n",
    "    \n",
    "    # -----------------------------------------\n",
    "    # PREP AND QUEUE\n",
    "    # -----------------------------------------\n",
    "    \n",
    "    mp_args['RESULTS_DIR'] = '/scratch2/weka/millerlab/eisenaj/ChaoticConsciousness/grid_search_results'\n",
    "    \n",
    "    session_grid_path = os.path.join(mp_args['RESULTS_DIR'], session, 'NORMED' if mp_args['NORM'] else 'NOT_NORMED')\n",
    "    if len(os.listdir(session_grid_path)) > 0:\n",
    "        area_example_path = os.path.join(session_grid_path, os.listdir(session_grid_path)[0])\n",
    "        grid_times = set()\n",
    "        for f in os.listdir(area_example_path):\n",
    "            grid_times.add(float(f.split('_')[0]))\n",
    "        grid_sample_times = list(grid_times)\n",
    "        grid_sample_times.sort()\n",
    "    else:\n",
    "        # PICK GRID SAMPLE TIMES\n",
    "\n",
    "        sample_nums = {'pre': 4, 'induction': 2, 'during': 4, 'post':2}\n",
    "        # sample_nums = {'pre': 1, 'induction': 0, 'during': 1, 'post':0}\n",
    "        margins = 120 # s\n",
    "        print(\"Constructing data processing dataframe...\")\n",
    "        grid_sample_times = []\n",
    "        for section in sections:\n",
    "            grid_sample_times.extend(np.random.uniform(margins + section_times[section][0], section_times[section][1] - margins, size=(sample_nums[section],)))\n",
    "        grid_sample_times = np.sort(grid_sample_times)\n",
    "        grid_sample_times = np.array([int(t*1000)/1000 for t in grid_sample_times])\n",
    "\n",
    "    data_length = 60 # s, just has to be bigger than window + prediction_time\n",
    "    data_processing_rows = []\n",
    "    for area in areas:\n",
    "        results_dir = os.path.join(mp_args['RESULTS_DIR'], os.path.join(session, 'NORMED' if mp_args['NORM'] else 'NOT_NORMED', area))\n",
    "        if area == 'all':\n",
    "            unit_indices = np.arange(len(electrode_info['area']))\n",
    "        else:\n",
    "            unit_indices = np.where(electrode_info['area'] == area)[0]\n",
    "        for t in grid_sample_times:\n",
    "            finished = True\n",
    "            for window in mp_args['parameter_grid'].window_vals:\n",
    "                for matrix_size in mp_args['parameter_grid'].matrix_size_vals:\n",
    "                    file_path = os.path.join(results_dir, f\"{int(t*1000)/1000}_window_{window}_{mp_args['parameter_grid'].expansion_type}_{matrix_size}\")\n",
    "                    if not os.path.exists(file_path):\n",
    "                        finished = False\n",
    "                        break\n",
    "                if not finished:\n",
    "                    break\n",
    "            if not finished:\n",
    "                row = dict(\n",
    "                    session=session,\n",
    "                    area=area,\n",
    "                    window_start=t,\n",
    "                    window_end=t + data_length,\n",
    "                    directory=directory,\n",
    "                    dimension_inds=unit_indices\n",
    "                )\n",
    "                data_processing_rows.append(row)\n",
    "    data_processing_df = pd.DataFrame(data_processing_rows)\n",
    "    mp_args['data_processing_df'] = data_processing_df\n",
    "    mp_args['session_list'] = [session]\n",
    "    mp_args['directories'] = {session: directory}\n",
    "    data_processing_path = os.path.join(data_processing_args_dir, f\"mp_args_{session}_GRID{'_NORMED' if mp_args['NORM'] else ''}.pkl\")\n",
    "    pd.to_pickle(mp_args, data_processing_path)\n",
    "    print(\"data processing dataframe constructed!\")\n",
    "\n",
    "    print(f\"data processing dataframe has {len(mp_args['data_processing_df'])} rows\")\n",
    "\n",
    "    if not mp_args['USE_CUDA']:\n",
    "        os.system(f\"sbatch --gres=gpu:0 --ntasks=1 --cpus-per-task={int(mp_args['NUM_WORKERS']) + 4} --mem={int(mp_args['NUM_WORKERS']*3)}GB /om2/user/eisenaj/code/shell_scripts/DeLASE/mp_delase.sh {data_processing_path}\")\n",
    "    else:\n",
    "        os.system(f\"sbatch --gres=gpu:{mp_args['NUM_WORKERS']} /om2/user/eisenaj/code/shell_scripts/DeLASE/mp_delase.sh {data_processing_path}\")\n"
   ]
  },
  {
   "cell_type": "code",
   "execution_count": 83,
   "id": "3b3f5be0",
   "metadata": {},
   "outputs": [
    {
     "name": "stdout",
     "output_type": "stream",
     "text": [
      "             JOBID PARTITION     NAME     USER ST       TIME  NODES NODELIST(REASON)\n",
      "          30337993 millerlab cha-jupy  eisenaj  R   22:19:15      1 node109\n",
      "          30351280    normal   delase  eisenaj  R       0:09      1 node072\n"
     ]
    },
    {
     "data": {
      "text/plain": [
       "0"
      ]
     },
     "execution_count": 83,
     "metadata": {},
     "output_type": "execute_result"
    }
   ],
   "source": [
    "os.system(\"squeue -u eisenaj\")"
   ]
  },
  {
   "cell_type": "code",
   "execution_count": 84,
   "id": "f42a34e6",
   "metadata": {},
   "outputs": [
    {
     "data": {
      "text/plain": [
       "0"
      ]
     },
     "execution_count": 84,
     "metadata": {},
     "output_type": "execute_result"
    }
   ],
   "source": [
    "os.system('scancel 30351280')"
   ]
  },
  {
   "cell_type": "markdown",
   "id": "f3618551",
   "metadata": {},
   "source": [
    "# Load Neural Data"
   ]
  },
  {
   "cell_type": "code",
   "execution_count": 363,
   "id": "2f2cb796",
   "metadata": {},
   "outputs": [],
   "source": [
    "# session = 'Mary-Anesthesia-20160912-02'\n",
    "# session = 'MrJones-Anesthesia-20160109-01'\n",
    "# session = 'Mary-Anesthesia-20160826-02'\n",
    "# session = 'MrJones-Anesthesia-20160107-01'\n",
    "# session = 'Mary-Anesthesia-20160822-02'\n",
    "\n",
    "\n",
    "# session = 'MrJones-Anesthesia-20160113-01'\n",
    "# session = 'Mary-Anesthesia-20160809-01'\n",
    "# session = 'MrJones-Anesthesia-20160105-01'\n",
    "# session = 'Mary-Anesthesia-20160818-02'\n",
    "# session = 'MrJones-Anesthesia-20160121-01'\n",
    "# session = 'Mary-Anesthesia-20160831-02'\n",
    "# session = 'MrJones-Anesthesia-20160123-01'\n",
    "\n",
    "# ------------\n",
    "# NOT RUN\n",
    "# ------------\n",
    "\n",
    "# session = 'Mary-Anesthesia-20160902-02'\n",
    "# session = 'Mary-Anesthesia-20160908-02'\n",
    "# session = 'Mary-Anesthesia-20160914-02'\n",
    "# session = 'Mary-Anesthesia-20160916-02'\n",
    "\n",
    "# session = 'MrJones-Anesthesia-20160125-01'\n",
    "# session = 'MrJones-Anesthesia-20160201-01'\n",
    "# session = 'MrJones-Anesthesia-20160206-01'\n",
    "# session = 'MrJones-Anesthesia-20160210-01'\n",
    "# session = 'MrJones-Anesthesia-20160301-01'"
   ]
  },
  {
   "cell_type": "code",
   "execution_count": 364,
   "id": "44169232",
   "metadata": {},
   "outputs": [],
   "source": [
    "all_data_dir = '/scratch2/weka/millerlab/eisenaj/datasets/anesthesia/mat'\n",
    "data_class = get_data_class(session, all_data_dir)"
   ]
  },
  {
   "cell_type": "code",
   "execution_count": 365,
   "id": "73d39b8b",
   "metadata": {},
   "outputs": [],
   "source": [
    "os.environ[\"HDF5_USE_FILE_LOCKING\"] = \"FALSE\"\n",
    "# variables = ['electrodeInfo', 'lfp', 'lfpSchema', 'sessionInfo', 'trialInfo', 'unitInfo']\n",
    "# session_vars, T, N, dt = load_session_data(session, all_data_dir, variables, data_class=data_class, verbose=False)\n",
    "# electrode_info, lfp, lfp_schema, session_info, trial_info, unit_info = session_vars['electrodeInfo'], session_vars['lfp'], session_vars['lfpSchema'], session_vars['sessionInfo'], session_vars['trialInfo'], session_vars['unitInfo']\n",
    "\n",
    "variables = ['electrodeInfo', 'lfpSchema', 'sessionInfo', 'trialInfo', 'unitInfo']\n",
    "session_vars, T, N, dt = load_session_data(session, all_data_dir, variables, data_class=data_class, verbose=False)\n",
    "electrode_info, lfp_schema, session_info, trial_info, unit_info = session_vars['electrodeInfo'], session_vars['lfpSchema'], session_vars['sessionInfo'], session_vars['trialInfo'], session_vars['unitInfo']"
   ]
  },
  {
   "cell_type": "code",
   "execution_count": 366,
   "id": "caf41dc9",
   "metadata": {},
   "outputs": [],
   "source": [
    "eyes_close = session_info['eyesClose'][-1] if isinstance(session_info['eyesClose'], np.ndarray) else session_info['eyesClose'] \n",
    "section_times = dict( \n",
    "        pre=(0, session_info['drugStart'][0]),\n",
    "        induction=(session_info['drugStart'][0], eyes_close),\n",
    "        during=(eyes_close, session_info['drugEnd'][1]),\n",
    "        post=(session_info['drugEnd'][1], T*dt)\n",
    ")\n",
    "sections = list(section_times.keys())\n",
    "areas = np.unique(electrode_info['area'])\n",
    "# areas = np.hstack([areas, 'all'])"
   ]
  },
  {
   "cell_type": "markdown",
   "id": "df8251ec",
   "metadata": {},
   "source": [
    "### Load Directory"
   ]
  },
  {
   "cell_type": "code",
   "execution_count": 367,
   "id": "17eca032",
   "metadata": {},
   "outputs": [],
   "source": [
    "chunked_folder = [f for f in os.listdir(os.path.join(all_data_dir, data_class)) if f.startswith(session) and 'chunked' in f]\n",
    "if len(chunked_folder) == 0:\n",
    "    print(f\"Chunked folder for {session} not found in {os.path.join(all_data_dir, data_class)}\")\n",
    "else:\n",
    "    chunked_folder = chunked_folder[0]\n",
    "\n",
    "directory = pd.read_pickle(os.path.join(all_data_dir, data_class, chunked_folder, 'directory'))"
   ]
  },
  {
   "cell_type": "markdown",
   "id": "764592f9",
   "metadata": {},
   "source": [
    "# MP Args"
   ]
  },
  {
   "cell_type": "code",
   "execution_count": 368,
   "id": "34a38423",
   "metadata": {},
   "outputs": [],
   "source": [
    "mp_args = dict(\n",
    "    # ----------------------\n",
    "    # MULTIPROCESSING ARGUMENTS\n",
    "    # ----------------------\n",
    "    USE_TORCH=True,\n",
    "    USE_CUDA=False,\n",
    "    DTYPE='torch.DoubleTensor',\n",
    "#     NUM_WORKERS=20,\n",
    "    NUM_WORKERS=4,\n",
    "    USE_LOGGING=True,\n",
    "    LOG_DIR=\"/om2/user/eisenaj/code/shell_scripts/DeLASE\",\n",
    "    LOG_NAME='mp_delase',\n",
    "    LOG_LEVEL=logging.DEBUG,\n",
    "    RESULTS_DIR='/scratch2/weka/millerlab/eisenaj/ChaoticConsciousness/grid_search_results',\n",
    "    \n",
    "    COMPUTE_IP=False,\n",
    "    COMPUTE_CHROOTS=False,\n",
    "    TRACK_RESEEDS=False,\n",
    "    NORM = False,\n",
    "    NORM_AIC=True,\n",
    "    \n",
    "    QUEUE_FULL_SESSION=True,\n",
    "\n",
    "    # ----------------------\n",
    "    # DYNAMICAL SYSTEMS ARGUMENTS\n",
    "    # ----------------------\n",
    "    parameter_grid=ParameterGrid(\n",
    "                        window_vals=np.array([15000]),\n",
    "                        matrix_size_vals=np.array([50, 100, 150, 200, 300, 400, 500, 750, 1000, 1250, 1500]),\n",
    "                        r_vals = np.array([3, 5, 10, 25, 50, 75, 100, 125, 150, 200, 250, 300, 350, 400, 450, 500, 550, 600, 650, 700, 750, 800, 900, 1000, 1200, 1400]),\n",
    "                    ),\n",
    "    T_pred=15000, # time steps\n",
    "    dt = 0.001, # s\n",
    "#     integrated_performance_kwargs = dict(\n",
    "#         metrics=['autocorrel_correl', 'fft_correl', 'fft_r2'], \n",
    "#         weights='equal',\n",
    "#         num_lags=500,\n",
    "#         max_freq=500,\n",
    "#         fft_n=1000,\n",
    "#     ),\n",
    "    integrated_performance_kwargs = {},\n",
    "    stability_max_freq = 500,\n",
    "    stability_max_unstable_freq = 125,\n",
    "    \n",
    ")"
   ]
  },
  {
   "cell_type": "markdown",
   "id": "26acc8fc",
   "metadata": {},
   "source": [
    "# Grid Search"
   ]
  },
  {
   "cell_type": "code",
   "execution_count": 369,
   "id": "5562aa4f",
   "metadata": {},
   "outputs": [],
   "source": [
    "mp_args['RESULTS_DIR'] = '/scratch2/weka/millerlab/eisenaj/ChaoticConsciousness/grid_search_results'"
   ]
  },
  {
   "cell_type": "code",
   "execution_count": 370,
   "id": "b134d84e",
   "metadata": {},
   "outputs": [],
   "source": [
    "# PICK GRID SAMPLE TIMES\n",
    "\n",
    "sample_nums = {'pre': 4, 'induction': 2, 'during': 4, 'post':2}\n",
    "# sample_nums = {'pre': 1, 'induction': 0, 'during': 1, 'post':0}\n",
    "margins = 120 # s\n",
    "\n",
    "grid_sample_times = []\n",
    "for section in sections:\n",
    "    grid_sample_times.extend(np.random.uniform(margins + section_times[section][0], section_times[section][1] - margins, size=(sample_nums[section],)))\n",
    "grid_sample_times = np.sort(grid_sample_times)\n",
    "grid_sample_times = np.array([int(t*1000)/1000 for t in grid_sample_times])"
   ]
  },
  {
   "cell_type": "code",
   "execution_count": 371,
   "id": "15c5f40d",
   "metadata": {},
   "outputs": [],
   "source": [
    "data_length = 60 # s, just has to be bigger than window + prediction_time\n",
    "data_processing_rows = []\n",
    "for area in areas:\n",
    "    results_dir = os.path.join(mp_args['RESULTS_DIR'], os.path.join(session, 'NORMED' if mp_args['NORM'] else 'NOT_NORMED', area))\n",
    "    if area == 'all':\n",
    "        unit_indices = np.arange(len(electrode_info['area']))\n",
    "    else:\n",
    "        unit_indices = np.where(electrode_info['area'] == area)[0]\n",
    "    for t in grid_sample_times:\n",
    "        finished = True\n",
    "        for window in mp_args['parameter_grid'].window_vals:\n",
    "            for matrix_size in mp_args['parameter_grid'].matrix_size_vals:\n",
    "                file_path = os.path.join(results_dir, f\"{int(t*1000)/1000}_window_{window}_{mp_args['parameter_grid'].expansion_type}_{matrix_size}\")\n",
    "                if not os.path.exists(file_path):\n",
    "                    finished = False\n",
    "                    break\n",
    "            if not finished:\n",
    "                break\n",
    "        if not finished:\n",
    "            row = dict(\n",
    "                session=session,\n",
    "                area=area,\n",
    "                window_start=t,\n",
    "                window_end=t + data_length,\n",
    "                directory=directory,\n",
    "                dimension_inds=unit_indices\n",
    "            )\n",
    "            data_processing_rows.append(row)\n",
    "data_processing_df = pd.DataFrame(data_processing_rows)\n",
    "mp_args['data_processing_df'] = data_processing_df\n",
    "data_processing_path = os.path.join(data_processing_args_dir, f\"mp_args_{session}_GRID{'_NORMED' if mp_args['NORM'] else ''}.pkl\")\n",
    "pd.to_pickle(mp_args, data_processing_path)"
   ]
  },
  {
   "cell_type": "code",
   "execution_count": 372,
   "id": "24185be4",
   "metadata": {},
   "outputs": [
    {
     "data": {
      "text/plain": [
       "48"
      ]
     },
     "execution_count": 372,
     "metadata": {},
     "output_type": "execute_result"
    }
   ],
   "source": [
    "len(mp_args['data_processing_df'])"
   ]
  },
  {
   "cell_type": "code",
   "execution_count": 373,
   "id": "a02c6bdb",
   "metadata": {},
   "outputs": [
    {
     "name": "stdout",
     "output_type": "stream",
     "text": [
      "Submitted batch job 30176471\n"
     ]
    }
   ],
   "source": [
    "if not mp_args['USE_CUDA']:\n",
    "    os.system(f\"sbatch --gres=gpu:0 --ntasks=1 --cpus-per-task={int(mp_args['NUM_WORKERS']) + 4} --mem={int(mp_args['NUM_WORKERS']*3)}GB /om2/user/eisenaj/code/shell_scripts/DeLASE/mp_delase.sh {data_processing_path}\")\n",
    "else:\n",
    "    os.system(f\"sbatch --gres=gpu:{mp_args['NUM_WORKERS']} /om2/user/eisenaj/code/shell_scripts/DeLASE/mp_delase.sh {data_processing_path}\")"
   ]
  },
  {
   "cell_type": "code",
   "execution_count": 374,
   "id": "381b144b",
   "metadata": {},
   "outputs": [
    {
     "name": "stdout",
     "output_type": "stream",
     "text": [
      "             JOBID PARTITION     NAME     USER ST       TIME  NODES NODELIST(REASON)\n",
      "          30170779 millerlab cha-jupy  eisenaj  R    4:05:31      1 node083\n",
      "          30176471    normal   delase  eisenaj  R       0:01      1 node078\n",
      "          30176469    normal   delase  eisenaj  R       0:27      1 node070\n",
      "          30174023    normal   delase  eisenaj  R    1:14:08      1 node110\n",
      "          30174012    normal   delase  eisenaj  R    1:14:43      1 node116\n"
     ]
    },
    {
     "data": {
      "text/plain": [
       "0"
      ]
     },
     "execution_count": 374,
     "metadata": {},
     "output_type": "execute_result"
    }
   ],
   "source": [
    "os.system(\"squeue -u eisenaj\")"
   ]
  },
  {
   "cell_type": "code",
   "execution_count": 826,
   "id": "130a9d47",
   "metadata": {},
   "outputs": [
    {
     "data": {
      "text/plain": [
       "0"
      ]
     },
     "execution_count": 826,
     "metadata": {},
     "output_type": "execute_result"
    }
   ],
   "source": [
    "os.system(\"scancel 30154795\")"
   ]
  },
  {
   "cell_type": "markdown",
   "id": "915820bc",
   "metadata": {},
   "source": [
    "# Load In Results"
   ]
  },
  {
   "cell_type": "code",
   "execution_count": 297,
   "id": "353d0946",
   "metadata": {},
   "outputs": [],
   "source": [
    "results_dir = \"/scratch2/weka/millerlab/eisenaj/ChaoticConsciousness/grid_search_results\""
   ]
  },
  {
   "cell_type": "code",
   "execution_count": 298,
   "id": "f7cbb702",
   "metadata": {},
   "outputs": [
    {
     "data": {
      "application/vnd.jupyter.widget-view+json": {
       "model_id": "31cba620b2bf4422bd24ee37714155be",
       "version_major": 2,
       "version_minor": 0
      },
      "text/plain": [
       "  0%|          | 0/528 [00:00<?, ?it/s]"
      ]
     },
     "metadata": {},
     "output_type": "display_data"
    }
   ],
   "source": [
    "session_results = {}\n",
    "# for session in os.listdir(results_dir):\n",
    "\n",
    "num_its = 0\n",
    "for session in [session]:\n",
    "    norm_folder = \"NOT_NORMED\" if not mp_args['NORM'] else \"NORMED\"\n",
    "    for area in os.listdir(os.path.join(results_dir, session, norm_folder)):\n",
    "        num_its += len(os.listdir(os.path.join(results_dir, session, norm_folder, area)))\n",
    "iterator = tqdm(total=num_its)\n",
    "\n",
    "for session in [session]:\n",
    "    session_results[session] = {}\n",
    "    norm_folder = \"NOT_NORMED\" if not mp_args['NORM'] else \"NORMED\"\n",
    "    for area in os.listdir(os.path.join(results_dir, session, norm_folder)):\n",
    "        df = pd.DataFrame({'window': [], 'matrix_size': [], 'r': [], 'AICs': [], 'time_vals': [], 'file_paths': []}).set_index(['window', 'matrix_size', 'r'])\n",
    "        for f in os.listdir(os.path.join(results_dir, session, norm_folder, area)):\n",
    "            t = float(f.split('_')[0])\n",
    "            file_path = os.path.join(results_dir, session, norm_folder, area, f)\n",
    "            df_new = pd.DataFrame(pd.read_pickle(file_path))\n",
    "            if np.isnan(df_new.AIC).sum() > 0:\n",
    "                print(file_path)\n",
    "            df_new = df_new.set_index(['window', 'matrix_size', 'r'])\n",
    "            for i, row in df_new.iterrows():\n",
    "                if i in df.index:\n",
    "                    df.loc[i, 'AICs'].append(row.AIC)\n",
    "                    df.loc[i, 'time_vals'].append(t)\n",
    "                    df.loc[i, 'file_paths'].append(file_path)\n",
    "                else:\n",
    "                    df.loc[i] = {'AICs': [row.AIC], 'time_vals': [t], 'file_paths': [file_path]}\n",
    "#                     df.loc[i, 'window'] = int(row.window)\n",
    "#                     df.loc[i, 'matrix_size'] = int(row.matrix_size)\n",
    "#                     df.loc[i, 'r'] = int(row.r)\n",
    "#                     df.window = df.window.astype(int)\n",
    "#                     df.matrix_size = df.matrix_size.astype(int)\n",
    "#                     df.r = df.r.astype(int)\n",
    "            iterator.update()\n",
    "        df = df.loc[df.index.sortlevel()[0]]\n",
    "        session_results[session][area] = df\n",
    "\n",
    "#     window, matrix_size, r = session_results[session].AIC.idxmax()\n",
    "#     session_results[session] = dict(\n",
    "#         df=session_results[session],\n",
    "#         window=window,\n",
    "#         matrix_size=matrix_size,\n",
    "#         r=r\n",
    "#     )\n",
    "iterator.close()"
   ]
  },
  {
   "cell_type": "code",
   "execution_count": 299,
   "id": "642badb3",
   "metadata": {},
   "outputs": [],
   "source": [
    "# combine_grid_results(session_results[session])\n",
    "window, matrix_size, r, all_results = combine_grid_results({key: result for key, result in session_results[session].items() if key != 'all'})"
   ]
  },
  {
   "cell_type": "code",
   "execution_count": 300,
   "id": "c8a4360d",
   "metadata": {},
   "outputs": [
    {
     "data": {
      "image/png": "[encoded data removed]",
      "text/plain": [
       "<Figure size 2400x800 with 2 Axes>"
      ]
     },
     "metadata": {},
     "output_type": "display_data"
    }
   ],
   "source": [
    "# plot_AIC(session_results[session], title=f\"AIC for {session}\")\n",
    "plot_AIC({key: result for key, result in session_results[session].items() if key !='all'}, matrix_size=matrix_size, r=r, title=f\"AIC for {session} (Individual Areas)\")"
   ]
  },
  {
   "cell_type": "code",
   "execution_count": 281,
   "id": "009492a7",
   "metadata": {},
   "outputs": [
    {
     "data": {
      "image/png": "[encoded data removed]",
      "text/plain": [
       "<Figure size 2400x800 with 2 Axes>"
      ]
     },
     "metadata": {},
     "output_type": "display_data"
    }
   ],
   "source": [
    "area = 'vlPFC'\n",
    "plot_AIC({area: session_results[session][area]}, title=f\"AIC for {session} ({area})\")"
   ]
  },
  {
   "cell_type": "code",
   "execution_count": 302,
   "id": "ea827954",
   "metadata": {},
   "outputs": [],
   "source": [
    "# plot_AIC({'all': session_results[session]['all']}, title=f\"AIC for {session} (All Areas)\")"
   ]
  },
  {
   "cell_type": "markdown",
   "id": "4f47758f",
   "metadata": {},
   "source": [
    "# Queue the Entire Session"
   ]
  },
  {
   "cell_type": "code",
   "execution_count": 303,
   "id": "aee602b9",
   "metadata": {},
   "outputs": [],
   "source": [
    "mp_args['RESULTS_DIR'] = '/scratch2/weka/millerlab/eisenaj/ChaoticConsciousness/session_results'"
   ]
  },
  {
   "cell_type": "code",
   "execution_count": 304,
   "id": "90796647",
   "metadata": {},
   "outputs": [],
   "source": [
    "mp_args['parameter_grid'] = ParameterGrid(\n",
    "    window_vals = np.array([window]),\n",
    "    matrix_size_vals = np.array([matrix_size]),\n",
    "    r_vals = np.array([r]),\n",
    ")\n",
    "mp_args['COMPUTE_CHROOTS'] = True\n",
    "mp_args['NUM_WORKERS'] = 1\n",
    "mp_args['QUEUE_FULL_SESSION'] = False"
   ]
  },
  {
   "cell_type": "code",
   "execution_count": 305,
   "id": "e5e87dd5",
   "metadata": {},
   "outputs": [],
   "source": [
    "# stride = 60000\n",
    "stride = window\n",
    "data_processing_rows = []\n",
    "for area in areas:\n",
    "    results_dir = os.path.join(mp_args['RESULTS_DIR'], os.path.join(session, 'NORMED' if mp_args['NORM'] else 'NOT_NORMED', area))\n",
    "    if area != 'all':\n",
    "        if area == 'all':\n",
    "            unit_indices = np.arange(len(electrode_info['area']))\n",
    "        else:\n",
    "            unit_indices = np.where(electrode_info['area'] == area)[0]\n",
    "\n",
    "        t = 0\n",
    "        while t + window <= len(lfp_schema['index'][0]):\n",
    "            finished = True\n",
    "            file_path = os.path.join(results_dir, f\"{int(t)/1000}_window_{window}_{mp_args['parameter_grid'].expansion_type}_{matrix_size}\")\n",
    "            if not os.path.exists(file_path):\n",
    "                row = dict(\n",
    "                    session=session,\n",
    "                    area=area,\n",
    "                    window_start=t*dt,\n",
    "                    window_end=(t + window + mp_args['T_pred'])*dt,\n",
    "                    directory=directory,\n",
    "                    dimension_inds=unit_indices\n",
    "                )\n",
    "                data_processing_rows.append(row)\n",
    "            t += stride\n",
    "#             if len(data_processing_rows) > 4:\n",
    "#                 break\n",
    "data_processing_df = pd.DataFrame(data_processing_rows)\n",
    "mp_args['data_processing_df'] = data_processing_df\n",
    "data_processing_path = os.path.join(data_processing_args_dir, f\"mp_args_{session}_FULL{'_NORMED' if mp_args['NORM'] else ''}.pkl\")\n",
    "pd.to_pickle(mp_args, data_processing_path)"
   ]
  },
  {
   "cell_type": "code",
   "execution_count": 306,
   "id": "556f94cd",
   "metadata": {},
   "outputs": [
    {
     "data": {
      "text/plain": [
       "1888"
      ]
     },
     "execution_count": 306,
     "metadata": {},
     "output_type": "execute_result"
    }
   ],
   "source": [
    "len(mp_args['data_processing_df'])"
   ]
  },
  {
   "cell_type": "code",
   "execution_count": 307,
   "id": "2b4f853c",
   "metadata": {},
   "outputs": [],
   "source": [
    "mp_args['USE_TORCH'] = False"
   ]
  },
  {
   "cell_type": "code",
   "execution_count": 308,
   "id": "87e52a94",
   "metadata": {},
   "outputs": [
    {
     "data": {
      "text/plain": [
       "(False, 1)"
      ]
     },
     "execution_count": 308,
     "metadata": {},
     "output_type": "execute_result"
    }
   ],
   "source": [
    "mp_args['USE_TORCH'], mp_args['NUM_WORKERS']"
   ]
  },
  {
   "cell_type": "code",
   "execution_count": 309,
   "id": "292cf3b3",
   "metadata": {},
   "outputs": [
    {
     "data": {
      "text/plain": [
       "(array([750]), array([750]))"
      ]
     },
     "execution_count": 309,
     "metadata": {},
     "output_type": "execute_result"
    }
   ],
   "source": [
    "mp_args['parameter_grid'].matrix_size_vals, mp_args['parameter_grid'].r_vals"
   ]
  },
  {
   "cell_type": "code",
   "execution_count": 310,
   "id": "d2bfaa5c",
   "metadata": {},
   "outputs": [
    {
     "name": "stdout",
     "output_type": "stream",
     "text": [
      "Submitted batch job 30173993\n"
     ]
    }
   ],
   "source": [
    "if not mp_args['USE_CUDA']:\n",
    "    os.system(f\"sbatch --gres=gpu:0 --ntasks=1 --cpus-per-task={int(mp_args['NUM_WORKERS']) + 4} --mem={int(mp_args['NUM_WORKERS']*3)}GB /om2/user/eisenaj/code/shell_scripts/DeLASE/mp_delase.sh {data_processing_path}\")\n",
    "else:\n",
    "    os.system(f\"sbatch --gres=gpu:{mp_args['NUM_WORKERS']} /om2/user/eisenaj/code/shell_scripts/DeLASE/mp_delase.sh {data_processing_path}\")"
   ]
  },
  {
   "cell_type": "code",
   "execution_count": 312,
   "id": "c50ede1a",
   "metadata": {},
   "outputs": [
    {
     "name": "stdout",
     "output_type": "stream",
     "text": [
      "             JOBID PARTITION     NAME     USER ST       TIME  NODES NODELIST(REASON)\n",
      "          30170779 millerlab cha-jupy  eisenaj  R    2:49:36      1 node083\n",
      "          30173993    normal   delase  eisenaj  R       0:03      1 node101\n",
      "          30173962    normal   delase  eisenaj  R       2:15      1 node085\n"
     ]
    },
    {
     "data": {
      "text/plain": [
       "0"
      ]
     },
     "execution_count": 312,
     "metadata": {},
     "output_type": "execute_result"
    }
   ],
   "source": [
    "os.system(\"squeue -u eisenaj\")"
   ]
  },
  {
   "cell_type": "code",
   "execution_count": 137,
   "id": "619739cf",
   "metadata": {},
   "outputs": [
    {
     "data": {
      "text/plain": [
       "0"
      ]
     },
     "execution_count": 137,
     "metadata": {},
     "output_type": "execute_result"
    }
   ],
   "source": [
    "os.system('scancel 30171872')"
   ]
  },
  {
   "cell_type": "markdown",
   "id": "3203cc5f",
   "metadata": {},
   "source": [
    "# Debugging"
   ]
  },
  {
   "cell_type": "code",
   "execution_count": 233,
   "id": "9758f4aa",
   "metadata": {},
   "outputs": [
    {
     "data": {
      "text/html": [
       "<div>\n",
       "<style scoped>\n",
       "    .dataframe tbody tr th:only-of-type {\n",
       "        vertical-align: middle;\n",
       "    }\n",
       "\n",
       "    .dataframe tbody tr th {\n",
       "        vertical-align: top;\n",
       "    }\n",
       "\n",
       "    .dataframe thead th {\n",
       "        text-align: right;\n",
       "    }\n",
       "</style>\n",
       "<table border=\"1\" class=\"dataframe\">\n",
       "  <thead>\n",
       "    <tr style=\"text-align: right;\">\n",
       "      <th></th>\n",
       "      <th>session</th>\n",
       "      <th>area</th>\n",
       "      <th>window_start</th>\n",
       "      <th>window_end</th>\n",
       "      <th>directory</th>\n",
       "      <th>dimension_inds</th>\n",
       "    </tr>\n",
       "  </thead>\n",
       "  <tbody>\n",
       "    <tr>\n",
       "      <th>881</th>\n",
       "      <td>MrJones-Anesthesia-20160113-01</td>\n",
       "      <td>vlPFC</td>\n",
       "      <td>3015.0</td>\n",
       "      <td>3045.0</td>\n",
       "      <td>start_ind  end_ind                       ...</td>\n",
       "      <td>[0, 1, 2, 3, 4, 5, 6, 7, 8, 9, 10, 11, 12, 13,...</td>\n",
       "    </tr>\n",
       "    <tr>\n",
       "      <th>882</th>\n",
       "      <td>MrJones-Anesthesia-20160113-01</td>\n",
       "      <td>vlPFC</td>\n",
       "      <td>3030.0</td>\n",
       "      <td>3060.0</td>\n",
       "      <td>start_ind  end_ind                       ...</td>\n",
       "      <td>[0, 1, 2, 3, 4, 5, 6, 7, 8, 9, 10, 11, 12, 13,...</td>\n",
       "    </tr>\n",
       "    <tr>\n",
       "      <th>883</th>\n",
       "      <td>MrJones-Anesthesia-20160113-01</td>\n",
       "      <td>vlPFC</td>\n",
       "      <td>3045.0</td>\n",
       "      <td>3075.0</td>\n",
       "      <td>start_ind  end_ind                       ...</td>\n",
       "      <td>[0, 1, 2, 3, 4, 5, 6, 7, 8, 9, 10, 11, 12, 13,...</td>\n",
       "    </tr>\n",
       "    <tr>\n",
       "      <th>884</th>\n",
       "      <td>MrJones-Anesthesia-20160113-01</td>\n",
       "      <td>vlPFC</td>\n",
       "      <td>3060.0</td>\n",
       "      <td>3090.0</td>\n",
       "      <td>start_ind  end_ind                       ...</td>\n",
       "      <td>[0, 1, 2, 3, 4, 5, 6, 7, 8, 9, 10, 11, 12, 13,...</td>\n",
       "    </tr>\n",
       "    <tr>\n",
       "      <th>885</th>\n",
       "      <td>MrJones-Anesthesia-20160113-01</td>\n",
       "      <td>vlPFC</td>\n",
       "      <td>3075.0</td>\n",
       "      <td>3105.0</td>\n",
       "      <td>start_ind  end_ind                       ...</td>\n",
       "      <td>[0, 1, 2, 3, 4, 5, 6, 7, 8, 9, 10, 11, 12, 13,...</td>\n",
       "    </tr>\n",
       "    <tr>\n",
       "      <th>...</th>\n",
       "      <td>...</td>\n",
       "      <td>...</td>\n",
       "      <td>...</td>\n",
       "      <td>...</td>\n",
       "      <td>...</td>\n",
       "      <td>...</td>\n",
       "    </tr>\n",
       "    <tr>\n",
       "      <th>1373</th>\n",
       "      <td>MrJones-Anesthesia-20160113-01</td>\n",
       "      <td>vlPFC</td>\n",
       "      <td>10395.0</td>\n",
       "      <td>10425.0</td>\n",
       "      <td>start_ind  end_ind                       ...</td>\n",
       "      <td>[0, 1, 2, 3, 4, 5, 6, 7, 8, 9, 10, 11, 12, 13,...</td>\n",
       "    </tr>\n",
       "    <tr>\n",
       "      <th>1374</th>\n",
       "      <td>MrJones-Anesthesia-20160113-01</td>\n",
       "      <td>vlPFC</td>\n",
       "      <td>10410.0</td>\n",
       "      <td>10440.0</td>\n",
       "      <td>start_ind  end_ind                       ...</td>\n",
       "      <td>[0, 1, 2, 3, 4, 5, 6, 7, 8, 9, 10, 11, 12, 13,...</td>\n",
       "    </tr>\n",
       "    <tr>\n",
       "      <th>1375</th>\n",
       "      <td>MrJones-Anesthesia-20160113-01</td>\n",
       "      <td>vlPFC</td>\n",
       "      <td>10425.0</td>\n",
       "      <td>10455.0</td>\n",
       "      <td>start_ind  end_ind                       ...</td>\n",
       "      <td>[0, 1, 2, 3, 4, 5, 6, 7, 8, 9, 10, 11, 12, 13,...</td>\n",
       "    </tr>\n",
       "    <tr>\n",
       "      <th>1376</th>\n",
       "      <td>MrJones-Anesthesia-20160113-01</td>\n",
       "      <td>vlPFC</td>\n",
       "      <td>10440.0</td>\n",
       "      <td>10470.0</td>\n",
       "      <td>start_ind  end_ind                       ...</td>\n",
       "      <td>[0, 1, 2, 3, 4, 5, 6, 7, 8, 9, 10, 11, 12, 13,...</td>\n",
       "    </tr>\n",
       "    <tr>\n",
       "      <th>1377</th>\n",
       "      <td>MrJones-Anesthesia-20160113-01</td>\n",
       "      <td>vlPFC</td>\n",
       "      <td>10455.0</td>\n",
       "      <td>10485.0</td>\n",
       "      <td>start_ind  end_ind                       ...</td>\n",
       "      <td>[0, 1, 2, 3, 4, 5, 6, 7, 8, 9, 10, 11, 12, 13,...</td>\n",
       "    </tr>\n",
       "  </tbody>\n",
       "</table>\n",
       "<p>497 rows × 6 columns</p>\n",
       "</div>"
      ],
      "text/plain": [
       "                             session   area  window_start  window_end  \\\n",
       "881   MrJones-Anesthesia-20160113-01  vlPFC        3015.0      3045.0   \n",
       "882   MrJones-Anesthesia-20160113-01  vlPFC        3030.0      3060.0   \n",
       "883   MrJones-Anesthesia-20160113-01  vlPFC        3045.0      3075.0   \n",
       "884   MrJones-Anesthesia-20160113-01  vlPFC        3060.0      3090.0   \n",
       "885   MrJones-Anesthesia-20160113-01  vlPFC        3075.0      3105.0   \n",
       "...                              ...    ...           ...         ...   \n",
       "1373  MrJones-Anesthesia-20160113-01  vlPFC       10395.0     10425.0   \n",
       "1374  MrJones-Anesthesia-20160113-01  vlPFC       10410.0     10440.0   \n",
       "1375  MrJones-Anesthesia-20160113-01  vlPFC       10425.0     10455.0   \n",
       "1376  MrJones-Anesthesia-20160113-01  vlPFC       10440.0     10470.0   \n",
       "1377  MrJones-Anesthesia-20160113-01  vlPFC       10455.0     10485.0   \n",
       "\n",
       "                                              directory  \\\n",
       "881        start_ind  end_ind                       ...   \n",
       "882        start_ind  end_ind                       ...   \n",
       "883        start_ind  end_ind                       ...   \n",
       "884        start_ind  end_ind                       ...   \n",
       "885        start_ind  end_ind                       ...   \n",
       "...                                                 ...   \n",
       "1373       start_ind  end_ind                       ...   \n",
       "1374       start_ind  end_ind                       ...   \n",
       "1375       start_ind  end_ind                       ...   \n",
       "1376       start_ind  end_ind                       ...   \n",
       "1377       start_ind  end_ind                       ...   \n",
       "\n",
       "                                         dimension_inds  \n",
       "881   [0, 1, 2, 3, 4, 5, 6, 7, 8, 9, 10, 11, 12, 13,...  \n",
       "882   [0, 1, 2, 3, 4, 5, 6, 7, 8, 9, 10, 11, 12, 13,...  \n",
       "883   [0, 1, 2, 3, 4, 5, 6, 7, 8, 9, 10, 11, 12, 13,...  \n",
       "884   [0, 1, 2, 3, 4, 5, 6, 7, 8, 9, 10, 11, 12, 13,...  \n",
       "885   [0, 1, 2, 3, 4, 5, 6, 7, 8, 9, 10, 11, 12, 13,...  \n",
       "...                                                 ...  \n",
       "1373  [0, 1, 2, 3, 4, 5, 6, 7, 8, 9, 10, 11, 12, 13,...  \n",
       "1374  [0, 1, 2, 3, 4, 5, 6, 7, 8, 9, 10, 11, 12, 13,...  \n",
       "1375  [0, 1, 2, 3, 4, 5, 6, 7, 8, 9, 10, 11, 12, 13,...  \n",
       "1376  [0, 1, 2, 3, 4, 5, 6, 7, 8, 9, 10, 11, 12, 13,...  \n",
       "1377  [0, 1, 2, 3, 4, 5, 6, 7, 8, 9, 10, 11, 12, 13,...  \n",
       "\n",
       "[497 rows x 6 columns]"
      ]
     },
     "execution_count": 233,
     "metadata": {},
     "output_type": "execute_result"
    }
   ],
   "source": [
    "data_processing_df[data_processing_df.area == 'vlPFC']"
   ]
  },
  {
   "cell_type": "code",
   "execution_count": 269,
   "id": "9ea8e5d9",
   "metadata": {},
   "outputs": [],
   "source": [
    "row = data_processing_df[np.logical_and(data_processing_df.area == 'FEF', data_processing_df.window_start == 6060.0)].iloc[0]\n",
    "# row = data_processing_df[np.logical_and(data_processing_df.area == 'vlPFC', data_processing_df.window_start == 3015.0)].iloc[0]"
   ]
  },
  {
   "cell_type": "code",
   "execution_count": 242,
   "id": "8a5bc028",
   "metadata": {},
   "outputs": [],
   "source": [
    "variables = ['lfp']\n",
    "session_vars, T, N, dt = load_session_data(session, all_data_dir, variables, data_class=data_class, verbose=False)\n",
    "lfp = session_vars['lfp']"
   ]
  },
  {
   "cell_type": "code",
   "execution_count": 253,
   "id": "f9e87203",
   "metadata": {},
   "outputs": [
    {
     "ename": "ValueError",
     "evalue": "operands could not be broadcast together with shapes (30000,252) (30000,232) ",
     "output_type": "error",
     "traceback": [
      "\u001b[0;31m---------------------------------------------------------------------------\u001b[0m",
      "\u001b[0;31mValueError\u001b[0m                                Traceback (most recent call last)",
      "Input \u001b[0;32mIn [253]\u001b[0m, in \u001b[0;36m<cell line: 1>\u001b[0;34m()\u001b[0m\n\u001b[0;32m----> 1\u001b[0m \u001b[43msig\u001b[49m\u001b[43m \u001b[49m\u001b[38;5;241;43m-\u001b[39;49m\u001b[43m \u001b[49m\u001b[43mlfp\u001b[49m\u001b[43m[\u001b[49m\u001b[38;5;28;43mint\u001b[39;49m\u001b[43m(\u001b[49m\u001b[38;5;241;43m400\u001b[39;49m\u001b[38;5;241;43m/\u001b[39;49m\u001b[43mdt\u001b[49m\u001b[43m)\u001b[49m\u001b[43m:\u001b[49m\u001b[38;5;28;43mint\u001b[39;49m\u001b[43m(\u001b[49m\u001b[38;5;241;43m430\u001b[39;49m\u001b[38;5;241;43m/\u001b[39;49m\u001b[43mdt\u001b[49m\u001b[43m)\u001b[49m\u001b[43m]\u001b[49m\n",
      "\u001b[0;31mValueError\u001b[0m: operands could not be broadcast together with shapes (30000,252) (30000,232) "
     ]
    }
   ],
   "source": [
    "sig - lfp[int(400/dt):int(430/dt)]"
   ]
  },
  {
   "cell_type": "code",
   "execution_count": 215,
   "id": "d07fdb22",
   "metadata": {},
   "outputs": [],
   "source": [
    "results = {\n",
    "    'window': [],\n",
    "    'matrix_size': [],\n",
    "    'r': [],\n",
    "    'AIC': [],\n",
    "    'stability_params': [],\n",
    "    'stability_freqs': []\n",
    "}\n",
    "pd.to_pickle(results, save_path)"
   ]
  },
  {
   "cell_type": "code",
   "execution_count": 213,
   "id": "9a5c94f7",
   "metadata": {},
   "outputs": [],
   "source": [
    "save_path = os.path.join(f'/scratch2/weka/millerlab/eisenaj/ChaoticConsciousness/session_results/{session}/NOT_NORMED/FEF',\"8835.0_window_15000_matrix_size_750\")"
   ]
  },
  {
   "cell_type": "code",
   "execution_count": 216,
   "id": "4eddf33e",
   "metadata": {},
   "outputs": [],
   "source": [
    "pd.to_pickle(results, save_path)"
   ]
  },
  {
   "cell_type": "code",
   "execution_count": 212,
   "id": "b1b8b329",
   "metadata": {},
   "outputs": [
    {
     "data": {
      "text/plain": [
       "0"
      ]
     },
     "execution_count": 212,
     "metadata": {},
     "output_type": "execute_result"
    }
   ],
   "source": [
    "len(pd.DataFrame())"
   ]
  },
  {
   "cell_type": "code",
   "execution_count": 208,
   "id": "4ab7a30e",
   "metadata": {},
   "outputs": [
    {
     "data": {
      "text/html": [
       "<div>\n",
       "<style scoped>\n",
       "    .dataframe tbody tr th:only-of-type {\n",
       "        vertical-align: middle;\n",
       "    }\n",
       "\n",
       "    .dataframe tbody tr th {\n",
       "        vertical-align: top;\n",
       "    }\n",
       "\n",
       "    .dataframe thead th {\n",
       "        text-align: right;\n",
       "    }\n",
       "</style>\n",
       "<table border=\"1\" class=\"dataframe\">\n",
       "  <thead>\n",
       "    <tr style=\"text-align: right;\">\n",
       "      <th></th>\n",
       "      <th>window</th>\n",
       "      <th>matrix_size</th>\n",
       "      <th>r</th>\n",
       "      <th>AIC</th>\n",
       "      <th>stability_params</th>\n",
       "      <th>stability_freqs</th>\n",
       "    </tr>\n",
       "  </thead>\n",
       "  <tbody>\n",
       "    <tr>\n",
       "      <th>0</th>\n",
       "      <td>15000</td>\n",
       "      <td>750</td>\n",
       "      <td>750</td>\n",
       "      <td>-11.993817</td>\n",
       "      <td>[-0.7301215468742229, -2.4027158611188173, -2....</td>\n",
       "      <td>[0.0, 0.0, 0.0, 0.0, 0.0, 0.0, 0.0, 0.0, 0.688...</td>\n",
       "    </tr>\n",
       "  </tbody>\n",
       "</table>\n",
       "</div>"
      ],
      "text/plain": [
       "   window  matrix_size    r        AIC  \\\n",
       "0   15000          750  750 -11.993817   \n",
       "\n",
       "                                    stability_params  \\\n",
       "0  [-0.7301215468742229, -2.4027158611188173, -2....   \n",
       "\n",
       "                                     stability_freqs  \n",
       "0  [0.0, 0.0, 0.0, 0.0, 0.0, 0.0, 0.0, 0.0, 0.688...  "
      ]
     },
     "execution_count": 208,
     "metadata": {},
     "output_type": "execute_result"
    }
   ],
   "source": [
    "pd.DataFrame(pd.read_pickle(os.path.join(f'/scratch2/weka/millerlab/eisenaj/ChaoticConsciousness/session_results/{session}/NOT_NORMED/7b',\"0.0_window_15000_matrix_size_750\")))"
   ]
  },
  {
   "cell_type": "code",
   "execution_count": 193,
   "id": "cae156fa",
   "metadata": {},
   "outputs": [],
   "source": [
    "T_pred = mp_args['T_pred']\n",
    "parameter_grid = mp_args['parameter_grid']"
   ]
  },
  {
   "cell_type": "code",
   "execution_count": 195,
   "id": "0b607402",
   "metadata": {},
   "outputs": [
    {
     "data": {
      "text/plain": [
       "15000"
      ]
     },
     "execution_count": 195,
     "metadata": {},
     "output_type": "execute_result"
    }
   ],
   "source": [
    "window"
   ]
  },
  {
   "cell_type": "code",
   "execution_count": 197,
   "id": "86d16c5b",
   "metadata": {},
   "outputs": [
    {
     "name": "stdout",
     "output_type": "stream",
     "text": [
      "CPU times: user 2.35 s, sys: 1.61 s, total: 3.96 s\n",
      "Wall time: 5.32 s\n"
     ]
    }
   ],
   "source": [
    "%%time\n",
    "delase = DeLASE(signal[:window], dt=dt, matrix_size=matrix_size, use_torch=True, device='cuda')"
   ]
  },
  {
   "cell_type": "code",
   "execution_count": 222,
   "id": "6327971d",
   "metadata": {},
   "outputs": [],
   "source": [
    "# %%time\n",
    "# ret = fit_and_test_delase(signal[:window], signal[window:window + T_pred], window, matrix_size, parameter_grid=parameter_grid, dt=dt, norm_aic=True, stability_max_freq=500, stability_max_unstable_freq=125, use_torch=False, device='cpu', dtype='torch.DoubleTensor', verbose=True)"
   ]
  },
  {
   "cell_type": "code",
   "execution_count": 223,
   "id": "3d4f6b02",
   "metadata": {},
   "outputs": [],
   "source": [
    "del load_window_from_chunks"
   ]
  },
  {
   "cell_type": "code",
   "execution_count": 167,
   "id": "b99341d0",
   "metadata": {},
   "outputs": [
    {
     "data": {
      "text/plain": [
       "2.625"
      ]
     },
     "execution_count": 167,
     "metadata": {},
     "output_type": "execute_result"
    }
   ],
   "source": [
    "9450/60/60"
   ]
  }
 ],
 "metadata": {
  "kernelspec": {
   "display_name": "Python 3 (ipykernel)",
   "language": "python",
   "name": "python3"
  },
  "language_info": {
   "codemirror_mode": {
    "name": "ipython",
    "version": 3
   },
   "file_extension": ".py",
   "mimetype": "text/x-python",
   "name": "python",
   "nbconvert_exporter": "python",
   "pygments_lexer": "ipython3",
   "version": "3.9.1"
  }
 },
 "nbformat": 4,
 "nbformat_minor": 5
}
