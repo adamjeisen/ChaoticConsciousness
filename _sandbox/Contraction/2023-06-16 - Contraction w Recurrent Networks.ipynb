{
 "cells": [
  {
   "cell_type": "code",
   "execution_count": 35,
   "id": "8a49507d",
   "metadata": {},
   "outputs": [
    {
     "name": "stdout",
     "output_type": "stream",
     "text": [
      "The autoreload extension is already loaded. To reload it, use:\n",
      "  %reload_ext autoreload\n"
     ]
    }
   ],
   "source": [
    "%load_ext autoreload"
   ]
  },
  {
   "cell_type": "code",
   "execution_count": 2,
   "id": "3e2872e2",
   "metadata": {},
   "outputs": [],
   "source": [
    "%autoreload 2\n",
    "\n",
    "from copy import deepcopy\n",
    "import logging\n",
    "import math\n",
    "from matplotlib.cm import get_cmap, ScalarMappable\n",
    "from matplotlib import colors\n",
    "from matplotlib.colors import Normalize\n",
    "import matplotlib.pyplot as plt\n",
    "import os\n",
    "import pandas as pd\n",
    "import scipy\n",
    "from scipy.signal import butter, lfilter\n",
    "from scipy.signal import freqs\n",
    "from scipy.spatial.distance import pdist, squareform\n",
    "from sklearn.metrics import r2_score\n",
    "from sklearn.manifold import Isomap\n",
    "from spynal.spikes import density\n",
    "import sys\n",
    "from tqdm.auto import tqdm\n",
    "\n",
    "sys.path.append('/om2/user/eisenaj/code/ChaoticConsciousness/')\n",
    "sys.path.append('/Users/adameisen/Documents/MIT/code/ChaoticConsciousness')\n",
    "from data_utils import *\n",
    "\n",
    "sys.path.append('/om2/user/eisenaj/code/DeLASE')\n",
    "sys.path.append('/Users/adameisen/Documents/MIT/code/DeLASE')\n",
    "from delase import *\n",
    "from utils import numpy_torch_conversion\n",
    "from stability_estimation import *\n",
    "from parameter_choosing import *\n",
    "from performance_metrics import *\n",
    "from plot import *\n",
    "\n",
    "# plt.style.use('/om2/user/eisenaj/code/ChaoticConsciousness/sci_style.py')"
   ]
  },
  {
   "cell_type": "code",
   "execution_count": 3,
   "id": "f48e7be6",
   "metadata": {},
   "outputs": [
    {
     "name": "stdout",
     "output_type": "stream",
     "text": [
      "node043\n"
     ]
    },
    {
     "data": {
      "text/plain": [
       "0"
      ]
     },
     "execution_count": 3,
     "metadata": {},
     "output_type": "execute_result"
    }
   ],
   "source": [
    "os.system('hostname')"
   ]
  },
  {
   "cell_type": "markdown",
   "id": "ebc11ab6",
   "metadata": {},
   "source": [
    "# Functions"
   ]
  },
  {
   "cell_type": "code",
   "execution_count": 4,
   "id": "1ac9db45",
   "metadata": {},
   "outputs": [],
   "source": [
    "class PCA:\n",
    "    def __init__(self, n_components=None, use_torch=False, device='cpu', dtype='torch.DoubleTensor'):\n",
    "        self.n_components = n_components\n",
    "        self.use_torch = use_torch\n",
    "        self.device = device\n",
    "        self.dtype = dtype\n",
    "        \n",
    "    def compute_multidim_mean(self, data):\n",
    "        return data.mean(axis=tuple(np.arange(0, len(data.shape)-1)))\n",
    "    \n",
    "    def fit(self, data):\n",
    "        data = numpy_torch_conversion(data, self.use_torch, self.device, self.dtype)   \n",
    "        data_centered = data - self.compute_multidim_mean(data)\n",
    "        if self.use_torch:\n",
    "            U, S, Vh = torch.linalg.svd(data_centered, full_matrices=False)\n",
    "            self.U = U\n",
    "            self.S = S\n",
    "            self.V = Vh.T\n",
    "\n",
    "        else:\n",
    "            U, S, Vh = np.linalg.svd(data_centered, full_matrices=False)\n",
    "            self.U = U\n",
    "            self.S = S\n",
    "            self.V = Vh.T\n",
    "        \n",
    "        self.explained_variance_ = ((S**2)/(data.shape[0] - 1))[:self.n_components]\n",
    "    \n",
    "    def transform(self, data):\n",
    "        data = numpy_torch_conversion(data, self.use_torch, self.device, self.dtype)\n",
    "        data_centered = data - self.compute_multidim_mean(data)\n",
    "        return (data_centered) @ self.V[:, :self.n_components]\n",
    "\n",
    "    def fit_transform(self, data):\n",
    "        self.fit(data)\n",
    "        return self.transform(data)\n",
    "    \n",
    "def get_bins(spike_mat, bin_size):\n",
    "    \"\"\"\n",
    "    Helper function for get_up_down_raw() function. \n",
    "\n",
    "    Calculate number of bins based on bin_size, remove extra\n",
    "    data at end, and return spikes/bin count array.\n",
    "    \"\"\"\n",
    "    trial_length = spike_mat.shape[1]\n",
    "    n_bins = np.floor(trial_length / bin_size)\n",
    "\n",
    "    cut_ind = int(n_bins*bin_size)\n",
    "\n",
    "    clipped_spike_mat = spike_mat[:,:cut_ind]\n",
    "    \n",
    "    return sum_bins(clipped_spike_mat, n_bins)\n",
    "    \n",
    "def sum_bins(spike_mat, n_bins):\n",
    "    \"\"\"\n",
    "    Helper function for get_bins() function. \n",
    "\n",
    "    Break apart spike_mat (0/1 spike array) into n_bins and\n",
    "    return (n_bin,) length array containing spike counts per bin.\n",
    "    \"\"\"\n",
    "    split = np.hsplit(spike_mat, n_bins)\n",
    "    join = np.stack(split)\n",
    "    \n",
    "    return join.sum(axis=(1,2))\n",
    "\n",
    "def get_up_down_raw(area_spike_dict, bin_size=200, Fs=1000, thresh=0.1, \n",
    "                trange=None, smooth=True):\n",
    "    \"\"\"\n",
    "    For each spike array in area_spike_dict, get 0/1 Up/Down array at bin_size \n",
    "    resolution.\n",
    "    Optional smooth: fill in 101 case with 111\n",
    "    Returns dictionary with Up/Down raw array per region.\n",
    "    \"\"\"\n",
    "    \n",
    "    areas = list(area_spike_dict.keys())\n",
    "\n",
    "    data_length = area_spike_dict[areas[0]].shape[1]\n",
    "    # n_bins = int(np.floor(data_length / bin_size))\n",
    "    \n",
    "    if trange is None:\n",
    "        trange = np.arange(data_length)\n",
    "    \n",
    "    binned_up_down_dict = {}\n",
    "    \n",
    "    for a, spikes in area_spike_dict.items():\n",
    "        if a == '7b':\n",
    "            thresh = 0.2\n",
    "        else:\n",
    "            thresh = thresh\n",
    "\n",
    "        binned = get_bins(spikes, bin_size)\n",
    "        binned_up_down_dict[a] = (((binned / area_spike_dict[a].shape[0])\\\n",
    "                        * (200/bin_size)) > thresh).astype(float)\n",
    "\n",
    "    if smooth:\n",
    "        for a, binned in binned_up_down_dict.items():\n",
    "            for n in range(binned.size):\n",
    "                if n == 0 or n == binned.size-1:\n",
    "                    pass\n",
    "                else:\n",
    "                    if binned[n-1] == 1 and binned[n+1] == 1:\n",
    "                        binned[n] = 1\n",
    "\n",
    "    up_down_dict = {k: np.repeat(v, bin_size) for k,v\\\n",
    "                    in binned_up_down_dict.items()}\n",
    "    \n",
    "    return up_down_dict\n",
    "\n",
    "# NOTE - some shoddy conditionals for handling boundary issues\n",
    "# WATCH FOR ISSUES\n",
    "def get_up_edges(up_down_array):\n",
    "    \"\"\"\n",
    "    Get indices for starts/ends of sequence of ones in up_down_array.\n",
    "    Check / fix common errors due to boundary issues.\n",
    "    \"\"\"\n",
    "    starts = np.where(np.diff(up_down_array) == 1)[0] + 1\n",
    "    ends = np.where(np.diff(up_down_array) == -1)[0] + 1\n",
    "    \n",
    "    if ends[0] <= starts[0]:\n",
    "        ends = ends[1:]\n",
    "        starts = starts[:-1]\n",
    "        \n",
    "    if ends.size != starts.size:\n",
    "        min_size = min(ends.size, starts.size)\n",
    "        starts = starts[:min_size]\n",
    "        ends = ends[:min_size]\n",
    "    \n",
    "    return starts, ends\n",
    "\n",
    "\n",
    "\n",
    "def trim_up_down_array(expanded_up, area_spike_seg):\n",
    "    \"\"\"\n",
    "    Remove trailing Up/Down labels based on 0-spike counts at \n",
    "    beginning/end of Up segement in Up/Down array.\n",
    "    \"\"\"\n",
    "    trimmed_up = np.zeros(expanded_up.size)\n",
    "    up_starts, up_ends = get_up_edges(expanded_up)\n",
    "    # need to handle case where these aren't equal?\n",
    "    for i in range(up_starts.size):\n",
    "        s = up_starts[i]\n",
    "        e = up_ends[i]\n",
    "        up_seg = area_spike_seg[:,s:e]\n",
    "        \n",
    "        nonzeros = np.nonzero(up_seg.sum(0))[0]\n",
    "        new_s = s + nonzeros[0]\n",
    "        new_e = s + nonzeros[-1]\n",
    "        \n",
    "        trimmed_up[new_s:new_e] = 1\n",
    "        \n",
    "    return trimmed_up\n",
    "\n",
    "def trim_up_down(expand_dict, area_spikes_dict):\n",
    "    \"\"\"\n",
    "    Apply trim_up_down_array to each region in dictionary.\n",
    "    \"\"\"\n",
    "    trimmed_dict = {}\n",
    "    for a in expand_dict.keys():\n",
    "        expand_up = expand_dict[a]\n",
    "        spikes_seg = area_spikes_dict[a]\n",
    "        \n",
    "        trimmed_dict[a] = trim_up_down_array(expand_up, spikes_seg)\n",
    "        \n",
    "    return trimmed_dict\n",
    "\n",
    "def get_up_down(area_spike_dict, bin_size=200):\n",
    "    \"\"\"\n",
    "    Apply full Up/Down processing to each region in area_spike_dict.\n",
    "    Returns new dictionary w/ full/processed Up/Down array per region.\n",
    "    \"\"\"\n",
    "    raw_up_down_dict = get_up_down_raw(area_spike_dict, bin_size=bin_size)\n",
    "    up_down_dict = trim_up_down(raw_up_down_dict, area_spike_dict)\n",
    "\n",
    "    return up_down_dict\n",
    "\n",
    "def set_axes_equal(ax):\n",
    "    '''Make axes of 3D plot have equal scale so that spheres appear as spheres,\n",
    "    cubes as cubes, etc..  This is one possible solution to Matplotlib's\n",
    "    ax.set_aspect('equal') and ax.axis('equal') not working for 3D.\n",
    "\n",
    "    Input\n",
    "      ax: a matplotlib axis, e.g., as output from plt.gca().\n",
    "    '''\n",
    "\n",
    "    x_limits = ax.get_xlim3d()\n",
    "    y_limits = ax.get_ylim3d()\n",
    "    z_limits = ax.get_zlim3d()\n",
    "\n",
    "    x_range = abs(x_limits[1] - x_limits[0])\n",
    "    x_middle = np.mean(x_limits)\n",
    "    y_range = abs(y_limits[1] - y_limits[0])\n",
    "    y_middle = np.mean(y_limits)\n",
    "    z_range = abs(z_limits[1] - z_limits[0])\n",
    "    z_middle = np.mean(z_limits)\n",
    "\n",
    "    # The plot bounding box is a sphere in the sense of the infinity\n",
    "    # norm, hence I call half the max range the plot radius.\n",
    "    plot_radius = 0.5*max([x_range, y_range, z_range])\n",
    "\n",
    "    ax.set_xlim3d([x_middle - plot_radius, x_middle + plot_radius])\n",
    "    ax.set_ylim3d([y_middle - plot_radius, y_middle + plot_radius])\n",
    "    ax.set_zlim3d([z_middle - plot_radius, z_middle + plot_radius])\n",
    "\n",
    "def butter_lowpass(cutoff, fs, order=5):\n",
    "    return butter(order, cutoff, fs=fs, btype='low', analog=False)\n",
    "\n",
    "def butter_lowpass_filter(data, cutoff, fs, order=5):\n",
    "    b, a = butter_lowpass(cutoff, fs, order=order)\n",
    "    y = lfilter(b, a, data)\n",
    "    return y\n",
    "\n",
    "def rnn(t, x, W, tau):\n",
    "    return (1/tau)*(-x + W @ np.tanh(x))\n",
    "\n",
    "def g_dW(x, scale=1):\n",
    "    return scale"
   ]
  },
  {
   "cell_type": "markdown",
   "id": "a837f886",
   "metadata": {},
   "source": [
    "# Test over Contraction Rates"
   ]
  },
  {
   "cell_type": "code",
   "execution_count": 5,
   "id": "1dafe4ff",
   "metadata": {},
   "outputs": [],
   "source": [
    "parameter_grid=ParameterGrid(\n",
    "    window_vals=np.array([10000]),\n",
    "    matrix_size_vals=np.array([10, 20, 30, 40, 50, 100, 150, 200, 250, 300, 350, 400]),\n",
    "    r_vals = np.array([3, 5, 10, 25, 50, 75, 100, 125, 150, 200, 225, 250, 275, 300, 350, 400]),\n",
    ")\n",
    "transient = 2000\n",
    "T_pred = 4000\n",
    "device = 'cuda'"
   ]
  },
  {
   "cell_type": "markdown",
   "id": "36b6b56c",
   "metadata": {},
   "source": [
    "## Simulate Signals"
   ]
  },
  {
   "cell_type": "code",
   "execution_count": 6,
   "id": "11e544a8",
   "metadata": {},
   "outputs": [
    {
     "data": {
      "application/vnd.jupyter.widget-view+json": {
       "model_id": "1c7e4eb534064dec98e29b550059326b",
       "version_major": 2,
       "version_minor": 0
      },
      "text/plain": [
       "  0%|          | 0/8 [00:00<?, ?it/s]"
      ]
     },
     "metadata": {},
     "output_type": "display_data"
    }
   ],
   "source": [
    "N = 2048\n",
    "T = 20000\n",
    "dt = 0.01\n",
    "tau = 0.1\n",
    "\n",
    "# # singular value condition\n",
    "# B = np.random.randn(N, N)\n",
    "# B /= np.linalg.norm(B, ord=2)\n",
    "\n",
    "B = np.random.rand(N, N)/N # symmetric condition\n",
    "\n",
    "lamb_vals = [0.8, 0.6, 0.7, 0.5, 0.4, 0.3, 0.2, 0.1]\n",
    "\n",
    "signals = {}\n",
    "\n",
    "x0 = np.random.randn(N)\n",
    "\n",
    "for lamb in tqdm(lamb_vals):\n",
    "    g = 1 - lamb\n",
    "    \n",
    "    # W = g*B # singular value condition\n",
    "    W = (g*np.eye(N) - B.T @ B) # symmetric condition\n",
    "    \n",
    "    dW = np.sqrt(dt) * np.random.randn(T,N)\n",
    "    # Define the function g(x)\n",
    "\n",
    "\n",
    "    # Initialize the x array\n",
    "    x = np.zeros((T, N))\n",
    "    x[0] = x0\n",
    "\n",
    "    # Simulate the stochastic differential equation\n",
    "    for i in range(1, T):\n",
    "        x[i] = x[i-1] + rnn((i - 1)*dt, x[i-1], W, tau) * dt + g_dW(x[i-1], scale=0.01) * dW[i]\n",
    "\n",
    "    signals[lamb] = x"
   ]
  },
  {
   "cell_type": "code",
   "execution_count": 7,
   "id": "49904441",
   "metadata": {},
   "outputs": [
    {
     "data": {
      "image/png": "[encoded data removed]",
      "text/plain": [
       "<Figure size 640x480 with 1 Axes>"
      ]
     },
     "metadata": {},
     "output_type": "display_data"
    }
   ],
   "source": [
    "start = 2000\n",
    "end = 3000\n",
    "for lamb in [0.8, 0.5, 0.1]:\n",
    "    plt.plot(signals[lamb][start:end, 0], label=lamb)\n",
    "plt.legend()\n",
    "plt.show()"
   ]
  },
  {
   "cell_type": "markdown",
   "id": "5bbf0598",
   "metadata": {},
   "source": [
    "## Compute DeLASE"
   ]
  },
  {
   "cell_type": "code",
   "execution_count": 8,
   "id": "d7007055",
   "metadata": {},
   "outputs": [],
   "source": [
    "num_indices = 10"
   ]
  },
  {
   "cell_type": "code",
   "execution_count": 9,
   "id": "bc2bd102",
   "metadata": {},
   "outputs": [
    {
     "data": {
      "application/vnd.jupyter.widget-view+json": {
       "model_id": "b61ac2bf4e3a446faf08b603efcee21f",
       "version_major": 2,
       "version_minor": 0
      },
      "text/plain": [
       "  0%|          | 0/4608 [00:00<?, ?it/s]"
      ]
     },
     "metadata": {},
     "output_type": "display_data"
    },
    {
     "name": "stderr",
     "output_type": "stream",
     "text": [
      "/om2/user/eisenaj/anaconda/envs/dynamical-trajectories/lib/python3.9/site-packages/scipy/linalg/_solvers.py:191: RuntimeWarning: Input \"a\" has an eigenvalue pair whose sum is very close to or exactly zero. The solution is obtained via perturbing the coefficients.\n",
      "  warnings.warn('Input \"a\" has an eigenvalue pair whose sum is '\n"
     ]
    }
   ],
   "source": [
    "window = parameter_grid.window_vals[0]\n",
    "delay_embeds = ['ordinary', 'pade', 'lowpass']\n",
    "iterator = tqdm(total=len(delay_embeds)*len(signals)*len(parameter_grid.matrix_size_vals)*len(parameter_grid.r_vals))\n",
    "\n",
    "results = {}\n",
    "# for differentiable in [True, False]:\n",
    "for differentiable in delay_embeds:\n",
    "    results[differentiable] = {}\n",
    "    for lamb, x in signals.items():\n",
    "        np.random.seed(42 + int(1/lamb))\n",
    "        indices = np.random.choice(np.arange(N), size=(num_indices, ), replace=False)\n",
    "        signal = x[transient:, indices]\n",
    "\n",
    "        AICs = np.zeros((len(parameter_grid.matrix_size_vals), len(parameter_grid.r_vals)))\n",
    "        contraction_rates = np.zeros(AICs.shape)\n",
    "        max_eigvals_A = np.zeros(AICs.shape)\n",
    "\n",
    "\n",
    "        for i, matrix_size in enumerate(parameter_grid.matrix_size_vals):    \n",
    "            if matrix_size >= num_indices:\n",
    "                if differentiable == 'lowpass':\n",
    "                    H = signal.copy()\n",
    "                    n_delays = int(np.ceil(matrix_size/signal.shape[1])) - 1\n",
    "                    for lag in np.arange(n_delays):\n",
    "                        RC = dt*(lag + 1)\n",
    "                        alpha = dt/(RC + dt)\n",
    "                        filtered_signal = np.zeros(signal.shape)\n",
    "                        for t in range(1, signal.shape[0]):\n",
    "                            filtered_signal[t] = filtered_signal[t-1] + alpha*(signal[t] - filtered_signal[t- 1])\n",
    "                        H = np.hstack([H, filtered_signal])\n",
    "                    H_test = H[window:window + T_pred]\n",
    "                    H = H[:window]\n",
    "                #     print(\"Differentiable delay embedding constructed!\")\n",
    "                #     print(\"Now computing DeLASE\")\n",
    "                #     print(\"Fitting SVD...\")\n",
    "                    delase = DeLASE(H, n_delays=1, device=device)\n",
    "                    delase.DMD.compute_hankel()\n",
    "                    delase.DMD.compute_svd()\n",
    "                    n = delase.n*delase.n_delays\n",
    "                #     print(\"Testing over r...\")\n",
    "                    r_opts = parameter_grid.r_vals\n",
    "\n",
    "                    for j, r_ in enumerate(r_opts):\n",
    "                        if r_ <= matrix_size:\n",
    "                            \n",
    "                            delase.DMD.compute_havok_dmd(rank=r_)\n",
    "                            H_pred = delase.DMD.predict(H_test)\n",
    "                            num_pts = (H_pred.shape[0] - delase.n_delays)*num_indices\n",
    "                            AIC = float(num_pts*np.log(((H_pred[delase.n_delays:, :num_indices].cpu() - H_test[delase.n_delays:, :num_indices])**2).sum()/num_pts) + 2*(delase.DMD.A_v.shape[0]*delase.DMD.A_v.shape[1] + 1))\n",
    "                            AICs[i][j] += AIC/num_pts\n",
    "\n",
    "                            I = torch.eye(n).to(device)\n",
    "                            A = ((delase.DMD.A_havok_dmd - I)/dt)\n",
    "                            M = torch.from_numpy(scipy.linalg.solve_continuous_lyapunov(A.T.cpu(), -I.cpu())).to(device)\n",
    "                            eigvals_M = torch.real(torch.linalg.eigvals(M))\n",
    "                            contraction_rates[i][j] = (1/eigvals_M.max()).cpu().numpy()\n",
    "                            max_eigvals_A[i][j] = -torch.linalg.eigvals(A).real.max().cpu().numpy()\n",
    "                        else:\n",
    "                            AICs[i][j] = np.Inf\n",
    "\n",
    "                        iterator.update()\n",
    "                elif differentiable == 'pade':\n",
    "                    H = signal.copy()\n",
    "                    n_delays = int(np.ceil(matrix_size/signal.shape[1])) - 1\n",
    "                    for lag in np.arange(n_delays):\n",
    "                        tau = dt*(lag + 1)\n",
    "                        filtered_signal = np.zeros(signal.shape)\n",
    "                        for t in range(1, signal.shape[0]):\n",
    "                            filtered_signal[t] = ((2*dt - tau)/(tau + 2*dt))*signal[t] + (tau/(tau + 2*dt))*(filtered_signal[t-1] + signal[t-1]) \n",
    "                        H = np.hstack([H, filtered_signal])\n",
    "                    H_test = H[window:window + T_pred]\n",
    "                    H = H[:window]\n",
    "                #     print(\"Differentiable delay embedding constructed!\")\n",
    "                #     print(\"Now computing DeLASE\")\n",
    "                #     print(\"Fitting SVD...\")\n",
    "                    delase = DeLASE(H, n_delays=1, device=device)\n",
    "                    delase.DMD.compute_hankel()\n",
    "                    delase.DMD.compute_svd()\n",
    "                    n = delase.n*delase.n_delays\n",
    "                #     print(\"Testing over r...\")\n",
    "                    r_opts = parameter_grid.r_vals\n",
    "\n",
    "                    for j, r_ in enumerate(r_opts):\n",
    "                        if r_ <= matrix_size:\n",
    "                            \n",
    "                            delase.DMD.compute_havok_dmd(rank=r_)\n",
    "                            H_pred = delase.DMD.predict(H_test)\n",
    "                            num_pts = (H_pred.shape[0] - delase.n_delays)*num_indices\n",
    "                            AIC = float(num_pts*np.log(((H_pred[delase.n_delays:, :num_indices].cpu() - H_test[delase.n_delays:, :num_indices])**2).sum()/num_pts) + 2*(delase.DMD.A_v.shape[0]*delase.DMD.A_v.shape[1] + 1))\n",
    "                            AICs[i][j] += AIC/num_pts\n",
    "\n",
    "                            I = torch.eye(n).to(device)\n",
    "                            A = ((delase.DMD.A_havok_dmd - I)/dt)\n",
    "                            M = torch.from_numpy(scipy.linalg.solve_continuous_lyapunov(A.T.cpu(), -I.cpu())).to(device)\n",
    "                            eigvals_M = torch.real(torch.linalg.eigvals(M))\n",
    "                            contraction_rates[i][j] = (1/eigvals_M.max()).cpu().numpy()\n",
    "                            max_eigvals_A[i][j] = -torch.linalg.eigvals(A).real.max().cpu().numpy()\n",
    "                        else:\n",
    "                            AICs[i][j] = np.Inf\n",
    "\n",
    "                        iterator.update()\n",
    "                        \n",
    "                else:\n",
    "\n",
    "                    delase = DeLASE(signal, matrix_size=matrix_size, device=device)\n",
    "                    delase.DMD.compute_hankel()\n",
    "                    delase.DMD.compute_svd()\n",
    "                    n = delase.n*delase.n_delays\n",
    "                    #     print(\"Testing over r...\")\n",
    "                    r_opts = parameter_grid.r_vals\n",
    "\n",
    "                    signal_test = signal[window:window + T_pred]\n",
    "\n",
    "                    for j, r_ in enumerate(r_opts):\n",
    "                        if r_ <= matrix_size:\n",
    "                            delase.DMD.compute_havok_dmd(rank=r_)\n",
    "                            signal_pred = delase.DMD.predict(signal_test)\n",
    "                            num_pts = (signal_pred.shape[0] - delase.n_delays)*num_indices\n",
    "                            AIC = float(num_pts*np.log(((signal_pred[delase.n_delays:, :num_indices].cpu() - signal_test[delase.n_delays:, :num_indices])**2).sum()/num_pts) + 2*(delase.DMD.A_v.shape[0]*delase.DMD.A_v.shape[1] + 1))\n",
    "                            AICs[i][j] += AIC/num_pts\n",
    "\n",
    "                            I = torch.eye(n).to(device)\n",
    "                            A = ((delase.DMD.A_havok_dmd - I)/dt)\n",
    "                            M = torch.from_numpy(scipy.linalg.solve_continuous_lyapunov(A.T.cpu(), -I.cpu())).to(device)\n",
    "                            eigvals_M = torch.real(torch.linalg.eigvals(M))\n",
    "                            contraction_rates[i][j] = (1/eigvals_M.max()).cpu().numpy()\n",
    "                            max_eigvals_A[i][j] = -torch.linalg.eigvals(A).real.max().cpu().numpy()\n",
    "                        else:\n",
    "                            AICs[i][j] = np.Inf\n",
    "\n",
    "                        iterator.update()\n",
    "            else:\n",
    "                iterator.update(len(parameter_grid.r_vals))\n",
    "\n",
    "\n",
    "            m_index, r_index = np.unravel_index(AICs.argmin(), shape=AICs.shape)\n",
    "\n",
    "            results[differentiable][lamb] = dict(\n",
    "                AICs=AICs,\n",
    "                contraction_rates=contraction_rates,\n",
    "                max_eigvals_A=max_eigvals_A,\n",
    "                m_index=m_index,\n",
    "                r_index=r_index\n",
    "\n",
    "            )\n",
    "\n",
    "        \n",
    "\n",
    "iterator.close()\n",
    "    "
   ]
  },
  {
   "cell_type": "code",
   "execution_count": 10,
   "id": "87c725f6",
   "metadata": {},
   "outputs": [
    {
     "name": "stdout",
     "output_type": "stream",
     "text": [
      "ordinary matrix sizes:\n",
      "    0.8: 10\n",
      "    0.6: 10\n",
      "    0.7: 10\n",
      "    0.5: 10\n",
      "    0.4: 10\n",
      "    0.3: 10\n",
      "    0.2: 10\n",
      "    0.1: 10\n",
      "pade matrix sizes:\n",
      "    0.8: 10\n",
      "    0.6: 20\n",
      "    0.7: 20\n",
      "    0.5: 10\n",
      "    0.4: 10\n",
      "    0.3: 20\n",
      "    0.2: 20\n",
      "    0.1: 10\n",
      "lowpass matrix sizes:\n",
      "    0.8: 10\n",
      "    0.6: 20\n",
      "    0.7: 20\n",
      "    0.5: 10\n",
      "    0.4: 10\n",
      "    0.3: 20\n",
      "    0.2: 20\n",
      "    0.1: 10\n"
     ]
    },
    {
     "data": {
      "image/png": "[encoded data removed]",
      "text/plain": [
       "<Figure size 800x500 with 1 Axes>"
      ]
     },
     "metadata": {},
     "output_type": "display_data"
    }
   ],
   "source": [
    "plt.figure(figsize=(8, 5))\n",
    "\n",
    "# plt.subplot(1, 2, 1)\n",
    "for differentiable in delay_embeds:\n",
    "    print(f\"{differentiable} matrix sizes:\")\n",
    "    for lamb, ret in results[differentiable].items():\n",
    "        print(f\"    {lamb}: {parameter_grid.matrix_size_vals[ret['m_index']]}\")\n",
    "    plt.scatter([lamb for lamb in results[differentiable].keys()], [ret['contraction_rates'][ret['m_index'], ret['r_index']] for ret in results[differentiable].values()], label=f\"delay_embed={differentiable}\")\n",
    "    # plt.xscale('log')\n",
    "    plt.xlabel('Contraction rate')\n",
    "    plt.ylabel(r'Estimated CR ($\\lambda_{max}(M)^{-1}$)')\n",
    "\n",
    "    # plt.subplot(1, 2, 2)\n",
    "    # plt.scatter([lamb for lamb in results.keys()], [ret['max_eigvals_A'][ret['m_index'], ret['r_index']] for ret in results.values()])\n",
    "    # # plt.xscale('log')\n",
    "    # plt.xlabel('Contraction rate')\n",
    "    # plt.ylabel(r'Estimated CR ($\\lambda_{max}(A)$)')\n",
    "# plt.plot([lamb for lamb in results[differentiable].keys()], [lamb for lamb in results[differentiable].keys()], linestyle='--', c='k')\n",
    "plt.suptitle(f'N = {N}, num_indices={num_indices}')\n",
    "plt.legend()\n",
    "plt.tight_layout()\n",
    "plt.show()"
   ]
  },
  {
   "cell_type": "markdown",
   "id": "85694d44-432b-457a-8209-f2e3bda00683",
   "metadata": {},
   "source": [
    "# Checking That It's a Metric"
   ]
  },
  {
   "cell_type": "code",
   "execution_count": 69,
   "id": "88450b8e",
   "metadata": {},
   "outputs": [],
   "source": [
    "def rnn_jacobian(x, W,tau, dt, N, device='cpu'):\n",
    "    I = torch.eye(N).to(device)\n",
    "    if len(x.shape) == 1:\n",
    "        return I + (dt/tau)*(-I + (W @ torch.diag(1 - torch.tanh(x)**2)))\n",
    "    else:\n",
    "        return I.unsqueeze(0) + (dt/tau)*(-I.unsqueeze(0) + (W*((1 - torch.tanh(x)**2).unsqueeze(1))))"
   ]
  },
  {
   "cell_type": "code",
   "execution_count": 126,
   "id": "8f2ec090",
   "metadata": {},
   "outputs": [],
   "source": [
    "lamb = 0.6\n",
    "tau = 0.1"
   ]
  },
  {
   "cell_type": "code",
   "execution_count": 127,
   "id": "e02e84ba",
   "metadata": {},
   "outputs": [],
   "source": [
    "matrix_size = parameter_grid.matrix_size_vals[results['lowpass'][lamb]['m_index']]\n",
    "rank = parameter_grid.r_vals[results['lowpass'][lamb]['r_index']]"
   ]
  },
  {
   "cell_type": "code",
   "execution_count": 128,
   "id": "5ed5d94a",
   "metadata": {},
   "outputs": [],
   "source": [
    "signal = signals[lamb][transient:, indices]\n",
    "H = signal.copy()\n",
    "n_delays = int(np.ceil(matrix_size/signal.shape[1])) - 1\n",
    "for lag in np.arange(n_delays):\n",
    "    RC = dt*(lag + 1)\n",
    "    alpha = dt/(RC + dt)\n",
    "    filtered_signal = np.zeros(signal.shape)\n",
    "    for t in range(1, signal.shape[0]):\n",
    "        filtered_signal[t] = filtered_signal[t-1] + alpha*(signal[t] - filtered_signal[t- 1])\n",
    "    H = np.hstack([H, filtered_signal])\n",
    "H_test = H[window:window + T_pred]\n",
    "H = H[:window]\n",
    "\n",
    "delase = DeLASE(H, n_delays=1, rank=rank, device=device)\n",
    "delase.DMD.compute_hankel()\n",
    "delase.DMD.compute_svd()\n",
    "delase.DMD.compute_havok_dmd()\n",
    "\n",
    "n = delase.n*delase.n_delays\n",
    "I = torch.eye(n).to(device)\n",
    "A = ((delase.DMD.A_havok_dmd - I)/dt)\n",
    "M = torch.from_numpy(scipy.linalg.solve_continuous_lyapunov(A.T.cpu(), -I.cpu())).to(device)"
   ]
  },
  {
   "cell_type": "code",
   "execution_count": 129,
   "id": "f683d6bc",
   "metadata": {},
   "outputs": [],
   "source": [
    "phi_J = np.zeros((n, num_indices))\n",
    "for i in range(num_indices):\n",
    "    phi_J[i, i] = 1\n",
    "\n",
    "for lag in np.arange(n_delays):\n",
    "    RC = dt*(lag + 1)\n",
    "    alpha = dt/(RC + dt)\n",
    "    for i in range(num_indices):\n",
    "        phi_J[(lag+1)*num_indices + i, i] = alpha"
   ]
  },
  {
   "cell_type": "code",
   "execution_count": 130,
   "id": "b7b4c32d",
   "metadata": {},
   "outputs": [
    {
     "data": {
      "text/plain": [
       "<matplotlib.image.AxesImage at 0x2aeda64b5820>"
      ]
     },
     "execution_count": 130,
     "metadata": {},
     "output_type": "execute_result"
    },
    {
     "data": {
      "image/png": "[encoded data removed]",
      "text/plain": [
       "<Figure size 640x480 with 1 Axes>"
      ]
     },
     "metadata": {},
     "output_type": "display_data"
    }
   ],
   "source": [
    "plt.imshow(phi_J)"
   ]
  },
  {
   "cell_type": "code",
   "execution_count": 131,
   "id": "a8c03c8b",
   "metadata": {},
   "outputs": [
    {
     "data": {
      "text/plain": [
       "(20, 10)"
      ]
     },
     "execution_count": 131,
     "metadata": {},
     "output_type": "execute_result"
    }
   ],
   "source": [
    "n, num_indices"
   ]
  },
  {
   "cell_type": "code",
   "execution_count": 46,
   "id": "136e9336",
   "metadata": {},
   "outputs": [
    {
     "data": {
      "text/plain": [
       "10"
      ]
     },
     "execution_count": 46,
     "metadata": {},
     "output_type": "execute_result"
    }
   ],
   "source": [
    "np.linalg.matrix_rank(phiJ)"
   ]
  },
  {
   "cell_type": "code",
   "execution_count": 132,
   "id": "c1c691bf",
   "metadata": {},
   "outputs": [],
   "source": [
    "M_orig = phi_J.T @ M.cpu().numpy() @ phi_J\n",
    "M_orig = torch.from_numpy(M_orig).to('cuda').unsqueeze(0)"
   ]
  },
  {
   "cell_type": "code",
   "execution_count": 133,
   "id": "401b4c77",
   "metadata": {},
   "outputs": [],
   "source": [
    "g = 1 - lamb/tau\n",
    "    \n",
    "# W = g*B # singular value condition\n",
    "W = (g*np.eye(N) - B.T @ B) # symmetric condition"
   ]
  },
  {
   "cell_type": "code",
   "execution_count": 134,
   "id": "8ad80c38",
   "metadata": {},
   "outputs": [],
   "source": [
    "Js = rnn_jacobian(torch.from_numpy(signals[lamb][np.arange(0, 20000, 200)]).to('cuda'), torch.from_numpy(W).to('cuda'), tau, dt, N, device='cuda')"
   ]
  },
  {
   "cell_type": "code",
   "execution_count": 135,
   "id": "fd82f93f",
   "metadata": {},
   "outputs": [],
   "source": [
    "Js = Js[:, indices][:, :, indices]"
   ]
  },
  {
   "cell_type": "code",
   "execution_count": 136,
   "id": "d5809c72",
   "metadata": {},
   "outputs": [],
   "source": [
    "Js_cont = (Js.cpu() - torch.eye(num_indices).unsqueeze(0))/dt"
   ]
  },
  {
   "cell_type": "code",
   "execution_count": 137,
   "id": "280096e4",
   "metadata": {},
   "outputs": [
    {
     "data": {
      "text/plain": [
       "torch.return_types.max(\n",
       "values=tensor([0.1227, 0.0303, 0.0303, 0.0303, 0.0303, 0.0303, 0.0303, 0.0303, 0.0303,\n",
       "        0.0303, 0.0303, 0.0303, 0.0303, 0.0303, 0.0303, 0.0303, 0.0303, 0.0303,\n",
       "        0.0303, 0.0303, 0.0303, 0.0303, 0.0303, 0.0303, 0.0303, 0.0303, 0.0303,\n",
       "        0.0303, 0.0303, 0.0303, 0.0303, 0.0303, 0.0303, 0.0303, 0.0303, 0.0303,\n",
       "        0.0303, 0.0303, 0.0303, 0.0303, 0.0303, 0.0303, 0.0303, 0.0303, 0.0303,\n",
       "        0.0303, 0.0303, 0.0303, 0.0303, 0.0303, 0.0303, 0.0303, 0.0303, 0.0303,\n",
       "        0.0303, 0.0303, 0.0303, 0.0303, 0.0303, 0.0303, 0.0303, 0.0303, 0.0303,\n",
       "        0.0303, 0.0303, 0.0303, 0.0303, 0.0303, 0.0303, 0.0303, 0.0303, 0.0303,\n",
       "        0.0303, 0.0303, 0.0303, 0.0303, 0.0303, 0.0303, 0.0303, 0.0303, 0.0303,\n",
       "        0.0303, 0.0303, 0.0303, 0.0303, 0.0303, 0.0303, 0.0303, 0.0303, 0.0303,\n",
       "        0.0303, 0.0303, 0.0303, 0.0303, 0.0303, 0.0303, 0.0303, 0.0303, 0.0303,\n",
       "        0.0303], device='cuda:0', dtype=torch.float64),\n",
       "indices=tensor([0, 0, 0, 0, 0, 0, 0, 0, 0, 0, 0, 0, 0, 0, 0, 0, 0, 0, 0, 0, 0, 0, 0, 0,\n",
       "        0, 0, 0, 0, 0, 0, 0, 0, 0, 0, 0, 0, 0, 0, 0, 0, 0, 0, 0, 0, 0, 0, 0, 0,\n",
       "        0, 0, 0, 0, 0, 0, 0, 0, 0, 0, 0, 0, 0, 0, 0, 0, 0, 0, 0, 0, 0, 0, 0, 0,\n",
       "        0, 0, 0, 0, 0, 0, 0, 0, 0, 0, 0, 0, 0, 0, 0, 0, 0, 0, 0, 0, 0, 0, 0, 0,\n",
       "        0, 0, 0, 0], device='cuda:0'))"
      ]
     },
     "execution_count": 137,
     "metadata": {},
     "output_type": "execute_result"
    }
   ],
   "source": [
    "torch.linalg.svdvals(Js.transpose(-2, -1) @ M_orig @ Js).max(dim=1)"
   ]
  },
  {
   "cell_type": "code",
   "execution_count": 138,
   "id": "a68d2b3a",
   "metadata": {},
   "outputs": [],
   "source": [
    "left_side_eigvals = torch.linalg.eigvals((M_orig.cpu()@Js_cont + Js_cont.transpose(-2, -1)@M_orig.cpu()))"
   ]
  },
  {
   "cell_type": "code",
   "execution_count": 139,
   "id": "3a58fd49",
   "metadata": {},
   "outputs": [],
   "source": [
    "right_side_eigvals = torch.linalg.eigvals(-2*(lamb/tau)*M_orig.cpu())"
   ]
  },
  {
   "cell_type": "code",
   "execution_count": 148,
   "id": "7913ebc2",
   "metadata": {},
   "outputs": [
    {
     "data": {
      "text/plain": [
       "<matplotlib.colorbar.Colorbar at 0x2aedc15c52e0>"
      ]
     },
     "execution_count": 148,
     "metadata": {},
     "output_type": "execute_result"
    },
    {
     "data": {
      "image/png": "[encoded data removed]",
      "text/plain": [
       "<Figure size 640x480 with 2 Axes>"
      ]
     },
     "metadata": {},
     "output_type": "display_data"
    }
   ],
   "source": [
    "plt.imshow(Js_cont[-1] - Js_cont[10])\n",
    "plt.colorbar()"
   ]
  },
  {
   "cell_type": "code",
   "execution_count": 140,
   "id": "b5bb85d1",
   "metadata": {},
   "outputs": [
    {
     "data": {
      "text/plain": [
       "tensor([-1.5587], dtype=torch.float64)"
      ]
     },
     "execution_count": 140,
     "metadata": {},
     "output_type": "execute_result"
    }
   ],
   "source": [
    "torch.real(right_side_eigvals).max(dim=1)[0]"
   ]
  },
  {
   "cell_type": "code",
   "execution_count": 141,
   "id": "c0fc5649",
   "metadata": {},
   "outputs": [
    {
     "data": {
      "text/plain": [
       "tensor([ -3.8146, -15.5872, -15.5869, -15.5872, -15.5871, -15.5872, -15.5872,\n",
       "        -15.5872, -15.5871, -15.5872, -15.5872, -15.5870, -15.5872, -15.5869,\n",
       "        -15.5871, -15.5871, -15.5872, -15.5872, -15.5872, -15.5871, -15.5871,\n",
       "        -15.5872, -15.5871, -15.5871, -15.5871, -15.5872, -15.5871, -15.5871,\n",
       "        -15.5872, -15.5872, -15.5872, -15.5872, -15.5872, -15.5871, -15.5871,\n",
       "        -15.5872, -15.5872, -15.5870, -15.5869, -15.5872, -15.5871, -15.5870,\n",
       "        -15.5871, -15.5872, -15.5871, -15.5871, -15.5871, -15.5871, -15.5872,\n",
       "        -15.5872, -15.5872, -15.5871, -15.5871, -15.5872, -15.5872, -15.5870,\n",
       "        -15.5870, -15.5869, -15.5871, -15.5872, -15.5871, -15.5871, -15.5871,\n",
       "        -15.5871, -15.5871, -15.5870, -15.5871, -15.5872, -15.5872, -15.5872,\n",
       "        -15.5871, -15.5871, -15.5870, -15.5872, -15.5871, -15.5871, -15.5872,\n",
       "        -15.5872, -15.5871, -15.5871, -15.5872, -15.5870, -15.5871, -15.5871,\n",
       "        -15.5872, -15.5872, -15.5871, -15.5872, -15.5872, -15.5872, -15.5871,\n",
       "        -15.5869, -15.5872, -15.5872, -15.5871, -15.5871, -15.5872, -15.5871,\n",
       "        -15.5872, -15.5871], dtype=torch.float64)"
      ]
     },
     "execution_count": 141,
     "metadata": {},
     "output_type": "execute_result"
    }
   ],
   "source": [
    "torch.real(left_side_eigvals).max(dim=1)[0]"
   ]
  },
  {
   "cell_type": "code",
   "execution_count": 142,
   "id": "8f5987ed",
   "metadata": {},
   "outputs": [
    {
     "data": {
      "text/plain": [
       "5.999999999999999"
      ]
     },
     "execution_count": 142,
     "metadata": {},
     "output_type": "execute_result"
    }
   ],
   "source": [
    "lamb/tau"
   ]
  },
  {
   "cell_type": "code",
   "execution_count": null,
   "id": "26bdf55a",
   "metadata": {},
   "outputs": [],
   "source": []
  }
 ],
 "metadata": {
  "kernelspec": {
   "display_name": "Python 3 (ipykernel)",
   "language": "python",
   "name": "python3"
  },
  "language_info": {
   "codemirror_mode": {
    "name": "ipython",
    "version": 3
   },
   "file_extension": ".py",
   "mimetype": "text/x-python",
   "name": "python",
   "nbconvert_exporter": "python",
   "pygments_lexer": "ipython3",
   "version": "3.9.1"
  },
  "vscode": {
   "interpreter": {
    "hash": "e4308e4efdbf59f59f70a70718e3c76c35bc6f643bb3c609a00ee42881d53a59"
   }
  }
 },
 "nbformat": 4,
 "nbformat_minor": 5
}
