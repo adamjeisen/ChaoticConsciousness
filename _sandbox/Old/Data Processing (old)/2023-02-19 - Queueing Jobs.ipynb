{
 "cells": [
  {
   "cell_type": "code",
   "execution_count": 1,
   "id": "8a49507d",
   "metadata": {},
   "outputs": [],
   "source": [
    "%load_ext autoreload"
   ]
  },
  {
   "cell_type": "code",
   "execution_count": 2,
   "id": "3e2872e2",
   "metadata": {},
   "outputs": [],
   "source": [
    "%autoreload 2\n",
    "\n",
    "from copy import deepcopy\n",
    "import logging\n",
    "from matplotlib.cm import get_cmap, ScalarMappable\n",
    "from matplotlib.colors import Normalize\n",
    "import matplotlib.pyplot as plt\n",
    "import pandas as pd\n",
    "import scipy\n",
    "from sklearn.metrics import r2_score\n",
    "import sys\n",
    "\n",
    "sys.path.append('../..')\n",
    "\n",
    "from data_utils import *\n",
    "\n",
    "sys.path.append('../../../DeLASE')\n",
    "from delase import *\n",
    "from stability_estimation import *\n",
    "from parameter_choosing import *\n",
    "from performance_metrics import *"
   ]
  },
  {
   "cell_type": "markdown",
   "id": "1cd59886",
   "metadata": {},
   "source": [
    "# Arguments + Parameters"
   ]
  },
  {
   "cell_type": "code",
   "execution_count": 3,
   "id": "f87dcec0",
   "metadata": {},
   "outputs": [],
   "source": [
    "data_processing_args_dir = \"/scratch2/weka/millerlab/eisenaj/ChaoticConsciousness/data_processing_args\""
   ]
  },
  {
   "cell_type": "code",
   "execution_count": 4,
   "id": "6e7a744e",
   "metadata": {},
   "outputs": [],
   "source": [
    "mp_args = dict(\n",
    "    # ----------------------\n",
    "    # MULTIPROCESSING ARGUMENTS\n",
    "    # ----------------------\n",
    "    USE_TORCH=True,\n",
    "    USE_CUDA=True,\n",
    "    NUM_WORKERS=4,\n",
    "#     NUM_WORKERS=5,\n",
    "    USE_LOGGING=True,\n",
    "    LOG_DIR=\"/om2/user/eisenaj/code/shell_scripts/DeLASE\",\n",
    "    LOG_NAME='mp_delase',\n",
    "    LOG_LEVEL=logging.DEBUG,\n",
    "    RESULTS_DIR='/scratch2/weka/millerlab/eisenaj/ChaoticConsciousness/grid_search_results',\n",
    "    \n",
    "    COMPUTE_IP=True,\n",
    "    COMPUTE_CHROOTS=False,\n",
    "    TRACK_RESEEDS=False,\n",
    "\n",
    "    # ----------------------\n",
    "    # DYNAMICAL SYSTEMS ARGUMENTS\n",
    "    # ----------------------\n",
    "    parameter_grid=ParameterGrid(\n",
    "                        window_vals=np.array([15000]),\n",
    "#                         p_vals=np.array([100]),\n",
    "                        matrix_size_vals=np.array([6400]),\n",
    "                        r_thresh_vals=np.array([0.1, 0.2, 0.3, 0.4, 0.5]),\n",
    "                        lamb_vals=np.array([0, 1e-12, 1e-8, 1e-4, 1e-3, 1e-2, 1e-1, 1]),\n",
    "                        reseed_vals=np.array([1, 5, 10, 15, 20, 30, 40, 50, 100, 150, 200, 250, 300, 400, 500, 750, 1000])\n",
    "                    ),\n",
    "    T_pred=5000, # time steps\n",
    "    dt = 0.001, # s\n",
    "    integrated_performance_kwargs = dict(\n",
    "        metrics=['autocorrel_correl', 'fft_correl', 'fft_r2'], \n",
    "        weights='equal',\n",
    "        num_lags=500,\n",
    "        max_freq=500,\n",
    "        fft_n=1000,\n",
    "    ),\n",
    "    stability_max_freq = 500,\n",
    "    stability_max_unstable_freq = 125,\n",
    "    norm = True\n",
    ")"
   ]
  },
  {
   "cell_type": "markdown",
   "id": "f3618551",
   "metadata": {},
   "source": [
    "# Load Neural Data"
   ]
  },
  {
   "cell_type": "code",
   "execution_count": 22,
   "id": "2f2cb796",
   "metadata": {},
   "outputs": [],
   "source": [
    "# session = 'Mary-Anesthesia-20160912-02'\n",
    "session = 'MrJones-Anesthesia-20160109-01'\n",
    "# session = 'Mary-Anesthesia-20160826-02'\n",
    "# session = 'Mary-Anesthesia-20160822-02'\n",
    "# session = 'MrJones-Anesthesia-20160107-01'\n",
    "# session = 'MrJones-Anesthesia-20160113-01'\n",
    "# session = 'Mary-Anesthesia-20160809-01'\n",
    "# session = 'MrJones-Anesthesia-20160105-01'\n",
    "# session = 'Mary-Anesthesia-20160818-02'\n",
    "# session = 'MrJones-Anesthesia-20160121-01' #296909691\n",
    "\n",
    "# session = 'Mary-Anesthesia-20160831-02'\n",
    "# session = 'MrJones-Anesthesia-20160123-01'\n",
    "\n",
    "# ------------\n",
    "# NOT RUN\n",
    "# ------------\n",
    "\n",
    "# session = 'Mary-Anesthesia-20160902-02'\n",
    "# session = 'Mary-Anesthesia-20160908-02'\n",
    "# session = 'Mary-Anesthesia-20160914-02'\n",
    "# session = 'Mary-Anesthesia-20160916-02'\n",
    "\n",
    "# session = 'MrJones-Anesthesia-20160125-01'\n",
    "# session = 'MrJones-Anesthesia-20160201-01'\n",
    "# session = 'MrJones-Anesthesia-20160206-01'\n",
    "# session = 'MrJones-Anesthesia-20160210-01'\n",
    "# session = 'MrJones-Anesthesia-20160301-01'"
   ]
  },
  {
   "cell_type": "code",
   "execution_count": 23,
   "id": "44169232",
   "metadata": {},
   "outputs": [],
   "source": [
    "all_data_dir = '/scratch2/weka/millerlab/eisenaj/datasets/anesthesia/mat'\n",
    "data_class = get_data_class(session, all_data_dir)"
   ]
  },
  {
   "cell_type": "code",
   "execution_count": 24,
   "id": "73d39b8b",
   "metadata": {},
   "outputs": [],
   "source": [
    "os.environ[\"HDF5_USE_FILE_LOCKING\"] = \"FALSE\"\n",
    "# variables = ['electrodeInfo', 'lfp', 'lfpSchema', 'sessionInfo', 'trialInfo', 'unitInfo']\n",
    "# session_vars, T, N, dt = load_session_data(session, all_data_dir, variables, data_class=data_class, verbose=False)\n",
    "# electrode_info, lfp, lfp_schema, session_info, trial_info, unit_info = session_vars['electrodeInfo'], session_vars['lfp'], session_vars['lfpSchema'], session_vars['sessionInfo'], session_vars['trialInfo'], session_vars['unitInfo']\n",
    "\n",
    "variables = ['electrodeInfo', 'lfpSchema', 'sessionInfo', 'trialInfo', 'unitInfo']\n",
    "session_vars, T, N, dt = load_session_data(session, all_data_dir, variables, data_class=data_class, verbose=False)\n",
    "electrode_info, lfp_schema, session_info, trial_info, unit_info = session_vars['electrodeInfo'], session_vars['lfpSchema'], session_vars['sessionInfo'], session_vars['trialInfo'], session_vars['unitInfo']"
   ]
  },
  {
   "cell_type": "code",
   "execution_count": 25,
   "id": "caf41dc9",
   "metadata": {},
   "outputs": [],
   "source": [
    "eyes_close = session_info['eyesClose'][-1] if isinstance(session_info['eyesClose'], np.ndarray) else session_info['eyesClose'] \n",
    "section_times = dict( \n",
    "        pre=(0, session_info['drugStart'][0]),\n",
    "        induction=(session_info['drugStart'][0], eyes_close),\n",
    "        during=(eyes_close, session_info['drugEnd'][1]),\n",
    "        post=(session_info['drugEnd'][1], T*dt)\n",
    ")\n",
    "sections = list(section_times.keys())\n",
    "areas = np.unique(electrode_info['area'])\n",
    "areas = np.hstack([areas, 'all'])"
   ]
  },
  {
   "cell_type": "markdown",
   "id": "df8251ec",
   "metadata": {},
   "source": [
    "# Load Directory"
   ]
  },
  {
   "cell_type": "code",
   "execution_count": 26,
   "id": "17eca032",
   "metadata": {},
   "outputs": [],
   "source": [
    "chunked_folder = [f for f in os.listdir(os.path.join(all_data_dir, data_class)) if f.startswith(session) and 'chunked' in f]\n",
    "if len(chunked_folder) == 0:\n",
    "    print(f\"Chunked folder for {session} not found in {os.path.join(all_data_dir, data_class)}\")\n",
    "else:\n",
    "    chunked_folder = chunked_folder[0]\n",
    "\n",
    "directory = pd.read_pickle(os.path.join(all_data_dir, data_class, chunked_folder, 'directory'))"
   ]
  },
  {
   "cell_type": "markdown",
   "id": "26acc8fc",
   "metadata": {},
   "source": [
    "# Grid Search"
   ]
  },
  {
   "cell_type": "code",
   "execution_count": 10,
   "id": "5562aa4f",
   "metadata": {},
   "outputs": [],
   "source": [
    "mp_args['RESULTS_DIR'] = '/scratch2/weka/millerlab/eisenaj/ChaoticConsciousness/grid_search_results'"
   ]
  },
  {
   "cell_type": "code",
   "execution_count": 611,
   "id": "b134d84e",
   "metadata": {},
   "outputs": [],
   "source": [
    "# PICK GRID SAMPLE TIMES\n",
    "\n",
    "num_windows_per_section = 2\n",
    "margins = 120 # s\n",
    "\n",
    "grid_sample_times = []\n",
    "for section in sections:\n",
    "    if section != 'induction':\n",
    "        grid_sample_times.extend(np.random.uniform(margins + section_times[section][0], section_times[section][1] - margins, size=(num_windows_per_section,)))\n",
    "grid_sample_times = np.sort(grid_sample_times)\n",
    "grid_sample_times = np.array([int(t*1000)/1000 for t in grid_sample_times])"
   ]
  },
  {
   "cell_type": "code",
   "execution_count": 612,
   "id": "15c5f40d",
   "metadata": {},
   "outputs": [],
   "source": [
    "data_length = 60 # s, just has to be bigger than window + prediction_time\n",
    "data_processing_rows = []\n",
    "for area in areas:\n",
    "    if area == 'all':\n",
    "        unit_indices = np.arange(len(electrode_info['area']))\n",
    "    else:\n",
    "        unit_indices = np.where(electrode_info['area'] == area)[0]\n",
    "    for t in grid_sample_times:\n",
    "        row = dict(\n",
    "            session=session,\n",
    "            area=area,\n",
    "            window_start=t,\n",
    "            window_end=t + data_length,\n",
    "            directory=directory,\n",
    "            dimension_inds=unit_indices\n",
    "        )\n",
    "        data_processing_rows.append(row)\n",
    "data_processing_df = pd.DataFrame(data_processing_rows)\n",
    "mp_args['data_processing_df'] = data_processing_df\n",
    "data_processing_path = os.path.join(data_processing_args_dir, f\"mp_args_{session}_GRID_{\"NORMED\" if mp_args['norm'] else ''}.pkl\")\n",
    "pd.to_pickle(mp_args, data_processing_path)"
   ]
  },
  {
   "cell_type": "code",
   "execution_count": 613,
   "id": "f52fd795",
   "metadata": {},
   "outputs": [
    {
     "name": "stdout",
     "output_type": "stream",
     "text": [
      "Submitted batch job 29622737\n"
     ]
    },
    {
     "data": {
      "text/plain": [
       "0"
      ]
     },
     "execution_count": 613,
     "metadata": {},
     "output_type": "execute_result"
    }
   ],
   "source": [
    "os.system(f\"sbatch --gres=gpu:{mp_args['NUM_WORKERS']} /om2/user/eisenaj/code/shell_scripts/DeLASE/mp_delase.sh {data_processing_path}\")"
   ]
  },
  {
   "cell_type": "code",
   "execution_count": 614,
   "id": "381b144b",
   "metadata": {},
   "outputs": [
    {
     "name": "stdout",
     "output_type": "stream",
     "text": [
      "             JOBID PARTITION     NAME     USER ST       TIME  NODES NODELIST(REASON)\n",
      "          29587291 millerlab cha-jupy  eisenaj  R 3-15:02:54      1 node084\n",
      "          29609567    normal   delase  eisenaj  R   21:38:59      1 node055\n",
      "          29622737    normal   delase  eisenaj  R       0:00      1 node076\n",
      "          29621829    normal   delase  eisenaj  R    1:40:45      1 node056\n"
     ]
    },
    {
     "data": {
      "text/plain": [
       "0"
      ]
     },
     "execution_count": 614,
     "metadata": {},
     "output_type": "execute_result"
    }
   ],
   "source": [
    "os.system(\"squeue -u eisenaj\")"
   ]
  },
  {
   "cell_type": "code",
   "execution_count": 470,
   "id": "710894be",
   "metadata": {},
   "outputs": [
    {
     "data": {
      "text/plain": [
       "30"
      ]
     },
     "execution_count": 470,
     "metadata": {},
     "output_type": "execute_result"
    }
   ],
   "source": [
    "len(mp_args['data_processing_df'])"
   ]
  },
  {
   "cell_type": "markdown",
   "id": "915820bc",
   "metadata": {},
   "source": [
    "# Load In Results"
   ]
  },
  {
   "cell_type": "code",
   "execution_count": 27,
   "id": "353d0946",
   "metadata": {},
   "outputs": [],
   "source": [
    "results_dir = \"/scratch2/weka/millerlab/eisenaj/ChaoticConsciousness/grid_search_results\""
   ]
  },
  {
   "cell_type": "code",
   "execution_count": 28,
   "id": "f7cbb702",
   "metadata": {},
   "outputs": [],
   "source": [
    "session_results = {}\n",
    "# for session in os.listdir(results_dir):\n",
    "for session in [session]:\n",
    "    session_results[session] = None\n",
    "    norm_folder = \"NOT_NORMED\" if not mp_args['norm'] else \"NORMED\"\n",
    "    for area in os.listdir(os.path.join(results_dir, session, norm_folder)):\n",
    "        for f in os.listdir(os.path.join(results_dir, session, norm_folder, area)):\n",
    "            t = float(f.split('_')[0])\n",
    "            file_path = os.path.join(results_dir, session, norm_folder, area, f)\n",
    "            df = pd.DataFrame(pd.read_pickle(file_path))\n",
    "            if np.isnan(df.ip).sum() > 0:\n",
    "                print(file_path)\n",
    "            if 'matrix_size' not in df.columns:\n",
    "                df['matrix_size'] = 6400\n",
    "            if session_results[session] is None:\n",
    "#                 session_results[session] = df[['window', 'p', 'r_thresh', 'lamb', 'ip']]\n",
    "                session_results[session] = df[['window', 'matrix_size', 'r_thresh', 'lamb', 'ip']]\n",
    "#                 session_results[session] = session_results[session].set_index(['window', 'p', 'r_thresh', 'lamb'])\n",
    "                session_results[session] = session_results[session].set_index(['window', 'matrix_size', 'r_thresh', 'lamb'])\n",
    "                session_results[session]['count'] = 1\n",
    "                session_results[session]['ip_list'] = session_results[session].ip.apply(lambda x: [x])\n",
    "                session_results[session]['file_list'] = [file_path]*len(df)\n",
    "                session_results[session]['file_list'] = session_results[session]['file_list'].apply(lambda x: [x])\n",
    "            else:\n",
    "#                 df = df.set_index(['window', 'p', 'r_thresh', 'lamb'])\n",
    "                df = df.set_index(['window', 'matrix_size', 'r_thresh', 'lamb'])\n",
    "                for i in range(len(df)):\n",
    "                    index_val = df.index[i]\n",
    "                    row = df[['ip']].iloc[i]\n",
    "                    if index_val in session_results[session].index:\n",
    "                        session_results[session].loc[index_val, 'ip'] += row.ip\n",
    "                        session_results[session].loc[index_val, 'count'] += 1\n",
    "                        session_results[session].loc[index_val, 'ip_list'].append(row.ip)\n",
    "                        session_results[session].loc[index_val, 'file_list'].append(file_path)\n",
    "                    else:\n",
    "                        session_results[session] = pd.concat([session_results[session], df[['ip']].iloc[i:i+1]])\n",
    "                        session_results[session].loc[index_val, 'count'] = 1\n",
    "                        session_results[session].loc[index_val, 'ip_list'] = [row.ip]\n",
    "                        session_results[session].loc[index_val, 'file_list'] = [file_path]\n",
    "    session_results[session].ip = session_results[session].ip/session_results[session]['count']\n",
    "    window, matrix_size, r_thresh, lamb = session_results[session].ip.idxmax()\n",
    "    session_results[session] = dict(\n",
    "        df=session_results[session],\n",
    "        window=window,\n",
    "        matrix_size=matrix_size,\n",
    "        r_thresh=r_thresh,\n",
    "        lamb=lamb\n",
    "    )"
   ]
  },
  {
   "cell_type": "code",
   "execution_count": 29,
   "id": "dfaede68",
   "metadata": {},
   "outputs": [],
   "source": [
    "window, matrix_size, r_thresh, lamb = session_results[session]['window'], session_results[session]['matrix_size'], session_results[session]['r_thresh'], session_results[session]['lamb']"
   ]
  },
  {
   "cell_type": "code",
   "execution_count": 30,
   "id": "36521779",
   "metadata": {},
   "outputs": [
    {
     "data": {
      "text/html": [
       "<div>\n",
       "<style scoped>\n",
       "    .dataframe tbody tr th:only-of-type {\n",
       "        vertical-align: middle;\n",
       "    }\n",
       "\n",
       "    .dataframe tbody tr th {\n",
       "        vertical-align: top;\n",
       "    }\n",
       "\n",
       "    .dataframe thead th {\n",
       "        text-align: right;\n",
       "    }\n",
       "</style>\n",
       "<table border=\"1\" class=\"dataframe\">\n",
       "  <thead>\n",
       "    <tr style=\"text-align: right;\">\n",
       "      <th></th>\n",
       "      <th></th>\n",
       "      <th></th>\n",
       "      <th></th>\n",
       "      <th>ip</th>\n",
       "      <th>count</th>\n",
       "      <th>ip_list</th>\n",
       "      <th>file_list</th>\n",
       "    </tr>\n",
       "    <tr>\n",
       "      <th>window</th>\n",
       "      <th>matrix_size</th>\n",
       "      <th>r_thresh</th>\n",
       "      <th>lamb</th>\n",
       "      <th></th>\n",
       "      <th></th>\n",
       "      <th></th>\n",
       "      <th></th>\n",
       "    </tr>\n",
       "  </thead>\n",
       "  <tbody>\n",
       "    <tr>\n",
       "      <th rowspan=\"40\" valign=\"top\">15000</th>\n",
       "      <th rowspan=\"40\" valign=\"top\">6400</th>\n",
       "      <th rowspan=\"8\" valign=\"top\">0.1</th>\n",
       "      <th>0.000000e+00</th>\n",
       "      <td>0.623593</td>\n",
       "      <td>30</td>\n",
       "      <td>[0.7990984537005424, 0.5833379720449448, 0.629...</td>\n",
       "      <td>[/scratch2/weka/millerlab/eisenaj/ChaoticConsc...</td>\n",
       "    </tr>\n",
       "    <tr>\n",
       "      <th>1.000000e-12</th>\n",
       "      <td>0.623593</td>\n",
       "      <td>30</td>\n",
       "      <td>[0.7990984537005424, 0.5833379720449448, 0.629...</td>\n",
       "      <td>[/scratch2/weka/millerlab/eisenaj/ChaoticConsc...</td>\n",
       "    </tr>\n",
       "    <tr>\n",
       "      <th>1.000000e-08</th>\n",
       "      <td>0.623593</td>\n",
       "      <td>30</td>\n",
       "      <td>[0.7990984537005424, 0.5833379720449448, 0.629...</td>\n",
       "      <td>[/scratch2/weka/millerlab/eisenaj/ChaoticConsc...</td>\n",
       "    </tr>\n",
       "    <tr>\n",
       "      <th>1.000000e-04</th>\n",
       "      <td>0.633886</td>\n",
       "      <td>30</td>\n",
       "      <td>[0.797158238351345, 0.5899885121583939, 0.6298...</td>\n",
       "      <td>[/scratch2/weka/millerlab/eisenaj/ChaoticConsc...</td>\n",
       "    </tr>\n",
       "    <tr>\n",
       "      <th>1.000000e-03</th>\n",
       "      <td>0.691347</td>\n",
       "      <td>30</td>\n",
       "      <td>[0.7802028896212578, 0.6373133909106254, 0.634...</td>\n",
       "      <td>[/scratch2/weka/millerlab/eisenaj/ChaoticConsc...</td>\n",
       "    </tr>\n",
       "    <tr>\n",
       "      <th>1.000000e-02</th>\n",
       "      <td>0.673690</td>\n",
       "      <td>30</td>\n",
       "      <td>[0.6689102739691735, 0.6729800706505775, 0.628...</td>\n",
       "      <td>[/scratch2/weka/millerlab/eisenaj/ChaoticConsc...</td>\n",
       "    </tr>\n",
       "    <tr>\n",
       "      <th>1.000000e-01</th>\n",
       "      <td>0.409812</td>\n",
       "      <td>30</td>\n",
       "      <td>[0.41699592566490173, 0.34617659395933154, 0.4...</td>\n",
       "      <td>[/scratch2/weka/millerlab/eisenaj/ChaoticConsc...</td>\n",
       "    </tr>\n",
       "    <tr>\n",
       "      <th>1.000000e+00</th>\n",
       "      <td>0.171827</td>\n",
       "      <td>30</td>\n",
       "      <td>[0.19526755174994467, 0.12529799854755402, 0.2...</td>\n",
       "      <td>[/scratch2/weka/millerlab/eisenaj/ChaoticConsc...</td>\n",
       "    </tr>\n",
       "    <tr>\n",
       "      <th rowspan=\"8\" valign=\"top\">0.2</th>\n",
       "      <th>0.000000e+00</th>\n",
       "      <td>0.626575</td>\n",
       "      <td>30</td>\n",
       "      <td>[0.7920070452690124, 0.5633152021765709, 0.628...</td>\n",
       "      <td>[/scratch2/weka/millerlab/eisenaj/ChaoticConsc...</td>\n",
       "    </tr>\n",
       "    <tr>\n",
       "      <th>1.000000e-12</th>\n",
       "      <td>0.626575</td>\n",
       "      <td>30</td>\n",
       "      <td>[0.7920070452690124, 0.5633152021765709, 0.628...</td>\n",
       "      <td>[/scratch2/weka/millerlab/eisenaj/ChaoticConsc...</td>\n",
       "    </tr>\n",
       "    <tr>\n",
       "      <th>1.000000e-08</th>\n",
       "      <td>0.626575</td>\n",
       "      <td>30</td>\n",
       "      <td>[0.7920070452690124, 0.5633152021765709, 0.628...</td>\n",
       "      <td>[/scratch2/weka/millerlab/eisenaj/ChaoticConsc...</td>\n",
       "    </tr>\n",
       "    <tr>\n",
       "      <th>1.000000e-04</th>\n",
       "      <td>0.636272</td>\n",
       "      <td>30</td>\n",
       "      <td>[0.7900433906316757, 0.5704211112260817, 0.628...</td>\n",
       "      <td>[/scratch2/weka/millerlab/eisenaj/ChaoticConsc...</td>\n",
       "    </tr>\n",
       "    <tr>\n",
       "      <th>1.000000e-03</th>\n",
       "      <td>0.691170</td>\n",
       "      <td>30</td>\n",
       "      <td>[0.7726110096573829, 0.621077106654644, 0.6328...</td>\n",
       "      <td>[/scratch2/weka/millerlab/eisenaj/ChaoticConsc...</td>\n",
       "    </tr>\n",
       "    <tr>\n",
       "      <th>1.000000e-02</th>\n",
       "      <td>0.673987</td>\n",
       "      <td>30</td>\n",
       "      <td>[0.665973418712616, 0.6667414348721504, 0.6237...</td>\n",
       "      <td>[/scratch2/weka/millerlab/eisenaj/ChaoticConsc...</td>\n",
       "    </tr>\n",
       "    <tr>\n",
       "      <th>1.000000e-01</th>\n",
       "      <td>0.409449</td>\n",
       "      <td>30</td>\n",
       "      <td>[0.4135614815354347, 0.3433430901169776, 0.490...</td>\n",
       "      <td>[/scratch2/weka/millerlab/eisenaj/ChaoticConsc...</td>\n",
       "    </tr>\n",
       "    <tr>\n",
       "      <th>1.000000e+00</th>\n",
       "      <td>0.171779</td>\n",
       "      <td>30</td>\n",
       "      <td>[0.19378076958656312, 0.1255531268119812, 0.25...</td>\n",
       "      <td>[/scratch2/weka/millerlab/eisenaj/ChaoticConsc...</td>\n",
       "    </tr>\n",
       "    <tr>\n",
       "      <th rowspan=\"8\" valign=\"top\">0.3</th>\n",
       "      <th>0.000000e+00</th>\n",
       "      <td>0.636498</td>\n",
       "      <td>30</td>\n",
       "      <td>[0.8026043890118599, 0.546601695895195, 0.6374...</td>\n",
       "      <td>[/scratch2/weka/millerlab/eisenaj/ChaoticConsc...</td>\n",
       "    </tr>\n",
       "    <tr>\n",
       "      <th>1.000000e-12</th>\n",
       "      <td>0.636498</td>\n",
       "      <td>30</td>\n",
       "      <td>[0.8026043890118599, 0.546601695895195, 0.6374...</td>\n",
       "      <td>[/scratch2/weka/millerlab/eisenaj/ChaoticConsc...</td>\n",
       "    </tr>\n",
       "    <tr>\n",
       "      <th>1.000000e-08</th>\n",
       "      <td>0.636498</td>\n",
       "      <td>30</td>\n",
       "      <td>[0.8026043890118599, 0.546601695895195, 0.6374...</td>\n",
       "      <td>[/scratch2/weka/millerlab/eisenaj/ChaoticConsc...</td>\n",
       "    </tr>\n",
       "    <tr>\n",
       "      <th>1.000000e-04</th>\n",
       "      <td>0.644438</td>\n",
       "      <td>30</td>\n",
       "      <td>[0.8007096573114394, 0.5531557229161262, 0.638...</td>\n",
       "      <td>[/scratch2/weka/millerlab/eisenaj/ChaoticConsc...</td>\n",
       "    </tr>\n",
       "    <tr>\n",
       "      <th>1.000000e-03</th>\n",
       "      <td>0.690676</td>\n",
       "      <td>30</td>\n",
       "      <td>[0.7836451718211174, 0.601457650899887, 0.6413...</td>\n",
       "      <td>[/scratch2/weka/millerlab/eisenaj/ChaoticConsc...</td>\n",
       "    </tr>\n",
       "    <tr>\n",
       "      <th>1.000000e-02</th>\n",
       "      <td>0.673418</td>\n",
       "      <td>30</td>\n",
       "      <td>[0.6692859498262405, 0.6626029615402221, 0.628...</td>\n",
       "      <td>[/scratch2/weka/millerlab/eisenaj/ChaoticConsc...</td>\n",
       "    </tr>\n",
       "    <tr>\n",
       "      <th>1.000000e-01</th>\n",
       "      <td>0.409661</td>\n",
       "      <td>30</td>\n",
       "      <td>[0.4138441290259361, 0.34333667004108426, 0.48...</td>\n",
       "      <td>[/scratch2/weka/millerlab/eisenaj/ChaoticConsc...</td>\n",
       "    </tr>\n",
       "    <tr>\n",
       "      <th>1.000000e+00</th>\n",
       "      <td>0.171718</td>\n",
       "      <td>30</td>\n",
       "      <td>[0.19378116738796233, 0.1256105558425188, 0.24...</td>\n",
       "      <td>[/scratch2/weka/millerlab/eisenaj/ChaoticConsc...</td>\n",
       "    </tr>\n",
       "    <tr>\n",
       "      <th rowspan=\"8\" valign=\"top\">0.4</th>\n",
       "      <th>0.000000e+00</th>\n",
       "      <td>0.604561</td>\n",
       "      <td>30</td>\n",
       "      <td>[0.7994410646557808, 0.5719689705371857, 0.625...</td>\n",
       "      <td>[/scratch2/weka/millerlab/eisenaj/ChaoticConsc...</td>\n",
       "    </tr>\n",
       "    <tr>\n",
       "      <th>1.000000e-12</th>\n",
       "      <td>0.604561</td>\n",
       "      <td>30</td>\n",
       "      <td>[0.7994410646557808, 0.5719689705371857, 0.625...</td>\n",
       "      <td>[/scratch2/weka/millerlab/eisenaj/ChaoticConsc...</td>\n",
       "    </tr>\n",
       "    <tr>\n",
       "      <th>1.000000e-08</th>\n",
       "      <td>0.604561</td>\n",
       "      <td>30</td>\n",
       "      <td>[0.7994410646557808, 0.5719689705371857, 0.625...</td>\n",
       "      <td>[/scratch2/weka/millerlab/eisenaj/ChaoticConsc...</td>\n",
       "    </tr>\n",
       "    <tr>\n",
       "      <th>1.000000e-04</th>\n",
       "      <td>0.615426</td>\n",
       "      <td>30</td>\n",
       "      <td>[0.797348766386509, 0.578025271654129, 0.62670...</td>\n",
       "      <td>[/scratch2/weka/millerlab/eisenaj/ChaoticConsc...</td>\n",
       "    </tr>\n",
       "    <tr>\n",
       "      <th>1.000000e-03</th>\n",
       "      <td>0.678124</td>\n",
       "      <td>30</td>\n",
       "      <td>[0.7792585551738739, 0.6210707365274429, 0.631...</td>\n",
       "      <td>[/scratch2/weka/millerlab/eisenaj/ChaoticConsc...</td>\n",
       "    </tr>\n",
       "    <tr>\n",
       "      <th>1.000000e-02</th>\n",
       "      <td>0.672593</td>\n",
       "      <td>30</td>\n",
       "      <td>[0.6675650209188461, 0.658860380768776, 0.6248...</td>\n",
       "      <td>[/scratch2/weka/millerlab/eisenaj/ChaoticConsc...</td>\n",
       "    </tr>\n",
       "    <tr>\n",
       "      <th>1.000000e-01</th>\n",
       "      <td>0.409796</td>\n",
       "      <td>30</td>\n",
       "      <td>[0.4135508232116699, 0.34163116246461867, 0.48...</td>\n",
       "      <td>[/scratch2/weka/millerlab/eisenaj/ChaoticConsc...</td>\n",
       "    </tr>\n",
       "    <tr>\n",
       "      <th>1.000000e+00</th>\n",
       "      <td>0.171945</td>\n",
       "      <td>30</td>\n",
       "      <td>[0.19435164391994475, 0.12541164310276506, 0.2...</td>\n",
       "      <td>[/scratch2/weka/millerlab/eisenaj/ChaoticConsc...</td>\n",
       "    </tr>\n",
       "    <tr>\n",
       "      <th rowspan=\"8\" valign=\"top\">0.5</th>\n",
       "      <th>0.000000e+00</th>\n",
       "      <td>0.605726</td>\n",
       "      <td>30</td>\n",
       "      <td>[0.8010303179025651, 0.5746708513498306, 0.633...</td>\n",
       "      <td>[/scratch2/weka/millerlab/eisenaj/ChaoticConsc...</td>\n",
       "    </tr>\n",
       "    <tr>\n",
       "      <th>1.000000e-12</th>\n",
       "      <td>0.605726</td>\n",
       "      <td>30</td>\n",
       "      <td>[0.8010303179025651, 0.5746708513498306, 0.633...</td>\n",
       "      <td>[/scratch2/weka/millerlab/eisenaj/ChaoticConsc...</td>\n",
       "    </tr>\n",
       "    <tr>\n",
       "      <th>1.000000e-08</th>\n",
       "      <td>0.605726</td>\n",
       "      <td>30</td>\n",
       "      <td>[0.8010303179025651, 0.5746708513498306, 0.633...</td>\n",
       "      <td>[/scratch2/weka/millerlab/eisenaj/ChaoticConsc...</td>\n",
       "    </tr>\n",
       "    <tr>\n",
       "      <th>1.000000e-04</th>\n",
       "      <td>0.616377</td>\n",
       "      <td>30</td>\n",
       "      <td>[0.7991235247850419, 0.5812610650062561, 0.633...</td>\n",
       "      <td>[/scratch2/weka/millerlab/eisenaj/ChaoticConsc...</td>\n",
       "    </tr>\n",
       "    <tr>\n",
       "      <th>1.000000e-03</th>\n",
       "      <td>0.678003</td>\n",
       "      <td>30</td>\n",
       "      <td>[0.7820315589904785, 0.6285709509253502, 0.637...</td>\n",
       "      <td>[/scratch2/weka/millerlab/eisenaj/ChaoticConsc...</td>\n",
       "    </tr>\n",
       "    <tr>\n",
       "      <th>1.000000e-02</th>\n",
       "      <td>0.673208</td>\n",
       "      <td>30</td>\n",
       "      <td>[0.6693736189007758, 0.6688178119063377, 0.627...</td>\n",
       "      <td>[/scratch2/weka/millerlab/eisenaj/ChaoticConsc...</td>\n",
       "    </tr>\n",
       "    <tr>\n",
       "      <th>1.000000e-01</th>\n",
       "      <td>0.409685</td>\n",
       "      <td>30</td>\n",
       "      <td>[0.41341881394386293, 0.3436514107584953, 0.48...</td>\n",
       "      <td>[/scratch2/weka/millerlab/eisenaj/ChaoticConsc...</td>\n",
       "    </tr>\n",
       "    <tr>\n",
       "      <th>1.000000e+00</th>\n",
       "      <td>0.171838</td>\n",
       "      <td>30</td>\n",
       "      <td>[0.19350509938597682, 0.1256712473332882, 0.24...</td>\n",
       "      <td>[/scratch2/weka/millerlab/eisenaj/ChaoticConsc...</td>\n",
       "    </tr>\n",
       "  </tbody>\n",
       "</table>\n",
       "</div>"
      ],
      "text/plain": [
       "                                                ip  count  \\\n",
       "window matrix_size r_thresh lamb                            \n",
       "15000  6400        0.1      0.000000e+00  0.623593     30   \n",
       "                            1.000000e-12  0.623593     30   \n",
       "                            1.000000e-08  0.623593     30   \n",
       "                            1.000000e-04  0.633886     30   \n",
       "                            1.000000e-03  0.691347     30   \n",
       "                            1.000000e-02  0.673690     30   \n",
       "                            1.000000e-01  0.409812     30   \n",
       "                            1.000000e+00  0.171827     30   \n",
       "                   0.2      0.000000e+00  0.626575     30   \n",
       "                            1.000000e-12  0.626575     30   \n",
       "                            1.000000e-08  0.626575     30   \n",
       "                            1.000000e-04  0.636272     30   \n",
       "                            1.000000e-03  0.691170     30   \n",
       "                            1.000000e-02  0.673987     30   \n",
       "                            1.000000e-01  0.409449     30   \n",
       "                            1.000000e+00  0.171779     30   \n",
       "                   0.3      0.000000e+00  0.636498     30   \n",
       "                            1.000000e-12  0.636498     30   \n",
       "                            1.000000e-08  0.636498     30   \n",
       "                            1.000000e-04  0.644438     30   \n",
       "                            1.000000e-03  0.690676     30   \n",
       "                            1.000000e-02  0.673418     30   \n",
       "                            1.000000e-01  0.409661     30   \n",
       "                            1.000000e+00  0.171718     30   \n",
       "                   0.4      0.000000e+00  0.604561     30   \n",
       "                            1.000000e-12  0.604561     30   \n",
       "                            1.000000e-08  0.604561     30   \n",
       "                            1.000000e-04  0.615426     30   \n",
       "                            1.000000e-03  0.678124     30   \n",
       "                            1.000000e-02  0.672593     30   \n",
       "                            1.000000e-01  0.409796     30   \n",
       "                            1.000000e+00  0.171945     30   \n",
       "                   0.5      0.000000e+00  0.605726     30   \n",
       "                            1.000000e-12  0.605726     30   \n",
       "                            1.000000e-08  0.605726     30   \n",
       "                            1.000000e-04  0.616377     30   \n",
       "                            1.000000e-03  0.678003     30   \n",
       "                            1.000000e-02  0.673208     30   \n",
       "                            1.000000e-01  0.409685     30   \n",
       "                            1.000000e+00  0.171838     30   \n",
       "\n",
       "                                                                                    ip_list  \\\n",
       "window matrix_size r_thresh lamb                                                              \n",
       "15000  6400        0.1      0.000000e+00  [0.7990984537005424, 0.5833379720449448, 0.629...   \n",
       "                            1.000000e-12  [0.7990984537005424, 0.5833379720449448, 0.629...   \n",
       "                            1.000000e-08  [0.7990984537005424, 0.5833379720449448, 0.629...   \n",
       "                            1.000000e-04  [0.797158238351345, 0.5899885121583939, 0.6298...   \n",
       "                            1.000000e-03  [0.7802028896212578, 0.6373133909106254, 0.634...   \n",
       "                            1.000000e-02  [0.6689102739691735, 0.6729800706505775, 0.628...   \n",
       "                            1.000000e-01  [0.41699592566490173, 0.34617659395933154, 0.4...   \n",
       "                            1.000000e+00  [0.19526755174994467, 0.12529799854755402, 0.2...   \n",
       "                   0.2      0.000000e+00  [0.7920070452690124, 0.5633152021765709, 0.628...   \n",
       "                            1.000000e-12  [0.7920070452690124, 0.5633152021765709, 0.628...   \n",
       "                            1.000000e-08  [0.7920070452690124, 0.5633152021765709, 0.628...   \n",
       "                            1.000000e-04  [0.7900433906316757, 0.5704211112260817, 0.628...   \n",
       "                            1.000000e-03  [0.7726110096573829, 0.621077106654644, 0.6328...   \n",
       "                            1.000000e-02  [0.665973418712616, 0.6667414348721504, 0.6237...   \n",
       "                            1.000000e-01  [0.4135614815354347, 0.3433430901169776, 0.490...   \n",
       "                            1.000000e+00  [0.19378076958656312, 0.1255531268119812, 0.25...   \n",
       "                   0.3      0.000000e+00  [0.8026043890118599, 0.546601695895195, 0.6374...   \n",
       "                            1.000000e-12  [0.8026043890118599, 0.546601695895195, 0.6374...   \n",
       "                            1.000000e-08  [0.8026043890118599, 0.546601695895195, 0.6374...   \n",
       "                            1.000000e-04  [0.8007096573114394, 0.5531557229161262, 0.638...   \n",
       "                            1.000000e-03  [0.7836451718211174, 0.601457650899887, 0.6413...   \n",
       "                            1.000000e-02  [0.6692859498262405, 0.6626029615402221, 0.628...   \n",
       "                            1.000000e-01  [0.4138441290259361, 0.34333667004108426, 0.48...   \n",
       "                            1.000000e+00  [0.19378116738796233, 0.1256105558425188, 0.24...   \n",
       "                   0.4      0.000000e+00  [0.7994410646557808, 0.5719689705371857, 0.625...   \n",
       "                            1.000000e-12  [0.7994410646557808, 0.5719689705371857, 0.625...   \n",
       "                            1.000000e-08  [0.7994410646557808, 0.5719689705371857, 0.625...   \n",
       "                            1.000000e-04  [0.797348766386509, 0.578025271654129, 0.62670...   \n",
       "                            1.000000e-03  [0.7792585551738739, 0.6210707365274429, 0.631...   \n",
       "                            1.000000e-02  [0.6675650209188461, 0.658860380768776, 0.6248...   \n",
       "                            1.000000e-01  [0.4135508232116699, 0.34163116246461867, 0.48...   \n",
       "                            1.000000e+00  [0.19435164391994475, 0.12541164310276506, 0.2...   \n",
       "                   0.5      0.000000e+00  [0.8010303179025651, 0.5746708513498306, 0.633...   \n",
       "                            1.000000e-12  [0.8010303179025651, 0.5746708513498306, 0.633...   \n",
       "                            1.000000e-08  [0.8010303179025651, 0.5746708513498306, 0.633...   \n",
       "                            1.000000e-04  [0.7991235247850419, 0.5812610650062561, 0.633...   \n",
       "                            1.000000e-03  [0.7820315589904785, 0.6285709509253502, 0.637...   \n",
       "                            1.000000e-02  [0.6693736189007758, 0.6688178119063377, 0.627...   \n",
       "                            1.000000e-01  [0.41341881394386293, 0.3436514107584953, 0.48...   \n",
       "                            1.000000e+00  [0.19350509938597682, 0.1256712473332882, 0.24...   \n",
       "\n",
       "                                                                                  file_list  \n",
       "window matrix_size r_thresh lamb                                                             \n",
       "15000  6400        0.1      0.000000e+00  [/scratch2/weka/millerlab/eisenaj/ChaoticConsc...  \n",
       "                            1.000000e-12  [/scratch2/weka/millerlab/eisenaj/ChaoticConsc...  \n",
       "                            1.000000e-08  [/scratch2/weka/millerlab/eisenaj/ChaoticConsc...  \n",
       "                            1.000000e-04  [/scratch2/weka/millerlab/eisenaj/ChaoticConsc...  \n",
       "                            1.000000e-03  [/scratch2/weka/millerlab/eisenaj/ChaoticConsc...  \n",
       "                            1.000000e-02  [/scratch2/weka/millerlab/eisenaj/ChaoticConsc...  \n",
       "                            1.000000e-01  [/scratch2/weka/millerlab/eisenaj/ChaoticConsc...  \n",
       "                            1.000000e+00  [/scratch2/weka/millerlab/eisenaj/ChaoticConsc...  \n",
       "                   0.2      0.000000e+00  [/scratch2/weka/millerlab/eisenaj/ChaoticConsc...  \n",
       "                            1.000000e-12  [/scratch2/weka/millerlab/eisenaj/ChaoticConsc...  \n",
       "                            1.000000e-08  [/scratch2/weka/millerlab/eisenaj/ChaoticConsc...  \n",
       "                            1.000000e-04  [/scratch2/weka/millerlab/eisenaj/ChaoticConsc...  \n",
       "                            1.000000e-03  [/scratch2/weka/millerlab/eisenaj/ChaoticConsc...  \n",
       "                            1.000000e-02  [/scratch2/weka/millerlab/eisenaj/ChaoticConsc...  \n",
       "                            1.000000e-01  [/scratch2/weka/millerlab/eisenaj/ChaoticConsc...  \n",
       "                            1.000000e+00  [/scratch2/weka/millerlab/eisenaj/ChaoticConsc...  \n",
       "                   0.3      0.000000e+00  [/scratch2/weka/millerlab/eisenaj/ChaoticConsc...  \n",
       "                            1.000000e-12  [/scratch2/weka/millerlab/eisenaj/ChaoticConsc...  \n",
       "                            1.000000e-08  [/scratch2/weka/millerlab/eisenaj/ChaoticConsc...  \n",
       "                            1.000000e-04  [/scratch2/weka/millerlab/eisenaj/ChaoticConsc...  \n",
       "                            1.000000e-03  [/scratch2/weka/millerlab/eisenaj/ChaoticConsc...  \n",
       "                            1.000000e-02  [/scratch2/weka/millerlab/eisenaj/ChaoticConsc...  \n",
       "                            1.000000e-01  [/scratch2/weka/millerlab/eisenaj/ChaoticConsc...  \n",
       "                            1.000000e+00  [/scratch2/weka/millerlab/eisenaj/ChaoticConsc...  \n",
       "                   0.4      0.000000e+00  [/scratch2/weka/millerlab/eisenaj/ChaoticConsc...  \n",
       "                            1.000000e-12  [/scratch2/weka/millerlab/eisenaj/ChaoticConsc...  \n",
       "                            1.000000e-08  [/scratch2/weka/millerlab/eisenaj/ChaoticConsc...  \n",
       "                            1.000000e-04  [/scratch2/weka/millerlab/eisenaj/ChaoticConsc...  \n",
       "                            1.000000e-03  [/scratch2/weka/millerlab/eisenaj/ChaoticConsc...  \n",
       "                            1.000000e-02  [/scratch2/weka/millerlab/eisenaj/ChaoticConsc...  \n",
       "                            1.000000e-01  [/scratch2/weka/millerlab/eisenaj/ChaoticConsc...  \n",
       "                            1.000000e+00  [/scratch2/weka/millerlab/eisenaj/ChaoticConsc...  \n",
       "                   0.5      0.000000e+00  [/scratch2/weka/millerlab/eisenaj/ChaoticConsc...  \n",
       "                            1.000000e-12  [/scratch2/weka/millerlab/eisenaj/ChaoticConsc...  \n",
       "                            1.000000e-08  [/scratch2/weka/millerlab/eisenaj/ChaoticConsc...  \n",
       "                            1.000000e-04  [/scratch2/weka/millerlab/eisenaj/ChaoticConsc...  \n",
       "                            1.000000e-03  [/scratch2/weka/millerlab/eisenaj/ChaoticConsc...  \n",
       "                            1.000000e-02  [/scratch2/weka/millerlab/eisenaj/ChaoticConsc...  \n",
       "                            1.000000e-01  [/scratch2/weka/millerlab/eisenaj/ChaoticConsc...  \n",
       "                            1.000000e+00  [/scratch2/weka/millerlab/eisenaj/ChaoticConsc...  "
      ]
     },
     "execution_count": 30,
     "metadata": {},
     "output_type": "execute_result"
    }
   ],
   "source": [
    "session_results[session]['df']"
   ]
  },
  {
   "cell_type": "code",
   "execution_count": 31,
   "id": "40d67410",
   "metadata": {},
   "outputs": [
    {
     "data": {
      "text/plain": [
       "(15000, 6400, 0.1, 0.001)"
      ]
     },
     "execution_count": 31,
     "metadata": {},
     "output_type": "execute_result"
    }
   ],
   "source": [
    "window, matrix_size, r_thresh, lamb"
   ]
  },
  {
   "cell_type": "markdown",
   "id": "4f47758f",
   "metadata": {},
   "source": [
    "# Queue the Entire Session"
   ]
  },
  {
   "cell_type": "code",
   "execution_count": 32,
   "id": "aee602b9",
   "metadata": {},
   "outputs": [],
   "source": [
    "mp_args['RESULTS_DIR'] = '/scratch2/weka/millerlab/eisenaj/ChaoticConsciousness/session_results'"
   ]
  },
  {
   "cell_type": "code",
   "execution_count": 33,
   "id": "90796647",
   "metadata": {},
   "outputs": [],
   "source": [
    "mp_args['parameter_grid'] = ParameterGrid(\n",
    "    window_vals = np.array([window]),\n",
    "    matrix_size_vals = np.array([matrix_size]),\n",
    "    r_thresh_vals = np.array([r_thresh]),\n",
    "    lamb_vals = np.array([lamb]),\n",
    ")\n",
    "mp_args['COMPUTE_CHROOTS'] = True\n",
    "mp_args['TRACK_RESEEDS'] = False\n",
    "mp_args['COMPUTE_IP'] = True"
   ]
  },
  {
   "cell_type": "code",
   "execution_count": 34,
   "id": "4559288d",
   "metadata": {},
   "outputs": [],
   "source": [
    "# mp_args['USE_CUDA'] = False\n",
    "# mp_args['NUM_WORKERS'] = 60\n",
    "\n",
    "mp_args['USE_CUDA'] = True\n",
    "mp_args['NUM_WORKERS'] = 4"
   ]
  },
  {
   "cell_type": "code",
   "execution_count": 35,
   "id": "e5e87dd5",
   "metadata": {},
   "outputs": [],
   "source": [
    "stride = 60000\n",
    "data_processing_rows = []\n",
    "for area in areas:\n",
    "    if area == 'all':\n",
    "        unit_indices = np.arange(len(electrode_info['area']))\n",
    "    else:\n",
    "        unit_indices = np.where(electrode_info['area'] == area)[0]\n",
    "        \n",
    "    t = 0\n",
    "    while t + window <= len(lfp_schema['index'][0]):\n",
    "        row = dict(\n",
    "            session=session,\n",
    "            area=area,\n",
    "            window_start=t*dt,\n",
    "            window_end=(t + window + mp_args['T_pred'])*dt,\n",
    "            directory=directory,\n",
    "            dimension_inds=unit_indices\n",
    "        )\n",
    "        data_processing_rows.append(row)\n",
    "        t += stride\n",
    "data_processing_df = pd.DataFrame(data_processing_rows)\n",
    "mp_args['data_processing_df'] = data_processing_df\n",
    "data_processing_path = os.path.join(data_processing_args_dir, f\"mp_args_{session}_FULL_{'NORMED' if mp_args['norm'] else ''}.pkl\")\n",
    "pd.to_pickle(mp_args, data_processing_path)"
   ]
  },
  {
   "cell_type": "code",
   "execution_count": 42,
   "id": "556f94cd",
   "metadata": {},
   "outputs": [
    {
     "data": {
      "text/plain": [
       "1015"
      ]
     },
     "execution_count": 42,
     "metadata": {},
     "output_type": "execute_result"
    }
   ],
   "source": [
    "len(mp_args['data_processing_df'])"
   ]
  },
  {
   "cell_type": "code",
   "execution_count": 43,
   "id": "d2bfaa5c",
   "metadata": {},
   "outputs": [
    {
     "name": "stdout",
     "output_type": "stream",
     "text": [
      "Submitted batch job 29647206\n"
     ]
    }
   ],
   "source": [
    "if not mp_args['USE_CUDA']:\n",
    "    os.system(f\"sbatch --gres=gpu:0 --ntasks=1 --cpus-per-task={int(mp_args['NUM_WORKERS']*1.5)} --mem=256GB /om2/user/eisenaj/code/shell_scripts/DeLASE/mp_delase.sh {data_processing_path}\")\n",
    "else:\n",
    "    os.system(f\"sbatch --gres=gpu:{mp_args['NUM_WORKERS']} /om2/user/eisenaj/code/shell_scripts/DeLASE/mp_delase.sh {data_processing_path}\")"
   ]
  },
  {
   "cell_type": "code",
   "execution_count": 45,
   "id": "c50ede1a",
   "metadata": {},
   "outputs": [
    {
     "name": "stdout",
     "output_type": "stream",
     "text": [
      "             JOBID PARTITION     NAME     USER ST       TIME  NODES NODELIST(REASON)\n",
      "          29628812 millerlab cha-jupy  eisenaj  R 1-13:55:13      1 node034\n",
      "          29647206    normal   delase  eisenaj  R       0:03      1 node067\n",
      "          29640813    normal   delase  eisenaj  R   10:46:46      1 node059\n"
     ]
    },
    {
     "data": {
      "text/plain": [
       "0"
      ]
     },
     "execution_count": 45,
     "metadata": {},
     "output_type": "execute_result"
    }
   ],
   "source": [
    "os.system(\"squeue -u eisenaj\")"
   ]
  },
  {
   "cell_type": "code",
   "execution_count": 14,
   "id": "619739cf",
   "metadata": {},
   "outputs": [
    {
     "data": {
      "text/plain": [
       "0"
      ]
     },
     "execution_count": 14,
     "metadata": {},
     "output_type": "execute_result"
    }
   ],
   "source": [
    "os.system('scancel 29588655')"
   ]
  },
  {
   "cell_type": "code",
   "execution_count": 31,
   "id": "c24d9511",
   "metadata": {},
   "outputs": [
    {
     "name": "stderr",
     "output_type": "stream",
     "text": [
      "Pseudo-terminal will not be allocated because stdin is not a terminal.\r\n"
     ]
    },
    {
     "data": {
      "text/plain": [
       "2"
      ]
     },
     "execution_count": 31,
     "metadata": {},
     "output_type": "execute_result"
    }
   ],
   "source": [
    "os.system('ssh node104')"
   ]
  },
  {
   "cell_type": "markdown",
   "id": "619ef888",
   "metadata": {},
   "source": [
    "# Checking"
   ]
  },
  {
   "cell_type": "code",
   "execution_count": 51,
   "id": "ac6d4b7c",
   "metadata": {},
   "outputs": [],
   "source": [
    "def load_window_from_chunks(window_start, window_end, directory, dimension_inds=None):\n",
    "    dt = directory.end_time.iloc[0]/directory.end_ind.iloc[0]\n",
    "    window_start = int(window_start/dt)\n",
    "    window_end = int(window_end/dt)\n",
    "    \n",
    "    start_time_bool = directory.start_ind <= window_start\n",
    "    start_row = np.argmin(start_time_bool) - 1 if np.sum(start_time_bool) < len(directory) else len(directory) - 1\n",
    "    end_time_bool = directory.end_ind > window_end\n",
    "    end_row = np.argmax(end_time_bool) if np.sum(end_time_bool) > 0 else len(directory) - 1\n",
    "    \n",
    "    window_data = None\n",
    "    \n",
    "    pos_in_window = 0\n",
    "    for row_ind in range(start_row, end_row + 1):\n",
    "        row = directory.iloc[row_ind]\n",
    "        chunk = pd.read_pickle(row.filepath)\n",
    "        if dimension_inds is None:\n",
    "            dimension_inds = np.arange(chunk.shape[1])\n",
    "        if window_data is None:\n",
    "            window_data = np.zeros((window_end - window_start, len(dimension_inds)))\n",
    "                \n",
    "        if row.start_ind <= window_start:\n",
    "            start_in_chunk = window_start - row.start_ind\n",
    "        else:\n",
    "            start_in_chunk = 0\n",
    "\n",
    "        if row.end_ind <= window_end:\n",
    "            end_in_chunk = chunk.shape[0]\n",
    "        else:\n",
    "            end_in_chunk = window_end - row.start_ind\n",
    "\n",
    "        window_data[pos_in_window:pos_in_window + end_in_chunk - start_in_chunk] = chunk[start_in_chunk:end_in_chunk, dimension_inds]\n",
    "        pos_in_window += end_in_chunk - start_in_chunk\n",
    "                \n",
    "    return window_data"
   ]
  },
  {
   "cell_type": "code",
   "execution_count": 547,
   "id": "f6fb351e",
   "metadata": {},
   "outputs": [],
   "source": [
    "window, matrix_size, r_thresh, lamb = session_results[session]['window'], session_results[session]['matrix_size'],  session_results[session]['r_thresh'], session_results[session]['lamb']"
   ]
  },
  {
   "cell_type": "code",
   "execution_count": 552,
   "id": "820ec86b",
   "metadata": {},
   "outputs": [],
   "source": [
    "window, matrix_size, r_thresh, lamb = 15000, 6400, 0.1, 0"
   ]
  },
  {
   "cell_type": "code",
   "execution_count": 553,
   "id": "854b2423",
   "metadata": {},
   "outputs": [],
   "source": [
    "wake_signal = load_window_from_chunks(i, i + 20, directory, dimension_inds=None)\n",
    "# anesthesia_signal = load_window_from_chunks(2700, 2720, directory, dimension_inds=None)"
   ]
  },
  {
   "cell_type": "code",
   "execution_count": 554,
   "id": "9fbdbf88",
   "metadata": {},
   "outputs": [
    {
     "data": {
      "text/plain": [
       "array([3353.3569, 5153.3569])"
      ]
     },
     "execution_count": 554,
     "metadata": {},
     "output_type": "execute_result"
    }
   ],
   "source": [
    "session_info['drugStart']"
   ]
  },
  {
   "cell_type": "code",
   "execution_count": 555,
   "id": "43078f81",
   "metadata": {},
   "outputs": [],
   "source": [
    "# i = 500\n",
    "# # i = 480\n",
    "# area = 'vlPFC'\n",
    "# data = load_window_from_chunks(i, i + 20, directory, np.where(electrode_info['area'] == area)[0])"
   ]
  },
  {
   "cell_type": "code",
   "execution_count": 583,
   "id": "c949b362",
   "metadata": {},
   "outputs": [
    {
     "data": {
      "application/vnd.jupyter.widget-view+json": {
       "model_id": "75a7a96fd0fe465dbdb257ab6cb8587a",
       "version_major": 2,
       "version_minor": 0
      },
      "text/plain": [
       "  0%|          | 0/17 [00:00<?, ?it/s]"
      ]
     },
     "metadata": {},
     "output_type": "display_data"
    },
    {
     "name": "stdout",
     "output_type": "stream",
     "text": [
      "CPU times: user 2min 36s, sys: 21.4 s, total: 2min 58s\n",
      "Wall time: 1min 52s\n"
     ]
    }
   ],
   "source": [
    "%%time\n",
    "i = 4283.604\n",
    "# i = 480\n",
    "area = 'CPB'\n",
    "if area == 'all':\n",
    "    unit_indices = np.arange(len(electrode_info['area']))\n",
    "else:\n",
    "    unit_indices = np.where(electrode_info['area'] == area)[0]\n",
    "data = load_window_from_chunks(i, i + 20, directory, unit_indices)\n",
    "# data = data[:, [i not in [13, 20, 21, 33] for i in np.arange(data.shape[1])]]\n",
    "# data = (data - data.mean())/data.std()\n",
    "# data = (data - data.mean(axis=0))/data.std(axis=0)\n",
    "p = int(np.ceil(matrix_size/data.shape[1]))\n",
    "delase = DeLASE(data[:window], p, use_torch=True, device='cuda')\n",
    "delase.compute_havok_dmd(r_thresh=r_thresh, lamb=lamb)\n",
    "delase.dt = dt\n",
    "test_data = data[window:window + 5000]\n",
    "ip_ret = compute_integrated_performance(delase, test_data, full_return=True, verbose=True)\n",
    "delase.compute_jacobians()\n",
    "delase.get_stability(max_freq=500, max_unstable_freq=125)\n",
    "\n",
    "wake_ip_ret = ip_ret\n",
    "wake_stab = delase.stability_params.cpu()\n",
    "wake_freqs = delase.stability_freqs.cpu()"
   ]
  },
  {
   "cell_type": "code",
   "execution_count": 580,
   "id": "229d5e92",
   "metadata": {},
   "outputs": [],
   "source": [
    "df = pd.DataFrame(pd.read_pickle(os.path.join(\"/scratch2/weka/millerlab/eisenaj/ChaoticConsciousness/grid_search_results/Mary-Anesthesia-20160826-02/NOT_NORMED/CPB\", '4283.604_window_15000_matrix_size_6400')))"
   ]
  },
  {
   "cell_type": "code",
   "execution_count": 585,
   "id": "0b858c24",
   "metadata": {},
   "outputs": [
    {
     "data": {
      "text/html": [
       "<div>\n",
       "<style scoped>\n",
       "    .dataframe tbody tr th:only-of-type {\n",
       "        vertical-align: middle;\n",
       "    }\n",
       "\n",
       "    .dataframe tbody tr th {\n",
       "        vertical-align: top;\n",
       "    }\n",
       "\n",
       "    .dataframe thead th {\n",
       "        text-align: right;\n",
       "    }\n",
       "</style>\n",
       "<table border=\"1\" class=\"dataframe\">\n",
       "  <thead>\n",
       "    <tr style=\"text-align: right;\">\n",
       "      <th></th>\n",
       "      <th>window</th>\n",
       "      <th>p</th>\n",
       "      <th>r_thresh</th>\n",
       "      <th>lamb</th>\n",
       "      <th>ip</th>\n",
       "      <th>performance_curve</th>\n",
       "      <th>reseed_vals</th>\n",
       "      <th>all_metric_vals</th>\n",
       "      <th>matrix_size</th>\n",
       "    </tr>\n",
       "  </thead>\n",
       "  <tbody>\n",
       "    <tr>\n",
       "      <th>0</th>\n",
       "      <td>15000</td>\n",
       "      <td>100</td>\n",
       "      <td>0.1</td>\n",
       "      <td>0.000000e+00</td>\n",
       "      <td>-0.526541</td>\n",
       "      <td>[0.9994538, 0.9896279, 0.9487526, 0.90770125, ...</td>\n",
       "      <td>[1, 5, 10, 15, 20, 30, 40, 50, 100, 150, 200, ...</td>\n",
       "      <td>[{'autocorrel_correl': 0.99952173, 'fft_correl...</td>\n",
       "      <td>6400</td>\n",
       "    </tr>\n",
       "    <tr>\n",
       "      <th>1</th>\n",
       "      <td>15000</td>\n",
       "      <td>100</td>\n",
       "      <td>0.1</td>\n",
       "      <td>1.000000e-12</td>\n",
       "      <td>-0.526541</td>\n",
       "      <td>[0.9994538, 0.9896279, 0.9487526, 0.90770125, ...</td>\n",
       "      <td>[1, 5, 10, 15, 20, 30, 40, 50, 100, 150, 200, ...</td>\n",
       "      <td>[{'autocorrel_correl': 0.99952173, 'fft_correl...</td>\n",
       "      <td>6400</td>\n",
       "    </tr>\n",
       "    <tr>\n",
       "      <th>2</th>\n",
       "      <td>15000</td>\n",
       "      <td>100</td>\n",
       "      <td>0.1</td>\n",
       "      <td>1.000000e-08</td>\n",
       "      <td>-0.526541</td>\n",
       "      <td>[0.9994538, 0.9896279, 0.9487526, 0.90770125, ...</td>\n",
       "      <td>[1, 5, 10, 15, 20, 30, 40, 50, 100, 150, 200, ...</td>\n",
       "      <td>[{'autocorrel_correl': 0.99952173, 'fft_correl...</td>\n",
       "      <td>6400</td>\n",
       "    </tr>\n",
       "    <tr>\n",
       "      <th>3</th>\n",
       "      <td>15000</td>\n",
       "      <td>100</td>\n",
       "      <td>0.1</td>\n",
       "      <td>1.000000e-04</td>\n",
       "      <td>-0.464975</td>\n",
       "      <td>[0.9994538, 0.9896313, 0.94879615, 0.90785354,...</td>\n",
       "      <td>[1, 5, 10, 15, 20, 30, 40, 50, 100, 150, 200, ...</td>\n",
       "      <td>[{'autocorrel_correl': 0.9995218, 'fft_correl'...</td>\n",
       "      <td>6400</td>\n",
       "    </tr>\n",
       "    <tr>\n",
       "      <th>4</th>\n",
       "      <td>15000</td>\n",
       "      <td>100</td>\n",
       "      <td>0.1</td>\n",
       "      <td>1.000000e-03</td>\n",
       "      <td>-0.067668</td>\n",
       "      <td>[0.99945295, 0.98964995, 0.9491477, 0.909141, ...</td>\n",
       "      <td>[1, 5, 10, 15, 20, 30, 40, 50, 100, 150, 200, ...</td>\n",
       "      <td>[{'autocorrel_correl': 0.99952173, 'fft_correl...</td>\n",
       "      <td>6400</td>\n",
       "    </tr>\n",
       "    <tr>\n",
       "      <th>5</th>\n",
       "      <td>15000</td>\n",
       "      <td>100</td>\n",
       "      <td>0.1</td>\n",
       "      <td>1.000000e-02</td>\n",
       "      <td>0.703721</td>\n",
       "      <td>[0.9994118, 0.9895089, 0.95131516, 0.9183074, ...</td>\n",
       "      <td>[1, 5, 10, 15, 20, 30, 40, 50, 100, 150, 200, ...</td>\n",
       "      <td>[{'autocorrel_correl': 0.99952173, 'fft_correl...</td>\n",
       "      <td>6400</td>\n",
       "    </tr>\n",
       "    <tr>\n",
       "      <th>6</th>\n",
       "      <td>15000</td>\n",
       "      <td>100</td>\n",
       "      <td>0.1</td>\n",
       "      <td>1.000000e-01</td>\n",
       "      <td>0.497781</td>\n",
       "      <td>[0.99631006, 0.9658716, 0.905118, 0.85483843, ...</td>\n",
       "      <td>[1, 5, 10, 15, 20, 30, 40, 50, 100, 150, 200, ...</td>\n",
       "      <td>[{'autocorrel_correl': 0.9995217, 'fft_correl'...</td>\n",
       "      <td>6400</td>\n",
       "    </tr>\n",
       "    <tr>\n",
       "      <th>7</th>\n",
       "      <td>15000</td>\n",
       "      <td>100</td>\n",
       "      <td>0.1</td>\n",
       "      <td>1.000000e+00</td>\n",
       "      <td>0.071167</td>\n",
       "      <td>[0.9058628, 0.64063585, 0.44655594, 0.35396436...</td>\n",
       "      <td>[1, 5, 10, 15, 20, 30, 40, 50, 100, 150, 200, ...</td>\n",
       "      <td>[{'autocorrel_correl': 0.9995214, 'fft_correl'...</td>\n",
       "      <td>6400</td>\n",
       "    </tr>\n",
       "    <tr>\n",
       "      <th>8</th>\n",
       "      <td>15000</td>\n",
       "      <td>100</td>\n",
       "      <td>0.2</td>\n",
       "      <td>0.000000e+00</td>\n",
       "      <td>-0.402504</td>\n",
       "      <td>[0.99922544, 0.9875695, 0.94279236, 0.89433604...</td>\n",
       "      <td>[1, 5, 10, 15, 20, 30, 40, 50, 100, 150, 200, ...</td>\n",
       "      <td>[{'autocorrel_correl': 0.9995188, 'fft_correl'...</td>\n",
       "      <td>6400</td>\n",
       "    </tr>\n",
       "    <tr>\n",
       "      <th>9</th>\n",
       "      <td>15000</td>\n",
       "      <td>100</td>\n",
       "      <td>0.2</td>\n",
       "      <td>1.000000e-12</td>\n",
       "      <td>-0.402504</td>\n",
       "      <td>[0.99922544, 0.9875695, 0.94279236, 0.89433604...</td>\n",
       "      <td>[1, 5, 10, 15, 20, 30, 40, 50, 100, 150, 200, ...</td>\n",
       "      <td>[{'autocorrel_correl': 0.9995188, 'fft_correl'...</td>\n",
       "      <td>6400</td>\n",
       "    </tr>\n",
       "    <tr>\n",
       "      <th>10</th>\n",
       "      <td>15000</td>\n",
       "      <td>100</td>\n",
       "      <td>0.2</td>\n",
       "      <td>1.000000e-08</td>\n",
       "      <td>-0.402504</td>\n",
       "      <td>[0.99922544, 0.9875695, 0.94279236, 0.89433604...</td>\n",
       "      <td>[1, 5, 10, 15, 20, 30, 40, 50, 100, 150, 200, ...</td>\n",
       "      <td>[{'autocorrel_correl': 0.9995188, 'fft_correl'...</td>\n",
       "      <td>6400</td>\n",
       "    </tr>\n",
       "    <tr>\n",
       "      <th>11</th>\n",
       "      <td>15000</td>\n",
       "      <td>100</td>\n",
       "      <td>0.2</td>\n",
       "      <td>1.000000e-04</td>\n",
       "      <td>-0.354570</td>\n",
       "      <td>[0.99922526, 0.9875711, 0.9428367, 0.89451164,...</td>\n",
       "      <td>[1, 5, 10, 15, 20, 30, 40, 50, 100, 150, 200, ...</td>\n",
       "      <td>[{'autocorrel_correl': 0.9995188, 'fft_correl'...</td>\n",
       "      <td>6400</td>\n",
       "    </tr>\n",
       "    <tr>\n",
       "      <th>12</th>\n",
       "      <td>15000</td>\n",
       "      <td>100</td>\n",
       "      <td>0.2</td>\n",
       "      <td>1.000000e-03</td>\n",
       "      <td>-0.025791</td>\n",
       "      <td>[0.99922407, 0.9875897, 0.94323796, 0.89607143...</td>\n",
       "      <td>[1, 5, 10, 15, 20, 30, 40, 50, 100, 150, 200, ...</td>\n",
       "      <td>[{'autocorrel_correl': 0.99951875, 'fft_correl...</td>\n",
       "      <td>6400</td>\n",
       "    </tr>\n",
       "    <tr>\n",
       "      <th>13</th>\n",
       "      <td>15000</td>\n",
       "      <td>100</td>\n",
       "      <td>0.2</td>\n",
       "      <td>1.000000e-02</td>\n",
       "      <td>0.711273</td>\n",
       "      <td>[0.9991795, 0.98745453, 0.94585055, 0.9075794,...</td>\n",
       "      <td>[1, 5, 10, 15, 20, 30, 40, 50, 100, 150, 200, ...</td>\n",
       "      <td>[{'autocorrel_correl': 0.99951875, 'fft_correl...</td>\n",
       "      <td>6400</td>\n",
       "    </tr>\n",
       "    <tr>\n",
       "      <th>14</th>\n",
       "      <td>15000</td>\n",
       "      <td>100</td>\n",
       "      <td>0.2</td>\n",
       "      <td>1.000000e-01</td>\n",
       "      <td>0.499274</td>\n",
       "      <td>[0.9960499, 0.96386546, 0.9016178, 0.85066986,...</td>\n",
       "      <td>[1, 5, 10, 15, 20, 30, 40, 50, 100, 150, 200, ...</td>\n",
       "      <td>[{'autocorrel_correl': 0.9995189, 'fft_correl'...</td>\n",
       "      <td>6400</td>\n",
       "    </tr>\n",
       "    <tr>\n",
       "      <th>15</th>\n",
       "      <td>15000</td>\n",
       "      <td>100</td>\n",
       "      <td>0.2</td>\n",
       "      <td>1.000000e+00</td>\n",
       "      <td>0.070542</td>\n",
       "      <td>[0.90556175, 0.63974047, 0.44559583, 0.3529904...</td>\n",
       "      <td>[1, 5, 10, 15, 20, 30, 40, 50, 100, 150, 200, ...</td>\n",
       "      <td>[{'autocorrel_correl': 0.9995191, 'fft_correl'...</td>\n",
       "      <td>6400</td>\n",
       "    </tr>\n",
       "    <tr>\n",
       "      <th>16</th>\n",
       "      <td>15000</td>\n",
       "      <td>100</td>\n",
       "      <td>0.3</td>\n",
       "      <td>0.000000e+00</td>\n",
       "      <td>-0.751678</td>\n",
       "      <td>[0.99894917, 0.9820014, 0.9260628, 0.8555116, ...</td>\n",
       "      <td>[1, 5, 10, 15, 20, 30, 40, 50, 100, 150, 200, ...</td>\n",
       "      <td>[{'autocorrel_correl': 0.99951494, 'fft_correl...</td>\n",
       "      <td>6400</td>\n",
       "    </tr>\n",
       "    <tr>\n",
       "      <th>17</th>\n",
       "      <td>15000</td>\n",
       "      <td>100</td>\n",
       "      <td>0.3</td>\n",
       "      <td>1.000000e-12</td>\n",
       "      <td>-0.751678</td>\n",
       "      <td>[0.99894917, 0.9820014, 0.9260628, 0.8555116, ...</td>\n",
       "      <td>[1, 5, 10, 15, 20, 30, 40, 50, 100, 150, 200, ...</td>\n",
       "      <td>[{'autocorrel_correl': 0.99951494, 'fft_correl...</td>\n",
       "      <td>6400</td>\n",
       "    </tr>\n",
       "    <tr>\n",
       "      <th>18</th>\n",
       "      <td>15000</td>\n",
       "      <td>100</td>\n",
       "      <td>0.3</td>\n",
       "      <td>1.000000e-08</td>\n",
       "      <td>-0.751678</td>\n",
       "      <td>[0.99894917, 0.9820014, 0.9260628, 0.8555116, ...</td>\n",
       "      <td>[1, 5, 10, 15, 20, 30, 40, 50, 100, 150, 200, ...</td>\n",
       "      <td>[{'autocorrel_correl': 0.99951494, 'fft_correl...</td>\n",
       "      <td>6400</td>\n",
       "    </tr>\n",
       "    <tr>\n",
       "      <th>19</th>\n",
       "      <td>15000</td>\n",
       "      <td>100</td>\n",
       "      <td>0.3</td>\n",
       "      <td>1.000000e-04</td>\n",
       "      <td>-0.669857</td>\n",
       "      <td>[0.99894893, 0.9820063, 0.92613435, 0.85579515...</td>\n",
       "      <td>[1, 5, 10, 15, 20, 30, 40, 50, 100, 150, 200, ...</td>\n",
       "      <td>[{'autocorrel_correl': 0.99951494, 'fft_correl...</td>\n",
       "      <td>6400</td>\n",
       "    </tr>\n",
       "    <tr>\n",
       "      <th>20</th>\n",
       "      <td>15000</td>\n",
       "      <td>100</td>\n",
       "      <td>0.3</td>\n",
       "      <td>1.000000e-03</td>\n",
       "      <td>-0.166617</td>\n",
       "      <td>[0.9989471, 0.98204833, 0.926765, 0.8583092, 0...</td>\n",
       "      <td>[1, 5, 10, 15, 20, 30, 40, 50, 100, 150, 200, ...</td>\n",
       "      <td>[{'autocorrel_correl': 0.9995149, 'fft_correl'...</td>\n",
       "      <td>6400</td>\n",
       "    </tr>\n",
       "    <tr>\n",
       "      <th>21</th>\n",
       "      <td>15000</td>\n",
       "      <td>100</td>\n",
       "      <td>0.3</td>\n",
       "      <td>1.000000e-02</td>\n",
       "      <td>0.692285</td>\n",
       "      <td>[0.99889624, 0.98213, 0.93152857, 0.87816036, ...</td>\n",
       "      <td>[1, 5, 10, 15, 20, 30, 40, 50, 100, 150, 200, ...</td>\n",
       "      <td>[{'autocorrel_correl': 0.99951494, 'fft_correl...</td>\n",
       "      <td>6400</td>\n",
       "    </tr>\n",
       "    <tr>\n",
       "      <th>22</th>\n",
       "      <td>15000</td>\n",
       "      <td>100</td>\n",
       "      <td>0.3</td>\n",
       "      <td>1.000000e-01</td>\n",
       "      <td>0.497792</td>\n",
       "      <td>[0.99571824, 0.96016514, 0.8961194, 0.84963185...</td>\n",
       "      <td>[1, 5, 10, 15, 20, 30, 40, 50, 100, 150, 200, ...</td>\n",
       "      <td>[{'autocorrel_correl': 0.99951524, 'fft_correl...</td>\n",
       "      <td>6400</td>\n",
       "    </tr>\n",
       "    <tr>\n",
       "      <th>23</th>\n",
       "      <td>15000</td>\n",
       "      <td>100</td>\n",
       "      <td>0.3</td>\n",
       "      <td>1.000000e+00</td>\n",
       "      <td>0.069058</td>\n",
       "      <td>[0.90518796, 0.63896537, 0.44495842, 0.3521859...</td>\n",
       "      <td>[1, 5, 10, 15, 20, 30, 40, 50, 100, 150, 200, ...</td>\n",
       "      <td>[{'autocorrel_correl': 0.9995165, 'fft_correl'...</td>\n",
       "      <td>6400</td>\n",
       "    </tr>\n",
       "    <tr>\n",
       "      <th>24</th>\n",
       "      <td>15000</td>\n",
       "      <td>100</td>\n",
       "      <td>0.4</td>\n",
       "      <td>0.000000e+00</td>\n",
       "      <td>-0.707031</td>\n",
       "      <td>[0.99872637, 0.9819264, 0.9260939, 0.8474029, ...</td>\n",
       "      <td>[1, 5, 10, 15, 20, 30, 40, 50, 100, 150, 200, ...</td>\n",
       "      <td>[{'autocorrel_correl': 0.9995116, 'fft_correl'...</td>\n",
       "      <td>6400</td>\n",
       "    </tr>\n",
       "    <tr>\n",
       "      <th>25</th>\n",
       "      <td>15000</td>\n",
       "      <td>100</td>\n",
       "      <td>0.4</td>\n",
       "      <td>1.000000e-12</td>\n",
       "      <td>-0.707031</td>\n",
       "      <td>[0.99872637, 0.9819264, 0.9260939, 0.8474029, ...</td>\n",
       "      <td>[1, 5, 10, 15, 20, 30, 40, 50, 100, 150, 200, ...</td>\n",
       "      <td>[{'autocorrel_correl': 0.9995116, 'fft_correl'...</td>\n",
       "      <td>6400</td>\n",
       "    </tr>\n",
       "    <tr>\n",
       "      <th>26</th>\n",
       "      <td>15000</td>\n",
       "      <td>100</td>\n",
       "      <td>0.4</td>\n",
       "      <td>1.000000e-08</td>\n",
       "      <td>-0.707031</td>\n",
       "      <td>[0.99872637, 0.9819264, 0.9260939, 0.8474029, ...</td>\n",
       "      <td>[1, 5, 10, 15, 20, 30, 40, 50, 100, 150, 200, ...</td>\n",
       "      <td>[{'autocorrel_correl': 0.9995116, 'fft_correl'...</td>\n",
       "      <td>6400</td>\n",
       "    </tr>\n",
       "    <tr>\n",
       "      <th>27</th>\n",
       "      <td>15000</td>\n",
       "      <td>100</td>\n",
       "      <td>0.4</td>\n",
       "      <td>1.000000e-04</td>\n",
       "      <td>-0.639997</td>\n",
       "      <td>[0.9987263, 0.98193204, 0.9261649, 0.84770864,...</td>\n",
       "      <td>[1, 5, 10, 15, 20, 30, 40, 50, 100, 150, 200, ...</td>\n",
       "      <td>[{'autocorrel_correl': 0.9995116, 'fft_correl'...</td>\n",
       "      <td>6400</td>\n",
       "    </tr>\n",
       "    <tr>\n",
       "      <th>28</th>\n",
       "      <td>15000</td>\n",
       "      <td>100</td>\n",
       "      <td>0.4</td>\n",
       "      <td>1.000000e-03</td>\n",
       "      <td>-0.204705</td>\n",
       "      <td>[0.9987242, 0.9819648, 0.92675465, 0.8503071, ...</td>\n",
       "      <td>[1, 5, 10, 15, 20, 30, 40, 50, 100, 150, 200, ...</td>\n",
       "      <td>[{'autocorrel_correl': 0.9995116, 'fft_correl'...</td>\n",
       "      <td>6400</td>\n",
       "    </tr>\n",
       "    <tr>\n",
       "      <th>29</th>\n",
       "      <td>15000</td>\n",
       "      <td>100</td>\n",
       "      <td>0.4</td>\n",
       "      <td>1.000000e-02</td>\n",
       "      <td>0.677265</td>\n",
       "      <td>[0.998672, 0.98197234, 0.931078, 0.87130517, 0...</td>\n",
       "      <td>[1, 5, 10, 15, 20, 30, 40, 50, 100, 150, 200, ...</td>\n",
       "      <td>[{'autocorrel_correl': 0.9995116, 'fft_correl'...</td>\n",
       "      <td>6400</td>\n",
       "    </tr>\n",
       "    <tr>\n",
       "      <th>30</th>\n",
       "      <td>15000</td>\n",
       "      <td>100</td>\n",
       "      <td>0.4</td>\n",
       "      <td>1.000000e-01</td>\n",
       "      <td>0.495137</td>\n",
       "      <td>[0.9954852, 0.95953965, 0.89392024, 0.84605247...</td>\n",
       "      <td>[1, 5, 10, 15, 20, 30, 40, 50, 100, 150, 200, ...</td>\n",
       "      <td>[{'autocorrel_correl': 0.99951214, 'fft_correl...</td>\n",
       "      <td>6400</td>\n",
       "    </tr>\n",
       "    <tr>\n",
       "      <th>31</th>\n",
       "      <td>15000</td>\n",
       "      <td>100</td>\n",
       "      <td>0.4</td>\n",
       "      <td>1.000000e+00</td>\n",
       "      <td>0.067911</td>\n",
       "      <td>[0.90498936, 0.63846964, 0.44444662, 0.3512421...</td>\n",
       "      <td>[1, 5, 10, 15, 20, 30, 40, 50, 100, 150, 200, ...</td>\n",
       "      <td>[{'autocorrel_correl': 0.9995145, 'fft_correl'...</td>\n",
       "      <td>6400</td>\n",
       "    </tr>\n",
       "    <tr>\n",
       "      <th>32</th>\n",
       "      <td>15000</td>\n",
       "      <td>100</td>\n",
       "      <td>0.5</td>\n",
       "      <td>0.000000e+00</td>\n",
       "      <td>-0.608001</td>\n",
       "      <td>[0.99835885, 0.98173267, 0.93065274, 0.8599756...</td>\n",
       "      <td>[1, 5, 10, 15, 20, 30, 40, 50, 100, 150, 200, ...</td>\n",
       "      <td>[{'autocorrel_correl': 0.9995148, 'fft_correl'...</td>\n",
       "      <td>6400</td>\n",
       "    </tr>\n",
       "    <tr>\n",
       "      <th>33</th>\n",
       "      <td>15000</td>\n",
       "      <td>100</td>\n",
       "      <td>0.5</td>\n",
       "      <td>1.000000e-12</td>\n",
       "      <td>-0.608001</td>\n",
       "      <td>[0.99835885, 0.98173267, 0.93065274, 0.8599756...</td>\n",
       "      <td>[1, 5, 10, 15, 20, 30, 40, 50, 100, 150, 200, ...</td>\n",
       "      <td>[{'autocorrel_correl': 0.9995148, 'fft_correl'...</td>\n",
       "      <td>6400</td>\n",
       "    </tr>\n",
       "    <tr>\n",
       "      <th>34</th>\n",
       "      <td>15000</td>\n",
       "      <td>100</td>\n",
       "      <td>0.5</td>\n",
       "      <td>1.000000e-08</td>\n",
       "      <td>-0.608001</td>\n",
       "      <td>[0.99835885, 0.98173267, 0.93065274, 0.8599756...</td>\n",
       "      <td>[1, 5, 10, 15, 20, 30, 40, 50, 100, 150, 200, ...</td>\n",
       "      <td>[{'autocorrel_correl': 0.9995148, 'fft_correl'...</td>\n",
       "      <td>6400</td>\n",
       "    </tr>\n",
       "    <tr>\n",
       "      <th>35</th>\n",
       "      <td>15000</td>\n",
       "      <td>100</td>\n",
       "      <td>0.5</td>\n",
       "      <td>1.000000e-04</td>\n",
       "      <td>-0.542744</td>\n",
       "      <td>[0.99835855, 0.9817359, 0.9307168, 0.86025363,...</td>\n",
       "      <td>[1, 5, 10, 15, 20, 30, 40, 50, 100, 150, 200, ...</td>\n",
       "      <td>[{'autocorrel_correl': 0.9995149, 'fft_correl'...</td>\n",
       "      <td>6400</td>\n",
       "    </tr>\n",
       "    <tr>\n",
       "      <th>36</th>\n",
       "      <td>15000</td>\n",
       "      <td>100</td>\n",
       "      <td>0.5</td>\n",
       "      <td>1.000000e-03</td>\n",
       "      <td>-0.123216</td>\n",
       "      <td>[0.9983566, 0.98177713, 0.9313205, 0.8628132, ...</td>\n",
       "      <td>[1, 5, 10, 15, 20, 30, 40, 50, 100, 150, 200, ...</td>\n",
       "      <td>[{'autocorrel_correl': 0.9995148, 'fft_correl'...</td>\n",
       "      <td>6400</td>\n",
       "    </tr>\n",
       "    <tr>\n",
       "      <th>37</th>\n",
       "      <td>15000</td>\n",
       "      <td>100</td>\n",
       "      <td>0.5</td>\n",
       "      <td>1.000000e-02</td>\n",
       "      <td>0.695561</td>\n",
       "      <td>[0.9983032, 0.9818294, 0.93574095, 0.88288444,...</td>\n",
       "      <td>[1, 5, 10, 15, 20, 30, 40, 50, 100, 150, 200, ...</td>\n",
       "      <td>[{'autocorrel_correl': 0.99951494, 'fft_correl...</td>\n",
       "      <td>6400</td>\n",
       "    </tr>\n",
       "    <tr>\n",
       "      <th>38</th>\n",
       "      <td>15000</td>\n",
       "      <td>100</td>\n",
       "      <td>0.5</td>\n",
       "      <td>1.000000e-01</td>\n",
       "      <td>0.491629</td>\n",
       "      <td>[0.9951084, 0.95974195, 0.8983529, 0.85297143,...</td>\n",
       "      <td>[1, 5, 10, 15, 20, 30, 40, 50, 100, 150, 200, ...</td>\n",
       "      <td>[{'autocorrel_correl': 0.9995157, 'fft_correl'...</td>\n",
       "      <td>6400</td>\n",
       "    </tr>\n",
       "    <tr>\n",
       "      <th>39</th>\n",
       "      <td>15000</td>\n",
       "      <td>100</td>\n",
       "      <td>0.5</td>\n",
       "      <td>1.000000e+00</td>\n",
       "      <td>0.067049</td>\n",
       "      <td>[0.9046356, 0.6383904, 0.4446448, 0.3516844, 0...</td>\n",
       "      <td>[1, 5, 10, 15, 20, 30, 40, 50, 100, 150, 200, ...</td>\n",
       "      <td>[{'autocorrel_correl': 0.99951947, 'fft_correl...</td>\n",
       "      <td>6400</td>\n",
       "    </tr>\n",
       "  </tbody>\n",
       "</table>\n",
       "</div>"
      ],
      "text/plain": [
       "    window    p  r_thresh          lamb        ip  \\\n",
       "0    15000  100       0.1  0.000000e+00 -0.526541   \n",
       "1    15000  100       0.1  1.000000e-12 -0.526541   \n",
       "2    15000  100       0.1  1.000000e-08 -0.526541   \n",
       "3    15000  100       0.1  1.000000e-04 -0.464975   \n",
       "4    15000  100       0.1  1.000000e-03 -0.067668   \n",
       "5    15000  100       0.1  1.000000e-02  0.703721   \n",
       "6    15000  100       0.1  1.000000e-01  0.497781   \n",
       "7    15000  100       0.1  1.000000e+00  0.071167   \n",
       "8    15000  100       0.2  0.000000e+00 -0.402504   \n",
       "9    15000  100       0.2  1.000000e-12 -0.402504   \n",
       "10   15000  100       0.2  1.000000e-08 -0.402504   \n",
       "11   15000  100       0.2  1.000000e-04 -0.354570   \n",
       "12   15000  100       0.2  1.000000e-03 -0.025791   \n",
       "13   15000  100       0.2  1.000000e-02  0.711273   \n",
       "14   15000  100       0.2  1.000000e-01  0.499274   \n",
       "15   15000  100       0.2  1.000000e+00  0.070542   \n",
       "16   15000  100       0.3  0.000000e+00 -0.751678   \n",
       "17   15000  100       0.3  1.000000e-12 -0.751678   \n",
       "18   15000  100       0.3  1.000000e-08 -0.751678   \n",
       "19   15000  100       0.3  1.000000e-04 -0.669857   \n",
       "20   15000  100       0.3  1.000000e-03 -0.166617   \n",
       "21   15000  100       0.3  1.000000e-02  0.692285   \n",
       "22   15000  100       0.3  1.000000e-01  0.497792   \n",
       "23   15000  100       0.3  1.000000e+00  0.069058   \n",
       "24   15000  100       0.4  0.000000e+00 -0.707031   \n",
       "25   15000  100       0.4  1.000000e-12 -0.707031   \n",
       "26   15000  100       0.4  1.000000e-08 -0.707031   \n",
       "27   15000  100       0.4  1.000000e-04 -0.639997   \n",
       "28   15000  100       0.4  1.000000e-03 -0.204705   \n",
       "29   15000  100       0.4  1.000000e-02  0.677265   \n",
       "30   15000  100       0.4  1.000000e-01  0.495137   \n",
       "31   15000  100       0.4  1.000000e+00  0.067911   \n",
       "32   15000  100       0.5  0.000000e+00 -0.608001   \n",
       "33   15000  100       0.5  1.000000e-12 -0.608001   \n",
       "34   15000  100       0.5  1.000000e-08 -0.608001   \n",
       "35   15000  100       0.5  1.000000e-04 -0.542744   \n",
       "36   15000  100       0.5  1.000000e-03 -0.123216   \n",
       "37   15000  100       0.5  1.000000e-02  0.695561   \n",
       "38   15000  100       0.5  1.000000e-01  0.491629   \n",
       "39   15000  100       0.5  1.000000e+00  0.067049   \n",
       "\n",
       "                                    performance_curve  \\\n",
       "0   [0.9994538, 0.9896279, 0.9487526, 0.90770125, ...   \n",
       "1   [0.9994538, 0.9896279, 0.9487526, 0.90770125, ...   \n",
       "2   [0.9994538, 0.9896279, 0.9487526, 0.90770125, ...   \n",
       "3   [0.9994538, 0.9896313, 0.94879615, 0.90785354,...   \n",
       "4   [0.99945295, 0.98964995, 0.9491477, 0.909141, ...   \n",
       "5   [0.9994118, 0.9895089, 0.95131516, 0.9183074, ...   \n",
       "6   [0.99631006, 0.9658716, 0.905118, 0.85483843, ...   \n",
       "7   [0.9058628, 0.64063585, 0.44655594, 0.35396436...   \n",
       "8   [0.99922544, 0.9875695, 0.94279236, 0.89433604...   \n",
       "9   [0.99922544, 0.9875695, 0.94279236, 0.89433604...   \n",
       "10  [0.99922544, 0.9875695, 0.94279236, 0.89433604...   \n",
       "11  [0.99922526, 0.9875711, 0.9428367, 0.89451164,...   \n",
       "12  [0.99922407, 0.9875897, 0.94323796, 0.89607143...   \n",
       "13  [0.9991795, 0.98745453, 0.94585055, 0.9075794,...   \n",
       "14  [0.9960499, 0.96386546, 0.9016178, 0.85066986,...   \n",
       "15  [0.90556175, 0.63974047, 0.44559583, 0.3529904...   \n",
       "16  [0.99894917, 0.9820014, 0.9260628, 0.8555116, ...   \n",
       "17  [0.99894917, 0.9820014, 0.9260628, 0.8555116, ...   \n",
       "18  [0.99894917, 0.9820014, 0.9260628, 0.8555116, ...   \n",
       "19  [0.99894893, 0.9820063, 0.92613435, 0.85579515...   \n",
       "20  [0.9989471, 0.98204833, 0.926765, 0.8583092, 0...   \n",
       "21  [0.99889624, 0.98213, 0.93152857, 0.87816036, ...   \n",
       "22  [0.99571824, 0.96016514, 0.8961194, 0.84963185...   \n",
       "23  [0.90518796, 0.63896537, 0.44495842, 0.3521859...   \n",
       "24  [0.99872637, 0.9819264, 0.9260939, 0.8474029, ...   \n",
       "25  [0.99872637, 0.9819264, 0.9260939, 0.8474029, ...   \n",
       "26  [0.99872637, 0.9819264, 0.9260939, 0.8474029, ...   \n",
       "27  [0.9987263, 0.98193204, 0.9261649, 0.84770864,...   \n",
       "28  [0.9987242, 0.9819648, 0.92675465, 0.8503071, ...   \n",
       "29  [0.998672, 0.98197234, 0.931078, 0.87130517, 0...   \n",
       "30  [0.9954852, 0.95953965, 0.89392024, 0.84605247...   \n",
       "31  [0.90498936, 0.63846964, 0.44444662, 0.3512421...   \n",
       "32  [0.99835885, 0.98173267, 0.93065274, 0.8599756...   \n",
       "33  [0.99835885, 0.98173267, 0.93065274, 0.8599756...   \n",
       "34  [0.99835885, 0.98173267, 0.93065274, 0.8599756...   \n",
       "35  [0.99835855, 0.9817359, 0.9307168, 0.86025363,...   \n",
       "36  [0.9983566, 0.98177713, 0.9313205, 0.8628132, ...   \n",
       "37  [0.9983032, 0.9818294, 0.93574095, 0.88288444,...   \n",
       "38  [0.9951084, 0.95974195, 0.8983529, 0.85297143,...   \n",
       "39  [0.9046356, 0.6383904, 0.4446448, 0.3516844, 0...   \n",
       "\n",
       "                                          reseed_vals  \\\n",
       "0   [1, 5, 10, 15, 20, 30, 40, 50, 100, 150, 200, ...   \n",
       "1   [1, 5, 10, 15, 20, 30, 40, 50, 100, 150, 200, ...   \n",
       "2   [1, 5, 10, 15, 20, 30, 40, 50, 100, 150, 200, ...   \n",
       "3   [1, 5, 10, 15, 20, 30, 40, 50, 100, 150, 200, ...   \n",
       "4   [1, 5, 10, 15, 20, 30, 40, 50, 100, 150, 200, ...   \n",
       "5   [1, 5, 10, 15, 20, 30, 40, 50, 100, 150, 200, ...   \n",
       "6   [1, 5, 10, 15, 20, 30, 40, 50, 100, 150, 200, ...   \n",
       "7   [1, 5, 10, 15, 20, 30, 40, 50, 100, 150, 200, ...   \n",
       "8   [1, 5, 10, 15, 20, 30, 40, 50, 100, 150, 200, ...   \n",
       "9   [1, 5, 10, 15, 20, 30, 40, 50, 100, 150, 200, ...   \n",
       "10  [1, 5, 10, 15, 20, 30, 40, 50, 100, 150, 200, ...   \n",
       "11  [1, 5, 10, 15, 20, 30, 40, 50, 100, 150, 200, ...   \n",
       "12  [1, 5, 10, 15, 20, 30, 40, 50, 100, 150, 200, ...   \n",
       "13  [1, 5, 10, 15, 20, 30, 40, 50, 100, 150, 200, ...   \n",
       "14  [1, 5, 10, 15, 20, 30, 40, 50, 100, 150, 200, ...   \n",
       "15  [1, 5, 10, 15, 20, 30, 40, 50, 100, 150, 200, ...   \n",
       "16  [1, 5, 10, 15, 20, 30, 40, 50, 100, 150, 200, ...   \n",
       "17  [1, 5, 10, 15, 20, 30, 40, 50, 100, 150, 200, ...   \n",
       "18  [1, 5, 10, 15, 20, 30, 40, 50, 100, 150, 200, ...   \n",
       "19  [1, 5, 10, 15, 20, 30, 40, 50, 100, 150, 200, ...   \n",
       "20  [1, 5, 10, 15, 20, 30, 40, 50, 100, 150, 200, ...   \n",
       "21  [1, 5, 10, 15, 20, 30, 40, 50, 100, 150, 200, ...   \n",
       "22  [1, 5, 10, 15, 20, 30, 40, 50, 100, 150, 200, ...   \n",
       "23  [1, 5, 10, 15, 20, 30, 40, 50, 100, 150, 200, ...   \n",
       "24  [1, 5, 10, 15, 20, 30, 40, 50, 100, 150, 200, ...   \n",
       "25  [1, 5, 10, 15, 20, 30, 40, 50, 100, 150, 200, ...   \n",
       "26  [1, 5, 10, 15, 20, 30, 40, 50, 100, 150, 200, ...   \n",
       "27  [1, 5, 10, 15, 20, 30, 40, 50, 100, 150, 200, ...   \n",
       "28  [1, 5, 10, 15, 20, 30, 40, 50, 100, 150, 200, ...   \n",
       "29  [1, 5, 10, 15, 20, 30, 40, 50, 100, 150, 200, ...   \n",
       "30  [1, 5, 10, 15, 20, 30, 40, 50, 100, 150, 200, ...   \n",
       "31  [1, 5, 10, 15, 20, 30, 40, 50, 100, 150, 200, ...   \n",
       "32  [1, 5, 10, 15, 20, 30, 40, 50, 100, 150, 200, ...   \n",
       "33  [1, 5, 10, 15, 20, 30, 40, 50, 100, 150, 200, ...   \n",
       "34  [1, 5, 10, 15, 20, 30, 40, 50, 100, 150, 200, ...   \n",
       "35  [1, 5, 10, 15, 20, 30, 40, 50, 100, 150, 200, ...   \n",
       "36  [1, 5, 10, 15, 20, 30, 40, 50, 100, 150, 200, ...   \n",
       "37  [1, 5, 10, 15, 20, 30, 40, 50, 100, 150, 200, ...   \n",
       "38  [1, 5, 10, 15, 20, 30, 40, 50, 100, 150, 200, ...   \n",
       "39  [1, 5, 10, 15, 20, 30, 40, 50, 100, 150, 200, ...   \n",
       "\n",
       "                                      all_metric_vals  matrix_size  \n",
       "0   [{'autocorrel_correl': 0.99952173, 'fft_correl...         6400  \n",
       "1   [{'autocorrel_correl': 0.99952173, 'fft_correl...         6400  \n",
       "2   [{'autocorrel_correl': 0.99952173, 'fft_correl...         6400  \n",
       "3   [{'autocorrel_correl': 0.9995218, 'fft_correl'...         6400  \n",
       "4   [{'autocorrel_correl': 0.99952173, 'fft_correl...         6400  \n",
       "5   [{'autocorrel_correl': 0.99952173, 'fft_correl...         6400  \n",
       "6   [{'autocorrel_correl': 0.9995217, 'fft_correl'...         6400  \n",
       "7   [{'autocorrel_correl': 0.9995214, 'fft_correl'...         6400  \n",
       "8   [{'autocorrel_correl': 0.9995188, 'fft_correl'...         6400  \n",
       "9   [{'autocorrel_correl': 0.9995188, 'fft_correl'...         6400  \n",
       "10  [{'autocorrel_correl': 0.9995188, 'fft_correl'...         6400  \n",
       "11  [{'autocorrel_correl': 0.9995188, 'fft_correl'...         6400  \n",
       "12  [{'autocorrel_correl': 0.99951875, 'fft_correl...         6400  \n",
       "13  [{'autocorrel_correl': 0.99951875, 'fft_correl...         6400  \n",
       "14  [{'autocorrel_correl': 0.9995189, 'fft_correl'...         6400  \n",
       "15  [{'autocorrel_correl': 0.9995191, 'fft_correl'...         6400  \n",
       "16  [{'autocorrel_correl': 0.99951494, 'fft_correl...         6400  \n",
       "17  [{'autocorrel_correl': 0.99951494, 'fft_correl...         6400  \n",
       "18  [{'autocorrel_correl': 0.99951494, 'fft_correl...         6400  \n",
       "19  [{'autocorrel_correl': 0.99951494, 'fft_correl...         6400  \n",
       "20  [{'autocorrel_correl': 0.9995149, 'fft_correl'...         6400  \n",
       "21  [{'autocorrel_correl': 0.99951494, 'fft_correl...         6400  \n",
       "22  [{'autocorrel_correl': 0.99951524, 'fft_correl...         6400  \n",
       "23  [{'autocorrel_correl': 0.9995165, 'fft_correl'...         6400  \n",
       "24  [{'autocorrel_correl': 0.9995116, 'fft_correl'...         6400  \n",
       "25  [{'autocorrel_correl': 0.9995116, 'fft_correl'...         6400  \n",
       "26  [{'autocorrel_correl': 0.9995116, 'fft_correl'...         6400  \n",
       "27  [{'autocorrel_correl': 0.9995116, 'fft_correl'...         6400  \n",
       "28  [{'autocorrel_correl': 0.9995116, 'fft_correl'...         6400  \n",
       "29  [{'autocorrel_correl': 0.9995116, 'fft_correl'...         6400  \n",
       "30  [{'autocorrel_correl': 0.99951214, 'fft_correl...         6400  \n",
       "31  [{'autocorrel_correl': 0.9995145, 'fft_correl'...         6400  \n",
       "32  [{'autocorrel_correl': 0.9995148, 'fft_correl'...         6400  \n",
       "33  [{'autocorrel_correl': 0.9995148, 'fft_correl'...         6400  \n",
       "34  [{'autocorrel_correl': 0.9995148, 'fft_correl'...         6400  \n",
       "35  [{'autocorrel_correl': 0.9995149, 'fft_correl'...         6400  \n",
       "36  [{'autocorrel_correl': 0.9995148, 'fft_correl'...         6400  \n",
       "37  [{'autocorrel_correl': 0.99951494, 'fft_correl...         6400  \n",
       "38  [{'autocorrel_correl': 0.9995157, 'fft_correl'...         6400  \n",
       "39  [{'autocorrel_correl': 0.99951947, 'fft_correl...         6400  "
      ]
     },
     "execution_count": 585,
     "metadata": {},
     "output_type": "execute_result"
    }
   ],
   "source": [
    "df"
   ]
  },
  {
   "cell_type": "code",
   "execution_count": 584,
   "id": "642b2001",
   "metadata": {},
   "outputs": [
    {
     "data": {
      "text/plain": [
       "{'ip': 0.8032123878598213,\n",
       " 'performance_curve': array([0.99989617, 0.9988687 , 0.9968892 , 0.9930869 , 0.9889137 ,\n",
       "        0.97690994, 0.9679092 , 0.9500095 , 0.8824421 , 0.8264746 ,\n",
       "        0.7615284 , 0.8686843 , 0.8125015 , 0.76212394, 0.88097346,\n",
       "        0.7326765 , 0.71965224], dtype=float32),\n",
       " 'reseed_vals': array([   1,    5,   10,   15,   20,   30,   40,   50,  100,  150,  200,\n",
       "         250,  300,  400,  500,  750, 1000]),\n",
       " 'all_metric_vals': [{'autocorrel_correl': 0.99998873,\n",
       "   'fft_correl': 0.9999094494450059,\n",
       "   'fft_r2': 0.9997903225775441},\n",
       "  {'autocorrel_correl': 0.9997591,\n",
       "   'fft_correl': 0.9991177831846879,\n",
       "   'fft_r2': 0.997729306841825},\n",
       "  {'autocorrel_correl': 0.9988075,\n",
       "   'fft_correl': 0.9976281595443908,\n",
       "   'fft_r2': 0.9942319266859619},\n",
       "  {'autocorrel_correl': 0.9961349,\n",
       "   'fft_correl': 0.9953828915433903,\n",
       "   'fft_r2': 0.9877428787602877},\n",
       "  {'autocorrel_correl': 0.992545,\n",
       "   'fft_correl': 0.992514263088471,\n",
       "   'fft_r2': 0.9816819457076035},\n",
       "  {'autocorrel_correl': 0.97619504,\n",
       "   'fft_correl': 0.9878414755551733,\n",
       "   'fft_r2': 0.9666932300623429},\n",
       "  {'autocorrel_correl': 0.96291244,\n",
       "   'fft_correl': 0.9838020874195479,\n",
       "   'fft_r2': 0.9570131199228087},\n",
       "  {'autocorrel_correl': 0.94215596,\n",
       "   'fft_correl': 0.97371838094781,\n",
       "   'fft_r2': 0.9341542566675358},\n",
       "  {'autocorrel_correl': 0.86161673,\n",
       "   'fft_correl': 0.9339320600508808,\n",
       "   'fft_r2': 0.8517774791550067},\n",
       "  {'autocorrel_correl': 0.87480766,\n",
       "   'fft_correl': 0.8805864836054821,\n",
       "   'fft_r2': 0.7240296089179417},\n",
       "  {'autocorrel_correl': 0.86462444,\n",
       "   'fft_correl': 0.7935824886748097,\n",
       "   'fft_r2': 0.6263781630974474},\n",
       "  {'autocorrel_correl': 0.9494918,\n",
       "   'fft_correl': 0.8842233137060405,\n",
       "   'fft_r2': 0.7723376963236884},\n",
       "  {'autocorrel_correl': 0.92492676,\n",
       "   'fft_correl': 0.8333841282705607,\n",
       "   'fft_r2': 0.6791936487617118},\n",
       "  {'autocorrel_correl': 0.92314833,\n",
       "   'fft_correl': 0.7735192425200007,\n",
       "   'fft_r2': 0.5897041817406391},\n",
       "  {'autocorrel_correl': 0.96622574,\n",
       "   'fft_correl': 0.9063137535189966,\n",
       "   'fft_r2': 0.7703809064006093},\n",
       "  {'autocorrel_correl': 0.9645405,\n",
       "   'fft_correl': 0.7252038175814357,\n",
       "   'fft_r2': 0.5082851461547414},\n",
       "  {'autocorrel_correl': 0.9289356,\n",
       "   'fft_correl': 0.7230501883674398,\n",
       "   'fft_r2': 0.5069708958488315}]}"
      ]
     },
     "execution_count": 584,
     "metadata": {},
     "output_type": "execute_result"
    }
   ],
   "source": [
    "ip_ret"
   ]
  },
  {
   "cell_type": "code",
   "execution_count": 297,
   "id": "2c7445cc",
   "metadata": {},
   "outputs": [
    {
     "data": {
      "application/vnd.jupyter.widget-view+json": {
       "model_id": "e41b26a73ce54263b64f3cfb34bba8c1",
       "version_major": 2,
       "version_minor": 0
      },
      "text/plain": [
       "  0%|          | 0/17 [00:00<?, ?it/s]"
      ]
     },
     "metadata": {},
     "output_type": "display_data"
    },
    {
     "name": "stdout",
     "output_type": "stream",
     "text": [
      "CPU times: user 1min 55s, sys: 21.9 s, total: 2min 17s\n",
      "Wall time: 1min 31s\n"
     ]
    }
   ],
   "source": [
    "%%time\n",
    "i = 6000\n",
    "data = load_window_from_chunks(i, i + 20, directory, unit_indices)\n",
    "# data = data[:, [i not in [13, 20, 21, 33] for i in np.arange(data.shape[1])]]\n",
    "# data = (data - data.mean())/data.std()\n",
    "# data = (data - data.mean(axis=0))/data.std(axis=0)\n",
    "p = int(np.ceil(matrix_size/data.shape[1]))\n",
    "delase = DeLASE(data[:window], p, use_torch=True, device='cuda')\n",
    "delase.compute_havok_dmd(r_thresh=r_thresh, lamb=lamb)\n",
    "delase.dt = dt\n",
    "test_data = data[window:window + 5000]\n",
    "ip_ret = compute_integrated_performance(delase, test_data, full_return=True, verbose=True)\n",
    "delase.compute_jacobians()\n",
    "delase.get_stability(max_freq=500, max_unstable_freq=125)\n",
    "\n",
    "anesthesia_ip_ret = ip_ret\n",
    "anesthesia_stab = delase.stability_params.cpu()\n",
    "anesthesia_freqs = delase.stability_freqs.cpu()"
   ]
  },
  {
   "cell_type": "code",
   "execution_count": 298,
   "id": "061eb843",
   "metadata": {},
   "outputs": [
    {
     "data": {
      "text/plain": [
       "(0.6679514278173446, 0.610447096824646)"
      ]
     },
     "execution_count": 298,
     "metadata": {},
     "output_type": "execute_result"
    }
   ],
   "source": [
    "wake_ip_ret['ip'], anesthesia_ip_ret['ip']"
   ]
  },
  {
   "cell_type": "code",
   "execution_count": 299,
   "id": "358e83a1",
   "metadata": {},
   "outputs": [
    {
     "data": {
      "text/plain": [
       "227"
      ]
     },
     "execution_count": 299,
     "metadata": {},
     "output_type": "execute_result"
    }
   ],
   "source": [
    "len(electrode_info['area'])"
   ]
  },
  {
   "cell_type": "code",
   "execution_count": 300,
   "id": "13fad540",
   "metadata": {},
   "outputs": [],
   "source": [
    "# what is STG --> VLPFC\n",
    "area1 = 'FEF'\n",
    "area2 = 'FEF'"
   ]
  },
  {
   "cell_type": "code",
   "execution_count": 301,
   "id": "480cf4b9",
   "metadata": {},
   "outputs": [],
   "source": [
    "area1_inds = np.hstack([np.where(electrode_info['area'] == area1)[0] + i*len(electrode_info['area']) for i in range(delase.p)])\n",
    "area2_inds = np.hstack([np.where(electrode_info['area'] == area2)[0] + i*len(electrode_info['area']) for i in range(delase.p)])"
   ]
  },
  {
   "cell_type": "code",
   "execution_count": 302,
   "id": "24c75ac0",
   "metadata": {},
   "outputs": [],
   "source": [
    "delay_mat = np.zeros((delase.p, delase.p))\n",
    "for i in range(delase.p):\n",
    "    for j in range(delase.p):\n",
    "        area1_inds = np.where(electrode_info['area'] == area1)[0] + i*len(electrode_info['area'])\n",
    "        area2_inds = np.where(electrode_info['area'] == area1)[0] + j*len(electrode_info['area'])\n",
    "        delay_mat[i, j] = torch.abs(delase.A[area2_inds, :][:, area1_inds]).mean()"
   ]
  },
  {
   "cell_type": "code",
   "execution_count": 303,
   "id": "7aabaf4b",
   "metadata": {},
   "outputs": [
    {
     "data": {
      "text/plain": [
       "<matplotlib.colorbar.Colorbar at 0x2ac6a8be8f10>"
      ]
     },
     "execution_count": 303,
     "metadata": {},
     "output_type": "execute_result"
    },
    {
     "data": {
      "image/png": "[encoded data removed]",
      "text/plain": [
       "<Figure size 640x480 with 2 Axes>"
      ]
     },
     "metadata": {},
     "output_type": "display_data"
    }
   ],
   "source": [
    "plt.pcolormesh(np.log(delay_mat))\n",
    "plt.colorbar()"
   ]
  },
  {
   "cell_type": "code",
   "execution_count": 273,
   "id": "2deb06b1",
   "metadata": {},
   "outputs": [
    {
     "data": {
      "text/plain": [
       "tensor(0.0113, device='cuda:0')"
      ]
     },
     "execution_count": 273,
     "metadata": {},
     "output_type": "execute_result"
    }
   ],
   "source": [
    "torch.abs(delase.A[area2_inds, :][:, area1_inds]).mean()"
   ]
  },
  {
   "cell_type": "code",
   "execution_count": 194,
   "id": "7526cf58",
   "metadata": {},
   "outputs": [],
   "source": [
    "# delase_anesthesia_mary = deepcopy(delase)"
   ]
  },
  {
   "cell_type": "code",
   "execution_count": 262,
   "id": "c084280d",
   "metadata": {},
   "outputs": [
    {
     "data": {
      "text/plain": [
       "[<matplotlib.lines.Line2D at 0x2ac6a873a8e0>]"
      ]
     },
     "execution_count": 262,
     "metadata": {},
     "output_type": "execute_result"
    },
    {
     "data": {
      "image/png": "[encoded data removed]",
      "text/plain": [
       "<Figure size 640x480 with 1 Axes>"
      ]
     },
     "metadata": {},
     "output_type": "display_data"
    }
   ],
   "source": [
    "plt.plot(wake_stab[:400])\n",
    "plt.plot(anesthesia_stab[:400])"
   ]
  },
  {
   "cell_type": "code",
   "execution_count": 158,
   "id": "8b836c9a",
   "metadata": {},
   "outputs": [
    {
     "data": {
      "text/plain": [
       "<matplotlib.collections.PathCollection at 0x2ac6a80682b0>"
      ]
     },
     "execution_count": 158,
     "metadata": {},
     "output_type": "execute_result"
    },
    {
     "data": {
      "image/png": "[encoded data removed]",
      "text/plain": [
       "<Figure size 640x480 with 1 Axes>"
      ]
     },
     "metadata": {},
     "output_type": "display_data"
    }
   ],
   "source": [
    "plt.scatter(np.arange(data.shape[1]), data.std(axis=0))"
   ]
  },
  {
   "cell_type": "code",
   "execution_count": 161,
   "id": "1a81ef02",
   "metadata": {},
   "outputs": [
    {
     "data": {
      "text/plain": [
       "array([ 5, 10,  4,  9, 16, 15, 14, 12, 31, 25,  8,  3, 33, 19,  7, 17,  1,\n",
       "        0, 55, 22, 30, 39, 20, 35, 29,  2, 28, 43, 26, 23, 44, 18,  6, 32,\n",
       "       11, 47, 40, 38, 36, 45, 27, 46, 53, 34, 24, 52, 49, 54, 42, 41, 50,\n",
       "       51, 48, 37, 13, 21])"
      ]
     },
     "execution_count": 161,
     "metadata": {},
     "output_type": "execute_result"
    }
   ],
   "source": [
    "np.argsort(data.std(axis=0))"
   ]
  },
  {
   "cell_type": "code",
   "execution_count": 160,
   "id": "7bafcc47",
   "metadata": {},
   "outputs": [
    {
     "data": {
      "text/plain": [
       "array([21, 20, 11, 52,  2, 50, 15, 49, 12, 17, 45, 19, 37, 43, 14, 51, 42,\n",
       "       26,  9, 41,  4, 33,  3,  1,  0, 47, 48, 40, 38, 54, 32, 18,  6,  5,\n",
       "       27, 53,  7, 10, 34, 16, 46, 55, 24, 35, 36,  8, 25, 22, 39, 30, 44,\n",
       "       13, 23, 31, 29, 28])"
      ]
     },
     "execution_count": 160,
     "metadata": {},
     "output_type": "execute_result"
    }
   ],
   "source": [
    "np.argsort(data.mean(axis=0))"
   ]
  },
  {
   "cell_type": "code",
   "execution_count": 159,
   "id": "bd6a7921",
   "metadata": {},
   "outputs": [
    {
     "data": {
      "text/plain": [
       "<matplotlib.collections.PathCollection at 0x2ac6a80ab430>"
      ]
     },
     "execution_count": 159,
     "metadata": {},
     "output_type": "execute_result"
    },
    {
     "data": {
      "image/png": "[encoded data removed]",
      "text/plain": [
       "<Figure size 640x480 with 1 Axes>"
      ]
     },
     "metadata": {},
     "output_type": "display_data"
    }
   ],
   "source": [
    "plt.scatter(np.arange(data.shape[1]), data.mean(axis=0))"
   ]
  },
  {
   "cell_type": "code",
   "execution_count": 130,
   "id": "596126c4",
   "metadata": {},
   "outputs": [
    {
     "data": {
      "text/plain": [
       "tensor(4409, device='cuda:0')"
      ]
     },
     "execution_count": 130,
     "metadata": {},
     "output_type": "execute_result"
    }
   ],
   "source": [
    "delase.r"
   ]
  },
  {
   "cell_type": "code",
   "execution_count": 131,
   "id": "63d33819",
   "metadata": {},
   "outputs": [
    {
     "data": {
      "text/plain": [
       "tensor(3767, device='cuda:0')"
      ]
     },
     "execution_count": 131,
     "metadata": {},
     "output_type": "execute_result"
    }
   ],
   "source": [
    "delase_anesthesia_mary.r"
   ]
  },
  {
   "cell_type": "code",
   "execution_count": 107,
   "id": "1703c00b",
   "metadata": {},
   "outputs": [
    {
     "data": {
      "text/plain": [
       "tensor(3767)"
      ]
     },
     "execution_count": 107,
     "metadata": {},
     "output_type": "execute_result"
    }
   ],
   "source": [
    "torch.sum(delase_anesthesia_mary.S.cpu() >= 0.3)"
   ]
  },
  {
   "cell_type": "code",
   "execution_count": 108,
   "id": "5ea3cc23",
   "metadata": {},
   "outputs": [
    {
     "data": {
      "text/plain": [
       "[<matplotlib.lines.Line2D at 0x2ac68f8870d0>]"
      ]
     },
     "execution_count": 108,
     "metadata": {},
     "output_type": "execute_result"
    },
    {
     "data": {
      "image/png": "[encoded data removed]",
      "text/plain": [
       "<Figure size 640x480 with 1 Axes>"
      ]
     },
     "metadata": {},
     "output_type": "display_data"
    }
   ],
   "source": [
    "plt.plot(delase_anesthesia_mary.S.cpu()[2000:])\n",
    "plt.plot(delase.S.cpu()[2000:])"
   ]
  },
  {
   "cell_type": "code",
   "execution_count": null,
   "id": "26b95c1c",
   "metadata": {},
   "outputs": [],
   "source": []
  },
  {
   "cell_type": "code",
   "execution_count": 211,
   "id": "6fcc1e82",
   "metadata": {},
   "outputs": [
    {
     "data": {
      "application/vnd.jupyter.widget-view+json": {
       "model_id": "7f18d33fc8e947e98f102cb2cef445cc",
       "version_major": 2,
       "version_minor": 0
      },
      "text/plain": [
       "  0%|          | 0/17 [00:00<?, ?it/s]"
      ]
     },
     "metadata": {},
     "output_type": "display_data"
    },
    {
     "name": "stdout",
     "output_type": "stream",
     "text": [
      "CPU times: user 2min 49s, sys: 34.6 s, total: 3min 24s\n",
      "Wall time: 2min 28s\n"
     ]
    }
   ],
   "source": [
    "%%time\n",
    "i = 1000\n",
    "# i = 480\n",
    "data = load_window_from_chunks(i, i + 20, directory)\n",
    "delase = DeLASE(data[:window], 27, use_torch=True, device='cuda')\n",
    "delase.compute_havok_dmd(r_thresh=r_thresh, lamb=lamb)\n",
    "delase.dt = dt\n",
    "test_data = data[window:window + 5000]\n",
    "ip_ret = compute_integrated_performance(delase, test_data, full_return=True, verbose=True)\n",
    "delase.compute_jacobians()\n",
    "delase.get_stability(max_freq=500)\n",
    "\n",
    "wake_all_ip_ret = ip_ret\n",
    "wake_all_stab = delase.stability_params.cpu()"
   ]
  },
  {
   "cell_type": "code",
   "execution_count": 212,
   "id": "80a5bf51",
   "metadata": {},
   "outputs": [
    {
     "data": {
      "application/vnd.jupyter.widget-view+json": {
       "model_id": "736a2057c80148db8845f9942ad7a8dc",
       "version_major": 2,
       "version_minor": 0
      },
      "text/plain": [
       "  0%|          | 0/17 [00:00<?, ?it/s]"
      ]
     },
     "metadata": {},
     "output_type": "display_data"
    },
    {
     "name": "stdout",
     "output_type": "stream",
     "text": [
      "CPU times: user 2min 42s, sys: 32.1 s, total: 3min 14s\n",
      "Wall time: 2min 19s\n"
     ]
    }
   ],
   "source": [
    "%%time\n",
    "i = 5000\n",
    "# i = 480\n",
    "data = load_window_from_chunks(i, i + 20, directory)\n",
    "delase = DeLASE(data[:window], 27, use_torch=True, device='cuda')\n",
    "delase.compute_havok_dmd(r_thresh=r_thresh, lamb=lamb)\n",
    "delase.dt = dt\n",
    "test_data = data[window:window + 5000]\n",
    "ip_ret = compute_integrated_performance(delase, test_data, full_return=True, verbose=True)\n",
    "delase.compute_jacobians()\n",
    "delase.get_stability(max_freq=500)\n",
    "\n",
    "anesthesia_all_ip_ret = ip_ret\n",
    "anesthesia_all_stab = delase.stability_params.cpu()"
   ]
  },
  {
   "cell_type": "code",
   "execution_count": 215,
   "id": "c090f894",
   "metadata": {},
   "outputs": [
    {
     "data": {
      "text/plain": [
       "[<matplotlib.lines.Line2D at 0x2b19e89c9b50>]"
      ]
     },
     "execution_count": 215,
     "metadata": {},
     "output_type": "execute_result"
    },
    {
     "data": {
      "image/png": "[encoded data removed]",
      "text/plain": [
       "<Figure size 640x480 with 1 Axes>"
      ]
     },
     "metadata": {},
     "output_type": "display_data"
    }
   ],
   "source": [
    "plt.plot(wake_stab[:400])\n",
    "plt.plot(anesthesia_stab[:400])\n",
    "plt.plot(wake_all_stab[:400])\n",
    "plt.plot(anesthesia_all_stab[:400])"
   ]
  },
  {
   "cell_type": "markdown",
   "id": "512516f3",
   "metadata": {},
   "source": [
    "# Fixing"
   ]
  },
  {
   "cell_type": "code",
   "execution_count": 497,
   "id": "96b1f61e",
   "metadata": {},
   "outputs": [
    {
     "ename": "NotADirectoryError",
     "evalue": "[Errno 20] Not a directory: '/scratch2/weka/millerlab/eisenaj/ChaoticConsciousness/grid_search_results/MrJones-Anesthesia-20160121-01/NOT_NORMED/8340.518_window_15000_matrix_size_6400'",
     "output_type": "error",
     "traceback": [
      "\u001b[0;31m---------------------------------------------------------------------------\u001b[0m",
      "\u001b[0;31mNotADirectoryError\u001b[0m                        Traceback (most recent call last)",
      "Input \u001b[0;32mIn [497]\u001b[0m, in \u001b[0;36m<cell line: 1>\u001b[0;34m()\u001b[0m\n\u001b[1;32m      4\u001b[0m norm_folder \u001b[38;5;241m=\u001b[39m \u001b[38;5;124m\"\u001b[39m\u001b[38;5;124mNOT_NORMED\u001b[39m\u001b[38;5;124m\"\u001b[39m \u001b[38;5;28;01mif\u001b[39;00m \u001b[38;5;129;01mnot\u001b[39;00m norm \u001b[38;5;28;01melse\u001b[39;00m \u001b[38;5;124m\"\u001b[39m\u001b[38;5;124mNORMED\u001b[39m\u001b[38;5;124m\"\u001b[39m\n\u001b[1;32m      5\u001b[0m \u001b[38;5;28;01mfor\u001b[39;00m area \u001b[38;5;129;01min\u001b[39;00m os\u001b[38;5;241m.\u001b[39mlistdir(os\u001b[38;5;241m.\u001b[39mpath\u001b[38;5;241m.\u001b[39mjoin(results_dir, session, norm_folder)):\n\u001b[0;32m----> 6\u001b[0m     \u001b[38;5;28;01mfor\u001b[39;00m f \u001b[38;5;129;01min\u001b[39;00m \u001b[43mos\u001b[49m\u001b[38;5;241;43m.\u001b[39;49m\u001b[43mlistdir\u001b[49m\u001b[43m(\u001b[49m\u001b[43mos\u001b[49m\u001b[38;5;241;43m.\u001b[39;49m\u001b[43mpath\u001b[49m\u001b[38;5;241;43m.\u001b[39;49m\u001b[43mjoin\u001b[49m\u001b[43m(\u001b[49m\u001b[43mresults_dir\u001b[49m\u001b[43m,\u001b[49m\u001b[43m \u001b[49m\u001b[43msession\u001b[49m\u001b[43m,\u001b[49m\u001b[43m \u001b[49m\u001b[43mnorm_folder\u001b[49m\u001b[43m,\u001b[49m\u001b[43m \u001b[49m\u001b[43marea\u001b[49m\u001b[43m)\u001b[49m\u001b[43m)\u001b[49m:\n\u001b[1;32m      7\u001b[0m         t \u001b[38;5;241m=\u001b[39m \u001b[38;5;28mfloat\u001b[39m(f\u001b[38;5;241m.\u001b[39msplit(\u001b[38;5;124m'\u001b[39m\u001b[38;5;124m_\u001b[39m\u001b[38;5;124m'\u001b[39m)[\u001b[38;5;241m0\u001b[39m])\n\u001b[1;32m      8\u001b[0m         file_path \u001b[38;5;241m=\u001b[39m os\u001b[38;5;241m.\u001b[39mpath\u001b[38;5;241m.\u001b[39mjoin(results_dir, session, norm_folder, area, f)\n",
      "\u001b[0;31mNotADirectoryError\u001b[0m: [Errno 20] Not a directory: '/scratch2/weka/millerlab/eisenaj/ChaoticConsciousness/grid_search_results/MrJones-Anesthesia-20160121-01/NOT_NORMED/8340.518_window_15000_matrix_size_6400'"
     ]
    }
   ],
   "source": [
    "for session in os.listdir(results_dir):\n",
    "# for session in [session]:\n",
    "    session_results[session] = None\n",
    "    norm_folder = \"NOT_NORMED\" if not norm else \"NORMED\"\n",
    "    for area in os.listdir(os.path.join(results_dir, session, norm_folder)):\n",
    "        for f in os.listdir(os.path.join(results_dir, session, norm_folder, area)):\n",
    "            t = float(f.split('_')[0])\n",
    "            file_path = os.path.join(results_dir, session, norm_folder, area, f)\n",
    "            df = pd.DataFrame(pd.read_pickle(file_path))\n",
    "            if np.isnan(df.ip).sum() > 0:\n",
    "                print(file_path)\n",
    "            if 'matrix_size' not in df.columns:\n",
    "                df['matrix_size'] = 6400\n",
    "            if session_results[session] is None:\n",
    "#                 session_results[session] = df[['window', 'p', 'r_thresh', 'lamb', 'ip']]\n",
    "                session_results[session] = df[['window', 'matrix_size', 'r_thresh', 'lamb', 'ip']]\n",
    "#                 session_results[session] = session_results[session].set_index(['window', 'p', 'r_thresh', 'lamb'])\n",
    "                session_results[session] = session_results[session].set_index(['window', 'matrix_size', 'r_thresh', 'lamb'])\n",
    "                session_results[session]['count'] = 1\n",
    "                session_results[session]['ip_list'] = session_results[session].ip.apply(lambda x: [x])\n",
    "                session_results[session]['file_list'] = [file_path]*len(df)\n",
    "                session_results[session]['file_list'] = session_results[session]['file_list'].apply(lambda x: [x])\n",
    "            else:\n",
    "#                 df = df.set_index(['window', 'p', 'r_thresh', 'lamb'])\n",
    "                df = df.set_index(['window', 'matrix_size', 'r_thresh', 'lamb'])\n",
    "                for i in range(len(df)):\n",
    "                    index_val = df.index[i]\n",
    "                    row = df[['ip']].iloc[i]\n",
    "                    if index_val in session_results[session].index:\n",
    "                        session_results[session].loc[index_val, 'ip'] += row.ip\n",
    "                        session_results[session].loc[index_val, 'count'] += 1\n",
    "                        session_results[session].loc[index_val, 'ip_list'].append(row.ip)\n",
    "                        session_results[session].loc[index_val, 'file_list'].append(file_path)\n",
    "                    else:\n",
    "                        session_results[session] = pd.concat([session_results[session], df[['ip']].iloc[i:i+1]])\n",
    "                        session_results[session].loc[index_val, 'count'] = 1\n",
    "                        session_results[session].loc[index_val, 'ip_list'] = [row.ip]\n",
    "                        session_results[session].loc[index_val, 'file_list'] = [file_path]\n",
    "    session_results[session].ip = session_results[session].ip/session_results[session]['count']\n",
    "    window, matrix_size, r_thresh, lamb = session_results[session].ip.idxmax()\n",
    "    session_results[session] = dict(\n",
    "        df=session_results[session],\n",
    "        window=window,\n",
    "        matrix_size=matrix_size,\n",
    "        r_thresh=r_thresh,\n",
    "        lamb=lamb\n",
    "    )\n",
    "    \n",
    "    if len(session_results[session]['df']) == 1:\n",
    "        print(session)"
   ]
  },
  {
   "cell_type": "code",
   "execution_count": 488,
   "id": "e85ea337",
   "metadata": {},
   "outputs": [
    {
     "name": "stdout",
     "output_type": "stream",
     "text": [
      "Mary-Anesthesia-20160912-02\n"
     ]
    }
   ],
   "source": [
    "print(session)"
   ]
  },
  {
   "cell_type": "code",
   "execution_count": 489,
   "id": "6121fda5",
   "metadata": {},
   "outputs": [
    {
     "name": "stdout",
     "output_type": "stream",
     "text": [
      "NORMED\n"
     ]
    }
   ],
   "source": [
    "print(area)"
   ]
  },
  {
   "cell_type": "code",
   "execution_count": null,
   "id": "5c56bd7d",
   "metadata": {},
   "outputs": [],
   "source": []
  }
 ],
 "metadata": {
  "kernelspec": {
   "display_name": "Python 3 (ipykernel)",
   "language": "python",
   "name": "python3"
  },
  "language_info": {
   "codemirror_mode": {
    "name": "ipython",
    "version": 3
   },
   "file_extension": ".py",
   "mimetype": "text/x-python",
   "name": "python",
   "nbconvert_exporter": "python",
   "pygments_lexer": "ipython3",
   "version": "3.9.1"
  }
 },
 "nbformat": 4,
 "nbformat_minor": 5
}
