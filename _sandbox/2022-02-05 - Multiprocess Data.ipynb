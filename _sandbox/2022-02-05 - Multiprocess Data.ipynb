{
 "cells": [
  {
   "cell_type": "code",
   "execution_count": 1,
   "id": "997b5b57",
   "metadata": {},
   "outputs": [],
   "source": [
    "%load_ext autoreload"
   ]
  },
  {
   "cell_type": "code",
   "execution_count": 2,
   "id": "0aeb3f25",
   "metadata": {},
   "outputs": [],
   "source": [
    "%autoreload 2\n",
    "import os\n",
    "import re\n",
    "import sys\n",
    "\n",
    "sys.path.append('..')\n",
    "from utils import get_result_path, split_data_into_windows"
   ]
  },
  {
   "cell_type": "markdown",
   "id": "6eb82c61",
   "metadata": {},
   "source": [
    "# Multiprocess Unprocessed Data"
   ]
  },
  {
   "cell_type": "code",
   "execution_count": 3,
   "id": "74ccf8dd",
   "metadata": {},
   "outputs": [],
   "source": [
    "data_dir = \"/om/user/eisenaj/datasets/anesthesia/mat/propofolPuffTone\"\n",
    "results_dir = \"/om/user/eisenaj/ChaoticConsciousness/results/propofolPuffTone/VAR\"\n",
    "# data_dir = \"/om/user/eisenaj/datasets/anesthesia/mat/ketamine\"\n",
    "# results_dir = \"/om/user/eisenaj/ChaoticConsciousness/results/ketamine/VAR\"\n",
    "window = 5\n",
    "stride = 5\n",
    "task_type = 'VAR'\n",
    "data_file_regex = re.compile(\".*.mat\")\n",
    "data_files = [f for f in os.listdir(data_dir) if data_file_regex.match(f)]\n",
    "\n",
    "sessions_to_run = []\n",
    "for data_file in data_files:\n",
    "    session = data_file[:-4]\n",
    "    try:\n",
    "        get_result_path(results_dir, session, window, stride)\n",
    "    except:\n",
    "        sessions_to_run.append(session)"
   ]
  },
  {
   "cell_type": "code",
   "execution_count": 4,
   "id": "7051c938",
   "metadata": {},
   "outputs": [
    {
     "name": "stdout",
     "output_type": "stream",
     "text": [
      "Mary-Anesthesia-20160818-02\n",
      "Loading data ...\n",
      "Data loaded (took 104.63 seconds)\n",
      "5 5\n",
      "window = 5 s\n"
     ]
    },
    {
     "data": {
      "application/vnd.jupyter.widget-view+json": {
       "model_id": "2334d3eed8414bd286825007cd75ad01",
       "version_major": 2,
       "version_minor": 0
      },
      "text/plain": [
       "  0%|          | 0/1127 [00:00<?, ?it/s]"
      ]
     },
     "metadata": {},
     "output_type": "display_data"
    },
    {
     "name": "stdout",
     "output_type": "stream",
     "text": [
      "Submitted batch job 23384269\n",
      "Mary-Anesthesia-20160912-02\n",
      "Loading data ...\n",
      "Data loaded (took 118.16 seconds)\n",
      "5 5\n",
      "window = 5 s\n"
     ]
    },
    {
     "data": {
      "application/vnd.jupyter.widget-view+json": {
       "model_id": "69de3bc374f945dd8973ffab6f06b53b",
       "version_major": 2,
       "version_minor": 0
      },
      "text/plain": [
       "  0%|          | 0/1294 [00:00<?, ?it/s]"
      ]
     },
     "metadata": {},
     "output_type": "display_data"
    },
    {
     "name": "stdout",
     "output_type": "stream",
     "text": [
      "Submitted batch job 23384282\n",
      "Mary-Anesthesia-20160902-02\n",
      "Loading data ...\n",
      "Data loaded (took 123.18 seconds)\n",
      "5 5\n",
      "window = 5 s\n"
     ]
    },
    {
     "data": {
      "application/vnd.jupyter.widget-view+json": {
       "model_id": "c8b8c319cf9c4513956c9a7042705ef0",
       "version_major": 2,
       "version_minor": 0
      },
      "text/plain": [
       "  0%|          | 0/1376 [00:00<?, ?it/s]"
      ]
     },
     "metadata": {},
     "output_type": "display_data"
    },
    {
     "name": "stdout",
     "output_type": "stream",
     "text": [
      "Submitted batch job 23384284\n",
      "MrJones-Anesthesia-20160121-01\n",
      "Loading data ...\n",
      "Data loaded (took 172.17 seconds)\n",
      "5 5\n",
      "window = 5 s\n"
     ]
    },
    {
     "data": {
      "application/vnd.jupyter.widget-view+json": {
       "model_id": "5d9cfa17de174e0cbab015c635d88842",
       "version_major": 2,
       "version_minor": 0
      },
      "text/plain": [
       "  0%|          | 0/2016 [00:00<?, ?it/s]"
      ]
     },
     "metadata": {},
     "output_type": "display_data"
    },
    {
     "name": "stdout",
     "output_type": "stream",
     "text": [
      "Submitted batch job 23384347\n",
      "MrJones-Anesthesia-20160113-01\n",
      "Loading data ...\n",
      "Data loaded (took 175.09 seconds)\n",
      "5 5\n",
      "window = 5 s\n"
     ]
    },
    {
     "data": {
      "application/vnd.jupyter.widget-view+json": {
       "model_id": "9f51a2d4f43f4504ad40433fec8b52bb",
       "version_major": 2,
       "version_minor": 0
      },
      "text/plain": [
       "  0%|          | 0/2088 [00:00<?, ?it/s]"
      ]
     },
     "metadata": {},
     "output_type": "display_data"
    },
    {
     "name": "stdout",
     "output_type": "stream",
     "text": [
      "Submitted batch job 23384373\n",
      "MrJones-Anesthesia-20160109-01\n",
      "Loading data ...\n",
      "Data loaded (took 213.14 seconds)\n",
      "5 5\n",
      "window = 5 s\n"
     ]
    },
    {
     "data": {
      "application/vnd.jupyter.widget-view+json": {
       "model_id": "8d210f5d1c384adaa29233c1c7c13a73",
       "version_major": 2,
       "version_minor": 0
      },
      "text/plain": [
       "  0%|          | 0/2432 [00:00<?, ?it/s]"
      ]
     },
     "metadata": {},
     "output_type": "display_data"
    },
    {
     "name": "stdout",
     "output_type": "stream",
     "text": [
      "Submitted batch job 23384410\n",
      "MrJones-Anesthesia-20160210-01\n",
      "Loading data ...\n",
      "Data loaded (took 161.69 seconds)\n",
      "5 5\n",
      "window = 5 s\n"
     ]
    },
    {
     "data": {
      "application/vnd.jupyter.widget-view+json": {
       "model_id": "c6913f38b3e8429da8b1f96e26461965",
       "version_major": 2,
       "version_minor": 0
      },
      "text/plain": [
       "  0%|          | 0/1944 [00:00<?, ?it/s]"
      ]
     },
     "metadata": {},
     "output_type": "display_data"
    },
    {
     "name": "stdout",
     "output_type": "stream",
     "text": [
      "Submitted batch job 23384460\n",
      "MrJones-Anesthesia-20160123-01\n",
      "Loading data ...\n",
      "Data loaded (took 194.27 seconds)\n",
      "5 5\n",
      "window = 5 s\n"
     ]
    },
    {
     "data": {
      "application/vnd.jupyter.widget-view+json": {
       "model_id": "ef2b5338fdea4686baf21a116592ddf4",
       "version_major": 2,
       "version_minor": 0
      },
      "text/plain": [
       "  0%|          | 0/2325 [00:00<?, ?it/s]"
      ]
     },
     "metadata": {},
     "output_type": "display_data"
    },
    {
     "name": "stdout",
     "output_type": "stream",
     "text": [
      "Submitted batch job 23384506\n",
      "Mary-Anesthesia-20160826-02\n",
      "Loading data ...\n",
      "Data loaded (took 121.01 seconds)\n",
      "5 5\n",
      "window = 5 s\n"
     ]
    },
    {
     "data": {
      "application/vnd.jupyter.widget-view+json": {
       "model_id": "18d35ab9aa124572b62ea1f47c16be58",
       "version_major": 2,
       "version_minor": 0
      },
      "text/plain": [
       "  0%|          | 0/1344 [00:00<?, ?it/s]"
      ]
     },
     "metadata": {},
     "output_type": "display_data"
    },
    {
     "name": "stdout",
     "output_type": "stream",
     "text": [
      "Submitted batch job 23384535\n",
      "MrJones-Anesthesia-20160125-01\n",
      "Loading data ...\n",
      "Data loaded (took 180.78 seconds)\n",
      "5 5\n",
      "window = 5 s\n"
     ]
    },
    {
     "data": {
      "application/vnd.jupyter.widget-view+json": {
       "model_id": "f5fa304f04a64b66a4f569170ab1af02",
       "version_major": 2,
       "version_minor": 0
      },
      "text/plain": [
       "  0%|          | 0/2011 [00:00<?, ?it/s]"
      ]
     },
     "metadata": {},
     "output_type": "display_data"
    },
    {
     "name": "stdout",
     "output_type": "stream",
     "text": [
      "Submitted batch job 23384552\n",
      "MrJones-Anesthesia-20160301-01\n",
      "Loading data ...\n",
      "Data loaded (took 166.52 seconds)\n",
      "5 5\n",
      "window = 5 s\n"
     ]
    },
    {
     "data": {
      "application/vnd.jupyter.widget-view+json": {
       "model_id": "d2861140991847ee8188ab0dedb6e562",
       "version_major": 2,
       "version_minor": 0
      },
      "text/plain": [
       "  0%|          | 0/1974 [00:00<?, ?it/s]"
      ]
     },
     "metadata": {},
     "output_type": "display_data"
    },
    {
     "name": "stdout",
     "output_type": "stream",
     "text": [
      "Submitted batch job 23384594\n",
      "MrJones-Anesthesia-20160201-01\n",
      "Loading data ...\n",
      "Data loaded (took 172.76 seconds)\n",
      "5 5\n",
      "window = 5 s\n"
     ]
    },
    {
     "data": {
      "application/vnd.jupyter.widget-view+json": {
       "model_id": "471616508ab34e039ae13f9ce23217be",
       "version_major": 2,
       "version_minor": 0
      },
      "text/plain": [
       "  0%|          | 0/2029 [00:00<?, ?it/s]"
      ]
     },
     "metadata": {},
     "output_type": "display_data"
    },
    {
     "name": "stdout",
     "output_type": "stream",
     "text": [
      "Submitted batch job 23384632\n",
      "MrJones-Anesthesia-20160107-01\n",
      "Loading data ...\n",
      "Data loaded (took 211.43 seconds)\n",
      "5 5\n",
      "window = 5 s\n"
     ]
    },
    {
     "data": {
      "application/vnd.jupyter.widget-view+json": {
       "model_id": "44f238a06a3b4b28bb8bc9c5dddd07ef",
       "version_major": 2,
       "version_minor": 0
      },
      "text/plain": [
       "  0%|          | 0/2612 [00:00<?, ?it/s]"
      ]
     },
     "metadata": {},
     "output_type": "display_data"
    },
    {
     "name": "stdout",
     "output_type": "stream",
     "text": [
      "Submitted batch job 23384678\n",
      "Mary-Anesthesia-20160914-02\n",
      "Loading data ...\n",
      "Data loaded (took 108.78 seconds)\n",
      "5 5\n",
      "window = 5 s\n"
     ]
    },
    {
     "data": {
      "application/vnd.jupyter.widget-view+json": {
       "model_id": "fe0e4a4028fc4a6ab4981c440cc11dc5",
       "version_major": 2,
       "version_minor": 0
      },
      "text/plain": [
       "  0%|          | 0/1234 [00:00<?, ?it/s]"
      ]
     },
     "metadata": {},
     "output_type": "display_data"
    },
    {
     "name": "stdout",
     "output_type": "stream",
     "text": [
      "Submitted batch job 23384689\n",
      "MrJones-Anesthesia-20160206-01\n",
      "Loading data ...\n",
      "Data loaded (took 181.51 seconds)\n",
      "5 5\n",
      "window = 5 s\n"
     ]
    },
    {
     "data": {
      "application/vnd.jupyter.widget-view+json": {
       "model_id": "649e19a23e8648e8a84c306adea9b84f",
       "version_major": 2,
       "version_minor": 0
      },
      "text/plain": [
       "  0%|          | 0/2127 [00:00<?, ?it/s]"
      ]
     },
     "metadata": {},
     "output_type": "display_data"
    },
    {
     "name": "stdout",
     "output_type": "stream",
     "text": [
      "Submitted batch job 23384724\n",
      "Mary-Anesthesia-20160822-02\n",
      "Loading data ...\n",
      "Data loaded (took 107.77 seconds)\n",
      "5 5\n",
      "window = 5 s\n"
     ]
    },
    {
     "data": {
      "application/vnd.jupyter.widget-view+json": {
       "model_id": "72bbf52bf3ea41cf942962063a7e8b4e",
       "version_major": 2,
       "version_minor": 0
      },
      "text/plain": [
       "  0%|          | 0/1204 [00:00<?, ?it/s]"
      ]
     },
     "metadata": {},
     "output_type": "display_data"
    },
    {
     "name": "stdout",
     "output_type": "stream",
     "text": [
      "Submitted batch job 23384748\n",
      "Mary-Anesthesia-20160831-02\n",
      "Loading data ...\n",
      "Data loaded (took 109.56 seconds)\n",
      "5 5\n",
      "window = 5 s\n"
     ]
    },
    {
     "data": {
      "application/vnd.jupyter.widget-view+json": {
       "model_id": "228e0731c7f745249334f1336bfb8253",
       "version_major": 2,
       "version_minor": 0
      },
      "text/plain": [
       "  0%|          | 0/1235 [00:00<?, ?it/s]"
      ]
     },
     "metadata": {},
     "output_type": "display_data"
    },
    {
     "name": "stdout",
     "output_type": "stream",
     "text": [
      "Submitted batch job 23384775\n",
      "Mary-Anesthesia-20160908-02\n",
      "Loading data ...\n",
      "Data loaded (took 129.40 seconds)\n",
      "5 5\n",
      "window = 5 s\n"
     ]
    },
    {
     "data": {
      "application/vnd.jupyter.widget-view+json": {
       "model_id": "e865420017344523b70bdf5c55b4fbb0",
       "version_major": 2,
       "version_minor": 0
      },
      "text/plain": [
       "  0%|          | 0/1322 [00:00<?, ?it/s]"
      ]
     },
     "metadata": {},
     "output_type": "display_data"
    },
    {
     "name": "stdout",
     "output_type": "stream",
     "text": [
      "Submitted batch job 23384792\n",
      "Mary-Anesthesia-20160916-02\n",
      "Loading data ...\n",
      "Data loaded (took 126.87 seconds)\n",
      "5 5\n",
      "window = 5 s\n"
     ]
    },
    {
     "data": {
      "application/vnd.jupyter.widget-view+json": {
       "model_id": "36043e4b24054ea9adb9f2c1a25d459d",
       "version_major": 2,
       "version_minor": 0
      },
      "text/plain": [
       "  0%|          | 0/1289 [00:00<?, ?it/s]"
      ]
     },
     "metadata": {},
     "output_type": "display_data"
    },
    {
     "name": "stdout",
     "output_type": "stream",
     "text": [
      "Submitted batch job 23384809\n"
     ]
    }
   ],
   "source": [
    "for session in tqdm(sessions_to_run):\n",
    "    print(f\"{session}\")\n",
    "    if not os.path.exists(os.path.join(data_dir, f\"{session}_window_{window}_stride_{stride}\")):\n",
    "        split_data_into_windows(session, os.path.dirname(data_dir), windows=[window], strides=[stride])\n",
    "    os.system(f'sbatch /om2/user/eisenaj/code/ChaoticConsciousness/shell_scripts/multiproc.sh {session} {window} {stride} {task_type}')"
   ]
  },
  {
   "cell_type": "markdown",
   "id": "d0c5633c",
   "metadata": {},
   "source": [
    "# Submit A Bunch of Windows"
   ]
  },
  {
   "cell_type": "code",
   "execution_count": 8,
   "id": "ab793600",
   "metadata": {},
   "outputs": [],
   "source": [
    "data_dir = \"/om/user/eisenaj/datasets/anesthesia/mat/propofolPuffTone\"\n",
    "results_dir = \"/om/user/eisenaj/ChaoticConsciousness/results/propofolPuffTone/VAR\"\n",
    "session = 'MrJones-Anesthesia-20160105-01'\n",
    "# session = 'Mary-Anesthesia-20160809-01'\n",
    "windows = [0.5, 1, 1.5, 2, 2.5, 3, 3.5, 4, 4.5, 5, 5.5, 6, 6.5, 7, 7.5, 8, 8.5, 9, 9.5, 10]\n",
    "# windows = [5]\n",
    "task_type = 'VAR'\n",
    "\n",
    "windows_to_run = []\n",
    "for window in windows:\n",
    "    try:\n",
    "        get_result_path(results_dir, session, window, window)\n",
    "    except:\n",
    "        windows_to_run.append(window)"
   ]
  },
  {
   "cell_type": "code",
   "execution_count": 9,
   "id": "20fde1e9",
   "metadata": {},
   "outputs": [
    {
     "name": "stdout",
     "output_type": "stream",
     "text": [
      "Loading data ...\n",
      "Data loaded (took 250.91 seconds)\n",
      "3.5 3.5\n",
      "window = 3.5 s\n"
     ]
    },
    {
     "data": {
      "application/vnd.jupyter.widget-view+json": {
       "model_id": "5358b0b67d0443f98e9f1d2079b43999",
       "version_major": 2,
       "version_minor": 0
      },
      "text/plain": [
       "  0%|          | 0/3555 [00:00<?, ?it/s]"
      ]
     },
     "metadata": {},
     "output_type": "display_data"
    },
    {
     "name": "stdout",
     "output_type": "stream",
     "text": [
      "4.5 4.5\n",
      "window = 4.5 s\n"
     ]
    },
    {
     "data": {
      "application/vnd.jupyter.widget-view+json": {
       "model_id": "2b24ef11724c4ce98d414d5b0ee79cb0",
       "version_major": 2,
       "version_minor": 0
      },
      "text/plain": [
       "  0%|          | 0/2765 [00:00<?, ?it/s]"
      ]
     },
     "metadata": {},
     "output_type": "display_data"
    },
    {
     "name": "stdout",
     "output_type": "stream",
     "text": [
      "5.5 5.5\n",
      "window = 5.5 s\n"
     ]
    },
    {
     "data": {
      "application/vnd.jupyter.widget-view+json": {
       "model_id": "6ae1b0ee0a5e43759bdad9a9768bbe12",
       "version_major": 2,
       "version_minor": 0
      },
      "text/plain": [
       "  0%|          | 0/2262 [00:00<?, ?it/s]"
      ]
     },
     "metadata": {},
     "output_type": "display_data"
    },
    {
     "name": "stdout",
     "output_type": "stream",
     "text": [
      "6 6\n",
      "window = 6 s\n"
     ]
    },
    {
     "data": {
      "application/vnd.jupyter.widget-view+json": {
       "model_id": "2d512f20c799488eab40da3b3d3e93cc",
       "version_major": 2,
       "version_minor": 0
      },
      "text/plain": [
       "  0%|          | 0/2074 [00:00<?, ?it/s]"
      ]
     },
     "metadata": {},
     "output_type": "display_data"
    },
    {
     "name": "stdout",
     "output_type": "stream",
     "text": [
      "6.5 6.5\n",
      "window = 6.5 s\n"
     ]
    },
    {
     "data": {
      "application/vnd.jupyter.widget-view+json": {
       "model_id": "999a7ec6d5244a56b0cab9db23872dc4",
       "version_major": 2,
       "version_minor": 0
      },
      "text/plain": [
       "  0%|          | 0/1914 [00:00<?, ?it/s]"
      ]
     },
     "metadata": {},
     "output_type": "display_data"
    },
    {
     "name": "stdout",
     "output_type": "stream",
     "text": [
      "7 7\n",
      "window = 7 s\n"
     ]
    },
    {
     "data": {
      "application/vnd.jupyter.widget-view+json": {
       "model_id": "d94d655fd13d4350b1d906813b7c18c3",
       "version_major": 2,
       "version_minor": 0
      },
      "text/plain": [
       "  0%|          | 0/1777 [00:00<?, ?it/s]"
      ]
     },
     "metadata": {},
     "output_type": "display_data"
    },
    {
     "name": "stdout",
     "output_type": "stream",
     "text": [
      "8 8\n",
      "window = 8 s\n"
     ]
    },
    {
     "data": {
      "application/vnd.jupyter.widget-view+json": {
       "model_id": "6861de512aa3458c82652257f3b3ad4c",
       "version_major": 2,
       "version_minor": 0
      },
      "text/plain": [
       "  0%|          | 0/1555 [00:00<?, ?it/s]"
      ]
     },
     "metadata": {},
     "output_type": "display_data"
    },
    {
     "name": "stderr",
     "output_type": "stream",
     "text": [
      "IOPub message rate exceeded.\n",
      "The notebook server will temporarily stop sending output\n",
      "to the client in order to avoid crashing it.\n",
      "To change this limit, set the config variable\n",
      "`--NotebookApp.iopub_msg_rate_limit`.\n",
      "\n",
      "Current values:\n",
      "NotebookApp.iopub_msg_rate_limit=1000.0 (msgs/sec)\n",
      "NotebookApp.rate_limit_window=3.0 (secs)\n",
      "\n"
     ]
    },
    {
     "name": "stdout",
     "output_type": "stream",
     "text": [
      "8.5 8.5\n",
      "window = 8.5 s\n"
     ]
    },
    {
     "data": {
      "application/vnd.jupyter.widget-view+json": {
       "model_id": "618c199ffce54250bd160dc1bf0fdf3d",
       "version_major": 2,
       "version_minor": 0
      },
      "text/plain": [
       "  0%|          | 0/1464 [00:00<?, ?it/s]"
      ]
     },
     "metadata": {},
     "output_type": "display_data"
    },
    {
     "name": "stdout",
     "output_type": "stream",
     "text": [
      "9 9\n",
      "window = 9 s\n"
     ]
    },
    {
     "data": {
      "application/vnd.jupyter.widget-view+json": {
       "model_id": "0e2d6f5e3a7c41ec95145148d051ceb8",
       "version_major": 2,
       "version_minor": 0
      },
      "text/plain": [
       "  0%|          | 0/1382 [00:00<?, ?it/s]"
      ]
     },
     "metadata": {},
     "output_type": "display_data"
    },
    {
     "name": "stdout",
     "output_type": "stream",
     "text": [
      "9.5 9.5\n",
      "window = 9.5 s\n"
     ]
    },
    {
     "data": {
      "application/vnd.jupyter.widget-view+json": {
       "model_id": "259410e207754edab5fa6ef05d8278c2",
       "version_major": 2,
       "version_minor": 0
      },
      "text/plain": [
       "  0%|          | 0/1309 [00:00<?, ?it/s]"
      ]
     },
     "metadata": {},
     "output_type": "display_data"
    }
   ],
   "source": [
    "windows_to_split = []\n",
    "for window in windows_to_run:\n",
    "    stride = window\n",
    "    if not os.path.exists(os.path.join(data_dir, f\"{session}_window_{window}_stride_{stride}\")):\n",
    "        windows_to_split.append(window)\n",
    "if len(windows_to_split) > 0:\n",
    "    split_data_into_windows(session, os.path.dirname(data_dir), windows=windows_to_split, strides=windows_to_split)\n",
    "else:\n",
    "    print(\"All windows already split.\")"
   ]
  },
  {
   "cell_type": "code",
   "execution_count": null,
   "id": "437ff148",
   "metadata": {},
   "outputs": [
    {
     "name": "stdout",
     "output_type": "stream",
     "text": [
      "Submitted batch job 23429245\n",
      "Submitted batch job 23429246\n",
      "Submitted batch job 23429247\n",
      "Submitted batch job 23429248\n",
      "Submitted batch job 23429249\n",
      "Submitted batch job 23429250\n",
      "Submitted batch job 23429251\n",
      "Submitted batch job 23429252\n",
      "Submitted batch job 23429253\n"
     ]
    }
   ],
   "source": [
    "for window in windows_to_run:\n",
    "    stride = window\n",
    "    os.system(f'sbatch /om2/user/eisenaj/code/ChaoticConsciousness/shell_scripts/multiproc.sh {session} {window} {stride} {task_type}')"
   ]
  },
  {
   "cell_type": "markdown",
   "id": "65e89edd",
   "metadata": {},
   "source": [
    "# Test"
   ]
  },
  {
   "cell_type": "code",
   "execution_count": 13,
   "id": "def12426",
   "metadata": {},
   "outputs": [],
   "source": [
    "from utils import get_data_class\n",
    "import time\n",
    "from neural_analysis.matIO import loadmat"
   ]
  },
  {
   "cell_type": "code",
   "execution_count": 26,
   "id": "7993bc92",
   "metadata": {},
   "outputs": [
    {
     "name": "stdout",
     "output_type": "stream",
     "text": [
      "Loading data ...\n",
      "Data loaded (took 152.78 seconds)\n"
     ]
    }
   ],
   "source": [
    "# session = results_to_process[0][0]\n",
    "session = 'MrJones-Anesthesia-20160206-01'\n",
    "# VAR_results_dir = results_to_process[0][1]\n",
    "\n",
    "all_data_dir = f\"/om/user/eisenaj/datasets/anesthesia/mat\"\n",
    "    \n",
    "data_class = get_data_class(session, all_data_dir)\n",
    "save_dir = f\"/om/user/eisenaj/ChaoticConsciousness/plots/{data_class}/VAR/{session}\"\n",
    "os.makedirs(save_dir, exist_ok=True)\n",
    "\n",
    "# LOAD NEURAL DATA    \n",
    "filename = os.path.join(all_data_dir, data_class, f'{session}.mat')\n",
    "print(\"Loading data ...\")\n",
    "start = time.process_time()\n",
    "electrode_info, lfp, lfp_schema, session_info, spike_times, unit_info = loadmat(filename, variables=['electrodeInfo', 'lfp', 'lfpSchema', 'sessionInfo', 'spikeTimes', 'unitInfo'], verbose=False)\n",
    "spike_times = spike_times[0]\n",
    "dt = lfp_schema['smpInterval'][0]\n",
    "# T = lfp.shape[0]\n",
    "\n",
    "print(f\"Data loaded (took {time.process_time() - start:.2f} seconds)\")\n",
    "\n",
    "# # LOAD VAR RESULTS\n",
    "# VAR_results = {}\n",
    "# for file in tqdm(os.listdir(VAR_results_dir)):\n",
    "#     try:\n",
    "#         VAR_results[file] = load(os.path.join(VAR_results_dir, file))\n",
    "#     except IsADirectoryError:\n",
    "#         print(f\"Need to compile {os.path.join(VAR_results_dir, file)}\")\n",
    "#         # compile results\n",
    "#         VAR_results[file] = compile_folder(os.path.join(VAR_results_dir, file))"
   ]
  },
  {
   "cell_type": "code",
   "execution_count": 27,
   "id": "8636aeac",
   "metadata": {},
   "outputs": [
    {
     "data": {
      "text/plain": [
       "(10669628, 232)"
      ]
     },
     "execution_count": 27,
     "metadata": {},
     "output_type": "execute_result"
    }
   ],
   "source": [
    "lfp.shape"
   ]
  },
  {
   "cell_type": "code",
   "execution_count": 28,
   "id": "a400f911",
   "metadata": {},
   "outputs": [
    {
     "data": {
      "text/plain": [
       "233"
      ]
     },
     "execution_count": 28,
     "metadata": {},
     "output_type": "execute_result"
    }
   ],
   "source": [
    "len(electrode_info['area'])"
   ]
  },
  {
   "cell_type": "code",
   "execution_count": null,
   "id": "1a73d165",
   "metadata": {},
   "outputs": [],
   "source": []
  }
 ],
 "metadata": {
  "kernelspec": {
   "display_name": "Python 3 (ipykernel)",
   "language": "python",
   "name": "python3"
  },
  "language_info": {
   "codemirror_mode": {
    "name": "ipython",
    "version": 3
   },
   "file_extension": ".py",
   "mimetype": "text/x-python",
   "name": "python",
   "nbconvert_exporter": "python",
   "pygments_lexer": "ipython3",
   "version": "3.9.1"
  }
 },
 "nbformat": 4,
 "nbformat_minor": 5
}
