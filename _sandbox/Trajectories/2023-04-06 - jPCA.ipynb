{
 "cells": [
  {
   "cell_type": "code",
   "execution_count": 1,
   "id": "8a49507d",
   "metadata": {},
   "outputs": [],
   "source": [
    "%load_ext autoreload"
   ]
  },
  {
   "cell_type": "code",
   "execution_count": 2,
   "id": "3e2872e2",
   "metadata": {},
   "outputs": [],
   "source": [
    "%autoreload 2\n",
    "\n",
    "from copy import deepcopy\n",
    "import logging\n",
    "import math\n",
    "from matplotlib.cm import get_cmap, ScalarMappable\n",
    "from matplotlib import colors\n",
    "from matplotlib.colors import Normalize\n",
    "import matplotlib.pyplot as plt\n",
    "import os\n",
    "import pandas as pd\n",
    "import scipy\n",
    "from scipy.spatial.distance import pdist, squareform\n",
    "from sklearn.metrics import r2_score\n",
    "import sys\n",
    "\n",
    "sys.path.append('../../')\n",
    "from data_utils import *\n",
    "\n",
    "sys.path.append('../../../DeLASE')\n",
    "from delase import *\n",
    "from utils import numpy_torch_conversion\n",
    "from stability_estimation import *\n",
    "from parameter_choosing import *\n",
    "from performance_metrics import *\n",
    "\n",
    "sys.path.append('/om2/user/eisenaj/code/repos/jPCA')\n",
    "from jPCA import jPCA\n",
    "\n",
    "plt.style.use('../../sci_style.py')"
   ]
  },
  {
   "cell_type": "markdown",
   "id": "6ff57ca5",
   "metadata": {},
   "source": [
    "# Load Data"
   ]
  },
  {
   "cell_type": "code",
   "execution_count": 3,
   "id": "32d94ab1",
   "metadata": {},
   "outputs": [],
   "source": [
    "# session = 'MrJones-Anesthesia-20160109-01'\n",
    "session = 'Mary-Anesthesia-20160912-02'\n",
    "results_dir = '/scratch2/weka/millerlab/eisenaj/ChaoticConsciousness/session_results'"
   ]
  },
  {
   "cell_type": "code",
   "execution_count": 4,
   "id": "320fde4c",
   "metadata": {},
   "outputs": [],
   "source": [
    "all_data_dir = '/scratch2/weka/millerlab/eisenaj/datasets/anesthesia/mat'\n",
    "data_class = get_data_class(session, all_data_dir)\n",
    "\n",
    "os.environ[\"HDF5_USE_FILE_LOCKING\"] = \"FALSE\"\n",
    "# variables = ['electrodeInfo', 'lfp', 'lfpSchema', 'sessionInfo', 'trialInfo', 'unitInfo']\n",
    "# session_vars, T, N, dt = load_session_data(session, all_data_dir, variables, data_class=data_class, verbose=False)\n",
    "# electrode_info, lfp, lfp_schema, session_info, trial_info, unit_info = session_vars['electrodeInfo'], session_vars['lfp'], session_vars['lfpSchema'], session_vars['sessionInfo'], session_vars['trialInfo'], session_vars['unitInfo']\n",
    "\n",
    "variables = ['electrodeInfo', 'lfp', 'lfpSchema', 'sessionInfo', 'trialInfo', 'unitInfo']\n",
    "session_vars, T, N, dt = load_session_data(session, all_data_dir, variables, data_class=data_class, verbose=False)\n",
    "electrode_info, lfp, lfp_schema, session_info, trial_info, unit_info = session_vars['electrodeInfo'], session_vars['lfp'], session_vars['lfpSchema'], session_vars['sessionInfo'], session_vars['trialInfo'], session_vars['unitInfo']"
   ]
  },
  {
   "cell_type": "code",
   "execution_count": 5,
   "id": "27a62943",
   "metadata": {},
   "outputs": [],
   "source": [
    "eyes_open = session_info['eyesOpen'][-1] if isinstance(session_info['eyesOpen'], np.ndarray) else session_info['eyesOpen']\n",
    "eyes_close = session_info['eyesClose'][-1] if isinstance(session_info['eyesClose'], np.ndarray) else session_info['eyesClose']"
   ]
  },
  {
   "cell_type": "code",
   "execution_count": 6,
   "id": "e585ebfc",
   "metadata": {},
   "outputs": [],
   "source": [
    "section_times = dict( \n",
    "        wake=(0, session_info['drugStart'][0]),\n",
    "        induction=(session_info['drugStart'][0], eyes_close),\n",
    "        anesthesia=(eyes_close, session_info['drugEnd'][1]),\n",
    "        recovery=(session_info['drugEnd'][1], T*dt)\n",
    ")\n",
    "sections = list(section_times.keys())"
   ]
  },
  {
   "cell_type": "code",
   "execution_count": 7,
   "id": "b8d08cb2",
   "metadata": {},
   "outputs": [],
   "source": [
    "tone_on = trial_info['cpt_toneOn'][~np.isnan(trial_info['cpt_toneOn'])]\n",
    "tone_off = trial_info['cpt_toneOff'][~np.isnan(trial_info['cpt_toneOff'])]"
   ]
  },
  {
   "cell_type": "code",
   "execution_count": 9,
   "id": "83736f49",
   "metadata": {},
   "outputs": [],
   "source": [
    "class PCA:\n",
    "    def __init__(self, n_components=None, use_torch=False, device='cpu', dtype='torch.DoubleTensor'):\n",
    "        self.n_components = n_components\n",
    "        self.use_torch = use_torch\n",
    "        self.device = device\n",
    "        self.dtype = dtype\n",
    "        \n",
    "    def compute_multidim_mean(self, data):\n",
    "        return data.mean(axis=tuple(np.arange(0, len(data.shape)-1)))\n",
    "    \n",
    "    def fit(self, data):\n",
    "        data = numpy_torch_conversion(data, self.use_torch, self.device, self.dtype)   \n",
    "        data_centered = data - self.compute_multidim_mean(data)\n",
    "        if self.use_torch:\n",
    "            U, S, Vh = torch.linalg.svd(data_centered, full_matrices=False)\n",
    "            self.U = U.cpu().numpy()\n",
    "            self.S = S.cpu().numpy()\n",
    "            self.V = Vh.cpu().numpy().T\n",
    "\n",
    "        else:\n",
    "            U, S, Vh = np.linalg.svd(data_centered, full_matrices=False)\n",
    "            self.U = U\n",
    "            self.S = S\n",
    "            self.V = Vh.T\n",
    "        \n",
    "        self.explained_variance_ = ((S**2)/(data.shape[0] - 1))[:self.n_components]\n",
    "    \n",
    "    def transform(self, data):\n",
    "        data = numpy_torch_conversion(data, self.use_torch, self.device, self.dtype)\n",
    "        data_centered = data - self.compute_multidim_mean(data)\n",
    "        return (data_centered) @ self.V[:, :self.n_components]\n",
    "\n",
    "    def fit_transform(self, data):\n",
    "        self.fit(data)\n",
    "        return self.transform(data)"
   ]
  },
  {
   "cell_type": "code",
   "execution_count": 10,
   "id": "eace3721",
   "metadata": {},
   "outputs": [],
   "source": [
    "leadup = 2000\n",
    "post = 2000\n",
    "p = 10\n",
    "# leadup = 500\n",
    "# post = 1500"
   ]
  },
  {
   "cell_type": "code",
   "execution_count": 11,
   "id": "d6c9488d",
   "metadata": {},
   "outputs": [],
   "source": [
    "areas = ['vlPFC', 'FEF', '7b', 'CPB']"
   ]
  },
  {
   "cell_type": "code",
   "execution_count": 12,
   "id": "88f9373a",
   "metadata": {},
   "outputs": [],
   "source": [
    "num_wake_samples = np.sum(tone_on <= session_info['drugStart'][0])\n",
    "num_anesthesia_samples = np.sum(np.logical_and(tone_on > eyes_close, tone_on < session_info['drugEnd'][1]))\n",
    "random_times = np.sort(np.random.uniform(0, session_info['drugStart'][0], size=(num_wake_samples,)))\n",
    "random_times = np.hstack([random_times, np.sort(np.random.uniform(eyes_close, session_info['drugStart'][1], size=(num_anesthesia_samples,)))])"
   ]
  },
  {
   "cell_type": "code",
   "execution_count": 14,
   "id": "6a3bee03",
   "metadata": {},
   "outputs": [
    {
     "data": {
      "application/vnd.jupyter.widget-view+json": {
       "model_id": "124e9341c95b47c8a8ff69ab51d802d4",
       "version_major": 2,
       "version_minor": 0
      },
      "text/plain": [
       "  0%|          | 0/5400 [00:00<?, ?it/s]"
      ]
     },
     "metadata": {},
     "output_type": "display_data"
    }
   ],
   "source": [
    "lfp_traj_wake = {}\n",
    "lfp_traj_anesthesia = {}\n",
    "\n",
    "iterator = tqdm(total=len(areas)*(len(tone_on) + len(random_times)))\n",
    "\n",
    "for i, area in enumerate(areas):\n",
    "    \n",
    "    lfp_traj_wake[area] = {}\n",
    "    lfp_traj_anesthesia[area] = {}\n",
    "\n",
    "    if area == 'all':\n",
    "        unit_indices = np.arange(len(electrode_info['area']))\n",
    "    else:\n",
    "        unit_indices = np.where(electrode_info['area'] == area)[0]\n",
    "    \n",
    "    for time_locs, time_loc_array in [('tone', tone_on), ('random', random_times)]:\n",
    "    \n",
    "        lfp_tone_wake = []\n",
    "        lfp_tone_anesthesia = []\n",
    "        num_wake = 0\n",
    "        num_anesthesia = 0\n",
    "        for t in time_loc_array:\n",
    "            if t < session_info['drugStart'][0] and t > ((leadup + p - 1)*dt):\n",
    "                t = int(t/dt)\n",
    "                lfp_tone_wake.append(embed_signal(lfp[t - leadup -p + 1:t + post, unit_indices], p, use_torch=False))\n",
    "                num_wake += 1\n",
    "            elif t > eyes_close and t < session_info['drugEnd'][1]:\n",
    "                t = int(t/dt)\n",
    "                lfp_tone_anesthesia.append(embed_signal(lfp[t - leadup - p + 1:t + post, unit_indices], p, use_torch=False))\n",
    "                num_anesthesia += 1\n",
    "            \n",
    "            iterator.update()\n",
    "        lfp_tone_wake = np.array(lfp_tone_wake)\n",
    "        lfp_tone_anesthesia = np.array(lfp_tone_anesthesia)\n",
    "        \n",
    "        lfp_traj_wake[area][time_locs] = lfp_tone_wake\n",
    "        lfp_traj_anesthesia[area][time_locs] = lfp_tone_anesthesia\n",
    "iterator.close()"
   ]
  },
  {
   "cell_type": "markdown",
   "id": "dc18df7e",
   "metadata": {},
   "source": [
    "# jPCA"
   ]
  },
  {
   "cell_type": "code",
   "execution_count": 38,
   "id": "7e08d827",
   "metadata": {},
   "outputs": [],
   "source": [
    "area = 'vlPFC'\n",
    "time_loc_type = 'random'"
   ]
  },
  {
   "cell_type": "code",
   "execution_count": 46,
   "id": "ae02056f",
   "metadata": {},
   "outputs": [],
   "source": [
    "time_vals = np.arange(-leadup, post, 1)\n",
    "tstart = -leadup\n",
    "tend = post - 1"
   ]
  },
  {
   "cell_type": "code",
   "execution_count": 173,
   "id": "ce288b2a",
   "metadata": {},
   "outputs": [],
   "source": [
    "num_dims = 6"
   ]
  },
  {
   "cell_type": "code",
   "execution_count": 207,
   "id": "83080bc1",
   "metadata": {},
   "outputs": [],
   "source": [
    "# num_trials_wake = 100\n",
    "# num_trials_anesthesia = 100\n",
    "\n",
    "num_trials_wake = len(lfp_traj_wake[area][time_loc_type])\n",
    "num_trials_anesthesia = len(lfp_traj_anesthesia[area][time_loc_type])"
   ]
  },
  {
   "cell_type": "code",
   "execution_count": 208,
   "id": "bfcdb504",
   "metadata": {},
   "outputs": [],
   "source": [
    "normalize = True"
   ]
  },
  {
   "cell_type": "code",
   "execution_count": 209,
   "id": "3eacc777",
   "metadata": {},
   "outputs": [
    {
     "name": "stdout",
     "output_type": "stream",
     "text": [
      "Subtracting means\n",
      "Performing PCA\n",
      "PCA complete!\n",
      "Preprocessing complete!\n",
      "Calculating skew symmetric matrix\n",
      "Optimization failed.\n",
      "Desired error not necessarily achieved due to precision loss.\n",
      "Complete!\n"
     ]
    }
   ],
   "source": [
    "# Create a jPCA object\n",
    "jpca_wake = jPCA.JPCA(num_jpcs=num_dims)\n",
    "datas = list(lfp_traj_wake[area][time_loc_type][np.random.choice(np.arange(lfp_traj_wake[area][time_loc_type].shape[0], dtype=int), size=(num_trials_wake, ), replace=False)])\n",
    "if normalize:\n",
    "    for i in range(len(datas)):\n",
    "        datas[i] = (datas[i] - datas[i].mean())/datas[i].std()\n",
    "(projected_wake, \n",
    " full_data_var_wake,\n",
    " pca_var_capt_wake,\n",
    " jpca_var_capt_wake) = jpca_wake.fit(datas, num_pcs=num_dims, times=time_vals, tstart=tstart, tend=tend, align_axes_to_data=False, verbose=True)\n",
    "projected_wake = np.stack(projected_wake, 0)\n",
    "projected_mean_wake = projected_wake.mean(axis=0)"
   ]
  },
  {
   "cell_type": "code",
   "execution_count": null,
   "id": "cd1c015d",
   "metadata": {},
   "outputs": [
    {
     "name": "stdout",
     "output_type": "stream",
     "text": [
      "Subtracting means\n",
      "Performing PCA\n"
     ]
    }
   ],
   "source": [
    "# Create a jPCA object\n",
    "jpca_anesthesia = jPCA.JPCA(num_jpcs=num_dims)\n",
    "datas = list(lfp_traj_anesthesia[area][time_loc_type][np.random.choice(np.arange(lfp_traj_anesthesia[area][time_loc_type].shape[0], dtype=int), size=(num_trials_anesthesia, ), replace=False)])\n",
    "if normalize:\n",
    "    for i in range(len(datas)):\n",
    "        datas[i] = (datas[i] - datas[i].mean())/datas[i].std()\n",
    "(projected_anesthesia, \n",
    " full_data_var_anesthesia,\n",
    " pca_var_capt_anesthesia,\n",
    " jpca_var_capt_anesthesia) = jpca_anesthesia.fit(datas, num_pcs=num_dims, times=time_vals, tstart=tstart, tend=tend, align_axes_to_data=False, verbose=True)\n",
    "projected_anesthesia = np.stack(projected_anesthesia, 0)\n",
    "projected_mean_anesthesia = projected_anesthesia.mean(axis=0)"
   ]
  },
  {
   "cell_type": "code",
   "execution_count": null,
   "id": "79966144",
   "metadata": {},
   "outputs": [],
   "source": [
    "plot_mean = False"
   ]
  },
  {
   "cell_type": "code",
   "execution_count": null,
   "id": "e85256be",
   "metadata": {},
   "outputs": [],
   "source": [
    "title_size = 15"
   ]
  },
  {
   "cell_type": "code",
   "execution_count": null,
   "id": "7d1c7549",
   "metadata": {},
   "outputs": [],
   "source": [
    "# plot_start = -leadup\n",
    "# plot_length = (leadup + post)*dt\n",
    "plot_start = 0\n",
    "plot_length = 1\n",
    "trial_num = 5\n",
    "# norm = colors.TwoSlopeNorm(vmin=0, vcenter=leadup, vmax=leadup + post)\n",
    "norm = colors.Normalize(vmin=plot_start, vmax=plot_start + int(plot_length/dt))\n",
    "cmap = plt.cm.get_cmap('RdYlBu_r')\n",
    "\n",
    "fig, axs = plt.subplots(3, 2, figsize=(12, 12), sharex=True, sharey=True)\n",
    "ax = axs[0][0]\n",
    "for i in range(plot_start + leadup, plot_start + leadup + int(plot_length/dt)):\n",
    "    if plot_mean:\n",
    "        ax.plot(projected_mean_wake[i:i+2, 0], projected_mean_wake[i:i+2, 1], c=cmap(norm(i - leadup)))\n",
    "    else:\n",
    "        ax.plot(projected_wake[trial_num, i:i+2, 0], projected_wake[trial_num, i:i+2, 1], c=cmap(norm(i - leadup)))\n",
    "    ax.set_xlabel('jPC1')\n",
    "    ax.set_ylabel('jPC2')\n",
    "    if plot_mean:\n",
    "        ax.set_title(f'Mean Wakeful Trajectory jPC Plane 1\\n({np.sum(jpca_var_capt_wake[:2])*100/full_data_var_wake:.2f}% of Variance Across {num_trials_wake} Trials)', fontsize=title_size)\n",
    "    else:\n",
    "        ax.set_title(f'Wakeful Trajectory Trial {trial_num} Plane 1\\n({np.sum(jpca_var_capt_wake[:2])*100/full_data_var_wake:.2f}% of Variance Across {num_trials_wake} Trials)', fontsize=title_size)\n",
    "    \n",
    "ax = axs[1][0]\n",
    "for i in range(plot_start + leadup, plot_start + leadup + int(plot_length/dt)):\n",
    "    if plot_mean:\n",
    "        ax.plot(projected_mean_wake[i:i+2, 2], projected_mean_wake[i:i+2, 3], c=cmap(norm(i - leadup)))\n",
    "    else:\n",
    "        ax.plot(projected_wake[trial_num, i:i+2, 2], projected_wake[trial_num, i:i+2, 3], c=cmap(norm(i - leadup)))\n",
    "    ax.set_xlabel('jPC3')\n",
    "    ax.set_ylabel('jPC4')\n",
    "    if plot_mean:\n",
    "        ax.set_title(f'Mean Wakeful Trajectory jPC Plane 2\\n({np.sum(jpca_var_capt_wake[2:4])*100/full_data_var_wake:.2f}% of Variance Across {num_trials_wake} Trials)', fontsize=title_size)\n",
    "    else:\n",
    "        ax.set_title(f'Wakeful Trajectory Trial {trial_num} Plane 2\\n({np.sum(jpca_var_capt_wake[2:4])*100/full_data_var_wake:.2f}% of Variance Across {num_trials_wake} Trials)', fontsize=title_size)\n",
    "    \n",
    "ax = axs[2][0]\n",
    "for i in range(plot_start + leadup, plot_start + leadup + int(plot_length/dt)):\n",
    "    if plot_mean:\n",
    "        ax.plot(projected_mean_wake[i:i+2, 4], projected_mean_wake[i:i+2, 5], c=cmap(norm(i - leadup)))\n",
    "    else:\n",
    "        ax.plot(projected_wake[trial_num, i:i+2, 4], projected_wake[trial_num, i:i+2, 5], c=cmap(norm(i - leadup)))\n",
    "    ax.set_xlabel('jPC5')\n",
    "    ax.set_ylabel('jPC6')\n",
    "    if plot_mean:\n",
    "        ax.set_title(f'Mean Wakeful Trajectory jPC Plane 3\\n({np.sum(jpca_var_capt_wake[4:6])*100/full_data_var_wake:.2f}% of Variance Across {num_trials_wake} Trials)', fontsize=title_size)\n",
    "    else:\n",
    "        ax.set_title(f'Wakeful Trajectory Trial {trial_num} Plane 3\\n({np.sum(jpca_var_capt_wake[4:6])*100/full_data_var_wake:.2f}% of Variance Across {num_trials_wake} Trials)', fontsize=title_size)\n",
    "\n",
    "ax = axs[0][1]\n",
    "for i in range(plot_start + leadup, plot_start + leadup + int(plot_length/dt)):\n",
    "    if plot_mean:\n",
    "        ax.plot(projected_mean_anesthesia[i:i+2, 0], projected_mean_anesthesia[i:i+2, 1], c=cmap(norm(i - leadup)))\n",
    "    else:\n",
    "        ax.plot(projected_anesthesia[trial_num, i:i+2, 0], projected_anesthesia[trial_num, i:i+2, 1], c=cmap(norm(i - leadup)))\n",
    "    ax.set_xlabel('jPC1')\n",
    "    ax.set_ylabel('jPC2')\n",
    "    if plot_mean:\n",
    "        ax.set_title(f'Mean Anesthetic Trajectory jPC Plane 1\\n({np.sum(jpca_var_capt_anesthesia[:2])*100/full_data_var_anesthesia:.2f}% of Variance Across {num_trials_anesthesia} Trials)', fontsize=title_size)\n",
    "    else:\n",
    "        ax.set_title(f'Anesthetic Trajectory Trial {trial_num} Plane 1\\n({np.sum(jpca_var_capt_anesthesia[:2])*100/full_data_var_anesthesia:.2f}% of Variance Across {num_trials_anesthesia} Trials)', fontsize=title_size)\n",
    "    \n",
    "ax = axs[1][1]\n",
    "for i in range(plot_start + leadup, plot_start + leadup + int(plot_length/dt)):\n",
    "    if plot_mean:\n",
    "        ax.plot(projected_mean_anesthesia[i:i+2, 2], projected_mean_anesthesia[i:i+2, 3], c=cmap(norm(i - leadup)))\n",
    "    else:\n",
    "        ax.plot(projected_anesthesia[trial_num, i:i+2, 2], projected_anesthesia[trial_num, i:i+2, 3], c=cmap(norm(i - leadup)))\n",
    "    ax.set_xlabel('jPC3')\n",
    "    ax.set_ylabel('jPC4')\n",
    "    if plot_mean:\n",
    "        ax.set_title(f'Mean Anesthetic Trajectory jPC Plane 2\\n({np.sum(jpca_var_capt_anesthesia[2:4])*100/full_data_var_anesthesia:.2f}% of Variance Across {num_trials_anesthesia} Trials)', fontsize=title_size)\n",
    "    else:\n",
    "        ax.set_title(f'Anesthetic Trajectory Trial {trial_num} Plane 2\\n({np.sum(jpca_var_capt_anesthesia[2:4])*100/full_data_var_anesthesia:.2f}% of Variance Across {num_trials_anesthesia} Trials)', fontsize=title_size)\n",
    "    \n",
    "ax = axs[2][1]\n",
    "for i in range(plot_start + leadup, plot_start + leadup + int(plot_length/dt)):\n",
    "    if plot_mean:\n",
    "        ax.plot(projected_mean_anesthesia[i:i+2, 4], projected_mean_anesthesia[i:i+2, 5], c=cmap(norm(i - leadup)))\n",
    "    else:\n",
    "        ax.plot(projected_anesthesia[trial_num, i:i+2, 4], projected_anesthesia[trial_num, i:i+2, 5], c=cmap(norm(i - leadup)))\n",
    "    ax.set_xlabel('jPC5')\n",
    "    ax.set_ylabel('jPC6')\n",
    "    if plot_mean:\n",
    "        ax.set_title(f'Mean Anesthetic Trajectory jPC Plane 3\\n({np.sum(jpca_var_capt_anesthesia[4:6])*100/full_data_var_anesthesia:.2f}% of Variance Across {num_trials_anesthesia} Trials)', fontsize=title_size)\n",
    "    else:\n",
    "        ax.set_title(f'Anesthetic Trajectory Trial {trial_num} Plane 3\\n({np.sum(jpca_var_capt_anesthesia[4:6])*100/full_data_var_anesthesia:.2f}% of Variance Across {num_trials_anesthesia} Trials)', fontsize=title_size)\n",
    "\n",
    "plt.tight_layout()\n",
    "        \n",
    "sm = plt.cm.ScalarMappable(cmap=cmap, norm=norm)\n",
    "# plt.suptitle(f'{embed_method} of Tone Event-Related Potentials in {area_labels[area]}', fontsize=18)\n",
    "#     plt.tight_layout()\n",
    "fig.subplots_adjust(right=0.85)\n",
    "cbar_ax = fig.add_axes([0.9, 0.25, 0.01, 0.5])\n",
    "# cbar = fig.colorbar(sm, cax=cbar_ax, ticks=np.arange(0, leadup + post, 250), label='Time Relative to Tone (ms)')\n",
    "# cbar.ax.set_yticklabels(np.arange(-leadup, post, 250), fontsize=12)\n",
    "\n",
    "cbar = fig.colorbar(sm, cax=cbar_ax, ticks=np.arange(plot_start, plot_start + int(plot_length/dt) + 1, 100), label='Time Relative to Tone (ms)')\n",
    "cbar.ax.set_yticklabels(np.arange(plot_start, plot_start + int(plot_length/dt) + 1, 100), fontsize=12)\n",
    "cbar.set_label(label=f'Time Relative to {time_loc_type.capitalize()} Event (ms)', fontsize=14)\n",
    "    \n",
    "\n",
    "plt.show()"
   ]
  },
  {
   "cell_type": "code",
   "execution_count": null,
   "id": "f1ff4b64",
   "metadata": {},
   "outputs": [],
   "source": []
  }
 ],
 "metadata": {
  "kernelspec": {
   "display_name": "Python 3 (ipykernel)",
   "language": "python",
   "name": "python3"
  },
  "language_info": {
   "codemirror_mode": {
    "name": "ipython",
    "version": 3
   },
   "file_extension": ".py",
   "mimetype": "text/x-python",
   "name": "python",
   "nbconvert_exporter": "python",
   "pygments_lexer": "ipython3",
   "version": "3.9.1"
  }
 },
 "nbformat": 4,
 "nbformat_minor": 5
}
