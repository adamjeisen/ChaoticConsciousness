{
 "cells": [
  {
   "cell_type": "code",
   "execution_count": 1,
   "id": "ddabe21e",
   "metadata": {},
   "outputs": [],
   "source": [
    "%load_ext autoreload"
   ]
  },
  {
   "cell_type": "code",
   "execution_count": 59,
   "id": "1b1ac697",
   "metadata": {},
   "outputs": [],
   "source": [
    "%autoreload 2\n",
    "from collections import defaultdict\n",
    "from datetime import datetime\n",
    "import h5py\n",
    "import matplotlib.pyplot as plt\n",
    "from neural_analysis.matIO import loadmat\n",
    "import numpy as np\n",
    "import os\n",
    "import pandas as pd\n",
    "from scipy.signal import butter, filtfilt, freqz\n",
    "from scipy import stats\n",
    "import sys\n",
    "import time\n",
    "from tqdm.auto import tqdm\n",
    "\n",
    "sys.path.append('../..')\n",
    "from ld_utils import compute_eigs, get_data_sigma_norms\n",
    "from up_down import get_up_down\n",
    "from utils import get_binary_stimuli, get_sample_interval, load, save, to_string"
   ]
  },
  {
   "cell_type": "markdown",
   "id": "46091d60",
   "metadata": {},
   "source": [
    "## Load Neural Data"
   ]
  },
  {
   "cell_type": "code",
   "execution_count": 4,
   "id": "3cc3760f",
   "metadata": {},
   "outputs": [
    {
     "name": "stdout",
     "output_type": "stream",
     "text": [
      "Loading data ...\n",
      "loaded /home/adameisen/millerdata/common/datasets/sspa/mat_pre_post/JP031211 pre.mat\n",
      "loaded /home/adameisen/millerdata/common/datasets/sspa/mat/JP031211.mat\n",
      "loaded /home/adameisen/millerdata/common/datasets/sspa/mat_pre_post/JP031211 post.mat\n",
      "loaded /home/adameisen/millerdata/common/datasets/sspa/mat_uncut/JP031211.mat\n",
      "Data loaded (took 82.00 seconds)\n"
     ]
    }
   ],
   "source": [
    "session = \"JP031211\"\n",
    "\n",
    "parent_folder = \"/home/adameisen/millerdata/common/datasets/sspa\"\n",
    "main_file = os.path.join(parent_folder, 'mat', session + '.mat')\n",
    "pre_file = os.path.join(parent_folder, 'mat_pre_post', session + ' pre.mat')\n",
    "post_file = os.path.join(parent_folder, 'mat_pre_post', session + ' post.mat')\n",
    "uncut_file = os.path.join(parent_folder, 'mat_uncut', session + '.mat')\n",
    "print(\"Loading data ...\")\n",
    "start = time.process_time()\n",
    "pre_data = {}\n",
    "main_data = {}\n",
    "post_data = {}\n",
    "uncut_data = {}\n",
    "for data_dict, filename in [(pre_data, pre_file), (main_data, main_file), (post_data, post_file), (uncut_data, uncut_file)]:\n",
    "    if 'pre' not in filename and 'post' not in filename:\n",
    "        electrode_info, lfp, lfp_schema, session_info, trial_info, unit_info = loadmat(filename, variables=['electrodeInfo', 'lfp', 'lfpSchema', 'sessionInfo', 'trialInfo', 'unitInfo'], verbose=False)\n",
    "        data_dict['electrode_info'] = electrode_info\n",
    "        data_dict['lfp'] = lfp\n",
    "        data_dict['lfp_schema'] = lfp_schema\n",
    "        data_dict['session_info'] = session_info\n",
    "        data_dict['trial_info'] = trial_info\n",
    "        data_dict['unit_info'] = unit_info\n",
    "    else:\n",
    "        electrode_info, lfp, lfp_schema, unit_info = loadmat(filename, variables=['electrodeInfo', 'lfp', 'lfpSchema', 'unitInfo'], verbose=False)\n",
    "        data_dict['electrode_info'] = electrode_info\n",
    "        data_dict['lfp'] = lfp\n",
    "        data_dict['lfp_schema'] = lfp_schema\n",
    "        data_dict['unit_info'] = unit_info\n",
    "    print(f\"loaded {filename}\")\n",
    "\n",
    "print(f\"Data loaded (took {time.process_time() - start:.2f} seconds)\")"
   ]
  },
  {
   "cell_type": "code",
   "execution_count": 5,
   "id": "b48bebd1",
   "metadata": {},
   "outputs": [
    {
     "data": {
      "text/plain": [
       "(0.001, 0.001, 0.001, 0.001)"
      ]
     },
     "execution_count": 5,
     "metadata": {},
     "output_type": "execute_result"
    }
   ],
   "source": [
    "# check dt\n",
    "dt = main_data['lfp_schema']['smpInterval'][0]\n",
    "pre_data['lfp_schema']['smpInterval'][0], main_data['lfp_schema']['smpInterval'][0], post_data['lfp_schema']['smpInterval'][0], uncut_data['lfp_schema']['smpInterval'][0]"
   ]
  },
  {
   "cell_type": "code",
   "execution_count": 36,
   "id": "4770894e",
   "metadata": {},
   "outputs": [
    {
     "name": "stdout",
     "output_type": "stream",
     "text": [
      "933 inter trials\n"
     ]
    }
   ],
   "source": [
    "# uncut_data['inter_trial'] = []\n",
    "# sampleOn_ts = trial_info['sampleOn'][~np.isnan(trial_info['sampleOn'])]\n",
    "# for i in range(len(sampleOn_ts) - 1):\n",
    "#     t1 = sampleOn_ts[i]\n",
    "#     t2 = sampleOn_ts[i + 1]\n",
    "#     if t2 - 2 - (t1 + 3) > 2.5:\n",
    "#         uncut_data['inter_trial'].append(lfp[int((t1 + 3)/dt):int((t2 - 2)/dt)])\n",
    "# uncut_data['inter_trial'] = uncut_data['inter_trial']\n",
    "# print(f\"{len(uncut_data['inter_trial'])} inter trials\")"
   ]
  },
  {
   "cell_type": "code",
   "execution_count": 183,
   "id": "e87320a3",
   "metadata": {},
   "outputs": [
    {
     "name": "stdout",
     "output_type": "stream",
     "text": [
      "1517 trials\n",
      "1446 inter trials\n"
     ]
    }
   ],
   "source": [
    "# reward_ts = trial_info['rewardOn'][:, -1][~np.isnan(trial_info['rewardOn'][:, -1])]\n",
    "\n",
    "# fix_pt_ts = trial_info['fixptOn'][~np.isnan(trial_info['fixptOn'])]\n",
    "\n",
    "# uncut_data['trial'] = []\n",
    "# uncut_data['inter_trial'] = []\n",
    "# trial_durations = []\n",
    "# inter_trial_durations = []\n",
    "# for i in range(1, len(reward_ts)):\n",
    "#     t_reward = reward_ts[i]\n",
    "#     bool_vec = np.logical_and(fix_pt_ts - t_reward > -6, fix_pt_ts - t_reward < 0)\n",
    "#     if bool_vec.sum() == 1:\n",
    "#         t_fix_pt = fix_pt_ts[bool_vec.argmax()]\n",
    "#         uncut_data['trial'].append(lfp[int(t_fix_pt/dt):int(t_reward/dt)])\n",
    "#         trial_durations.append(t_reward - t_fix_pt)\n",
    "#         if i == 0:\n",
    "#             t_start_inter_trial = 0\n",
    "#         else:\n",
    "#             t_end_last_trial = sampleOn_ts[((sampleOn_ts+3 - t_fix_pt) < 0).argmin() - 1] + 3\n",
    "#             t_last_reward = reward_ts[(reward_ts - t_fix_pt < 0).argmin() - 1]\n",
    "#             t_start_inter_trial = np.max([t_end_last_trial, t_last_reward])\n",
    "#         if t_fix_pt - t_start_inter_trial > 2.5:\n",
    "#             uncut_data['inter_trial'].append(lfp[int(t_start_inter_trial/dt):int(t_fix_pt/dt)])\n",
    "#             inter_trial_durations.append(t_fix_pt - t_start_inter_trial)\n",
    "# print(f\"{len(uncut_data['trial'])} trials\")\n",
    "# print(f\"{len(uncut_data['inter_trial'])} inter trials\")"
   ]
  },
  {
   "cell_type": "code",
   "execution_count": 218,
   "id": "fe0e4573",
   "metadata": {},
   "outputs": [],
   "source": [
    "t_start_inter_trial = 0\n",
    "uncut_data['trial'] = []\n",
    "uncut_data['inter_trial'] = []\n",
    "prev_reward = []\n",
    "trial_durations = []\n",
    "inter_trial_durations = []\n",
    "for i in range(1, len(trial_info['outcome'])):\n",
    "    outcome = trial_info['outcome'][i]\n",
    "    prev_outcome = trial_info['outcome'][i - 1]\n",
    "    if outcome == 'correct' or outcome == 'choiceErr':\n",
    "        t_trial_start = trial_info['sampleOn'][i] - 2\n",
    "        if outcome == 'correct':\n",
    "            t_trial_end = trial_info['rewardOn'][i, -1]\n",
    "        else: # outcome == 'choiceErr'\n",
    "            t_trial_end = trial_info['responseTime'][i] + 0.1\n",
    "        \n",
    "        if t_trial_end - t_trial_start > 2.5:\n",
    "            uncut_data['trial'].append(lfp[int(t_trial_start/dt):int(t_trial_end/dt)])\n",
    "            trial_durations.append(t_trial_end - t_trial_start)\n",
    "    \n",
    "        if prev_outcome == 'correct' or prev_outcome == 'choiceErr':\n",
    "            if prev_outcome == 'correct':\n",
    "                t_prev_trial_end = trial_info['rewardOn'][i - 1, -1]\n",
    "            else: # outcome == 'choiceErr'\n",
    "                t_prev_trial_end = trial_info['responseTime'][i - 1] + 0.1\n",
    "            \n",
    "            if t_trial_start - t_prev_trial_end > 2.5:\n",
    "                uncut_data['inter_trial'].append(lfp[int(t_prev_trial_end/dt):int(t_trial_start/dt)])\n",
    "                inter_trial_durations.append(t_trial_start - t_prev_trial_end)\n",
    "                prev_reward.append(True if prev_outcome == 'correct' else False)"
   ]
  },
  {
   "cell_type": "code",
   "execution_count": 219,
   "id": "21d94fe3",
   "metadata": {},
   "outputs": [
    {
     "data": {
      "text/plain": [
       "(array([266., 898.,   3.,   0.,   0.,   0.,   1., 463., 120.,  34.]),\n",
       " array([4.0178  , 4.190535, 4.36327 , 4.536005, 4.70874 , 4.881475,\n",
       "        5.05421 , 5.226945, 5.39968 , 5.572415, 5.74515 ]),\n",
       " <BarContainer object of 10 artists>)"
      ]
     },
     "execution_count": 219,
     "metadata": {},
     "output_type": "execute_result"
    },
    {
     "data": {
      "image/png": "[encoded data removed]",
      "text/plain": [
       "<Figure size 432x288 with 1 Axes>"
      ]
     },
     "metadata": {
      "needs_background": "light"
     },
     "output_type": "display_data"
    }
   ],
   "source": [
    "plt.hist(trial_durations)"
   ]
  },
  {
   "cell_type": "code",
   "execution_count": 220,
   "id": "4765d730",
   "metadata": {},
   "outputs": [
    {
     "data": {
      "text/plain": [
       "(array([  8.,   0.,   0.,   0.,   0.,   0.,   0.,   0.,   1., 246.]),\n",
       " array([2.503225, 2.807005, 3.110785, 3.414565, 3.718345, 4.022125,\n",
       "        4.325905, 4.629685, 4.933465, 5.237245, 5.541025]),\n",
       " <BarContainer object of 10 artists>)"
      ]
     },
     "execution_count": 220,
     "metadata": {},
     "output_type": "execute_result"
    },
    {
     "data": {
      "image/png": "[encoded data removed]",
      "text/plain": [
       "<Figure size 432x288 with 1 Axes>"
      ]
     },
     "metadata": {
      "needs_background": "light"
     },
     "output_type": "display_data"
    }
   ],
   "source": [
    "plt.hist(inter_trial_durations)"
   ]
  },
  {
   "cell_type": "markdown",
   "id": "e9828977",
   "metadata": {},
   "source": [
    "## VAR"
   ]
  },
  {
   "cell_type": "code",
   "execution_count": 222,
   "id": "e7e6aa3c",
   "metadata": {},
   "outputs": [
    {
     "name": "stdout",
     "output_type": "stream",
     "text": [
      "Analyzing pre data ...\n"
     ]
    },
    {
     "data": {
      "application/vnd.jupyter.widget-view+json": {
       "model_id": "8a25a6dc91864fe5a663c491f18e08cb",
       "version_major": 2,
       "version_minor": 0
      },
      "text/plain": [
       "  0%|          | 0/1137 [00:00<?, ?it/s]"
      ]
     },
     "metadata": {},
     "output_type": "display_data"
    },
    {
     "name": "stdout",
     "output_type": "stream",
     "text": [
      "Analyzing main data ...\n"
     ]
    },
    {
     "data": {
      "application/vnd.jupyter.widget-view+json": {
       "model_id": "3f12b15ff8774f45bb3a08302d59d671",
       "version_major": 2,
       "version_minor": 0
      },
      "text/plain": [
       "  0%|          | 0/1785 [00:00<?, ?it/s]"
      ]
     },
     "metadata": {},
     "output_type": "display_data"
    },
    {
     "name": "stdout",
     "output_type": "stream",
     "text": [
      "Analyzing post data ...\n"
     ]
    },
    {
     "data": {
      "application/vnd.jupyter.widget-view+json": {
       "model_id": "641421a352354a929b95d4d04c521219",
       "version_major": 2,
       "version_minor": 0
      },
      "text/plain": [
       "  0%|          | 0/1817 [00:00<?, ?it/s]"
      ]
     },
     "metadata": {},
     "output_type": "display_data"
    },
    {
     "name": "stdout",
     "output_type": "stream",
     "text": [
      "Analyzing uncut data ...\n"
     ]
    },
    {
     "data": {
      "application/vnd.jupyter.widget-view+json": {
       "model_id": "78aedfc301954a2da190e59f18af213f",
       "version_major": 2,
       "version_minor": 0
      },
      "text/plain": [
       "  0%|          | 0/255 [00:00<?, ?it/s]"
      ]
     },
     "metadata": {},
     "output_type": "display_data"
    }
   ],
   "source": [
    "data_path = \"../../__data__/VAR/sspa\"\n",
    "os.makedirs(data_path, exist_ok=True)\n",
    "\n",
    "N = main_data['lfp'].shape[1] # number of electrodes\n",
    "# trial_nums = np.arange(main_data['lfp'].shape[2]) # all trials\n",
    "# trial_nums = np.arange(0, main_data['lfp'].shape[2], 10) # sample trials\n",
    "trial_nums = np.arange(len(uncut_data['trial'])) # all trials\n",
    "inter_trial_nums = np.arange(len(uncut_data['inter_trial'])) # all inter-trials\n",
    "\n",
    "PCA_dim = -1\n",
    "\n",
    "results = {}\n",
    "for window in [2.5]:\n",
    "# for window in [0.15, 0.25, 0.5, 1, 2.5, 5]:\n",
    "    stride = 0.2\n",
    "    \n",
    "    areas = np.unique(main_data['electrode_info']['area'])\n",
    "    unit_indices = np.arange(N)[pd.Series(main_data['electrode_info']['area']).isin(areas)]\n",
    "\n",
    "    # PRE DATA\n",
    "    print(\"Analyzing pre data ...\")\n",
    "    results['pre'] = {}\n",
    "    data = pre_data['lfp'][:, unit_indices]\n",
    "    data = data[np.isnan(data).sum(axis=1) == 0]\n",
    "    results['pre']['data'] = compute_eigs(data, dt, window, stride, return_sigma_norms=True, return_A=True, PCA_dim=PCA_dim, verbose=True)\n",
    "    \n",
    "    # MAIN DATA\n",
    "    print(\"Analyzing main data ...\")\n",
    "    results['main'] = {'data': [], 'trial_nums': trial_nums} # make a list, one for each trial\n",
    "    for trial_num in tqdm(trial_nums):\n",
    "#         data = main_data['lfp'][:, unit_indices, trial_num]\n",
    "        data = uncut_data['trial'][trial_num][:, unit_indices]\n",
    "        results['main']['data'].append(compute_eigs(data, dt, window, stride, return_sigma_norms=True, return_A=True, PCA_dim=PCA_dim))\n",
    "    \n",
    "    # POST DATA\n",
    "    print(\"Analyzing post data ...\")\n",
    "    results['post'] = {}\n",
    "    data = post_data['lfp'][:, unit_indices]\n",
    "    data = data[np.isnan(data).sum(axis=1) == 0]\n",
    "    results['post']['data'] = compute_eigs(data, dt, window, stride, return_sigma_norms=True, return_A=True, PCA_dim=PCA_dim, verbose=True)\n",
    "    \n",
    "    # INTER-TRIAL DATA\n",
    "    print(\"Analyzing uncut data ...\")\n",
    "    results['inter_trial'] = {'data': [], 'trial_nums': inter_trial_nums} # make a list, one for each trial\n",
    "    for inter_trial_num in tqdm(inter_trial_nums):\n",
    "        data = uncut_data['inter_trial'][inter_trial_num][:, unit_indices]\n",
    "        results['inter_trial']['data'].append(compute_eigs(data, dt, window, stride, return_sigma_norms=True, return_A=True, PCA_dim=PCA_dim))\n",
    "    \n",
    "    results['params'] = {}\n",
    "    results['params']['PCA_dim'] = PCA_dim\n",
    "    results['params']['window'] = window\n",
    "    results['params']['stride'] = stride\n",
    "    results['params']['pre_file'] = pre_file\n",
    "    results['params']['main_file'] = main_file\n",
    "    results['params']['post_file'] = post_file\n",
    "    \n",
    "    save(results, os.path.join(data_path, f\"results_all_{session}_window_{window}_stride_{stride}_v3\"))"
   ]
  },
  {
   "cell_type": "code",
   "execution_count": 223,
   "id": "8f43c635",
   "metadata": {},
   "outputs": [],
   "source": [
    "pre_CIs = results['pre']['data']['eigs']\n",
    "main_CIs = []\n",
    "for ret in results['main']['data']:\n",
    "    main_CIs.extend(ret['eigs'])\n",
    "main_CIs = np.array(main_CIs)\n",
    "post_CIs = results['post']['data']['eigs']\n",
    "inter_trial_CIs = []\n",
    "for ret in results['inter_trial']['data']:\n",
    "    inter_trial_CIs.extend(ret['eigs'])\n",
    "inter_trial_CIs = np.array(inter_trial_CIs)\n",
    "\n",
    "# pre_CIs = results['pre']['data']['eigs'].mean(axis=1)\n",
    "# main_CIs = np.array([ret['eigs'] for ret in results['main']['data']]).mean(axis=2)\n",
    "# post_CIs = results['post']['data']['eigs'].mean(axis=1)"
   ]
  },
  {
   "cell_type": "code",
   "execution_count": 224,
   "id": "4df7b07d",
   "metadata": {},
   "outputs": [
    {
     "data": {
      "image/png": "[encoded data removed]",
      "text/plain": [
       "<Figure size 864x360 with 1 Axes>"
      ]
     },
     "metadata": {
      "needs_background": "light"
     },
     "output_type": "display_data"
    }
   ],
   "source": [
    "plt.figure(figsize=(12, 5))\n",
    "bar_heights = [pre_CIs.mean(), main_CIs.mean(), inter_trial_CIs.mean(), post_CIs.mean()]\n",
    "error = [pre_CIs.std()/pre_CIs.size, main_CIs.std()/main_CIs.size, inter_trial_CIs.std()/inter_trial_CIs.size, post_CIs.std()/post_CIs.size]\n",
    "plt.bar(np.arange(4), bar_heights, yerr=error)\n",
    "plt.xticks(np.arange(4), ['Pre-Task', 'During Trial', 'Inter-Trial', 'Post-Task'], fontsize=14)\n",
    "plt.ylim([min(bar_heights) - 0.005, max(bar_heights) + 0.005])\n",
    "plt.ylabel(\"Mean Criticality\", fontsize=14)\n",
    "plt.title(\"Mean Criticality In and Out of Task\", fontsize=18)\n",
    "ax = plt.gca()\n",
    "ax.tick_params(labelsize=13)\n",
    "plt.show()"
   ]
  },
  {
   "cell_type": "code",
   "execution_count": 225,
   "id": "aaf04aed",
   "metadata": {},
   "outputs": [
    {
     "name": "stdout",
     "output_type": "stream",
     "text": [
      "1.543084318344069e-68\n"
     ]
    }
   ],
   "source": [
    "# t-test\n",
    "n1 = inter_trial_CIs.size\n",
    "n2 = main_CIs.size\n",
    "mean_1 = inter_trial_CIs.mean()\n",
    "mean_2 = main_CIs.mean()\n",
    "var_1 = inter_trial_CIs.std()**2\n",
    "var_2 = main_CIs.std()**2\n",
    "s_squared = (n1 - 1)/(n1 + n2 - 2)*var_1 + (n2 - 1)/(n1 + n2 - 2)*var_2\n",
    "t_stat = (mean_1 - mean_2)/(np.sqrt(s_squared)*np.sqrt((1/n1) + (1/n2)))\n",
    "p = 2*stats.t.sf(t_stat, df=n1 + n2 - 2)\n",
    "print(p)"
   ]
  },
  {
   "cell_type": "code",
   "execution_count": 251,
   "id": "1da1ca08",
   "metadata": {},
   "outputs": [
    {
     "data": {
      "image/png": "[encoded data removed]",
      "text/plain": [
       "<Figure size 864x360 with 1 Axes>"
      ]
     },
     "metadata": {
      "needs_background": "light"
     },
     "output_type": "display_data"
    }
   ],
   "source": [
    "plt.figure(figsize=(12, 5))\n",
    "ITCI_follow_reward = []\n",
    "ITCI_follow_no_reward = []\n",
    "for i in range(len(prev_reward)):\n",
    "    if prev_reward[i]:\n",
    "        ITCI_follow_reward.extend(results['inter_trial']['data'][i]['eigs'])\n",
    "    else:\n",
    "        ITCI_follow_no_reward.extend(results['inter_trial']['data'][i]['eigs'])\n",
    "ITCI_follow_reward = np.array(ITCI_follow_reward)\n",
    "ITCI_follow_no_reward = np.array(ITCI_follow_no_reward)\n",
    "bar_heights = [ITCI_follow_reward.mean(), ITCI_follow_no_reward.mean(), main_CIs.mean()]\n",
    "error = [ITCI_follow_reward.std()/ITCI_follow_reward.size, ITCI_follow_no_reward.std()/ITCI_follow_no_reward.size, main_CIs.std()/main_CIs.size]\n",
    "plt.bar(np.arange(3), bar_heights, yerr=error)\n",
    "plt.xticks(np.arange(3), ['Inter-Trial Interval\\nFollowing Reward', 'Inter-Trial Interval\\nFollowing No Reward', 'During Trial'], fontsize=14)\n",
    "plt.ylim([min(bar_heights) - 0.005, max(bar_heights) + 0.005])\n",
    "plt.ylabel(\"Mean Criticality\", fontsize=14)\n",
    "plt.title(\"Mean Criticality In and Out of Task\", fontsize=18)\n",
    "ax = plt.gca()\n",
    "ax.tick_params(labelsize=13)\n",
    "plt.show()"
   ]
  },
  {
   "cell_type": "code",
   "execution_count": 53,
   "id": "9b818d2b",
   "metadata": {},
   "outputs": [],
   "source": [
    "# index = 8\n",
    "# trial_num = results['main']['trial_nums'][index]\n",
    "# start_times = np.arange(results['pre']['data']['eigs'].shape[0])*results['params']['stride']/60\n",
    "# plt.plot(start_times, results['pre']['data']['eigs'].mean(axis=1), label='pre task')\n",
    "# start_times = np.arange(results['main']['data'][index]['eigs'].shape[0])*results['params']['stride']/60\n",
    "# plt.plot(start_times, results['main']['data'][index]['eigs'].mean(axis=1), label=f'during task (trial {trial_num})')\n",
    "# start_times = np.arange(results['post']['data']['eigs'].shape[0])*results['params']['stride']/60\n",
    "# plt.plot(start_times, results['post']['data']['eigs'].mean(axis=1), label='post_task')\n",
    "# plt.legend()\n",
    "# plt.xlabel(\"Time (min)\")\n",
    "# plt.show()"
   ]
  }
 ],
 "metadata": {
  "kernelspec": {
   "display_name": "Python 3",
   "language": "python",
   "name": "python3"
  },
  "language_info": {
   "codemirror_mode": {
    "name": "ipython",
    "version": 3
   },
   "file_extension": ".py",
   "mimetype": "text/x-python",
   "name": "python",
   "nbconvert_exporter": "python",
   "pygments_lexer": "ipython3",
   "version": "3.8.8"
  }
 },
 "nbformat": 4,
 "nbformat_minor": 5
}
