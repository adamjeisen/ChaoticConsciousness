{
 "cells": [
  {
   "cell_type": "code",
   "execution_count": 1,
   "id": "8a49507d",
   "metadata": {},
   "outputs": [],
   "source": [
    "%load_ext autoreload"
   ]
  },
  {
   "cell_type": "code",
   "execution_count": 2,
   "id": "3e2872e2",
   "metadata": {},
   "outputs": [],
   "source": [
    "%autoreload 2\n",
    "\n",
    "from copy import deepcopy\n",
    "from matplotlib.cm import get_cmap, ScalarMappable\n",
    "from matplotlib.colors import Normalize\n",
    "import matplotlib.pyplot as plt\n",
    "import pandas as pd\n",
    "import scipy\n",
    "from sklearn.metrics import r2_score\n",
    "import sys\n",
    "\n",
    "sys.path.append('..')\n",
    "from data_utils import *\n",
    "\n",
    "sys.path.append('../../DeLASE')\n",
    "from delase import *\n",
    "from parameter_choosing import *\n",
    "from performance_metrics import *"
   ]
  },
  {
   "cell_type": "markdown",
   "id": "a760f350",
   "metadata": {},
   "source": [
    "# Load Data"
   ]
  },
  {
   "cell_type": "code",
   "execution_count": 3,
   "id": "b5acbbd3",
   "metadata": {},
   "outputs": [],
   "source": [
    "chaotic_net_path = \"/scratch2/weka/millerlab/eisenaj/DynamicalTrajectories/chaotic_net_data\"\n",
    "\n",
    "W = pd.read_pickle(os.path.join(chaotic_net_path, \"W.pkl\"))\n",
    "lyaps = pd.read_pickle(os.path.join(chaotic_net_path, \"lyaps_long.pkl\"))\n",
    "full_signals = pd.read_pickle(os.path.join(chaotic_net_path, \"chaotic_net_signals_long.pkl\"))"
   ]
  },
  {
   "cell_type": "code",
   "execution_count": 4,
   "id": "da6d8973",
   "metadata": {},
   "outputs": [],
   "source": [
    "N = list(full_signals.values())[0].shape[2]\n",
    "T = list(full_signals.values())[0].shape[1]\n",
    "dt = 0.01"
   ]
  },
  {
   "cell_type": "code",
   "execution_count": 5,
   "id": "851453cd",
   "metadata": {},
   "outputs": [],
   "source": [
    "noise_sd = 0\n",
    "# indices = np.random.choice(np. arange(N), size=(50,), replace=False)\n",
    "indices = pd.read_pickle(os.path.join(chaotic_net_path, \"indices.pkl\"))\n",
    "signals = {}\n",
    "for key in full_signals.keys():\n",
    "    signals[key] = full_signals[key][0][:, indices] + np.random.randn(T, len(indices))*noise_sd"
   ]
  },
  {
   "cell_type": "markdown",
   "id": "70c48451",
   "metadata": {},
   "source": [
    "# Test"
   ]
  },
  {
   "cell_type": "code",
   "execution_count": 8,
   "id": "6a843f5e",
   "metadata": {},
   "outputs": [],
   "source": [
    "window = 15000\n",
    "p = 30\n",
    "r_thresh = 0.25\n",
    "lamb = 0.01"
   ]
  },
  {
   "cell_type": "code",
   "execution_count": 26,
   "id": "a9b0f574",
   "metadata": {},
   "outputs": [
    {
     "data": {
      "text/plain": [
       "0.00032664812181151315"
      ]
     },
     "execution_count": 26,
     "metadata": {},
     "output_type": "execute_result"
    }
   ],
   "source": [
    "signals[1.2].mean()"
   ]
  },
  {
   "cell_type": "code",
   "execution_count": 24,
   "id": "0b5c545a",
   "metadata": {},
   "outputs": [
    {
     "data": {
      "text/plain": [
       "0.4966291384509991"
      ]
     },
     "execution_count": 24,
     "metadata": {},
     "output_type": "execute_result"
    }
   ],
   "source": [
    "signals[1.2].std()"
   ]
  },
  {
   "cell_type": "code",
   "execution_count": 29,
   "id": "443c203e",
   "metadata": {},
   "outputs": [
    {
     "data": {
      "text/plain": [
       "1.0"
      ]
     },
     "execution_count": 29,
     "metadata": {},
     "output_type": "execute_result"
    }
   ],
   "source": [
    "((signals[1.5] - signals[1.5].mean())/signals[1.5].std()).std()"
   ]
  },
  {
   "cell_type": "code",
   "execution_count": 18,
   "id": "c949b362",
   "metadata": {},
   "outputs": [
    {
     "data": {
      "application/vnd.jupyter.widget-view+json": {
       "model_id": "5a493607202a4084ac065f0820fd6386",
       "version_major": 2,
       "version_minor": 0
      },
      "text/plain": [
       "  0%|          | 0/17 [00:00<?, ?it/s]"
      ]
     },
     "metadata": {},
     "output_type": "display_data"
    },
    {
     "name": "stdout",
     "output_type": "stream",
     "text": [
      "CPU times: user 9.86 s, sys: 414 ms, total: 10.3 s\n",
      "Wall time: 11 s\n"
     ]
    }
   ],
   "source": [
    "%%time\n",
    "# data = (data - data.mean())/data.std()\n",
    "# data = (data - data.mean(axis=0))/data.std(axis=0)\n",
    "# p = int(np.ceil(matrix_size/data.shape[1]))\n",
    "data = signals[1.2]\n",
    "data = (data - data.mean())/data.std()\n",
    "delase = DeLASE(data[:window], p, use_torch=True, device='cuda')\n",
    "delase.compute_havok_dmd(r_thresh=r_thresh, lamb=lamb)\n",
    "delase.dt = dt\n",
    "test_data = data[window:window + 5000]\n",
    "ip_ret = compute_integrated_performance(delase, test_data, full_return=True, verbose=True)\n",
    "delase.compute_jacobians()\n",
    "delase.get_stability(max_freq=500, max_unstable_freq=125)\n",
    "\n",
    "sig1_ip_ret = ip_ret\n",
    "sig1_stab = delase.stability_params.cpu()\n",
    "sig1_freqs = delase.stability_freqs.cpu()"
   ]
  },
  {
   "cell_type": "code",
   "execution_count": 30,
   "id": "2c7445cc",
   "metadata": {},
   "outputs": [
    {
     "data": {
      "application/vnd.jupyter.widget-view+json": {
       "model_id": "23c96784f12142bd954979086f7a085b",
       "version_major": 2,
       "version_minor": 0
      },
      "text/plain": [
       "  0%|          | 0/17 [00:00<?, ?it/s]"
      ]
     },
     "metadata": {},
     "output_type": "display_data"
    },
    {
     "name": "stdout",
     "output_type": "stream",
     "text": [
      "CPU times: user 10.9 s, sys: 1.46 s, total: 12.3 s\n",
      "Wall time: 17.1 s\n"
     ]
    }
   ],
   "source": [
    "%%time\n",
    "i = 5000\n",
    "# data = (data - data.mean())/data.std()\n",
    "# data = (data - data.mean(axis=0))/data.std(axis=0)\n",
    "# p = int(np.ceil(matrix_size/data.shape[1]))\n",
    "data = signals[1.3]\n",
    "data = (data - data.mean())/data.std()\n",
    "delase = DeLASE(data[:window], p, use_torch=True, device='cuda')\n",
    "delase.compute_havok_dmd(r_thresh=r_thresh, lamb=lamb)\n",
    "delase.dt = dt\n",
    "test_data = data[window:window + 5000]\n",
    "ip_ret = compute_integrated_performance(delase, test_data, full_return=True, verbose=True)\n",
    "delase.compute_jacobians()\n",
    "delase.get_stability(max_freq=500, max_unstable_freq=125)\n",
    "\n",
    "sig2_ip_ret = ip_ret\n",
    "sig2_stab = delase.stability_params.cpu()\n",
    "sig2_freqs = delase.stability_freqs.cpu()"
   ]
  },
  {
   "cell_type": "code",
   "execution_count": 33,
   "id": "47fa7727",
   "metadata": {},
   "outputs": [
    {
     "data": {
      "text/plain": [
       "(0.7575245602726937, 0.7560468769073486)"
      ]
     },
     "execution_count": 33,
     "metadata": {},
     "output_type": "execute_result"
    }
   ],
   "source": [
    "sig1_ip_ret['ip'], sig2_ip_ret['ip']"
   ]
  },
  {
   "cell_type": "code",
   "execution_count": 35,
   "id": "0fca2220",
   "metadata": {},
   "outputs": [
    {
     "data": {
      "text/plain": [
       "[<matplotlib.lines.Line2D at 0x2abd761b0eb0>]"
      ]
     },
     "execution_count": 35,
     "metadata": {},
     "output_type": "execute_result"
    },
    {
     "data": {
      "image/png": "[encoded data removed]",
      "text/plain": [
       "<Figure size 640x480 with 1 Axes>"
      ]
     },
     "metadata": {},
     "output_type": "display_data"
    }
   ],
   "source": [
    "plt.plot(sig1_stab[:10])\n",
    "plt.plot(sig2_stab[:10])"
   ]
  },
  {
   "cell_type": "code",
   "execution_count": null,
   "id": "9aa233d1",
   "metadata": {},
   "outputs": [],
   "source": []
  }
 ],
 "metadata": {
  "kernelspec": {
   "display_name": "Python 3 (ipykernel)",
   "language": "python",
   "name": "python3"
  },
  "language_info": {
   "codemirror_mode": {
    "name": "ipython",
    "version": 3
   },
   "file_extension": ".py",
   "mimetype": "text/x-python",
   "name": "python",
   "nbconvert_exporter": "python",
   "pygments_lexer": "ipython3",
   "version": "3.9.1"
  }
 },
 "nbformat": 4,
 "nbformat_minor": 5
}
