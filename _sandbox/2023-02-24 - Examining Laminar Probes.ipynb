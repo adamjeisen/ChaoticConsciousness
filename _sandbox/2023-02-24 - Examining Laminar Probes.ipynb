{
 "cells": [
  {
   "cell_type": "code",
   "execution_count": 1,
   "id": "8a49507d",
   "metadata": {},
   "outputs": [],
   "source": [
    "%load_ext autoreload"
   ]
  },
  {
   "cell_type": "code",
   "execution_count": 2,
   "id": "3e2872e2",
   "metadata": {},
   "outputs": [],
   "source": [
    "%autoreload 2\n",
    "\n",
    "from copy import deepcopy\n",
    "import logging\n",
    "from matplotlib.cm import get_cmap, ScalarMappable\n",
    "from matplotlib.colors import Normalize\n",
    "import matplotlib.pyplot as plt\n",
    "import pandas as pd\n",
    "import scipy\n",
    "from sklearn.metrics import r2_score\n",
    "import sys\n",
    "from tqdm.auto import tqdm\n",
    "\n",
    "from data_utils import *\n",
    "\n",
    "sys.path.append('../../DeLASE')\n",
    "from delase import *\n",
    "from stability_estimation import *\n",
    "from parameter_choosing import *\n",
    "from performance_metrics import *"
   ]
  },
  {
   "cell_type": "markdown",
   "id": "f3618551",
   "metadata": {},
   "source": [
    "# Load Neural Data"
   ]
  },
  {
   "cell_type": "code",
   "execution_count": 3,
   "id": "f2754e69",
   "metadata": {},
   "outputs": [],
   "source": [
    "session = 'Lucky-08032018'\n",
    "\n",
    "session_data = dict(\n",
    "    preOddball=dict(\n",
    "        session_name = '-'.join([session.split('-')[0], 'preOddball', session.split('-')[1], '001'])\n",
    "    ),\n",
    "    Anesthesia=dict(\n",
    "        session_name = '-'.join([session.split('-')[0], 'Anesthesia', session.split('-')[1], '002'])\n",
    "    ),\n",
    "    postOddball=dict(\n",
    "        session_name = '-'.join([session.split('-')[0], 'postOddball', session.split('-')[1], '001'])\n",
    "    )\n",
    ")"
   ]
  },
  {
   "cell_type": "code",
   "execution_count": 4,
   "id": "efb204f7",
   "metadata": {},
   "outputs": [
    {
     "data": {
      "application/vnd.jupyter.widget-view+json": {
       "model_id": "1ebcbce92ddd4998b4d630b719803ba5",
       "version_major": 2,
       "version_minor": 0
      },
      "text/plain": [
       "  0%|          | 0/3 [00:00<?, ?it/s]"
      ]
     },
     "metadata": {},
     "output_type": "display_data"
    }
   ],
   "source": [
    "all_data_dir = '/millerdata/data/common/datasets/anesthesia/mat'\n",
    "for section in tqdm(session_data.keys(), total=len(session_data.keys())):\n",
    "    section_session = session_data[section]['session_name']\n",
    "    data_class = get_data_class(section_session, all_data_dir)\n",
    "    \n",
    "    os.environ[\"HDF5_USE_FILE_LOCKING\"] = \"FALSE\"\n",
    "    variables = ['electrodeInfo', 'lfp', 'lfpSchema', 'sessionInfo', 'trialInfo', 'unitInfo']\n",
    "    session_vars, T, N, dt = load_session_data(section_session, all_data_dir, variables, data_class=data_class, verbose=False)\n",
    "    electrode_info, lfp, lfp_schema, session_info, trial_info, unit_info = session_vars['electrodeInfo'], session_vars['lfp'], session_vars['lfpSchema'], session_vars['sessionInfo'], session_vars['trialInfo'], session_vars['unitInfo']\n",
    "    vars_dict = dict(\n",
    "        electrode_info=electrode_info,\n",
    "        lfp=lfp,\n",
    "        lfp_schema=lfp_schema,\n",
    "        session_info=session_info,\n",
    "        trial_info=trial_info,\n",
    "        unit_info=unit_info\n",
    "    )\n",
    "    session_data[section] = session_data[section] | vars_dict"
   ]
  },
  {
   "cell_type": "markdown",
   "id": "d8bb0fa2",
   "metadata": {},
   "source": [
    "# Explore"
   ]
  },
  {
   "cell_type": "code",
   "execution_count": 6,
   "id": "9d47943b",
   "metadata": {},
   "outputs": [
    {
     "data": {
      "application/vnd.jupyter.widget-view+json": {
       "model_id": "15b774e3ab704dbbb4a07c7f0e5ac027",
       "version_major": 2,
       "version_minor": 0
      },
      "text/plain": [
       "  0%|          | 0/3 [00:00<?, ?it/s]"
      ]
     },
     "metadata": {},
     "output_type": "display_data"
    },
    {
     "data": {
      "application/vnd.jupyter.widget-view+json": {
       "model_id": "0e4479d5f2a84fa0918ff7d61d2c45df",
       "version_major": 2,
       "version_minor": 0
      },
      "text/plain": [
       "  0%|          | 0/17 [00:00<?, ?it/s]"
      ]
     },
     "metadata": {},
     "output_type": "display_data"
    },
    {
     "data": {
      "application/vnd.jupyter.widget-view+json": {
       "model_id": "55d2cc42158940da849fce753c972cad",
       "version_major": 2,
       "version_minor": 0
      },
      "text/plain": [
       "  0%|          | 0/17 [00:00<?, ?it/s]"
      ]
     },
     "metadata": {},
     "output_type": "display_data"
    },
    {
     "data": {
      "application/vnd.jupyter.widget-view+json": {
       "model_id": "57f5b4f1ca6a486a94eb4d64c9b168a8",
       "version_major": 2,
       "version_minor": 0
      },
      "text/plain": [
       "  0%|          | 0/17 [00:00<?, ?it/s]"
      ]
     },
     "metadata": {},
     "output_type": "display_data"
    }
   ],
   "source": [
    "area = 'PFC'\n",
    "for section in tqdm(session_data.keys(), total=len(session_data.keys())):\n",
    "    if area == 'all':\n",
    "        unit_indices = np.arange(len(session_data[section]['electrode_info']['area']))\n",
    "    else:\n",
    "        unit_indices = np.where([area.lower() in a.lower() for a in session_data[section]['electrode_info']['area']])[0]\n",
    "    \n",
    "    t = int(session_data[section]['lfp'].shape[0]/2)\n",
    "    signal = session_data[section]['lfp'][t:t + 20000, unit_indices]\n",
    "    delase = DeLASE(signal[:15000], dt=dt, p=int(6400/len(unit_indices)), use_torch=True, device='cuda')\n",
    "\n",
    "    delase.compute_havok_dmd(r_thresh=0.01, lamb=1e-2)\n",
    "    preds = delase.predict_havok_dmd(signal[15000:], tail_bite=True, reseed=50)\n",
    "    ip_ret = compute_integrated_performance(delase, signal[15000:], full_return=True, verbose=True)\n",
    "\n",
    "    delase.compute_jacobians()\n",
    "    delase.get_stability(max_freq=500, max_unstable_freq=125)\n",
    "\n",
    "    session_data[section]['return'] = dict(\n",
    "        ip_ret=ip_ret,\n",
    "        stability_params=delase.stability_params.cpu()\n",
    "    )"
   ]
  },
  {
   "cell_type": "code",
   "execution_count": 7,
   "id": "d84d9969",
   "metadata": {},
   "outputs": [
    {
     "data": {
      "image/png": "[encoded data removed]",
      "text/plain": [
       "<Figure size 640x480 with 1 Axes>"
      ]
     },
     "metadata": {},
     "output_type": "display_data"
    }
   ],
   "source": [
    "for section in session_data.keys():\n",
    "    plt.scatter(np.arange(400), session_data[section]['return']['stability_params'][:400].cpu(), label=section, s=5)\n",
    "plt.xlabel('Stability Index #')\n",
    "plt.ylabel('Instability (1/s)')\n",
    "plt.legend()\n",
    "plt.show()"
   ]
  },
  {
   "cell_type": "code",
   "execution_count": 85,
   "id": "015cea38",
   "metadata": {},
   "outputs": [],
   "source": [
    "# plt.plot(signal[15000:, 0])\n",
    "# plt.plot(preds[:, 0].cpu())"
   ]
  }
 ],
 "metadata": {
  "kernelspec": {
   "display_name": "Python 3 (ipykernel)",
   "language": "python",
   "name": "python3"
  },
  "language_info": {
   "codemirror_mode": {
    "name": "ipython",
    "version": 3
   },
   "file_extension": ".py",
   "mimetype": "text/x-python",
   "name": "python",
   "nbconvert_exporter": "python",
   "pygments_lexer": "ipython3",
   "version": "3.9.1"
  }
 },
 "nbformat": 4,
 "nbformat_minor": 5
}
