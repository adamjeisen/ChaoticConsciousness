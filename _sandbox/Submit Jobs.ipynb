{
 "cells": [
  {
   "cell_type": "code",
   "execution_count": 1,
   "id": "ddabe21e",
   "metadata": {},
   "outputs": [],
   "source": [
    "%load_ext autoreload"
   ]
  },
  {
   "cell_type": "code",
   "execution_count": 2,
   "id": "1b1ac697",
   "metadata": {},
   "outputs": [],
   "source": [
    "%autoreload 2\n",
    "from neural_analysis.matIO import loadmat\n",
    "import numpy as np\n",
    "import os\n",
    "import pandas as pd\n",
    "import shutil\n",
    "import sys\n",
    "import time\n",
    "from tqdm.auto import tqdm\n",
    "\n",
    "sys.path.append('..')\n",
    "from utils import get_data_class, load_session_data, load, save, save_lfp_chunks"
   ]
  },
  {
   "cell_type": "markdown",
   "id": "48a9a900",
   "metadata": {},
   "source": [
    "# Submit"
   ]
  },
  {
   "cell_type": "code",
   "execution_count": 3,
   "id": "12bfcae3",
   "metadata": {},
   "outputs": [],
   "source": [
    "session_list = []\n",
    "for f in os.listdir('/om/user/eisenaj/datasets/anesthesia/mat/propofolPuffTone/'):\n",
    "    if f.endswith('.mat'):\n",
    "        session_list.append(f[:-4])"
   ]
  },
  {
   "cell_type": "code",
   "execution_count": 7,
   "id": "aab5a224",
   "metadata": {},
   "outputs": [
    {
     "data": {
      "text/plain": [
       "{'Mary-Anesthesia-20160809-01',\n",
       " 'Mary-Anesthesia-20160818-02',\n",
       " 'Mary-Anesthesia-20160826-02',\n",
       " 'Mary-Anesthesia-20160902-02',\n",
       " 'Mary-Anesthesia-20160912-02',\n",
       " 'Mary-Anesthesia-20160914-02',\n",
       " 'MrJones-Anesthesia-20160105-01',\n",
       " 'MrJones-Anesthesia-20160107-01',\n",
       " 'MrJones-Anesthesia-20160109-01',\n",
       " 'MrJones-Anesthesia-20160113-01',\n",
       " 'MrJones-Anesthesia-20160121-01',\n",
       " 'MrJones-Anesthesia-20160123-01',\n",
       " 'MrJones-Anesthesia-20160125-01',\n",
       " 'MrJones-Anesthesia-20160201-01',\n",
       " 'MrJones-Anesthesia-20160210-01',\n",
       " 'MrJones-Anesthesia-20160301-01'}"
      ]
     },
     "execution_count": 7,
     "metadata": {},
     "output_type": "execute_result"
    }
   ],
   "source": [
    "data_folder = '/om/user/eisenaj/ChaoticConsciousness/results/propofolPuffTone/VAR_p'\n",
    "completed_sessions = set()\n",
    "for f in os.listdir(data_folder):\n",
    "    completed_sessions.add(f.split('_')[0])\n",
    "completed_sessions"
   ]
  },
  {
   "cell_type": "code",
   "execution_count": 6,
   "id": "84a4c730",
   "metadata": {},
   "outputs": [
    {
     "data": {
      "text/plain": [
       "['MrJones-Anesthesia-20160206-01',\n",
       " 'Mary-Anesthesia-20160822-02',\n",
       " 'Mary-Anesthesia-20160831-02',\n",
       " 'Mary-Anesthesia-20160908-02',\n",
       " 'Mary-Anesthesia-20160916-02']"
      ]
     },
     "execution_count": 6,
     "metadata": {},
     "output_type": "execute_result"
    }
   ],
   "source": [
    "sessions_to_run = []\n",
    "for session in session_list:\n",
    "    if session not in completed_sessions:\n",
    "        sessions_to_run.append(session)\n",
    "sessions_to_run"
   ]
  },
  {
   "cell_type": "code",
   "execution_count": 8,
   "id": "25f773a5",
   "metadata": {},
   "outputs": [
    {
     "name": "stdout",
     "output_type": "stream",
     "text": [
      "Submitted batch job 25215334\n",
      "Submitted batch job 25215335\n",
      "Submitted batch job 25215336\n",
      "Submitted batch job 25215337\n",
      "Submitted batch job 25215338\n"
     ]
    }
   ],
   "source": [
    "for session in sessions_to_run:\n",
    "    os.system(f'sbatch /om2/user/eisenaj/code/ChaoticConsciousness/shell_scripts/multiproc_VAR_p_grid_search.sh {session}')"
   ]
  },
  {
   "cell_type": "code",
   "execution_count": null,
   "id": "7acf1ca5",
   "metadata": {},
   "outputs": [],
   "source": []
  }
 ],
 "metadata": {
  "kernelspec": {
   "display_name": "Python 3 (ipykernel)",
   "language": "python",
   "name": "python3"
  },
  "language_info": {
   "codemirror_mode": {
    "name": "ipython",
    "version": 3
   },
   "file_extension": ".py",
   "mimetype": "text/x-python",
   "name": "python",
   "nbconvert_exporter": "python",
   "pygments_lexer": "ipython3",
   "version": "3.9.1"
  }
 },
 "nbformat": 4,
 "nbformat_minor": 5
}
