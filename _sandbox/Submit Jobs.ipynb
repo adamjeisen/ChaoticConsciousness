{
 "cells": [
  {
   "cell_type": "code",
   "execution_count": 1,
   "id": "ddabe21e",
   "metadata": {},
   "outputs": [],
   "source": [
    "%load_ext autoreload"
   ]
  },
  {
   "cell_type": "code",
   "execution_count": 2,
   "id": "1b1ac697",
   "metadata": {},
   "outputs": [],
   "source": [
    "%autoreload 2\n",
    "from neural_analysis.matIO import loadmat\n",
    "import numpy as np\n",
    "import os\n",
    "import pandas as pd\n",
    "import shutil\n",
    "import sys\n",
    "import time\n",
    "from tqdm.auto import tqdm\n",
    "\n",
    "sys.path.append('..')\n",
    "from utils import get_data_class, load_session_data, load, save, save_lfp_chunks"
   ]
  },
  {
   "cell_type": "markdown",
   "id": "48a9a900",
   "metadata": {},
   "source": [
    "# Submit"
   ]
  },
  {
   "cell_type": "code",
   "execution_count": 3,
   "id": "12bfcae3",
   "metadata": {},
   "outputs": [],
   "source": [
    "session_list = []\n",
    "for f in os.listdir('/om/user/eisenaj/datasets/anesthesia/mat/propofolPuffTone/'):\n",
    "    if f.endswith('.mat'):\n",
    "        session_list.append(f[:-4])"
   ]
  },
  {
   "cell_type": "code",
   "execution_count": 4,
   "id": "aab5a224",
   "metadata": {},
   "outputs": [],
   "source": [
    "data_folder = '/om/user/eisenaj/ChaoticConsciousness/results/propofolPuffTone/VAR_p'\n",
    "completed_sessions = set()\n",
    "for f in os.listdir(data_folder):\n",
    "    completed_sessions.add(f.split('_')[0])"
   ]
  },
  {
   "cell_type": "code",
   "execution_count": 5,
   "id": "84a4c730",
   "metadata": {},
   "outputs": [
    {
     "name": "stdout",
     "output_type": "stream",
     "text": [
      "Submitted batch job 25053634\n",
      "Submitted batch job 25053635\n",
      "Submitted batch job 25053636\n",
      "Submitted batch job 25053637\n",
      "Submitted batch job 25053638\n",
      "Submitted batch job 25053639\n",
      "Submitted batch job 25053640\n",
      "Submitted batch job 25053641\n"
     ]
    }
   ],
   "source": [
    "for session in session_list:\n",
    "    if session not in completed_sessions:\n",
    "        os.system(f'sbatch /om2/user/eisenaj/code/ChaoticConsciousness/shell_scripts/multiproc_VAR_p_grid_search.sh {session}')"
   ]
  },
  {
   "cell_type": "code",
   "execution_count": null,
   "id": "1d5fa94d",
   "metadata": {},
   "outputs": [],
   "source": []
  }
 ],
 "metadata": {
  "kernelspec": {
   "display_name": "Python 3 (ipykernel)",
   "language": "python",
   "name": "python3"
  },
  "language_info": {
   "codemirror_mode": {
    "name": "ipython",
    "version": 3
   },
   "file_extension": ".py",
   "mimetype": "text/x-python",
   "name": "python",
   "nbconvert_exporter": "python",
   "pygments_lexer": "ipython3",
   "version": "3.9.1"
  }
 },
 "nbformat": 4,
 "nbformat_minor": 5
}
