{
 "cells": [
  {
   "cell_type": "code",
   "execution_count": 2,
   "id": "ddabe21e",
   "metadata": {},
   "outputs": [],
   "source": [
    "%load_ext autoreload"
   ]
  },
  {
   "cell_type": "code",
   "execution_count": 3,
   "id": "1b1ac697",
   "metadata": {},
   "outputs": [],
   "source": [
    "%autoreload 2\n",
    "from collections import defaultdict\n",
    "from datetime import datetime\n",
    "import h5py\n",
    "import matplotlib.pyplot as plt\n",
    "from neural_analysis.matIO import loadmat\n",
    "import numpy as np\n",
    "import os\n",
    "import pandas as pd\n",
    "from scipy.signal import butter, filtfilt, freqz\n",
    "from scipy.stats import pearsonr\n",
    "import shutil\n",
    "import sys\n",
    "import time\n",
    "from tqdm.auto import tqdm\n",
    "\n",
    "sys.path.append('../')\n",
    "from ld_utils import compute_eigs, get_data_sigma_norms\n",
    "from up_down import get_up_down\n",
    "from utils import get_data_class, load, save"
   ]
  },
  {
   "cell_type": "code",
   "execution_count": 4,
   "id": "da226558",
   "metadata": {},
   "outputs": [],
   "source": [
    "## propofolPuffTone\n",
    "# session = 'Mary-Anesthesia-20160809-01'\n",
    "session = 'MrJones-Anesthesia-20160105-01'\n",
    "\n",
    "## propofolWakeup\n",
    "# session = 'Mary-Anesthesia-20170203-02'"
   ]
  },
  {
   "cell_type": "markdown",
   "id": "46091d60",
   "metadata": {},
   "source": [
    "## Load Neural Data and Split Into Segments"
   ]
  },
  {
   "cell_type": "code",
   "execution_count": 8,
   "id": "fb15a5df",
   "metadata": {},
   "outputs": [],
   "source": [
    "def split_data_into_windows(session, all_data_dir, save_dir=None, windows=[2.5], strides=None, seconds_to_chop=30):\n",
    "    if strides is None:\n",
    "        strides = windows\n",
    "    else:\n",
    "        if len(strides) != len(windows):\n",
    "            raise ValueError(f\"If provided, the lists windows and strides must be the same length. Currently windows = {windows} and strides = {strides}\")\n",
    "    \n",
    "    if save_dir is None:\n",
    "        save_dir = all_data_dir\n",
    "    \n",
    "    data_class = get_data_class(all_data_dir, session)\n",
    "\n",
    "    filename = os.path.join(all_data_dir, data_class, f'{session}.mat')\n",
    "    print(\"Loading data ...\")\n",
    "    start = time.process_time()\n",
    "    lfp, lfp_schema = loadmat(filename, variables=['lfp', 'lfpSchema'], verbose=False)\n",
    "    T = lfp.shape[0]\n",
    "    dt = lfp_schema['smpInterval'][0]\n",
    "\n",
    "    print(f\"Data loaded (took {time.process_time() - start:.2f} seconds)\")\n",
    "    \n",
    "    end_step = T - int(seconds_to_chop/dt) # take off seconds_to_chop seconds from the end\n",
    "    data = lfp[:end_step]\n",
    "    for window, stride in zip(windows, strides):\n",
    "        data_dir = os.path.join(save_dir, data_class, f\"{session}_window_{window}_stride_{stride}\")\n",
    "        os.makedirs(data_dir, exist_ok=True)\n",
    "        \n",
    "        print(f\"window = {window} s\")\n",
    "        num_windows = int(end_step/int(stride/dt))\n",
    "        for i in tqdm(range(num_windows)):\n",
    "            start = int(stride/dt)*i\n",
    "            end = int(stride/dt)*i + int(window/dt)\n",
    "            window_data = data[start:end]\n",
    "            \n",
    "            window_dict = {'data': window_data, 'start_ind': start, 'start_time': start*dt, 'end_ind': end, 'end_time': end*dt}\n",
    "            save(window_dict, os.path.join(data_dir, f\"window_{i}\"))"
   ]
  },
  {
   "cell_type": "code",
   "execution_count": 6,
   "id": "46fa4e14",
   "metadata": {},
   "outputs": [],
   "source": [
    "all_data_dir = f\"/om/user/eisenaj/datasets/anesthesia/mat\""
   ]
  },
  {
   "cell_type": "code",
   "execution_count": 7,
   "id": "476e4180",
   "metadata": {},
   "outputs": [
    {
     "name": "stdout",
     "output_type": "stream",
     "text": [
      "Loading data ...\n",
      "Data loaded (took 192.18 seconds)\n",
      "window = 2.5 s\n"
     ]
    },
    {
     "data": {
      "application/vnd.jupyter.widget-view+json": {
       "model_id": "6ecae2e636454bbb8ff7a039042b1107",
       "version_major": 2,
       "version_minor": 0
      },
      "text/plain": [
       "  0%|          | 0/4977 [00:00<?, ?it/s]"
      ]
     },
     "metadata": {},
     "output_type": "display_data"
    }
   ],
   "source": [
    "split_data_into_windows(session, all_data_dir, all_data_dir)"
   ]
  },
  {
   "cell_type": "markdown",
   "id": "1ce57ad2",
   "metadata": {},
   "source": [
    "## Compile Results and Save"
   ]
  },
  {
   "cell_type": "code",
   "execution_count": 4,
   "id": "223898aa",
   "metadata": {},
   "outputs": [],
   "source": [
    "# folder_to_compile = \"/om/user/eisenaj/ChaoticConsciousness/results/propofol/causality/causality_Mary-Anesthesia-20160809-01_window_2.5_stride_2.5\"\n",
    "# assert os.path.exists(folder_to_compile)"
   ]
  },
  {
   "cell_type": "code",
   "execution_count": 10,
   "id": "dc4c6bfc",
   "metadata": {},
   "outputs": [],
   "source": [
    "def compile_folder(folder_to_compile):\n",
    "    files = os.listdir(folder_to_compile)\n",
    "\n",
    "    all_window_data = []\n",
    "    for file in tqdm(files):\n",
    "        window_data = load(os.path.join(folder_to_compile, file))\n",
    "        all_window_data.append(window_data) \n",
    "\n",
    "    results_df = pd.DataFrame(all_window_data)\n",
    "\n",
    "    results_df = results_df.sort_values('start_ind')\n",
    "    results_df = results_df.reset_index(drop=True)\n",
    "\n",
    "    shutil.rmtree(folder_to_compile)\n",
    "\n",
    "    save(results_df, folder_to_compile)"
   ]
  },
  {
   "cell_type": "code",
   "execution_count": 11,
   "id": "35bcfe1d",
   "metadata": {},
   "outputs": [
    {
     "data": {
      "application/vnd.jupyter.widget-view+json": {
       "model_id": "ef96c913077c48da91112a348846115d",
       "version_major": 2,
       "version_minor": 0
      },
      "text/plain": [
       "  0%|          | 0/5 [00:00<?, ?it/s]"
      ]
     },
     "metadata": {},
     "output_type": "display_data"
    },
    {
     "data": {
      "application/vnd.jupyter.widget-view+json": {
       "model_id": "6f8dc301ba824b9fa368f97d89c5c62f",
       "version_major": 2,
       "version_minor": 0
      },
      "text/plain": [
       "  0%|          | 0/2822 [00:00<?, ?it/s]"
      ]
     },
     "metadata": {},
     "output_type": "display_data"
    },
    {
     "data": {
      "application/vnd.jupyter.widget-view+json": {
       "model_id": "f9b76e286cb145feb01e2667ef0fd3d6",
       "version_major": 2,
       "version_minor": 0
      },
      "text/plain": [
       "  0%|          | 0/2822 [00:00<?, ?it/s]"
      ]
     },
     "metadata": {},
     "output_type": "display_data"
    },
    {
     "data": {
      "application/vnd.jupyter.widget-view+json": {
       "model_id": "48eaa20f75a840c39c6b9bdcac6c3db7",
       "version_major": 2,
       "version_minor": 0
      },
      "text/plain": [
       "  0%|          | 0/2822 [00:00<?, ?it/s]"
      ]
     },
     "metadata": {},
     "output_type": "display_data"
    },
    {
     "data": {
      "application/vnd.jupyter.widget-view+json": {
       "model_id": "1b7d275b858c484690741ccbf737b6fa",
       "version_major": 2,
       "version_minor": 0
      },
      "text/plain": [
       "  0%|          | 0/2822 [00:00<?, ?it/s]"
      ]
     },
     "metadata": {},
     "output_type": "display_data"
    },
    {
     "data": {
      "application/vnd.jupyter.widget-view+json": {
       "model_id": "aa23604ea91745f4bd428c9884a50cbb",
       "version_major": 2,
       "version_minor": 0
      },
      "text/plain": [
       "  0%|          | 0/2822 [00:00<?, ?it/s]"
      ]
     },
     "metadata": {},
     "output_type": "display_data"
    }
   ],
   "source": [
    "results_dir = \"/om/user/eisenaj/ChaoticConsciousness/results/propofolPuffTone/VAR/VAR_Mary-Anesthesia-20160809-01_window_2.5_stride_2.5_Feb-03-2022_1546\"\n",
    "for folder in tqdm(os.listdir(results_dir)):\n",
    "    compile_folder(os.path.join(results_dir, folder))"
   ]
  },
  {
   "cell_type": "code",
   "execution_count": null,
   "id": "12957138",
   "metadata": {},
   "outputs": [],
   "source": []
  }
 ],
 "metadata": {
  "kernelspec": {
   "display_name": "Python 3 (ipykernel)",
   "language": "python",
   "name": "python3"
  },
  "language_info": {
   "codemirror_mode": {
    "name": "ipython",
    "version": 3
   },
   "file_extension": ".py",
   "mimetype": "text/x-python",
   "name": "python",
   "nbconvert_exporter": "python",
   "pygments_lexer": "ipython3",
   "version": "3.9.1"
  }
 },
 "nbformat": 4,
 "nbformat_minor": 5
}
