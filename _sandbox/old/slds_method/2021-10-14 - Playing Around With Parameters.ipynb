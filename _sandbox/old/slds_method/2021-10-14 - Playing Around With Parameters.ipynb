{
 "cells": [
  {
   "cell_type": "code",
   "execution_count": 16,
   "id": "885f6cf9",
   "metadata": {},
   "outputs": [],
   "source": [
    "import h5py\n",
    "from matplotlib import colors\n",
    "import matplotlib.pyplot as plt\n",
    "import multiprocessing\n",
    "from neural_analysis.matIO import loadmat\n",
    "import numpy as np\n",
    "import os\n",
    "import pandas as pd\n",
    "import ssm\n",
    "from ssm.util import find_permutation\n",
    "import sys\n",
    "import time\n",
    "from tqdm.auto import tqdm\n",
    "\n",
    "sys.path.append('../..')\n",
    "from nld_utils import simulate_lorenz\n",
    "from up_down import get_up_down\n",
    "from utils import get_sample_interval, load, save"
   ]
  },
  {
   "cell_type": "code",
   "execution_count": 17,
   "id": "e80c16ef",
   "metadata": {},
   "outputs": [
    {
     "name": "stdout",
     "output_type": "stream",
     "text": [
      "Loading data ...\n",
      "Data loaded (took 93.84 seconds)\n"
     ]
    }
   ],
   "source": [
    "# filename = '../../__data__/Mary-Anesthesia-20160809-01.mat'\n",
    "filename = r'/home/adameisen/millerdata/common/datasets/anesthesia/mat/propofolPuffTone/Mary-Anesthesia-20160809-01.mat'\n",
    "# filename = r'/home/adameisen/common/datasets/anesthesia/mat/propofolWakeUp/Mary-Anesthesia-20170203-02.mat'\n",
    "print(\"Loading data ...\")\n",
    "start = time.process_time()\n",
    "electrode_info, lfp, lfp_schema, session_info, spike_times, unit_info = loadmat(filename, variables=['electrodeInfo', 'lfp', 'lfpSchema', 'sessionInfo', 'spikeTimes', 'unitInfo'], verbose=False)\n",
    "spike_times = spike_times[0]\n",
    "dt = lfp_schema['smpInterval'][0]\n",
    "T = lfp.shape[0]\n",
    "print(f\"Data loaded (took {time.process_time() - start:.2f} seconds)\")"
   ]
  },
  {
   "cell_type": "code",
   "execution_count": 18,
   "id": "1094597a",
   "metadata": {},
   "outputs": [],
   "source": [
    "# Set the parameters of the SLDS\n",
    "n_disc_states = 2      # number of discrete states\n",
    "latent_dim = 2 # number of latent dimensions\n",
    "emissions_dim = lfp.shape[1]      # number of observed dimensions\n",
    "\n",
    "# areas = ['vlPFC', 'FEF', 'CPB', '7b']\n",
    "areas = np.unique(electrode_info['area'])\n",
    "unit_indices = np.arange(lfp.shape[1])[pd.Series(electrode_info['area']).isin(areas)]\n",
    "stride = 10*60 # s\n",
    "duration = 10*60 # s\n",
    "\n",
    "start_times = np.arange(0, lfp.shape[0]*dt - duration + 0.1, stride).astype(int)"
   ]
  },
  {
   "cell_type": "code",
   "execution_count": 19,
   "id": "5fc52e57",
   "metadata": {},
   "outputs": [],
   "source": [
    "param_list = []\n",
    "for start_time in start_times:\n",
    "    start_step = int(start_time/dt)\n",
    "    length = int(duration/dt)\n",
    "    data = lfp[start_step:start_step + length, unit_indices]\n",
    "    var_names = [f\"unit_{unit_num} {electrode_info['area'][unit_num]}\" for unit_num in unit_indices]\n",
    "    param_list.append((start_time, duration, start_step, length, data, var_names, emissions_dim, n_disc_states, latent_dim))"
   ]
  },
  {
   "cell_type": "code",
   "execution_count": 20,
   "id": "5090ce25",
   "metadata": {},
   "outputs": [],
   "source": [
    "def slds_eigs_worker(param_tuple):\n",
    "    (start_time, duration, start_step, length, data, var_names, emissions_dim, n_disc_states, latent_dim) = param_tuple\n",
    "    \n",
    "    # Create the model and initialize its parameters\n",
    "    slds = ssm.SLDS(emissions_dim, n_disc_states, latent_dim, emissions=\"gaussian_orthog\", verbose=False)\n",
    "\n",
    "    # Fit the model using Laplace-EM with a structured variational posterior\n",
    "    q_lem_elbos, q_lem = slds.fit(data, method=\"laplace_em\",\n",
    "                                   variational_posterior=\"structured_meanfield\",\n",
    "                                   num_iters=10, alpha=0.0, verbose=False)\n",
    "     \n",
    "    criticality_inds = np.zeros((n_disc_states, latent_dim))\n",
    "    eigs = np.zeros((n_disc_states, latent_dim), dtype='complex')\n",
    "    for i in range(n_disc_states):\n",
    "        eigs[i] = np.linalg.eig(slds.dynamics._As[i])[0]\n",
    "        criticality_inds[i] = np.abs(eigs[i])\n",
    "        criticality_inds[i].sort()\n",
    "        criticality_inds[i] = criticality_inds[i][::-1]\n",
    "    \n",
    "    q_lem_x = q_lem.mean_continuous_states[0]\n",
    "    preds = slds.smooth(q_lem_x, data)\n",
    "    mse = ((preds - data)**2).mean()\n",
    "    \n",
    "    disc_states = slds.most_likely_states(q_lem_x, data)\n",
    "\n",
    "    return dict(\n",
    "        start_time=start_time,\n",
    "        duration=duration,\n",
    "        start_step=start_step,\n",
    "        length=length,\n",
    "        slds=slds,\n",
    "        q_lem_elbos=q_lem_elbos,\n",
    "        q_lem=q_lem,\n",
    "        eigs=eigs,\n",
    "        criticality_inds=criticality_inds,\n",
    "        mse=mse,\n",
    "        disc_states=disc_states\n",
    "    )"
   ]
  },
  {
   "cell_type": "code",
   "execution_count": null,
   "id": "146b7b56",
   "metadata": {},
   "outputs": [],
   "source": []
  }
 ],
 "metadata": {
  "kernelspec": {
   "display_name": "Python 3",
   "language": "python",
   "name": "python3"
  },
  "language_info": {
   "codemirror_mode": {
    "name": "ipython",
    "version": 3
   },
   "file_extension": ".py",
   "mimetype": "text/x-python",
   "name": "python",
   "nbconvert_exporter": "python",
   "pygments_lexer": "ipython3",
   "version": "3.8.8"
  }
 },
 "nbformat": 4,
 "nbformat_minor": 5
}
