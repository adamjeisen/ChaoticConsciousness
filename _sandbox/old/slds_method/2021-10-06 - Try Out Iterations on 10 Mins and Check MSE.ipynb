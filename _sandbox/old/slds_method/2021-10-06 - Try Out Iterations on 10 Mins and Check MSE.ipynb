{
 "cells": [
  {
   "cell_type": "code",
   "execution_count": 3,
   "id": "53430643",
   "metadata": {},
   "outputs": [],
   "source": [
    "import h5py\n",
    "from matplotlib import colors\n",
    "import matplotlib.pyplot as plt\n",
    "import multiprocessing\n",
    "from neural_analysis.matIO import loadmat\n",
    "import numpy as np\n",
    "import os\n",
    "import pandas as pd\n",
    "import ssm\n",
    "from ssm.util import find_permutation\n",
    "import sys\n",
    "import time\n",
    "from tqdm.auto import tqdm\n",
    "\n",
    "sys.path.append('../..')\n",
    "from nld_utils import simulate_lorenz\n",
    "from up_down import get_up_down\n",
    "from utils import get_sample_interval, load, save"
   ]
  },
  {
   "cell_type": "code",
   "execution_count": 4,
   "id": "ade93dac",
   "metadata": {},
   "outputs": [],
   "source": [
    "def slds_eigs_worker(param_tuple):\n",
    "    (start_time, duration, start_step, length, data, var_names, emissions_dim, n_disc_states, latent_dim) = param_tuple\n",
    "    \n",
    "    # Create the model and initialize its parameters\n",
    "    slds = ssm.SLDS(emissions_dim, n_disc_states, latent_dim, emissions=\"gaussian_orthog\", verbose=False)\n",
    "\n",
    "    # Fit the model using Laplace-EM with a structured variational posterior\n",
    "    q_lem_elbos, q_lem = slds.fit(data, method=\"laplace_em\",\n",
    "                                   variational_posterior=\"structured_meanfield\",\n",
    "                                   num_iters=10, alpha=0.0, verbose=False)\n",
    "     \n",
    "    criticality_inds = np.zeros((n_disc_states, latent_dim))\n",
    "    eigs = np.zeros((n_disc_states, latent_dim), dtype='complex')\n",
    "    for i in range(n_disc_states):\n",
    "        eigs[i] = np.linalg.eig(slds.dynamics._As[i])[0]\n",
    "        criticality_inds[i] = np.abs(eigs[i])\n",
    "        criticality_inds[i].sort()\n",
    "        criticality_inds[i] = criticality_inds[i][::-1]\n",
    "    \n",
    "    q_lem_x = q_lem.mean_continuous_states[0]\n",
    "    preds = slds.smooth(q_lem_x, data)\n",
    "    mse = ((preds - data)**2).mean()\n",
    "    \n",
    "    disc_states = slds.most_likely_states(q_lem_x, data)\n",
    "\n",
    "    return dict(\n",
    "        start_time=start_time,\n",
    "        duration=duration,\n",
    "        start_step=start_step,\n",
    "        length=length,\n",
    "        slds=slds,\n",
    "        q_lem_elbos=q_lem_elbos,\n",
    "        q_lem=q_lem,\n",
    "        eigs=eigs,\n",
    "        criticality_inds=criticality_inds,\n",
    "        mse=mse,\n",
    "        disc_states=disc_states\n",
    "    )"
   ]
  },
  {
   "cell_type": "code",
   "execution_count": 18,
   "id": "ff8f516f",
   "metadata": {},
   "outputs": [],
   "source": [
    "def main():\n",
    "    # filename = '../../__data__/Mary-Anesthesia-20160809-01.mat'\n",
    "    filename = r'/home/adameisen/millerdata/common/datasets/anesthesia/mat/propofolPuffTone/Mary-Anesthesia-20160809-01.mat'\n",
    "    # filename = r'/home/adameisen/common/datasets/anesthesia/mat/propofolWakeUp/Mary-Anesthesia-20170203-02.mat'\n",
    "    print(\"Loading data ...\")\n",
    "    start = time.process_time()\n",
    "    electrode_info, lfp, lfp_schema, session_info, spike_times, unit_info = loadmat(filename, variables=['electrodeInfo', 'lfp', 'lfpSchema', 'sessionInfo', 'spikeTimes', 'unitInfo'], verbose=False)\n",
    "    spike_times = spike_times[0]\n",
    "    dt = lfp_schema['smpInterval'][0]\n",
    "    T = lfp.shape[0]\n",
    "    print(f\"Data loaded (took {time.process_time() - start:.2f} seconds)\")\n",
    "\n",
    "    # Set the parameters of the SLDS\n",
    "    n_disc_states = 2      # number of discrete states\n",
    "    latent_dim = 2 # number of latent dimensions\n",
    "    emissions_dim = lfp.shape[1]      # number of observed dimensions\n",
    "\n",
    "    # areas = ['vlPFC', 'FEF', 'CPB', '7b']\n",
    "    areas = np.unique(electrode_info['area'])\n",
    "    unit_indices = np.arange(lfp.shape[1])[pd.Series(electrode_info['area']).isin(areas)]\n",
    "    stride = 10*60 # s\n",
    "    duration = 10*60 # s\n",
    "\n",
    "    start_times = np.arange(0, lfp.shape[0]*dt - duration + 0.1, stride).astype(int)\n",
    "    \n",
    "    param_list = []\n",
    "    for start_time in start_times:\n",
    "        start_step = int(start_time/dt)\n",
    "        length = int(duration/dt)\n",
    "        data = lfp[start_step:start_step + length, unit_indices]\n",
    "        var_names = [f\"unit_{unit_num} {electrode_info['area'][unit_num]}\" for unit_num in unit_indices]\n",
    "        param_list.append((start_time, duration, start_step, length, data, var_names, emissions_dim, n_disc_states, latent_dim))\n",
    "\n",
    "    return param_list[0]\n",
    "        \n",
    "#     PROCESSES = os.cpu_count() - 1\n",
    "#     with multiprocessing.Pool(PROCESSES) as pool:\n",
    "#         results = list(tqdm(pool.imap(slds_eigs_worker, start_times), total=len(start_times)))\n",
    "\n",
    "    results = []\n",
    "    for param_tuple in tqdm([param_list[0]]):\n",
    "        results.append(slds_eigs_worker(param_list[0]))\n",
    "\n",
    "    return results\n",
    "#     data_dir = \"../../__data__/slds/\"\n",
    "#     os.makedirs(data_dir, exist_ok=True)\n",
    "#     t = time.localtime()\n",
    "#     timestamp = time.strftime('%b-%d-%Y_%H%M', t)\n",
    "#     save(results, os.path.join(data_dir, f'slds_big_run_full_brain_{timestamp}_{duration}s_duration_{stride}s_stride'))"
   ]
  },
  {
   "cell_type": "code",
   "execution_count": 19,
   "id": "1d9c2d0e",
   "metadata": {},
   "outputs": [
    {
     "name": "stdout",
     "output_type": "stream",
     "text": [
      "Loading data ...\n",
      "Data loaded (took 83.91 seconds)\n"
     ]
    }
   ],
   "source": [
    "(start_time, duration, start_step, length, data, var_names, emissions_dim, n_disc_states, latent_dim) = main()"
   ]
  },
  {
   "cell_type": "code",
   "execution_count": 12,
   "id": "1198b5e3",
   "metadata": {},
   "outputs": [
    {
     "name": "stdout",
     "output_type": "stream",
     "text": [
      "Loading data ...\n",
      "Data loaded (took 85.08 seconds)\n"
     ]
    },
    {
     "data": {
      "application/vnd.jupyter.widget-view+json": {
       "model_id": "bedd01395c57409eba1e2ca50aaa0793",
       "version_major": 2,
       "version_minor": 0
      },
      "text/plain": [
       "  0%|          | 0/1 [00:00<?, ?it/s]"
      ]
     },
     "metadata": {},
     "output_type": "display_data"
    }
   ],
   "source": [
    "results = main()"
   ]
  },
  {
   "cell_type": "code",
   "execution_count": 13,
   "id": "633672eb",
   "metadata": {},
   "outputs": [
    {
     "data": {
      "text/plain": [
       "[{'start_time': 0,\n",
       "  'duration': 600,\n",
       "  'start_step': 0,\n",
       "  'length': 600000,\n",
       "  'slds': <ssm.lds.SLDS at 0x7f5f3a77f160>,\n",
       "  'q_lem_elbos': array([2.98689482e+08, 3.21767643e+08, 3.22549908e+08, 3.22603236e+08,\n",
       "         3.22628272e+08, 3.22650017e+08, 3.22670736e+08, 3.22688754e+08,\n",
       "         3.22703662e+08, 3.22714934e+08, 3.22719974e+08]),\n",
       "  'q_lem': <ssm.variational.SLDSStructuredMeanFieldVariationalPosterior at 0x7f5f3a7537f0>,\n",
       "  'eigs': array([[0.99837366+0.j, 0.99099355+0.j],\n",
       "         [0.98472041+0.j, 0.98946159+0.j]]),\n",
       "  'criticality_inds': array([[0.99837366, 0.99099355],\n",
       "         [0.98946159, 0.98472041]]),\n",
       "  'mse': 0.0009612909986823849,\n",
       "  'disc_states': array([1, 1, 1, ..., 1, 1, 1])}]"
      ]
     },
     "execution_count": 13,
     "metadata": {},
     "output_type": "execute_result"
    }
   ],
   "source": [
    "results"
   ]
  },
  {
   "cell_type": "code",
   "execution_count": 34,
   "id": "de966690",
   "metadata": {},
   "outputs": [],
   "source": [
    "q_lem = results[0]['q_lem']\n",
    "slds = results[0]['slds']"
   ]
  },
  {
   "cell_type": "code",
   "execution_count": 35,
   "id": "327d2b6c",
   "metadata": {},
   "outputs": [],
   "source": [
    "q_lem_x = q_lem.mean_continuous_states[0]\n",
    "preds = slds.smooth(q_lem_x, data)\n",
    "mse = ((preds - data)**2).mean()"
   ]
  },
  {
   "cell_type": "code",
   "execution_count": 36,
   "id": "a1629e29",
   "metadata": {},
   "outputs": [
    {
     "data": {
      "text/plain": [
       "array([[[ 9.97735190e-01, -4.40726823e-03],\n",
       "        [-9.76639387e-04,  9.91632014e-01]],\n",
       "\n",
       "       [[ 9.86335978e-01, -3.03443987e-03],\n",
       "        [-1.66411563e-03,  9.87846022e-01]]])"
      ]
     },
     "execution_count": 36,
     "metadata": {},
     "output_type": "execute_result"
    }
   ],
   "source": [
    "slds.dynamics._As"
   ]
  },
  {
   "cell_type": "code",
   "execution_count": 39,
   "id": "8a10cc97",
   "metadata": {},
   "outputs": [
    {
     "data": {
      "image/png": "[encoded data removed]",
      "text/plain": [
       "<Figure size 432x288 with 1 Axes>"
      ]
     },
     "metadata": {
      "needs_background": "light"
     },
     "output_type": "display_data"
    }
   ],
   "source": [
    "plt.plot(results[0]['q_lem_elbos'], label=\"Laplace-EM: Structured Mean-Field Posterior\")\n",
    "plt.title('Convergence of Laplace-EM Algorithm')\n",
    "plt.ylabel('ELBO')\n",
    "plt.xlabel('Iteration')\n",
    "plt.show()"
   ]
  },
  {
   "cell_type": "code",
   "execution_count": 40,
   "id": "09e6c250",
   "metadata": {},
   "outputs": [],
   "source": [
    "params = (start_time, duration, start_step, length, data, var_names, emissions_dim, n_disc_states, latent_dim)"
   ]
  },
  {
   "cell_type": "code",
   "execution_count": 41,
   "id": "a726a456",
   "metadata": {},
   "outputs": [],
   "source": [
    "save({'params': params, 'results': results}, \"../../__data__/slds/one_10min_run\")"
   ]
  },
  {
   "cell_type": "code",
   "execution_count": 45,
   "id": "70af2cf3",
   "metadata": {},
   "outputs": [],
   "source": [
    "start_times = [start_time]\n",
    "thresh = np.Inf"
   ]
  },
  {
   "cell_type": "code",
   "execution_count": 61,
   "id": "d3498e63",
   "metadata": {},
   "outputs": [],
   "source": [
    "switch_bool = np.diff(results[0]['disc_states']) != 0\n",
    "inter_switch_times = []\n",
    "t = 0\n",
    "for i in range(len(switch_bool)):\n",
    "    t += 1\n",
    "    if switch_bool[i]:\n",
    "        inter_switch_times.append(t)\n",
    "        t = 0"
   ]
  },
  {
   "cell_type": "code",
   "execution_count": 67,
   "id": "0a1adba0",
   "metadata": {},
   "outputs": [
    {
     "data": {
      "image/png": "[encoded data removed]",
      "text/plain": [
       "<Figure size 432x288 with 1 Axes>"
      ]
     },
     "metadata": {
      "needs_background": "light"
     },
     "output_type": "display_data"
    }
   ],
   "source": [
    "plt.hist(inter_switch_times, bins=100)\n",
    "plt.title(\"Histogram of Time in Milliseconds Between Discrete State Switches\")\n",
    "plt.ylabel(\"Count\")\n",
    "plt.xlabel(\"Persistent State Duration (ms)\")\n",
    "plt.xlim([0, 50])\n",
    "plt.show()"
   ]
  },
  {
   "cell_type": "code",
   "execution_count": null,
   "id": "df9d090d",
   "metadata": {},
   "outputs": [],
   "source": []
  }
 ],
 "metadata": {
  "kernelspec": {
   "display_name": "Python 3",
   "language": "python",
   "name": "python3"
  },
  "language_info": {
   "codemirror_mode": {
    "name": "ipython",
    "version": 3
   },
   "file_extension": ".py",
   "mimetype": "text/x-python",
   "name": "python",
   "nbconvert_exporter": "python",
   "pygments_lexer": "ipython3",
   "version": "3.8.8"
  }
 },
 "nbformat": 4,
 "nbformat_minor": 5
}
