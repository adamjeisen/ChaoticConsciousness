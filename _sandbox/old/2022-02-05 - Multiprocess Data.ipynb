{
 "cells": [
  {
   "cell_type": "code",
   "execution_count": 1,
   "id": "997b5b57",
   "metadata": {},
   "outputs": [],
   "source": [
    "%load_ext autoreload"
   ]
  },
  {
   "cell_type": "code",
   "execution_count": 2,
   "id": "0aeb3f25",
   "metadata": {},
   "outputs": [],
   "source": [
    "%autoreload 2\n",
    "import os\n",
    "import re\n",
    "import sys\n",
    "from tqdm.auto import tqdm\n",
    "\n",
    "sys.path.append('..')\n",
    "from utils import get_result_path, split_data_into_windows"
   ]
  },
  {
   "cell_type": "markdown",
   "id": "6eb82c61",
   "metadata": {},
   "source": [
    "# Multiprocess Unprocessed Data"
   ]
  },
  {
   "cell_type": "code",
   "execution_count": 3,
   "id": "74ccf8dd",
   "metadata": {},
   "outputs": [],
   "source": [
    "data_dir = \"/om/user/eisenaj/datasets/anesthesia/mat/propofolPuffTone\"\n",
    "results_dir = \"/om/user/eisenaj/ChaoticConsciousness/results/propofolPuffTone/VAR\"\n",
    "# data_dir = \"/om/user/eisenaj/datasets/anesthesia/mat/ketamine\"\n",
    "# results_dir = \"/om/user/eisenaj/ChaoticConsciousness/results/ketamine/VAR\"\n",
    "# data_dir = \"/om/user/eisenaj/datasets/anesthesia/mat/propofolWakeup\"\n",
    "# results_dir = \"/om/user/eisenaj/ChaoticConsciousness/results/propofolWake/VAR\"\n",
    "window = 2.5\n",
    "stride = 2.5\n",
    "task_type = 'VAR'\n",
    "data_file_regex = re.compile(\".*.mat\")\n",
    "data_files = [f for f in os.listdir(data_dir) if data_file_regex.match(f)]\n",
    "\n",
    "sessions_to_run = []\n",
    "for data_file in data_files:\n",
    "    session = data_file[:-4]\n",
    "    try:\n",
    "        get_result_path(results_dir, session, window, stride)\n",
    "    except:\n",
    "        sessions_to_run.append(session)"
   ]
  },
  {
   "cell_type": "code",
   "execution_count": 10,
   "id": "7051c938",
   "metadata": {},
   "outputs": [
    {
     "data": {
      "application/vnd.jupyter.widget-view+json": {
       "model_id": "da82e9964b6f4a4788b5c3df5afe052a",
       "version_major": 2,
       "version_minor": 0
      },
      "text/plain": [
       "  0%|          | 0/21 [00:00<?, ?it/s]"
      ]
     },
     "metadata": {},
     "output_type": "display_data"
    },
    {
     "name": "stdout",
     "output_type": "stream",
     "text": [
      "Mary-Anesthesia-20170203-02\n",
      "Loading data ...\n",
      "Data loaded (took 237.57 seconds)\n",
      "2.5 2.5\n",
      "window = 2.5 s\n"
     ]
    },
    {
     "data": {
      "application/vnd.jupyter.widget-view+json": {
       "model_id": "5af0b7bbd4d044358629f85dec61161b",
       "version_major": 2,
       "version_minor": 0
      },
      "text/plain": [
       "  0%|          | 0/4141 [00:00<?, ?it/s]"
      ]
     },
     "metadata": {},
     "output_type": "display_data"
    },
    {
     "name": "stdout",
     "output_type": "stream",
     "text": [
      "Submitted batch job 23446852\n",
      "MrJones-Anesthesia-20160601-02\n",
      "Loading data ...\n",
      "Data loaded (took 140.20 seconds)\n",
      "2.5 2.5\n",
      "window = 2.5 s\n"
     ]
    },
    {
     "data": {
      "application/vnd.jupyter.widget-view+json": {
       "model_id": "2077181086f04708a48355bdbd8288c0",
       "version_major": 2,
       "version_minor": 0
      },
      "text/plain": [
       "  0%|          | 0/3441 [00:00<?, ?it/s]"
      ]
     },
     "metadata": {},
     "output_type": "display_data"
    },
    {
     "name": "stdout",
     "output_type": "stream",
     "text": [
      "Submitted batch job 23446871\n",
      "MrJones-Anesthesia-20160520-01\n",
      "Loading data ...\n",
      "Data loaded (took 246.60 seconds)\n",
      "2.5 2.5\n",
      "window = 2.5 s\n"
     ]
    },
    {
     "data": {
      "application/vnd.jupyter.widget-view+json": {
       "model_id": "71dbb909b846438fb852a84396bb5a3d",
       "version_major": 2,
       "version_minor": 0
      },
      "text/plain": [
       "  0%|          | 0/6224 [00:00<?, ?it/s]"
      ]
     },
     "metadata": {},
     "output_type": "display_data"
    },
    {
     "name": "stdout",
     "output_type": "stream",
     "text": [
      "Submitted batch job 23446914\n",
      "MrJones-Anesthesia-20160527-03\n",
      "Loading data ...\n",
      "Data loaded (took 147.75 seconds)\n",
      "2.5 2.5\n",
      "window = 2.5 s\n"
     ]
    },
    {
     "data": {
      "application/vnd.jupyter.widget-view+json": {
       "model_id": "7228b5a7bbf74f44a8fba2956bed90d0",
       "version_major": 2,
       "version_minor": 0
      },
      "text/plain": [
       "  0%|          | 0/3736 [00:00<?, ?it/s]"
      ]
     },
     "metadata": {},
     "output_type": "display_data"
    },
    {
     "name": "stdout",
     "output_type": "stream",
     "text": [
      "Submitted batch job 23446977\n",
      "Mary-Anesthesia-20161229-02\n",
      "Loading data ...\n",
      "Data loaded (took 124.81 seconds)\n",
      "2.5 2.5\n",
      "window = 2.5 s\n"
     ]
    },
    {
     "data": {
      "application/vnd.jupyter.widget-view+json": {
       "model_id": "0b315f82740e40acb42ba84ee34ee9ef",
       "version_major": 2,
       "version_minor": 0
      },
      "text/plain": [
       "  0%|          | 0/2980 [00:00<?, ?it/s]"
      ]
     },
     "metadata": {},
     "output_type": "display_data"
    },
    {
     "name": "stdout",
     "output_type": "stream",
     "text": [
      "Submitted batch job 23447043\n",
      "Mary-Anesthesia-20170123-02\n",
      "Loading data ...\n",
      "Data loaded (took 181.32 seconds)\n",
      "2.5 2.5\n",
      "window = 2.5 s\n"
     ]
    },
    {
     "data": {
      "application/vnd.jupyter.widget-view+json": {
       "model_id": "33837511b4ad4f38b70badcfdb9e5f64",
       "version_major": 2,
       "version_minor": 0
      },
      "text/plain": [
       "  0%|          | 0/3833 [00:00<?, ?it/s]"
      ]
     },
     "metadata": {},
     "output_type": "display_data"
    },
    {
     "name": "stdout",
     "output_type": "stream",
     "text": [
      "Submitted batch job 23447116\n",
      "Mary-Anesthesia-20170105-02\n",
      "Loading data ...\n",
      "Data loaded (took 154.89 seconds)\n",
      "2.5 2.5\n",
      "window = 2.5 s\n"
     ]
    },
    {
     "data": {
      "application/vnd.jupyter.widget-view+json": {
       "model_id": "6ea18879a76242aeb23f343fadf72dd1",
       "version_major": 2,
       "version_minor": 0
      },
      "text/plain": [
       "  0%|          | 0/3617 [00:00<?, ?it/s]"
      ]
     },
     "metadata": {},
     "output_type": "display_data"
    },
    {
     "name": "stdout",
     "output_type": "stream",
     "text": [
      "Submitted batch job 23447144\n",
      "MrJones-Anesthesia-20160425-01\n",
      "Loading data ...\n",
      "Data loaded (took 317.08 seconds)\n",
      "2.5 2.5\n",
      "window = 2.5 s\n"
     ]
    },
    {
     "data": {
      "application/vnd.jupyter.widget-view+json": {
       "model_id": "2b935bb105ad43998f0df51a489c2806",
       "version_major": 2,
       "version_minor": 0
      },
      "text/plain": [
       "  0%|          | 0/5661 [00:00<?, ?it/s]"
      ]
     },
     "metadata": {},
     "output_type": "display_data"
    },
    {
     "name": "stdout",
     "output_type": "stream",
     "text": [
      "Submitted batch job 23447207\n",
      "Mary-Anesthesia-20170127-03\n",
      "Loading data ...\n",
      "Data loaded (took 184.07 seconds)\n",
      "2.5 2.5\n",
      "window = 2.5 s\n"
     ]
    },
    {
     "data": {
      "application/vnd.jupyter.widget-view+json": {
       "model_id": "e1c8410149084b90bf545c76a89c54f5",
       "version_major": 2,
       "version_minor": 0
      },
      "text/plain": [
       "  0%|          | 0/3338 [00:00<?, ?it/s]"
      ]
     },
     "metadata": {},
     "output_type": "display_data"
    },
    {
     "name": "stdout",
     "output_type": "stream",
     "text": [
      "Submitted batch job 23447219\n",
      "MrJones-Anesthesia-20160412-01\n",
      "Loading data ...\n",
      "Data loaded (took 259.19 seconds)\n",
      "2.5 2.5\n",
      "window = 2.5 s\n"
     ]
    },
    {
     "data": {
      "application/vnd.jupyter.widget-view+json": {
       "model_id": "6f072fe68f6b4ede8c4820b42298f6a4",
       "version_major": 2,
       "version_minor": 0
      },
      "text/plain": [
       "  0%|          | 0/5779 [00:00<?, ?it/s]"
      ]
     },
     "metadata": {},
     "output_type": "display_data"
    },
    {
     "name": "stdout",
     "output_type": "stream",
     "text": [
      "Submitted batch job 23447243\n",
      "Mary-Anesthesia-20170118-02\n",
      "Loading data ...\n",
      "Data loaded (took 135.33 seconds)\n",
      "2.5 2.5\n",
      "window = 2.5 s\n"
     ]
    },
    {
     "data": {
      "application/vnd.jupyter.widget-view+json": {
       "model_id": "988cfee8f1a745ee90ba315bf0499b6e",
       "version_major": 2,
       "version_minor": 0
      },
      "text/plain": [
       "  0%|          | 0/3356 [00:00<?, ?it/s]"
      ]
     },
     "metadata": {},
     "output_type": "display_data"
    },
    {
     "name": "stdout",
     "output_type": "stream",
     "text": [
      "Submitted batch job 23447253\n",
      "MrJones-Anesthesia-20160509-01\n",
      "Loading data ...\n",
      "Data loaded (took 245.38 seconds)\n",
      "2.5 2.5\n",
      "window = 2.5 s\n"
     ]
    },
    {
     "data": {
      "application/vnd.jupyter.widget-view+json": {
       "model_id": "82a6e22b0f554fba968d3c6f3e7707d9",
       "version_major": 2,
       "version_minor": 0
      },
      "text/plain": [
       "  0%|          | 0/6442 [00:00<?, ?it/s]"
      ]
     },
     "metadata": {},
     "output_type": "display_data"
    },
    {
     "name": "stdout",
     "output_type": "stream",
     "text": [
      "Submitted batch job 23447267\n",
      "Mary-Anesthesia-20170130-03\n",
      "Loading data ...\n",
      "Data loaded (took 146.70 seconds)\n",
      "2.5 2.5\n",
      "window = 2.5 s\n"
     ]
    },
    {
     "data": {
      "application/vnd.jupyter.widget-view+json": {
       "model_id": "869d4cfa3fac403ba9f055199ace263d",
       "version_major": 2,
       "version_minor": 0
      },
      "text/plain": [
       "  0%|          | 0/3614 [00:00<?, ?it/s]"
      ]
     },
     "metadata": {},
     "output_type": "display_data"
    },
    {
     "name": "stdout",
     "output_type": "stream",
     "text": [
      "Submitted batch job 23447276\n",
      "MrJones-Anesthesia-20160421-01\n",
      "Loading data ...\n",
      "Data loaded (took 221.78 seconds)\n",
      "2.5 2.5\n",
      "window = 2.5 s\n"
     ]
    },
    {
     "data": {
      "application/vnd.jupyter.widget-view+json": {
       "model_id": "61bb40a642024798abedcd9feb29f2ae",
       "version_major": 2,
       "version_minor": 0
      },
      "text/plain": [
       "  0%|          | 0/5701 [00:00<?, ?it/s]"
      ]
     },
     "metadata": {},
     "output_type": "display_data"
    },
    {
     "name": "stdout",
     "output_type": "stream",
     "text": [
      "Submitted batch job 23447309\n",
      "MrJones-Anesthesia-20160414-01\n",
      "Loading data ...\n",
      "Data loaded (took 241.30 seconds)\n",
      "2.5 2.5\n",
      "window = 2.5 s\n"
     ]
    },
    {
     "data": {
      "application/vnd.jupyter.widget-view+json": {
       "model_id": "fec457f5a37948ebb58d9064e584522f",
       "version_major": 2,
       "version_minor": 0
      },
      "text/plain": [
       "  0%|          | 0/6205 [00:00<?, ?it/s]"
      ]
     },
     "metadata": {},
     "output_type": "display_data"
    },
    {
     "name": "stdout",
     "output_type": "stream",
     "text": [
      "Submitted batch job 23447320\n",
      "MrJones-Anesthesia-20160518-01\n",
      "Loading data ...\n",
      "Data loaded (took 269.77 seconds)\n",
      "2.5 2.5\n",
      "window = 2.5 s\n"
     ]
    },
    {
     "data": {
      "application/vnd.jupyter.widget-view+json": {
       "model_id": "5d567034288d47b19d5942314d099f0c",
       "version_major": 2,
       "version_minor": 0
      },
      "text/plain": [
       "  0%|          | 0/6928 [00:00<?, ?it/s]"
      ]
     },
     "metadata": {},
     "output_type": "display_data"
    },
    {
     "name": "stdout",
     "output_type": "stream",
     "text": [
      "Submitted batch job 23447327\n",
      "Mary-Anesthesia-20170113-02\n",
      "Loading data ...\n",
      "Data loaded (took 124.29 seconds)\n",
      "2.5 2.5\n",
      "window = 2.5 s\n"
     ]
    },
    {
     "data": {
      "application/vnd.jupyter.widget-view+json": {
       "model_id": "bf3522f3f6c34daea4376878a2297c71",
       "version_major": 2,
       "version_minor": 0
      },
      "text/plain": [
       "  0%|          | 0/3146 [00:00<?, ?it/s]"
      ]
     },
     "metadata": {},
     "output_type": "display_data"
    },
    {
     "name": "stdout",
     "output_type": "stream",
     "text": [
      "Submitted batch job 23447339\n",
      "Mary-Anesthesia-20170201-03\n",
      "Loading data ...\n",
      "Data loaded (took 175.33 seconds)\n",
      "2.5 2.5\n",
      "window = 2.5 s\n"
     ]
    },
    {
     "data": {
      "application/vnd.jupyter.widget-view+json": {
       "model_id": "a8664ae4b3b64af1accce3522b3a8a9d",
       "version_major": 2,
       "version_minor": 0
      },
      "text/plain": [
       "  0%|          | 0/4370 [00:00<?, ?it/s]"
      ]
     },
     "metadata": {},
     "output_type": "display_data"
    },
    {
     "name": "stdout",
     "output_type": "stream",
     "text": [
      "Submitted batch job 23447343\n",
      "MrJones-Anesthesia-20160423-02\n",
      "Loading data ...\n",
      "Data loaded (took 213.43 seconds)\n",
      "2.5 2.5\n",
      "window = 2.5 s\n"
     ]
    },
    {
     "data": {
      "application/vnd.jupyter.widget-view+json": {
       "model_id": "0926abda79c9428586132914afe3abe0",
       "version_major": 2,
       "version_minor": 0
      },
      "text/plain": [
       "  0%|          | 0/5398 [00:00<?, ?it/s]"
      ]
     },
     "metadata": {},
     "output_type": "display_data"
    },
    {
     "name": "stdout",
     "output_type": "stream",
     "text": [
      "Submitted batch job 23447349\n",
      "Mary-Anesthesia-20170120-02\n",
      "Loading data ...\n",
      "Data loaded (took 129.27 seconds)\n",
      "2.5 2.5\n",
      "window = 2.5 s\n"
     ]
    },
    {
     "data": {
      "application/vnd.jupyter.widget-view+json": {
       "model_id": "0d2471ef6dbc480fab5abdd863cdd860",
       "version_major": 2,
       "version_minor": 0
      },
      "text/plain": [
       "  0%|          | 0/3185 [00:00<?, ?it/s]"
      ]
     },
     "metadata": {},
     "output_type": "display_data"
    },
    {
     "name": "stdout",
     "output_type": "stream",
     "text": [
      "Submitted batch job 23447350\n",
      "MrJones-Anesthesia-20160513-01\n",
      "Loading data ...\n",
      "Data loaded (took 232.79 seconds)\n",
      "2.5 2.5\n",
      "window = 2.5 s\n"
     ]
    },
    {
     "data": {
      "application/vnd.jupyter.widget-view+json": {
       "model_id": "faf320abfb404335a06c0a14bc4dc431",
       "version_major": 2,
       "version_minor": 0
      },
      "text/plain": [
       "  0%|          | 0/6201 [00:00<?, ?it/s]"
      ]
     },
     "metadata": {},
     "output_type": "display_data"
    },
    {
     "name": "stdout",
     "output_type": "stream",
     "text": [
      "Submitted batch job 23447353\n"
     ]
    }
   ],
   "source": [
    "for session in tqdm(sessions_to_run):\n",
    "    print(f\"{session}\")\n",
    "    if not os.path.exists(os.path.join(data_dir, f\"{session}_window_{window}_stride_{stride}\")):\n",
    "        split_data_into_windows(session, os.path.dirname(data_dir), windows=[window], strides=[stride])\n",
    "    os.system(f'sbatch /om2/user/eisenaj/code/ChaoticConsciousness/shell_scripts/multiproc.sh {session} {window} {stride} {task_type}')"
   ]
  },
  {
   "cell_type": "markdown",
   "id": "d0c5633c",
   "metadata": {},
   "source": [
    "# Submit A Bunch of Windows"
   ]
  },
  {
   "cell_type": "code",
   "execution_count": 3,
   "id": "ab793600",
   "metadata": {},
   "outputs": [],
   "source": [
    "data_dir = \"/om/user/eisenaj/datasets/anesthesia/mat/propofolPuffTone\"\n",
    "results_dir = \"/om/user/eisenaj/ChaoticConsciousness/results/propofolPuffTone/VAR\"\n",
    "# session = 'MrJones-Anesthesia-20160105-01'\n",
    "# session = 'Mary-Anesthesia-20160916-02'\n",
    "session = 'MrJones-Anesthesia-20160301-01'\n",
    "windows = [0.5, 1, 1.5, 2, 2.5, 3, 3.5, 4, 4.5, 5, 5.5, 6, 6.5, 7, 7.5, 8, 8.5, 9, 9.5, 10]\n",
    "# windows = [5]\n",
    "task_type = 'VAR'\n",
    "\n",
    "windows_to_run = []\n",
    "for window in windows:\n",
    "    try:\n",
    "        get_result_path(results_dir, session, window, window)\n",
    "    except:\n",
    "        windows_to_run.append(window)"
   ]
  },
  {
   "cell_type": "code",
   "execution_count": 4,
   "id": "20fde1e9",
   "metadata": {},
   "outputs": [
    {
     "name": "stdout",
     "output_type": "stream",
     "text": [
      "Loading data ...\n",
      "Data loaded (took 211.95 seconds)\n",
      "0.5 0.5\n",
      "window = 0.5 s\n"
     ]
    },
    {
     "data": {
      "application/vnd.jupyter.widget-view+json": {
       "model_id": "48a240d3dd6d4f47b69d42665e22b445",
       "version_major": 2,
       "version_minor": 0
      },
      "text/plain": [
       "  0%|          | 0/19747 [00:00<?, ?it/s]"
      ]
     },
     "metadata": {},
     "output_type": "display_data"
    },
    {
     "name": "stdout",
     "output_type": "stream",
     "text": [
      "1 1\n",
      "window = 1 s\n"
     ]
    },
    {
     "data": {
      "application/vnd.jupyter.widget-view+json": {
       "model_id": "9a08ba4c9bc54a6f8b866efceeb79729",
       "version_major": 2,
       "version_minor": 0
      },
      "text/plain": [
       "  0%|          | 0/9873 [00:00<?, ?it/s]"
      ]
     },
     "metadata": {},
     "output_type": "display_data"
    },
    {
     "name": "stdout",
     "output_type": "stream",
     "text": [
      "1.5 1.5\n",
      "window = 1.5 s\n"
     ]
    },
    {
     "data": {
      "application/vnd.jupyter.widget-view+json": {
       "model_id": "3cd01c4b17794c2fb176d1c869eec4e2",
       "version_major": 2,
       "version_minor": 0
      },
      "text/plain": [
       "  0%|          | 0/6582 [00:00<?, ?it/s]"
      ]
     },
     "metadata": {},
     "output_type": "display_data"
    },
    {
     "name": "stdout",
     "output_type": "stream",
     "text": [
      "2 2\n",
      "window = 2 s\n"
     ]
    },
    {
     "data": {
      "application/vnd.jupyter.widget-view+json": {
       "model_id": "0f01bc368b314aa39dc8f6b622f0b32c",
       "version_major": 2,
       "version_minor": 0
      },
      "text/plain": [
       "  0%|          | 0/4936 [00:00<?, ?it/s]"
      ]
     },
     "metadata": {},
     "output_type": "display_data"
    },
    {
     "name": "stdout",
     "output_type": "stream",
     "text": [
      "3 3\n",
      "window = 3 s\n"
     ]
    },
    {
     "data": {
      "application/vnd.jupyter.widget-view+json": {
       "model_id": "cad1826c8b4145c48c801029b8c424e1",
       "version_major": 2,
       "version_minor": 0
      },
      "text/plain": [
       "  0%|          | 0/3291 [00:00<?, ?it/s]"
      ]
     },
     "metadata": {},
     "output_type": "display_data"
    },
    {
     "name": "stdout",
     "output_type": "stream",
     "text": [
      "3.5 3.5\n",
      "window = 3.5 s\n"
     ]
    },
    {
     "data": {
      "application/vnd.jupyter.widget-view+json": {
       "model_id": "7bdf65ef44214cff9a9bfffb0b5143fe",
       "version_major": 2,
       "version_minor": 0
      },
      "text/plain": [
       "  0%|          | 0/2821 [00:00<?, ?it/s]"
      ]
     },
     "metadata": {},
     "output_type": "display_data"
    },
    {
     "name": "stdout",
     "output_type": "stream",
     "text": [
      "4 4\n",
      "window = 4 s\n"
     ]
    },
    {
     "data": {
      "application/vnd.jupyter.widget-view+json": {
       "model_id": "82624477eaaf4938bb612f802c8c804a",
       "version_major": 2,
       "version_minor": 0
      },
      "text/plain": [
       "  0%|          | 0/2468 [00:00<?, ?it/s]"
      ]
     },
     "metadata": {},
     "output_type": "display_data"
    },
    {
     "name": "stdout",
     "output_type": "stream",
     "text": [
      "4.5 4.5\n",
      "window = 4.5 s\n"
     ]
    },
    {
     "data": {
      "application/vnd.jupyter.widget-view+json": {
       "model_id": "7cafa73a84c044bf87aa7b3518ffe07c",
       "version_major": 2,
       "version_minor": 0
      },
      "text/plain": [
       "  0%|          | 0/2194 [00:00<?, ?it/s]"
      ]
     },
     "metadata": {},
     "output_type": "display_data"
    },
    {
     "name": "stdout",
     "output_type": "stream",
     "text": [
      "5.5 5.5\n",
      "window = 5.5 s\n"
     ]
    },
    {
     "data": {
      "application/vnd.jupyter.widget-view+json": {
       "model_id": "550c0fc9b9994501a34936e2feeacb3f",
       "version_major": 2,
       "version_minor": 0
      },
      "text/plain": [
       "  0%|          | 0/1795 [00:00<?, ?it/s]"
      ]
     },
     "metadata": {},
     "output_type": "display_data"
    },
    {
     "name": "stdout",
     "output_type": "stream",
     "text": [
      "6 6\n",
      "window = 6 s\n"
     ]
    },
    {
     "data": {
      "application/vnd.jupyter.widget-view+json": {
       "model_id": "8b6765161f4740f0b94b8e1c638b3a84",
       "version_major": 2,
       "version_minor": 0
      },
      "text/plain": [
       "  0%|          | 0/1645 [00:00<?, ?it/s]"
      ]
     },
     "metadata": {},
     "output_type": "display_data"
    },
    {
     "name": "stdout",
     "output_type": "stream",
     "text": [
      "6.5 6.5\n",
      "window = 6.5 s\n"
     ]
    },
    {
     "data": {
      "application/vnd.jupyter.widget-view+json": {
       "model_id": "39daf04f315b44e1be53a7ce14bf4cb3",
       "version_major": 2,
       "version_minor": 0
      },
      "text/plain": [
       "  0%|          | 0/1519 [00:00<?, ?it/s]"
      ]
     },
     "metadata": {},
     "output_type": "display_data"
    },
    {
     "name": "stdout",
     "output_type": "stream",
     "text": [
      "7 7\n",
      "window = 7 s\n"
     ]
    },
    {
     "data": {
      "application/vnd.jupyter.widget-view+json": {
       "model_id": "ec4ba33585fd40e9bd6369e9b1dbdfe2",
       "version_major": 2,
       "version_minor": 0
      },
      "text/plain": [
       "  0%|          | 0/1410 [00:00<?, ?it/s]"
      ]
     },
     "metadata": {},
     "output_type": "display_data"
    },
    {
     "name": "stdout",
     "output_type": "stream",
     "text": [
      "7.5 7.5\n",
      "window = 7.5 s\n"
     ]
    },
    {
     "data": {
      "application/vnd.jupyter.widget-view+json": {
       "model_id": "8a656f6681304066a31938f00bca9a6a",
       "version_major": 2,
       "version_minor": 0
      },
      "text/plain": [
       "  0%|          | 0/1316 [00:00<?, ?it/s]"
      ]
     },
     "metadata": {},
     "output_type": "display_data"
    },
    {
     "name": "stdout",
     "output_type": "stream",
     "text": [
      "8 8\n",
      "window = 8 s\n"
     ]
    },
    {
     "data": {
      "application/vnd.jupyter.widget-view+json": {
       "model_id": "e31e35821cc741ddbff3a8158905387a",
       "version_major": 2,
       "version_minor": 0
      },
      "text/plain": [
       "  0%|          | 0/1234 [00:00<?, ?it/s]"
      ]
     },
     "metadata": {},
     "output_type": "display_data"
    },
    {
     "name": "stdout",
     "output_type": "stream",
     "text": [
      "8.5 8.5\n",
      "window = 8.5 s\n"
     ]
    },
    {
     "data": {
      "application/vnd.jupyter.widget-view+json": {
       "model_id": "bc8f26f89755436abd041c4bfadef675",
       "version_major": 2,
       "version_minor": 0
      },
      "text/plain": [
       "  0%|          | 0/1161 [00:00<?, ?it/s]"
      ]
     },
     "metadata": {},
     "output_type": "display_data"
    },
    {
     "name": "stdout",
     "output_type": "stream",
     "text": [
      "9 9\n",
      "window = 9 s\n"
     ]
    },
    {
     "data": {
      "application/vnd.jupyter.widget-view+json": {
       "model_id": "a9749710d9ba4844823aabd0d52d1fb6",
       "version_major": 2,
       "version_minor": 0
      },
      "text/plain": [
       "  0%|          | 0/1097 [00:00<?, ?it/s]"
      ]
     },
     "metadata": {},
     "output_type": "display_data"
    },
    {
     "name": "stdout",
     "output_type": "stream",
     "text": [
      "9.5 9.5\n",
      "window = 9.5 s\n"
     ]
    },
    {
     "data": {
      "application/vnd.jupyter.widget-view+json": {
       "model_id": "e5a555df26114be5b97e653efdf3ac4c",
       "version_major": 2,
       "version_minor": 0
      },
      "text/plain": [
       "  0%|          | 0/1039 [00:00<?, ?it/s]"
      ]
     },
     "metadata": {},
     "output_type": "display_data"
    },
    {
     "name": "stdout",
     "output_type": "stream",
     "text": [
      "10 10\n",
      "window = 10 s\n"
     ]
    },
    {
     "data": {
      "application/vnd.jupyter.widget-view+json": {
       "model_id": "ffa0059a229449a7810b3f5411224411",
       "version_major": 2,
       "version_minor": 0
      },
      "text/plain": [
       "  0%|          | 0/987 [00:00<?, ?it/s]"
      ]
     },
     "metadata": {},
     "output_type": "display_data"
    }
   ],
   "source": [
    "windows_to_split = []\n",
    "for window in windows_to_run:\n",
    "    stride = window\n",
    "    if not os.path.exists(os.path.join(data_dir, f\"{session}_window_{window}_stride_{stride}\")):\n",
    "        windows_to_split.append(window)\n",
    "if len(windows_to_split) > 0:\n",
    "    split_data_into_windows(session, os.path.dirname(data_dir), windows=windows_to_split, strides=windows_to_split)\n",
    "else:\n",
    "    print(\"All windows already split.\")"
   ]
  },
  {
   "cell_type": "code",
   "execution_count": 5,
   "id": "437ff148",
   "metadata": {},
   "outputs": [
    {
     "name": "stdout",
     "output_type": "stream",
     "text": [
      "Submitted batch job 23526017\n",
      "Submitted batch job 23526018\n",
      "Submitted batch job 23526019\n",
      "Submitted batch job 23526020\n",
      "Submitted batch job 23526021\n",
      "Submitted batch job 23526022\n",
      "Submitted batch job 23526023\n",
      "Submitted batch job 23526024\n",
      "Submitted batch job 23526025\n",
      "Submitted batch job 23526026\n",
      "Submitted batch job 23526027\n",
      "Submitted batch job 23526028\n",
      "Submitted batch job 23526036\n",
      "Submitted batch job 23526039\n",
      "Submitted batch job 23526048\n",
      "Submitted batch job 23526058\n",
      "Submitted batch job 23526059\n",
      "Submitted batch job 23526060\n"
     ]
    }
   ],
   "source": [
    "for window in windows_to_run:\n",
    "    stride = window\n",
    "    os.system(f'sbatch /om2/user/eisenaj/code/ChaoticConsciousness/shell_scripts/multiproc.sh {session} {window} {stride} {task_type}')"
   ]
  },
  {
   "cell_type": "markdown",
   "id": "65e89edd",
   "metadata": {},
   "source": [
    "# Test"
   ]
  },
  {
   "cell_type": "code",
   "execution_count": 13,
   "id": "def12426",
   "metadata": {},
   "outputs": [],
   "source": [
    "from utils import get_data_class\n",
    "import time\n",
    "from neural_analysis.matIO import loadmat"
   ]
  },
  {
   "cell_type": "code",
   "execution_count": 26,
   "id": "7993bc92",
   "metadata": {},
   "outputs": [
    {
     "name": "stdout",
     "output_type": "stream",
     "text": [
      "Loading data ...\n",
      "Data loaded (took 152.78 seconds)\n"
     ]
    }
   ],
   "source": [
    "# session = results_to_process[0][0]\n",
    "session = 'MrJones-Anesthesia-20160206-01'\n",
    "# VAR_results_dir = results_to_process[0][1]\n",
    "\n",
    "all_data_dir = f\"/om/user/eisenaj/datasets/anesthesia/mat\"\n",
    "    \n",
    "data_class = get_data_class(session, all_data_dir)\n",
    "save_dir = f\"/om/user/eisenaj/ChaoticConsciousness/plots/{data_class}/VAR/{session}\"\n",
    "os.makedirs(save_dir, exist_ok=True)\n",
    "\n",
    "# LOAD NEURAL DATA    \n",
    "filename = os.path.join(all_data_dir, data_class, f'{session}.mat')\n",
    "print(\"Loading data ...\")\n",
    "start = time.process_time()\n",
    "electrode_info, lfp, lfp_schema, session_info, spike_times, unit_info = loadmat(filename, variables=['electrodeInfo', 'lfp', 'lfpSchema', 'sessionInfo', 'spikeTimes', 'unitInfo'], verbose=False)\n",
    "spike_times = spike_times[0]\n",
    "dt = lfp_schema['smpInterval'][0]\n",
    "# T = lfp.shape[0]\n",
    "\n",
    "print(f\"Data loaded (took {time.process_time() - start:.2f} seconds)\")\n",
    "\n",
    "# # LOAD VAR RESULTS\n",
    "# VAR_results = {}\n",
    "# for file in tqdm(os.listdir(VAR_results_dir)):\n",
    "#     try:\n",
    "#         VAR_results[file] = load(os.path.join(VAR_results_dir, file))\n",
    "#     except IsADirectoryError:\n",
    "#         print(f\"Need to compile {os.path.join(VAR_results_dir, file)}\")\n",
    "#         # compile results\n",
    "#         VAR_results[file] = compile_folder(os.path.join(VAR_results_dir, file))"
   ]
  },
  {
   "cell_type": "code",
   "execution_count": 27,
   "id": "8636aeac",
   "metadata": {},
   "outputs": [
    {
     "data": {
      "text/plain": [
       "(10669628, 232)"
      ]
     },
     "execution_count": 27,
     "metadata": {},
     "output_type": "execute_result"
    }
   ],
   "source": [
    "lfp.shape"
   ]
  },
  {
   "cell_type": "code",
   "execution_count": 28,
   "id": "a400f911",
   "metadata": {},
   "outputs": [
    {
     "data": {
      "text/plain": [
       "233"
      ]
     },
     "execution_count": 28,
     "metadata": {},
     "output_type": "execute_result"
    }
   ],
   "source": [
    "len(electrode_info['area'])"
   ]
  },
  {
   "cell_type": "code",
   "execution_count": null,
   "id": "1a73d165",
   "metadata": {},
   "outputs": [],
   "source": []
  }
 ],
 "metadata": {
  "kernelspec": {
   "display_name": "Python 3 (ipykernel)",
   "language": "python",
   "name": "python3"
  },
  "language_info": {
   "codemirror_mode": {
    "name": "ipython",
    "version": 3
   },
   "file_extension": ".py",
   "mimetype": "text/x-python",
   "name": "python",
   "nbconvert_exporter": "python",
   "pygments_lexer": "ipython3",
   "version": "3.9.1"
  }
 },
 "nbformat": 4,
 "nbformat_minor": 5
}
