{
 "cells": [
  {
   "cell_type": "code",
   "execution_count": 1,
   "id": "8a49507d",
   "metadata": {},
   "outputs": [],
   "source": [
    "%load_ext autoreload"
   ]
  },
  {
   "cell_type": "code",
   "execution_count": 2,
   "id": "3e2872e2",
   "metadata": {},
   "outputs": [],
   "source": [
    "%autoreload 2\n",
    "\n",
    "import argparse\n",
    "from copy import deepcopy\n",
    "import logging\n",
    "from matplotlib.cm import get_cmap, ScalarMappable\n",
    "from matplotlib.colors import Normalize\n",
    "import matplotlib.pyplot as plt\n",
    "import pandas as pd\n",
    "import scipy\n",
    "from sklearn.metrics import r2_score\n",
    "import sys\n",
    "\n",
    "sys.path.append('..')\n",
    "\n",
    "from data_utils import *\n",
    "\n",
    "sys.path.append('/om2/user/eisenaj/code/DeLASE')\n",
    "from delase import *\n",
    "from stability_estimation import *\n",
    "from parameter_choosing import *\n",
    "from performance_metrics import *\n",
    "from plot import *"
   ]
  },
  {
   "cell_type": "markdown",
   "id": "1cd59886",
   "metadata": {},
   "source": [
    "# Arguments + Parameters"
   ]
  },
  {
   "cell_type": "code",
   "execution_count": 3,
   "id": "f87dcec0",
   "metadata": {},
   "outputs": [],
   "source": [
    "data_processing_args_dir = \"/scratch2/weka/millerlab/eisenaj/ChaoticConsciousness/data_processing_args\""
   ]
  },
  {
   "cell_type": "markdown",
   "id": "56d072bd",
   "metadata": {},
   "source": [
    "# Batch Queue"
   ]
  },
  {
   "cell_type": "code",
   "execution_count": 4,
   "id": "350d594f",
   "metadata": {},
   "outputs": [],
   "source": [
    "mp_args = dict(\n",
    "    # ----------------------\n",
    "    # MULTIPROCESSING ARGUMENTS\n",
    "    # ----------------------\n",
    "    USE_TORCH=True,\n",
    "    USE_CUDA=False,\n",
    "    DTYPE='torch.DoubleTensor',\n",
    "    NUM_WORKERS=20,\n",
    "#     NUM_WORKERS=4,\n",
    "    USE_LOGGING=True,\n",
    "    LOG_DIR=\"/om2/user/eisenaj/code/shell_scripts/DeLASE\",\n",
    "    LOG_NAME='mp_delase',\n",
    "    LOG_LEVEL=logging.DEBUG,\n",
    "    RESULTS_DIR='/scratch2/weka/millerlab/eisenaj/ChaoticConsciousness/performance_results',\n",
    "    \n",
    "    COMPUTE_IP=True,\n",
    "    COMPUTE_CHROOTS=False,\n",
    "    SAVE_JACOBIANS=False,\n",
    "    TRACK_RESEEDS=True,\n",
    "    NORM = False,\n",
    "    NORM_AIC=True,\n",
    "    \n",
    "    QUEUE_FULL_SESSION=True,\n",
    "\n",
    "    # ----------------------\n",
    "    # DYNAMICAL SYSTEMS ARGUMENTS\n",
    "    # ----------------------\n",
    "    parameter_grid=ParameterGrid(\n",
    "                        window_vals=np.array([15000]),\n",
    "                        matrix_size_vals=np.array([750]),\n",
    "                        r_vals=np.array([750]),\n",
    "                        reseed=True,\n",
    "                        reseed_vals=np.array([1, 5, 10, 15, 20, 30, 40, 50, 100, 150, 200, 250, 300, 400, 500, 750, 1000])\n",
    "                    ),\n",
    "    T_pred=15000, # time steps\n",
    "    dt = 0.001, # s\n",
    "    integrated_performance_kwargs = dict(\n",
    "        metrics=['autocorrel_correl', 'fft_correl', 'fft_r2'], \n",
    "        weights='equal',\n",
    "        num_lags=500,\n",
    "        max_freq=200,\n",
    "        fft_n=1000,\n",
    "    ),\n",
    "#     integrated_performance_kwargs = {},\n",
    "    stability_max_freq = 500,\n",
    "    stability_max_unstable_freq = 125,\n",
    "    \n",
    ")\n",
    "mp_args = argparse.Namespace(**mp_args)"
   ]
  },
  {
   "cell_type": "code",
   "execution_count": 5,
   "id": "08e0b288",
   "metadata": {},
   "outputs": [],
   "source": [
    "# session_list = [\n",
    "#     'MrJones-Anesthesia-20160113-01',\n",
    "#     'Mary-Anesthesia-20160809-01',\n",
    "#     'MrJones-Anesthesia-20160105-01',\n",
    "#     'Mary-Anesthesia-20160818-02',\n",
    "#     'MrJones-Anesthesia-20160121-01',\n",
    "#     'Mary-Anesthesia-20160831-02',\n",
    "#     'MrJones-Anesthesia-20160123-01'\n",
    "# ]\n",
    "\n",
    "# session_list = [\n",
    "#     'Mary-Anesthesia-20160902-02',\n",
    "#     'Mary-Anesthesia-20160908-02',\n",
    "#     'Mary-Anesthesia-20160914-02',\n",
    "#     'Mary-Anesthesia-20160916-02',\n",
    "\n",
    "#     'MrJones-Anesthesia-20160125-01',\n",
    "#     'MrJones-Anesthesia-20160201-01',\n",
    "#     'MrJones-Anesthesia-20160206-01',\n",
    "#     'MrJones-Anesthesia-20160210-01',\n",
    "#     'MrJones-Anesthesia-20160301-01'\n",
    "# ]\n",
    "\n",
    "session_list = os.listdir(\"/scratch2/weka/millerlab/eisenaj/ChaoticConsciousness/grid_search_results\")"
   ]
  },
  {
   "cell_type": "code",
   "execution_count": 6,
   "id": "fcf4c2d6",
   "metadata": {},
   "outputs": [],
   "source": [
    "session_list = session_list[1:2]\n",
    "# session_list = session_list[4:]"
   ]
  },
  {
   "cell_type": "code",
   "execution_count": 7,
   "id": "c91cb24a",
   "metadata": {},
   "outputs": [
    {
     "data": {
      "text/plain": [
       "['MrJones-Anesthesia-20160301-01']"
      ]
     },
     "execution_count": 7,
     "metadata": {},
     "output_type": "execute_result"
    }
   ],
   "source": [
    "session_list"
   ]
  },
  {
   "cell_type": "code",
   "execution_count": 8,
   "id": "4d794d5a",
   "metadata": {},
   "outputs": [
    {
     "data": {
      "application/vnd.jupyter.widget-view+json": {
       "model_id": "ed109d2630bf4680bf712d7aca74e68a",
       "version_major": 2,
       "version_minor": 0
      },
      "text/plain": [
       "  0%|          | 0/1 [00:00<?, ?it/s]"
      ]
     },
     "metadata": {},
     "output_type": "display_data"
    },
    {
     "name": "stdout",
     "output_type": "stream",
     "text": [
      "------------------------------\n",
      "SESSION = MrJones-Anesthesia-20160301-01\n",
      "------------------------------\n",
      "loading data...\n",
      "data loaded!\n",
      "loading directory\n",
      "directory loaded!\n",
      "Grid search results loaded!\n",
      "Submitted batch job 30489920\n",
      "Submitted batch job 30489921\n",
      "Submitted batch job 30489922\n",
      "Submitted batch job 30489923\n",
      "Submitted batch job 30489924\n"
     ]
    }
   ],
   "source": [
    "norm_folder = \"NOT_NORMED\" if not mp_args.NORM else \"NORMED\"\n",
    "for session in tqdm(session_list):\n",
    "    print(\"-\"*30)\n",
    "    print(f'SESSION = {session}')\n",
    "    print(\"-\"*30)\n",
    "    # -----------------------------------------\n",
    "    # LOAD DATA AND DIRECTORY\n",
    "    # -----------------------------------------\n",
    "    print(\"loading data...\")\n",
    "    all_data_dir = '/scratch2/weka/millerlab/eisenaj/datasets/anesthesia/mat'\n",
    "    data_class = get_data_class(session, all_data_dir)\n",
    "\n",
    "    os.environ[\"HDF5_USE_FILE_LOCKING\"] = \"FALSE\"\n",
    "    # variables = ['electrodeInfo', 'lfp', 'lfpSchema', 'sessionInfo', 'trialInfo', 'unitInfo']\n",
    "    # session_vars, T, N, dt = load_session_data(session, all_data_dir, variables, data_class=data_class, verbose=False)\n",
    "    # electrode_info, lfp, lfp_schema, session_info, trial_info, unit_info = session_vars['electrodeInfo'], session_vars['lfp'], session_vars['lfpSchema'], session_vars['sessionInfo'], session_vars['trialInfo'], session_vars['unitInfo']\n",
    "\n",
    "    variables = ['electrodeInfo', 'lfpSchema', 'sessionInfo', 'trialInfo', 'unitInfo']\n",
    "    session_vars, T, N, dt = load_session_data(session, all_data_dir, variables, data_class=data_class, verbose=False)\n",
    "    electrode_info, lfp_schema, session_info, trial_info, unit_info = session_vars['electrodeInfo'], session_vars['lfpSchema'], session_vars['sessionInfo'], session_vars['trialInfo'], session_vars['unitInfo']\n",
    "\n",
    "    eyes_close = session_info['eyesClose'][-1] if isinstance(session_info['eyesClose'], np.ndarray) else session_info['eyesClose'] \n",
    "    section_times = dict( \n",
    "            pre=(0, session_info['drugStart'][0]),\n",
    "            induction=(session_info['drugStart'][0], eyes_close),\n",
    "            during=(eyes_close, session_info['drugEnd'][1]),\n",
    "            post=(session_info['drugEnd'][1], T*dt)\n",
    "    )\n",
    "    sections = list(section_times.keys())\n",
    "#     areas = np.unique(electrode_info['area'])\n",
    "    # areas = np.hstack([areas, 'all'])\n",
    "    areas = ['all']\n",
    "    \n",
    "    print(\"data loaded!\")\n",
    "    print(\"loading directory\")\n",
    "    \n",
    "    chunked_folder = [f for f in os.listdir(os.path.join(all_data_dir, data_class)) if f.startswith(session) and 'chunked' in f]\n",
    "    if len(chunked_folder) == 0:\n",
    "        print(f\"Chunked folder for {session} not found in {os.path.join(all_data_dir, data_class)}\")\n",
    "    else:\n",
    "        chunked_folder = chunked_folder[0]\n",
    "\n",
    "    directory = pd.read_pickle(os.path.join(all_data_dir, data_class, chunked_folder, 'directory'))\n",
    "    \n",
    "    print(\"directory loaded!\")\n",
    "    \n",
    "    # -----------------------------------------\n",
    "    # PREP AND QUEUE\n",
    "    # -----------------------------------------\n",
    "    \n",
    "    session_results = {}\n",
    "    session_results[session] = {}\n",
    "    # data_processing_df_grid = deepcopy(mp_args.data_processing_df)\n",
    "\n",
    "    grid_results_dir = '/scratch2/weka/millerlab/eisenaj/ChaoticConsciousness/grid_search_results'\n",
    "    areas = os.listdir(os.path.join(grid_results_dir, session, norm_folder))\n",
    "\n",
    "    for area in areas:\n",
    "        df = pd.DataFrame({'window': [], 'matrix_size': [], 'r': [], 'AICs': [], 'time_vals': [], 'file_paths': []}).set_index(['window', 'matrix_size', 'r'])\n",
    "        for f in os.listdir(os.path.join(grid_results_dir, session, norm_folder, area)):\n",
    "            t = float(f.split('_')[0])\n",
    "            file_path = os.path.join(grid_results_dir, session, norm_folder, area, f)\n",
    "            df_new = pd.DataFrame(pd.read_pickle(file_path))\n",
    "            if np.isnan(df_new.AIC).sum() > 0:\n",
    "                print(file_path)\n",
    "            df_new = df_new.set_index(['window', 'matrix_size', 'r'])\n",
    "            for i, row in df_new.iterrows():\n",
    "                if i in df.index:\n",
    "                    df.loc[i, 'AICs'].append(row.AIC)\n",
    "                    df.loc[i, 'time_vals'].append(t)\n",
    "                    df.loc[i, 'file_paths'].append(file_path)\n",
    "                else:\n",
    "                    df.loc[i] = {'AICs': [row.AIC], 'time_vals': [t], 'file_paths': [file_path]}\n",
    "\n",
    "        df = df.loc[df.index.sortlevel()[0]]\n",
    "        session_results[session][area] = df\n",
    "    \n",
    "    print(\"Grid search results loaded!\")\n",
    "\n",
    "    # ================\n",
    "    # INDIVIDUAL AREAS\n",
    "    # ================ \n",
    "    window, matrix_size, r, all_results = combine_grid_results({key: result for key, result in session_results[session].items() if key !='all'})\n",
    "\n",
    "    # ================\n",
    "    # ALL AREAS\n",
    "    # ================ \n",
    "    if 'all' in session_results[session].keys():\n",
    "        window_all, matrix_size_all, r_all, all_results_all = combine_grid_results({key: result for key, result in session_results[session].items() if key =='all'})\n",
    "\n",
    "    # ================\n",
    "    # QUEUE A JOB FOR EACH AREA\n",
    "    # ================ \n",
    "    for area in areas:\n",
    "        data_processing_rows = []\n",
    "        if area != 'all':\n",
    "            stride = window\n",
    "            mp_args.parameter_grid = ParameterGrid(\n",
    "                window_vals = np.array([window]),\n",
    "                matrix_size_vals = np.array([matrix_size]),\n",
    "                r_vals = np.array([r]),\n",
    "                reseed=mp_args.parameter_grid.reseed,\n",
    "                reseed_vals=mp_args.parameter_grid.reseed_vals,\n",
    "            )\n",
    "        else:\n",
    "            stride = window_all\n",
    "            mp_args.parameter_grid = ParameterGrid(\n",
    "                window_vals = np.array([window_all]),\n",
    "                matrix_size_vals = np.array([matrix_size_all]),\n",
    "                r_vals = np.array([r_all]),\n",
    "                reseed=mp_args.parameter_grid.reseed,\n",
    "                reseed_vals=mp_args.parameter_grid.reseed_vals,\n",
    "            )\n",
    "        results_dir = os.path.join(mp_args.RESULTS_DIR, os.path.join(session, 'NORMED' if mp_args.NORM else 'NOT_NORMED', area))\n",
    "\n",
    "        if area == 'all':\n",
    "            unit_indices = np.arange(len(electrode_info['area']))\n",
    "        else:\n",
    "            unit_indices = np.where(electrode_info['area'] == area)[0]\n",
    "\n",
    "        t = 0\n",
    "        while t + window <= len(lfp_schema['index'][0]):\n",
    "            finished = True\n",
    "            file_path = os.path.join(results_dir, f\"{int(t)/1000}_window_{window}_{mp_args.parameter_grid.expansion_type}_{matrix_size}\")\n",
    "            if not os.path.exists(file_path):\n",
    "                row = dict(\n",
    "                    session=session,\n",
    "                    area=area,\n",
    "                    window_start=t*mp_args.dt,\n",
    "                    window_end=(t + window + mp_args.T_pred)*mp_args.dt,\n",
    "                    directory=directory,\n",
    "                    dimension_inds=unit_indices\n",
    "                )\n",
    "                data_processing_rows.append(row)\n",
    "            t += stride\n",
    "        data_processing_df = pd.DataFrame(data_processing_rows)\n",
    "        if len(data_processing_df) > 0:\n",
    "            mp_args.data_processing_df = data_processing_df\n",
    "            data_processing_path = os.path.join(data_processing_args_dir, f\"mp_args_{session}_FULL{'_NORMED' if mp_args.NORM else ''}_{area}.pkl\")\n",
    "            mp_args.QUEUE_FULL_SESSION = False\n",
    "            if area == 'all':\n",
    "                mp_args.SAVE_JACOBIANS = True\n",
    "            else:\n",
    "                mp_args.SAVE_JACOBIANS = False\n",
    "            pd.to_pickle(vars(mp_args), data_processing_path)\n",
    "\n",
    "            if not mp_args.USE_CUDA:\n",
    "                os.system(f\"sbatch --gres=gpu:0 --ntasks=1 --cpus-per-task={int(mp_args.NUM_WORKERS) + 4} --mem={int(mp_args.NUM_WORKERS*8)}GB /om2/user/eisenaj/code/shell_scripts/DeLASE/mp_delase.sh {data_processing_path}\")\n",
    "            else:\n",
    "                os.system(f\"sbatch --gres=gpu:{mp_args.NUM_WORKERS} /om2/user/eisenaj/code/shell_scripts/DeLASE/mp_delase.sh {data_processing_path}\")"
   ]
  },
  {
   "cell_type": "code",
   "execution_count": 101,
   "id": "3b3f5be0",
   "metadata": {},
   "outputs": [
    {
     "name": "stdout",
     "output_type": "stream",
     "text": [
      "             JOBID PARTITION     NAME     USER ST       TIME  NODES NODELIST(REASON)\n",
      "          30391956 millerlab cha-jupy  eisenaj  R   22:54:03      1 node103\n",
      "          30411908    normal   delase  eisenaj  R       1:48      1 node102\n",
      "          30411909    normal   delase  eisenaj  R       1:48      1 dgx002\n",
      "          30411910    normal   delase  eisenaj  R       1:48      1 node104\n",
      "          30411911    normal   delase  eisenaj  R       1:48      1 node078\n",
      "          30411907    normal   delase  eisenaj  R       1:49      1 node106\n"
     ]
    },
    {
     "data": {
      "text/plain": [
       "0"
      ]
     },
     "execution_count": 101,
     "metadata": {},
     "output_type": "execute_result"
    }
   ],
   "source": [
    "os.system(\"squeue -u eisenaj\")"
   ]
  },
  {
   "cell_type": "code",
   "execution_count": 86,
   "id": "f42a34e6",
   "metadata": {},
   "outputs": [
    {
     "data": {
      "text/plain": [
       "0"
      ]
     },
     "execution_count": 86,
     "metadata": {},
     "output_type": "execute_result"
    }
   ],
   "source": [
    "os.system('scancel {30411891..30411895}')"
   ]
  },
  {
   "cell_type": "code",
   "execution_count": 93,
   "id": "6c9a8599",
   "metadata": {},
   "outputs": [],
   "source": [
    "del ParameterGrid"
   ]
  },
  {
   "cell_type": "code",
   "execution_count": null,
   "id": "5329ea36",
   "metadata": {},
   "outputs": [],
   "source": []
  }
 ],
 "metadata": {
  "kernelspec": {
   "display_name": "Python 3 (ipykernel)",
   "language": "python",
   "name": "python3"
  },
  "language_info": {
   "codemirror_mode": {
    "name": "ipython",
    "version": 3
   },
   "file_extension": ".py",
   "mimetype": "text/x-python",
   "name": "python",
   "nbconvert_exporter": "python",
   "pygments_lexer": "ipython3",
   "version": "3.9.1"
  }
 },
 "nbformat": 4,
 "nbformat_minor": 5
}
